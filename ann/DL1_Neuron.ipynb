{
  "nbformat": 4,
  "nbformat_minor": 0,
  "metadata": {
    "colab": {
      "name": "DL1_Neuron",
      "version": "0.3.2",
      "provenance": [],
      "collapsed_sections": [],
      "toc_visible": true,
      "include_colab_link": true
    },
    "kernelspec": {
      "display_name": "Python 3",
      "language": "python",
      "name": "python3"
    }
  },
  "cells": [
    {
      "cell_type": "markdown",
      "metadata": {
        "id": "view-in-github",
        "colab_type": "text"
      },
      "source": [
        "<a href=\"https://colab.research.google.com/github/zza0818/py-11/blob/master/ann/DL1_Neuron.ipynb\" target=\"_parent\"><img src=\"https://colab.research.google.com/assets/colab-badge.svg\" alt=\"Open In Colab\"/></a>"
      ]
    },
    {
      "metadata": {
        "id": "TY1InxY7ZksQ",
        "colab_type": "text"
      },
      "cell_type": "markdown",
      "source": [
        "[link:DeepLearningFastStart](https://github.com/alfredessa/DeepLearningFastStart/blob/master/DL-Neuron.ipynb)"
      ]
    },
    {
      "metadata": {
        "id": "9_P39a1nZksT",
        "colab_type": "code",
        "outputId": "8170fa6a-f930-40e8-f26b-b9eb7a38ebd3",
        "colab": {
          "base_uri": "https://localhost:8080/",
          "height": 17
        }
      },
      "cell_type": "code",
      "source": [
        "from IPython.core.display import HTML, Image\n",
        "css_file = 'style.css'\n",
        "HTML(open(css_file, 'r').read())"
      ],
      "execution_count": 0,
      "outputs": [
        {
          "output_type": "execute_result",
          "data": {
            "text/html": [
              "<link href='http://fonts.googleapis.com/css?family=Alegreya+Sans:100,300,400,500,700,800,900,100italic,300italic,400italic,500italic,700italic,800italic,900italic' rel='stylesheet' type='text/css'>\n",
              "<link href='http://fonts.googleapis.com/css?family=Arvo:400,700,400italic' rel='stylesheet' type='text/css'>\n",
              "<link href='http://fonts.googleapis.com/css?family=PT+Mono' rel='stylesheet' type='text/css'>\n",
              "<link href='http://fonts.googleapis.com/css?family=Shadows+Into+Light' rel='stylesheet' type='text/css'>\n",
              "<link href='http://fonts.googleapis.com/css?family=Philosopher:400,700,400italic,700italic' rel='stylesheet' type='text/css'>\n",
              "\n",
              "<style>\n",
              "\n",
              "@font-face {\n",
              "    font-family: \"Computer Modern\";\n",
              "    src: url('http://mirrors.ctan.org/fonts/cm-unicode/fonts/otf/cmunss.otf');\n",
              "}\n",
              "\n",
              "#notebook_panel { /* main background */\n",
              "    background: #ddd;\n",
              "    color: #000000;\n",
              "}\n",
              "\n",
              "\n",
              "\n",
              "/* Formatting for header cells */\n",
              ".text_cell_render h1 {\n",
              "    font-family: 'Philosopher', sans-serif;\n",
              "    font-weight: 400;\n",
              "    font-size: 2.2em;\n",
              "    line-height: 100%;\n",
              "    color: rgb(0, 80, 120);\n",
              "    margin-bottom: 0.1em;\n",
              "    margin-top: 0.1em;\n",
              "    display: block;\n",
              "}\t\n",
              ".text_cell_render h2 {\n",
              "    font-family: 'Philosopher', serif;\n",
              "    font-weight: 400;\n",
              "    font-size: 1.9em;\n",
              "    line-height: 100%;\n",
              "    color: rgb(200,100,0);\n",
              "    margin-bottom: 0.1em;\n",
              "    margin-top: 0.1em;\n",
              "    display: block;\n",
              "}\t\n",
              "\n",
              ".text_cell_render h3 {\n",
              "    font-family: 'Philosopher', serif;\n",
              "    margin-top:12px;\n",
              "    margin-bottom: 3px;\n",
              "    font-style: italic;\n",
              "    color: rgb(94,127,192);\n",
              "}\n",
              "\n",
              ".text_cell_render h4 {\n",
              "    font-family: 'Philosopher', serif;\n",
              "}\n",
              "\n",
              ".text_cell_render h5 {\n",
              "    font-family: 'Alegreya Sans', sans-serif;\n",
              "    font-weight: 300;\n",
              "    font-size: 16pt;\n",
              "    color: grey;\n",
              "    font-style: italic;\n",
              "    margin-bottom: .1em;\n",
              "    margin-top: 0.1em;\n",
              "    display: block;\n",
              "}\n",
              "\n",
              ".text_cell_render h6 {\n",
              "    font-family: 'PT Mono', sans-serif;\n",
              "    font-weight: 300;\n",
              "    font-size: 10pt;\n",
              "    color: grey;\n",
              "    margin-bottom: 1px;\n",
              "    margin-top: 1px;\n",
              "}\n",
              "\n",
              ".CodeMirror{\n",
              "        font-family: \"PT Mono\";\n",
              "        font-size: 100%;\n",
              "}\n",
              "\n",
              "</style>\n",
              "\n"
            ],
            "text/plain": [
              "<IPython.core.display.HTML object>"
            ]
          },
          "metadata": {
            "tags": []
          },
          "execution_count": 1
        }
      ]
    },
    {
      "metadata": {
        "id": "wcsgCtvBmrYh",
        "colab_type": "toc"
      },
      "cell_type": "markdown",
      "source": [
        ">[Deep Learning Fast Start](#scrollTo=rpOz6FctZksc)\n",
        "\n",
        ">>[The Neuron](#scrollTo=rpOz6FctZksc)\n",
        "\n",
        ">[Neuron: Learning Objectives](#scrollTo=AdYUbt7NZksh)\n",
        "\n",
        ">[What is a Neuron?](#scrollTo=VyrTxpNgZksr)\n",
        "\n",
        ">[Neuron Structure](#scrollTo=E7F0cR8wZksv)\n",
        "\n",
        ">[Neuron's Two Step Computation](#scrollTo=x2OLc0TjZktA)\n",
        "\n",
        ">[Neuron Computation (Step 1)](#scrollTo=fQXjX_SGZktb)\n",
        "\n",
        ">[Neuron Computation Example (Step 1)](#scrollTo=QsFRvAmzZktO)\n",
        "\n",
        ">[Code for Neuron Computation (Step 1): 선형합](#scrollTo=Vz7wIWsvZktq)\n",
        "\n",
        ">>>[Using For Loop](#scrollTo=DfYosU--Zktr)\n",
        "\n",
        ">>>[Using List Comprehension](#scrollTo=3CRFr95xZkt9)\n",
        "\n",
        ">>>[Using Numpy Dot Product](#scrollTo=WbQEmj4RZkuH)\n",
        "\n",
        ">[Neuron Computation (Step 2): 비선형 활동](#scrollTo=bsM3Lj8kZkuS)\n",
        "\n",
        ">[Activation Function Examples](#scrollTo=OLNNuCKaZkuX)\n",
        "\n",
        ">[Computation Example (Step 2)](#scrollTo=lq_CD75oZkuf)\n",
        "\n",
        ">[Code for Neuron Activation (Step 2)](#scrollTo=UnDed5j5Zkuj)\n",
        "\n",
        ">>>[스텝 함수 (Heaviside function)](#scrollTo=S8d3xeTXZkuk)\n",
        "\n",
        ">>>[ReLU 함수 (Rectified Linear Unit function)](#scrollTo=-JvsHNIKZkuq)\n",
        "\n",
        ">>>[Sigmoid 함수](#scrollTo=0ewW3Bf2Zkuu)\n",
        "\n",
        ">[Data Structures for Neuron Computation](#scrollTo=dFL_PpKcZku0)\n",
        "\n",
        ">[Neuron Class](#scrollTo=IrCEDxj0ZkvF)\n",
        "\n",
        ">>>[Define Activation Functions](#scrollTo=XsuyR0uVZkvM)\n",
        "\n",
        ">>>[Define Neuron Class](#scrollTo=-6iSXoGXZkvS)\n",
        "\n",
        ">>>[Create Neuron Object and Compute](#scrollTo=xKkWvT0WZkvX)\n",
        "\n",
        ">>>[선형합(transfer)](#scrollTo=Cyjcmq68Zkv0)\n",
        "\n",
        ">>>[Activating neuron](#scrollTo=Ai5ejhUYZkv8)\n",
        "\n",
        ">>>[뉴런의 기본 활동 윈리가 이해됩니까?](#scrollTo=PIqhE_UaZkwP)\n",
        "\n",
        ">>>[[도전 과제]  100 개의 입력에 대한 뉴런의 출력을 세 가지 방식으로 구하시오.](#scrollTo=BSoP0vwBZkwR)\n",
        "\n",
        ">[Great! Welcome to the World of Perceptron.](#scrollTo=LzTllMcCZkw1)\n",
        "\n"
      ]
    },
    {
      "metadata": {
        "id": "rpOz6FctZksc",
        "colab_type": "text"
      },
      "cell_type": "markdown",
      "source": [
        "# Deep Learning Fast Start\n",
        "\n",
        "## The Neuron\n"
      ]
    },
    {
      "metadata": {
        "id": "DeeVhB5QZksf",
        "colab_type": "text"
      },
      "cell_type": "markdown",
      "source": [
        "<a rel=\"license\" href=\"http://creativecommons.org/licenses/by/4.0/\"><img alt=\"Creative Commons License\" style=\"border-width:0\" src=\"https://i.creativecommons.org/l/by/4.0/88x31.png\" /></a><br /><span xmlns:dct=\"http://purl.org/dc/terms/\" property=\"dct:title\">Deep Learning Fast Start</span> by <a xmlns:cc=\"http://creativecommons.org/ns#\" href=\"http://alfredessa.com\" property=\"cc:attributionName\" rel=\"cc:attributionURL\">Alfred Essa</a> is licensed under a <a rel=\"license\" href=\"http://creativecommons.org/licenses/by/4.0/\">Creative Commons Attribution 4.0 International License</a>."
      ]
    },
    {
      "metadata": {
        "id": "AdYUbt7NZksh",
        "colab_type": "text"
      },
      "cell_type": "markdown",
      "source": [
        "# 1. Neuron: Learning Objectives"
      ]
    },
    {
      "metadata": {
        "id": "MD0zQwXBZksi",
        "colab_type": "text"
      },
      "cell_type": "markdown",
      "source": [
        "**1:** Understand the basic *concept* of an artificial neuron or perceptron\n",
        "\n",
        "> [perceptron(퍼셉트론 개념)](http://blog.naver.com/samsjang/220948258166)"
      ]
    },
    {
      "metadata": {
        "id": "eyLHInX3Zksj",
        "colab_type": "text"
      },
      "cell_type": "markdown",
      "source": [
        "**2:** Describe a neuron's two-step *computation* process\n",
        "> 뉴런은 입력값에 두 단계로 계산을 수행하여서 출력값으로 변환한다.\n",
        "\n",
        ">> 1단계 : 들어오는 것들을 더하고 가중치를 더해준다\n",
        "\n",
        ">> 2단계 : 비선형함수로 바꿔준다"
      ]
    },
    {
      "metadata": {
        "id": "Nn8Qfcg5Zksl",
        "colab_type": "text"
      },
      "cell_type": "markdown",
      "source": [
        "**3:** Recognize the *parameters* of a neuron\n",
        "> 뉴런의 파라미터는 가중치(weight)와 바이어스(bias)로 구성된다."
      ]
    },
    {
      "metadata": {
        "id": "zoEd4LDTZkso",
        "colab_type": "text"
      },
      "cell_type": "markdown",
      "source": [
        "**4:** Understand how a single neuron can implement linear or logistic regression"
      ]
    },
    {
      "metadata": {
        "id": "i6VuAU5IZksp",
        "colab_type": "text"
      },
      "cell_type": "markdown",
      "source": [
        "**5:** Write code, in the form of crude *Python class*, which implements a neuron's computation\n"
      ]
    },
    {
      "metadata": {
        "id": "VyrTxpNgZksr",
        "colab_type": "text"
      },
      "cell_type": "markdown",
      "source": [
        "# 2.  What is a Neuron?"
      ]
    },
    {
      "metadata": {
        "id": "_dVxU2PrZkst",
        "colab_type": "text"
      },
      "cell_type": "markdown",
      "source": [
        "> **Definition**: A neuron is the *atomic computational unit* of an **artificial neural network** (ANN)."
      ]
    },
    {
      "metadata": {
        "id": "E7F0cR8wZksv",
        "colab_type": "text"
      },
      "cell_type": "markdown",
      "source": [
        " # 3. Neuron Structure"
      ]
    },
    {
      "metadata": {
        "id": "y8WyZEwYZksw",
        "colab_type": "text"
      },
      "cell_type": "markdown",
      "source": [
        "<img src=\"https://github.com/alfredessa/DeepLearningFastStart/raw/2642623f099ad676de05b0936700130387149432/images/bioneuron.png\" style=\"width: 50%; height: 50%\" />"
      ]
    },
    {
      "metadata": {
        "id": "_P0UFnYfZksy",
        "colab_type": "text"
      },
      "cell_type": "markdown",
      "source": [
        "- In a biological neuron input signals come in through dendrites\n",
        "> dendrites: 가지돌기\n",
        "\n",
        ">> 가지돌기 마다 [연결되어있는 강도]가 다르다 → 가중치"
      ]
    },
    {
      "metadata": {
        "id": "7Vs90FC_Zks0",
        "colab_type": "text"
      },
      "cell_type": "markdown",
      "source": [
        "- The signals are processed in the nucleus"
      ]
    },
    {
      "metadata": {
        "id": "d_U4c3yTZks1",
        "colab_type": "text"
      },
      "cell_type": "markdown",
      "source": [
        "- The output signal is transmitted to other neurons through the axon\n",
        ">axon: 축삭돌기 \n",
        ">> 다른 뉴런한테 다른 정보를 전달(activation) → 비선형활동을 하면서!"
      ]
    },
    {
      "metadata": {
        "id": "5peNuHXZZks4",
        "colab_type": "text"
      },
      "cell_type": "markdown",
      "source": [
        "- 생물학적인 뉴런은 덴드라이트들(dendrites)로부터 받은 입력 신호(이온 흐름)를 처리한 후 일정 기준이 만족되면 액손(axon)을 통해 다른 뉴런에게 신호(정보)를 전달한다. \n",
        "> McCulloch-Pitts neuron (MCP neuron)"
      ]
    },
    {
      "metadata": {
        "id": "Wi7rfdCtZks5",
        "colab_type": "text"
      },
      "cell_type": "markdown",
      "source": [
        "- 생물학적인 뉴런의 정보 처리 구조를 수학적으로 도식화하면 다음과 같다. ( 입력정보를 출력정보로 변환 )\n",
        "> 퍼셉트론(perceptron) 학습 규칙"
      ]
    },
    {
      "metadata": {
        "id": "r3KNudlUZks7",
        "colab_type": "text"
      },
      "cell_type": "markdown",
      "source": [
        "<img src=\"https://github.com/alfredessa/DeepLearningFastStart/raw/2642623f099ad676de05b0936700130387149432/images/function.png\" style=\"width: 50%; height: 50%\" />"
      ]
    },
    {
      "metadata": {
        "id": "YQh5XmB2P0Jj",
        "colab_type": "text"
      },
      "cell_type": "markdown",
      "source": [
        "여러가지 input의 가중치가 다름 f에서 더하기 고유한 bias 더해줌 비선형 성질 값을 y로 출력(2단계)"
      ]
    },
    {
      "metadata": {
        "id": "YW-dg0HZZks9",
        "colab_type": "text"
      },
      "cell_type": "markdown",
      "source": [
        "- A neuron can be viewed as a mathematical function"
      ]
    },
    {
      "metadata": {
        "id": "sgZO6JudZks-",
        "colab_type": "text"
      },
      "cell_type": "markdown",
      "source": [
        "- A neuron accepts a set of inputs, performs a computation on that input, and returns an output\n",
        "\n",
        "- 뉴런은 주위의 다른 뉴런들로부터 여러 입력을 받아 내부(핵)에서 처리한 후 일정 조건이 되면 다른 뉴런에게 처리된 결과를 전송한다. "
      ]
    },
    {
      "metadata": {
        "id": "x2OLc0TjZktA",
        "colab_type": "text"
      },
      "cell_type": "markdown",
      "source": [
        "# 4. Neuron's Two Step Computation"
      ]
    },
    {
      "metadata": {
        "id": "mEomYBgPZktC",
        "colab_type": "text"
      },
      "cell_type": "markdown",
      "source": [
        "<img src=\"https://github.com/alfredessa/DeepLearningFastStart/raw/2642623f099ad676de05b0936700130387149432/images/twostep.png\" style=\"width: 60%; height: 60%\" />"
      ]
    },
    {
      "metadata": {
        "id": "jIZNDTuMZktE",
        "colab_type": "text"
      },
      "cell_type": "markdown",
      "source": [
        "- A neuron performs its computation in two-steps (뉴런 내에서의 처리는 두 단계로 구성된다.) \n",
        "\n",
        "> 1단계 : 선형 (합)\n",
        "\n",
        "> 2단계 : 비선형 (활동)"
      ]
    },
    {
      "metadata": {
        "id": "oZANiJ93ZktF",
        "colab_type": "text"
      },
      "cell_type": "markdown",
      "source": [
        "- During step 1 a linear function operates on the inputs on the inputs: $x_{1}..x_{n}$ and produces an output $z$. --> 선형 합 (transfer)"
      ]
    },
    {
      "metadata": {
        "id": "6C0eUAVSZktH",
        "colab_type": "text"
      },
      "cell_type": "markdown",
      "source": [
        "- During step 2 a non-linear function, called the activation function, performs a computation on the input $z$ to produce the final output $y$.  --> 비선형 활동(activation)"
      ]
    },
    {
      "metadata": {
        "id": "9qRmBpE-ZktJ",
        "colab_type": "text"
      },
      "cell_type": "markdown",
      "source": [
        "<img src=\"https://github.com/alfredessa/DeepLearningFastStart/raw/2642623f099ad676de05b0936700130387149432/images/twostep2.png\" style=\"width: 60%; height: 60%\" />"
      ]
    },
    {
      "metadata": {
        "id": "2uyROk0iQPj2",
        "colab_type": "text"
      },
      "cell_type": "markdown",
      "source": [
        "                                                                            ▲ Perceprtron 구조"
      ]
    },
    {
      "metadata": {
        "id": "Q94FuTjWZktL",
        "colab_type": "text"
      },
      "cell_type": "markdown",
      "source": [
        "- We will represent the first function, sometimes called the transfer function, with the symbol $\\Sigma$. -> 선형합(transfer)"
      ]
    },
    {
      "metadata": {
        "id": "Di8YnrqOZktM",
        "colab_type": "text"
      },
      "cell_type": "markdown",
      "source": [
        "- We will represent the second function, called the activation function, with the symbol $\\phi$ -> 비선형 활동(activation)"
      ]
    },
    {
      "metadata": {
        "id": "fQXjX_SGZktb",
        "colab_type": "text"
      },
      "cell_type": "markdown",
      "source": [
        "# 5. Neuron Computation (Step 1) - 선형 합"
      ]
    },
    {
      "metadata": {
        "id": "Aj5x6sqRZktc",
        "colab_type": "text"
      },
      "cell_type": "markdown",
      "source": [
        "<img src=\"https://github.com/alfredessa/DeepLearningFastStart/raw/2642623f099ad676de05b0936700130387149432/images/transferfunction.png\" style=\"width: 75%; height: 75%\">"
      ]
    },
    {
      "metadata": {
        "id": "UsP7TDYCZktf",
        "colab_type": "text"
      },
      "cell_type": "markdown",
      "source": [
        "- Each neuron accepts $n$ inputs."
      ]
    },
    {
      "metadata": {
        "id": "jUT0Kiv9Zktl",
        "colab_type": "text"
      },
      "cell_type": "markdown",
      "source": [
        "- A \"weight\" is associated with each input: $x_{n} \\mapsto w_{n}$\n",
        "> 가중치는 각각의 입력에 할당된다."
      ]
    },
    {
      "metadata": {
        "id": "89FbKaKMZktn",
        "colab_type": "text"
      },
      "cell_type": "markdown",
      "source": [
        "- Then a \"bias\" term $b$ is added to the weighted sum of inputs.\n",
        "> 가중치가 뱐영된 입력합에 바이어스(상수값)이 더해진다."
      ]
    },
    {
      "metadata": {
        "id": "QsFRvAmzZktO",
        "colab_type": "text"
      },
      "cell_type": "markdown",
      "source": [
        "# 6. Neuron Computation Example (Step 1)"
      ]
    },
    {
      "metadata": {
        "id": "ZhKE7zvOZktQ",
        "colab_type": "text"
      },
      "cell_type": "markdown",
      "source": [
        "<img src=\"https://github.com/alfredessa/DeepLearningFastStart/raw/2642623f099ad676de05b0936700130387149432/images/transferexample.png\" style=\"width: 60%; height: 60%\" >"
      ]
    },
    {
      "metadata": {
        "id": "weAOG01YQhcd",
        "colab_type": "text"
      },
      "cell_type": "markdown",
      "source": [
        "3개의 입력이 있을 때\n",
        "가중치 3.2 하고 더하기 - 을 해주게 되면 첫번째 단계에서 뉴런이 얻은 값이 1.06임"
      ]
    },
    {
      "metadata": {
        "id": "7swnVdYsZktS",
        "colab_type": "text"
      },
      "cell_type": "markdown",
      "source": [
        "- We have three inputs for this neuron, with values: $[2.3,4.5,1.3]$"
      ]
    },
    {
      "metadata": {
        "id": "kKYDpYYzZktV",
        "colab_type": "text"
      },
      "cell_type": "markdown",
      "source": [
        "- A \"weight\" is associated with each input: $[3.2, -1.9, 2.5]$. We also have a value for the bias: $-1$"
      ]
    },
    {
      "metadata": {
        "id": "Q3F1bY_WZktY",
        "colab_type": "text"
      },
      "cell_type": "markdown",
      "source": [
        "- 각 입력값은 가중치(weight)를 곱한 후 합산한 후, 상수값(bias)가 더해져서 처리된다."
      ]
    },
    {
      "metadata": {
        "id": "9Jz9BwVcZktZ",
        "colab_type": "text"
      },
      "cell_type": "markdown",
      "source": [
        "- The weighted sum plus the bias is $z = 1.06$"
      ]
    },
    {
      "metadata": {
        "id": "Vz7wIWsvZktq",
        "colab_type": "text"
      },
      "cell_type": "markdown",
      "source": [
        "# 7. Code for Neuron Computation (Step 1): 선형합\n",
        "> 세 가지 방법으로 뉴런을 정의\n",
        "\n",
        "> 선형합(transfer) 기능 설계"
      ]
    },
    {
      "metadata": {
        "id": "DfYosU--Zktr",
        "colab_type": "text"
      },
      "cell_type": "markdown",
      "source": [
        "### Using For Loop"
      ]
    },
    {
      "metadata": {
        "id": "kyNIUxAaQuKK",
        "colab_type": "code",
        "colab": {}
      },
      "cell_type": "code",
      "source": [
        "# 위의 그림의 예를 예시로 든다"
      ],
      "execution_count": 0,
      "outputs": []
    },
    {
      "metadata": {
        "id": "2raU0mnvZktu",
        "colab_type": "code",
        "colab": {}
      },
      "cell_type": "code",
      "source": [
        "# 우리가 테스트하려는 뉴런의 현재 상태를 나타냄\n",
        "inputs = [2.3,4.5,1.3] \n",
        "weights = [3.2,-1.9,2.5] # 가중치\n",
        "bias = -1\n",
        "\n",
        "# input* weighs +bias"
      ],
      "execution_count": 0,
      "outputs": []
    },
    {
      "metadata": {
        "id": "GlqJfSkoZktz",
        "colab_type": "code",
        "colab": {}
      },
      "cell_type": "code",
      "source": [
        "def neuron1(x,w,b):\n",
        "    z=0 # 선형 합을 계산하는 출력 값\n",
        "    for x_,w_ in zip(x,w): # 입력값과 가중치는 같은 차원이기 때문에 zip() 함수 사용\n",
        "        z += x_ * w_\n",
        "    z+=b\n",
        "    return z"
      ],
      "execution_count": 0,
      "outputs": []
    },
    {
      "metadata": {
        "id": "d2WNMNA0Zkt1",
        "colab_type": "code",
        "outputId": "3a3f7c58-c29a-491b-dfe4-2b9d2ecbdc0f",
        "colab": {
          "base_uri": "https://localhost:8080/",
          "height": 35
        }
      },
      "cell_type": "code",
      "source": [
        "neuron1(inputs,weights,bias)"
      ],
      "execution_count": 0,
      "outputs": [
        {
          "output_type": "execute_result",
          "data": {
            "text/plain": [
              "1.0600000000000005"
            ]
          },
          "metadata": {
            "tags": []
          },
          "execution_count": 5
        }
      ]
    },
    {
      "metadata": {
        "id": "3CRFr95xZkt9",
        "colab_type": "text"
      },
      "cell_type": "markdown",
      "source": [
        "### Using List Comprehension - 리스트 내포"
      ]
    },
    {
      "metadata": {
        "id": "nQKyRVjMZkt-",
        "colab_type": "code",
        "colab": {}
      },
      "cell_type": "code",
      "source": [
        "# nueron1과 같은 함수\n",
        "\n",
        "def neuron2(x,w,b):\n",
        "    z = sum([x_*w_ for x_,w_ in zip(x,w)]) + b \n",
        "    return z"
      ],
      "execution_count": 0,
      "outputs": []
    },
    {
      "metadata": {
        "id": "Ohe8CdHEZkuB",
        "colab_type": "code",
        "outputId": "a81cbca8-32fe-4586-b64d-5dd1c592ac60",
        "colab": {
          "base_uri": "https://localhost:8080/",
          "height": 35
        }
      },
      "cell_type": "code",
      "source": [
        "neuron2(inputs,weights,bias)"
      ],
      "execution_count": 0,
      "outputs": [
        {
          "output_type": "execute_result",
          "data": {
            "text/plain": [
              "1.0600000000000005"
            ]
          },
          "metadata": {
            "tags": []
          },
          "execution_count": 7
        }
      ]
    },
    {
      "metadata": {
        "id": "WbQEmj4RZkuH",
        "colab_type": "text"
      },
      "cell_type": "markdown",
      "source": [
        "### Using Numpy Dot Product"
      ]
    },
    {
      "metadata": {
        "id": "nR78Zjs7ZkuI",
        "colab_type": "code",
        "colab": {}
      },
      "cell_type": "code",
      "source": [
        "# 제일 많이 이용하는 방식\n",
        "\n",
        "import numpy as np\n",
        "def neuron3(x,w,b):\n",
        "    z = np.dot(w,x) + b # dot 함수 가중치와 x를 곱해준다 그러고나서 상수값을 더해준다 # numpy의 dot 함수 → 곱해준다\n",
        "    return z # 더한값을 리턴해준다"
      ],
      "execution_count": 0,
      "outputs": []
    },
    {
      "metadata": {
        "id": "rTmkCv0ZZkuM",
        "colab_type": "code",
        "outputId": "a6ff20cc-9691-4257-c033-cfbdd33e53e0",
        "colab": {}
      },
      "cell_type": "code",
      "source": [
        "neuron3(inputs,weights,bias)"
      ],
      "execution_count": 0,
      "outputs": [
        {
          "output_type": "execute_result",
          "data": {
            "text/plain": [
              "1.0600000000000005"
            ]
          },
          "metadata": {
            "tags": []
          },
          "execution_count": 7
        }
      ]
    },
    {
      "metadata": {
        "id": "bsM3Lj8kZkuS",
        "colab_type": "text"
      },
      "cell_type": "markdown",
      "source": [
        "# 8. Neuron Computation (Step 2): 비선형 활동"
      ]
    },
    {
      "metadata": {
        "id": "jeyHUhY2ZkuV",
        "colab_type": "text"
      },
      "cell_type": "markdown",
      "source": [
        "<img src=\"https://github.com/alfredessa/DeepLearningFastStart/raw/2642623f099ad676de05b0936700130387149432/images/twostep2.png\" style=\"width: 60%; height: 60%\">|"
      ]
    },
    {
      "metadata": {
        "id": "OLNNuCKaZkuX",
        "colab_type": "text"
      },
      "cell_type": "markdown",
      "source": [
        "# 9. Activation Function Examples \n",
        "> 비선형 함수 : activation 함수"
      ]
    },
    {
      "metadata": {
        "id": "Rtv4_dRTZkua",
        "colab_type": "text"
      },
      "cell_type": "markdown",
      "source": [
        "<img src=\"https://github.com/alfredessa/DeepLearningFastStart/raw/2642623f099ad676de05b0936700130387149432/images/stepfunction.png\" style=\"width: 60%; height: 60%\">"
      ]
    },
    {
      "metadata": {
        "id": "vkODXScpSA2b",
        "colab_type": "text"
      },
      "cell_type": "markdown",
      "source": [
        "▲ 어떤 값을 초과하면 값을 전달해주고, 초과하지 않으면 값을 전달해주지 않고 기다린다 \n",
        "> 모 아니면 도 \n",
        "\n",
        "> 극과극"
      ]
    },
    {
      "metadata": {
        "id": "swJBNyWsZkub",
        "colab_type": "text"
      },
      "cell_type": "markdown",
      "source": [
        "<img src=\"https://github.com/alfredessa/DeepLearningFastStart/raw/2642623f099ad676de05b0936700130387149432/images/relufunction.png\" style=\"width: 60%; height: 60%\">"
      ]
    },
    {
      "metadata": {
        "id": "sQRzP_mwSP7L",
        "colab_type": "text"
      },
      "cell_type": "markdown",
      "source": [
        "▲ 0과 값의 최대치를 구해줌 "
      ]
    },
    {
      "metadata": {
        "id": "iMNWNJpoZkud",
        "colab_type": "text"
      },
      "cell_type": "markdown",
      "source": [
        "<img src=\"https://github.com/alfredessa/DeepLearningFastStart/raw/2642623f099ad676de05b0936700130387149432/images/sigmoidfunction.png\" style=\"width: 60%; height: 60%\">"
      ]
    },
    {
      "metadata": {
        "id": "S-VHnhAmSXjj",
        "colab_type": "text"
      },
      "cell_type": "markdown",
      "source": [
        "▲ 0.5-1 사이의 값이 나옴"
      ]
    },
    {
      "metadata": {
        "id": "lq_CD75oZkuf",
        "colab_type": "text"
      },
      "cell_type": "markdown",
      "source": [
        "# Computation Example (Step 2)"
      ]
    },
    {
      "metadata": {
        "id": "BM5iQz4kZkuh",
        "colab_type": "text"
      },
      "cell_type": "markdown",
      "source": [
        "<img src=\"https://github.com/alfredessa/DeepLearningFastStart/raw/2642623f099ad676de05b0936700130387149432/images/activationexample.png\" style=\"width: 60%; height: 60%\">"
      ]
    },
    {
      "metadata": {
        "id": "UnDed5j5Zkuj",
        "colab_type": "text"
      },
      "cell_type": "markdown",
      "source": [
        "# Code for Neuron Activation (Step 2)\n",
        "> 세 가지 함수로 뉴런의 활동을 정의"
      ]
    },
    {
      "metadata": {
        "id": "S8d3xeTXZkuk",
        "colab_type": "text"
      },
      "cell_type": "markdown",
      "source": [
        "### 스텝 함수 (Heaviside function)\n",
        "> 0 or 1"
      ]
    },
    {
      "metadata": {
        "id": "tKaNJPFBZkul",
        "colab_type": "code",
        "colab": {}
      },
      "cell_type": "code",
      "source": [
        "def heaviside(z): # 스칼라 n by 1 에레이가 되면 문제가 발생\n",
        "#   if x<0:\n",
        "#      return 0\n",
        "#    else\n",
        "#    return 1\n",
        "     return np.heaviside(z, 0)  # threshold = 0"
      ],
      "execution_count": 0,
      "outputs": []
    },
    {
      "metadata": {
        "id": "-JvsHNIKZkuq",
        "colab_type": "text"
      },
      "cell_type": "markdown",
      "source": [
        "### ReLU 함수 (Rectified Linear Unit function)\n",
        "> 0 or positive number"
      ]
    },
    {
      "metadata": {
        "id": "DNysExlYZkur",
        "colab_type": "code",
        "colab": {}
      },
      "cell_type": "code",
      "source": [
        "def relu(z):\n",
        "    return np.maximum(0,z)"
      ],
      "execution_count": 0,
      "outputs": []
    },
    {
      "metadata": {
        "id": "0ewW3Bf2Zkuu",
        "colab_type": "text"
      },
      "cell_type": "markdown",
      "source": [
        "### Sigmoid 함수\n",
        "\n",
        "> $-\\infty \\lt z \\lt \\infty$ 범위를 0 ~ 1 범위로 근사."
      ]
    },
    {
      "metadata": {
        "id": "LjbzBNyAZkuv",
        "colab_type": "code",
        "colab": {}
      },
      "cell_type": "code",
      "source": [
        "def sigmoid(z):\n",
        "        return 1.0/(1.0+np.exp(-z))\n",
        "  \n",
        "  # 아주 넓은 범위의 값을 smooth 하게 더 처리해줌\n",
        "  # 생체 신호가 어떤 값을 인지하지 못한다면 안된다"
      ],
      "execution_count": 0,
      "outputs": []
    },
    {
      "metadata": {
        "id": "Fp4_Fifdh0ON",
        "colab_type": "text"
      },
      "cell_type": "markdown",
      "source": [
        "<img src=\"https://t1.daumcdn.net/cfile/tistory/275BAD4F577B669920\" style=\"width: 60%; height: 60%\">\n",
        "\n",
        "> https://t1.daumcdn.net/cfile/tistory/275BAD4F577B669920"
      ]
    },
    {
      "metadata": {
        "id": "rr0gqPBJZkuy",
        "colab_type": "text"
      },
      "cell_type": "markdown",
      "source": [
        "***"
      ]
    },
    {
      "metadata": {
        "id": "dFL_PpKcZku0",
        "colab_type": "text"
      },
      "cell_type": "markdown",
      "source": [
        "# 10. Data Structures for Neuron Computation"
      ]
    },
    {
      "metadata": {
        "id": "mdPygNZAZku0",
        "colab_type": "text"
      },
      "cell_type": "markdown",
      "source": [
        "- We represent the input $\\mathbf{x}$ as a column vector. $\\mathbf{x} =\\begin{bmatrix}\n",
        "    x_1\\\\\n",
        "    x_2\\\\\n",
        "    \\vdots \\\\\n",
        "    x_n\n",
        "\\end{bmatrix}$"
      ]
    },
    {
      "metadata": {
        "id": "HNJtQhbcZku4",
        "colab_type": "text"
      },
      "cell_type": "markdown",
      "source": [
        "- We represent the weights $\\mathbf{w}$ as a column vector but take it's transform to obtain a row vector $\\mathbf{w}^\\top = \\begin{bmatrix}\n",
        "    w_1\\\n",
        "    w_2\\\n",
        "    \\dots \\\n",
        "    w_n\n",
        "    \\end{bmatrix}$"
      ]
    },
    {
      "metadata": {
        "id": "cDq8XbUmZku4",
        "colab_type": "text"
      },
      "cell_type": "markdown",
      "source": [
        "- We represent the bias $\\mathbf{b}$ as a scalar $b$."
      ]
    },
    {
      "metadata": {
        "id": "0TGTJL2XZku6",
        "colab_type": "text"
      },
      "cell_type": "markdown",
      "source": [
        "- The result of the transfer function computation:  $z = \\mathbf{w}^\\top \\mathbf{x} + b$"
      ]
    },
    {
      "metadata": {
        "id": "_K9rEmbxZkvC",
        "colab_type": "text"
      },
      "cell_type": "markdown",
      "source": [
        "- The result of the activation function computation: $a$ = $\\phi(z)$"
      ]
    },
    {
      "metadata": {
        "id": "-7ZwsfSvZkvE",
        "colab_type": "text"
      },
      "cell_type": "markdown",
      "source": [
        "$$ z = \\begin{bmatrix}\n",
        "    x_1\\\\\n",
        "    x_2\\\\\n",
        "    \\vdots \\\\\n",
        "    x_n\n",
        "\\end{bmatrix} \n",
        "\\begin{bmatrix}\n",
        "    w_1\\\n",
        "    w_2\\\n",
        "    \\dots \\\n",
        "    w_n\n",
        "    \\end{bmatrix} + b$$"
      ]
    },
    {
      "metadata": {
        "id": "UF0hbx4GZkvF",
        "colab_type": "text"
      },
      "cell_type": "markdown",
      "source": [
        "$$z = \\mathbf{w}^\\top \\mathbf{x} + b$$"
      ]
    },
    {
      "metadata": {
        "id": "IrCEDxj0ZkvF",
        "colab_type": "text"
      },
      "cell_type": "markdown",
      "source": [
        "# 11. Neuron Class "
      ]
    },
    {
      "metadata": {
        "id": "hK2SzhxmZkvI",
        "colab_type": "code",
        "colab": {}
      },
      "cell_type": "code",
      "source": [
        "import numpy as np\n",
        "\n",
        "# 하나의 뉴런에 대해서는 bias가 한개이지만\n",
        "# 여러개의 뉴런에 대해서는 bias도 여러개임\n",
        "# 배열로 정의해주어야 함"
      ],
      "execution_count": 0,
      "outputs": []
    },
    {
      "metadata": {
        "id": "XsuyR0uVZkvM",
        "colab_type": "text"
      },
      "cell_type": "markdown",
      "source": [
        "### Define Activation Functions(3개의 비선형 함수)"
      ]
    },
    {
      "metadata": {
        "id": "DfpVE0iaZkvO",
        "colab_type": "code",
        "colab": {}
      },
      "cell_type": "code",
      "source": [
        "# nonlinear activation function\n",
        "def relu(z):\n",
        "    return np.maximum(0,z)\n",
        "\n",
        "def sigmoid(z):\n",
        "    return 1.0/(1.0+np.exp(-z))\n",
        "    \n",
        "def heaviside(z):\n",
        "#     if z<0:\n",
        "#         return 0\n",
        "#     else:\n",
        "#         return 1\n",
        "    return np.heaviside(z,0) # threshold = 0"
      ],
      "execution_count": 0,
      "outputs": []
    },
    {
      "metadata": {
        "id": "-6iSXoGXZkvS",
        "colab_type": "text"
      },
      "cell_type": "markdown",
      "source": [
        "### Define Neuron Class"
      ]
    },
    {
      "metadata": {
        "id": "OAhT0_1UZkvU",
        "colab_type": "code",
        "colab": {}
      },
      "cell_type": "code",
      "source": [
        "class Neuron(object): # 하나의 뉴런에 대한 함수\n",
        "    \n",
        "    # size = size or number of inputs\n",
        "    def __init__(self,size): # 사이즈는 몇개의 input이 들어오는지 = 가중치 개수\n",
        "        self.weights = np.random.randn(size) # 가중치 무작위\n",
        "        self.bias = np.random.randn() # 뮤적유ㅏ\n",
        "        \n",
        "    # computes z = weighted sum + bias\n",
        "    def y_hat(self,x,phi): # 선형으로 나온 ouput 값을 계산\n",
        "        z = np.dot(self.weights,x) + self.bias  # transfer\n",
        "        a = phi(z) # activation # phi = activation 함수\n",
        "        return(a)  # output\n",
        "    \n",
        "    \n",
        "    # updates weights and biases\n",
        "    def update_params(self,weights,bias):\n",
        "        self.weights = np.array([weights])\n",
        "        self.bias = np.array([bias])\n",
        "        \n",
        "        # parameter가 몇일 때 가장 이상적인가? -> 머신러닝으로 해결!"
      ],
      "execution_count": 0,
      "outputs": []
    },
    {
      "metadata": {
        "id": "xKkWvT0WZkvX",
        "colab_type": "text"
      },
      "cell_type": "markdown",
      "source": [
        "### Create Neuron Object and Compute"
      ]
    },
    {
      "metadata": {
        "id": "viHAJJHKZkvY",
        "colab_type": "code",
        "colab": {}
      },
      "cell_type": "code",
      "source": [
        "# Set a seed for random number generation\n",
        "np.random.seed(0)"
      ],
      "execution_count": 0,
      "outputs": []
    },
    {
      "metadata": {
        "id": "O-1Aw8A9Zkvc",
        "colab_type": "code",
        "outputId": "b985807c-533c-42cb-e91f-4dc05219d8e6",
        "colab": {
          "base_uri": "https://localhost:8080/",
          "height": 35
        }
      },
      "cell_type": "code",
      "source": [
        "N1 = Neuron(3)  # input size = 3 # 들어오는 input이 3개\n",
        "N1"
      ],
      "execution_count": 0,
      "outputs": [
        {
          "output_type": "execute_result",
          "data": {
            "text/plain": [
              "<__main__.Neuron at 0x7fa1f2589438>"
            ]
          },
          "metadata": {
            "tags": []
          },
          "execution_count": 18
        }
      ]
    },
    {
      "metadata": {
        "id": "fNKEbY_CZkvh",
        "colab_type": "code",
        "outputId": "e12a6529-72b5-4551-a006-f5c788ba78ea",
        "colab": {
          "base_uri": "https://localhost:8080/",
          "height": 35
        }
      },
      "cell_type": "code",
      "source": [
        "N1.weights,N1.bias"
      ],
      "execution_count": 0,
      "outputs": [
        {
          "output_type": "execute_result",
          "data": {
            "text/plain": [
              "(array([1.76405235, 0.40015721, 0.97873798]), 2.240893199201458)"
            ]
          },
          "metadata": {
            "tags": []
          },
          "execution_count": 19
        }
      ]
    },
    {
      "metadata": {
        "id": "0MBOwQPTVyjK",
        "colab_type": "code",
        "outputId": "8ac9b417-4161-4d33-97f8-338c2f4f8b99",
        "colab": {
          "base_uri": "https://localhost:8080/",
          "height": 35
        }
      },
      "cell_type": "code",
      "source": [
        "N1a=Neuron(3)\n",
        "N1a.weights\n",
        "\n",
        "# 위의 코드랑 다르다! seed값이 달라져서!\n",
        "# 돌릴수록 달라져"
      ],
      "execution_count": 0,
      "outputs": [
        {
          "output_type": "execute_result",
          "data": {
            "text/plain": [
              "array([ 1.49407907, -0.20515826,  0.3130677 ])"
            ]
          },
          "metadata": {
            "tags": []
          },
          "execution_count": 31
        }
      ]
    },
    {
      "metadata": {
        "id": "9957LcJpjMMk",
        "colab_type": "text"
      },
      "cell_type": "markdown",
      "source": [
        "\n",
        "\n",
        "---\n",
        "\n"
      ]
    },
    {
      "metadata": {
        "id": "PEWmPVIujTWT",
        "colab_type": "text"
      },
      "cell_type": "markdown",
      "source": [
        "### Neuron \n",
        "> Make another neuron with different parameters"
      ]
    },
    {
      "metadata": {
        "id": "CBCud9rVZkvo",
        "colab_type": "code",
        "colab": {}
      },
      "cell_type": "code",
      "source": [
        "# 원하는 뉴런이 있다면 직접 정의 → update_params 사용\n",
        "# Set new weights and bias\n",
        "# Make another neuron with different parameters\n",
        "weights = [3.2,-1.9,2.5]\n",
        "bias = -1"
      ],
      "execution_count": 0,
      "outputs": []
    },
    {
      "metadata": {
        "id": "JoWNYJ9BZkvr",
        "colab_type": "code",
        "colab": {}
      },
      "cell_type": "code",
      "source": [
        "N1.update_params(weights,bias)"
      ],
      "execution_count": 0,
      "outputs": []
    },
    {
      "metadata": {
        "id": "6NRUUZOcZkvu",
        "colab_type": "code",
        "outputId": "1ae03e59-7163-4909-c7bf-ddeb89b0ce47",
        "colab": {
          "base_uri": "https://localhost:8080/",
          "height": 35
        }
      },
      "cell_type": "code",
      "source": [
        "N1.weights,N1.bias # 내가 정의한걸로 바뀌었다"
      ],
      "execution_count": 0,
      "outputs": [
        {
          "output_type": "execute_result",
          "data": {
            "text/plain": [
              "(array([[ 3.2, -1.9,  2.5]]), array([-1]))"
            ]
          },
          "metadata": {
            "tags": []
          },
          "execution_count": 34
        }
      ]
    },
    {
      "metadata": {
        "id": "Cyjcmq68Zkv0",
        "colab_type": "text"
      },
      "cell_type": "markdown",
      "source": [
        "### 선형합(transfer)"
      ]
    },
    {
      "metadata": {
        "id": "WiyUMTg0Zkv1",
        "colab_type": "code",
        "colab": {}
      },
      "cell_type": "code",
      "source": [
        "# input\n",
        "x = [2.3,4.5,1.3]  # 입력"
      ],
      "execution_count": 0,
      "outputs": []
    },
    {
      "metadata": {
        "id": "RrwVbOIQZkv4",
        "colab_type": "code",
        "outputId": "1e638d90-7e6b-467d-93a8-ff61d7d1fa76",
        "colab": {
          "base_uri": "https://localhost:8080/",
          "height": 35
        }
      },
      "cell_type": "code",
      "source": [
        "np.dot(N1.weights,x) + N1.bias"
      ],
      "execution_count": 0,
      "outputs": [
        {
          "output_type": "execute_result",
          "data": {
            "text/plain": [
              "array([1.06])"
            ]
          },
          "metadata": {
            "tags": []
          },
          "execution_count": 24
        }
      ]
    },
    {
      "metadata": {
        "id": "Ai5ejhUYZkv8",
        "colab_type": "text"
      },
      "cell_type": "markdown",
      "source": [
        "### Activating neuron"
      ]
    },
    {
      "metadata": {
        "id": "5FifQ8KTZkv9",
        "colab_type": "code",
        "outputId": "47968858-3b75-42b4-874c-74ddc21d2f05",
        "colab": {
          "base_uri": "https://localhost:8080/",
          "height": 35
        }
      },
      "cell_type": "code",
      "source": [
        "N1.y_hat(x,heaviside)"
      ],
      "execution_count": 0,
      "outputs": [
        {
          "output_type": "execute_result",
          "data": {
            "text/plain": [
              "array([1.])"
            ]
          },
          "metadata": {
            "tags": []
          },
          "execution_count": 25
        }
      ]
    },
    {
      "metadata": {
        "id": "rqnIoEt_ZkwE",
        "colab_type": "code",
        "outputId": "9a0df421-f4af-4d6f-c0c3-b72b2b6e2b4f",
        "colab": {
          "base_uri": "https://localhost:8080/",
          "height": 35
        }
      },
      "cell_type": "code",
      "source": [
        "N1.y_hat(x,relu)"
      ],
      "execution_count": 0,
      "outputs": [
        {
          "output_type": "execute_result",
          "data": {
            "text/plain": [
              "array([1.06])"
            ]
          },
          "metadata": {
            "tags": []
          },
          "execution_count": 26
        }
      ]
    },
    {
      "metadata": {
        "id": "VaVTG9FjZkwK",
        "colab_type": "code",
        "outputId": "641c5092-0b0f-4ac8-93b3-eda5ce96741c",
        "colab": {
          "base_uri": "https://localhost:8080/",
          "height": 35
        }
      },
      "cell_type": "code",
      "source": [
        "N1.y_hat(x,sigmoid)"
      ],
      "execution_count": 0,
      "outputs": [
        {
          "output_type": "execute_result",
          "data": {
            "text/plain": [
              "array([0.74269055])"
            ]
          },
          "metadata": {
            "tags": []
          },
          "execution_count": 27
        }
      ]
    },
    {
      "metadata": {
        "id": "PIqhE_UaZkwP",
        "colab_type": "text"
      },
      "cell_type": "markdown",
      "source": [
        "### 뉴런의 기본 활동 윈리가 이해됩니까? 넹!"
      ]
    },
    {
      "metadata": {
        "id": "toMBrnokZkwP",
        "colab_type": "text"
      },
      "cell_type": "markdown",
      "source": [
        "***"
      ]
    },
    {
      "metadata": {
        "id": "BSoP0vwBZkwR",
        "colab_type": "text"
      },
      "cell_type": "markdown",
      "source": [
        "### [도전 과제]  100 개의 입력에 대한 뉴런의 출력을 세 가지 방식으로 구하시오.\n",
        "\n",
        "> 세 가지 활동 함수 이용 : heaviside(), relu(), sigmoid()"
      ]
    },
    {
      "metadata": {
        "id": "n6kb4XDkZkwS",
        "colab_type": "code",
        "colab": {}
      },
      "cell_type": "code",
      "source": [
        "# Set a seed for random number generation\n",
        "np.random.seed(0) # 교수님과 같은 코드로 하기 위해서 seed 함수로 통일하여야 함"
      ],
      "execution_count": 0,
      "outputs": []
    },
    {
      "metadata": {
        "id": "mLwNwhi2ZkwX",
        "colab_type": "code",
        "colab": {}
      },
      "cell_type": "code",
      "source": [
        "N100 = Neuron(100) # size 100"
      ],
      "execution_count": 0,
      "outputs": []
    },
    {
      "metadata": {
        "id": "5NzpOWXnZkwb",
        "colab_type": "code",
        "outputId": "23e6c6c4-f640-4b5d-b98f-2abfd5f0ad4d",
        "colab": {
          "base_uri": "https://localhost:8080/",
          "height": 395
        }
      },
      "cell_type": "code",
      "source": [
        "N100.weights,N100.bias"
      ],
      "execution_count": 0,
      "outputs": [
        {
          "output_type": "execute_result",
          "data": {
            "text/plain": [
              "(array([ 1.76405235,  0.40015721,  0.97873798,  2.2408932 ,  1.86755799,\n",
              "        -0.97727788,  0.95008842, -0.15135721, -0.10321885,  0.4105985 ,\n",
              "         0.14404357,  1.45427351,  0.76103773,  0.12167502,  0.44386323,\n",
              "         0.33367433,  1.49407907, -0.20515826,  0.3130677 , -0.85409574,\n",
              "        -2.55298982,  0.6536186 ,  0.8644362 , -0.74216502,  2.26975462,\n",
              "        -1.45436567,  0.04575852, -0.18718385,  1.53277921,  1.46935877,\n",
              "         0.15494743,  0.37816252, -0.88778575, -1.98079647, -0.34791215,\n",
              "         0.15634897,  1.23029068,  1.20237985, -0.38732682, -0.30230275,\n",
              "        -1.04855297, -1.42001794, -1.70627019,  1.9507754 , -0.50965218,\n",
              "        -0.4380743 , -1.25279536,  0.77749036, -1.61389785, -0.21274028,\n",
              "        -0.89546656,  0.3869025 , -0.51080514, -1.18063218, -0.02818223,\n",
              "         0.42833187,  0.06651722,  0.3024719 , -0.63432209, -0.36274117,\n",
              "        -0.67246045, -0.35955316, -0.81314628, -1.7262826 ,  0.17742614,\n",
              "        -0.40178094, -1.63019835,  0.46278226, -0.90729836,  0.0519454 ,\n",
              "         0.72909056,  0.12898291,  1.13940068, -1.23482582,  0.40234164,\n",
              "        -0.68481009, -0.87079715, -0.57884966, -0.31155253,  0.05616534,\n",
              "        -1.16514984,  0.90082649,  0.46566244, -1.53624369,  1.48825219,\n",
              "         1.89588918,  1.17877957, -0.17992484, -1.07075262,  1.05445173,\n",
              "        -0.40317695,  1.22244507,  0.20827498,  0.97663904,  0.3563664 ,\n",
              "         0.70657317,  0.01050002,  1.78587049,  0.12691209,  0.40198936]),\n",
              " 1.8831506970562544)"
            ]
          },
          "metadata": {
            "tags": []
          },
          "execution_count": 49
        }
      ]
    },
    {
      "metadata": {
        "id": "AJ8fqWJUZPoh",
        "colab_type": "code",
        "outputId": "ba9f7790-b484-48c1-ede5-424663ac0b41",
        "colab": {
          "base_uri": "https://localhost:8080/",
          "height": 35
        }
      },
      "cell_type": "code",
      "source": [
        "N100.weights.shape"
      ],
      "execution_count": 0,
      "outputs": [
        {
          "output_type": "execute_result",
          "data": {
            "text/plain": [
              "(100,)"
            ]
          },
          "metadata": {
            "tags": []
          },
          "execution_count": 50
        }
      ]
    },
    {
      "metadata": {
        "id": "Ng6sIvKDZkwj",
        "colab_type": "code",
        "outputId": "0720fd9b-3065-4391-8add-8892676de5b9",
        "colab": {
          "base_uri": "https://localhost:8080/",
          "height": 395
        }
      },
      "cell_type": "code",
      "source": [
        "# input(입력)\n",
        "x100 = np.random.randn(100) # input\n",
        "x100.shape,x100"
      ],
      "execution_count": 0,
      "outputs": [
        {
          "output_type": "execute_result",
          "data": {
            "text/plain": [
              "((100,),\n",
              " array([-1.34775906, -1.270485  ,  0.96939671, -1.17312341,  1.94362119,\n",
              "        -0.41361898, -0.74745481,  1.92294203,  1.48051479,  1.86755896,\n",
              "         0.90604466, -0.86122569,  1.91006495, -0.26800337,  0.8024564 ,\n",
              "         0.94725197, -0.15501009,  0.61407937,  0.92220667,  0.37642553,\n",
              "        -1.09940079,  0.29823817,  1.3263859 , -0.69456786, -0.14963454,\n",
              "        -0.43515355,  1.84926373,  0.67229476,  0.40746184, -0.76991607,\n",
              "         0.53924919, -0.67433266,  0.03183056, -0.63584608,  0.67643329,\n",
              "         0.57659082, -0.20829876,  0.39600671, -1.09306151, -1.49125759,\n",
              "         0.4393917 ,  0.1666735 ,  0.63503144,  2.38314477,  0.94447949,\n",
              "        -0.91282223,  1.11701629, -1.31590741, -0.4615846 , -0.06824161,\n",
              "         1.71334272, -0.74475482, -0.82643854, -0.09845252, -0.66347829,\n",
              "         1.12663592, -1.07993151, -1.14746865, -0.43782004, -0.49803245,\n",
              "         1.92953205,  0.94942081,  0.08755124, -1.22543552,  0.84436298,\n",
              "        -1.00021535, -1.5447711 ,  1.18802979,  0.31694261,  0.92085882,\n",
              "         0.31872765,  0.85683061, -0.65102559, -1.03424284,  0.68159452,\n",
              "        -0.80340966, -0.68954978, -0.4555325 ,  0.01747916, -0.35399391,\n",
              "        -1.37495129, -0.6436184 , -2.22340315,  0.62523145, -1.60205766,\n",
              "        -1.10438334,  0.05216508, -0.739563  ,  1.5430146 , -1.29285691,\n",
              "         0.26705087, -0.03928282, -1.1680935 ,  0.52327666, -0.17154633,\n",
              "         0.77179055,  0.82350415,  2.16323595,  1.33652795, -0.36918184]))"
            ]
          },
          "metadata": {
            "tags": []
          },
          "execution_count": 51
        }
      ]
    },
    {
      "metadata": {
        "id": "pgmd2wRSZkwm",
        "colab_type": "code",
        "outputId": "6817f37d-f430-47f1-fbac-3c190d7418e3",
        "colab": {
          "base_uri": "https://localhost:8080/",
          "height": 35
        }
      },
      "cell_type": "code",
      "source": [
        "# transfer: weighted linear sum + bias\n",
        "np.dot(N100.weights,x100) + N100.bias"
      ],
      "execution_count": 0,
      "outputs": [
        {
          "output_type": "execute_result",
          "data": {
            "text/plain": [
              "10.886612705858221"
            ]
          },
          "metadata": {
            "tags": []
          },
          "execution_count": 52
        }
      ]
    },
    {
      "metadata": {
        "id": "RT52J9UuZkwq",
        "colab_type": "code",
        "outputId": "8c449bf7-6289-4f83-cee3-346e14b9888f",
        "colab": {
          "base_uri": "https://localhost:8080/",
          "height": 35
        }
      },
      "cell_type": "code",
      "source": [
        "N100.y_hat(x100,heaviside) # 0보다 크므로 1 반환"
      ],
      "execution_count": 0,
      "outputs": [
        {
          "output_type": "execute_result",
          "data": {
            "text/plain": [
              "1.0"
            ]
          },
          "metadata": {
            "tags": []
          },
          "execution_count": 56
        }
      ]
    },
    {
      "metadata": {
        "id": "h1RuA8wHZkwu",
        "colab_type": "code",
        "outputId": "1c0a977d-910e-42ce-8b14-5df8f7026fb3",
        "colab": {
          "base_uri": "https://localhost:8080/",
          "height": 35
        }
      },
      "cell_type": "code",
      "source": [
        "N100.y_hat(x100,relu)"
      ],
      "execution_count": 0,
      "outputs": [
        {
          "output_type": "execute_result",
          "data": {
            "text/plain": [
              "10.886612705858221"
            ]
          },
          "metadata": {
            "tags": []
          },
          "execution_count": 54
        }
      ]
    },
    {
      "metadata": {
        "id": "B3AjLPSlZkwx",
        "colab_type": "code",
        "outputId": "e7b5987d-a50f-427c-8d48-1adcf41a7f7d",
        "colab": {
          "base_uri": "https://localhost:8080/",
          "height": 35
        }
      },
      "cell_type": "code",
      "source": [
        "N100.y_hat(x100,sigmoid)"
      ],
      "execution_count": 0,
      "outputs": [
        {
          "output_type": "execute_result",
          "data": {
            "text/plain": [
              "0.9999812933486968"
            ]
          },
          "metadata": {
            "tags": []
          },
          "execution_count": 55
        }
      ]
    },
    {
      "metadata": {
        "id": "mgpGEb1IZkw0",
        "colab_type": "text"
      },
      "cell_type": "markdown",
      "source": [
        "***"
      ]
    },
    {
      "metadata": {
        "id": "LzTllMcCZkw1",
        "colab_type": "text"
      },
      "cell_type": "markdown",
      "source": [
        "# Great! Welcome to the World of Perceptron."
      ]
    },
    {
      "metadata": {
        "id": "8PjFWaVcZkw2",
        "colab_type": "code",
        "colab": {}
      },
      "cell_type": "code",
      "source": [
        ""
      ],
      "execution_count": 0,
      "outputs": []
    }
  ]
}