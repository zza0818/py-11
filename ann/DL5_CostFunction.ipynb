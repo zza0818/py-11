{
  "nbformat": 4,
  "nbformat_minor": 0,
  "metadata": {
    "colab": {
      "name": "DL5_CostFunction",
      "version": "0.3.2",
      "provenance": [],
      "collapsed_sections": [],
      "toc_visible": true,
      "include_colab_link": true
    },
    "kernelspec": {
      "display_name": "Python 3",
      "language": "python",
      "name": "python3"
    }
  },
  "cells": [
    {
      "cell_type": "markdown",
      "metadata": {
        "id": "view-in-github",
        "colab_type": "text"
      },
      "source": [
        "<a href=\"https://colab.research.google.com/github/zza0818/py-11/blob/master/ann/DL5_CostFunction.ipynb\" target=\"_parent\"><img src=\"https://colab.research.google.com/assets/colab-badge.svg\" alt=\"Open In Colab\"/></a>"
      ]
    },
    {
      "metadata": {
        "id": "Bobu_KeFZUCi",
        "colab_type": "text"
      },
      "cell_type": "markdown",
      "source": [
        "[original link: DL-CostFunction](https://github.com/alfredessa/lasi2018/blob/master/notebooks/slideversion/deeplearning/DL-CostFunction.ipynb)"
      ]
    },
    {
      "metadata": {
        "id": "iO_apLvTZUCm",
        "colab_type": "code",
        "outputId": "38873037-4d32-4e81-ba35-cb332e590268",
        "colab": {
          "base_uri": "https://localhost:8080/",
          "height": 17
        }
      },
      "cell_type": "code",
      "source": [
        "from IPython.core.display import HTML, Image\n",
        "css_file = 'style.css'\n",
        "HTML(open(css_file, 'r').read())"
      ],
      "execution_count": 0,
      "outputs": [
        {
          "output_type": "execute_result",
          "data": {
            "text/html": [
              "<link href='http://fonts.googleapis.com/css?family=Alegreya+Sans:100,300,400,500,700,800,900,100italic,300italic,400italic,500italic,700italic,800italic,900italic' rel='stylesheet' type='text/css'>\n",
              "<link href='http://fonts.googleapis.com/css?family=Arvo:400,700,400italic' rel='stylesheet' type='text/css'>\n",
              "<link href='http://fonts.googleapis.com/css?family=PT+Mono' rel='stylesheet' type='text/css'>\n",
              "<link href='http://fonts.googleapis.com/css?family=Shadows+Into+Light' rel='stylesheet' type='text/css'>\n",
              "<link href='http://fonts.googleapis.com/css?family=Philosopher:400,700,400italic,700italic' rel='stylesheet' type='text/css'>\n",
              "\n",
              "<style>\n",
              "\n",
              "@font-face {\n",
              "    font-family: \"Computer Modern\";\n",
              "    src: url('http://mirrors.ctan.org/fonts/cm-unicode/fonts/otf/cmunss.otf');\n",
              "}\n",
              "\n",
              "#notebook_panel { /* main background */\n",
              "    background: #ddd;\n",
              "    color: #000000;\n",
              "}\n",
              "\n",
              "\n",
              "\n",
              "/* Formatting for header cells */\n",
              ".text_cell_render h1 {\n",
              "    font-family: 'Philosopher', sans-serif;\n",
              "    font-weight: 400;\n",
              "    font-size: 2.2em;\n",
              "    line-height: 100%;\n",
              "    color: rgb(0, 80, 120);\n",
              "    margin-bottom: 0.1em;\n",
              "    margin-top: 0.1em;\n",
              "    display: block;\n",
              "}\t\n",
              ".text_cell_render h2 {\n",
              "    font-family: 'Philosopher', serif;\n",
              "    font-weight: 400;\n",
              "    font-size: 1.9em;\n",
              "    line-height: 100%;\n",
              "    color: rgb(200,100,0);\n",
              "    margin-bottom: 0.1em;\n",
              "    margin-top: 0.1em;\n",
              "    display: block;\n",
              "}\t\n",
              "\n",
              ".text_cell_render h3 {\n",
              "    font-family: 'Philosopher', serif;\n",
              "    margin-top:12px;\n",
              "    margin-bottom: 3px;\n",
              "    font-style: italic;\n",
              "    color: rgb(94,127,192);\n",
              "}\n",
              "\n",
              ".text_cell_render h4 {\n",
              "    font-family: 'Philosopher', serif;\n",
              "}\n",
              "\n",
              ".text_cell_render h5 {\n",
              "    font-family: 'Alegreya Sans', sans-serif;\n",
              "    font-weight: 300;\n",
              "    font-size: 16pt;\n",
              "    color: grey;\n",
              "    font-style: italic;\n",
              "    margin-bottom: .1em;\n",
              "    margin-top: 0.1em;\n",
              "    display: block;\n",
              "}\n",
              "\n",
              ".text_cell_render h6 {\n",
              "    font-family: 'PT Mono', sans-serif;\n",
              "    font-weight: 300;\n",
              "    font-size: 10pt;\n",
              "    color: grey;\n",
              "    margin-bottom: 1px;\n",
              "    margin-top: 1px;\n",
              "}\n",
              "\n",
              ".CodeMirror{\n",
              "        font-family: \"PT Mono\";\n",
              "        font-size: 100%;\n",
              "}\n",
              "\n",
              "</style>\n",
              "\n"
            ],
            "text/plain": [
              "<IPython.core.display.HTML object>"
            ]
          },
          "metadata": {
            "tags": []
          },
          "execution_count": 2
        }
      ]
    },
    {
      "metadata": {
        "id": "PrRjKjR0mfgH",
        "colab_type": "toc"
      },
      "cell_type": "markdown",
      "source": [
        ">[Deep Learning](#scrollTo=ZxtjcfUnZUC2)\n",
        "\n",
        ">>[Loss and Cost Functions](#scrollTo=ZxtjcfUnZUC2)\n",
        "\n",
        ">[Learning Objectives](#scrollTo=1cJu7BkIZUC4)\n",
        "\n",
        ">>[Motivation for Cost Function](#scrollTo=byh3cXX8ZUC_)\n",
        "\n",
        ">>[Everdeen has the lowest cost (i.e. error)](#scrollTo=sEWr_yTuZUDG)\n",
        "\n",
        ">>>[Will I Pass the Exam?](#scrollTo=gttU1ZDdZUDM)\n",
        "\n",
        ">>[Some Available Loss Functions in Keras](#scrollTo=-OpGIOdYZUDU)\n",
        "\n",
        ">[Loss(Cost) Optimization](#scrollTo=1oCXXNKGZUDk)\n",
        "\n"
      ]
    },
    {
      "metadata": {
        "id": "ZxtjcfUnZUC2",
        "colab_type": "text"
      },
      "cell_type": "markdown",
      "source": [
        "# Deep Learning \n",
        "## Loss and Cost Functions\n",
        "\n",
        "Alfred Essa, Ani Aghababyan, Shirin Mojarad\n",
        "\n"
      ]
    },
    {
      "metadata": {
        "id": "1cJu7BkIZUC4",
        "colab_type": "text"
      },
      "cell_type": "markdown",
      "source": [
        "# Learning Objectives"
      ]
    },
    {
      "metadata": {
        "id": "Dx2RMWk4ZUC5",
        "colab_type": "text"
      },
      "cell_type": "markdown",
      "source": [
        "**1:** Describe why we need a *lost* and *cost functions* in machine learning"
      ]
    },
    {
      "metadata": {
        "id": "3rlsY-GdZUC7",
        "colab_type": "text"
      },
      "cell_type": "markdown",
      "source": [
        "**2:** Distinguish between a *loss function* and a *cost function*\n",
        "> 손실 함수와 비용 함수의 차이 점은 무엇인가?"
      ]
    },
    {
      "metadata": {
        "id": "AqFEUHO9ZUC8",
        "colab_type": "text"
      },
      "cell_type": "markdown",
      "source": [
        "**3:** Define some frequently used cost functions"
      ]
    },
    {
      "metadata": {
        "id": "VjdXggDSZUC9",
        "colab_type": "text"
      },
      "cell_type": "markdown",
      "source": [
        "**4:** Write Python code to compute loss and cost functions"
      ]
    },
    {
      "metadata": {
        "id": "byh3cXX8ZUC_",
        "colab_type": "text"
      },
      "cell_type": "markdown",
      "source": [
        "## Motivation for Cost Function"
      ]
    },
    {
      "metadata": {
        "id": "UkNmFxnQZUDA",
        "colab_type": "text"
      },
      "cell_type": "markdown",
      "source": [
        "<img src=\"https://github.com/alfredessa/lasi2018/raw/8140f2ad8d9998a02d7ec559d0ddceb5f41c6a18/notebooks/slideversion/deeplearning/images/target.jpg\" width=\"40%\" height=\"40%\" />"
      ]
    },
    {
      "metadata": {
        "id": "1Yv4TPCkZUDC",
        "colab_type": "text"
      },
      "cell_type": "markdown",
      "source": [
        "- Imagine we are shooting arrows during target practice or a competition"
      ]
    },
    {
      "metadata": {
        "id": "7Y2e7S8WZUDE",
        "colab_type": "text"
      },
      "cell_type": "markdown",
      "source": [
        "- We need a way to measure how far off target we are with each arrow (\"loss\") and with all arrows (\"cost\")\n",
        "> **1 회 슈팅에서의 오차가 'loss', 슈팅 전체의 평균 오차가 'cost'로 정의된다.**"
      ]
    },
    {
      "metadata": {
        "id": "-Al_C2nsZUDF",
        "colab_type": "text"
      },
      "cell_type": "markdown",
      "source": [
        "- We could use a simple function, namely distance from center, to express both "
      ]
    },
    {
      "metadata": {
        "id": "sEWr_yTuZUDG",
        "colab_type": "text"
      },
      "cell_type": "markdown",
      "source": [
        "## Everdeen has the lowest cost (i.e. error) 오차의 합이 적은게 제일 잘한거"
      ]
    },
    {
      "metadata": {
        "id": "B6U4IV9JZUDI",
        "colab_type": "text"
      },
      "cell_type": "markdown",
      "source": [
        "<img src=\"https://github.com/alfredessa/lasi2018/raw/8140f2ad8d9998a02d7ec559d0ddceb5f41c6a18/notebooks/slideversion/deeplearning/images/lawrence.jpg\" style=\"float: left; width: 30%; margin-right: 1%; margin-bottom: 0.5em;\">\n",
        "<img src=\"https://github.com/alfredessa/lasi2018/raw/8140f2ad8d9998a02d7ec559d0ddceb5f41c6a18/notebooks/slideversion/deeplearning/images/contest.png\"  style=\"float: left; width: 30%; margin-right: 1%; margin-bottom: 0.5em;\">"
      ]
    },
    {
      "metadata": {
        "id": "96ecyS3mZUDK",
        "colab_type": "text"
      },
      "cell_type": "markdown",
      "source": [
        "> The loss function computes the error for a single training example. The cost function is the average of the loss functions of the entire training set.\n",
        "\n",
        "- 'loss' 함수는 하나의 데이터에 대한 오차이며, 'cost' 함수는 전체 트레이닝 데이터에 대한 평균오차이다."
      ]
    },
    {
      "metadata": {
        "id": "ftRNYM8oZUDL",
        "colab_type": "text"
      },
      "cell_type": "markdown",
      "source": [
        "***"
      ]
    },
    {
      "metadata": {
        "id": "gttU1ZDdZUDM",
        "colab_type": "text"
      },
      "cell_type": "markdown",
      "source": [
        "### Will I Pass the Exam?"
      ]
    },
    {
      "metadata": {
        "id": "HmaDgAXvZUDO",
        "colab_type": "text"
      },
      "cell_type": "markdown",
      "source": [
        "<img src=\"https://github.com/alfredessa/lasi2018/raw/8140f2ad8d9998a02d7ec559d0ddceb5f41c6a18/notebooks/slideversion/deeplearning/images/costfunction1.png\" width=\"60%\" height=\"50%\" />"
      ]
    },
    {
      "metadata": {
        "id": "-sWhWl83ZUDQ",
        "colab_type": "text"
      },
      "cell_type": "markdown",
      "source": [
        "- $x_{1}$ = Number of lectures attended\n",
        "- $x_{2}$ = Hours spent studying for the exam\n",
        "- $x_{3}$ = Hours of sleep the night before exam"
      ]
    },
    {
      "metadata": {
        "id": "XRv_y3qfbfxj",
        "colab_type": "text"
      },
      "cell_type": "markdown",
      "source": [
        "\n",
        "\n",
        "---\n",
        "\n"
      ]
    },
    {
      "metadata": {
        "id": "1WlWCzFSZUDS",
        "colab_type": "text"
      },
      "cell_type": "markdown",
      "source": [
        "<img src=\"https://github.com/alfredessa/lasi2018/raw/8140f2ad8d9998a02d7ec559d0ddceb5f41c6a18/notebooks/slideversion/deeplearning/images/examcost.png\" width=\"70%\" height=\"90%\" />"
      ]
    },
    {
      "metadata": {
        "id": "-OpGIOdYZUDU",
        "colab_type": "text"
      },
      "cell_type": "markdown",
      "source": [
        "## Some Available Loss Functions in Keras\n",
        "\n",
        "\n"
      ]
    },
    {
      "metadata": {
        "id": "na-iwOj8ZUDh",
        "colab_type": "text"
      },
      "cell_type": "markdown",
      "source": [
        "- Mean Squared Error\n",
        "- Mean Absolute Error\n",
        "- Hinge\n",
        "- Categorical Crossentropy\n",
        "- Binary Crossentropy\n"
      ]
    },
    {
      "metadata": {
        "colab_type": "text",
        "id": "maBbA5WwZWv_"
      },
      "cell_type": "markdown",
      "source": [
        "**Mean Absolute Error** (MAE) is the mean of the absolute value of the errors:\n",
        "\n",
        "$$\\frac 1n\\sum_{i=1}^n|y_i-\\hat{y}_i|$$"
      ]
    },
    {
      "metadata": {
        "colab_type": "text",
        "id": "aL_ovzWJZWwA"
      },
      "cell_type": "markdown",
      "source": [
        "**Mean Squared Error** (MSE) is the mean of the squared errors:\n",
        "\n",
        "$$\\frac 1n\\sum_{i=1}^n(y_i-\\hat{y}_i)^2$$"
      ]
    },
    {
      "metadata": {
        "colab_type": "text",
        "id": "FlXw0MocZWwA"
      },
      "cell_type": "markdown",
      "source": [
        "** Cross Entropy ** measures the performance of a classification model whose output is a probability value between 0 and 1. $$\\frac 1n \\sum_{i=1}^ny_i\\log \\hat{y}_i$$"
      ]
    },
    {
      "metadata": {
        "id": "1oCXXNKGZUDk",
        "colab_type": "text"
      },
      "cell_type": "markdown",
      "source": [
        "# Loss(Cost) Optimization"
      ]
    },
    {
      "metadata": {
        "id": "NWm9duRmZUDn",
        "colab_type": "text"
      },
      "cell_type": "markdown",
      "source": [
        "> We want to find the set of network weights that achieve the lowest loss or error.\n",
        "\n",
        "- 딥러닝이란? -> 가장 작은 오차를 주는 파라미터들을 찾는 방법."
      ]
    },
    {
      "metadata": {
        "id": "3Ik3O1ycZUDq",
        "colab_type": "code",
        "colab": {}
      },
      "cell_type": "code",
      "source": [
        ""
      ],
      "execution_count": 0,
      "outputs": []
    }
  ]
}