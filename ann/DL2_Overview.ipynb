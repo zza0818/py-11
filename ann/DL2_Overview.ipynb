{
  "nbformat": 4,
  "nbformat_minor": 0,
  "metadata": {
    "colab": {
      "name": "DL2_Overview",
      "version": "0.3.2",
      "provenance": [],
      "collapsed_sections": [],
      "toc_visible": true,
      "include_colab_link": true
    },
    "kernelspec": {
      "display_name": "Python 3",
      "language": "python",
      "name": "python3"
    }
  },
  "cells": [
    {
      "cell_type": "markdown",
      "metadata": {
        "id": "view-in-github",
        "colab_type": "text"
      },
      "source": [
        "<a href=\"https://colab.research.google.com/github/zza0818/py-11/blob/master/ann/DL2_Overview.ipynb\" target=\"_parent\"><img src=\"https://colab.research.google.com/assets/colab-badge.svg\" alt=\"Open In Colab\"/></a>"
      ]
    },
    {
      "metadata": {
        "id": "iE3Z5sO1V_0c",
        "colab_type": "text"
      },
      "cell_type": "markdown",
      "source": [
        "[link:DL-Overview](https://github.com/alfredessa/DeepLearningFastStart/blob/master/DL-Overview.ipynb)"
      ]
    },
    {
      "metadata": {
        "id": "2r9zwlSEV_0d",
        "colab_type": "code",
        "outputId": "84b3339b-eff2-47d4-cea0-063b6828be43",
        "colab": {
          "base_uri": "https://localhost:8080/",
          "height": 17
        }
      },
      "cell_type": "code",
      "source": [
        "from IPython.core.display import HTML, Image\n",
        "css_file = 'style.css'\n",
        "HTML(open(css_file, 'r').read())"
      ],
      "execution_count": 2,
      "outputs": [
        {
          "output_type": "execute_result",
          "data": {
            "text/html": [
              "<link href='http://fonts.googleapis.com/css?family=Alegreya+Sans:100,300,400,500,700,800,900,100italic,300italic,400italic,500italic,700italic,800italic,900italic' rel='stylesheet' type='text/css'>\n",
              "<link href='http://fonts.googleapis.com/css?family=Arvo:400,700,400italic' rel='stylesheet' type='text/css'>\n",
              "<link href='http://fonts.googleapis.com/css?family=PT+Mono' rel='stylesheet' type='text/css'>\n",
              "<link href='http://fonts.googleapis.com/css?family=Shadows+Into+Light' rel='stylesheet' type='text/css'>\n",
              "<link href='http://fonts.googleapis.com/css?family=Philosopher:400,700,400italic,700italic' rel='stylesheet' type='text/css'>\n",
              "\n",
              "<style>\n",
              "\n",
              "@font-face {\n",
              "    font-family: \"Computer Modern\";\n",
              "    src: url('http://mirrors.ctan.org/fonts/cm-unicode/fonts/otf/cmunss.otf');\n",
              "}\n",
              "\n",
              "#notebook_panel { /* main background */\n",
              "    background: #ddd;\n",
              "    color: #000000;\n",
              "}\n",
              "\n",
              "\n",
              "\n",
              "/* Formatting for header cells */\n",
              ".text_cell_render h1 {\n",
              "    font-family: 'Philosopher', sans-serif;\n",
              "    font-weight: 400;\n",
              "    font-size: 2.2em;\n",
              "    line-height: 100%;\n",
              "    color: rgb(0, 80, 120);\n",
              "    margin-bottom: 0.1em;\n",
              "    margin-top: 0.1em;\n",
              "    display: block;\n",
              "}\t\n",
              ".text_cell_render h2 {\n",
              "    font-family: 'Philosopher', serif;\n",
              "    font-weight: 400;\n",
              "    font-size: 1.9em;\n",
              "    line-height: 100%;\n",
              "    color: rgb(200,100,0);\n",
              "    margin-bottom: 0.1em;\n",
              "    margin-top: 0.1em;\n",
              "    display: block;\n",
              "}\t\n",
              "\n",
              ".text_cell_render h3 {\n",
              "    font-family: 'Philosopher', serif;\n",
              "    margin-top:12px;\n",
              "    margin-bottom: 3px;\n",
              "    font-style: italic;\n",
              "    color: rgb(94,127,192);\n",
              "}\n",
              "\n",
              ".text_cell_render h4 {\n",
              "    font-family: 'Philosopher', serif;\n",
              "}\n",
              "\n",
              ".text_cell_render h5 {\n",
              "    font-family: 'Alegreya Sans', sans-serif;\n",
              "    font-weight: 300;\n",
              "    font-size: 16pt;\n",
              "    color: grey;\n",
              "    font-style: italic;\n",
              "    margin-bottom: .1em;\n",
              "    margin-top: 0.1em;\n",
              "    display: block;\n",
              "}\n",
              "\n",
              ".text_cell_render h6 {\n",
              "    font-family: 'PT Mono', sans-serif;\n",
              "    font-weight: 300;\n",
              "    font-size: 10pt;\n",
              "    color: grey;\n",
              "    margin-bottom: 1px;\n",
              "    margin-top: 1px;\n",
              "}\n",
              "\n",
              ".CodeMirror{\n",
              "        font-family: \"PT Mono\";\n",
              "        font-size: 100%;\n",
              "}\n",
              "\n",
              "</style>\n",
              "\n"
            ],
            "text/plain": [
              "<IPython.core.display.HTML object>"
            ]
          },
          "metadata": {
            "tags": []
          },
          "execution_count": 2
        }
      ]
    },
    {
      "metadata": {
        "id": "PgTaJ0v1V_0k",
        "colab_type": "text"
      },
      "cell_type": "markdown",
      "source": [
        "# Deep Learning Fast Start\n",
        "\n",
        "\n",
        "## 0. Overview\n",
        " \n",
        "\n",
        "\n",
        "Alfred Essa \n"
      ]
    },
    {
      "metadata": {
        "id": "tMBxCeP8V_0l",
        "colab_type": "text"
      },
      "cell_type": "markdown",
      "source": [
        "<a rel=\"license\" href=\"http://creativecommons.org/licenses/by/4.0/\"><img alt=\"Creative Commons License\" style=\"border-width:0\" src=\"https://i.creativecommons.org/l/by/4.0/88x31.png\" /></a><br /><span xmlns:dct=\"http://purl.org/dc/terms/\" property=\"dct:title\">Deep Learning Fast Start</span> by <a xmlns:cc=\"http://creativecommons.org/ns#\" href=\"http://alfredessa.com\" property=\"cc:attributionName\" rel=\"cc:attributionURL\">Alfred Essa</a> is licensed under a <a rel=\"license\" href=\"http://creativecommons.org/licenses/by/4.0/\">Creative Commons Attribution 4.0 International License</a>."
      ]
    },
    {
      "metadata": {
        "id": "fmHyDsFdV_0m",
        "colab_type": "text"
      },
      "cell_type": "markdown",
      "source": [
        "# Foundational Concepts"
      ]
    },
    {
      "metadata": {
        "id": "Cl1oNfwVV_0o",
        "colab_type": "text"
      },
      "cell_type": "markdown",
      "source": [
        "<img src=\"https://github.com/alfredessa/DeepLearningFastStart/raw/2642623f099ad676de05b0936700130387149432/images/bigpicture.png\" style=\"width: 60%; height: 60%\"/>"
      ]
    },
    {
      "metadata": {
        "id": "Cct6pE-WV_0p",
        "colab_type": "text"
      },
      "cell_type": "markdown",
      "source": [
        "<img src=\"https://github.com/alfredessa/DeepLearningFastStart/raw/2642623f099ad676de05b0936700130387149432/images/bigpicture1.png\" style=\"width: 60%; height: 60%\" />\n"
      ]
    },
    {
      "metadata": {
        "id": "ovVgDQ3fV_0q",
        "colab_type": "text"
      },
      "cell_type": "markdown",
      "source": [
        "- **Neuron**: the *atomic computational units* of deep learning networks\n",
        "> 하나의 뉴런은 딥러닝 네트웍 구조의 기본 단위이다."
      ]
    },
    {
      "metadata": {
        "id": "nk9rPE7zV_0r",
        "colab_type": "text"
      },
      "cell_type": "markdown",
      "source": [
        "<img src=\"https://github.com/alfredessa/DeepLearningFastStart/raw/2642623f099ad676de05b0936700130387149432/images/bigpicture2.png\" style=\"width: 60%; height: 60%\" />"
      ]
    },
    {
      "metadata": {
        "id": "Y7Hs5YF_V_0u",
        "colab_type": "text"
      },
      "cell_type": "markdown",
      "source": [
        "- **Layers**: neurons are organized in stacked layers to achieve increasingly abstract data representations\n",
        "\n",
        "> 여러 개의 뉴런으로 구성된 레이어를 여러 층으로 구성한다. -> deep layer"
      ]
    },
    {
      "metadata": {
        "id": "vN0cztrhV_0v",
        "colab_type": "text"
      },
      "cell_type": "markdown",
      "source": [
        "<img src=\"https://github.com/alfredessa/DeepLearningFastStart/raw/2642623f099ad676de05b0936700130387149432/images/bigpicture3.png\" style=\"width: 60%; height: 60%\" />"
      ]
    },
    {
      "metadata": {
        "id": "Nkzpyg4OV_0w",
        "colab_type": "text"
      },
      "cell_type": "markdown",
      "source": [
        "- **Forward Propagation**: the end-to-end computational process for generating predictions\n",
        "> 입력(X)이 각 레이어를 통과할 때마다 (선형합, 비선형 활동) 과정을 거쳐서 최종 레이어를 통과하면서 출력(y)으로 반환된다."
      ]
    },
    {
      "metadata": {
        "id": "jHg2XCznV_0y",
        "colab_type": "text"
      },
      "cell_type": "markdown",
      "source": [
        "<img src=\"https://github.com/alfredessa/DeepLearningFastStart/raw/2642623f099ad676de05b0936700130387149432/images/bigpicture4.png\" style=\"width: 60%; height: 60%\" />"
      ]
    },
    {
      "metadata": {
        "id": "omVlVGCkV_0z",
        "colab_type": "text"
      },
      "cell_type": "markdown",
      "source": [
        "- **Loss and Cost Function**: method for quantifying the error or discrepancy between predictions and ground truth\n",
        "> 출력값($\\hat y$)과 원래값($y$)의 차이를 이용한 손실(비용) 함수를 계산한다."
      ]
    },
    {
      "metadata": {
        "id": "2OrCsSneV_00",
        "colab_type": "text"
      },
      "cell_type": "markdown",
      "source": [
        "<img src=\"https://github.com/alfredessa/DeepLearningFastStart/raw/2642623f099ad676de05b0936700130387149432/images/bigpicture5.png\" style=\"width: 60%; height: 60%\" />"
      ]
    },
    {
      "metadata": {
        "id": "dnhrkVfOV_01",
        "colab_type": "text"
      },
      "cell_type": "markdown",
      "source": [
        "- **Backward Propagation**: the computational process for systematically reducing the error by adjusting the network's parameters\n",
        "> 각 레이어를 거슬러 가면서 손실(비용) 함수가 최소가 되는 파라미터와 활동 함수를 재조정한다."
      ]
    },
    {
      "metadata": {
        "id": "-eK1XCtMV_03",
        "colab_type": "text"
      },
      "cell_type": "markdown",
      "source": [
        "### 인공신경망, 머신러밍, 딥러닝 별거 아니죠? ㅠㅠㅠ 복잡..."
      ]
    },
    {
      "metadata": {
        "id": "o1xsHzOqXNZD",
        "colab_type": "text"
      },
      "cell_type": "markdown",
      "source": [
        "\n",
        "\n",
        "---\n",
        "\n"
      ]
    },
    {
      "metadata": {
        "id": "0Ii5DcmBV_04",
        "colab_type": "code",
        "colab": {}
      },
      "cell_type": "code",
      "source": [
        ""
      ],
      "execution_count": 0,
      "outputs": []
    }
  ]
}