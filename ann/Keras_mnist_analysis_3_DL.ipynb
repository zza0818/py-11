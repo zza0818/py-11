{
  "nbformat": 4,
  "nbformat_minor": 0,
  "metadata": {
    "colab": {
      "name": "Keras_mnist_analysis_3_DL",
      "version": "0.3.2",
      "provenance": [],
      "collapsed_sections": [],
      "include_colab_link": true
    },
    "kernelspec": {
      "name": "python3",
      "display_name": "Python 3"
    },
    "accelerator": "GPU"
  },
  "cells": [
    {
      "cell_type": "markdown",
      "metadata": {
        "id": "view-in-github",
        "colab_type": "text"
      },
      "source": [
        "<a href=\"https://colab.research.google.com/github/zza0818/py-11/blob/master/ann/Keras_mnist_analysis_3_DL.ipynb\" target=\"_parent\"><img src=\"https://colab.research.google.com/assets/colab-badge.svg\" alt=\"Open In Colab\"/></a>"
      ]
    },
    {
      "metadata": {
        "colab_type": "text",
        "id": "gq81W1V3PkOY"
      },
      "cell_type": "markdown",
      "source": [
        "## Keras example: mnist analysis by DL (CV2D)\n",
        "\n",
        "- Keras was designed to easily use the famous deep-learning frameworks; tensorflow, tenano. \n",
        "- Keras provides an easy and convenient way to build deep learning models.\n",
        "\n",
        "    - Keras is an open source python library that enables you to easily build Deep Neural Networks. \n",
        "    - The library is capable of running on top of TensorFlow, Theano, Microsoft Cognitive Toolkit, and MXNet. \n",
        "    - Tensorflow and Theano are the most used numerical platforms in Python to build Deep Learning algorithms but they can be quite complex and difficult to use.\n",
        "    \n",
        "[Goood Intro to Keras](https://towardsdatascience.com/how-to-build-a-neural-network-with-keras-e8faa33d0ae4)"
      ]
    },
    {
      "metadata": {
        "id": "Nuc6dPLG-l54",
        "colab_type": "code",
        "colab": {}
      },
      "cell_type": "code",
      "source": [
        "# import numpy as np\n",
        "# from keras.utils import to_categorical\n",
        "# from keras import models\n",
        "# from keras import layers"
      ],
      "execution_count": 0,
      "outputs": []
    },
    {
      "metadata": {
        "colab_type": "code",
        "id": "0uzM3qr9PkOZ",
        "outputId": "59db137f-ef1c-4e31-ce57-bdc72b5d3a45",
        "colab": {
          "base_uri": "https://localhost:8080/",
          "height": 107
        }
      },
      "cell_type": "code",
      "source": [
        "%%time\n",
        "from keras.datasets import mnist\n",
        "(X_train0, y_train0), (X_test0, y_test0) = mnist.load_data()"
      ],
      "execution_count": 0,
      "outputs": [
        {
          "output_type": "stream",
          "text": [
            "Using TensorFlow backend.\n"
          ],
          "name": "stderr"
        },
        {
          "output_type": "stream",
          "text": [
            "Downloading data from https://s3.amazonaws.com/img-datasets/mnist.npz\n",
            "11493376/11490434 [==============================] - 8s 1us/step\n",
            "CPU times: user 1.34 s, sys: 273 ms, total: 1.61 s\n",
            "Wall time: 10.2 s\n"
          ],
          "name": "stdout"
        }
      ]
    },
    {
      "metadata": {
        "colab_type": "code",
        "id": "9QeSX-ynPkOi",
        "outputId": "bc034780-fe6e-4855-dba7-5a15b7377245",
        "colab": {
          "base_uri": "https://localhost:8080/",
          "height": 89
        }
      },
      "cell_type": "code",
      "source": [
        "print(X_train0.shape, X_train0.dtype)\n",
        "print(y_train0.shape, y_train0.dtype)\n",
        "print(X_test0.shape, X_test0.dtype)\n",
        "print(y_test0.shape, y_test0.dtype)"
      ],
      "execution_count": 0,
      "outputs": [
        {
          "output_type": "stream",
          "text": [
            "(60000, 28, 28) uint8\n",
            "(60000,) uint8\n",
            "(10000, 28, 28) uint8\n",
            "(10000,) uint8\n"
          ],
          "name": "stdout"
        }
      ]
    },
    {
      "metadata": {
        "colab_type": "code",
        "id": "Bj9o_J40PkOo",
        "colab": {}
      },
      "cell_type": "code",
      "source": [
        "import matplotlib.pyplot as plt\n",
        "import matplotlib as mpl\n",
        "%matplotlib inline"
      ],
      "execution_count": 0,
      "outputs": []
    },
    {
      "metadata": {
        "id": "b0rDNTjI-1iU",
        "colab_type": "code",
        "outputId": "324b236a-45ee-425b-fb48-8082836eb7df",
        "colab": {
          "base_uri": "https://localhost:8080/",
          "height": 1529
        }
      },
      "cell_type": "code",
      "source": [
        "X_train0[0]  # 0 =< value =< 255"
      ],
      "execution_count": 0,
      "outputs": [
        {
          "output_type": "execute_result",
          "data": {
            "text/plain": [
              "array([[  0,   0,   0,   0,   0,   0,   0,   0,   0,   0,   0,   0,   0,\n",
              "          0,   0,   0,   0,   0,   0,   0,   0,   0,   0,   0,   0,   0,\n",
              "          0,   0],\n",
              "       [  0,   0,   0,   0,   0,   0,   0,   0,   0,   0,   0,   0,   0,\n",
              "          0,   0,   0,   0,   0,   0,   0,   0,   0,   0,   0,   0,   0,\n",
              "          0,   0],\n",
              "       [  0,   0,   0,   0,   0,   0,   0,   0,   0,   0,   0,   0,   0,\n",
              "          0,   0,   0,   0,   0,   0,   0,   0,   0,   0,   0,   0,   0,\n",
              "          0,   0],\n",
              "       [  0,   0,   0,   0,   0,   0,   0,   0,   0,   0,   0,   0,   0,\n",
              "          0,   0,   0,   0,   0,   0,   0,   0,   0,   0,   0,   0,   0,\n",
              "          0,   0],\n",
              "       [  0,   0,   0,   0,   0,   0,   0,   0,   0,   0,   0,   0,   0,\n",
              "          0,   0,   0,   0,   0,   0,   0,   0,   0,   0,   0,   0,   0,\n",
              "          0,   0],\n",
              "       [  0,   0,   0,   0,   0,   0,   0,   0,   0,   0,   0,   0,   3,\n",
              "         18,  18,  18, 126, 136, 175,  26, 166, 255, 247, 127,   0,   0,\n",
              "          0,   0],\n",
              "       [  0,   0,   0,   0,   0,   0,   0,   0,  30,  36,  94, 154, 170,\n",
              "        253, 253, 253, 253, 253, 225, 172, 253, 242, 195,  64,   0,   0,\n",
              "          0,   0],\n",
              "       [  0,   0,   0,   0,   0,   0,   0,  49, 238, 253, 253, 253, 253,\n",
              "        253, 253, 253, 253, 251,  93,  82,  82,  56,  39,   0,   0,   0,\n",
              "          0,   0],\n",
              "       [  0,   0,   0,   0,   0,   0,   0,  18, 219, 253, 253, 253, 253,\n",
              "        253, 198, 182, 247, 241,   0,   0,   0,   0,   0,   0,   0,   0,\n",
              "          0,   0],\n",
              "       [  0,   0,   0,   0,   0,   0,   0,   0,  80, 156, 107, 253, 253,\n",
              "        205,  11,   0,  43, 154,   0,   0,   0,   0,   0,   0,   0,   0,\n",
              "          0,   0],\n",
              "       [  0,   0,   0,   0,   0,   0,   0,   0,   0,  14,   1, 154, 253,\n",
              "         90,   0,   0,   0,   0,   0,   0,   0,   0,   0,   0,   0,   0,\n",
              "          0,   0],\n",
              "       [  0,   0,   0,   0,   0,   0,   0,   0,   0,   0,   0, 139, 253,\n",
              "        190,   2,   0,   0,   0,   0,   0,   0,   0,   0,   0,   0,   0,\n",
              "          0,   0],\n",
              "       [  0,   0,   0,   0,   0,   0,   0,   0,   0,   0,   0,  11, 190,\n",
              "        253,  70,   0,   0,   0,   0,   0,   0,   0,   0,   0,   0,   0,\n",
              "          0,   0],\n",
              "       [  0,   0,   0,   0,   0,   0,   0,   0,   0,   0,   0,   0,  35,\n",
              "        241, 225, 160, 108,   1,   0,   0,   0,   0,   0,   0,   0,   0,\n",
              "          0,   0],\n",
              "       [  0,   0,   0,   0,   0,   0,   0,   0,   0,   0,   0,   0,   0,\n",
              "         81, 240, 253, 253, 119,  25,   0,   0,   0,   0,   0,   0,   0,\n",
              "          0,   0],\n",
              "       [  0,   0,   0,   0,   0,   0,   0,   0,   0,   0,   0,   0,   0,\n",
              "          0,  45, 186, 253, 253, 150,  27,   0,   0,   0,   0,   0,   0,\n",
              "          0,   0],\n",
              "       [  0,   0,   0,   0,   0,   0,   0,   0,   0,   0,   0,   0,   0,\n",
              "          0,   0,  16,  93, 252, 253, 187,   0,   0,   0,   0,   0,   0,\n",
              "          0,   0],\n",
              "       [  0,   0,   0,   0,   0,   0,   0,   0,   0,   0,   0,   0,   0,\n",
              "          0,   0,   0,   0, 249, 253, 249,  64,   0,   0,   0,   0,   0,\n",
              "          0,   0],\n",
              "       [  0,   0,   0,   0,   0,   0,   0,   0,   0,   0,   0,   0,   0,\n",
              "          0,  46, 130, 183, 253, 253, 207,   2,   0,   0,   0,   0,   0,\n",
              "          0,   0],\n",
              "       [  0,   0,   0,   0,   0,   0,   0,   0,   0,   0,   0,   0,  39,\n",
              "        148, 229, 253, 253, 253, 250, 182,   0,   0,   0,   0,   0,   0,\n",
              "          0,   0],\n",
              "       [  0,   0,   0,   0,   0,   0,   0,   0,   0,   0,  24, 114, 221,\n",
              "        253, 253, 253, 253, 201,  78,   0,   0,   0,   0,   0,   0,   0,\n",
              "          0,   0],\n",
              "       [  0,   0,   0,   0,   0,   0,   0,   0,  23,  66, 213, 253, 253,\n",
              "        253, 253, 198,  81,   2,   0,   0,   0,   0,   0,   0,   0,   0,\n",
              "          0,   0],\n",
              "       [  0,   0,   0,   0,   0,   0,  18, 171, 219, 253, 253, 253, 253,\n",
              "        195,  80,   9,   0,   0,   0,   0,   0,   0,   0,   0,   0,   0,\n",
              "          0,   0],\n",
              "       [  0,   0,   0,   0,  55, 172, 226, 253, 253, 253, 253, 244, 133,\n",
              "         11,   0,   0,   0,   0,   0,   0,   0,   0,   0,   0,   0,   0,\n",
              "          0,   0],\n",
              "       [  0,   0,   0,   0, 136, 253, 253, 253, 212, 135, 132,  16,   0,\n",
              "          0,   0,   0,   0,   0,   0,   0,   0,   0,   0,   0,   0,   0,\n",
              "          0,   0],\n",
              "       [  0,   0,   0,   0,   0,   0,   0,   0,   0,   0,   0,   0,   0,\n",
              "          0,   0,   0,   0,   0,   0,   0,   0,   0,   0,   0,   0,   0,\n",
              "          0,   0],\n",
              "       [  0,   0,   0,   0,   0,   0,   0,   0,   0,   0,   0,   0,   0,\n",
              "          0,   0,   0,   0,   0,   0,   0,   0,   0,   0,   0,   0,   0,\n",
              "          0,   0],\n",
              "       [  0,   0,   0,   0,   0,   0,   0,   0,   0,   0,   0,   0,   0,\n",
              "          0,   0,   0,   0,   0,   0,   0,   0,   0,   0,   0,   0,   0,\n",
              "          0,   0]], dtype=uint8)"
            ]
          },
          "metadata": {
            "tags": []
          },
          "execution_count": 6
        }
      ]
    },
    {
      "metadata": {
        "id": "QRYDLgyX-9Q9",
        "colab_type": "code",
        "outputId": "853ac778-2b32-47a7-fd1a-af049e8078a3",
        "colab": {
          "base_uri": "https://localhost:8080/",
          "height": 35
        }
      },
      "cell_type": "code",
      "source": [
        "y_train0[0]"
      ],
      "execution_count": 0,
      "outputs": [
        {
          "output_type": "execute_result",
          "data": {
            "text/plain": [
              "5"
            ]
          },
          "metadata": {
            "tags": []
          },
          "execution_count": 7
        }
      ]
    },
    {
      "metadata": {
        "colab_type": "code",
        "id": "G1go9IU4PkOs",
        "outputId": "93d39346-2a4c-418d-81f5-361d46c14273",
        "colab": {
          "base_uri": "https://localhost:8080/",
          "height": 140
        }
      },
      "cell_type": "code",
      "source": [
        "# Plot X_train0[0]\n",
        "plt.figure(figsize=(2, 2))\n",
        "plt.imshow(X_train0[0], cmap=mpl.cm.bone_r)  # colormap\n",
        "plt.grid(False)\n",
        "plt.xticks([])\n",
        "plt.yticks([])\n",
        "plt.show()"
      ],
      "execution_count": 0,
      "outputs": [
        {
          "output_type": "display_data",
          "data": {
            "image/png": "[encoded data removed]",
            "text/plain": [
              "<matplotlib.figure.Figure at 0x7fabc77972e8>"
            ]
          },
          "metadata": {
            "tags": []
          }
        }
      ]
    },
    {
      "metadata": {
        "colab_type": "text",
        "id": "pU6e7TCgPkOx"
      },
      "cell_type": "markdown",
      "source": [
        "### Show images of numbers"
      ]
    },
    {
      "metadata": {
        "colab_type": "code",
        "id": "vjFhCPAZPkOy",
        "colab": {}
      },
      "cell_type": "code",
      "source": [
        "# 추가 사항\n",
        "import numpy as np\n",
        "# import matplotlib as mpl\n",
        "def plot_digits(instances, images_per_row=10, **options):\n",
        "    size = 28\n",
        "    images_per_row = min(len(instances), images_per_row)\n",
        "    images = [instance.reshape(size,size) for instance in instances]\n",
        "    n_rows = (len(instances) - 1) // images_per_row + 1\n",
        "    row_images = []\n",
        "    n_empty = n_rows * images_per_row - len(instances)\n",
        "    images.append(np.zeros((size, size * n_empty)))\n",
        "    for row in range(n_rows):\n",
        "        rimages = images[row * images_per_row : (row + 1) * images_per_row]\n",
        "        row_images.append(np.concatenate(rimages, axis=1))\n",
        "    image = np.concatenate(row_images, axis=0)\n",
        "    plt.imshow(image, cmap = mpl.cm.binary, **options)\n",
        "    plt.axis(\"off\")"
      ],
      "execution_count": 0,
      "outputs": []
    },
    {
      "metadata": {
        "colab_type": "code",
        "id": "wHX6-gGpPkO2",
        "outputId": "1072eb03-67ca-4223-d86c-0898114ad41b",
        "colab": {
          "base_uri": "https://localhost:8080/",
          "height": 302
        }
      },
      "cell_type": "code",
      "source": [
        "plt.figure(figsize=(9,9))\n",
        "example_images = np.r_[X_train0[:50]]\n",
        "plot_digits(example_images, images_per_row=10)\n",
        "\n",
        "plt.show()"
      ],
      "execution_count": 0,
      "outputs": [
        {
          "output_type": "display_data",
          "data": {
            "image/png": "[encoded data removed]",
            "text/plain": [
              "<matplotlib.figure.Figure at 0x7fabc4a84978>"
            ]
          },
          "metadata": {
            "tags": []
          }
        }
      ]
    },
    {
      "metadata": {
        "colab_type": "text",
        "id": "DMWvytSlPkO7"
      },
      "cell_type": "markdown",
      "source": [
        "### 데이터를 float 타입으로 바꾸고 스케일링한다. (GPU powered!)"
      ]
    },
    {
      "metadata": {
        "colab_type": "code",
        "id": "WyTcH3aDPkO8",
        "outputId": "235d9bc6-30c4-4134-8125-9b7fb7303b38",
        "colab": {
          "base_uri": "https://localhost:8080/",
          "height": 35
        }
      },
      "cell_type": "code",
      "source": [
        "X_train = X_train0.reshape(60000, 28, 28, 1).astype('float32') / 255.0\n",
        "X_test = X_test0.reshape(10000, 28, 28, 1).astype('float32') / 255.0\n",
        "print(X_train.shape, X_train.dtype)\n",
        "\n",
        "# 데이터의 구조가 simple NN과는 다름을 확인하시오. (784 -> (28,28))"
      ],
      "execution_count": 0,
      "outputs": [
        {
          "output_type": "stream",
          "text": [
            "(60000, 28, 28, 1) float32\n"
          ],
          "name": "stdout"
        }
      ]
    },
    {
      "metadata": {
        "colab_type": "text",
        "id": "oibwpCXCPkPC"
      },
      "cell_type": "markdown",
      "source": [
        "### y 데이터는 One-Hot-Encoding 을 한다. (Probabilistic labeling) -> 0부터 시작해서 10까지 나타낸다하면 5일때 5만 빼고는 다0이고 5에는 1이다. 인덱스는0부터 시작하니깐!"
      ]
    },
    {
      "metadata": {
        "colab_type": "code",
        "id": "p4Q3HTYCPkPD",
        "outputId": "a7b3d36f-c304-4505-9e63-86f8124bd6c4",
        "colab": {
          "base_uri": "https://localhost:8080/",
          "height": 35
        }
      },
      "cell_type": "code",
      "source": [
        "y_train0[:5]  # first 5 labels"
      ],
      "execution_count": 0,
      "outputs": [
        {
          "output_type": "execute_result",
          "data": {
            "text/plain": [
              "array([5, 0, 4, 1, 9], dtype=uint8)"
            ]
          },
          "metadata": {
            "tags": []
          },
          "execution_count": 14
        }
      ]
    },
    {
      "metadata": {
        "colab_type": "code",
        "id": "8cUjXZRhPkPI",
        "outputId": "d1be98ec-e3e3-4ff4-97e3-ee57f72cca7e",
        "colab": {
          "base_uri": "https://localhost:8080/",
          "height": 107
        }
      },
      "cell_type": "code",
      "source": [
        "# to_categorical()\n",
        "from keras.utils import np_utils\n",
        "\n",
        "y_train = np_utils.to_categorical(y_train0, 10)\n",
        "y_test = np_utils.to_categorical(y_test0, 10)\n",
        "y_train[:5]  # Probabilistic labeling"
      ],
      "execution_count": 0,
      "outputs": [
        {
          "output_type": "execute_result",
          "data": {
            "text/plain": [
              "array([[0., 0., 0., 0., 0., 1., 0., 0., 0., 0.],\n",
              "       [1., 0., 0., 0., 0., 0., 0., 0., 0., 0.],\n",
              "       [0., 0., 0., 0., 1., 0., 0., 0., 0., 0.],\n",
              "       [0., 1., 0., 0., 0., 0., 0., 0., 0., 0.],\n",
              "       [0., 0., 0., 0., 0., 0., 0., 0., 0., 1.]], dtype=float32)"
            ]
          },
          "metadata": {
            "tags": []
          },
          "execution_count": 15
        }
      ]
    },
    {
      "metadata": {
        "colab_type": "text",
        "id": "9yfmlb0IPkPR"
      },
      "cell_type": "markdown",
      "source": [
        "***"
      ]
    },
    {
      "metadata": {
        "colab_type": "text",
        "id": "lENaEbwCPkPS"
      },
      "cell_type": "markdown",
      "source": [
        "## 신경망 구현 순서\n",
        "\n",
        "### Keras 를 사용하면 다음과 같은 순서로 신경망을 구성할 수 있다.\n",
        "\n",
        "1. **모형 객체 생성**, Sequential 모형 클래스 객체 생성\n",
        "2. **신경망 구성**, add 메서드로 layer 추가하여 구성\n",
        "    - Dense layer 가 가장 일반적인 신경망\n",
        "    - 입력단부터 순차적으로 추가한다.\n",
        "    - 레이어는 출력 뉴런 갯수를 첫번째 인수로 받는다.\n",
        "    - 최초의 레이어는 input_dim 인수로 입력 크기를 설정해야 한다.\n",
        "    - activation 인수로 activation 함수 설정\n",
        "3. **compile** 메서드로 모형 완성.\n",
        "    - loss인수로 Loss 함수 설정\n",
        "    - optimizer 인수로 최적화 알고리즘 설정\n",
        "    - metrics 인수로 트레이닝 단계에서 기록할 성능 기준 설정\n",
        "4. **fit** 메서드로 트레이닝\n",
        "    - nb_epoch 로 epoch 횟수 설정\n",
        "    - batch_size 로 mini batch size 설정\n",
        "    - metrics 인수로 설정한 성능 기준 기록을 출력으로 반환\n",
        "    - Jupyter Notebook을 사용할 때는 verbose=1 ->  show progress bar , verbose=2 ->  No progress bar "
      ]
    },
    {
      "metadata": {
        "colab_type": "text",
        "id": "q0zswd4ePkPc"
      },
      "cell_type": "markdown",
      "source": [
        "### 모형 구조 출력 준비\n",
        "> 만들어진 모형은 model_to_dot 명령이나 summary 명령으로 모델 내부의 layers 리스트를 살펴봄으로써 내부 구조를 확인할 수 있다.\n",
        "- graphviz, pydot"
      ]
    },
    {
      "metadata": {
        "colab_type": "code",
        "id": "ZohgHIFuHnJ1",
        "colab": {}
      },
      "cell_type": "code",
      "source": [
        "# # Method-1 (Failed)\n",
        "# # Install graphviz and pydot\n",
        "# # https://pypi.python.org/pypi/pydot\n",
        "# !apt-get -qq install -y graphviz && pip install -q pydot\n",
        "# import pydot"
      ],
      "execution_count": 0,
      "outputs": []
    },
    {
      "metadata": {
        "colab_type": "code",
        "id": "Cs6XQheZPkPd",
        "colab": {}
      },
      "cell_type": "code",
      "source": [
        "# # Method-2 (Failed)\n",
        "# !pip install pydot\n",
        "# !pip install pydotplus\n",
        "# !pip install GraphViz\n",
        "# import pydot"
      ],
      "execution_count": 0,
      "outputs": []
    },
    {
      "metadata": {
        "id": "kLEBToWfC4mG",
        "colab_type": "code",
        "outputId": "f8d97b9c-252f-4556-f3d8-b4c35806de28",
        "colab": {
          "base_uri": "https://localhost:8080/",
          "height": 179
        }
      },
      "cell_type": "code",
      "source": [
        "# https://laujohn.com/2018/09/24/Plot-Keras-Model-in-Colaboratory/\n",
        "# Install dependencies\n",
        "!apt install graphviz\n",
        "!pip install pydot pydot-ng\n",
        "!echo \"Double check with Python 3\"\n",
        "!python -c \"import pydot\"\n",
        "\n",
        "# Restart runtime to allow Jupyter to know the changes above (If necessary, run the below code)\n",
        "import os\n",
        "os._exit(0)"
      ],
      "execution_count": 0,
      "outputs": [
        {
          "output_type": "stream",
          "text": [
            "Reading package lists... Done\n",
            "Building dependency tree       \n",
            "Reading state information... Done\n",
            "graphviz is already the newest version (2.40.1-2).\n",
            "0 upgraded, 0 newly installed, 0 to remove and 7 not upgraded.\n",
            "Requirement already satisfied: pydot in /usr/local/lib/python3.6/dist-packages (1.4.0)\n",
            "Requirement already satisfied: pydot-ng in /usr/local/lib/python3.6/dist-packages (2.0.0)\n",
            "Requirement already satisfied: pyparsing>=2.1.4 in /usr/local/lib/python3.6/dist-packages (from pydot) (2.3.0)\n",
            "Double check with Python 3\n"
          ],
          "name": "stdout"
        }
      ]
    },
    {
      "metadata": {
        "colab_type": "code",
        "id": "SNUjbYmnPkPn",
        "colab": {}
      },
      "cell_type": "code",
      "source": [
        "# import graphviz\n",
        "import pydot"
      ],
      "execution_count": 0,
      "outputs": []
    },
    {
      "metadata": {
        "id": "nZJZDg8nKQnz",
        "colab_type": "text"
      },
      "cell_type": "markdown",
      "source": [
        "### 모형 구성"
      ]
    },
    {
      "metadata": {
        "colab_type": "code",
        "id": "RfehsUoOPkPT",
        "outputId": "f32b027c-519f-4ba1-d93c-8b4d76ac7a85",
        "colab": {
          "base_uri": "https://localhost:8080/",
          "height": 35
        }
      },
      "cell_type": "code",
      "source": [
        "from keras.optimizers import SGD  # Stochastic Gradient Decent\n",
        "import numpy as np\n",
        "from keras.datasets import mnist\n",
        "from keras.utils import np_utils\n",
        "from keras.models import Sequential\n",
        "from keras.layers import Dense, Dropout, Flatten, Conv2D, MaxPooling2D\n",
        "from keras.callbacks import ModelCheckpoint,EarlyStopping"
      ],
      "execution_count": 0,
      "outputs": [
        {
          "output_type": "stream",
          "text": [
            "Using TensorFlow backend.\n"
          ],
          "name": "stderr"
        }
      ]
    },
    {
      "metadata": {
        "colab_type": "code",
        "id": "ztZnREtXPkPY",
        "colab": {}
      },
      "cell_type": "code",
      "source": [
        "# Deep Learning model\n",
        "np.random.seed(0)\n",
        "\n",
        "# Simple NN\n",
        "# model = Sequential()\n",
        "# model.add(Dense(15, input_dim=784, activation=\"sigmoid\"))  # firsr layer\n",
        "# model.add(Dense(10, activation=\"sigmoid\")) # output layer\n",
        "# model.compile(optimizer=SGD(lr=0.2), loss='mean_squared_error', metrics=[\"accuracy\"])\n",
        "\n",
        "# 컨볼루션 신경망의 설정 (Convolutional neural network 2D)\n",
        "model = Sequential()\n",
        "# model.add(Conv2D(32, kernel_size=(3, 3), input_dim=784, activation='relu'))\n",
        "model.add(Conv2D(32, kernel_size=(3, 3), input_shape=(28, 28, 1), activation='relu')) # 1st layer with input\n",
        "model.add(Conv2D(64, (3, 3), activation='relu')) # 2nd layer\n",
        "model.add(MaxPooling2D(pool_size=2))  # Poolin layer\n",
        "model.add(Dropout(0.25))  # Set dropout\n",
        "model.add(Flatten())      # Flatten\n",
        "model.add(Dense(128,  activation='relu'))  # Fully connected layer\n",
        "model.add(Dropout(0.5))   # Set dropout\n",
        "model.add(Dense(10, activation='softmax')) # Output layer with softmax activation"
      ],
      "execution_count": 0,
      "outputs": []
    },
    {
      "metadata": {
        "colab_type": "code",
        "id": "AAr5tQ9wPkPq",
        "outputId": "32e205f6-c7dc-42e2-e794-2bb84a091430",
        "colab": {
          "base_uri": "https://localhost:8080/",
          "height": 965
        }
      },
      "cell_type": "code",
      "source": [
        "from IPython.display import SVG\n",
        "from keras.utils.vis_utils import model_to_dot\n",
        "\n",
        "SVG(model_to_dot(model, show_shapes=True).create(prog='dot', format='svg'))"
      ],
      "execution_count": 0,
      "outputs": [
        {
          "output_type": "execute_result",
          "data": {
            "text/plain": [
              "<IPython.core.display.SVG object>"
            ],
            "image/svg+xml": "<svg height=\"709pt\" viewBox=\"0.00 0.00 412.00 709.00\" width=\"412pt\" xmlns=\"http://www.w3.org/2000/svg\" xmlns:xlink=\"http://www.w3.org/1999/xlink\">\n<g class=\"graph\" id=\"graph0\" transform=\"scale(1 1) rotate(0) translate(4 705)\">\n<title>G</title>\n<polygon fill=\"#ffffff\" points=\"-4,4 -4,-705 408,-705 408,4 -4,4\" stroke=\"transparent\"/>\n<!-- 140175208793088 -->\n<g class=\"node\" id=\"node1\">\n<title>140175208793088</title>\n<polygon fill=\"none\" points=\"44,-581.5 44,-627.5 360,-627.5 360,-581.5 44,-581.5\" stroke=\"#000000\"/>\n<text fill=\"#000000\" font-family=\"Times,serif\" font-size=\"14.00\" text-anchor=\"middle\" x=\"110.5\" y=\"-600.8\">conv2d_1: Conv2D</text>\n<polyline fill=\"none\" points=\"177,-581.5 177,-627.5 \" stroke=\"#000000\"/>\n<text fill=\"#000000\" font-family=\"Times,serif\" font-size=\"14.00\" text-anchor=\"middle\" x=\"206\" y=\"-612.3\">input:</text>\n<polyline fill=\"none\" points=\"177,-604.5 235,-604.5 \" stroke=\"#000000\"/>\n<text fill=\"#000000\" font-family=\"Times,serif\" font-size=\"14.00\" text-anchor=\"middle\" x=\"206\" y=\"-589.3\">output:</text>\n<polyline fill=\"none\" points=\"235,-581.5 235,-627.5 \" stroke=\"#000000\"/>\n<text fill=\"#000000\" font-family=\"Times,serif\" font-size=\"14.00\" text-anchor=\"middle\" x=\"297.5\" y=\"-612.3\">(None, 28, 28, 1)</text>\n<polyline fill=\"none\" points=\"235,-604.5 360,-604.5 \" stroke=\"#000000\"/>\n<text fill=\"#000000\" font-family=\"Times,serif\" font-size=\"14.00\" text-anchor=\"middle\" x=\"297.5\" y=\"-589.3\">(None, 26, 26, 32)</text>\n</g>\n<!-- 140175203684136 -->\n<g class=\"node\" id=\"node2\">\n<title>140175203684136</title>\n<polygon fill=\"none\" points=\"44,-498.5 44,-544.5 360,-544.5 360,-498.5 44,-498.5\" stroke=\"#000000\"/>\n<text fill=\"#000000\" font-family=\"Times,serif\" font-size=\"14.00\" text-anchor=\"middle\" x=\"110.5\" y=\"-517.8\">conv2d_2: Conv2D</text>\n<polyline fill=\"none\" points=\"177,-498.5 177,-544.5 \" stroke=\"#000000\"/>\n<text fill=\"#000000\" font-family=\"Times,serif\" font-size=\"14.00\" text-anchor=\"middle\" x=\"206\" y=\"-529.3\">input:</text>\n<polyline fill=\"none\" points=\"177,-521.5 235,-521.5 \" stroke=\"#000000\"/>\n<text fill=\"#000000\" font-family=\"Times,serif\" font-size=\"14.00\" text-anchor=\"middle\" x=\"206\" y=\"-506.3\">output:</text>\n<polyline fill=\"none\" points=\"235,-498.5 235,-544.5 \" stroke=\"#000000\"/>\n<text fill=\"#000000\" font-family=\"Times,serif\" font-size=\"14.00\" text-anchor=\"middle\" x=\"297.5\" y=\"-529.3\">(None, 26, 26, 32)</text>\n<polyline fill=\"none\" points=\"235,-521.5 360,-521.5 \" stroke=\"#000000\"/>\n<text fill=\"#000000\" font-family=\"Times,serif\" font-size=\"14.00\" text-anchor=\"middle\" x=\"297.5\" y=\"-506.3\">(None, 24, 24, 64)</text>\n</g>\n<!-- 140175208793088&#45;&gt;140175203684136 -->\n<g class=\"edge\" id=\"edge2\">\n<title>140175208793088-&gt;140175203684136</title>\n<path d=\"M202,-581.3799C202,-573.1745 202,-563.7679 202,-554.8786\" fill=\"none\" stroke=\"#000000\"/>\n<polygon fill=\"#000000\" points=\"205.5001,-554.784 202,-544.784 198.5001,-554.784 205.5001,-554.784\" stroke=\"#000000\"/>\n</g>\n<!-- 140174163487544 -->\n<g class=\"node\" id=\"node3\">\n<title>140174163487544</title>\n<polygon fill=\"none\" points=\"0,-415.5 0,-461.5 404,-461.5 404,-415.5 0,-415.5\" stroke=\"#000000\"/>\n<text fill=\"#000000\" font-family=\"Times,serif\" font-size=\"14.00\" text-anchor=\"middle\" x=\"110.5\" y=\"-434.8\">max_pooling2d_1: MaxPooling2D</text>\n<polyline fill=\"none\" points=\"221,-415.5 221,-461.5 \" stroke=\"#000000\"/>\n<text fill=\"#000000\" font-family=\"Times,serif\" font-size=\"14.00\" text-anchor=\"middle\" x=\"250\" y=\"-446.3\">input:</text>\n<polyline fill=\"none\" points=\"221,-438.5 279,-438.5 \" stroke=\"#000000\"/>\n<text fill=\"#000000\" font-family=\"Times,serif\" font-size=\"14.00\" text-anchor=\"middle\" x=\"250\" y=\"-423.3\">output:</text>\n<polyline fill=\"none\" points=\"279,-415.5 279,-461.5 \" stroke=\"#000000\"/>\n<text fill=\"#000000\" font-family=\"Times,serif\" font-size=\"14.00\" text-anchor=\"middle\" x=\"341.5\" y=\"-446.3\">(None, 24, 24, 64)</text>\n<polyline fill=\"none\" points=\"279,-438.5 404,-438.5 \" stroke=\"#000000\"/>\n<text fill=\"#000000\" font-family=\"Times,serif\" font-size=\"14.00\" text-anchor=\"middle\" x=\"341.5\" y=\"-423.3\">(None, 12, 12, 64)</text>\n</g>\n<!-- 140175203684136&#45;&gt;140174163487544 -->\n<g class=\"edge\" id=\"edge3\">\n<title>140175203684136-&gt;140174163487544</title>\n<path d=\"M202,-498.3799C202,-490.1745 202,-480.7679 202,-471.8786\" fill=\"none\" stroke=\"#000000\"/>\n<polygon fill=\"#000000\" points=\"205.5001,-471.784 202,-461.784 198.5001,-471.784 205.5001,-471.784\" stroke=\"#000000\"/>\n</g>\n<!-- 140174154686192 -->\n<g class=\"node\" id=\"node4\">\n<title>140174154686192</title>\n<polygon fill=\"none\" points=\"43.5,-332.5 43.5,-378.5 360.5,-378.5 360.5,-332.5 43.5,-332.5\" stroke=\"#000000\"/>\n<text fill=\"#000000\" font-family=\"Times,serif\" font-size=\"14.00\" text-anchor=\"middle\" x=\"110.5\" y=\"-351.8\">dropout_1: Dropout</text>\n<polyline fill=\"none\" points=\"177.5,-332.5 177.5,-378.5 \" stroke=\"#000000\"/>\n<text fill=\"#000000\" font-family=\"Times,serif\" font-size=\"14.00\" text-anchor=\"middle\" x=\"206.5\" y=\"-363.3\">input:</text>\n<polyline fill=\"none\" points=\"177.5,-355.5 235.5,-355.5 \" stroke=\"#000000\"/>\n<text fill=\"#000000\" font-family=\"Times,serif\" font-size=\"14.00\" text-anchor=\"middle\" x=\"206.5\" y=\"-340.3\">output:</text>\n<polyline fill=\"none\" points=\"235.5,-332.5 235.5,-378.5 \" stroke=\"#000000\"/>\n<text fill=\"#000000\" font-family=\"Times,serif\" font-size=\"14.00\" text-anchor=\"middle\" x=\"298\" y=\"-363.3\">(None, 12, 12, 64)</text>\n<polyline fill=\"none\" points=\"235.5,-355.5 360.5,-355.5 \" stroke=\"#000000\"/>\n<text fill=\"#000000\" font-family=\"Times,serif\" font-size=\"14.00\" text-anchor=\"middle\" x=\"298\" y=\"-340.3\">(None, 12, 12, 64)</text>\n</g>\n<!-- 140174163487544&#45;&gt;140174154686192 -->\n<g class=\"edge\" id=\"edge4\">\n<title>140174163487544-&gt;140174154686192</title>\n<path d=\"M202,-415.3799C202,-407.1745 202,-397.7679 202,-388.8786\" fill=\"none\" stroke=\"#000000\"/>\n<polygon fill=\"#000000\" points=\"205.5001,-388.784 202,-378.784 198.5001,-388.784 205.5001,-388.784\" stroke=\"#000000\"/>\n</g>\n<!-- 140174163487152 -->\n<g class=\"node\" id=\"node5\">\n<title>140174163487152</title>\n<polygon fill=\"none\" points=\"54,-249.5 54,-295.5 350,-295.5 350,-249.5 54,-249.5\" stroke=\"#000000\"/>\n<text fill=\"#000000\" font-family=\"Times,serif\" font-size=\"14.00\" text-anchor=\"middle\" x=\"110.5\" y=\"-268.8\">flatten_1: Flatten</text>\n<polyline fill=\"none\" points=\"167,-249.5 167,-295.5 \" stroke=\"#000000\"/>\n<text fill=\"#000000\" font-family=\"Times,serif\" font-size=\"14.00\" text-anchor=\"middle\" x=\"196\" y=\"-280.3\">input:</text>\n<polyline fill=\"none\" points=\"167,-272.5 225,-272.5 \" stroke=\"#000000\"/>\n<text fill=\"#000000\" font-family=\"Times,serif\" font-size=\"14.00\" text-anchor=\"middle\" x=\"196\" y=\"-257.3\">output:</text>\n<polyline fill=\"none\" points=\"225,-249.5 225,-295.5 \" stroke=\"#000000\"/>\n<text fill=\"#000000\" font-family=\"Times,serif\" font-size=\"14.00\" text-anchor=\"middle\" x=\"287.5\" y=\"-280.3\">(None, 12, 12, 64)</text>\n<polyline fill=\"none\" points=\"225,-272.5 350,-272.5 \" stroke=\"#000000\"/>\n<text fill=\"#000000\" font-family=\"Times,serif\" font-size=\"14.00\" text-anchor=\"middle\" x=\"287.5\" y=\"-257.3\">(None, 9216)</text>\n</g>\n<!-- 140174154686192&#45;&gt;140174163487152 -->\n<g class=\"edge\" id=\"edge5\">\n<title>140174154686192-&gt;140174163487152</title>\n<path d=\"M202,-332.3799C202,-324.1745 202,-314.7679 202,-305.8786\" fill=\"none\" stroke=\"#000000\"/>\n<polygon fill=\"#000000\" points=\"205.5001,-305.784 202,-295.784 198.5001,-305.784 205.5001,-305.784\" stroke=\"#000000\"/>\n</g>\n<!-- 140174154685968 -->\n<g class=\"node\" id=\"node6\">\n<title>140174154685968</title>\n<polygon fill=\"none\" points=\"72,-166.5 72,-212.5 332,-212.5 332,-166.5 72,-166.5\" stroke=\"#000000\"/>\n<text fill=\"#000000\" font-family=\"Times,serif\" font-size=\"14.00\" text-anchor=\"middle\" x=\"125.5\" y=\"-185.8\">dense_1: Dense</text>\n<polyline fill=\"none\" points=\"179,-166.5 179,-212.5 \" stroke=\"#000000\"/>\n<text fill=\"#000000\" font-family=\"Times,serif\" font-size=\"14.00\" text-anchor=\"middle\" x=\"208\" y=\"-197.3\">input:</text>\n<polyline fill=\"none\" points=\"179,-189.5 237,-189.5 \" stroke=\"#000000\"/>\n<text fill=\"#000000\" font-family=\"Times,serif\" font-size=\"14.00\" text-anchor=\"middle\" x=\"208\" y=\"-174.3\">output:</text>\n<polyline fill=\"none\" points=\"237,-166.5 237,-212.5 \" stroke=\"#000000\"/>\n<text fill=\"#000000\" font-family=\"Times,serif\" font-size=\"14.00\" text-anchor=\"middle\" x=\"284.5\" y=\"-197.3\">(None, 9216)</text>\n<polyline fill=\"none\" points=\"237,-189.5 332,-189.5 \" stroke=\"#000000\"/>\n<text fill=\"#000000\" font-family=\"Times,serif\" font-size=\"14.00\" text-anchor=\"middle\" x=\"284.5\" y=\"-174.3\">(None, 128)</text>\n</g>\n<!-- 140174163487152&#45;&gt;140174154685968 -->\n<g class=\"edge\" id=\"edge6\">\n<title>140174163487152-&gt;140174154685968</title>\n<path d=\"M202,-249.3799C202,-241.1745 202,-231.7679 202,-222.8786\" fill=\"none\" stroke=\"#000000\"/>\n<polygon fill=\"#000000\" points=\"205.5001,-222.784 202,-212.784 198.5001,-222.784 205.5001,-222.784\" stroke=\"#000000\"/>\n</g>\n<!-- 140174154798192 -->\n<g class=\"node\" id=\"node7\">\n<title>140174154798192</title>\n<polygon fill=\"none\" points=\"62.5,-83.5 62.5,-129.5 341.5,-129.5 341.5,-83.5 62.5,-83.5\" stroke=\"#000000\"/>\n<text fill=\"#000000\" font-family=\"Times,serif\" font-size=\"14.00\" text-anchor=\"middle\" x=\"129.5\" y=\"-102.8\">dropout_2: Dropout</text>\n<polyline fill=\"none\" points=\"196.5,-83.5 196.5,-129.5 \" stroke=\"#000000\"/>\n<text fill=\"#000000\" font-family=\"Times,serif\" font-size=\"14.00\" text-anchor=\"middle\" x=\"225.5\" y=\"-114.3\">input:</text>\n<polyline fill=\"none\" points=\"196.5,-106.5 254.5,-106.5 \" stroke=\"#000000\"/>\n<text fill=\"#000000\" font-family=\"Times,serif\" font-size=\"14.00\" text-anchor=\"middle\" x=\"225.5\" y=\"-91.3\">output:</text>\n<polyline fill=\"none\" points=\"254.5,-83.5 254.5,-129.5 \" stroke=\"#000000\"/>\n<text fill=\"#000000\" font-family=\"Times,serif\" font-size=\"14.00\" text-anchor=\"middle\" x=\"298\" y=\"-114.3\">(None, 128)</text>\n<polyline fill=\"none\" points=\"254.5,-106.5 341.5,-106.5 \" stroke=\"#000000\"/>\n<text fill=\"#000000\" font-family=\"Times,serif\" font-size=\"14.00\" text-anchor=\"middle\" x=\"298\" y=\"-91.3\">(None, 128)</text>\n</g>\n<!-- 140174154685968&#45;&gt;140174154798192 -->\n<g class=\"edge\" id=\"edge7\">\n<title>140174154685968-&gt;140174154798192</title>\n<path d=\"M202,-166.3799C202,-158.1745 202,-148.7679 202,-139.8786\" fill=\"none\" stroke=\"#000000\"/>\n<polygon fill=\"#000000\" points=\"205.5001,-139.784 202,-129.784 198.5001,-139.784 205.5001,-139.784\" stroke=\"#000000\"/>\n</g>\n<!-- 140174154122184 -->\n<g class=\"node\" id=\"node8\">\n<title>140174154122184</title>\n<polygon fill=\"none\" points=\"76,-.5 76,-46.5 328,-46.5 328,-.5 76,-.5\" stroke=\"#000000\"/>\n<text fill=\"#000000\" font-family=\"Times,serif\" font-size=\"14.00\" text-anchor=\"middle\" x=\"129.5\" y=\"-19.8\">dense_2: Dense</text>\n<polyline fill=\"none\" points=\"183,-.5 183,-46.5 \" stroke=\"#000000\"/>\n<text fill=\"#000000\" font-family=\"Times,serif\" font-size=\"14.00\" text-anchor=\"middle\" x=\"212\" y=\"-31.3\">input:</text>\n<polyline fill=\"none\" points=\"183,-23.5 241,-23.5 \" stroke=\"#000000\"/>\n<text fill=\"#000000\" font-family=\"Times,serif\" font-size=\"14.00\" text-anchor=\"middle\" x=\"212\" y=\"-8.3\">output:</text>\n<polyline fill=\"none\" points=\"241,-.5 241,-46.5 \" stroke=\"#000000\"/>\n<text fill=\"#000000\" font-family=\"Times,serif\" font-size=\"14.00\" text-anchor=\"middle\" x=\"284.5\" y=\"-31.3\">(None, 128)</text>\n<polyline fill=\"none\" points=\"241,-23.5 328,-23.5 \" stroke=\"#000000\"/>\n<text fill=\"#000000\" font-family=\"Times,serif\" font-size=\"14.00\" text-anchor=\"middle\" x=\"284.5\" y=\"-8.3\">(None, 10)</text>\n</g>\n<!-- 140174154798192&#45;&gt;140174154122184 -->\n<g class=\"edge\" id=\"edge8\">\n<title>140174154798192-&gt;140174154122184</title>\n<path d=\"M202,-83.3799C202,-75.1745 202,-65.7679 202,-56.8786\" fill=\"none\" stroke=\"#000000\"/>\n<polygon fill=\"#000000\" points=\"205.5001,-56.784 202,-46.784 198.5001,-56.784 205.5001,-56.784\" stroke=\"#000000\"/>\n</g>\n<!-- 140174163486592 -->\n<g class=\"node\" id=\"node9\">\n<title>140174163486592</title>\n<polygon fill=\"none\" points=\"137.5,-664.5 137.5,-700.5 266.5,-700.5 266.5,-664.5 137.5,-664.5\" stroke=\"#000000\"/>\n<text fill=\"#000000\" font-family=\"Times,serif\" font-size=\"14.00\" text-anchor=\"middle\" x=\"202\" y=\"-678.8\">140174163486592</text>\n</g>\n<!-- 140174163486592&#45;&gt;140175208793088 -->\n<g class=\"edge\" id=\"edge1\">\n<title>140174163486592-&gt;140175208793088</title>\n<path d=\"M202,-664.4092C202,-656.4308 202,-646.795 202,-637.606\" fill=\"none\" stroke=\"#000000\"/>\n<polygon fill=\"#000000\" points=\"205.5001,-637.5333 202,-627.5333 198.5001,-637.5334 205.5001,-637.5333\" stroke=\"#000000\"/>\n</g>\n</g>\n</svg>"
          },
          "metadata": {
            "tags": []
          },
          "execution_count": 4
        }
      ]
    },
    {
      "metadata": {
        "colab_type": "code",
        "id": "TAVzKJuoPkPu",
        "colab": {}
      },
      "cell_type": "code",
      "source": [
        "from keras.utils import plot_model\n",
        "plot_model(model, to_file='model_DL.png')"
      ],
      "execution_count": 0,
      "outputs": []
    },
    {
      "metadata": {
        "colab_type": "code",
        "id": "s1S3au1QPkPx",
        "outputId": "0917f0ab-d3bb-4ed4-f575-888a96d9d395",
        "colab": {
          "base_uri": "https://localhost:8080/",
          "height": 431
        }
      },
      "cell_type": "code",
      "source": [
        "model.summary()  #파라미터값 알기 - 시험 9*32*10???"
      ],
      "execution_count": 0,
      "outputs": [
        {
          "output_type": "stream",
          "text": [
            "_________________________________________________________________\n",
            "Layer (type)                 Output Shape              Param #   \n",
            "=================================================================\n",
            "conv2d_1 (Conv2D)            (None, 26, 26, 32)        320       \n",
            "_________________________________________________________________\n",
            "conv2d_2 (Conv2D)            (None, 24, 24, 64)        18496     \n",
            "_________________________________________________________________\n",
            "max_pooling2d_1 (MaxPooling2 (None, 12, 12, 64)        0         \n",
            "_________________________________________________________________\n",
            "dropout_1 (Dropout)          (None, 12, 12, 64)        0         \n",
            "_________________________________________________________________\n",
            "flatten_1 (Flatten)          (None, 9216)              0         \n",
            "_________________________________________________________________\n",
            "dense_1 (Dense)              (None, 128)               1179776   \n",
            "_________________________________________________________________\n",
            "dropout_2 (Dropout)          (None, 128)               0         \n",
            "_________________________________________________________________\n",
            "dense_2 (Dense)              (None, 10)                1290      \n",
            "=================================================================\n",
            "Total params: 1,199,882\n",
            "Trainable params: 1,199,882\n",
            "Non-trainable params: 0\n",
            "_________________________________________________________________\n"
          ],
          "name": "stdout"
        }
      ]
    },
    {
      "metadata": {
        "colab_type": "code",
        "id": "wvCjX5eePkP1",
        "colab": {}
      },
      "cell_type": "code",
      "source": [
        "\n",
        "l1 = model.layers[0]  # 1st layer with input : Cpnv2D (filtering #1)\n",
        "l2 = model.layers[1]  # 2nd layer : Conv2D (filtering #2)\n",
        "l3 = model.layers[2]  # 3rd layer : max pooling (Extracting the dominant characteristics)\n",
        "l4 = model.layers[3]  # 4th layer: dropout to avoid overfitting\n",
        "l5 = model.layers[4]  # 5th layer: flatten\n",
        "l6 = model.layers[5]  # 6th dense layer\n",
        "l7 = model.layers[6]  # 7th layer: dropout to avoid overfitting\n",
        "l8 = model.layers[7]  # last layer: output layer (softmax: probabilistic prediction of 0 to 9)"
      ],
      "execution_count": 0,
      "outputs": []
    },
    {
      "metadata": {
        "colab_type": "code",
        "id": "6_m_rkBkPkP5",
        "outputId": "8ffcb80d-dbf4-489d-9b8e-cec3a37f6e9e",
        "colab": {
          "base_uri": "https://localhost:8080/",
          "height": 107
        }
      },
      "cell_type": "code",
      "source": [
        "l1.name, type(l1), l1.output_shape, l1.activation.__name__, l1.count_params()  # 3*3*32 + 32 = 320"
      ],
      "execution_count": 0,
      "outputs": [
        {
          "output_type": "execute_result",
          "data": {
            "text/plain": [
              "('conv2d_1',\n",
              " keras.layers.convolutional.Conv2D,\n",
              " (None, 26, 26, 32),\n",
              " 'relu',\n",
              " 320)"
            ]
          },
          "metadata": {
            "tags": []
          },
          "execution_count": 11
        }
      ]
    },
    {
      "metadata": {
        "id": "HS26oO53C3GD",
        "colab_type": "text"
      },
      "cell_type": "markdown",
      "source": [
        "[link: moving gif - \"How to do with convolution?\"](http://machinelearninguru.com/_images/topics/computer_vision/basics/convolutional_layer_1/stride1.gif)"
      ]
    },
    {
      "metadata": {
        "colab_type": "code",
        "id": "xs8tTQEzPkP-",
        "outputId": "db3ef9f1-9c46-4fcd-a8fa-a6bb5061025b",
        "colab": {
          "base_uri": "https://localhost:8080/",
          "height": 107
        }
      },
      "cell_type": "code",
      "source": [
        "l2.name, type(l2), l2.output_shape, l2.activation.__name__, l2.count_params()   # 3*3*32*64 + 64 = 18496"
      ],
      "execution_count": 0,
      "outputs": [
        {
          "output_type": "execute_result",
          "data": {
            "text/plain": [
              "('conv2d_2',\n",
              " keras.layers.convolutional.Conv2D,\n",
              " (None, 24, 24, 64),\n",
              " 'relu',\n",
              " 18496)"
            ]
          },
          "metadata": {
            "tags": []
          },
          "execution_count": 12
        }
      ]
    },
    {
      "metadata": {
        "id": "4zqJibXEN3Zz",
        "colab_type": "code",
        "outputId": "0802b6c5-30d1-468b-c616-1256fab2cecd",
        "colab": {
          "base_uri": "https://localhost:8080/",
          "height": 35
        }
      },
      "cell_type": "code",
      "source": [
        "l3.name, type(l3), l3.output_shape, l3.count_params()"
      ],
      "execution_count": 0,
      "outputs": [
        {
          "output_type": "execute_result",
          "data": {
            "text/plain": [
              "('max_pooling2d_1', keras.layers.pooling.MaxPooling2D, (None, 12, 12, 64), 0)"
            ]
          },
          "metadata": {
            "tags": []
          },
          "execution_count": 13
        }
      ]
    },
    {
      "metadata": {
        "id": "zJbjqyEYON4X",
        "colab_type": "code",
        "outputId": "4f9c7ca5-f7a5-4e6e-c70e-bbd755b590ff",
        "colab": {
          "base_uri": "https://localhost:8080/",
          "height": 35
        }
      },
      "cell_type": "code",
      "source": [
        "l4.name, type(l4), l4.output_shape, l4.count_params()"
      ],
      "execution_count": 0,
      "outputs": [
        {
          "output_type": "execute_result",
          "data": {
            "text/plain": [
              "('dropout_1', keras.layers.core.Dropout, (None, 12, 12, 64), 0)"
            ]
          },
          "metadata": {
            "tags": []
          },
          "execution_count": 14
        }
      ]
    },
    {
      "metadata": {
        "id": "F0381P7NOdeA",
        "colab_type": "code",
        "outputId": "0fb4fbe1-a513-49d5-8fb4-9f9acf5f6e74",
        "colab": {
          "base_uri": "https://localhost:8080/",
          "height": 35
        }
      },
      "cell_type": "code",
      "source": [
        "l5.name, type(l5), l5.output_shape, l5.count_params()  # 12*12*64 = 9216"
      ],
      "execution_count": 0,
      "outputs": [
        {
          "output_type": "execute_result",
          "data": {
            "text/plain": [
              "('flatten_1', keras.layers.core.Flatten, (None, 9216), 0)"
            ]
          },
          "metadata": {
            "tags": []
          },
          "execution_count": 15
        }
      ]
    },
    {
      "metadata": {
        "colab_type": "code",
        "id": "65X9MOkBPkQD",
        "outputId": "9709360c-e6d7-4739-ecc8-a1db5cea10e8",
        "colab": {
          "base_uri": "https://localhost:8080/",
          "height": 35
        }
      },
      "cell_type": "code",
      "source": [
        "l6.name, type(l6), l6.output_shape, l6.activation.__name__, l6.count_params()   # 9216*128+128 = 1179776"
      ],
      "execution_count": 0,
      "outputs": [
        {
          "output_type": "execute_result",
          "data": {
            "text/plain": [
              "('dense_1', keras.layers.core.Dense, (None, 128), 'relu', 1179776)"
            ]
          },
          "metadata": {
            "tags": []
          },
          "execution_count": 16
        }
      ]
    },
    {
      "metadata": {
        "id": "eogqB1Y8Oo5y",
        "colab_type": "code",
        "outputId": "0acd9082-fda4-462d-8c75-d1c9b03da8b2",
        "colab": {
          "base_uri": "https://localhost:8080/",
          "height": 35
        }
      },
      "cell_type": "code",
      "source": [
        "l7.name, type(l7), l7.output_shape, l7.count_params()"
      ],
      "execution_count": 0,
      "outputs": [
        {
          "output_type": "execute_result",
          "data": {
            "text/plain": [
              "('dropout_2', keras.layers.core.Dropout, (None, 128), 0)"
            ]
          },
          "metadata": {
            "tags": []
          },
          "execution_count": 17
        }
      ]
    },
    {
      "metadata": {
        "id": "ZYQbzTxuOxyS",
        "colab_type": "code",
        "outputId": "a6fbf16d-a896-421f-a259-c79e4696c65a",
        "colab": {
          "base_uri": "https://localhost:8080/",
          "height": 35
        }
      },
      "cell_type": "code",
      "source": [
        "\n",
        "l8.name, type(l8), l8.output_shape, l8.activation.__name__, l8.count_params()  # 128*10 + 10 = 1290"
      ],
      "execution_count": 0,
      "outputs": [
        {
          "output_type": "execute_result",
          "data": {
            "text/plain": [
              "('dense_2', keras.layers.core.Dense, (None, 10), 'softmax', 1290)"
            ]
          },
          "metadata": {
            "tags": []
          },
          "execution_count": 18
        }
      ]
    },
    {
      "metadata": {
        "id": "uwR4t2RyBuwt",
        "colab_type": "text"
      },
      "cell_type": "markdown",
      "source": [
        "### Links to gooood introduction: convolution\n",
        "\n",
        "- [cnn 요약, 직관적인 설명(단, bias에 대한 설명 부족)](http://taewan.kim/post/cnn/)\n",
        "- [Undrestanding Convolutional Layers in Convolutional Neural Networks (CNNs)](http://machinelearninguru.com/computer_vision/basics/convolution/convolution_layer.html)\n",
        "- [Short Introduction to Convolutions and Pooling](https://medium.com/analytics-vidhya/deep-learning-methods-1700548a3093)"
      ]
    },
    {
      "metadata": {
        "colab_type": "text",
        "id": "OSXXm_pkPkQI"
      },
      "cell_type": "markdown",
      "source": [
        "## fit 메서드로 트레이닝"
      ]
    },
    {
      "metadata": {
        "colab_type": "code",
        "id": "BlS2pikMPkQK",
        "colab": {}
      },
      "cell_type": "code",
      "source": [
        "# Compiling model\n",
        "model.compile(loss='categorical_crossentropy',\n",
        "              optimizer='adam',\n",
        "              metrics=['accuracy'])\n",
        "\n",
        "# adam: Adaptive Moment Estimation"
      ],
      "execution_count": 0,
      "outputs": []
    },
    {
      "metadata": {
        "id": "eyfkWwy-QA5D",
        "colab_type": "text"
      },
      "cell_type": "markdown",
      "source": [
        "### Reload data and preprocess data"
      ]
    },
    {
      "metadata": {
        "colab_type": "code",
        "id": "nPWNw0imP4lY",
        "outputId": "119b5432-4fcc-43bb-913c-05c7b1296e92",
        "colab": {
          "base_uri": "https://localhost:8080/",
          "height": 53
        }
      },
      "cell_type": "code",
      "source": [
        "%%time\n",
        "from keras.datasets import mnist\n",
        "(X_train0, y_train0), (X_test0, y_test0) = mnist.load_data()"
      ],
      "execution_count": 0,
      "outputs": [
        {
          "output_type": "stream",
          "text": [
            "CPU times: user 294 ms, sys: 49.7 ms, total: 344 ms\n",
            "Wall time: 344 ms\n"
          ],
          "name": "stdout"
        }
      ]
    },
    {
      "metadata": {
        "colab_type": "code",
        "id": "4FpvLawUP4lj",
        "outputId": "83a0aaa1-383e-4315-e72b-37ea79796391",
        "colab": {
          "base_uri": "https://localhost:8080/",
          "height": 89
        }
      },
      "cell_type": "code",
      "source": [
        "print(X_train0.shape, X_train0.dtype)\n",
        "print(y_train0.shape, y_train0.dtype)\n",
        "print(X_test0.shape, X_test0.dtype)\n",
        "print(y_test0.shape, y_test0.dtype)"
      ],
      "execution_count": 0,
      "outputs": [
        {
          "output_type": "stream",
          "text": [
            "(60000, 28, 28) uint8\n",
            "(60000,) uint8\n",
            "(10000, 28, 28) uint8\n",
            "(10000,) uint8\n"
          ],
          "name": "stdout"
        }
      ]
    },
    {
      "metadata": {
        "colab_type": "code",
        "outputId": "20a98252-bbdf-4fa8-976b-b68bc95fd340",
        "id": "y3C3rsiMQ84n",
        "colab": {
          "base_uri": "https://localhost:8080/",
          "height": 35
        }
      },
      "cell_type": "code",
      "source": [
        "# 데이터를 float 타입으로 바꾸고 스케일링한다. \n",
        "X_train = X_train0.reshape(60000, 28, 28, 1).astype('float32') / 255.0\n",
        "X_test = X_test0.reshape(10000, 28, 28, 1).astype('float32') / 255.0\n",
        "print(X_train.shape, X_train.dtype)"
      ],
      "execution_count": 0,
      "outputs": [
        {
          "output_type": "stream",
          "text": [
            "(60000, 28, 28, 1) float32\n"
          ],
          "name": "stdout"
        }
      ]
    },
    {
      "metadata": {
        "colab_type": "code",
        "id": "82NV4_bmRNF4",
        "colab": {}
      },
      "cell_type": "code",
      "source": [
        "# One-hot encoding: Probabilistic labeling\n",
        "# to_categorical()\n",
        "from keras.utils import np_utils\n",
        "\n",
        "y_train = np_utils.to_categorical(y_train0, 10)\n",
        "y_test = np_utils.to_categorical(y_test0, 10)"
      ],
      "execution_count": 0,
      "outputs": []
    },
    {
      "metadata": {
        "colab_type": "code",
        "id": "BnyuCb-2PkQN",
        "outputId": "a3d78a82-830e-41b7-ebfe-bdc834c95690",
        "colab": {
          "base_uri": "https://localhost:8080/",
          "height": 1151
        }
      },
      "cell_type": "code",
      "source": [
        "# Fitting model\n",
        "%%time\n",
        "hist = model.fit(X_train, y_train, \n",
        "                 epochs=30, batch_size=100, \n",
        "                 validation_data=(X_test, y_test), \n",
        "                 verbose=1)\n",
        "\n",
        "# batch_size: 100 -> 60,000개의 트레이닝 데이터를 100개씩 600묶음으로 나눈 후, \n",
        "# 각 묶음에 대하어 forward, back propagation을 실시하면서 파라미터를 조정한다.\n",
        "# epochs: 전체 600개의 batch에 대하여 다 계산을 수행하면 epoch 1 종료.\n",
        "# validation_data: 테스트 데이터를 섞어서 검증한다."
      ],
      "execution_count": 0,
      "outputs": [
        {
          "output_type": "stream",
          "text": [
            "Train on 60000 samples, validate on 10000 samples\n",
            "Epoch 1/30\n",
            "60000/60000 [==============================] - 13s 221us/step - loss: 0.2290 - acc: 0.9308 - val_loss: 0.0477 - val_acc: 0.9847\n",
            "Epoch 2/30\n",
            "60000/60000 [==============================] - 11s 176us/step - loss: 0.0834 - acc: 0.9756 - val_loss: 0.0370 - val_acc: 0.9873\n",
            "Epoch 3/30\n",
            "60000/60000 [==============================] - 11s 175us/step - loss: 0.0616 - acc: 0.9810 - val_loss: 0.0337 - val_acc: 0.9884\n",
            "Epoch 4/30\n",
            "60000/60000 [==============================] - 11s 177us/step - loss: 0.0506 - acc: 0.9849 - val_loss: 0.0322 - val_acc: 0.9893\n",
            "Epoch 5/30\n",
            "60000/60000 [==============================] - 11s 178us/step - loss: 0.0429 - acc: 0.9867 - val_loss: 0.0322 - val_acc: 0.9904\n",
            "Epoch 6/30\n",
            "60000/60000 [==============================] - 11s 177us/step - loss: 0.0386 - acc: 0.9881 - val_loss: 0.0273 - val_acc: 0.9916\n",
            "Epoch 7/30\n",
            "60000/60000 [==============================] - 11s 175us/step - loss: 0.0345 - acc: 0.9887 - val_loss: 0.0290 - val_acc: 0.9915\n",
            "Epoch 8/30\n",
            "60000/60000 [==============================] - 10s 174us/step - loss: 0.0311 - acc: 0.9898 - val_loss: 0.0282 - val_acc: 0.9910\n",
            "Epoch 9/30\n",
            "60000/60000 [==============================] - 10s 174us/step - loss: 0.0287 - acc: 0.9909 - val_loss: 0.0279 - val_acc: 0.9927\n",
            "Epoch 10/30\n",
            "60000/60000 [==============================] - 11s 189us/step - loss: 0.0243 - acc: 0.9915 - val_loss: 0.0272 - val_acc: 0.9925\n",
            "Epoch 11/30\n",
            "60000/60000 [==============================] - 11s 181us/step - loss: 0.0250 - acc: 0.9920 - val_loss: 0.0270 - val_acc: 0.9923\n",
            "Epoch 12/30\n",
            "60000/60000 [==============================] - 11s 181us/step - loss: 0.0204 - acc: 0.9934 - val_loss: 0.0270 - val_acc: 0.9918\n",
            "Epoch 13/30\n",
            "60000/60000 [==============================] - 11s 179us/step - loss: 0.0195 - acc: 0.9934 - val_loss: 0.0257 - val_acc: 0.9929\n",
            "Epoch 14/30\n",
            "60000/60000 [==============================] - 11s 179us/step - loss: 0.0203 - acc: 0.9934 - val_loss: 0.0283 - val_acc: 0.9927\n",
            "Epoch 15/30\n",
            "60000/60000 [==============================] - 11s 179us/step - loss: 0.0168 - acc: 0.9946 - val_loss: 0.0293 - val_acc: 0.9925\n",
            "Epoch 16/30\n",
            "60000/60000 [==============================] - 11s 180us/step - loss: 0.0182 - acc: 0.9942 - val_loss: 0.0277 - val_acc: 0.9925\n",
            "Epoch 17/30\n",
            "60000/60000 [==============================] - 11s 179us/step - loss: 0.0146 - acc: 0.9954 - val_loss: 0.0272 - val_acc: 0.9928\n",
            "Epoch 18/30\n",
            "60000/60000 [==============================] - 11s 179us/step - loss: 0.0160 - acc: 0.9949 - val_loss: 0.0303 - val_acc: 0.9922\n",
            "Epoch 19/30\n",
            "60000/60000 [==============================] - 11s 179us/step - loss: 0.0140 - acc: 0.9953 - val_loss: 0.0282 - val_acc: 0.9930\n",
            "Epoch 20/30\n",
            "60000/60000 [==============================] - 11s 179us/step - loss: 0.0141 - acc: 0.9952 - val_loss: 0.0344 - val_acc: 0.9926\n",
            "Epoch 21/30\n",
            "60000/60000 [==============================] - 11s 178us/step - loss: 0.0126 - acc: 0.9957 - val_loss: 0.0345 - val_acc: 0.9928\n",
            "Epoch 22/30\n",
            "60000/60000 [==============================] - 11s 180us/step - loss: 0.0125 - acc: 0.9958 - val_loss: 0.0304 - val_acc: 0.9929\n",
            "Epoch 23/30\n",
            "60000/60000 [==============================] - 11s 178us/step - loss: 0.0136 - acc: 0.9959 - val_loss: 0.0333 - val_acc: 0.9921\n",
            "Epoch 24/30\n",
            "60000/60000 [==============================] - 11s 179us/step - loss: 0.0128 - acc: 0.9955 - val_loss: 0.0296 - val_acc: 0.9932\n",
            "Epoch 25/30\n",
            "60000/60000 [==============================] - 11s 179us/step - loss: 0.0114 - acc: 0.9962 - val_loss: 0.0287 - val_acc: 0.9941\n",
            "Epoch 26/30\n",
            "60000/60000 [==============================] - 11s 179us/step - loss: 0.0110 - acc: 0.9964 - val_loss: 0.0312 - val_acc: 0.9929\n",
            "Epoch 27/30\n",
            "60000/60000 [==============================] - 11s 180us/step - loss: 0.0108 - acc: 0.9966 - val_loss: 0.0336 - val_acc: 0.9930\n",
            "Epoch 28/30\n",
            "60000/60000 [==============================] - 11s 181us/step - loss: 0.0099 - acc: 0.9967 - val_loss: 0.0305 - val_acc: 0.9937\n",
            "Epoch 29/30\n",
            "60000/60000 [==============================] - 11s 179us/step - loss: 0.0098 - acc: 0.9969 - val_loss: 0.0339 - val_acc: 0.9929\n",
            "Epoch 30/30\n",
            "60000/60000 [==============================] - 11s 180us/step - loss: 0.0105 - acc: 0.9967 - val_loss: 0.0340 - val_acc: 0.9926\n",
            "CPU times: user 4min 26s, sys: 1min, total: 5min 26s\n",
            "Wall time: 5min 24s\n"
          ],
          "name": "stdout"
        }
      ]
    },
    {
      "metadata": {
        "id": "t9_5UD-3T_xh",
        "colab_type": "text"
      },
      "cell_type": "markdown",
      "source": [
        "### Plot results: preformance and accuracy"
      ]
    },
    {
      "metadata": {
        "id": "slGyI2ADT-QJ",
        "colab_type": "code",
        "colab": {}
      },
      "cell_type": "code",
      "source": [
        "import matplotlib.pyplot as plt\n",
        "import matplotlib as mpl\n",
        "%matplotlib inline"
      ],
      "execution_count": 0,
      "outputs": []
    },
    {
      "metadata": {
        "colab_type": "code",
        "id": "pVbjE1dKPkQT",
        "outputId": "432b8738-1bd3-4e3d-f484-5e7b827270a7",
        "colab": {
          "base_uri": "https://localhost:8080/",
          "height": 265
        }
      },
      "cell_type": "code",
      "source": [
        "# Plot performance\n",
        "plt.plot(hist.history['loss'])\n",
        "plt.show()"
      ],
      "execution_count": 0,
      "outputs": [
        {
          "output_type": "display_data",
          "data": {
            "image/png": "[encoded data removed]",
            "text/plain": [
              "<matplotlib.figure.Figure at 0x7f7cd6a0f748>"
            ]
          },
          "metadata": {
            "tags": []
          }
        }
      ]
    },
    {
      "metadata": {
        "colab_type": "code",
        "id": "ZMnKgKKIPkQZ",
        "outputId": "623ae8ec-0823-468c-d993-933afd3ca910",
        "colab": {
          "base_uri": "https://localhost:8080/",
          "height": 269
        }
      },
      "cell_type": "code",
      "source": [
        "plt.plot(hist.history['acc'], 'b-', label=\"training\")\n",
        "plt.plot(hist.history['val_acc'], 'r:', label=\"test\")\n",
        "plt.legend()\n",
        "plt.show()"
      ],
      "execution_count": 0,
      "outputs": [
        {
          "output_type": "display_data",
          "data": {
            "image/png": "[encoded data removed]",
            "text/plain": [
              "<matplotlib.figure.Figure at 0x7f7cd03e6400>"
            ]
          },
          "metadata": {
            "tags": []
          }
        }
      ]
    },
    {
      "metadata": {
        "colab_type": "text",
        "id": "Z-DHlkaIPkQf"
      },
      "cell_type": "markdown",
      "source": [
        "## 가중치 정보"
      ]
    },
    {
      "metadata": {
        "colab_type": "text",
        "id": "6wMUIyl9PkQg"
      },
      "cell_type": "markdown",
      "source": [
        "> 트레이닝이 끝난 모형의 가중치 정보는 get_weights 메서드로 구할 수 있다. 이 메서드는 w 값과 b 값을 출력한다."
      ]
    },
    {
      "metadata": {
        "colab_type": "code",
        "id": "FPs0dIqGPkQi",
        "outputId": "c3c05484-022e-4f25-8bd2-298710b22bd6",
        "colab": {
          "base_uri": "https://localhost:8080/",
          "height": 36
        }
      },
      "cell_type": "code",
      "source": [
        "w1 = l1.get_weights()\n",
        "w1[0].shape, w1[1].shape"
      ],
      "execution_count": 0,
      "outputs": [
        {
          "output_type": "execute_result",
          "data": {
            "text/plain": [
              "((3, 3, 1, 32), (32,))"
            ]
          },
          "metadata": {
            "tags": []
          },
          "execution_count": 48
        }
      ]
    },
    {
      "metadata": {
        "colab_type": "code",
        "id": "N8O1tOezPkQn",
        "outputId": "e8b5b696-40c2-4b20-a397-960200c98f4a",
        "colab": {
          "base_uri": "https://localhost:8080/",
          "height": 36
        }
      },
      "cell_type": "code",
      "source": [
        "w2 = l2.get_weights()\n",
        "w2[0].shape, w2[1].shape"
      ],
      "execution_count": 0,
      "outputs": [
        {
          "output_type": "execute_result",
          "data": {
            "text/plain": [
              "((3, 3, 32, 64), (64,))"
            ]
          },
          "metadata": {
            "tags": []
          },
          "execution_count": 49
        }
      ]
    },
    {
      "metadata": {
        "colab_type": "text",
        "id": "LZXFhiKmPkQq"
      },
      "cell_type": "markdown",
      "source": [
        "## 모형의 사용\n",
        "\n",
        "> 트레이닝이 끝난 모형은 predict 메서드로 y 값을 출력하거나 출력된 y값을 각 클래스에 대한 판별함수로 가정하고 predict_classes 메서드로 classification을 할 수 있다."
      ]
    },
    {
      "metadata": {
        "colab_type": "code",
        "id": "39qRwSsUPkQr",
        "outputId": "e038622a-ad3c-4331-ce96-029bff4c9685",
        "colab": {
          "base_uri": "https://localhost:8080/",
          "height": 141
        }
      },
      "cell_type": "code",
      "source": [
        "plt.figure(figsize=(2, 2))\n",
        "plt.imshow(X_test0[0], cmap=mpl.cm.bone_r)\n",
        "plt.grid(False)\n",
        "plt.xticks([])\n",
        "plt.yticks([])\n",
        "plt.show()"
      ],
      "execution_count": 0,
      "outputs": [
        {
          "output_type": "display_data",
          "data": {
            "image/png": "[encoded data removed]",
            "text/plain": [
              "<matplotlib.figure.Figure at 0x7f0ff3fbbdd8>"
            ]
          },
          "metadata": {
            "tags": []
          }
        }
      ]
    },
    {
      "metadata": {
        "colab_type": "code",
        "id": "NGqV-k-WPkQv",
        "outputId": "00b754e3-3de9-4fac-df10-6901f43b915c",
        "colab": {
          "base_uri": "https://localhost:8080/",
          "height": 71
        }
      },
      "cell_type": "code",
      "source": [
        "model.predict(X_test[:1, :]) #확률이 1인 번째가 7번째임"
      ],
      "execution_count": 0,
      "outputs": [
        {
          "output_type": "execute_result",
          "data": {
            "text/plain": [
              "array([[6.3935890e-25, 1.0670970e-14, 2.2932604e-16, 3.4265718e-14,\n",
              "        1.2087422e-20, 1.9970045e-19, 2.0193225e-31, 1.0000000e+00,\n",
              "        1.7856538e-22, 7.0276202e-15]], dtype=float32)"
            ]
          },
          "metadata": {
            "tags": []
          },
          "execution_count": 28
        }
      ]
    },
    {
      "metadata": {
        "colab_type": "code",
        "id": "tRQ9Rw_sPkQy",
        "outputId": "f23d834c-75e9-4f2e-c9ac-b1ef832bc4f1",
        "colab": {
          "base_uri": "https://localhost:8080/",
          "height": 35
        }
      },
      "cell_type": "code",
      "source": [
        "model.predict_classes(X_test[:1, :], verbose=0)"
      ],
      "execution_count": 0,
      "outputs": [
        {
          "output_type": "execute_result",
          "data": {
            "text/plain": [
              "array([7])"
            ]
          },
          "metadata": {
            "tags": []
          },
          "execution_count": 29
        }
      ]
    },
    {
      "metadata": {
        "colab_type": "text",
        "id": "srzftvKTPkQ4"
      },
      "cell_type": "markdown",
      "source": [
        "## DL 모형의 저장\n",
        "\n",
        ">  트레이닝이 끝난 모형은 save 메서드로 가중치와 함께 hdf5 형식으로 저장하였다가 나중에 load 명령으로 불러 사용할 수 있다."
      ]
    },
    {
      "metadata": {
        "colab_type": "code",
        "id": "zJrolYqcPkQ5",
        "colab": {}
      },
      "cell_type": "code",
      "source": [
        "model.save('my_model_dl.hdf5')\n",
        "# del model"
      ],
      "execution_count": 0,
      "outputs": []
    },
    {
      "metadata": {
        "id": "3hWFZrEEnXpg",
        "colab_type": "code",
        "outputId": "d0a2da2b-5fe6-4869-8cb7-91ed2fb8af1c",
        "colab": {
          "base_uri": "https://localhost:8080/",
          "height": 35
        }
      },
      "cell_type": "code",
      "source": [
        "ls"
      ],
      "execution_count": 0,
      "outputs": [
        {
          "output_type": "stream",
          "text": [
            "model_DL.png  my_model_dl.hdf5  \u001b[0m\u001b[01;34msample_data\u001b[0m/\n"
          ],
          "name": "stdout"
        }
      ]
    },
    {
      "metadata": {
        "colab_type": "code",
        "id": "np9AT_PPSomd",
        "outputId": "bdca340e-3916-4c9b-e10b-bfcca9dd7bb0",
        "colab": {
          "base_uri": "https://localhost:8080/",
          "height": 71
        }
      },
      "cell_type": "code",
      "source": [
        "!ls sample_data"
      ],
      "execution_count": 0,
      "outputs": [
        {
          "output_type": "stream",
          "text": [
            "anscombe.json\t\t      mnist_test.csv\n",
            "california_housing_test.csv   mnist_train_small.csv\n",
            "california_housing_train.csv  README.md\n"
          ],
          "name": "stdout"
        }
      ]
    },
    {
      "metadata": {
        "colab_type": "code",
        "id": "JfBu6IunPkQ8",
        "outputId": "22699002-fe4b-445a-bd6d-0581c6ebd1af",
        "colab": {
          "base_uri": "https://localhost:8080/",
          "height": 35
        }
      },
      "cell_type": "code",
      "source": [
        "from keras.models import load_model\n",
        "\n",
        "model2 = load_model('my_model_dl.hdf5')\n",
        "model2.predict_classes(X_test[:1, :], verbose=0)"
      ],
      "execution_count": 0,
      "outputs": [
        {
          "output_type": "execute_result",
          "data": {
            "text/plain": [
              "array([7])"
            ]
          },
          "metadata": {
            "tags": []
          },
          "execution_count": 33
        }
      ]
    },
    {
      "metadata": {
        "colab_type": "code",
        "id": "jGNA5WC9PkRA",
        "outputId": "d7986a4d-01da-42cf-89ac-34369c217c93",
        "colab": {
          "base_uri": "https://localhost:8080/",
          "height": 35
        }
      },
      "cell_type": "code",
      "source": [
        "model2.predict_classes(X_test[:10, :], verbose=0)"
      ],
      "execution_count": 0,
      "outputs": [
        {
          "output_type": "execute_result",
          "data": {
            "text/plain": [
              "array([7, 2, 1, 0, 4, 1, 4, 9, 5, 9])"
            ]
          },
          "metadata": {
            "tags": []
          },
          "execution_count": 34
        }
      ]
    },
    {
      "metadata": {
        "colab_type": "code",
        "id": "ygAqLgiHPkRE",
        "outputId": "2626ef56-4de2-4d54-8344-54af2bca7301",
        "colab": {
          "base_uri": "https://localhost:8080/",
          "height": 35
        }
      },
      "cell_type": "code",
      "source": [
        "y_test0[:10]"
      ],
      "execution_count": 0,
      "outputs": [
        {
          "output_type": "execute_result",
          "data": {
            "text/plain": [
              "array([7, 2, 1, 0, 4, 1, 4, 9, 5, 9], dtype=uint8)"
            ]
          },
          "metadata": {
            "tags": []
          },
          "execution_count": 35
        }
      ]
    },
    {
      "metadata": {
        "colab_type": "text",
        "id": "p9Y6NuoePkRH"
      },
      "cell_type": "markdown",
      "source": [
        "### 테스트 데이터에 대한 예측 정확도 계산 "
      ]
    },
    {
      "metadata": {
        "colab_type": "code",
        "id": "r8bV6coBPkRI",
        "outputId": "1da0bf61-fcca-4449-90d3-31fe9afbcc8e",
        "colab": {
          "base_uri": "https://localhost:8080/",
          "height": 53
        }
      },
      "cell_type": "code",
      "source": [
        "# Correct prediction\n",
        "model2.predict_classes(X_test[8:9, :], verbose=1)"
      ],
      "execution_count": 0,
      "outputs": [
        {
          "output_type": "stream",
          "text": [
            "\r1/1 [==============================] - 0s 3ms/step\n"
          ],
          "name": "stdout"
        },
        {
          "output_type": "execute_result",
          "data": {
            "text/plain": [
              "array([5])"
            ]
          },
          "metadata": {
            "tags": []
          },
          "execution_count": 36
        }
      ]
    },
    {
      "metadata": {
        "colab_type": "code",
        "id": "9lCIt9QePkRT",
        "outputId": "6dc7a252-b7fb-4c3f-b3a7-39ead6303dc1",
        "colab": {
          "base_uri": "https://localhost:8080/",
          "height": 36
        }
      },
      "cell_type": "code",
      "source": [
        "\n",
        "y_test0[8]"
      ],
      "execution_count": 0,
      "outputs": [
        {
          "output_type": "execute_result",
          "data": {
            "text/plain": [
              "5"
            ]
          },
          "metadata": {
            "tags": []
          },
          "execution_count": 59
        }
      ]
    },
    {
      "metadata": {
        "colab_type": "code",
        "id": "rVmuXg4lPkRX",
        "outputId": "bafb6bf0-a183-4c15-a42d-3dc9d617e503",
        "colab": {
          "base_uri": "https://localhost:8080/",
          "height": 36
        }
      },
      "cell_type": "code",
      "source": [
        "# 전체 테스트 데이터에 대한 예측\n",
        "x_pred = model2.predict_classes(X_test, verbose=1)"
      ],
      "execution_count": 0,
      "outputs": [
        {
          "output_type": "stream",
          "text": [
            "10000/10000 [==============================] - 1s 99us/step\n"
          ],
          "name": "stdout"
        }
      ]
    },
    {
      "metadata": {
        "colab_type": "code",
        "id": "vPyMIn3yPkRa",
        "outputId": "67098e9a-a175-4f66-8d4d-47777d99585a",
        "colab": {
          "base_uri": "https://localhost:8080/",
          "height": 36
        }
      },
      "cell_type": "code",
      "source": [
        "t_count = np.sum(x_pred==y_test0) # True positive\n",
        "f_count = np.sum(x_pred!=y_test0) # False positive\n",
        "f_count==10000-t_count"
      ],
      "execution_count": 0,
      "outputs": [
        {
          "output_type": "execute_result",
          "data": {
            "text/plain": [
              "True"
            ]
          },
          "metadata": {
            "tags": []
          },
          "execution_count": 61
        }
      ]
    },
    {
      "metadata": {
        "colab_type": "code",
        "id": "h94J6VBWPkRg",
        "outputId": "bb376abd-bb9e-4bf6-81f6-174e4eb67acf",
        "colab": {
          "base_uri": "https://localhost:8080/",
          "height": 36
        }
      },
      "cell_type": "code",
      "source": [
        "t_count,f_count"
      ],
      "execution_count": 0,
      "outputs": [
        {
          "output_type": "execute_result",
          "data": {
            "text/plain": [
              "(9932, 68)"
            ]
          },
          "metadata": {
            "tags": []
          },
          "execution_count": 62
        }
      ]
    },
    {
      "metadata": {
        "colab_type": "code",
        "id": "pWv5_DB7PkRm",
        "outputId": "7af19ea4-befe-4cbe-a476-c5883b95f07a",
        "colab": {
          "base_uri": "https://localhost:8080/",
          "height": 36
        }
      },
      "cell_type": "code",
      "source": [
        "accuracy = t_count/10000*100\n",
        "accuracy"
      ],
      "execution_count": 0,
      "outputs": [
        {
          "output_type": "execute_result",
          "data": {
            "text/plain": [
              "99.32"
            ]
          },
          "metadata": {
            "tags": []
          },
          "execution_count": 63
        }
      ]
    },
    {
      "metadata": {
        "colab_type": "text",
        "id": "cSEv58pjPkRp"
      },
      "cell_type": "markdown",
      "source": [
        "## DL is great!!!"
      ]
    },
    {
      "metadata": {
        "id": "XGINZBi-Hv5D",
        "colab_type": "text"
      },
      "cell_type": "markdown",
      "source": [
        "### Goood introduction to CNN\n",
        "- [Image(Cat vs. dog) classifier with CNN](https://towardsdatascience.com/image-classifier-cats-vs-dogs-with-convolutional-neural-networks-cnns-and-google-colabs-4e9af21ae7a8)\n",
        "\n",
        "- [Full CNN overview](https://cdn-images-1.medium.com/max/1100/1*qsbsCVyu376kqdnNcdxmmw.png)\n",
        "- [Process of CNN](https://cdn-images-1.medium.com/max/1100/1*yZQjaMKHjm1HzDF4t4juzg.png)"
      ]
    },
    {
      "metadata": {
        "colab_type": "code",
        "id": "ov3KjFMNPkRq",
        "colab": {}
      },
      "cell_type": "code",
      "source": [
        ""
      ],
      "execution_count": 0,
      "outputs": []
    }
  ]
}