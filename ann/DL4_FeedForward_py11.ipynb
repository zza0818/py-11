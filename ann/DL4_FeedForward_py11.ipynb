{
  "nbformat": 4,
  "nbformat_minor": 0,
  "metadata": {
    "colab": {
      "name": "DL4_FeedForward_py11",
      "version": "0.3.2",
      "provenance": [],
      "collapsed_sections": [],
      "toc_visible": true,
      "include_colab_link": true
    },
    "kernelspec": {
      "display_name": "Python 3",
      "language": "python",
      "name": "python3"
    }
  },
  "cells": [
    {
      "cell_type": "markdown",
      "metadata": {
        "id": "view-in-github",
        "colab_type": "text"
      },
      "source": [
        "<a href=\"https://colab.research.google.com/github/zza0818/py-11/blob/master/ann/DL4_FeedForward_py11.ipynb\" target=\"_parent\"><img src=\"https://colab.research.google.com/assets/colab-badge.svg\" alt=\"Open In Colab\"/></a>"
      ]
    },
    {
      "metadata": {
        "id": "SCPnWXv7YAFW",
        "colab_type": "text"
      },
      "cell_type": "markdown",
      "source": [
        "[original link: DL-FeedForward](https://github.com/alfredessa/lasi2018/blob/master/notebooks/slideversion/deeplearning/DL-FeedForward.ipynb)"
      ]
    },
    {
      "metadata": {
        "id": "lwLsJ0nkYAFZ",
        "colab_type": "code",
        "outputId": "9eab00cc-29c4-42b5-93da-472a6add77b7",
        "colab": {
          "base_uri": "https://localhost:8080/",
          "height": 17
        }
      },
      "cell_type": "code",
      "source": [
        "from IPython.core.display import HTML, Image\n",
        "css_file = 'style.css'\n",
        "HTML(open(css_file, 'r').read())"
      ],
      "execution_count": 0,
      "outputs": [
        {
          "output_type": "execute_result",
          "data": {
            "text/html": [
              "<link href='http://fonts.googleapis.com/css?family=Alegreya+Sans:100,300,400,500,700,800,900,100italic,300italic,400italic,500italic,700italic,800italic,900italic' rel='stylesheet' type='text/css'>\n",
              "<link href='http://fonts.googleapis.com/css?family=Arvo:400,700,400italic' rel='stylesheet' type='text/css'>\n",
              "<link href='http://fonts.googleapis.com/css?family=PT+Mono' rel='stylesheet' type='text/css'>\n",
              "<link href='http://fonts.googleapis.com/css?family=Shadows+Into+Light' rel='stylesheet' type='text/css'>\n",
              "<link href='http://fonts.googleapis.com/css?family=Philosopher:400,700,400italic,700italic' rel='stylesheet' type='text/css'>\n",
              "\n",
              "<style>\n",
              "\n",
              "@font-face {\n",
              "    font-family: \"Computer Modern\";\n",
              "    src: url('http://mirrors.ctan.org/fonts/cm-unicode/fonts/otf/cmunss.otf');\n",
              "}\n",
              "\n",
              "#notebook_panel { /* main background */\n",
              "    background: #ddd;\n",
              "    color: #000000;\n",
              "}\n",
              "\n",
              "\n",
              "\n",
              "/* Formatting for header cells */\n",
              ".text_cell_render h1 {\n",
              "    font-family: 'Philosopher', sans-serif;\n",
              "    font-weight: 400;\n",
              "    font-size: 2.2em;\n",
              "    line-height: 100%;\n",
              "    color: rgb(0, 80, 120);\n",
              "    margin-bottom: 0.1em;\n",
              "    margin-top: 0.1em;\n",
              "    display: block;\n",
              "}\t\n",
              ".text_cell_render h2 {\n",
              "    font-family: 'Philosopher', serif;\n",
              "    font-weight: 400;\n",
              "    font-size: 1.9em;\n",
              "    line-height: 100%;\n",
              "    color: rgb(200,100,0);\n",
              "    margin-bottom: 0.1em;\n",
              "    margin-top: 0.1em;\n",
              "    display: block;\n",
              "}\t\n",
              "\n",
              ".text_cell_render h3 {\n",
              "    font-family: 'Philosopher', serif;\n",
              "    margin-top:12px;\n",
              "    margin-bottom: 3px;\n",
              "    font-style: italic;\n",
              "    color: rgb(94,127,192);\n",
              "}\n",
              "\n",
              ".text_cell_render h4 {\n",
              "    font-family: 'Philosopher', serif;\n",
              "}\n",
              "\n",
              ".text_cell_render h5 {\n",
              "    font-family: 'Alegreya Sans', sans-serif;\n",
              "    font-weight: 300;\n",
              "    font-size: 16pt;\n",
              "    color: grey;\n",
              "    font-style: italic;\n",
              "    margin-bottom: .1em;\n",
              "    margin-top: 0.1em;\n",
              "    display: block;\n",
              "}\n",
              "\n",
              ".text_cell_render h6 {\n",
              "    font-family: 'PT Mono', sans-serif;\n",
              "    font-weight: 300;\n",
              "    font-size: 10pt;\n",
              "    color: grey;\n",
              "    margin-bottom: 1px;\n",
              "    margin-top: 1px;\n",
              "}\n",
              "\n",
              ".CodeMirror{\n",
              "        font-family: \"PT Mono\";\n",
              "        font-size: 100%;\n",
              "}\n",
              "\n",
              "</style>\n",
              "\n"
            ],
            "text/plain": [
              "<IPython.core.display.HTML object>"
            ]
          },
          "metadata": {
            "tags": []
          },
          "execution_count": 2
        }
      ]
    },
    {
      "metadata": {
        "id": "TqdrvDNmn9Ev",
        "colab_type": "toc"
      },
      "cell_type": "markdown",
      "source": [
        ">[Deep Learning](#scrollTo=lje3cygaYAFj)\n",
        "\n",
        ">>[Feed Forward](#scrollTo=lje3cygaYAFj)\n",
        "\n",
        ">[Forward Propagation](#scrollTo=iW6lahopYAFl)\n",
        "\n",
        ">[Feedforward Networks](#scrollTo=UpXRkkSKYAFt)\n",
        "\n",
        ">[Forward Propagation Computation](#scrollTo=aKI5F90aYAFz)\n",
        "\n",
        ">>>[Network Class](#scrollTo=h5Rf-27oYAF7)\n",
        "\n",
        ">>[Network class 점검](#scrollTo=35BEaBxSYAGL)\n",
        "\n",
        ">>>[Hidden layer](#scrollTo=genHXesvYAG3)\n",
        "\n",
        ">>>[행벡터와 열벡터의 합에서 발생하는 문제 해결](#scrollTo=BPlRBiVeYAG9)\n",
        "\n",
        ">>>[Output layer](#scrollTo=g2kQtDXFYAHU)\n",
        "\n",
        ">>>[Checking feedforward operation](#scrollTo=BAtTmPpzYAH4)\n",
        "\n",
        ">>>[heaviside activation](#scrollTo=lQF7iPHjYAIE)\n",
        "\n",
        ">>>[relu activation](#scrollTo=7DprevEAYAIM)\n",
        "\n",
        ">>>[sigmoid activation](#scrollTo=H2Z8RVxpYAIW)\n",
        "\n",
        ">>>[Well done! Great!](#scrollTo=g54aYHLDYAIl)\n",
        "\n",
        ">>>[Neural network 1: single layer (3 -> 2 -> 1)](#scrollTo=BGy-2RPKYAIo)\n",
        "\n",
        ">>>[Neural network 2: single layer (5 -> 3 -> 2)](#scrollTo=-SPngHpSYAJv)\n",
        "\n",
        ">>>[Neural network 3: deep layers (5 -> [3, 3] -> 1)](#scrollTo=uqHN1rPhYAMG)\n",
        "\n",
        ">>>[[도전] 10개의 입력을 받아서 두 개의 딥 레이어로 처리해서 두개의 최종 출력을 구하는 과정을 만드시오.](#scrollTo=DfyR-JIoYANX)\n",
        "\n",
        ">>>[Input data: X](#scrollTo=ln7zZtnmYANt)\n",
        "\n",
        ">>>[[도전2] 764개의 입력을 받아서 4 개의 딥 레이어로 처리해서 두개의 최종 출력을 구하는 과정을 만드시오.](#scrollTo=1uaBEbEJYAOI)\n",
        "\n",
        ">>>[Input data: X](#scrollTo=HUu9aQG6YAOc)\n",
        "\n",
        ">>>[Data Representation ((1,n) input, a layer with k neurons)](#scrollTo=TGzvsmbyYAOq)\n",
        "\n",
        ">>[Data Representation ((1,n) input, deep layer with [k,s,t] neurons, and (1,r) output)](#scrollTo=klEtc1_LYAOt)\n",
        "\n"
      ]
    },
    {
      "metadata": {
        "id": "lje3cygaYAFj",
        "colab_type": "text"
      },
      "cell_type": "markdown",
      "source": [
        "# Deep Learning \n",
        "\n",
        "## Feed Forward\n",
        "\n",
        "Alfred Essa, Ani Aghababyan, Shirin Mojarad"
      ]
    },
    {
      "metadata": {
        "id": "iW6lahopYAFl",
        "colab_type": "text"
      },
      "cell_type": "markdown",
      "source": [
        "# Forward Propagation"
      ]
    },
    {
      "metadata": {
        "id": "aPG0bmJXYAFm",
        "colab_type": "text"
      },
      "cell_type": "markdown",
      "source": [
        "**1:** State the definition of a *feedforward* network"
      ]
    },
    {
      "metadata": {
        "id": "sViAEP_uYAFo",
        "colab_type": "text"
      },
      "cell_type": "markdown",
      "source": [
        "**2:**: Describe the data structures, in terms of *matrix algebra*, for representing a feedforward network "
      ]
    },
    {
      "metadata": {
        "id": "o4kUBFa_YAFq",
        "colab_type": "text"
      },
      "cell_type": "markdown",
      "source": [
        "**3:**: Understand the end-to-end *computation* or forward propagation for a feedforward network"
      ]
    },
    {
      "metadata": {
        "id": "HkiaIR5jYAFr",
        "colab_type": "text"
      },
      "cell_type": "markdown",
      "source": [
        "**4:**: Write a Python class to compute the forward propagation steps resulting in the final output"
      ]
    },
    {
      "metadata": {
        "id": "UpXRkkSKYAFt",
        "colab_type": "text"
      },
      "cell_type": "markdown",
      "source": [
        "# Feedforward Networks"
      ]
    },
    {
      "metadata": {
        "id": "-KKDS_5iYAFw",
        "colab_type": "text"
      },
      "cell_type": "markdown",
      "source": [
        "<img src=\"https://github.com/alfredessa/lasi2018/raw/8140f2ad8d9998a02d7ec559d0ddceb5f41c6a18/notebooks/slideversion/deeplearning/images/feedforward1.png\" width=\"60%\" height=\"60%\" />\n"
      ]
    },
    {
      "metadata": {
        "id": "rHA3rQt8YAFx",
        "colab_type": "text"
      },
      "cell_type": "markdown",
      "source": [
        "> Feedforward networks are the quintessential neural network. They are referred to as feedforward because information flows sequentially through each layer without feedback or loops.\n",
        "\n",
        "- Feedforward networks은 입력이 한 방향으로 레이어들을 통과하면서 최종 출력값을 결정한다."
      ]
    },
    {
      "metadata": {
        "id": "aKI5F90aYAFz",
        "colab_type": "text"
      },
      "cell_type": "markdown",
      "source": [
        "# Forward Propagation Computation"
      ]
    },
    {
      "metadata": {
        "id": "v3ubshfvYAF0",
        "colab_type": "text"
      },
      "cell_type": "markdown",
      "source": [
        "<img src=\"https://github.com/alfredessa/lasi2018/raw/8140f2ad8d9998a02d7ec559d0ddceb5f41c6a18/notebooks/slideversion/deeplearning/images/feedforward2.png\" width=\"75%\" height=\"75%\" />"
      ]
    },
    {
      "metadata": {
        "id": "MQtWWDd1YAF2",
        "colab_type": "text"
      },
      "cell_type": "markdown",
      "source": [
        "- A feedforward neural network composes together a series of functions: $f(x) = f^{(3)}(f^{(2)}(f^{(1)}(x)))$"
      ]
    },
    {
      "metadata": {
        "id": "WPYeV1lJYAF5",
        "colab_type": "text"
      },
      "cell_type": "markdown",
      "source": [
        "- $f^{(1)}$ is the first layer of the network, $f^{(2)}$ is the second layer, and so on"
      ]
    },
    {
      "metadata": {
        "id": "EQ5AvrJ-YAF6",
        "colab_type": "text"
      },
      "cell_type": "markdown",
      "source": [
        "- 각 레이어는 입력 (x)을 처리해서 구한 출력을 새로운 입력으로 다음 레이어를 보낸다."
      ]
    },
    {
      "metadata": {
        "id": "XDfQl0jGnwcv",
        "colab_type": "text"
      },
      "cell_type": "markdown",
      "source": [
        "\n",
        "\n",
        "---\n",
        "\n"
      ]
    },
    {
      "metadata": {
        "id": "h5Rf-27oYAF7",
        "colab_type": "text"
      },
      "cell_type": "markdown",
      "source": [
        "### Network Class"
      ]
    },
    {
      "metadata": {
        "id": "U43iuH-AYAF9",
        "colab_type": "code",
        "colab": {}
      },
      "cell_type": "code",
      "source": [
        "import numpy as np"
      ],
      "execution_count": 0,
      "outputs": []
    },
    {
      "metadata": {
        "id": "mpNl1ENlYAGC",
        "colab_type": "code",
        "colab": {}
      },
      "cell_type": "code",
      "source": [
        "# activation function\n",
        "def relu(z):\n",
        "    return np.maximum(0,z)\n",
        "\n",
        "def sigmoid(z):\n",
        "        return 1.0/(1.0+np.exp(-z))\n",
        "    \n",
        "def heaviside(z):\n",
        "#     if z<0:  #.any()<0:  # update at 181119\n",
        "#         return 0\n",
        "#     else:\n",
        "#         return 1\n",
        "    return np.heaviside(z,0) # updated by Redwoods Yi, 181120\n",
        "\n",
        "# use np.heaviside(z,0) instead of heaviside(z)"
      ],
      "execution_count": 0,
      "outputs": []
    },
    {
      "metadata": {
        "id": "nmIj6-maYAGG",
        "colab_type": "code",
        "colab": {}
      },
      "cell_type": "code",
      "source": [
        "class Network(object):\n",
        "    def __init__(self,sizes):\n",
        "        self.num_layers = len(sizes)\n",
        "        self.sizes = sizes\n",
        "        self.biases = [np.random.randn(y,1) for y in sizes[1:]]\n",
        "        self.weights = [np.random.randn(y,x) \n",
        "                        for x,y in zip(sizes[:-1], sizes[1:])] # \n",
        "        \n",
        "    def feedforward(self,a,phi):\n",
        "        for b,w in zip(self.biases, self.weights):\n",
        "            z = np.dot(w,a) + b   # b[0].T\n",
        "#             print(z)\n",
        "            z=np.diag(z)  # update by Redwoods Yi, 181123\n",
        "            print(z)\n",
        "            a = phi(z)  # new input to next layer\n",
        "#         print(z)\n",
        "        print(a)\n",
        "        return a\n",
        "        \n",
        "    def set_biases(self,newbiases):\n",
        "        self.biases = [np.array(newbiases)]\n",
        "        \n",
        "    def set_weights(self,newweights):\n",
        "        self.weights = [np.array([newweights])]\n",
        "        \n",
        "    def show_parameters(self):\n",
        "        print(\"biases: =\", self.biases)\n",
        "        print(\"weights: =\", self.weights)"
      ],
      "execution_count": 0,
      "outputs": []
    },
    {
      "metadata": {
        "id": "35BEaBxSYAGL",
        "colab_type": "text"
      },
      "cell_type": "markdown",
      "source": [
        "## Network class 점검"
      ]
    },
    {
      "metadata": {
        "id": "2aVe-qPeYAGN",
        "colab_type": "code",
        "colab": {}
      },
      "cell_type": "code",
      "source": [
        "# Set a seed for randomnumber generation\n",
        "np.random.seed(0)"
      ],
      "execution_count": 0,
      "outputs": []
    },
    {
      "metadata": {
        "id": "cUCQd6yrYAGR",
        "colab_type": "code",
        "outputId": "daaa7d07-a559-4fa2-cc46-7faac4ec290d",
        "colab": {
          "base_uri": "https://localhost:8080/",
          "height": 89
        }
      },
      "cell_type": "code",
      "source": [
        "# test\n",
        "sizes=[5,3,2]  # input, layer1, output\n",
        "b1 = [np.random.randn(y,1) for y in sizes[1:]]\n",
        "b1"
      ],
      "execution_count": 5,
      "outputs": [
        {
          "output_type": "execute_result",
          "data": {
            "text/plain": [
              "[array([[1.76405235],\n",
              "        [0.40015721],\n",
              "        [0.97873798]]), array([[2.2408932 ],\n",
              "        [1.86755799]])]"
            ]
          },
          "metadata": {
            "tags": []
          },
          "execution_count": 5
        }
      ]
    },
    {
      "metadata": {
        "id": "O9g4t6S9YAGa",
        "colab_type": "code",
        "outputId": "60716223-a9aa-4492-df67-ed542bf79ca2",
        "colab": {
          "base_uri": "https://localhost:8080/",
          "height": 89
        }
      },
      "cell_type": "code",
      "source": [
        "b1[0],b1[1]"
      ],
      "execution_count": 6,
      "outputs": [
        {
          "output_type": "execute_result",
          "data": {
            "text/plain": [
              "(array([[1.76405235],\n",
              "        [0.40015721],\n",
              "        [0.97873798]]), array([[2.2408932 ],\n",
              "        [1.86755799]]))"
            ]
          },
          "metadata": {
            "tags": []
          },
          "execution_count": 6
        }
      ]
    },
    {
      "metadata": {
        "id": "9SJauJ8EYAGe",
        "colab_type": "code",
        "outputId": "180acdb7-d6e5-4b98-ed2a-61bff18fd6a6",
        "colab": {
          "base_uri": "https://localhost:8080/",
          "height": 107
        }
      },
      "cell_type": "code",
      "source": [
        "w1 = [np.random.randn(y,x) for x,y in zip(sizes[:-1], sizes[1:])]\n",
        "w1 "
      ],
      "execution_count": 7,
      "outputs": [
        {
          "output_type": "execute_result",
          "data": {
            "text/plain": [
              "[array([[-0.97727788,  0.95008842, -0.15135721, -0.10321885,  0.4105985 ],\n",
              "        [ 0.14404357,  1.45427351,  0.76103773,  0.12167502,  0.44386323],\n",
              "        [ 0.33367433,  1.49407907, -0.20515826,  0.3130677 , -0.85409574]]),\n",
              " array([[-2.55298982,  0.6536186 ,  0.8644362 ],\n",
              "        [-0.74216502,  2.26975462, -1.45436567]])]"
            ]
          },
          "metadata": {
            "tags": []
          },
          "execution_count": 7
        }
      ]
    },
    {
      "metadata": {
        "id": "yd0gQxyLYAGk",
        "colab_type": "code",
        "outputId": "b32e45ed-f5ce-482b-b5c9-e7c501181f2c",
        "colab": {
          "base_uri": "https://localhost:8080/",
          "height": 71
        }
      },
      "cell_type": "code",
      "source": [
        "w1[0]"
      ],
      "execution_count": 8,
      "outputs": [
        {
          "output_type": "execute_result",
          "data": {
            "text/plain": [
              "array([[-0.97727788,  0.95008842, -0.15135721, -0.10321885,  0.4105985 ],\n",
              "       [ 0.14404357,  1.45427351,  0.76103773,  0.12167502,  0.44386323],\n",
              "       [ 0.33367433,  1.49407907, -0.20515826,  0.3130677 , -0.85409574]])"
            ]
          },
          "metadata": {
            "tags": []
          },
          "execution_count": 8
        }
      ]
    },
    {
      "metadata": {
        "id": "sUVsqVzXYAGq",
        "colab_type": "code",
        "outputId": "beaaeb36-b9f9-4ea5-f911-365b593fa80e",
        "colab": {
          "base_uri": "https://localhost:8080/",
          "height": 53
        }
      },
      "cell_type": "code",
      "source": [
        "w1[1]"
      ],
      "execution_count": 9,
      "outputs": [
        {
          "output_type": "execute_result",
          "data": {
            "text/plain": [
              "array([[-2.55298982,  0.6536186 ,  0.8644362 ],\n",
              "       [-0.74216502,  2.26975462, -1.45436567]])"
            ]
          },
          "metadata": {
            "tags": []
          },
          "execution_count": 9
        }
      ]
    },
    {
      "metadata": {
        "id": "nUKzNQSdYAGw",
        "colab_type": "code",
        "outputId": "a6f606d9-17d1-489e-dc91-021b7145adc9",
        "colab": {
          "base_uri": "https://localhost:8080/",
          "height": 35
        }
      },
      "cell_type": "code",
      "source": [
        "# input\n",
        "x0 = np.arange(5)\n",
        "x0,x0.shape"
      ],
      "execution_count": 10,
      "outputs": [
        {
          "output_type": "execute_result",
          "data": {
            "text/plain": [
              "(array([0, 1, 2, 3, 4]), (5,))"
            ]
          },
          "metadata": {
            "tags": []
          },
          "execution_count": 10
        }
      ]
    },
    {
      "metadata": {
        "id": "genHXesvYAG3",
        "colab_type": "text"
      },
      "cell_type": "markdown",
      "source": [
        "### Hidden layer"
      ]
    },
    {
      "metadata": {
        "id": "vtH_kfWLYAG4",
        "colab_type": "code",
        "outputId": "7a197570-6413-4eca-af4f-deb148153867",
        "colab": {
          "base_uri": "https://localhost:8080/",
          "height": 71
        }
      },
      "cell_type": "code",
      "source": [
        "# hidden layer: transfer function : linear sum + bias\n",
        "z0 = np.dot(w1[0], x0)  # linear sum\n",
        "z0,b1[0],z0+b1[0].T"
      ],
      "execution_count": 11,
      "outputs": [
        {
          "output_type": "execute_result",
          "data": {
            "text/plain": [
              "(array([ 1.98011145,  5.11682694, -1.39341731]), array([[1.76405235],\n",
              "        [0.40015721],\n",
              "        [0.97873798]]), array([[ 3.7441638 ,  5.51698415, -0.41467932]]))"
            ]
          },
          "metadata": {
            "tags": []
          },
          "execution_count": 11
        }
      ]
    },
    {
      "metadata": {
        "id": "BPlRBiVeYAG9",
        "colab_type": "text"
      },
      "cell_type": "markdown",
      "source": [
        "### 행벡터와 열벡터의 합에서 발생하는 문제 해결"
      ]
    },
    {
      "metadata": {
        "id": "wAJro58AYAG9",
        "colab_type": "code",
        "outputId": "66acfdd3-4b73-4798-f85e-a080018c1580",
        "colab": {
          "base_uri": "https://localhost:8080/",
          "height": 71
        }
      },
      "cell_type": "code",
      "source": [
        "t1=np.array([ 1.98011145,  5.11682694, -1.39341731])\n",
        "t2=np.array([[1.76405235],[0.40015721],[0.97873798]])\n",
        "t1+t2"
      ],
      "execution_count": 14,
      "outputs": [
        {
          "output_type": "execute_result",
          "data": {
            "text/plain": [
              "array([[ 3.7441638 ,  6.88087929,  0.37063504],\n",
              "       [ 2.38026866,  5.51698415, -0.9932601 ],\n",
              "       [ 2.95884943,  6.09556492, -0.41467933]])"
            ]
          },
          "metadata": {
            "tags": []
          },
          "execution_count": 14
        }
      ]
    },
    {
      "metadata": {
        "id": "Yqh7NnJ0YAHC",
        "colab_type": "code",
        "outputId": "c0634c34-730d-4fa4-f9fa-0198709971bb",
        "colab": {
          "base_uri": "https://localhost:8080/",
          "height": 35
        }
      },
      "cell_type": "code",
      "source": [
        "np.diag(t1+t2)"
      ],
      "execution_count": 15,
      "outputs": [
        {
          "output_type": "execute_result",
          "data": {
            "text/plain": [
              "array([ 3.7441638 ,  5.51698415, -0.41467933])"
            ]
          },
          "metadata": {
            "tags": []
          },
          "execution_count": 15
        }
      ]
    },
    {
      "metadata": {
        "id": "NClaszNfYAHG",
        "colab_type": "code",
        "outputId": "e2a0e150-e0e3-4b0c-8e70-74d41bcee249",
        "colab": {
          "base_uri": "https://localhost:8080/",
          "height": 35
        }
      },
      "cell_type": "code",
      "source": [
        "t1+t2.T  # correct result!"
      ],
      "execution_count": 16,
      "outputs": [
        {
          "output_type": "execute_result",
          "data": {
            "text/plain": [
              "array([[ 3.7441638 ,  5.51698415, -0.41467933]])"
            ]
          },
          "metadata": {
            "tags": []
          },
          "execution_count": 16
        }
      ]
    },
    {
      "metadata": {
        "id": "1LqkuMcXYAHL",
        "colab_type": "code",
        "outputId": "44e8caa7-1f00-434f-a137-2d67ea3710e6",
        "colab": {
          "base_uri": "https://localhost:8080/",
          "height": 35
        }
      },
      "cell_type": "code",
      "source": [
        "# in the layer\n",
        "z0+b1[0].T   # [3.7441638  6.88087928 0.37063504] -> wrong"
      ],
      "execution_count": 17,
      "outputs": [
        {
          "output_type": "execute_result",
          "data": {
            "text/plain": [
              "array([[ 3.7441638 ,  5.51698415, -0.41467932]])"
            ]
          },
          "metadata": {
            "tags": []
          },
          "execution_count": 17
        }
      ]
    },
    {
      "metadata": {
        "id": "HDblT01PYAHQ",
        "colab_type": "code",
        "outputId": "3577f5be-7d33-4b55-8136-982a21210144",
        "colab": {
          "base_uri": "https://localhost:8080/",
          "height": 73
        }
      },
      "cell_type": "code",
      "source": [
        "# output from the hidden layer\n",
        "heaviside(z0+b1[0].T),relu(z0+b1[0].T),sigmoid(z0+b1[0].T)  # output"
      ],
      "execution_count": 0,
      "outputs": [
        {
          "output_type": "execute_result",
          "data": {
            "text/plain": [
              "(array([[1., 1., 0.]]),\n",
              " array([[3.7441638 , 5.51698415, 0.        ]]),\n",
              " array([[0.97689125, 0.99599813, 0.39779064]]))"
            ]
          },
          "metadata": {
            "tags": []
          },
          "execution_count": 17
        }
      ]
    },
    {
      "metadata": {
        "id": "g2kQtDXFYAHU",
        "colab_type": "text"
      },
      "cell_type": "markdown",
      "source": [
        "### Output layer\n",
        "> The output from the hidden layer becomes the input to the output layer."
      ]
    },
    {
      "metadata": {
        "id": "A4InJHY1YAHW",
        "colab_type": "code",
        "outputId": "a3b772e2-8c75-4b75-8916-689dfef4b573",
        "colab": {
          "base_uri": "https://localhost:8080/",
          "height": 89
        }
      },
      "cell_type": "code",
      "source": [
        "# output layer: transfer function : linear sum + bias\n",
        "z1 = np.dot(w1[1], heaviside(z0+b1[0].T).T)  #+ b1[0].T #+ N1.biases\n",
        "z1,b1[1],z1+b1[1]"
      ],
      "execution_count": 18,
      "outputs": [
        {
          "output_type": "execute_result",
          "data": {
            "text/plain": [
              "(array([[-1.89937122],\n",
              "        [ 1.5275896 ]]), array([[2.2408932 ],\n",
              "        [1.86755799]]), array([[0.34152198],\n",
              "        [3.39514759]]))"
            ]
          },
          "metadata": {
            "tags": []
          },
          "execution_count": 18
        }
      ]
    },
    {
      "metadata": {
        "id": "_sbCREj5YAHc",
        "colab_type": "code",
        "colab": {}
      },
      "cell_type": "code",
      "source": [
        "# (linear sum + bias) in output layer\n",
        "z1h=z1+b1[1]"
      ],
      "execution_count": 0,
      "outputs": []
    },
    {
      "metadata": {
        "id": "UNASXityYAHh",
        "colab_type": "code",
        "outputId": "7dff7034-257a-470b-c342-767e93c91fa6",
        "colab": {
          "base_uri": "https://localhost:8080/",
          "height": 53
        }
      },
      "cell_type": "code",
      "source": [
        "# output layer: heaviside activation\n",
        "heaviside(z1h+b1[1])"
      ],
      "execution_count": 20,
      "outputs": [
        {
          "output_type": "execute_result",
          "data": {
            "text/plain": [
              "array([[1.],\n",
              "       [1.]])"
            ]
          },
          "metadata": {
            "tags": []
          },
          "execution_count": 20
        }
      ]
    },
    {
      "metadata": {
        "id": "Lj45O88IYAHl",
        "colab_type": "code",
        "colab": {}
      },
      "cell_type": "code",
      "source": [
        "# (linear sum + bias) in output layer\n",
        "z1r = np.dot(w1[1], relu(z0+b1[0].T).T)  + b1[1]"
      ],
      "execution_count": 0,
      "outputs": []
    },
    {
      "metadata": {
        "id": "DLW6rZmVYAHp",
        "colab_type": "code",
        "outputId": "be1bc517-e695-413f-8c4c-ce611a3e348e",
        "colab": {
          "base_uri": "https://localhost:8080/",
          "height": 53
        }
      },
      "cell_type": "code",
      "source": [
        "# output layer: relu activation\n",
        "relu(z1r)"
      ],
      "execution_count": 22,
      "outputs": [
        {
          "output_type": "execute_result",
          "data": {
            "text/plain": [
              "array([[ 0.        ],\n",
              "       [11.61097086]])"
            ]
          },
          "metadata": {
            "tags": []
          },
          "execution_count": 22
        }
      ]
    },
    {
      "metadata": {
        "id": "86aSomYFYAHt",
        "colab_type": "code",
        "colab": {}
      },
      "cell_type": "code",
      "source": [
        "# (linear sum + bias) in output layer\n",
        "z1s = np.dot(w1[1], sigmoid(z0+b1[0].T).T)  + b1[1]"
      ],
      "execution_count": 0,
      "outputs": []
    },
    {
      "metadata": {
        "id": "QmwI9WjmYAHz",
        "colab_type": "code",
        "outputId": "a715aa6c-8678-4cd5-bfed-8bb52b224078",
        "colab": {
          "base_uri": "https://localhost:8080/",
          "height": 53
        }
      },
      "cell_type": "code",
      "source": [
        "# output layer: sigmoid activation\n",
        "sigmoid(z1s)"
      ],
      "execution_count": 24,
      "outputs": [
        {
          "output_type": "execute_result",
          "data": {
            "text/plain": [
              "array([[0.6773822],\n",
              "       [0.9439951]])"
            ]
          },
          "metadata": {
            "tags": []
          },
          "execution_count": 24
        }
      ]
    },
    {
      "metadata": {
        "id": "BAtTmPpzYAH4",
        "colab_type": "text"
      },
      "cell_type": "markdown",
      "source": [
        "### Checking feedforward operation\n",
        "> N0 network with sizes=[5,3,2]  # input, layer1, output"
      ]
    },
    {
      "metadata": {
        "id": "c2A2T3VxYAH4",
        "colab_type": "code",
        "outputId": "016b8acc-2440-45da-90a2-38e8c294c175",
        "colab": {
          "base_uri": "https://localhost:8080/",
          "height": 35
        }
      },
      "cell_type": "code",
      "source": [
        "np.random.seed(0)\n",
        "N0=Network(sizes)\n",
        "sizes"
      ],
      "execution_count": 25,
      "outputs": [
        {
          "output_type": "execute_result",
          "data": {
            "text/plain": [
              "[5, 3, 2]"
            ]
          },
          "metadata": {
            "tags": []
          },
          "execution_count": 25
        }
      ]
    },
    {
      "metadata": {
        "id": "SiXyvjDiYAH8",
        "colab_type": "code",
        "outputId": "b1a92e7f-04c9-4816-e691-203e611e4726",
        "colab": {
          "base_uri": "https://localhost:8080/",
          "height": 187
        }
      },
      "cell_type": "code",
      "source": [
        "N0.show_parameters()"
      ],
      "execution_count": 0,
      "outputs": [
        {
          "output_type": "stream",
          "text": [
            "biases: = [array([[1.76405235],\n",
            "       [0.40015721],\n",
            "       [0.97873798]]), array([[2.2408932 ],\n",
            "       [1.86755799]])]\n",
            "weights: = [array([[-0.97727788,  0.95008842, -0.15135721, -0.10321885,  0.4105985 ],\n",
            "       [ 0.14404357,  1.45427351,  0.76103773,  0.12167502,  0.44386323],\n",
            "       [ 0.33367433,  1.49407907, -0.20515826,  0.3130677 , -0.85409574]]), array([[-2.55298982,  0.6536186 ,  0.8644362 ],\n",
            "       [-0.74216502,  2.26975462, -1.45436567]])]\n"
          ],
          "name": "stdout"
        }
      ]
    },
    {
      "metadata": {
        "id": "lQF7iPHjYAIE",
        "colab_type": "text"
      },
      "cell_type": "markdown",
      "source": [
        "### heaviside activation"
      ]
    },
    {
      "metadata": {
        "id": "yKvOXu9nYAIF",
        "colab_type": "code",
        "outputId": "b49a583c-df11-4b35-be97-67dbeaef754e",
        "colab": {
          "base_uri": "https://localhost:8080/",
          "height": 89
        }
      },
      "cell_type": "code",
      "source": [
        "N0.feedforward(x0, heaviside)"
      ],
      "execution_count": 27,
      "outputs": [
        {
          "output_type": "stream",
          "text": [
            "[ 3.7441638   5.51698415 -0.41467932]\n",
            "[0.34152198 3.39514759]\n",
            "[1. 1.]\n"
          ],
          "name": "stdout"
        },
        {
          "output_type": "execute_result",
          "data": {
            "text/plain": [
              "array([1., 1.])"
            ]
          },
          "metadata": {
            "tags": []
          },
          "execution_count": 27
        }
      ]
    },
    {
      "metadata": {
        "id": "7e_r3MMDYAIJ",
        "colab_type": "code",
        "outputId": "68ffada6-ef7a-4c6c-d49c-51e28852bbb6",
        "colab": {
          "base_uri": "https://localhost:8080/",
          "height": 89
        }
      },
      "cell_type": "code",
      "source": [
        "N0.feedforward(x0, heaviside)==heaviside(z1h).T"
      ],
      "execution_count": 28,
      "outputs": [
        {
          "output_type": "stream",
          "text": [
            "[ 3.7441638   5.51698415 -0.41467932]\n",
            "[0.34152198 3.39514759]\n",
            "[1. 1.]\n"
          ],
          "name": "stdout"
        },
        {
          "output_type": "execute_result",
          "data": {
            "text/plain": [
              "array([[ True,  True]])"
            ]
          },
          "metadata": {
            "tags": []
          },
          "execution_count": 28
        }
      ]
    },
    {
      "metadata": {
        "id": "7DprevEAYAIM",
        "colab_type": "text"
      },
      "cell_type": "markdown",
      "source": [
        "### relu activation"
      ]
    },
    {
      "metadata": {
        "id": "8p18DixSYAIO",
        "colab_type": "code",
        "outputId": "feff0027-e288-4657-8b97-1d7a4b6fd29f",
        "colab": {
          "base_uri": "https://localhost:8080/",
          "height": 89
        }
      },
      "cell_type": "code",
      "source": [
        "N0.feedforward(x0, relu)"
      ],
      "execution_count": 29,
      "outputs": [
        {
          "output_type": "stream",
          "text": [
            "[ 3.7441638   5.51698415 -0.41467932]\n",
            "[-3.71191542 11.61097086]\n",
            "[ 0.         11.61097086]\n"
          ],
          "name": "stdout"
        },
        {
          "output_type": "execute_result",
          "data": {
            "text/plain": [
              "array([ 0.        , 11.61097086])"
            ]
          },
          "metadata": {
            "tags": []
          },
          "execution_count": 29
        }
      ]
    },
    {
      "metadata": {
        "id": "p90kbboMYAIR",
        "colab_type": "code",
        "outputId": "890a4dab-773d-4302-caa2-015be3db1460",
        "colab": {
          "base_uri": "https://localhost:8080/",
          "height": 89
        }
      },
      "cell_type": "code",
      "source": [
        "N0.feedforward(x0, relu) == relu(z1r).T"
      ],
      "execution_count": 30,
      "outputs": [
        {
          "output_type": "stream",
          "text": [
            "[ 3.7441638   5.51698415 -0.41467932]\n",
            "[-3.71191542 11.61097086]\n",
            "[ 0.         11.61097086]\n"
          ],
          "name": "stdout"
        },
        {
          "output_type": "execute_result",
          "data": {
            "text/plain": [
              "array([[ True,  True]])"
            ]
          },
          "metadata": {
            "tags": []
          },
          "execution_count": 30
        }
      ]
    },
    {
      "metadata": {
        "id": "H2Z8RVxpYAIW",
        "colab_type": "text"
      },
      "cell_type": "markdown",
      "source": [
        "### sigmoid activation"
      ]
    },
    {
      "metadata": {
        "id": "XzqEEUYLYAIX",
        "colab_type": "code",
        "outputId": "7c78e4d0-f7b3-4ce1-a1dc-8524cfd36f6e",
        "colab": {
          "base_uri": "https://localhost:8080/",
          "height": 89
        }
      },
      "cell_type": "code",
      "source": [
        "N0.feedforward(x0, sigmoid)"
      ],
      "execution_count": 31,
      "outputs": [
        {
          "output_type": "stream",
          "text": [
            "[ 3.7441638   5.51698415 -0.41467932]\n",
            "[0.74176733 2.82468179]\n",
            "[0.6773822 0.9439951]\n"
          ],
          "name": "stdout"
        },
        {
          "output_type": "execute_result",
          "data": {
            "text/plain": [
              "array([0.6773822, 0.9439951])"
            ]
          },
          "metadata": {
            "tags": []
          },
          "execution_count": 31
        }
      ]
    },
    {
      "metadata": {
        "id": "Uxx0Aj5rYAIh",
        "colab_type": "code",
        "outputId": "60bb3188-70b7-4d3d-fcb1-07e17ed82e24",
        "colab": {
          "base_uri": "https://localhost:8080/",
          "height": 89
        }
      },
      "cell_type": "code",
      "source": [
        "N0.feedforward(x0, sigmoid)==sigmoid(z1s).T"
      ],
      "execution_count": 32,
      "outputs": [
        {
          "output_type": "stream",
          "text": [
            "[ 3.7441638   5.51698415 -0.41467932]\n",
            "[0.74176733 2.82468179]\n",
            "[0.6773822 0.9439951]\n"
          ],
          "name": "stdout"
        },
        {
          "output_type": "execute_result",
          "data": {
            "text/plain": [
              "array([[ True,  True]])"
            ]
          },
          "metadata": {
            "tags": []
          },
          "execution_count": 32
        }
      ]
    },
    {
      "metadata": {
        "id": "g54aYHLDYAIl",
        "colab_type": "text"
      },
      "cell_type": "markdown",
      "source": [
        "### Well done! Great!"
      ]
    },
    {
      "metadata": {
        "id": "cKAlczOaYAIm",
        "colab_type": "text"
      },
      "cell_type": "markdown",
      "source": [
        "***"
      ]
    },
    {
      "metadata": {
        "id": "BGy-2RPKYAIo",
        "colab_type": "text"
      },
      "cell_type": "markdown",
      "source": [
        "### Neural network 1: single layer (3 -> 2 -> 1)\n",
        "\n",
        "> input (3), layer (2) , and output (1) "
      ]
    },
    {
      "metadata": {
        "id": "c2pUxbp9YAIp",
        "colab_type": "code",
        "outputId": "89c2fd17-7f29-4421-e67d-d73469487127",
        "colab": {
          "base_uri": "https://localhost:8080/",
          "height": 35
        }
      },
      "cell_type": "code",
      "source": [
        "# inputs (should be numpy array)\n",
        "x1 = np.array([2.3,4.5,1.3])\n",
        "x2 = np.array([1.3,2.5,4.3])\n",
        "x1,x2"
      ],
      "execution_count": 33,
      "outputs": [
        {
          "output_type": "execute_result",
          "data": {
            "text/plain": [
              "(array([2.3, 4.5, 1.3]), array([1.3, 2.5, 4.3]))"
            ]
          },
          "metadata": {
            "tags": []
          },
          "execution_count": 33
        }
      ]
    },
    {
      "metadata": {
        "id": "s2BZHOd5YAIt",
        "colab_type": "code",
        "outputId": "42ea434c-a983-4fe3-ff92-890195d11eac",
        "colab": {
          "base_uri": "https://localhost:8080/",
          "height": 35
        }
      },
      "cell_type": "code",
      "source": [
        "np.random.seed(0)\n",
        "N1 = Network([3,2,1])  # 3X2X1 NN\n",
        "N1.num_layers # input (3), layer (2) , and output (1) "
      ],
      "execution_count": 34,
      "outputs": [
        {
          "output_type": "execute_result",
          "data": {
            "text/plain": [
              "3"
            ]
          },
          "metadata": {
            "tags": []
          },
          "execution_count": 34
        }
      ]
    },
    {
      "metadata": {
        "id": "4hO3adRoYAIz",
        "colab_type": "code",
        "outputId": "5b78a6e3-22ec-420c-f14c-9032d33a1de2",
        "colab": {
          "base_uri": "https://localhost:8080/",
          "height": 35
        }
      },
      "cell_type": "code",
      "source": [
        "N1.num_layers,N1.sizes"
      ],
      "execution_count": 35,
      "outputs": [
        {
          "output_type": "execute_result",
          "data": {
            "text/plain": [
              "(3, [3, 2, 1])"
            ]
          },
          "metadata": {
            "tags": []
          },
          "execution_count": 35
        }
      ]
    },
    {
      "metadata": {
        "id": "yWxQluB2YAI2",
        "colab_type": "code",
        "outputId": "c26d797a-245e-43aa-9e38-9d4df70f540d",
        "colab": {
          "base_uri": "https://localhost:8080/",
          "height": 89
        }
      },
      "cell_type": "code",
      "source": [
        "N1.show_parameters()"
      ],
      "execution_count": 36,
      "outputs": [
        {
          "output_type": "stream",
          "text": [
            "biases: = [array([[1.76405235],\n",
            "       [0.40015721]]), array([[0.97873798]])]\n",
            "weights: = [array([[ 2.2408932 ,  1.86755799, -0.97727788],\n",
            "       [ 0.95008842, -0.15135721, -0.10321885]]), array([[0.4105985 , 0.14404357]])]\n"
          ],
          "name": "stdout"
        }
      ]
    },
    {
      "metadata": {
        "id": "wh7ygEW5YAI7",
        "colab_type": "code",
        "outputId": "7356aec0-1de9-4902-9abd-c24b2c664447",
        "colab": {
          "base_uri": "https://localhost:8080/",
          "height": 125
        }
      },
      "cell_type": "code",
      "source": [
        "N1.weights,N1.biases,x1"
      ],
      "execution_count": 37,
      "outputs": [
        {
          "output_type": "execute_result",
          "data": {
            "text/plain": [
              "([array([[ 2.2408932 ,  1.86755799, -0.97727788],\n",
              "         [ 0.95008842, -0.15135721, -0.10321885]]),\n",
              "  array([[0.4105985 , 0.14404357]])],\n",
              " [array([[1.76405235],\n",
              "         [0.40015721]]), array([[0.97873798]])],\n",
              " array([2.3, 4.5, 1.3]))"
            ]
          },
          "metadata": {
            "tags": []
          },
          "execution_count": 37
        }
      ]
    },
    {
      "metadata": {
        "id": "o6eo9yjlYAI_",
        "colab_type": "code",
        "outputId": "f6433625-9ca2-49b2-f937-349559d40463",
        "colab": {
          "base_uri": "https://localhost:8080/",
          "height": 53
        }
      },
      "cell_type": "code",
      "source": [
        "# z = np.dot(w,a)+b\n",
        "z0 = np.dot(N1.weights[0], x1) # + N1.biases\n",
        "z0,N1.biases[0],z0+N1.biases[0].T"
      ],
      "execution_count": 38,
      "outputs": [
        {
          "output_type": "execute_result",
          "data": {
            "text/plain": [
              "(array([12.28760407,  1.36991142]), array([[1.76405235],\n",
              "        [0.40015721]]), array([[14.05165642,  1.77006862]]))"
            ]
          },
          "metadata": {
            "tags": []
          },
          "execution_count": 38
        }
      ]
    },
    {
      "metadata": {
        "id": "lcrsNBUWYAJC",
        "colab_type": "code",
        "outputId": "f09f61ac-b056-4621-b255-4860ac2570df",
        "colab": {
          "base_uri": "https://localhost:8080/",
          "height": 53
        }
      },
      "cell_type": "code",
      "source": [
        "N1.biases[0],N1.biases[0].T"
      ],
      "execution_count": 39,
      "outputs": [
        {
          "output_type": "execute_result",
          "data": {
            "text/plain": [
              "(array([[1.76405235],\n",
              "        [0.40015721]]), array([[1.76405235, 0.40015721]]))"
            ]
          },
          "metadata": {
            "tags": []
          },
          "execution_count": 39
        }
      ]
    },
    {
      "metadata": {
        "id": "SCSVZnzAYAJF",
        "colab_type": "code",
        "outputId": "8e433c96-6ecf-480a-af5e-1d70a7496b5f",
        "colab": {
          "base_uri": "https://localhost:8080/",
          "height": 35
        }
      },
      "cell_type": "code",
      "source": [
        "z0 = np.dot(N1.weights[0], x1)  + N1.biases[0].T\n",
        "z0"
      ],
      "execution_count": 40,
      "outputs": [
        {
          "output_type": "execute_result",
          "data": {
            "text/plain": [
              "array([[14.05165642,  1.77006862]])"
            ]
          },
          "metadata": {
            "tags": []
          },
          "execution_count": 40
        }
      ]
    },
    {
      "metadata": {
        "id": "XYWb4xOJYAJJ",
        "colab_type": "code",
        "outputId": "92e589f9-4e60-4090-cb39-216fd88b89f2",
        "colab": {
          "base_uri": "https://localhost:8080/",
          "height": 71
        }
      },
      "cell_type": "code",
      "source": [
        "heaviside(z0),relu(z0),sigmoid(z0)"
      ],
      "execution_count": 41,
      "outputs": [
        {
          "output_type": "execute_result",
          "data": {
            "text/plain": [
              "(array([[1., 1.]]),\n",
              " array([[14.05165642,  1.77006862]]),\n",
              " array([[0.99999921, 0.8544662 ]]))"
            ]
          },
          "metadata": {
            "tags": []
          },
          "execution_count": 41
        }
      ]
    },
    {
      "metadata": {
        "id": "VaXHwh4GYAJN",
        "colab_type": "code",
        "outputId": "6066e759-cd41-475b-9b8b-a0bfd6ed7f1d",
        "colab": {
          "base_uri": "https://localhost:8080/",
          "height": 36
        }
      },
      "cell_type": "code",
      "source": [
        "N1.weights[1],np.dot(N1.weights[1], heaviside(z0).T) "
      ],
      "execution_count": 0,
      "outputs": [
        {
          "output_type": "execute_result",
          "data": {
            "text/plain": [
              "(array([[0.4105985 , 0.14404357]]), array([[0.55464207]]))"
            ]
          },
          "metadata": {
            "tags": []
          },
          "execution_count": 42
        }
      ]
    },
    {
      "metadata": {
        "id": "Xd1cQJEdYAJR",
        "colab_type": "code",
        "outputId": "29b29f25-6160-4547-8b9e-ae8367fbd997",
        "colab": {
          "base_uri": "https://localhost:8080/",
          "height": 36
        }
      },
      "cell_type": "code",
      "source": [
        "z1h = np.dot(N1.weights[1], heaviside(z0).T)  + N1.biases[1].T\n",
        "z1h"
      ],
      "execution_count": 0,
      "outputs": [
        {
          "output_type": "execute_result",
          "data": {
            "text/plain": [
              "array([[1.53338006]])"
            ]
          },
          "metadata": {
            "tags": []
          },
          "execution_count": 43
        }
      ]
    },
    {
      "metadata": {
        "id": "lqKIJ1EoYAJU",
        "colab_type": "code",
        "outputId": "0d560166-218c-4f94-cc70-750fa2592361",
        "colab": {
          "base_uri": "https://localhost:8080/",
          "height": 36
        }
      },
      "cell_type": "code",
      "source": [
        "z1r = np.dot(N1.weights[1], relu(z0).T)  + N1.biases[1].T\n",
        "z1r"
      ],
      "execution_count": 0,
      "outputs": [
        {
          "output_type": "execute_result",
          "data": {
            "text/plain": [
              "array([[7.00329406]])"
            ]
          },
          "metadata": {
            "tags": []
          },
          "execution_count": 44
        }
      ]
    },
    {
      "metadata": {
        "id": "IKAnPmlLYAJY",
        "colab_type": "code",
        "outputId": "c9e9722f-0c09-43cc-febc-49058843af50",
        "colab": {
          "base_uri": "https://localhost:8080/",
          "height": 36
        }
      },
      "cell_type": "code",
      "source": [
        "z1s = np.dot(N1.weights[1], sigmoid(z0).T)  + N1.biases[1].T\n",
        "z1s"
      ],
      "execution_count": 0,
      "outputs": [
        {
          "output_type": "execute_result",
          "data": {
            "text/plain": [
              "array([[1.51241653]])"
            ]
          },
          "metadata": {
            "tags": []
          },
          "execution_count": 45
        }
      ]
    },
    {
      "metadata": {
        "id": "vzqJieOrYAJd",
        "colab_type": "code",
        "outputId": "6051e90c-c4ba-4c7a-91ca-d8b9112acd08",
        "colab": {
          "base_uri": "https://localhost:8080/",
          "height": 36
        }
      },
      "cell_type": "code",
      "source": [
        "heaviside(z1h),relu(z1r),sigmoid(z1s)"
      ],
      "execution_count": 0,
      "outputs": [
        {
          "output_type": "execute_result",
          "data": {
            "text/plain": [
              "(array([[1.]]), array([[7.00329406]]), array([[0.81941906]]))"
            ]
          },
          "metadata": {
            "tags": []
          },
          "execution_count": 46
        }
      ]
    },
    {
      "metadata": {
        "id": "rKP6vGDMYAJf",
        "colab_type": "code",
        "outputId": "96be5717-cf8b-4164-9f2d-b38097feb3f1",
        "colab": {
          "base_uri": "https://localhost:8080/",
          "height": 204
        }
      },
      "cell_type": "code",
      "source": [
        "N1.feedforward(x1, heaviside),N1.feedforward(x1, relu),N1.feedforward(x1, sigmoid)"
      ],
      "execution_count": 0,
      "outputs": [
        {
          "output_type": "stream",
          "text": [
            "[14.05165642  1.77006862]\n",
            "[1.53338006]\n",
            "[1.]\n",
            "[14.05165642  1.77006862]\n",
            "[7.00329406]\n",
            "[7.00329406]\n",
            "[14.05165642  1.77006862]\n",
            "[1.51241653]\n",
            "[0.81941906]\n"
          ],
          "name": "stdout"
        },
        {
          "output_type": "execute_result",
          "data": {
            "text/plain": [
              "(array([1.]), array([7.00329406]), array([0.81941906]))"
            ]
          },
          "metadata": {
            "tags": []
          },
          "execution_count": 47
        }
      ]
    },
    {
      "metadata": {
        "id": "L1vhn5v1YAJo",
        "colab_type": "code",
        "outputId": "d5c129b1-a1f8-44b1-a901-56b0ea8e6468",
        "colab": {
          "base_uri": "https://localhost:8080/",
          "height": 204
        }
      },
      "cell_type": "code",
      "source": [
        "N1.feedforward(x2, heaviside),N1.feedforward(x2, relu),N1.feedforward(x2, sigmoid)"
      ],
      "execution_count": 0,
      "outputs": [
        {
          "output_type": "stream",
          "text": [
            "[5.1438136  0.81303807]\n",
            "[1.53338006]\n",
            "[1.]\n",
            "[5.1438136  0.81303807]\n",
            "[3.20789305]\n",
            "[3.20789305]\n",
            "[5.1438136  0.81303807]\n",
            "[1.48674151]\n",
            "[0.81558869]\n"
          ],
          "name": "stdout"
        },
        {
          "output_type": "execute_result",
          "data": {
            "text/plain": [
              "(array([1.]), array([3.20789305]), array([0.81558869]))"
            ]
          },
          "metadata": {
            "tags": []
          },
          "execution_count": 48
        }
      ]
    },
    {
      "metadata": {
        "id": "H8PztovdYAJt",
        "colab_type": "text"
      },
      "cell_type": "markdown",
      "source": [
        "***"
      ]
    },
    {
      "metadata": {
        "id": "-SPngHpSYAJv",
        "colab_type": "text"
      },
      "cell_type": "markdown",
      "source": [
        "### Neural network 2: single layer (5 -> 3 -> 2)\n",
        "\n",
        "> input (5), layer (3) , and output (2) "
      ]
    },
    {
      "metadata": {
        "id": "EQFdp8fuYAJx",
        "colab_type": "code",
        "outputId": "fcf33176-0aa6-4bcb-e422-3bcf88ee6ece",
        "colab": {
          "base_uri": "https://localhost:8080/",
          "height": 35
        }
      },
      "cell_type": "code",
      "source": [
        "# inputs (should be numpy array)\n",
        "x1 = np.array([2.3,4.5,1.3,0.7,2.8])\n",
        "x2 = np.array([1.3,2.5,4.3,5.1,3.9])\n",
        "x1,x2"
      ],
      "execution_count": 42,
      "outputs": [
        {
          "output_type": "execute_result",
          "data": {
            "text/plain": [
              "(array([2.3, 4.5, 1.3, 0.7, 2.8]), array([1.3, 2.5, 4.3, 5.1, 3.9]))"
            ]
          },
          "metadata": {
            "tags": []
          },
          "execution_count": 42
        }
      ]
    },
    {
      "metadata": {
        "id": "1pEJGVNCYAJ3",
        "colab_type": "code",
        "outputId": "88c9fdba-eb2c-4d96-f4fb-032a992c87ad",
        "colab": {
          "base_uri": "https://localhost:8080/",
          "height": 35
        }
      },
      "cell_type": "code",
      "source": [
        "np.random.seed(0)\n",
        "N2 = Network([5,3,2])  # 5X3X2 NN\n",
        "N2.num_layers # input (5), layer (3) , and output (2) "
      ],
      "execution_count": 43,
      "outputs": [
        {
          "output_type": "execute_result",
          "data": {
            "text/plain": [
              "3"
            ]
          },
          "metadata": {
            "tags": []
          },
          "execution_count": 43
        }
      ]
    },
    {
      "metadata": {
        "id": "36GRXxK7YAJ8",
        "colab_type": "code",
        "outputId": "092eb7b6-1e97-4763-9dbb-1aef2b0f391a",
        "colab": {
          "base_uri": "https://localhost:8080/",
          "height": 35
        }
      },
      "cell_type": "code",
      "source": [
        "N2.num_layers,N2.sizes"
      ],
      "execution_count": 44,
      "outputs": [
        {
          "output_type": "execute_result",
          "data": {
            "text/plain": [
              "(3, [5, 3, 2])"
            ]
          },
          "metadata": {
            "tags": []
          },
          "execution_count": 44
        }
      ]
    },
    {
      "metadata": {
        "id": "Urrdzt6WYAKC",
        "colab_type": "code",
        "outputId": "d2cb496f-b3fb-4012-f9bb-337f7fdbd372",
        "colab": {
          "base_uri": "https://localhost:8080/",
          "height": 161
        }
      },
      "cell_type": "code",
      "source": [
        "N2.show_parameters()"
      ],
      "execution_count": 45,
      "outputs": [
        {
          "output_type": "stream",
          "text": [
            "biases: = [array([[1.76405235],\n",
            "       [0.40015721],\n",
            "       [0.97873798]]), array([[2.2408932 ],\n",
            "       [1.86755799]])]\n",
            "weights: = [array([[-0.97727788,  0.95008842, -0.15135721, -0.10321885,  0.4105985 ],\n",
            "       [ 0.14404357,  1.45427351,  0.76103773,  0.12167502,  0.44386323],\n",
            "       [ 0.33367433,  1.49407907, -0.20515826,  0.3130677 , -0.85409574]]), array([[-2.55298982,  0.6536186 ,  0.8644362 ],\n",
            "       [-0.74216502,  2.26975462, -1.45436567]])]\n"
          ],
          "name": "stdout"
        }
      ]
    },
    {
      "metadata": {
        "id": "wZaW13cxYAKJ",
        "colab_type": "code",
        "outputId": "6eaef3b9-8755-40b7-c3d9-069d73f14ed8",
        "colab": {}
      },
      "cell_type": "code",
      "source": [
        "N2.weights,N2.biases,x1"
      ],
      "execution_count": 0,
      "outputs": [
        {
          "output_type": "execute_result",
          "data": {
            "text/plain": [
              "([array([[-0.97727788,  0.95008842, -0.15135721, -0.10321885,  0.4105985 ],\n",
              "         [ 0.14404357,  1.45427351,  0.76103773,  0.12167502,  0.44386323],\n",
              "         [ 0.33367433,  1.49407907, -0.20515826,  0.3130677 , -0.85409574]]),\n",
              "  array([[-2.55298982,  0.6536186 ,  0.8644362 ],\n",
              "         [-0.74216502,  2.26975462, -1.45436567]])],\n",
              " [array([[1.76405235],\n",
              "         [0.40015721],\n",
              "         [0.97873798]]), array([[2.2408932 ],\n",
              "         [1.86755799]])],\n",
              " array([2.3, 4.5, 1.3, 0.7, 2.8]))"
            ]
          },
          "metadata": {
            "tags": []
          },
          "execution_count": 631
        }
      ]
    },
    {
      "metadata": {
        "id": "oT_eZRT7YAKT",
        "colab_type": "code",
        "outputId": "7a0523f2-9093-4860-fecb-42ee6fd8b86c",
        "colab": {}
      },
      "cell_type": "code",
      "source": [
        "N2.weights[0].shape,N2.weights[1].shape,N2.biases[0].shape,N2.biases[1].shape"
      ],
      "execution_count": 0,
      "outputs": [
        {
          "output_type": "execute_result",
          "data": {
            "text/plain": [
              "((3, 5), (2, 3), (3, 1), (2, 1))"
            ]
          },
          "metadata": {
            "tags": []
          },
          "execution_count": 632
        }
      ]
    },
    {
      "metadata": {
        "id": "IjbyZJgaYAKb",
        "colab_type": "code",
        "outputId": "3ded1aca-23e5-443e-ed72-38fa2e632e8e",
        "colab": {}
      },
      "cell_type": "code",
      "source": [
        "# z = np.dot(w,a)+b\n",
        "z0 = np.dot(N2.weights[0], x1) # + N1.biases\n",
        "z0,N2.biases[0],z0+N2.biases[0].T"
      ],
      "execution_count": 0,
      "outputs": [
        {
          "output_type": "execute_result",
          "data": {
            "text/plain": [
              "(array([2.90831699, 9.1928696 , 5.05178036]), array([[1.76405235],\n",
              "        [0.40015721],\n",
              "        [0.97873798]]), array([[4.67236934, 9.59302681, 6.03051834]]))"
            ]
          },
          "metadata": {
            "tags": []
          },
          "execution_count": 633
        }
      ]
    },
    {
      "metadata": {
        "id": "0ObDHpexYAKj",
        "colab_type": "code",
        "outputId": "1447707a-6100-497a-83d6-66975e74b0f2",
        "colab": {}
      },
      "cell_type": "code",
      "source": [
        "N2.biases[0],N2.biases[0].T"
      ],
      "execution_count": 0,
      "outputs": [
        {
          "output_type": "execute_result",
          "data": {
            "text/plain": [
              "(array([[1.76405235],\n",
              "        [0.40015721],\n",
              "        [0.97873798]]), array([[1.76405235, 0.40015721, 0.97873798]]))"
            ]
          },
          "metadata": {
            "tags": []
          },
          "execution_count": 634
        }
      ]
    },
    {
      "metadata": {
        "id": "_uPexJfLYAKs",
        "colab_type": "code",
        "outputId": "db7e15e4-6f67-44ff-c5bd-d53e7e78d9f0",
        "colab": {}
      },
      "cell_type": "code",
      "source": [
        "z0 = np.dot(N2.weights[0], x1)  + N2.biases[0].T\n",
        "z0"
      ],
      "execution_count": 0,
      "outputs": [
        {
          "output_type": "execute_result",
          "data": {
            "text/plain": [
              "array([[4.67236934, 9.59302681, 6.03051834]])"
            ]
          },
          "metadata": {
            "tags": []
          },
          "execution_count": 635
        }
      ]
    },
    {
      "metadata": {
        "id": "xMfshehnYAK4",
        "colab_type": "code",
        "outputId": "822b6b52-e840-40d1-e7d5-afa30116941a",
        "colab": {}
      },
      "cell_type": "code",
      "source": [
        "heaviside(z0),relu(z0),sigmoid(z0)"
      ],
      "execution_count": 0,
      "outputs": [
        {
          "output_type": "execute_result",
          "data": {
            "text/plain": [
              "(array([[1., 1., 1.]]),\n",
              " array([[4.67236934, 9.59302681, 6.03051834]]),\n",
              " array([[0.99073652, 0.9999318 , 0.99760152]]))"
            ]
          },
          "metadata": {
            "tags": []
          },
          "execution_count": 636
        }
      ]
    },
    {
      "metadata": {
        "id": "T_VGuHx_YAK_",
        "colab_type": "code",
        "outputId": "99c4949b-52be-4076-99ad-a56f5002c1fe",
        "colab": {}
      },
      "cell_type": "code",
      "source": [
        "N2.weights[1],np.dot(N2.weights[1], heaviside(z0).T) "
      ],
      "execution_count": 0,
      "outputs": [
        {
          "output_type": "execute_result",
          "data": {
            "text/plain": [
              "(array([[-2.55298982,  0.6536186 ,  0.8644362 ],\n",
              "        [-0.74216502,  2.26975462, -1.45436567]]), array([[-1.03493502],\n",
              "        [ 0.07322393]]))"
            ]
          },
          "metadata": {
            "tags": []
          },
          "execution_count": 637
        }
      ]
    },
    {
      "metadata": {
        "id": "e-Y8qPADYALK",
        "colab_type": "code",
        "outputId": "e408e49d-9ee5-4cd8-c01b-7e5fcd0051f2",
        "colab": {}
      },
      "cell_type": "code",
      "source": [
        "z1h = np.dot(N2.weights[1], heaviside(z0).T)  + N2.biases[1]\n",
        "z1h"
      ],
      "execution_count": 0,
      "outputs": [
        {
          "output_type": "execute_result",
          "data": {
            "text/plain": [
              "array([[1.20595818],\n",
              "       [1.94078192]])"
            ]
          },
          "metadata": {
            "tags": []
          },
          "execution_count": 638
        }
      ]
    },
    {
      "metadata": {
        "id": "90TveA1HYALQ",
        "colab_type": "code",
        "outputId": "060961d6-fa61-47e3-c4fd-1a03817222b1",
        "colab": {}
      },
      "cell_type": "code",
      "source": [
        "z1r = np.dot(N2.weights[1], relu(z0).T)  + N2.biases[1]\n",
        "z1r"
      ],
      "execution_count": 0,
      "outputs": [
        {
          "output_type": "execute_result",
          "data": {
            "text/plain": [
              "array([[ 1.79556092],\n",
              "       [11.40312698]])"
            ]
          },
          "metadata": {
            "tags": []
          },
          "execution_count": 639
        }
      ]
    },
    {
      "metadata": {
        "id": "EihRKTsLYALX",
        "colab_type": "code",
        "outputId": "b762ce02-f98f-4072-cbac-7b0ab4849f75",
        "colab": {}
      },
      "cell_type": "code",
      "source": [
        "z1s = np.dot(N2.weights[1], sigmoid(z0).T)  + N2.biases[1]\n",
        "z1s"
      ],
      "execution_count": 0,
      "outputs": [
        {
          "output_type": "execute_result",
          "data": {
            "text/plain": [
              "array([[1.22748983],\n",
              "       [1.95099042]])"
            ]
          },
          "metadata": {
            "tags": []
          },
          "execution_count": 640
        }
      ]
    },
    {
      "metadata": {
        "id": "PWqcGXDcYALd",
        "colab_type": "code",
        "outputId": "fb324874-bd8f-41fb-efa9-161138e229bd",
        "colab": {}
      },
      "cell_type": "code",
      "source": [
        "heaviside(z1h),relu(z1r),sigmoid(z1s)"
      ],
      "execution_count": 0,
      "outputs": [
        {
          "output_type": "execute_result",
          "data": {
            "text/plain": [
              "(array([[1.],\n",
              "        [1.]]), array([[ 1.79556092],\n",
              "        [11.40312698]]), array([[0.77337893],\n",
              "        [0.8755546 ]]))"
            ]
          },
          "metadata": {
            "tags": []
          },
          "execution_count": 641
        }
      ]
    },
    {
      "metadata": {
        "id": "9awotf-dYAL9",
        "colab_type": "code",
        "outputId": "cf058e58-23ba-4534-8922-c3344712fdb1",
        "colab": {}
      },
      "cell_type": "code",
      "source": [
        "N2.feedforward(x1, heaviside),N2.feedforward(x1, relu),N2.feedforward(x1, sigmoid)"
      ],
      "execution_count": 0,
      "outputs": [
        {
          "output_type": "stream",
          "text": [
            "[4.67236934 9.59302681 6.03051834]\n",
            "[1.20595818 1.94078192]\n",
            "[1. 1.]\n",
            "[4.67236934 9.59302681 6.03051834]\n",
            "[ 1.79556092 11.40312698]\n",
            "[ 1.79556092 11.40312698]\n",
            "[4.67236934 9.59302681 6.03051834]\n",
            "[1.22748983 1.95099042]\n",
            "[0.77337893 0.8755546 ]\n"
          ],
          "name": "stdout"
        },
        {
          "output_type": "execute_result",
          "data": {
            "text/plain": [
              "(array([1., 1.]),\n",
              " array([ 1.79556092, 11.40312698]),\n",
              " array([0.77337893, 0.8755546 ]))"
            ]
          },
          "metadata": {
            "tags": []
          },
          "execution_count": 642
        }
      ]
    },
    {
      "metadata": {
        "id": "No49OBRfYAMB",
        "colab_type": "code",
        "outputId": "271d7858-c214-4975-f22e-230b6999c17d",
        "colab": {}
      },
      "cell_type": "code",
      "source": [
        "N2.feedforward(x2, heaviside),N2.feedforward(x2, relu),N2.feedforward(x2, sigmoid)"
      ],
      "execution_count": 0,
      "outputs": [
        {
          "output_type": "stream",
          "text": [
            "[3.29289416 9.84716903 2.53120365]\n",
            "[1.20595818 1.94078192]\n",
            "[1. 1.]\n",
            "[3.29289416 9.84716903 2.53120365]\n",
            "[ 2.45852479 18.09304885]\n",
            "[ 2.45852479 18.09304885]\n",
            "[3.29289416 9.84716903 2.53120365]\n",
            "[1.23365244 2.074429  ]\n",
            "[0.7744572  0.88839286]\n"
          ],
          "name": "stdout"
        },
        {
          "output_type": "execute_result",
          "data": {
            "text/plain": [
              "(array([1., 1.]),\n",
              " array([ 2.45852479, 18.09304885]),\n",
              " array([0.7744572 , 0.88839286]))"
            ]
          },
          "metadata": {
            "tags": []
          },
          "execution_count": 643
        }
      ]
    },
    {
      "metadata": {
        "id": "rrNsHTSqYAMF",
        "colab_type": "text"
      },
      "cell_type": "markdown",
      "source": [
        "***"
      ]
    },
    {
      "metadata": {
        "id": "uqHN1rPhYAMG",
        "colab_type": "text"
      },
      "cell_type": "markdown",
      "source": [
        "### Neural network 3: deep layers (5 -> [3, 3] -> 1)\n",
        "\n",
        "> input (5), layer (3,3) , and output (1) "
      ]
    },
    {
      "metadata": {
        "id": "gO_ZXBANYAMI",
        "colab_type": "code",
        "outputId": "3be3f964-1b45-4bf0-de3b-a1235b553113",
        "colab": {
          "base_uri": "https://localhost:8080/",
          "height": 35
        }
      },
      "cell_type": "code",
      "source": [
        "# inputs (should be numpy array)\n",
        "x1 = np.array([2.3,4.5,1.3,0.7,2.8])\n",
        "x2 = np.array([1.3,2.5,4.3,5.1,3.9])\n",
        "x1,x2"
      ],
      "execution_count": 47,
      "outputs": [
        {
          "output_type": "execute_result",
          "data": {
            "text/plain": [
              "(array([2.3, 4.5, 1.3, 0.7, 2.8]), array([1.3, 2.5, 4.3, 5.1, 3.9]))"
            ]
          },
          "metadata": {
            "tags": []
          },
          "execution_count": 47
        }
      ]
    },
    {
      "metadata": {
        "id": "dlwQdzVbYAMK",
        "colab_type": "code",
        "outputId": "8bd57e8b-d1e1-4a70-d03a-87e591d29cf8",
        "colab": {
          "base_uri": "https://localhost:8080/",
          "height": 35
        }
      },
      "cell_type": "code",
      "source": [
        "np.random.seed(0)\n",
        "N3 = Network([5,3,3,1])  # 5X[3X3]X1 NN\n",
        "N3.num_layers # input (5), layer (3,3) , and output (1) "
      ],
      "execution_count": 48,
      "outputs": [
        {
          "output_type": "execute_result",
          "data": {
            "text/plain": [
              "4"
            ]
          },
          "metadata": {
            "tags": []
          },
          "execution_count": 48
        }
      ]
    },
    {
      "metadata": {
        "id": "5kJGVe9oYAMN",
        "colab_type": "code",
        "outputId": "ce3e9655-cadd-418c-eac2-d7f044138bfc",
        "colab": {
          "base_uri": "https://localhost:8080/",
          "height": 35
        }
      },
      "cell_type": "code",
      "source": [
        "N3.num_layers,N3.sizes"
      ],
      "execution_count": 49,
      "outputs": [
        {
          "output_type": "execute_result",
          "data": {
            "text/plain": [
              "(4, [5, 3, 3, 1])"
            ]
          },
          "metadata": {
            "tags": []
          },
          "execution_count": 49
        }
      ]
    },
    {
      "metadata": {
        "id": "idDzmx0bYAMQ",
        "colab_type": "code",
        "outputId": "753da0d5-c75f-4706-ece4-889b820f6501",
        "colab": {
          "base_uri": "https://localhost:8080/",
          "height": 197
        }
      },
      "cell_type": "code",
      "source": [
        "N3.show_parameters()"
      ],
      "execution_count": 50,
      "outputs": [
        {
          "output_type": "stream",
          "text": [
            "biases: = [array([[1.76405235],\n",
            "       [0.40015721],\n",
            "       [0.97873798]]), array([[ 2.2408932 ],\n",
            "       [ 1.86755799],\n",
            "       [-0.97727788]]), array([[0.95008842]])]\n",
            "weights: = [array([[-0.15135721, -0.10321885,  0.4105985 ,  0.14404357,  1.45427351],\n",
            "       [ 0.76103773,  0.12167502,  0.44386323,  0.33367433,  1.49407907],\n",
            "       [-0.20515826,  0.3130677 , -0.85409574, -2.55298982,  0.6536186 ]]), array([[ 0.8644362 , -0.74216502,  2.26975462],\n",
            "       [-1.45436567,  0.04575852, -0.18718385],\n",
            "       [ 1.53277921,  1.46935877,  0.15494743]]), array([[ 0.37816252, -0.88778575, -1.98079647]])]\n"
          ],
          "name": "stdout"
        }
      ]
    },
    {
      "metadata": {
        "id": "vJoTNt1vYAMV",
        "colab_type": "code",
        "outputId": "68a170eb-3bab-4a4b-a589-67363afcec48",
        "colab": {
          "base_uri": "https://localhost:8080/",
          "height": 251
        }
      },
      "cell_type": "code",
      "source": [
        "N3.weights,N3.biases,x1"
      ],
      "execution_count": 51,
      "outputs": [
        {
          "output_type": "execute_result",
          "data": {
            "text/plain": [
              "([array([[-0.15135721, -0.10321885,  0.4105985 ,  0.14404357,  1.45427351],\n",
              "         [ 0.76103773,  0.12167502,  0.44386323,  0.33367433,  1.49407907],\n",
              "         [-0.20515826,  0.3130677 , -0.85409574, -2.55298982,  0.6536186 ]]),\n",
              "  array([[ 0.8644362 , -0.74216502,  2.26975462],\n",
              "         [-1.45436567,  0.04575852, -0.18718385],\n",
              "         [ 1.53277921,  1.46935877,  0.15494743]]),\n",
              "  array([[ 0.37816252, -0.88778575, -1.98079647]])],\n",
              " [array([[1.76405235],\n",
              "         [0.40015721],\n",
              "         [0.97873798]]), array([[ 2.2408932 ],\n",
              "         [ 1.86755799],\n",
              "         [-0.97727788]]), array([[0.95008842]])],\n",
              " array([2.3, 4.5, 1.3, 0.7, 2.8]))"
            ]
          },
          "metadata": {
            "tags": []
          },
          "execution_count": 51
        }
      ]
    },
    {
      "metadata": {
        "id": "uddggpepYAMX",
        "colab_type": "code",
        "outputId": "1fad5e71-7dd7-400f-89ae-ff17d5e556c3",
        "colab": {
          "base_uri": "https://localhost:8080/",
          "height": 35
        }
      },
      "cell_type": "code",
      "source": [
        "# weights\n",
        "N3.weights[0].shape,N3.weights[1].shape,N3.weights[2].shape"
      ],
      "execution_count": 52,
      "outputs": [
        {
          "output_type": "execute_result",
          "data": {
            "text/plain": [
              "((3, 5), (3, 3), (1, 3))"
            ]
          },
          "metadata": {
            "tags": []
          },
          "execution_count": 52
        }
      ]
    },
    {
      "metadata": {
        "id": "V4EettnLYAMa",
        "colab_type": "code",
        "outputId": "9c0ffc57-b50f-48bf-e851-c69cfeeab580",
        "colab": {
          "base_uri": "https://localhost:8080/",
          "height": 35
        }
      },
      "cell_type": "code",
      "source": [
        "# biases 3*1?\n",
        "N3.biases[0].shape,N3.biases[1].shape,N3.biases[2].shape"
      ],
      "execution_count": 53,
      "outputs": [
        {
          "output_type": "execute_result",
          "data": {
            "text/plain": [
              "((3, 1), (3, 1), (1, 1))"
            ]
          },
          "metadata": {
            "tags": []
          },
          "execution_count": 53
        }
      ]
    },
    {
      "metadata": {
        "id": "CDHR0ZByYAMg",
        "colab_type": "code",
        "outputId": "14f8e75f-9e2e-45d8-baad-25eba355bc75",
        "colab": {
          "base_uri": "https://localhost:8080/",
          "height": 35
        }
      },
      "cell_type": "code",
      "source": [
        "# z = np.dot(w,a)+b\n",
        "# z0 = np.dot(N3.weights[0], x1) # + N1.biases\n",
        "# z0,N3.biases[0],z0+N3.biases[0].T\n",
        "z0 = np.dot(N3.weights[0], x1)  + N3.biases[0].T\n",
        "z0"
      ],
      "execution_count": 54,
      "outputs": [
        {
          "output_type": "execute_result",
          "data": {
            "text/plain": [
              "array([[5.65802031, 7.69209719, 0.84839337]])"
            ]
          },
          "metadata": {
            "tags": []
          },
          "execution_count": 54
        }
      ]
    },
    {
      "metadata": {
        "id": "oynjGzMlYAMl",
        "colab_type": "code",
        "outputId": "56a993c1-3fac-4c6d-d4e1-ae16f5bbb393",
        "colab": {
          "base_uri": "https://localhost:8080/",
          "height": 71
        }
      },
      "cell_type": "code",
      "source": [
        "heaviside(z0),relu(z0),sigmoid(z0)"
      ],
      "execution_count": 55,
      "outputs": [
        {
          "output_type": "execute_result",
          "data": {
            "text/plain": [
              "(array([[1., 1., 1.]]),\n",
              " array([[5.65802031, 7.69209719, 0.84839337]]),\n",
              " array([[0.99652272, 0.99954379, 0.70023001]]))"
            ]
          },
          "metadata": {
            "tags": []
          },
          "execution_count": 55
        }
      ]
    },
    {
      "metadata": {
        "id": "du1ocM75YAMs",
        "colab_type": "code",
        "outputId": "3351d672-c3cd-438d-ee03-4e3e9218ba1e",
        "colab": {
          "base_uri": "https://localhost:8080/",
          "height": 107
        }
      },
      "cell_type": "code",
      "source": [
        "N3.weights[1],np.dot(N3.weights[1], heaviside(z0).T) "
      ],
      "execution_count": 56,
      "outputs": [
        {
          "output_type": "execute_result",
          "data": {
            "text/plain": [
              "(array([[ 0.8644362 , -0.74216502,  2.26975462],\n",
              "        [-1.45436567,  0.04575852, -0.18718385],\n",
              "        [ 1.53277921,  1.46935877,  0.15494743]]), array([[ 2.3920258 ],\n",
              "        [-1.59579101],\n",
              "        [ 3.15708541]]))"
            ]
          },
          "metadata": {
            "tags": []
          },
          "execution_count": 56
        }
      ]
    },
    {
      "metadata": {
        "id": "R3jGyT8hYAMz",
        "colab_type": "code",
        "outputId": "8fcd5dd1-3584-41e5-9276-953a8719897c",
        "colab": {
          "base_uri": "https://localhost:8080/",
          "height": 71
        }
      },
      "cell_type": "code",
      "source": [
        "z1h = np.dot(N3.weights[1], heaviside(z0).T)  + N3.biases[1]\n",
        "z1h"
      ],
      "execution_count": 57,
      "outputs": [
        {
          "output_type": "execute_result",
          "data": {
            "text/plain": [
              "array([[4.632919  ],\n",
              "       [0.27176698],\n",
              "       [2.17980753]])"
            ]
          },
          "metadata": {
            "tags": []
          },
          "execution_count": 57
        }
      ]
    },
    {
      "metadata": {
        "id": "bIy7A2O1YAM2",
        "colab_type": "code",
        "outputId": "d466b986-6aed-41e6-d840-f264e31e7323",
        "colab": {
          "base_uri": "https://localhost:8080/",
          "height": 71
        }
      },
      "cell_type": "code",
      "source": [
        "z1r = np.dot(N3.weights[1], relu(z0).T)  + N3.biases[1]\n",
        "z1r"
      ],
      "execution_count": 58,
      "outputs": [
        {
          "output_type": "execute_result",
          "data": {
            "text/plain": [
              "array([[ 3.34873007],\n",
              "       [-6.1680991 ],\n",
              "       [19.12912487]])"
            ]
          },
          "metadata": {
            "tags": []
          },
          "execution_count": 58
        }
      ]
    },
    {
      "metadata": {
        "id": "ZYeE73ayYAM5",
        "colab_type": "code",
        "outputId": "e732e547-b3db-4955-8c2d-2a18acaabc49",
        "colab": {
          "base_uri": "https://localhost:8080/",
          "height": 71
        }
      },
      "cell_type": "code",
      "source": [
        "z1s = np.dot(N3.weights[1], sigmoid(z0).T)  + N3.biases[1]\n",
        "z1s"
      ],
      "execution_count": 59,
      "outputs": [
        {
          "output_type": "execute_result",
          "data": {
            "text/plain": [
              "array([[3.94984737],\n",
              "       [0.33291545],\n",
              "       [2.12735869]])"
            ]
          },
          "metadata": {
            "tags": []
          },
          "execution_count": 59
        }
      ]
    },
    {
      "metadata": {
        "id": "Du9aSwfsYAM9",
        "colab_type": "code",
        "outputId": "ac92414f-18ff-435c-d914-47acfda19f08",
        "colab": {
          "base_uri": "https://localhost:8080/",
          "height": 35
        }
      },
      "cell_type": "code",
      "source": [
        "z2h = np.dot(N3.weights[2], heaviside(z1h))  + N3.biases[2].T\n",
        "z2h"
      ],
      "execution_count": 60,
      "outputs": [
        {
          "output_type": "execute_result",
          "data": {
            "text/plain": [
              "array([[-1.54033128]])"
            ]
          },
          "metadata": {
            "tags": []
          },
          "execution_count": 60
        }
      ]
    },
    {
      "metadata": {
        "id": "6-CBO-npYANA",
        "colab_type": "code",
        "outputId": "73ed4e17-e061-4db1-cc76-23cd68b92b69",
        "colab": {
          "base_uri": "https://localhost:8080/",
          "height": 35
        }
      },
      "cell_type": "code",
      "source": [
        "z2r = np.dot(N3.weights[2], relu(z1r))  + N3.biases[2].T\n",
        "z2r"
      ],
      "execution_count": 61,
      "outputs": [
        {
          "output_type": "execute_result",
          "data": {
            "text/plain": [
              "array([[-35.67445036]])"
            ]
          },
          "metadata": {
            "tags": []
          },
          "execution_count": 61
        }
      ]
    },
    {
      "metadata": {
        "id": "_dVWzikXYANE",
        "colab_type": "code",
        "outputId": "c32b9031-9452-4043-cf8b-eb21abdcf1d8",
        "colab": {
          "base_uri": "https://localhost:8080/",
          "height": 35
        }
      },
      "cell_type": "code",
      "source": [
        "z2s = np.dot(N3.weights[2], sigmoid(z1s))  + N3.biases[2].T\n",
        "z2s"
      ],
      "execution_count": 62,
      "outputs": [
        {
          "output_type": "execute_result",
          "data": {
            "text/plain": [
              "array([[-0.96591028]])"
            ]
          },
          "metadata": {
            "tags": []
          },
          "execution_count": 62
        }
      ]
    },
    {
      "metadata": {
        "id": "bRiWDlMWYANH",
        "colab_type": "code",
        "outputId": "b09be893-5770-4bc6-99a8-66066c2b3b01",
        "colab": {
          "base_uri": "https://localhost:8080/",
          "height": 71
        }
      },
      "cell_type": "code",
      "source": [
        "sigmoid(z1s)"
      ],
      "execution_count": 63,
      "outputs": [
        {
          "output_type": "execute_result",
          "data": {
            "text/plain": [
              "array([[0.98110621],\n",
              "       [0.58246858],\n",
              "       [0.893534  ]])"
            ]
          },
          "metadata": {
            "tags": []
          },
          "execution_count": 63
        }
      ]
    },
    {
      "metadata": {
        "id": "lmgsfPNFYANK",
        "colab_type": "code",
        "outputId": "79f3fc79-bf00-4572-f78a-5a4c9c0ea26a",
        "colab": {
          "base_uri": "https://localhost:8080/",
          "height": 35
        }
      },
      "cell_type": "code",
      "source": [
        "heaviside(z2h),relu(z2r),sigmoid(z2s)"
      ],
      "execution_count": 64,
      "outputs": [
        {
          "output_type": "execute_result",
          "data": {
            "text/plain": [
              "(array([[0.]]), array([[0.]]), array([[0.27569642]]))"
            ]
          },
          "metadata": {
            "tags": []
          },
          "execution_count": 64
        }
      ]
    },
    {
      "metadata": {
        "id": "rPP_JSfwYANN",
        "colab_type": "code",
        "outputId": "be6c0656-9cd6-4aad-f06f-ef01f68b09e2",
        "colab": {
          "base_uri": "https://localhost:8080/",
          "height": 251
        }
      },
      "cell_type": "code",
      "source": [
        "\n",
        "N3.feedforward(x1, heaviside),N3.feedforward(x1, relu),N3.feedforward(x1, sigmoid)"
      ],
      "execution_count": 65,
      "outputs": [
        {
          "output_type": "stream",
          "text": [
            "[5.65802031 7.69209719 0.84839337]\n",
            "[4.632919   0.27176698 2.17980753]\n",
            "[-1.54033128]\n",
            "[0.]\n",
            "[5.65802031 7.69209719 0.84839337]\n",
            "[ 3.34873007 -6.1680991  19.12912487]\n",
            "[-35.67445036]\n",
            "[0.]\n",
            "[5.65802031 7.69209719 0.84839337]\n",
            "[3.94984737 0.33291545 2.12735869]\n",
            "[-0.96591028]\n",
            "[0.27569642]\n"
          ],
          "name": "stdout"
        },
        {
          "output_type": "execute_result",
          "data": {
            "text/plain": [
              "(array([0.]), array([0.]), array([0.27569642]))"
            ]
          },
          "metadata": {
            "tags": []
          },
          "execution_count": 65
        }
      ]
    },
    {
      "metadata": {
        "id": "yhZv6aetYANR",
        "colab_type": "code",
        "outputId": "ad6ca41c-8db2-4e72-8ec6-0f87bfa289f3",
        "colab": {
          "base_uri": "https://localhost:8080/",
          "height": 251
        }
      },
      "cell_type": "code",
      "source": [
        "N3.feedforward(x2, heaviside),N3.feedforward(x2, relu),N3.feedforward(x2, sigmoid)"
      ],
      "execution_count": 66,
      "outputs": [
        {
          "output_type": "stream",
          "text": [
            "[  9.48110329  11.13095315 -12.64904572]\n",
            "[2.36316438 0.45895083 2.0248601 ]\n",
            "[-1.54033128]\n",
            "[0.]\n",
            "[  9.48110329  11.13095315 -12.64904572]\n",
            "[  2.17569802 -11.41209729  29.9105238 ]\n",
            "[-57.47380405]\n",
            "[0.]\n",
            "[  9.48110329  11.13095315 -12.64904572]\n",
            "[2.3631166  0.45906049 2.02472216]\n",
            "[-0.99808232]\n",
            "[0.26931863]\n"
          ],
          "name": "stdout"
        },
        {
          "output_type": "execute_result",
          "data": {
            "text/plain": [
              "(array([0.]), array([0.]), array([0.26931863]))"
            ]
          },
          "metadata": {
            "tags": []
          },
          "execution_count": 66
        }
      ]
    },
    {
      "metadata": {
        "id": "bGq4SnX1YANW",
        "colab_type": "text"
      },
      "cell_type": "markdown",
      "source": [
        "***"
      ]
    },
    {
      "metadata": {
        "id": "DfyR-JIoYANX",
        "colab_type": "text"
      },
      "cell_type": "markdown",
      "source": [
        "### [도전] 10개의 입력을 받아서 두 개의 딥 레이어로 처리해서 두개의 최종 출력을 구하는 과정을 만드시오. \n",
        "> 입력:10, 첫번째 레이어: 5 뉴런, 두번째 레이어: 3 뉴런, 출력:2"
      ]
    },
    {
      "metadata": {
        "id": "yquDjgbmYANY",
        "colab_type": "code",
        "colab": {}
      },
      "cell_type": "code",
      "source": [
        "np.random.seed(0)\n",
        "N4 = Network([10,5,3,2])"
      ],
      "execution_count": 0,
      "outputs": []
    },
    {
      "metadata": {
        "id": "16sOaxZ1YANd",
        "colab_type": "code",
        "outputId": "8ef10049-8acd-4fcd-bc12-84b0531b401e",
        "colab": {
          "base_uri": "https://localhost:8080/",
          "height": 35
        }
      },
      "cell_type": "code",
      "source": [
        "N4.sizes"
      ],
      "execution_count": 68,
      "outputs": [
        {
          "output_type": "execute_result",
          "data": {
            "text/plain": [
              "[10, 5, 3, 2]"
            ]
          },
          "metadata": {
            "tags": []
          },
          "execution_count": 68
        }
      ]
    },
    {
      "metadata": {
        "id": "pGL4QSkdYANj",
        "colab_type": "code",
        "outputId": "a7ecefd5-d8ce-40b1-f879-097cde7c9e45",
        "colab": {
          "base_uri": "https://localhost:8080/",
          "height": 161
        }
      },
      "cell_type": "code",
      "source": [
        "N4.biases  # "
      ],
      "execution_count": 69,
      "outputs": [
        {
          "output_type": "execute_result",
          "data": {
            "text/plain": [
              "[array([[1.76405235],\n",
              "        [0.40015721],\n",
              "        [0.97873798],\n",
              "        [2.2408932 ],\n",
              "        [1.86755799]]), array([[-0.97727788],\n",
              "        [ 0.95008842],\n",
              "        [-0.15135721]]), array([[-0.10321885],\n",
              "        [ 0.4105985 ]])]"
            ]
          },
          "metadata": {
            "tags": []
          },
          "execution_count": 69
        }
      ]
    },
    {
      "metadata": {
        "id": "zoUROV6SYANm",
        "colab_type": "code",
        "outputId": "107e79d9-39d6-48bf-db8c-8c9eaf9d00aa",
        "colab": {
          "base_uri": "https://localhost:8080/",
          "height": 287
        }
      },
      "cell_type": "code",
      "source": [
        "N4.weights  # (10X5) , (5X3), (3X2)"
      ],
      "execution_count": 70,
      "outputs": [
        {
          "output_type": "execute_result",
          "data": {
            "text/plain": [
              "[array([[ 0.14404357,  1.45427351,  0.76103773,  0.12167502,  0.44386323,\n",
              "          0.33367433,  1.49407907, -0.20515826,  0.3130677 , -0.85409574],\n",
              "        [-2.55298982,  0.6536186 ,  0.8644362 , -0.74216502,  2.26975462,\n",
              "         -1.45436567,  0.04575852, -0.18718385,  1.53277921,  1.46935877],\n",
              "        [ 0.15494743,  0.37816252, -0.88778575, -1.98079647, -0.34791215,\n",
              "          0.15634897,  1.23029068,  1.20237985, -0.38732682, -0.30230275],\n",
              "        [-1.04855297, -1.42001794, -1.70627019,  1.9507754 , -0.50965218,\n",
              "         -0.4380743 , -1.25279536,  0.77749036, -1.61389785, -0.21274028],\n",
              "        [-0.89546656,  0.3869025 , -0.51080514, -1.18063218, -0.02818223,\n",
              "          0.42833187,  0.06651722,  0.3024719 , -0.63432209, -0.36274117]]),\n",
              " array([[-0.67246045, -0.35955316, -0.81314628, -1.7262826 ,  0.17742614],\n",
              "        [-0.40178094, -1.63019835,  0.46278226, -0.90729836,  0.0519454 ],\n",
              "        [ 0.72909056,  0.12898291,  1.13940068, -1.23482582,  0.40234164]]),\n",
              " array([[-0.68481009, -0.87079715, -0.57884966],\n",
              "        [-0.31155253,  0.05616534, -1.16514984]])]"
            ]
          },
          "metadata": {
            "tags": []
          },
          "execution_count": 70
        }
      ]
    },
    {
      "metadata": {
        "id": "RlnywsI2YANq",
        "colab_type": "code",
        "outputId": "92db4451-74f9-4ecb-abec-5bacc16f0162",
        "colab": {
          "base_uri": "https://localhost:8080/",
          "height": 395
        }
      },
      "cell_type": "code",
      "source": [
        "N4.show_parameters()"
      ],
      "execution_count": 71,
      "outputs": [
        {
          "output_type": "stream",
          "text": [
            "biases: = [array([[1.76405235],\n",
            "       [0.40015721],\n",
            "       [0.97873798],\n",
            "       [2.2408932 ],\n",
            "       [1.86755799]]), array([[-0.97727788],\n",
            "       [ 0.95008842],\n",
            "       [-0.15135721]]), array([[-0.10321885],\n",
            "       [ 0.4105985 ]])]\n",
            "weights: = [array([[ 0.14404357,  1.45427351,  0.76103773,  0.12167502,  0.44386323,\n",
            "         0.33367433,  1.49407907, -0.20515826,  0.3130677 , -0.85409574],\n",
            "       [-2.55298982,  0.6536186 ,  0.8644362 , -0.74216502,  2.26975462,\n",
            "        -1.45436567,  0.04575852, -0.18718385,  1.53277921,  1.46935877],\n",
            "       [ 0.15494743,  0.37816252, -0.88778575, -1.98079647, -0.34791215,\n",
            "         0.15634897,  1.23029068,  1.20237985, -0.38732682, -0.30230275],\n",
            "       [-1.04855297, -1.42001794, -1.70627019,  1.9507754 , -0.50965218,\n",
            "        -0.4380743 , -1.25279536,  0.77749036, -1.61389785, -0.21274028],\n",
            "       [-0.89546656,  0.3869025 , -0.51080514, -1.18063218, -0.02818223,\n",
            "         0.42833187,  0.06651722,  0.3024719 , -0.63432209, -0.36274117]]), array([[-0.67246045, -0.35955316, -0.81314628, -1.7262826 ,  0.17742614],\n",
            "       [-0.40178094, -1.63019835,  0.46278226, -0.90729836,  0.0519454 ],\n",
            "       [ 0.72909056,  0.12898291,  1.13940068, -1.23482582,  0.40234164]]), array([[-0.68481009, -0.87079715, -0.57884966],\n",
            "       [-0.31155253,  0.05616534, -1.16514984]])]\n"
          ],
          "name": "stdout"
        }
      ]
    },
    {
      "metadata": {
        "id": "ln7zZtnmYANt",
        "colab_type": "text"
      },
      "cell_type": "markdown",
      "source": [
        "### Input data: X\n",
        "> X : (1,10) -> (10,5) -> (5,3) -> (3,2) -> (2,1)"
      ]
    },
    {
      "metadata": {
        "id": "3QsxMlfZYANw",
        "colab_type": "code",
        "outputId": "bef711f2-3b9c-4811-ddd7-27104bc3a04d",
        "colab": {
          "base_uri": "https://localhost:8080/",
          "height": 71
        }
      },
      "cell_type": "code",
      "source": [
        "# np.random.seed(0)\n",
        "xin1 = np.random.randn(10)\n",
        "xin2 = np.array([2.3,4.5,1.3,0.7,2.8,3.3,2.2,4.4,6.6,5.5])\n",
        "xin1,xin2"
      ],
      "execution_count": 72,
      "outputs": [
        {
          "output_type": "execute_result",
          "data": {
            "text/plain": [
              "(array([ 0.90082649,  0.46566244, -1.53624369,  1.48825219,  1.89588918,\n",
              "         1.17877957, -0.17992484, -1.07075262,  1.05445173, -0.40317695]),\n",
              " array([2.3, 4.5, 1.3, 0.7, 2.8, 3.3, 2.2, 4.4, 6.6, 5.5]))"
            ]
          },
          "metadata": {
            "tags": []
          },
          "execution_count": 72
        }
      ]
    },
    {
      "metadata": {
        "id": "1n9dSGUZYANy",
        "colab_type": "code",
        "outputId": "66c25bee-6d87-49cc-f688-bfc4804baefe",
        "colab": {
          "base_uri": "https://localhost:8080/",
          "height": 35
        }
      },
      "cell_type": "code",
      "source": [
        "xin1.shape,xin2.shape"
      ],
      "execution_count": 73,
      "outputs": [
        {
          "output_type": "execute_result",
          "data": {
            "text/plain": [
              "((10,), (10,))"
            ]
          },
          "metadata": {
            "tags": []
          },
          "execution_count": 73
        }
      ]
    },
    {
      "metadata": {
        "id": "4fnk03_ZYAN0",
        "colab_type": "code",
        "outputId": "5b93dda5-4901-4842-e457-3d8e60dc5d33",
        "colab": {
          "base_uri": "https://localhost:8080/",
          "height": 107
        }
      },
      "cell_type": "code",
      "source": [
        "N4.feedforward(xin1,heaviside)"
      ],
      "execution_count": 74,
      "outputs": [
        {
          "output_type": "stream",
          "text": [
            "[ 3.44311716 -0.22294009 -2.56030369  2.45383914 -0.13826867]\n",
            "[-3.37602093 -0.35899088 -0.65709247]\n",
            "[-0.10321885  0.4105985 ]\n",
            "[0. 1.]\n"
          ],
          "name": "stdout"
        },
        {
          "output_type": "execute_result",
          "data": {
            "text/plain": [
              "array([0., 1.])"
            ]
          },
          "metadata": {
            "tags": []
          },
          "execution_count": 74
        }
      ]
    },
    {
      "metadata": {
        "id": "9vCa5B-nYAN5",
        "colab_type": "code",
        "outputId": "abc08dfc-6b5c-46b0-8318-258eee54d65b",
        "colab": {
          "base_uri": "https://localhost:8080/",
          "height": 107
        }
      },
      "cell_type": "code",
      "source": [
        "N4.feedforward(xin1,relu)"
      ],
      "execution_count": 75,
      "outputs": [
        {
          "output_type": "stream",
          "text": [
            "[ 3.44311716 -0.22294009 -2.56030369  2.45383914 -0.13826867]\n",
            "[-7.5286578  -2.65965466 -0.67107692]\n",
            "[-0.10321885  0.4105985 ]\n",
            "[0.        0.4105985]\n"
          ],
          "name": "stdout"
        },
        {
          "output_type": "execute_result",
          "data": {
            "text/plain": [
              "array([0.       , 0.4105985])"
            ]
          },
          "metadata": {
            "tags": []
          },
          "execution_count": 75
        }
      ]
    },
    {
      "metadata": {
        "id": "L2zX2xfoYAN7",
        "colab_type": "code",
        "outputId": "cbb8f077-8d2d-44dd-da53-acb62b30dfdd",
        "colab": {
          "base_uri": "https://localhost:8080/",
          "height": 107
        }
      },
      "cell_type": "code",
      "source": [
        "N4.feedforward(xin1,sigmoid)"
      ],
      "execution_count": 76,
      "outputs": [
        {
          "output_type": "stream",
          "text": [
            "[ 3.44311716 -0.22294009 -2.56030369  2.45383914 -0.13826867]\n",
            "[-3.35410479 -0.94196144 -0.25557434]\n",
            "[-0.62324114 -0.09269711]\n",
            "[0.34904466 0.4768423 ]\n"
          ],
          "name": "stdout"
        },
        {
          "output_type": "execute_result",
          "data": {
            "text/plain": [
              "array([0.34904466, 0.4768423 ])"
            ]
          },
          "metadata": {
            "tags": []
          },
          "execution_count": 76
        }
      ]
    },
    {
      "metadata": {
        "id": "9PCF_cJlYAN_",
        "colab_type": "code",
        "outputId": "b225efc6-9556-49b9-cd4a-6234f135c488",
        "colab": {
          "base_uri": "https://localhost:8080/",
          "height": 107
        }
      },
      "cell_type": "code",
      "source": [
        "# xin2   # second input\n",
        "N4.feedforward(xin2,heaviside)"
      ],
      "execution_count": 77,
      "outputs": [
        {
          "output_type": "stream",
          "text": [
            "[ 11.81104509  17.10459792   3.81605569 -21.44312867  -3.31124613]\n",
            "[-2.82243777 -0.61910861  1.84611695]\n",
            "[-0.68206852 -0.75455134]\n",
            "[0. 0.]\n"
          ],
          "name": "stdout"
        },
        {
          "output_type": "execute_result",
          "data": {
            "text/plain": [
              "array([0., 0.])"
            ]
          },
          "metadata": {
            "tags": []
          },
          "execution_count": 77
        }
      ]
    },
    {
      "metadata": {
        "id": "fZvh_Nd3YAOB",
        "colab_type": "code",
        "outputId": "676d9020-c5cf-4606-846a-97b0d227b530",
        "colab": {
          "base_uri": "https://localhost:8080/",
          "height": 107
        }
      },
      "cell_type": "code",
      "source": [
        "N4.feedforward(xin2,relu)"
      ],
      "execution_count": 78,
      "outputs": [
        {
          "output_type": "stream",
          "text": [
            "[ 11.81104509  17.10459792   3.81605569 -21.44312867  -3.31124613]\n",
            "[-18.17276231 -29.91324874  15.01418159]\n",
            "[ -8.79417283 -17.08317279]\n",
            "[0. 0.]\n"
          ],
          "name": "stdout"
        },
        {
          "output_type": "execute_result",
          "data": {
            "text/plain": [
              "array([0., 0.])"
            ]
          },
          "metadata": {
            "tags": []
          },
          "execution_count": 78
        }
      ]
    },
    {
      "metadata": {
        "id": "Cl3llox9YAOG",
        "colab_type": "code",
        "outputId": "61a58c9d-3871-42fc-83be-88d821e466ac",
        "colab": {
          "base_uri": "https://localhost:8080/",
          "height": 107
        }
      },
      "cell_type": "code",
      "source": [
        "N4.feedforward(xin2,sigmoid)"
      ],
      "execution_count": 79,
      "outputs": [
        {
          "output_type": "stream",
          "text": [
            "[ 11.81104509  17.10459792   3.81605569 -21.44312867  -3.31124613]\n",
            "[-2.79867422 -0.6272462   1.83572589]\n",
            "[-0.94490378 -0.59260485]\n",
            "[0.27991087 0.3560374 ]\n"
          ],
          "name": "stdout"
        },
        {
          "output_type": "execute_result",
          "data": {
            "text/plain": [
              "array([0.27991087, 0.3560374 ])"
            ]
          },
          "metadata": {
            "tags": []
          },
          "execution_count": 79
        }
      ]
    },
    {
      "metadata": {
        "id": "1uaBEbEJYAOI",
        "colab_type": "text"
      },
      "cell_type": "markdown",
      "source": [
        "### [도전2] 784개의 입력을 받아서 4 개의 딥 레이어로 처리해서 두개의 최종 출력을 구하는 과정을 만드시오. \n",
        "> 입력:784, 첫번째 레이어: 100 뉴런, 두번째 레이어: 28 뉴런, 세번째 레이어: 28 뉴런,  네번째 레이어: 10 뉴런, 출력:2"
      ]
    },
    {
      "metadata": {
        "id": "V4HqCBKNYAOJ",
        "colab_type": "code",
        "outputId": "37801d1c-1218-4f78-9c39-e0727d9bf91c",
        "colab": {
          "base_uri": "https://localhost:8080/",
          "height": 35
        }
      },
      "cell_type": "code",
      "source": [
        "28*28"
      ],
      "execution_count": 81,
      "outputs": [
        {
          "output_type": "execute_result",
          "data": {
            "text/plain": [
              "784"
            ]
          },
          "metadata": {
            "tags": []
          },
          "execution_count": 81
        }
      ]
    },
    {
      "metadata": {
        "id": "DOggICvhYAOL",
        "colab_type": "code",
        "colab": {}
      },
      "cell_type": "code",
      "source": [
        "np.random.seed(0)\n",
        "N5 = Network([784,100,28,28,10,2])"
      ],
      "execution_count": 0,
      "outputs": []
    },
    {
      "metadata": {
        "id": "IOxE0LUeYAOR",
        "colab_type": "code",
        "outputId": "4509a129-1911-4e02-9164-333df3c53f7b",
        "colab": {
          "base_uri": "https://localhost:8080/",
          "height": 35
        }
      },
      "cell_type": "code",
      "source": [
        "N5.sizes"
      ],
      "execution_count": 84,
      "outputs": [
        {
          "output_type": "execute_result",
          "data": {
            "text/plain": [
              "[784, 100, 28, 28, 10, 2]"
            ]
          },
          "metadata": {
            "tags": []
          },
          "execution_count": 84
        }
      ]
    },
    {
      "metadata": {
        "id": "f53OLYrMYAOU",
        "colab_type": "code",
        "colab": {
          "base_uri": "https://localhost:8080/",
          "height": 2969
        },
        "outputId": "d27cf860-2a2b-4e67-aa5e-c55330cefd53"
      },
      "cell_type": "code",
      "source": [
        "N5.biases  # "
      ],
      "execution_count": 85,
      "outputs": [
        {
          "output_type": "execute_result",
          "data": {
            "text/plain": [
              "[array([[ 1.76405235],\n",
              "        [ 0.40015721],\n",
              "        [ 0.97873798],\n",
              "        [ 2.2408932 ],\n",
              "        [ 1.86755799],\n",
              "        [-0.97727788],\n",
              "        [ 0.95008842],\n",
              "        [-0.15135721],\n",
              "        [-0.10321885],\n",
              "        [ 0.4105985 ],\n",
              "        [ 0.14404357],\n",
              "        [ 1.45427351],\n",
              "        [ 0.76103773],\n",
              "        [ 0.12167502],\n",
              "        [ 0.44386323],\n",
              "        [ 0.33367433],\n",
              "        [ 1.49407907],\n",
              "        [-0.20515826],\n",
              "        [ 0.3130677 ],\n",
              "        [-0.85409574],\n",
              "        [-2.55298982],\n",
              "        [ 0.6536186 ],\n",
              "        [ 0.8644362 ],\n",
              "        [-0.74216502],\n",
              "        [ 2.26975462],\n",
              "        [-1.45436567],\n",
              "        [ 0.04575852],\n",
              "        [-0.18718385],\n",
              "        [ 1.53277921],\n",
              "        [ 1.46935877],\n",
              "        [ 0.15494743],\n",
              "        [ 0.37816252],\n",
              "        [-0.88778575],\n",
              "        [-1.98079647],\n",
              "        [-0.34791215],\n",
              "        [ 0.15634897],\n",
              "        [ 1.23029068],\n",
              "        [ 1.20237985],\n",
              "        [-0.38732682],\n",
              "        [-0.30230275],\n",
              "        [-1.04855297],\n",
              "        [-1.42001794],\n",
              "        [-1.70627019],\n",
              "        [ 1.9507754 ],\n",
              "        [-0.50965218],\n",
              "        [-0.4380743 ],\n",
              "        [-1.25279536],\n",
              "        [ 0.77749036],\n",
              "        [-1.61389785],\n",
              "        [-0.21274028],\n",
              "        [-0.89546656],\n",
              "        [ 0.3869025 ],\n",
              "        [-0.51080514],\n",
              "        [-1.18063218],\n",
              "        [-0.02818223],\n",
              "        [ 0.42833187],\n",
              "        [ 0.06651722],\n",
              "        [ 0.3024719 ],\n",
              "        [-0.63432209],\n",
              "        [-0.36274117],\n",
              "        [-0.67246045],\n",
              "        [-0.35955316],\n",
              "        [-0.81314628],\n",
              "        [-1.7262826 ],\n",
              "        [ 0.17742614],\n",
              "        [-0.40178094],\n",
              "        [-1.63019835],\n",
              "        [ 0.46278226],\n",
              "        [-0.90729836],\n",
              "        [ 0.0519454 ],\n",
              "        [ 0.72909056],\n",
              "        [ 0.12898291],\n",
              "        [ 1.13940068],\n",
              "        [-1.23482582],\n",
              "        [ 0.40234164],\n",
              "        [-0.68481009],\n",
              "        [-0.87079715],\n",
              "        [-0.57884966],\n",
              "        [-0.31155253],\n",
              "        [ 0.05616534],\n",
              "        [-1.16514984],\n",
              "        [ 0.90082649],\n",
              "        [ 0.46566244],\n",
              "        [-1.53624369],\n",
              "        [ 1.48825219],\n",
              "        [ 1.89588918],\n",
              "        [ 1.17877957],\n",
              "        [-0.17992484],\n",
              "        [-1.07075262],\n",
              "        [ 1.05445173],\n",
              "        [-0.40317695],\n",
              "        [ 1.22244507],\n",
              "        [ 0.20827498],\n",
              "        [ 0.97663904],\n",
              "        [ 0.3563664 ],\n",
              "        [ 0.70657317],\n",
              "        [ 0.01050002],\n",
              "        [ 1.78587049],\n",
              "        [ 0.12691209],\n",
              "        [ 0.40198936]]), array([[ 1.8831507 ],\n",
              "        [-1.34775906],\n",
              "        [-1.270485  ],\n",
              "        [ 0.96939671],\n",
              "        [-1.17312341],\n",
              "        [ 1.94362119],\n",
              "        [-0.41361898],\n",
              "        [-0.74745481],\n",
              "        [ 1.92294203],\n",
              "        [ 1.48051479],\n",
              "        [ 1.86755896],\n",
              "        [ 0.90604466],\n",
              "        [-0.86122569],\n",
              "        [ 1.91006495],\n",
              "        [-0.26800337],\n",
              "        [ 0.8024564 ],\n",
              "        [ 0.94725197],\n",
              "        [-0.15501009],\n",
              "        [ 0.61407937],\n",
              "        [ 0.92220667],\n",
              "        [ 0.37642553],\n",
              "        [-1.09940079],\n",
              "        [ 0.29823817],\n",
              "        [ 1.3263859 ],\n",
              "        [-0.69456786],\n",
              "        [-0.14963454],\n",
              "        [-0.43515355],\n",
              "        [ 1.84926373]]), array([[ 0.67229476],\n",
              "        [ 0.40746184],\n",
              "        [-0.76991607],\n",
              "        [ 0.53924919],\n",
              "        [-0.67433266],\n",
              "        [ 0.03183056],\n",
              "        [-0.63584608],\n",
              "        [ 0.67643329],\n",
              "        [ 0.57659082],\n",
              "        [-0.20829876],\n",
              "        [ 0.39600671],\n",
              "        [-1.09306151],\n",
              "        [-1.49125759],\n",
              "        [ 0.4393917 ],\n",
              "        [ 0.1666735 ],\n",
              "        [ 0.63503144],\n",
              "        [ 2.38314477],\n",
              "        [ 0.94447949],\n",
              "        [-0.91282223],\n",
              "        [ 1.11701629],\n",
              "        [-1.31590741],\n",
              "        [-0.4615846 ],\n",
              "        [-0.06824161],\n",
              "        [ 1.71334272],\n",
              "        [-0.74475482],\n",
              "        [-0.82643854],\n",
              "        [-0.09845252],\n",
              "        [-0.66347829]]), array([[ 1.12663592],\n",
              "        [-1.07993151],\n",
              "        [-1.14746865],\n",
              "        [-0.43782004],\n",
              "        [-0.49803245],\n",
              "        [ 1.92953205],\n",
              "        [ 0.94942081],\n",
              "        [ 0.08755124],\n",
              "        [-1.22543552],\n",
              "        [ 0.84436298]]), array([[-1.00021535],\n",
              "        [-1.5447711 ]])]"
            ]
          },
          "metadata": {
            "tags": []
          },
          "execution_count": 85
        }
      ]
    },
    {
      "metadata": {
        "id": "7PvV5VojYAOX",
        "colab_type": "code",
        "colab": {
          "base_uri": "https://localhost:8080/",
          "height": 6677
        },
        "outputId": "11728a62-fcbb-443e-e076-1fa006af764c"
      },
      "cell_type": "code",
      "source": [
        "N5.weights  # "
      ],
      "execution_count": 86,
      "outputs": [
        {
          "output_type": "execute_result",
          "data": {
            "text/plain": [
              "[array([[ 1.18802979,  0.31694261,  0.92085882, ..., -0.1162297 ,\n",
              "         -0.94748859,  0.24444346],\n",
              "        [ 1.40134483, -0.41038179,  0.52894362, ...,  1.69596953,\n",
              "          0.14180664,  1.83343536],\n",
              "        [ 0.35570352, -0.47728627,  0.46637957, ...,  0.88833886,\n",
              "         -0.52474195, -1.38527758],\n",
              "        ...,\n",
              "        [ 0.51772191,  0.29614841,  0.64386175, ..., -0.55308683,\n",
              "          0.50226349, -0.41758592],\n",
              "        [ 1.27908459,  0.34732134, -0.54816658, ..., -0.77369472,\n",
              "         -0.54268253,  0.56555196],\n",
              "        [-0.58829415, -1.18378546,  1.10897889, ...,  0.48940392,\n",
              "          0.63801808,  0.87204101]]),\n",
              " array([[ 1.37018722, -0.6702002 ,  0.13655736, ...,  0.21798276,\n",
              "         -0.37695813,  0.50386863],\n",
              "        [ 0.54410301,  2.14623608, -0.17545384, ..., -0.8498785 ,\n",
              "          0.96053996, -0.53220822],\n",
              "        [-0.57525681, -0.25496539,  1.03022269, ...,  0.13039084,\n",
              "          1.08547515,  1.71914382],\n",
              "        ...,\n",
              "        [ 1.41323608,  1.6514214 ,  0.1695428 , ..., -0.32180682,\n",
              "         -0.14028154, -1.65058867],\n",
              "        [ 0.08359948,  0.91638632, -2.8156573 , ..., -0.71614283,\n",
              "         -0.52192469,  1.14521922],\n",
              "        [ 0.6020816 , -0.66230347, -0.35407714, ..., -0.29813229,\n",
              "          1.52573658, -0.68870416]]),\n",
              " array([[ 4.32205141e-01,  1.87902358e-02,  3.85197977e-01,\n",
              "         -1.50705919e+00, -8.77329863e-02,  1.60834730e+00,\n",
              "         -7.91949827e-01,  1.77191788e+00, -5.00854657e-01,\n",
              "         -7.70213218e-01,  1.55529970e+00,  2.59561376e-02,\n",
              "          1.34264292e+00,  1.70335482e-02,  5.97286112e-01,\n",
              "         -3.19200218e-01,  6.83511070e-01,  4.57285146e-01,\n",
              "          1.88119570e+00, -2.54704869e+00, -4.79887301e-01,\n",
              "         -4.97252652e-01, -4.89233152e-01, -7.17247963e-01,\n",
              "         -6.41170884e-02, -7.21785776e-02, -2.22501633e+00,\n",
              "         -7.00309845e-01],\n",
              "        [-9.46302976e-01,  5.38772153e-01,  1.17196516e-01,\n",
              "          7.79407973e-01,  9.87354830e-01, -1.27885398e+00,\n",
              "          2.01020228e+00,  1.09913469e-01, -1.42086699e+00,\n",
              "          1.84931396e-01, -2.94438340e-01,  1.15914064e+00,\n",
              "         -2.54030237e-01,  5.33865050e-01,  2.58429956e+00,\n",
              "          4.45153078e-01, -3.50567643e-01, -1.85966466e-01,\n",
              "         -1.78752141e-01, -5.42083501e-02,  1.67064760e+00,\n",
              "          9.63091069e-01,  6.39138661e-01,  1.64428749e+00,\n",
              "          7.18852354e-03, -5.47019406e-01, -2.98284971e-03,\n",
              "         -2.76721811e-02],\n",
              "        [-1.67775346e+00, -8.23140091e-01, -1.22972811e+00,\n",
              "         -7.36201440e-01,  1.13120518e+00, -3.95909024e-01,\n",
              "          2.92863976e-01,  2.56736493e-02, -9.43684084e-01,\n",
              "         -8.66808421e-01,  1.71951188e-01,  1.76002503e+00,\n",
              "         -3.09759547e-01, -7.26174009e-01, -8.94311650e-02,\n",
              "          2.08796071e+00, -1.08272959e+00,  1.16963448e+00,\n",
              "         -1.89288524e+00, -1.40667666e+00, -1.64610800e+00,\n",
              "          9.34822279e-02, -5.29018984e-02,  1.75429488e-01,\n",
              "         -4.25082660e-01, -1.60054017e+00,  2.29856313e-01,\n",
              "         -5.02617816e-01],\n",
              "        [ 1.57595802e+00,  1.04793552e+00, -1.39234940e+00,\n",
              "          1.54115094e+00,  5.45004284e-01, -1.59578121e+00,\n",
              "          7.83559634e-03, -1.02350746e+00,  1.44552720e+00,\n",
              "          2.51607932e-01, -5.99099576e-03,  5.10389063e-01,\n",
              "          6.15239870e-01, -1.13357103e-01,  4.52356754e-02,\n",
              "          8.75083176e-01, -1.55082222e+00, -8.83082970e-01,\n",
              "          2.08012643e-01,  1.76873852e-02,  9.35079504e-04,\n",
              "          3.64314767e-01, -3.42586834e-01, -1.13893323e+00,\n",
              "          2.67998912e-01, -2.35141733e-01, -3.74302873e-01,\n",
              "         -2.96739126e-01],\n",
              "        [-3.94970390e-01, -1.20745475e+00, -1.53311424e+00,\n",
              "          1.05374948e+00, -6.97369919e-01, -3.97994315e-01,\n",
              "          9.71078000e-01,  1.48633184e-01,  7.27675902e-01,\n",
              "         -3.58997446e-01,  1.36130853e-01,  5.94256356e-01,\n",
              "         -1.11735243e+00,  1.16281480e-01,  1.70878775e-01,\n",
              "         -9.08165074e-01, -1.23233106e+00, -2.04387255e-01,\n",
              "         -9.50539205e-01, -1.72094460e+00,  7.69074240e-02,\n",
              "          3.73951838e-01, -9.55945598e-01,  6.21520446e-01,\n",
              "          5.83591099e-01,  2.18238531e+00, -1.19714875e+00,\n",
              "          4.83235892e-01],\n",
              "        [ 6.31784055e-01, -8.39976143e-01, -8.45788295e-01,\n",
              "         -2.45326911e-01, -1.36626160e+00,  2.25995480e-01,\n",
              "         -8.71108504e-01, -1.00888857e+00, -7.95122464e-02,\n",
              "         -2.74966703e-01, -1.45047180e+00, -1.17351571e+00,\n",
              "         -1.12335591e-01, -1.22691144e+00, -8.25081311e-01,\n",
              "          3.31604473e-02,  1.84412688e+00,  6.90236863e-01,\n",
              "          6.50219435e-01,  4.80284856e-01, -4.36160064e-01,\n",
              "         -1.94810823e+00, -9.51403637e-01, -1.01431131e+00,\n",
              "          4.54054109e-01, -1.03251776e+00, -1.13550255e-01,\n",
              "          8.38474837e-01],\n",
              "        [-1.32124937e-01, -1.83486253e+00, -9.09659486e-01,\n",
              "         -6.61195365e-02, -1.17737091e+00, -2.65521824e-01,\n",
              "         -1.02263617e+00,  1.79314070e+00, -5.63865398e-01,\n",
              "         -8.70071614e-01,  1.03127793e-01, -3.81865838e-01,\n",
              "          9.45378754e-01,  2.72222827e-01, -4.88306311e-01,\n",
              "         -7.42580823e-01,  3.95473839e-01,  3.54139838e+00,\n",
              "          1.14225769e+00, -1.17706565e-01, -1.32075763e+00,\n",
              "         -4.20067314e-01, -9.33831250e-01,  4.87485001e-01,\n",
              "         -7.14615268e-01,  5.77251302e-01, -2.51796931e-01,\n",
              "         -5.34973237e-01],\n",
              "        [ 9.66262183e-01, -6.39875699e-01, -2.92855293e-01,\n",
              "          3.57421646e-01, -1.01931237e+00, -5.64744296e-01,\n",
              "          1.34398980e+00,  9.46744073e-01, -1.89943202e+00,\n",
              "         -2.37637823e+00, -1.55165066e-02,  9.33364833e-01,\n",
              "          1.25605859e+00, -5.71326327e-01, -1.11391865e+00,\n",
              "         -6.12596509e-01, -1.56792832e+00,  2.05490275e+00,\n",
              "         -7.71384333e-01, -5.55798682e-01, -5.58576705e-01,\n",
              "          1.26595258e-01,  9.49757553e-01, -1.68627445e+00,\n",
              "          4.15904939e-01,  1.63515663e+00, -1.09961003e+00,\n",
              "          1.30542748e-01],\n",
              "        [ 2.13226763e-01,  2.19350925e-01,  1.17114676e-01,\n",
              "         -2.91868557e+00, -1.68574292e+00,  1.23804049e+00,\n",
              "          1.48841013e-01, -5.62833809e-01,  1.22091958e+00,\n",
              "         -1.05821576e+00, -4.04657034e-01,  1.28291661e-01,\n",
              "         -8.33608334e-01,  6.62867482e-01, -6.34309938e-01,\n",
              "          4.89528980e-01, -1.57283542e+00,  1.17427366e-01,\n",
              "         -1.09893094e+00,  7.62388014e-01,  6.36485226e-01,\n",
              "         -1.33941110e+00, -9.57736784e-01,  1.25310230e+00,\n",
              "         -6.81913992e-03, -1.09971947e+00,  5.82205359e-01,\n",
              "         -8.81137975e-01],\n",
              "        [-9.19853220e-01, -7.41320983e-02,  4.54016831e-02,\n",
              "          2.21051119e-01, -3.38945044e-01,  2.94586364e-01,\n",
              "          1.69044384e+00,  2.29566275e-01,  3.17421067e-01,\n",
              "          8.40056060e-01, -5.02561017e-01,  4.23013497e-01,\n",
              "          2.00977529e+00, -6.06290003e-01, -1.38625650e+00,\n",
              "         -1.66984778e+00,  5.71262304e-01,  1.84695965e-01,\n",
              "          1.38176200e+00, -4.76484969e-01,  6.59929303e-02,\n",
              "          3.07566492e-01,  2.13604138e+00, -3.80743787e-01,\n",
              "         -2.04112175e-01,  4.06563776e-01, -1.41170672e+00,\n",
              "         -2.05151726e-01],\n",
              "        [ 6.11149596e-01, -4.61966977e-01, -3.57672574e-01,\n",
              "          2.07850801e-02,  5.70774932e-01, -5.52752667e-01,\n",
              "         -1.32718973e-01,  1.02024936e+00,  6.72501219e-01,\n",
              "         -1.99592708e-01,  4.11694907e-01,  1.32011464e+00,\n",
              "         -8.51142504e-01, -4.21682737e-01,  1.09850102e+00,\n",
              "          5.23959666e-01,  1.67386460e+00,  1.09525980e+00,\n",
              "         -4.17631359e-01,  6.74668175e-01,  2.04599502e+00,\n",
              "          9.36113484e-01,  5.84919249e-01, -8.18787218e-01,\n",
              "         -8.11285361e-01,  6.14925752e-01, -6.63344313e-03,\n",
              "         -8.00343811e-01],\n",
              "        [ 6.57561530e-02,  3.93953350e-01,  1.36158578e-01,\n",
              "         -1.20893500e+00, -2.61560423e-01,  9.46310252e-01,\n",
              "         -1.80614283e+00,  1.64064246e+00,  1.36826484e+00,\n",
              "          6.32474774e-01,  2.78652540e+00, -1.13033018e+00,\n",
              "          3.89420510e-01, -7.82135251e-02, -1.01140867e+00,\n",
              "         -6.27472128e-01,  5.24572176e-01, -1.50631634e+00,\n",
              "         -1.99224292e+00,  3.58477746e-01,  5.16646860e-01,\n",
              "         -1.85736861e-01, -8.54259978e-01, -9.65004625e-01,\n",
              "          4.23440804e-01, -3.07488394e-01, -1.79312554e+00,\n",
              "         -1.59892171e+00],\n",
              "        [-3.56794320e-01,  1.45461539e+00,  6.84412210e-01,\n",
              "          5.10796751e-01, -3.91141836e-02, -1.40227555e+00,\n",
              "          3.94605425e-01,  6.23007477e-01,  3.57550027e-01,\n",
              "          6.45606562e-01, -8.24464556e-01,  1.62848269e+00,\n",
              "          1.31061174e+00,  5.42526719e-01, -4.68281071e-02,\n",
              "         -1.05316682e-01,  1.58295748e+00,  2.14374211e+00,\n",
              "         -2.63314567e+00, -8.83435959e-01, -5.80697286e-02,\n",
              "         -2.57389390e-01, -1.04128113e+00, -9.00321869e-01,\n",
              "         -2.23902776e+00, -1.46511092e+00, -1.49953470e-01,\n",
              "          3.56086535e-01],\n",
              "        [-8.71130053e-01,  4.42838310e-01, -7.42675503e-01,\n",
              "          1.91994043e+00, -1.38917641e-01,  8.84038095e-01,\n",
              "         -8.46645465e-02,  1.15194370e+00,  6.51289649e-01,\n",
              "          4.41773837e-01,  5.23772667e-01, -7.88306435e-02,\n",
              "         -1.03780011e+00, -1.44220439e-02,  3.27482719e+00,\n",
              "         -4.56331363e-01,  1.81278030e-01,  1.09210744e+00,\n",
              "         -1.08140773e+00, -7.82126653e-01, -3.94978066e-01,\n",
              "         -3.07371275e-01, -4.65167939e-01, -1.07832561e-01,\n",
              "          8.26316746e-01,  1.23883108e+00, -9.84496945e-02,\n",
              "         -9.56788109e-01],\n",
              "        [-2.13121255e-01,  4.68172747e-01, -8.75545472e-01,\n",
              "         -3.47737269e-01, -3.60994890e-01,  2.88379618e-01,\n",
              "         -1.54382224e-01,  1.06868254e+00, -1.20549824e+00,\n",
              "         -2.61697757e-01, -2.44036500e-01,  3.48761543e-01,\n",
              "          3.59159707e-01,  8.64745414e-01,  4.54029441e-02,\n",
              "          1.39714220e+00,  4.09108977e-01, -1.13747063e+00,\n",
              "          3.73755881e-01,  7.58722594e-02, -1.33651012e+00,\n",
              "          3.25042969e-01, -2.30530317e+00, -6.68937637e-02,\n",
              "         -1.00831940e+00, -7.52742408e-01, -7.35832601e-03,\n",
              "          4.52372568e-01],\n",
              "        [ 1.38343582e+00,  1.52749735e+00,  5.20699758e-01,\n",
              "         -1.82943570e-01,  1.92680725e+00,  1.70417472e+00,\n",
              "          1.23954504e+00,  8.00104855e-01, -6.45682613e-01,\n",
              "          1.71938378e-01, -1.19802239e+00,  1.65790931e-01,\n",
              "         -3.87878336e-01,  1.86910678e-01, -5.59290827e-01,\n",
              "         -5.45833162e-01, -7.45009957e-01, -3.16931208e-02,\n",
              "         -6.18060669e-02,  3.83544804e-01,  4.21758414e-01,\n",
              "          1.12069940e+00, -4.46599539e-01,  1.75115170e+00,\n",
              "          1.31760248e+00, -1.58225619e+00,  1.20878542e+00,\n",
              "         -6.55139742e-02],\n",
              "        [-2.71492077e-01, -1.01728534e+00,  8.88584142e-01,\n",
              "          6.08928732e-01,  7.09764838e-01, -1.04006958e+00,\n",
              "          7.56069272e-01, -1.52736033e-01, -7.20087675e-02,\n",
              "          2.00480289e+00,  9.77690770e-01,  1.84293626e+00,\n",
              "          5.95131820e-01,  9.63817312e-01, -1.40973299e+00,\n",
              "          9.14397901e-01, -6.31860897e-01,  3.10889811e-01,\n",
              "         -1.03076703e+00,  1.59386895e+00,  1.31463820e-01,\n",
              "          1.37171263e-01,  2.29989405e+00, -1.15449334e+00,\n",
              "          9.43688542e-01, -1.26867764e-01,  2.50430992e+00,\n",
              "          1.90207540e+00],\n",
              "        [ 1.07692750e-02, -6.74415718e-01,  4.01128938e-01,\n",
              "          3.62380278e-01,  1.76628761e+00, -9.01919605e-01,\n",
              "          2.08988169e-01,  7.88509666e-01,  1.73453793e-01,\n",
              "          1.32887222e+00, -1.65794549e+00,  1.59106573e+00,\n",
              "          4.59295414e-01,  1.38537429e+00, -4.12280455e-01,\n",
              "         -6.96476474e-01,  1.02895200e-01, -2.32742473e-01,\n",
              "          1.39804412e+00, -2.94389914e-01, -1.66864648e-01,\n",
              "          7.43555815e-01,  1.97208305e-01,  6.50997924e-01,\n",
              "          2.04809085e-01,  6.40973035e-01,  8.38581235e-02,\n",
              "          9.07540630e-01],\n",
              "        [-1.01006529e+00, -8.15973254e-01,  1.17705388e+00,\n",
              "         -1.17669517e+00, -4.89740613e-01,  1.57400536e+00,\n",
              "         -5.03905835e-01, -5.65376334e-03,  1.23508100e+00,\n",
              "          1.93533545e+00,  7.99289468e-01,  1.17647266e+00,\n",
              "          5.10262363e-01,  1.33155290e-01,  1.68013607e+00,\n",
              "         -1.46387090e+00, -1.43180880e+00,  7.31658632e-01,\n",
              "         -7.76355068e-02,  1.32610026e-01,  1.32191941e+00,\n",
              "         -1.29261056e+00,  5.35217155e-01,  2.41390037e-01,\n",
              "         -5.88057041e-01, -1.62522398e+00, -2.03953836e-01,\n",
              "         -2.27719324e-01],\n",
              "        [-7.86640552e-01,  4.78176464e-01, -2.25178626e-01,\n",
              "          4.53152379e-01, -1.59624780e+00,  1.47342301e+00,\n",
              "          5.24716799e-01,  1.35227227e+00,  8.86668926e-01,\n",
              "          1.17170113e+00,  4.08867249e-01,  2.36600752e+00,\n",
              "          4.08956722e-01, -2.06575306e-01,  1.22084664e+00,\n",
              "          1.66042771e+00, -8.56234661e-01,  3.40539329e-01,\n",
              "          6.47998581e-02,  8.28751864e-01, -6.68299813e-01,\n",
              "          9.12804473e-01,  8.96005817e-01, -5.78395388e-01,\n",
              "         -1.86370403e+00,  9.89514304e-01,  1.82713349e-01,\n",
              "          3.51861647e-01],\n",
              "        [ 5.79146607e-01, -6.66062686e-01, -6.76050052e-01,\n",
              "          2.83272000e-01, -3.86872807e-01, -6.56448982e-01,\n",
              "         -5.22109443e-01,  1.22645605e+00, -1.32060971e+00,\n",
              "         -2.15260748e+00,  3.47669090e-01,  3.22079339e-01,\n",
              "         -7.06526327e-01,  1.23288676e+00, -4.74791215e-02,\n",
              "          6.00205034e-01, -6.55934696e-01, -1.14998108e+00,\n",
              "         -2.27160189e-01,  7.75771581e-02,  1.40951399e+00,\n",
              "          3.24590829e-01, -6.88197007e-01, -1.13373589e+00,\n",
              "         -4.69832109e-01,  2.08422124e-02, -2.03914656e-01,\n",
              "          6.45831327e-01],\n",
              "        [-1.94585030e-01, -2.23496656e-01, -4.03634764e-01,\n",
              "         -1.00623388e-01, -5.89381264e-01, -3.85136233e-01,\n",
              "          6.80410940e-01, -2.28451526e-01,  1.59718225e+00,\n",
              "         -5.36500706e-01,  3.08223748e-01,  5.07353980e-01,\n",
              "          1.66785380e-01,  5.21652923e-01, -5.11200179e-01,\n",
              "         -2.39816614e+00, -5.50883388e-01, -4.44712387e-01,\n",
              "         -1.62675948e-01,  1.06502634e-01,  2.49057955e-01,\n",
              "         -6.60564778e-01,  1.80701229e-01,  9.92602072e-01,\n",
              "         -1.14325899e+00, -6.87473328e-01, -8.78316438e-02,\n",
              "          1.00726506e+00],\n",
              "        [ 1.50955215e+00, -1.65709119e+00, -3.36621092e+00,\n",
              "          3.64482342e-01,  9.87786950e-01,  1.38112591e+00,\n",
              "          1.46974504e-01,  6.53483924e-01, -1.99526364e+00,\n",
              "         -6.51077167e-01, -7.77479834e-01,  1.45204991e+00,\n",
              "          2.09236882e-01,  4.91997146e-01,  1.67722985e-01,\n",
              "          6.89991669e-01, -3.61889873e-01,  2.96419241e-01,\n",
              "         -2.19228998e+00, -2.84699453e+00,  1.24992555e+00,\n",
              "         -3.05695812e-01,  2.33021170e-01,  1.86499961e+00,\n",
              "          6.18499550e-01,  5.36995077e-03,  3.03259318e-01,\n",
              "          1.44347304e+00],\n",
              "        [ 7.93637700e-01,  1.96966112e-01, -1.30817558e+00,\n",
              "         -1.25626113e+00, -2.04275656e+00,  8.93239948e-01,\n",
              "         -4.13222213e-01,  1.30459540e+00, -9.86791718e-01,\n",
              "          1.99500553e-01, -1.78601894e+00,  7.44164584e-01,\n",
              "         -3.48623731e-01,  7.34504136e-02, -1.03100961e+00,\n",
              "          2.61902250e+00, -2.77589151e-01,  9.63361512e-01,\n",
              "          1.51105829e+00, -8.51804323e-01, -3.76151445e-01,\n",
              "         -1.68687869e-01,  2.58224437e-01, -1.11595612e-01,\n",
              "         -7.01602681e-01, -4.88600747e-01,  2.95433799e-01,\n",
              "         -7.91686769e-01],\n",
              "        [-1.04438117e+00, -1.26030086e+00,  9.91433544e-01,\n",
              "         -1.00039279e+00,  1.24667659e+00, -2.28591485e+00,\n",
              "          9.92685344e-01, -6.22835838e-01,  2.32824710e-01,\n",
              "          1.54684378e-01, -1.45454616e+00, -3.57813153e-01,\n",
              "         -7.59059230e-01, -2.15698625e+00, -8.81825639e-01,\n",
              "          6.97879348e-01, -2.11742979e+00,  7.13024736e-01,\n",
              "         -3.26385416e-01,  1.42760151e+00,  9.87741608e-01,\n",
              "          5.40917750e-01,  1.09514862e+00,  1.22024318e-01,\n",
              "         -1.73211888e+00,  4.44734859e-01,  6.61624732e-01,\n",
              "         -1.38165192e+00],\n",
              "        [ 8.12936352e-01, -5.15439242e-01,  1.15748238e+00,\n",
              "          2.62863452e+00, -5.05014630e-01,  3.40219772e+00,\n",
              "          1.42163024e+00, -1.01836184e+00, -3.88437823e-01,\n",
              "          8.39550942e-01, -2.10597573e-01,  4.74067702e-01,\n",
              "         -8.42759788e-02, -1.94110863e+00,  4.35227349e-01,\n",
              "         -1.35423977e-01, -9.02477990e-01,  7.74913680e-01,\n",
              "         -4.86267856e-01, -1.89729776e+00, -4.91729996e-01,\n",
              "         -7.48297562e-02,  9.85403228e-01,  2.50927866e-01,\n",
              "          8.05861069e-01,  1.15760658e-01,  7.86357994e-01,\n",
              "          1.46005593e+00],\n",
              "        [ 1.12364868e+00,  2.33487110e+00, -5.76702813e-01,\n",
              "         -6.70231968e-01, -1.20233459e+00,  5.14266643e-01,\n",
              "          2.14952011e-01,  6.35556650e-01,  1.54296491e+00,\n",
              "         -2.10393590e-01,  3.80451523e-01,  6.27384171e-01,\n",
              "          3.16968015e-01,  3.26550760e-01, -3.10470795e-01,\n",
              "          1.52064728e+00,  1.28344777e+00, -1.04036293e+00,\n",
              "         -7.31864442e-01, -5.68017960e-01, -1.31751014e+00,\n",
              "          1.11222514e-02,  1.48605727e-02, -8.37772022e-02,\n",
              "         -1.08116984e-01, -1.16733950e+00,  5.00895056e-01,\n",
              "         -8.86456509e-01],\n",
              "        [ 4.72447761e-01, -4.36774608e-02,  1.71529750e-01,\n",
              "         -3.52559236e-01, -9.35209903e-01,  3.69044788e-01,\n",
              "          1.90658776e+00, -1.35379044e+00,  1.18243225e+00,\n",
              "         -9.41988431e-01,  1.80684604e-01, -2.38897833e-01,\n",
              "         -4.78864033e-01,  9.93843285e-01, -4.29314435e-01,\n",
              "         -9.02140822e-01, -1.07213941e+00, -3.39044269e-01,\n",
              "         -1.45788442e+00,  1.41328522e+00,  5.69763769e-01,\n",
              "         -2.35999305e+00, -2.96674746e-01,  9.82429896e-01,\n",
              "         -3.05621398e-01, -1.20842677e+00, -4.50872610e-01,\n",
              "         -6.14468138e-01]]),\n",
              " array([[-0.2360159 ,  1.359788  , -0.64650955, -0.30633157, -0.30361436,\n",
              "         -1.14228307, -1.6548138 ,  0.36590831, -0.6401305 , -1.05364011,\n",
              "          0.88428503,  1.06398098, -0.7625054 ,  0.70678679, -1.80954385,\n",
              "          1.60550145,  1.957821  , -0.01465305,  0.16075279,  0.06343274,\n",
              "          0.96843183, -0.60583606,  1.06712135, -0.15466844, -0.46905848,\n",
              "          1.09747585, -0.35869156, -0.52395795],\n",
              "        [ 2.16670263, -0.63924846, -0.59023478, -0.5282523 ,  1.40304838,\n",
              "          0.56516949, -0.24701327, -1.35285039,  0.7387407 , -1.30539692,\n",
              "          0.44597739,  0.62482565, -0.41021091, -1.47064527, -0.17198338,\n",
              "          0.61541829, -0.19186887,  0.7560841 ,  0.22325499, -0.46263014,\n",
              "          1.86543481,  0.4972398 , -1.49839678,  2.15952746,  0.46658036,\n",
              "          0.08849452, -1.16196517, -0.27651173],\n",
              "        [-0.17155379, -0.35186539, -0.94612417, -1.14573222,  1.20263084,\n",
              "          2.45954743,  0.40141167,  0.69026577, -0.26631098, -1.36056329,\n",
              "         -0.50549633, -0.44621182, -0.69518324,  0.66642153, -0.18485144,\n",
              "         -1.68238325, -0.39475369, -1.25049129,  0.6512747 ,  0.17472643,\n",
              "         -0.03487888, -1.11687714, -2.11646861, -0.65738253, -0.45576692,\n",
              "          0.44831809, -0.328087  ,  1.15379999],\n",
              "        [ 0.65817904, -0.17870445, -0.62577194, -0.25630525,  1.06473355,\n",
              "         -0.67763666, -0.04418947,  0.83031171, -0.65852879, -1.79517695,\n",
              "         -0.48608224, -1.26393747,  0.82705376, -1.55560816,  0.41407206,\n",
              "         -1.37182596, -0.47675102, -0.76378995,  0.22452944, -0.26848698,\n",
              "          0.98436921, -0.50938191, -0.81652989, -0.06539588,  1.18302292,\n",
              "         -0.54257263,  2.05627287, -0.56104326],\n",
              "        [-0.59771231,  0.93813513, -0.25073412, -0.39265683,  0.69799667,\n",
              "         -1.93924747, -0.55212441, -0.94582778, -1.1004375 , -1.65740975,\n",
              "         -2.43887817,  0.72813013,  1.32624334, -0.39522137, -1.27610657,\n",
              "         -0.44631761, -0.19967565,  0.04602037, -1.83954472,  0.83583454,\n",
              "          0.07760338,  0.38442223,  0.23539074, -0.54479431,  0.91984011,\n",
              "         -1.05904473, -0.74940235,  0.79686768],\n",
              "        [-0.17263247,  1.84989026, -0.16828394,  0.18793951, -1.70488746,\n",
              "         -0.49692687, -0.11247472,  2.0928379 ,  0.18829597, -0.15145373,\n",
              "          2.76603951,  0.4743964 , -0.19379147,  2.75964832, -0.7834468 ,\n",
              "          1.03478725,  0.01522783, -0.76103858, -1.90783095,  0.38055522,\n",
              "          0.37270116, -0.06942526, -1.4736522 ,  0.29385949,  1.32453323,\n",
              "          1.77876885, -0.0070121 ,  1.66179843],\n",
              "        [ 0.83335233, -1.75198745, -0.21343121, -0.01000327, -1.49981462,\n",
              "         -1.8115138 ,  0.99650051, -0.30418391,  0.47389954, -1.00419382,\n",
              "          0.55696747,  0.89382692, -0.83053825,  0.05939172,  0.36275283,\n",
              "         -2.47936694, -0.05370392,  1.34358604, -0.16809462, -0.2323863 ,\n",
              "          0.30362991, -0.53981082, -1.08094449,  0.36324492,  0.66472712,\n",
              "          0.74281289, -0.13696825, -0.0496443 ],\n",
              "        [-0.14131959,  0.93418607,  1.82016877,  1.43926317, -0.44269417,\n",
              "          0.59885977, -1.0540181 ,  1.58454668, -1.84459638, -0.69512641,\n",
              "         -0.73963068,  0.66596132,  0.53347912, -0.16350989,  0.00392337,\n",
              "         -0.62675064, -0.67438148, -1.3609571 ,  2.2019508 ,  1.06295493,\n",
              "         -3.34531542, -0.40290505,  0.11540415,  0.79167142, -1.04417309,\n",
              "         -1.88131593, -0.82723389, -0.03209836],\n",
              "        [-0.62879826,  0.2015765 ,  0.48559636,  1.60280639,  0.85805845,\n",
              "          1.35701535,  0.75732541, -1.05255486, -0.82104263, -0.39001681,\n",
              "         -1.56974455, -0.65336957, -0.08109399,  0.54088823,  0.75137812,\n",
              "         -0.45064446,  0.91492557,  1.49943887, -0.03036706,  1.04171197,\n",
              "         -0.20239457,  0.82703501, -0.1792833 , -0.01379976, -0.65897131,\n",
              "         -0.30700536,  0.04560167, -0.09294169],\n",
              "        [-0.83156806, -0.98797508, -1.96781123,  0.46470296,  0.37632832,\n",
              "          1.17093627,  0.80689506,  0.3331092 , -0.28320215,  0.15354043,\n",
              "          0.0047498 , -0.69767653,  0.07495992, -0.16272427, -0.67916285,\n",
              "          0.57726336,  1.53246643, -1.14104402,  1.71736562, -0.34083936,\n",
              "          0.96525535,  0.27164504, -0.74876164, -0.19682853,  0.16063213,\n",
              "          0.66966087, -2.29591893, -0.82710723]]),\n",
              " array([[-0.00547564, -0.2375295 ,  0.0163776 , -0.8759958 ,  0.51101451,\n",
              "          1.99928549, -1.29286177,  0.57998295, -0.77433366,  0.95610666],\n",
              "        [ 0.09352666,  0.36670509, -1.10606629,  1.11129998,  0.80646971,\n",
              "         -0.75835087,  1.53141078,  1.23919286,  0.06668596,  1.90982522]])]"
            ]
          },
          "metadata": {
            "tags": []
          },
          "execution_count": 86
        }
      ]
    },
    {
      "metadata": {
        "id": "8iEoIkCaYAOZ",
        "colab_type": "code",
        "colab": {
          "base_uri": "https://localhost:8080/",
          "height": 9557
        },
        "outputId": "478c4e3a-2c88-4339-f716-cd2b5134c6f5"
      },
      "cell_type": "code",
      "source": [
        "N5.show_parameters()"
      ],
      "execution_count": 87,
      "outputs": [
        {
          "output_type": "stream",
          "text": [
            "biases: = [array([[ 1.76405235],\n",
            "       [ 0.40015721],\n",
            "       [ 0.97873798],\n",
            "       [ 2.2408932 ],\n",
            "       [ 1.86755799],\n",
            "       [-0.97727788],\n",
            "       [ 0.95008842],\n",
            "       [-0.15135721],\n",
            "       [-0.10321885],\n",
            "       [ 0.4105985 ],\n",
            "       [ 0.14404357],\n",
            "       [ 1.45427351],\n",
            "       [ 0.76103773],\n",
            "       [ 0.12167502],\n",
            "       [ 0.44386323],\n",
            "       [ 0.33367433],\n",
            "       [ 1.49407907],\n",
            "       [-0.20515826],\n",
            "       [ 0.3130677 ],\n",
            "       [-0.85409574],\n",
            "       [-2.55298982],\n",
            "       [ 0.6536186 ],\n",
            "       [ 0.8644362 ],\n",
            "       [-0.74216502],\n",
            "       [ 2.26975462],\n",
            "       [-1.45436567],\n",
            "       [ 0.04575852],\n",
            "       [-0.18718385],\n",
            "       [ 1.53277921],\n",
            "       [ 1.46935877],\n",
            "       [ 0.15494743],\n",
            "       [ 0.37816252],\n",
            "       [-0.88778575],\n",
            "       [-1.98079647],\n",
            "       [-0.34791215],\n",
            "       [ 0.15634897],\n",
            "       [ 1.23029068],\n",
            "       [ 1.20237985],\n",
            "       [-0.38732682],\n",
            "       [-0.30230275],\n",
            "       [-1.04855297],\n",
            "       [-1.42001794],\n",
            "       [-1.70627019],\n",
            "       [ 1.9507754 ],\n",
            "       [-0.50965218],\n",
            "       [-0.4380743 ],\n",
            "       [-1.25279536],\n",
            "       [ 0.77749036],\n",
            "       [-1.61389785],\n",
            "       [-0.21274028],\n",
            "       [-0.89546656],\n",
            "       [ 0.3869025 ],\n",
            "       [-0.51080514],\n",
            "       [-1.18063218],\n",
            "       [-0.02818223],\n",
            "       [ 0.42833187],\n",
            "       [ 0.06651722],\n",
            "       [ 0.3024719 ],\n",
            "       [-0.63432209],\n",
            "       [-0.36274117],\n",
            "       [-0.67246045],\n",
            "       [-0.35955316],\n",
            "       [-0.81314628],\n",
            "       [-1.7262826 ],\n",
            "       [ 0.17742614],\n",
            "       [-0.40178094],\n",
            "       [-1.63019835],\n",
            "       [ 0.46278226],\n",
            "       [-0.90729836],\n",
            "       [ 0.0519454 ],\n",
            "       [ 0.72909056],\n",
            "       [ 0.12898291],\n",
            "       [ 1.13940068],\n",
            "       [-1.23482582],\n",
            "       [ 0.40234164],\n",
            "       [-0.68481009],\n",
            "       [-0.87079715],\n",
            "       [-0.57884966],\n",
            "       [-0.31155253],\n",
            "       [ 0.05616534],\n",
            "       [-1.16514984],\n",
            "       [ 0.90082649],\n",
            "       [ 0.46566244],\n",
            "       [-1.53624369],\n",
            "       [ 1.48825219],\n",
            "       [ 1.89588918],\n",
            "       [ 1.17877957],\n",
            "       [-0.17992484],\n",
            "       [-1.07075262],\n",
            "       [ 1.05445173],\n",
            "       [-0.40317695],\n",
            "       [ 1.22244507],\n",
            "       [ 0.20827498],\n",
            "       [ 0.97663904],\n",
            "       [ 0.3563664 ],\n",
            "       [ 0.70657317],\n",
            "       [ 0.01050002],\n",
            "       [ 1.78587049],\n",
            "       [ 0.12691209],\n",
            "       [ 0.40198936]]), array([[ 1.8831507 ],\n",
            "       [-1.34775906],\n",
            "       [-1.270485  ],\n",
            "       [ 0.96939671],\n",
            "       [-1.17312341],\n",
            "       [ 1.94362119],\n",
            "       [-0.41361898],\n",
            "       [-0.74745481],\n",
            "       [ 1.92294203],\n",
            "       [ 1.48051479],\n",
            "       [ 1.86755896],\n",
            "       [ 0.90604466],\n",
            "       [-0.86122569],\n",
            "       [ 1.91006495],\n",
            "       [-0.26800337],\n",
            "       [ 0.8024564 ],\n",
            "       [ 0.94725197],\n",
            "       [-0.15501009],\n",
            "       [ 0.61407937],\n",
            "       [ 0.92220667],\n",
            "       [ 0.37642553],\n",
            "       [-1.09940079],\n",
            "       [ 0.29823817],\n",
            "       [ 1.3263859 ],\n",
            "       [-0.69456786],\n",
            "       [-0.14963454],\n",
            "       [-0.43515355],\n",
            "       [ 1.84926373]]), array([[ 0.67229476],\n",
            "       [ 0.40746184],\n",
            "       [-0.76991607],\n",
            "       [ 0.53924919],\n",
            "       [-0.67433266],\n",
            "       [ 0.03183056],\n",
            "       [-0.63584608],\n",
            "       [ 0.67643329],\n",
            "       [ 0.57659082],\n",
            "       [-0.20829876],\n",
            "       [ 0.39600671],\n",
            "       [-1.09306151],\n",
            "       [-1.49125759],\n",
            "       [ 0.4393917 ],\n",
            "       [ 0.1666735 ],\n",
            "       [ 0.63503144],\n",
            "       [ 2.38314477],\n",
            "       [ 0.94447949],\n",
            "       [-0.91282223],\n",
            "       [ 1.11701629],\n",
            "       [-1.31590741],\n",
            "       [-0.4615846 ],\n",
            "       [-0.06824161],\n",
            "       [ 1.71334272],\n",
            "       [-0.74475482],\n",
            "       [-0.82643854],\n",
            "       [-0.09845252],\n",
            "       [-0.66347829]]), array([[ 1.12663592],\n",
            "       [-1.07993151],\n",
            "       [-1.14746865],\n",
            "       [-0.43782004],\n",
            "       [-0.49803245],\n",
            "       [ 1.92953205],\n",
            "       [ 0.94942081],\n",
            "       [ 0.08755124],\n",
            "       [-1.22543552],\n",
            "       [ 0.84436298]]), array([[-1.00021535],\n",
            "       [-1.5447711 ]])]\n",
            "weights: = [array([[ 1.18802979,  0.31694261,  0.92085882, ..., -0.1162297 ,\n",
            "        -0.94748859,  0.24444346],\n",
            "       [ 1.40134483, -0.41038179,  0.52894362, ...,  1.69596953,\n",
            "         0.14180664,  1.83343536],\n",
            "       [ 0.35570352, -0.47728627,  0.46637957, ...,  0.88833886,\n",
            "        -0.52474195, -1.38527758],\n",
            "       ...,\n",
            "       [ 0.51772191,  0.29614841,  0.64386175, ..., -0.55308683,\n",
            "         0.50226349, -0.41758592],\n",
            "       [ 1.27908459,  0.34732134, -0.54816658, ..., -0.77369472,\n",
            "        -0.54268253,  0.56555196],\n",
            "       [-0.58829415, -1.18378546,  1.10897889, ...,  0.48940392,\n",
            "         0.63801808,  0.87204101]]), array([[ 1.37018722, -0.6702002 ,  0.13655736, ...,  0.21798276,\n",
            "        -0.37695813,  0.50386863],\n",
            "       [ 0.54410301,  2.14623608, -0.17545384, ..., -0.8498785 ,\n",
            "         0.96053996, -0.53220822],\n",
            "       [-0.57525681, -0.25496539,  1.03022269, ...,  0.13039084,\n",
            "         1.08547515,  1.71914382],\n",
            "       ...,\n",
            "       [ 1.41323608,  1.6514214 ,  0.1695428 , ..., -0.32180682,\n",
            "        -0.14028154, -1.65058867],\n",
            "       [ 0.08359948,  0.91638632, -2.8156573 , ..., -0.71614283,\n",
            "        -0.52192469,  1.14521922],\n",
            "       [ 0.6020816 , -0.66230347, -0.35407714, ..., -0.29813229,\n",
            "         1.52573658, -0.68870416]]), array([[ 4.32205141e-01,  1.87902358e-02,  3.85197977e-01,\n",
            "        -1.50705919e+00, -8.77329863e-02,  1.60834730e+00,\n",
            "        -7.91949827e-01,  1.77191788e+00, -5.00854657e-01,\n",
            "        -7.70213218e-01,  1.55529970e+00,  2.59561376e-02,\n",
            "         1.34264292e+00,  1.70335482e-02,  5.97286112e-01,\n",
            "        -3.19200218e-01,  6.83511070e-01,  4.57285146e-01,\n",
            "         1.88119570e+00, -2.54704869e+00, -4.79887301e-01,\n",
            "        -4.97252652e-01, -4.89233152e-01, -7.17247963e-01,\n",
            "        -6.41170884e-02, -7.21785776e-02, -2.22501633e+00,\n",
            "        -7.00309845e-01],\n",
            "       [-9.46302976e-01,  5.38772153e-01,  1.17196516e-01,\n",
            "         7.79407973e-01,  9.87354830e-01, -1.27885398e+00,\n",
            "         2.01020228e+00,  1.09913469e-01, -1.42086699e+00,\n",
            "         1.84931396e-01, -2.94438340e-01,  1.15914064e+00,\n",
            "        -2.54030237e-01,  5.33865050e-01,  2.58429956e+00,\n",
            "         4.45153078e-01, -3.50567643e-01, -1.85966466e-01,\n",
            "        -1.78752141e-01, -5.42083501e-02,  1.67064760e+00,\n",
            "         9.63091069e-01,  6.39138661e-01,  1.64428749e+00,\n",
            "         7.18852354e-03, -5.47019406e-01, -2.98284971e-03,\n",
            "        -2.76721811e-02],\n",
            "       [-1.67775346e+00, -8.23140091e-01, -1.22972811e+00,\n",
            "        -7.36201440e-01,  1.13120518e+00, -3.95909024e-01,\n",
            "         2.92863976e-01,  2.56736493e-02, -9.43684084e-01,\n",
            "        -8.66808421e-01,  1.71951188e-01,  1.76002503e+00,\n",
            "        -3.09759547e-01, -7.26174009e-01, -8.94311650e-02,\n",
            "         2.08796071e+00, -1.08272959e+00,  1.16963448e+00,\n",
            "        -1.89288524e+00, -1.40667666e+00, -1.64610800e+00,\n",
            "         9.34822279e-02, -5.29018984e-02,  1.75429488e-01,\n",
            "        -4.25082660e-01, -1.60054017e+00,  2.29856313e-01,\n",
            "        -5.02617816e-01],\n",
            "       [ 1.57595802e+00,  1.04793552e+00, -1.39234940e+00,\n",
            "         1.54115094e+00,  5.45004284e-01, -1.59578121e+00,\n",
            "         7.83559634e-03, -1.02350746e+00,  1.44552720e+00,\n",
            "         2.51607932e-01, -5.99099576e-03,  5.10389063e-01,\n",
            "         6.15239870e-01, -1.13357103e-01,  4.52356754e-02,\n",
            "         8.75083176e-01, -1.55082222e+00, -8.83082970e-01,\n",
            "         2.08012643e-01,  1.76873852e-02,  9.35079504e-04,\n",
            "         3.64314767e-01, -3.42586834e-01, -1.13893323e+00,\n",
            "         2.67998912e-01, -2.35141733e-01, -3.74302873e-01,\n",
            "        -2.96739126e-01],\n",
            "       [-3.94970390e-01, -1.20745475e+00, -1.53311424e+00,\n",
            "         1.05374948e+00, -6.97369919e-01, -3.97994315e-01,\n",
            "         9.71078000e-01,  1.48633184e-01,  7.27675902e-01,\n",
            "        -3.58997446e-01,  1.36130853e-01,  5.94256356e-01,\n",
            "        -1.11735243e+00,  1.16281480e-01,  1.70878775e-01,\n",
            "        -9.08165074e-01, -1.23233106e+00, -2.04387255e-01,\n",
            "        -9.50539205e-01, -1.72094460e+00,  7.69074240e-02,\n",
            "         3.73951838e-01, -9.55945598e-01,  6.21520446e-01,\n",
            "         5.83591099e-01,  2.18238531e+00, -1.19714875e+00,\n",
            "         4.83235892e-01],\n",
            "       [ 6.31784055e-01, -8.39976143e-01, -8.45788295e-01,\n",
            "        -2.45326911e-01, -1.36626160e+00,  2.25995480e-01,\n",
            "        -8.71108504e-01, -1.00888857e+00, -7.95122464e-02,\n",
            "        -2.74966703e-01, -1.45047180e+00, -1.17351571e+00,\n",
            "        -1.12335591e-01, -1.22691144e+00, -8.25081311e-01,\n",
            "         3.31604473e-02,  1.84412688e+00,  6.90236863e-01,\n",
            "         6.50219435e-01,  4.80284856e-01, -4.36160064e-01,\n",
            "        -1.94810823e+00, -9.51403637e-01, -1.01431131e+00,\n",
            "         4.54054109e-01, -1.03251776e+00, -1.13550255e-01,\n",
            "         8.38474837e-01],\n",
            "       [-1.32124937e-01, -1.83486253e+00, -9.09659486e-01,\n",
            "        -6.61195365e-02, -1.17737091e+00, -2.65521824e-01,\n",
            "        -1.02263617e+00,  1.79314070e+00, -5.63865398e-01,\n",
            "        -8.70071614e-01,  1.03127793e-01, -3.81865838e-01,\n",
            "         9.45378754e-01,  2.72222827e-01, -4.88306311e-01,\n",
            "        -7.42580823e-01,  3.95473839e-01,  3.54139838e+00,\n",
            "         1.14225769e+00, -1.17706565e-01, -1.32075763e+00,\n",
            "        -4.20067314e-01, -9.33831250e-01,  4.87485001e-01,\n",
            "        -7.14615268e-01,  5.77251302e-01, -2.51796931e-01,\n",
            "        -5.34973237e-01],\n",
            "       [ 9.66262183e-01, -6.39875699e-01, -2.92855293e-01,\n",
            "         3.57421646e-01, -1.01931237e+00, -5.64744296e-01,\n",
            "         1.34398980e+00,  9.46744073e-01, -1.89943202e+00,\n",
            "        -2.37637823e+00, -1.55165066e-02,  9.33364833e-01,\n",
            "         1.25605859e+00, -5.71326327e-01, -1.11391865e+00,\n",
            "        -6.12596509e-01, -1.56792832e+00,  2.05490275e+00,\n",
            "        -7.71384333e-01, -5.55798682e-01, -5.58576705e-01,\n",
            "         1.26595258e-01,  9.49757553e-01, -1.68627445e+00,\n",
            "         4.15904939e-01,  1.63515663e+00, -1.09961003e+00,\n",
            "         1.30542748e-01],\n",
            "       [ 2.13226763e-01,  2.19350925e-01,  1.17114676e-01,\n",
            "        -2.91868557e+00, -1.68574292e+00,  1.23804049e+00,\n",
            "         1.48841013e-01, -5.62833809e-01,  1.22091958e+00,\n",
            "        -1.05821576e+00, -4.04657034e-01,  1.28291661e-01,\n",
            "        -8.33608334e-01,  6.62867482e-01, -6.34309938e-01,\n",
            "         4.89528980e-01, -1.57283542e+00,  1.17427366e-01,\n",
            "        -1.09893094e+00,  7.62388014e-01,  6.36485226e-01,\n",
            "        -1.33941110e+00, -9.57736784e-01,  1.25310230e+00,\n",
            "        -6.81913992e-03, -1.09971947e+00,  5.82205359e-01,\n",
            "        -8.81137975e-01],\n",
            "       [-9.19853220e-01, -7.41320983e-02,  4.54016831e-02,\n",
            "         2.21051119e-01, -3.38945044e-01,  2.94586364e-01,\n",
            "         1.69044384e+00,  2.29566275e-01,  3.17421067e-01,\n",
            "         8.40056060e-01, -5.02561017e-01,  4.23013497e-01,\n",
            "         2.00977529e+00, -6.06290003e-01, -1.38625650e+00,\n",
            "        -1.66984778e+00,  5.71262304e-01,  1.84695965e-01,\n",
            "         1.38176200e+00, -4.76484969e-01,  6.59929303e-02,\n",
            "         3.07566492e-01,  2.13604138e+00, -3.80743787e-01,\n",
            "        -2.04112175e-01,  4.06563776e-01, -1.41170672e+00,\n",
            "        -2.05151726e-01],\n",
            "       [ 6.11149596e-01, -4.61966977e-01, -3.57672574e-01,\n",
            "         2.07850801e-02,  5.70774932e-01, -5.52752667e-01,\n",
            "        -1.32718973e-01,  1.02024936e+00,  6.72501219e-01,\n",
            "        -1.99592708e-01,  4.11694907e-01,  1.32011464e+00,\n",
            "        -8.51142504e-01, -4.21682737e-01,  1.09850102e+00,\n",
            "         5.23959666e-01,  1.67386460e+00,  1.09525980e+00,\n",
            "        -4.17631359e-01,  6.74668175e-01,  2.04599502e+00,\n",
            "         9.36113484e-01,  5.84919249e-01, -8.18787218e-01,\n",
            "        -8.11285361e-01,  6.14925752e-01, -6.63344313e-03,\n",
            "        -8.00343811e-01],\n",
            "       [ 6.57561530e-02,  3.93953350e-01,  1.36158578e-01,\n",
            "        -1.20893500e+00, -2.61560423e-01,  9.46310252e-01,\n",
            "        -1.80614283e+00,  1.64064246e+00,  1.36826484e+00,\n",
            "         6.32474774e-01,  2.78652540e+00, -1.13033018e+00,\n",
            "         3.89420510e-01, -7.82135251e-02, -1.01140867e+00,\n",
            "        -6.27472128e-01,  5.24572176e-01, -1.50631634e+00,\n",
            "        -1.99224292e+00,  3.58477746e-01,  5.16646860e-01,\n",
            "        -1.85736861e-01, -8.54259978e-01, -9.65004625e-01,\n",
            "         4.23440804e-01, -3.07488394e-01, -1.79312554e+00,\n",
            "        -1.59892171e+00],\n",
            "       [-3.56794320e-01,  1.45461539e+00,  6.84412210e-01,\n",
            "         5.10796751e-01, -3.91141836e-02, -1.40227555e+00,\n",
            "         3.94605425e-01,  6.23007477e-01,  3.57550027e-01,\n",
            "         6.45606562e-01, -8.24464556e-01,  1.62848269e+00,\n",
            "         1.31061174e+00,  5.42526719e-01, -4.68281071e-02,\n",
            "        -1.05316682e-01,  1.58295748e+00,  2.14374211e+00,\n",
            "        -2.63314567e+00, -8.83435959e-01, -5.80697286e-02,\n",
            "        -2.57389390e-01, -1.04128113e+00, -9.00321869e-01,\n",
            "        -2.23902776e+00, -1.46511092e+00, -1.49953470e-01,\n",
            "         3.56086535e-01],\n",
            "       [-8.71130053e-01,  4.42838310e-01, -7.42675503e-01,\n",
            "         1.91994043e+00, -1.38917641e-01,  8.84038095e-01,\n",
            "        -8.46645465e-02,  1.15194370e+00,  6.51289649e-01,\n",
            "         4.41773837e-01,  5.23772667e-01, -7.88306435e-02,\n",
            "        -1.03780011e+00, -1.44220439e-02,  3.27482719e+00,\n",
            "        -4.56331363e-01,  1.81278030e-01,  1.09210744e+00,\n",
            "        -1.08140773e+00, -7.82126653e-01, -3.94978066e-01,\n",
            "        -3.07371275e-01, -4.65167939e-01, -1.07832561e-01,\n",
            "         8.26316746e-01,  1.23883108e+00, -9.84496945e-02,\n",
            "        -9.56788109e-01],\n",
            "       [-2.13121255e-01,  4.68172747e-01, -8.75545472e-01,\n",
            "        -3.47737269e-01, -3.60994890e-01,  2.88379618e-01,\n",
            "        -1.54382224e-01,  1.06868254e+00, -1.20549824e+00,\n",
            "        -2.61697757e-01, -2.44036500e-01,  3.48761543e-01,\n",
            "         3.59159707e-01,  8.64745414e-01,  4.54029441e-02,\n",
            "         1.39714220e+00,  4.09108977e-01, -1.13747063e+00,\n",
            "         3.73755881e-01,  7.58722594e-02, -1.33651012e+00,\n",
            "         3.25042969e-01, -2.30530317e+00, -6.68937637e-02,\n",
            "        -1.00831940e+00, -7.52742408e-01, -7.35832601e-03,\n",
            "         4.52372568e-01],\n",
            "       [ 1.38343582e+00,  1.52749735e+00,  5.20699758e-01,\n",
            "        -1.82943570e-01,  1.92680725e+00,  1.70417472e+00,\n",
            "         1.23954504e+00,  8.00104855e-01, -6.45682613e-01,\n",
            "         1.71938378e-01, -1.19802239e+00,  1.65790931e-01,\n",
            "        -3.87878336e-01,  1.86910678e-01, -5.59290827e-01,\n",
            "        -5.45833162e-01, -7.45009957e-01, -3.16931208e-02,\n",
            "        -6.18060669e-02,  3.83544804e-01,  4.21758414e-01,\n",
            "         1.12069940e+00, -4.46599539e-01,  1.75115170e+00,\n",
            "         1.31760248e+00, -1.58225619e+00,  1.20878542e+00,\n",
            "        -6.55139742e-02],\n",
            "       [-2.71492077e-01, -1.01728534e+00,  8.88584142e-01,\n",
            "         6.08928732e-01,  7.09764838e-01, -1.04006958e+00,\n",
            "         7.56069272e-01, -1.52736033e-01, -7.20087675e-02,\n",
            "         2.00480289e+00,  9.77690770e-01,  1.84293626e+00,\n",
            "         5.95131820e-01,  9.63817312e-01, -1.40973299e+00,\n",
            "         9.14397901e-01, -6.31860897e-01,  3.10889811e-01,\n",
            "        -1.03076703e+00,  1.59386895e+00,  1.31463820e-01,\n",
            "         1.37171263e-01,  2.29989405e+00, -1.15449334e+00,\n",
            "         9.43688542e-01, -1.26867764e-01,  2.50430992e+00,\n",
            "         1.90207540e+00],\n",
            "       [ 1.07692750e-02, -6.74415718e-01,  4.01128938e-01,\n",
            "         3.62380278e-01,  1.76628761e+00, -9.01919605e-01,\n",
            "         2.08988169e-01,  7.88509666e-01,  1.73453793e-01,\n",
            "         1.32887222e+00, -1.65794549e+00,  1.59106573e+00,\n",
            "         4.59295414e-01,  1.38537429e+00, -4.12280455e-01,\n",
            "        -6.96476474e-01,  1.02895200e-01, -2.32742473e-01,\n",
            "         1.39804412e+00, -2.94389914e-01, -1.66864648e-01,\n",
            "         7.43555815e-01,  1.97208305e-01,  6.50997924e-01,\n",
            "         2.04809085e-01,  6.40973035e-01,  8.38581235e-02,\n",
            "         9.07540630e-01],\n",
            "       [-1.01006529e+00, -8.15973254e-01,  1.17705388e+00,\n",
            "        -1.17669517e+00, -4.89740613e-01,  1.57400536e+00,\n",
            "        -5.03905835e-01, -5.65376334e-03,  1.23508100e+00,\n",
            "         1.93533545e+00,  7.99289468e-01,  1.17647266e+00,\n",
            "         5.10262363e-01,  1.33155290e-01,  1.68013607e+00,\n",
            "        -1.46387090e+00, -1.43180880e+00,  7.31658632e-01,\n",
            "        -7.76355068e-02,  1.32610026e-01,  1.32191941e+00,\n",
            "        -1.29261056e+00,  5.35217155e-01,  2.41390037e-01,\n",
            "        -5.88057041e-01, -1.62522398e+00, -2.03953836e-01,\n",
            "        -2.27719324e-01],\n",
            "       [-7.86640552e-01,  4.78176464e-01, -2.25178626e-01,\n",
            "         4.53152379e-01, -1.59624780e+00,  1.47342301e+00,\n",
            "         5.24716799e-01,  1.35227227e+00,  8.86668926e-01,\n",
            "         1.17170113e+00,  4.08867249e-01,  2.36600752e+00,\n",
            "         4.08956722e-01, -2.06575306e-01,  1.22084664e+00,\n",
            "         1.66042771e+00, -8.56234661e-01,  3.40539329e-01,\n",
            "         6.47998581e-02,  8.28751864e-01, -6.68299813e-01,\n",
            "         9.12804473e-01,  8.96005817e-01, -5.78395388e-01,\n",
            "        -1.86370403e+00,  9.89514304e-01,  1.82713349e-01,\n",
            "         3.51861647e-01],\n",
            "       [ 5.79146607e-01, -6.66062686e-01, -6.76050052e-01,\n",
            "         2.83272000e-01, -3.86872807e-01, -6.56448982e-01,\n",
            "        -5.22109443e-01,  1.22645605e+00, -1.32060971e+00,\n",
            "        -2.15260748e+00,  3.47669090e-01,  3.22079339e-01,\n",
            "        -7.06526327e-01,  1.23288676e+00, -4.74791215e-02,\n",
            "         6.00205034e-01, -6.55934696e-01, -1.14998108e+00,\n",
            "        -2.27160189e-01,  7.75771581e-02,  1.40951399e+00,\n",
            "         3.24590829e-01, -6.88197007e-01, -1.13373589e+00,\n",
            "        -4.69832109e-01,  2.08422124e-02, -2.03914656e-01,\n",
            "         6.45831327e-01],\n",
            "       [-1.94585030e-01, -2.23496656e-01, -4.03634764e-01,\n",
            "        -1.00623388e-01, -5.89381264e-01, -3.85136233e-01,\n",
            "         6.80410940e-01, -2.28451526e-01,  1.59718225e+00,\n",
            "        -5.36500706e-01,  3.08223748e-01,  5.07353980e-01,\n",
            "         1.66785380e-01,  5.21652923e-01, -5.11200179e-01,\n",
            "        -2.39816614e+00, -5.50883388e-01, -4.44712387e-01,\n",
            "        -1.62675948e-01,  1.06502634e-01,  2.49057955e-01,\n",
            "        -6.60564778e-01,  1.80701229e-01,  9.92602072e-01,\n",
            "        -1.14325899e+00, -6.87473328e-01, -8.78316438e-02,\n",
            "         1.00726506e+00],\n",
            "       [ 1.50955215e+00, -1.65709119e+00, -3.36621092e+00,\n",
            "         3.64482342e-01,  9.87786950e-01,  1.38112591e+00,\n",
            "         1.46974504e-01,  6.53483924e-01, -1.99526364e+00,\n",
            "        -6.51077167e-01, -7.77479834e-01,  1.45204991e+00,\n",
            "         2.09236882e-01,  4.91997146e-01,  1.67722985e-01,\n",
            "         6.89991669e-01, -3.61889873e-01,  2.96419241e-01,\n",
            "        -2.19228998e+00, -2.84699453e+00,  1.24992555e+00,\n",
            "        -3.05695812e-01,  2.33021170e-01,  1.86499961e+00,\n",
            "         6.18499550e-01,  5.36995077e-03,  3.03259318e-01,\n",
            "         1.44347304e+00],\n",
            "       [ 7.93637700e-01,  1.96966112e-01, -1.30817558e+00,\n",
            "        -1.25626113e+00, -2.04275656e+00,  8.93239948e-01,\n",
            "        -4.13222213e-01,  1.30459540e+00, -9.86791718e-01,\n",
            "         1.99500553e-01, -1.78601894e+00,  7.44164584e-01,\n",
            "        -3.48623731e-01,  7.34504136e-02, -1.03100961e+00,\n",
            "         2.61902250e+00, -2.77589151e-01,  9.63361512e-01,\n",
            "         1.51105829e+00, -8.51804323e-01, -3.76151445e-01,\n",
            "        -1.68687869e-01,  2.58224437e-01, -1.11595612e-01,\n",
            "        -7.01602681e-01, -4.88600747e-01,  2.95433799e-01,\n",
            "        -7.91686769e-01],\n",
            "       [-1.04438117e+00, -1.26030086e+00,  9.91433544e-01,\n",
            "        -1.00039279e+00,  1.24667659e+00, -2.28591485e+00,\n",
            "         9.92685344e-01, -6.22835838e-01,  2.32824710e-01,\n",
            "         1.54684378e-01, -1.45454616e+00, -3.57813153e-01,\n",
            "        -7.59059230e-01, -2.15698625e+00, -8.81825639e-01,\n",
            "         6.97879348e-01, -2.11742979e+00,  7.13024736e-01,\n",
            "        -3.26385416e-01,  1.42760151e+00,  9.87741608e-01,\n",
            "         5.40917750e-01,  1.09514862e+00,  1.22024318e-01,\n",
            "        -1.73211888e+00,  4.44734859e-01,  6.61624732e-01,\n",
            "        -1.38165192e+00],\n",
            "       [ 8.12936352e-01, -5.15439242e-01,  1.15748238e+00,\n",
            "         2.62863452e+00, -5.05014630e-01,  3.40219772e+00,\n",
            "         1.42163024e+00, -1.01836184e+00, -3.88437823e-01,\n",
            "         8.39550942e-01, -2.10597573e-01,  4.74067702e-01,\n",
            "        -8.42759788e-02, -1.94110863e+00,  4.35227349e-01,\n",
            "        -1.35423977e-01, -9.02477990e-01,  7.74913680e-01,\n",
            "        -4.86267856e-01, -1.89729776e+00, -4.91729996e-01,\n",
            "        -7.48297562e-02,  9.85403228e-01,  2.50927866e-01,\n",
            "         8.05861069e-01,  1.15760658e-01,  7.86357994e-01,\n",
            "         1.46005593e+00],\n",
            "       [ 1.12364868e+00,  2.33487110e+00, -5.76702813e-01,\n",
            "        -6.70231968e-01, -1.20233459e+00,  5.14266643e-01,\n",
            "         2.14952011e-01,  6.35556650e-01,  1.54296491e+00,\n",
            "        -2.10393590e-01,  3.80451523e-01,  6.27384171e-01,\n",
            "         3.16968015e-01,  3.26550760e-01, -3.10470795e-01,\n",
            "         1.52064728e+00,  1.28344777e+00, -1.04036293e+00,\n",
            "        -7.31864442e-01, -5.68017960e-01, -1.31751014e+00,\n",
            "         1.11222514e-02,  1.48605727e-02, -8.37772022e-02,\n",
            "        -1.08116984e-01, -1.16733950e+00,  5.00895056e-01,\n",
            "        -8.86456509e-01],\n",
            "       [ 4.72447761e-01, -4.36774608e-02,  1.71529750e-01,\n",
            "        -3.52559236e-01, -9.35209903e-01,  3.69044788e-01,\n",
            "         1.90658776e+00, -1.35379044e+00,  1.18243225e+00,\n",
            "        -9.41988431e-01,  1.80684604e-01, -2.38897833e-01,\n",
            "        -4.78864033e-01,  9.93843285e-01, -4.29314435e-01,\n",
            "        -9.02140822e-01, -1.07213941e+00, -3.39044269e-01,\n",
            "        -1.45788442e+00,  1.41328522e+00,  5.69763769e-01,\n",
            "        -2.35999305e+00, -2.96674746e-01,  9.82429896e-01,\n",
            "        -3.05621398e-01, -1.20842677e+00, -4.50872610e-01,\n",
            "        -6.14468138e-01]]), array([[-0.2360159 ,  1.359788  , -0.64650955, -0.30633157, -0.30361436,\n",
            "        -1.14228307, -1.6548138 ,  0.36590831, -0.6401305 , -1.05364011,\n",
            "         0.88428503,  1.06398098, -0.7625054 ,  0.70678679, -1.80954385,\n",
            "         1.60550145,  1.957821  , -0.01465305,  0.16075279,  0.06343274,\n",
            "         0.96843183, -0.60583606,  1.06712135, -0.15466844, -0.46905848,\n",
            "         1.09747585, -0.35869156, -0.52395795],\n",
            "       [ 2.16670263, -0.63924846, -0.59023478, -0.5282523 ,  1.40304838,\n",
            "         0.56516949, -0.24701327, -1.35285039,  0.7387407 , -1.30539692,\n",
            "         0.44597739,  0.62482565, -0.41021091, -1.47064527, -0.17198338,\n",
            "         0.61541829, -0.19186887,  0.7560841 ,  0.22325499, -0.46263014,\n",
            "         1.86543481,  0.4972398 , -1.49839678,  2.15952746,  0.46658036,\n",
            "         0.08849452, -1.16196517, -0.27651173],\n",
            "       [-0.17155379, -0.35186539, -0.94612417, -1.14573222,  1.20263084,\n",
            "         2.45954743,  0.40141167,  0.69026577, -0.26631098, -1.36056329,\n",
            "        -0.50549633, -0.44621182, -0.69518324,  0.66642153, -0.18485144,\n",
            "        -1.68238325, -0.39475369, -1.25049129,  0.6512747 ,  0.17472643,\n",
            "        -0.03487888, -1.11687714, -2.11646861, -0.65738253, -0.45576692,\n",
            "         0.44831809, -0.328087  ,  1.15379999],\n",
            "       [ 0.65817904, -0.17870445, -0.62577194, -0.25630525,  1.06473355,\n",
            "        -0.67763666, -0.04418947,  0.83031171, -0.65852879, -1.79517695,\n",
            "        -0.48608224, -1.26393747,  0.82705376, -1.55560816,  0.41407206,\n",
            "        -1.37182596, -0.47675102, -0.76378995,  0.22452944, -0.26848698,\n",
            "         0.98436921, -0.50938191, -0.81652989, -0.06539588,  1.18302292,\n",
            "        -0.54257263,  2.05627287, -0.56104326],\n",
            "       [-0.59771231,  0.93813513, -0.25073412, -0.39265683,  0.69799667,\n",
            "        -1.93924747, -0.55212441, -0.94582778, -1.1004375 , -1.65740975,\n",
            "        -2.43887817,  0.72813013,  1.32624334, -0.39522137, -1.27610657,\n",
            "        -0.44631761, -0.19967565,  0.04602037, -1.83954472,  0.83583454,\n",
            "         0.07760338,  0.38442223,  0.23539074, -0.54479431,  0.91984011,\n",
            "        -1.05904473, -0.74940235,  0.79686768],\n",
            "       [-0.17263247,  1.84989026, -0.16828394,  0.18793951, -1.70488746,\n",
            "        -0.49692687, -0.11247472,  2.0928379 ,  0.18829597, -0.15145373,\n",
            "         2.76603951,  0.4743964 , -0.19379147,  2.75964832, -0.7834468 ,\n",
            "         1.03478725,  0.01522783, -0.76103858, -1.90783095,  0.38055522,\n",
            "         0.37270116, -0.06942526, -1.4736522 ,  0.29385949,  1.32453323,\n",
            "         1.77876885, -0.0070121 ,  1.66179843],\n",
            "       [ 0.83335233, -1.75198745, -0.21343121, -0.01000327, -1.49981462,\n",
            "        -1.8115138 ,  0.99650051, -0.30418391,  0.47389954, -1.00419382,\n",
            "         0.55696747,  0.89382692, -0.83053825,  0.05939172,  0.36275283,\n",
            "        -2.47936694, -0.05370392,  1.34358604, -0.16809462, -0.2323863 ,\n",
            "         0.30362991, -0.53981082, -1.08094449,  0.36324492,  0.66472712,\n",
            "         0.74281289, -0.13696825, -0.0496443 ],\n",
            "       [-0.14131959,  0.93418607,  1.82016877,  1.43926317, -0.44269417,\n",
            "         0.59885977, -1.0540181 ,  1.58454668, -1.84459638, -0.69512641,\n",
            "        -0.73963068,  0.66596132,  0.53347912, -0.16350989,  0.00392337,\n",
            "        -0.62675064, -0.67438148, -1.3609571 ,  2.2019508 ,  1.06295493,\n",
            "        -3.34531542, -0.40290505,  0.11540415,  0.79167142, -1.04417309,\n",
            "        -1.88131593, -0.82723389, -0.03209836],\n",
            "       [-0.62879826,  0.2015765 ,  0.48559636,  1.60280639,  0.85805845,\n",
            "         1.35701535,  0.75732541, -1.05255486, -0.82104263, -0.39001681,\n",
            "        -1.56974455, -0.65336957, -0.08109399,  0.54088823,  0.75137812,\n",
            "        -0.45064446,  0.91492557,  1.49943887, -0.03036706,  1.04171197,\n",
            "        -0.20239457,  0.82703501, -0.1792833 , -0.01379976, -0.65897131,\n",
            "        -0.30700536,  0.04560167, -0.09294169],\n",
            "       [-0.83156806, -0.98797508, -1.96781123,  0.46470296,  0.37632832,\n",
            "         1.17093627,  0.80689506,  0.3331092 , -0.28320215,  0.15354043,\n",
            "         0.0047498 , -0.69767653,  0.07495992, -0.16272427, -0.67916285,\n",
            "         0.57726336,  1.53246643, -1.14104402,  1.71736562, -0.34083936,\n",
            "         0.96525535,  0.27164504, -0.74876164, -0.19682853,  0.16063213,\n",
            "         0.66966087, -2.29591893, -0.82710723]]), array([[-0.00547564, -0.2375295 ,  0.0163776 , -0.8759958 ,  0.51101451,\n",
            "         1.99928549, -1.29286177,  0.57998295, -0.77433366,  0.95610666],\n",
            "       [ 0.09352666,  0.36670509, -1.10606629,  1.11129998,  0.80646971,\n",
            "        -0.75835087,  1.53141078,  1.23919286,  0.06668596,  1.90982522]])]\n"
          ],
          "name": "stdout"
        }
      ]
    },
    {
      "metadata": {
        "id": "HUu9aQG6YAOc",
        "colab_type": "text"
      },
      "cell_type": "markdown",
      "source": [
        "### Input data: X\n",
        "> X : (1,768) -> (768,100) -> (100,28) -> (28,28) -> (28,10) -> (10,1) -> (1,1)"
      ]
    },
    {
      "metadata": {
        "id": "BzYuPKkXYAOc",
        "colab_type": "code",
        "colab": {
          "base_uri": "https://localhost:8080/",
          "height": 3545
        },
        "outputId": "7eef5f5e-192c-4575-91d2-b150a052551a"
      },
      "cell_type": "code",
      "source": [
        "np.random.seed(0)\n",
        "xin = np.random.randn(784)\n",
        "xin"
      ],
      "execution_count": 88,
      "outputs": [
        {
          "output_type": "execute_result",
          "data": {
            "text/plain": [
              "array([ 1.76405235e+00,  4.00157208e-01,  9.78737984e-01,  2.24089320e+00,\n",
              "        1.86755799e+00, -9.77277880e-01,  9.50088418e-01, -1.51357208e-01,\n",
              "       -1.03218852e-01,  4.10598502e-01,  1.44043571e-01,  1.45427351e+00,\n",
              "        7.61037725e-01,  1.21675016e-01,  4.43863233e-01,  3.33674327e-01,\n",
              "        1.49407907e+00, -2.05158264e-01,  3.13067702e-01, -8.54095739e-01,\n",
              "       -2.55298982e+00,  6.53618595e-01,  8.64436199e-01, -7.42165020e-01,\n",
              "        2.26975462e+00, -1.45436567e+00,  4.57585173e-02, -1.87183850e-01,\n",
              "        1.53277921e+00,  1.46935877e+00,  1.54947426e-01,  3.78162520e-01,\n",
              "       -8.87785748e-01, -1.98079647e+00, -3.47912149e-01,  1.56348969e-01,\n",
              "        1.23029068e+00,  1.20237985e+00, -3.87326817e-01, -3.02302751e-01,\n",
              "       -1.04855297e+00, -1.42001794e+00, -1.70627019e+00,  1.95077540e+00,\n",
              "       -5.09652182e-01, -4.38074302e-01, -1.25279536e+00,  7.77490356e-01,\n",
              "       -1.61389785e+00, -2.12740280e-01, -8.95466561e-01,  3.86902498e-01,\n",
              "       -5.10805138e-01, -1.18063218e+00, -2.81822283e-02,  4.28331871e-01,\n",
              "        6.65172224e-02,  3.02471898e-01, -6.34322094e-01, -3.62741166e-01,\n",
              "       -6.72460448e-01, -3.59553162e-01, -8.13146282e-01, -1.72628260e+00,\n",
              "        1.77426142e-01, -4.01780936e-01, -1.63019835e+00,  4.62782256e-01,\n",
              "       -9.07298364e-01,  5.19453958e-02,  7.29090562e-01,  1.28982911e-01,\n",
              "        1.13940068e+00, -1.23482582e+00,  4.02341641e-01, -6.84810091e-01,\n",
              "       -8.70797149e-01, -5.78849665e-01, -3.11552532e-01,  5.61653422e-02,\n",
              "       -1.16514984e+00,  9.00826487e-01,  4.65662440e-01, -1.53624369e+00,\n",
              "        1.48825219e+00,  1.89588918e+00,  1.17877957e+00, -1.79924836e-01,\n",
              "       -1.07075262e+00,  1.05445173e+00, -4.03176947e-01,  1.22244507e+00,\n",
              "        2.08274978e-01,  9.76639036e-01,  3.56366397e-01,  7.06573168e-01,\n",
              "        1.05000207e-02,  1.78587049e+00,  1.26912093e-01,  4.01989363e-01,\n",
              "        1.88315070e+00, -1.34775906e+00, -1.27048500e+00,  9.69396708e-01,\n",
              "       -1.17312341e+00,  1.94362119e+00, -4.13618981e-01, -7.47454811e-01,\n",
              "        1.92294203e+00,  1.48051479e+00,  1.86755896e+00,  9.06044658e-01,\n",
              "       -8.61225685e-01,  1.91006495e+00, -2.68003371e-01,  8.02456396e-01,\n",
              "        9.47251968e-01, -1.55010093e-01,  6.14079370e-01,  9.22206672e-01,\n",
              "        3.76425531e-01, -1.09940079e+00,  2.98238174e-01,  1.32638590e+00,\n",
              "       -6.94567860e-01, -1.49634540e-01, -4.35153552e-01,  1.84926373e+00,\n",
              "        6.72294757e-01,  4.07461836e-01, -7.69916074e-01,  5.39249191e-01,\n",
              "       -6.74332661e-01,  3.18305583e-02, -6.35846078e-01,  6.76433295e-01,\n",
              "        5.76590817e-01, -2.08298756e-01,  3.96006713e-01, -1.09306151e+00,\n",
              "       -1.49125759e+00,  4.39391701e-01,  1.66673495e-01,  6.35031437e-01,\n",
              "        2.38314477e+00,  9.44479487e-01, -9.12822225e-01,  1.11701629e+00,\n",
              "       -1.31590741e+00, -4.61584605e-01, -6.82416053e-02,  1.71334272e+00,\n",
              "       -7.44754822e-01, -8.26438539e-01, -9.84525244e-02, -6.63478286e-01,\n",
              "        1.12663592e+00, -1.07993151e+00, -1.14746865e+00, -4.37820045e-01,\n",
              "       -4.98032451e-01,  1.92953205e+00,  9.49420807e-01,  8.75512414e-02,\n",
              "       -1.22543552e+00,  8.44362976e-01, -1.00021535e+00, -1.54477110e+00,\n",
              "        1.18802979e+00,  3.16942612e-01,  9.20858824e-01,  3.18727653e-01,\n",
              "        8.56830612e-01, -6.51025593e-01, -1.03424284e+00,  6.81594518e-01,\n",
              "       -8.03409664e-01, -6.89549778e-01, -4.55532504e-01,  1.74791590e-02,\n",
              "       -3.53993911e-01, -1.37495129e+00, -6.43618403e-01, -2.22340315e+00,\n",
              "        6.25231451e-01, -1.60205766e+00, -1.10438334e+00,  5.21650793e-02,\n",
              "       -7.39562996e-01,  1.54301460e+00, -1.29285691e+00,  2.67050869e-01,\n",
              "       -3.92828182e-02, -1.16809350e+00,  5.23276661e-01, -1.71546331e-01,\n",
              "        7.71790551e-01,  8.23504154e-01,  2.16323595e+00,  1.33652795e+00,\n",
              "       -3.69181838e-01, -2.39379178e-01,  1.09965960e+00,  6.55263731e-01,\n",
              "        6.40131526e-01, -1.61695604e+00, -2.43261244e-02, -7.38030909e-01,\n",
              "        2.79924599e-01, -9.81503896e-02,  9.10178908e-01,  3.17218215e-01,\n",
              "        7.86327962e-01, -4.66419097e-01, -9.44446256e-01, -4.10049693e-01,\n",
              "       -1.70204139e-02,  3.79151736e-01,  2.25930895e+00, -4.22571517e-02,\n",
              "       -9.55945000e-01, -3.45981776e-01, -4.63595975e-01,  4.81481474e-01,\n",
              "       -1.54079701e+00,  6.32619942e-02,  1.56506538e-01,  2.32181036e-01,\n",
              "       -5.97316069e-01, -2.37921730e-01, -1.42406091e+00, -4.93319883e-01,\n",
              "       -5.42861476e-01,  4.16050046e-01, -1.15618243e+00,  7.81198102e-01,\n",
              "        1.49448454e+00, -2.06998503e+00,  4.26258731e-01,  6.76908035e-01,\n",
              "       -6.37437026e-01, -3.97271814e-01, -1.32880578e-01, -2.97790879e-01,\n",
              "       -3.09012969e-01, -1.67600381e+00,  1.15233156e+00,  1.07961859e+00,\n",
              "       -8.13364259e-01, -1.46642433e+00,  5.21064876e-01, -5.75787970e-01,\n",
              "        1.41953163e-01, -3.19328417e-01,  6.91538751e-01,  6.94749144e-01,\n",
              "       -7.25597378e-01, -1.38336396e+00, -1.58293840e+00,  6.10379379e-01,\n",
              "       -1.18885926e+00, -5.06816354e-01, -5.96314038e-01, -5.25672963e-02,\n",
              "       -1.93627981e+00,  1.88778597e-01,  5.23891024e-01,  8.84220870e-02,\n",
              "       -3.10886172e-01,  9.74001663e-02,  3.99046346e-01, -2.77259276e+00,\n",
              "        1.95591231e+00,  3.90093323e-01, -6.52408582e-01, -3.90953375e-01,\n",
              "        4.93741777e-01, -1.16103939e-01, -2.03068447e+00,  2.06449286e+00,\n",
              "       -1.10540657e-01,  1.02017271e+00, -6.92049848e-01,  1.53637705e+00,\n",
              "        2.86343689e-01,  6.08843834e-01, -1.04525337e+00,  1.21114529e+00,\n",
              "        6.89818165e-01,  1.30184623e+00, -6.28087560e-01, -4.81027118e-01,\n",
              "        2.30391670e+00, -1.06001582e+00, -1.35949701e-01,  1.13689136e+00,\n",
              "        9.77249677e-02,  5.82953680e-01, -3.99449029e-01,  3.70055888e-01,\n",
              "       -1.30652685e+00,  1.65813068e+00, -1.18164045e-01, -6.80178204e-01,\n",
              "        6.66383082e-01, -4.60719787e-01, -1.33425847e+00, -1.34671751e+00,\n",
              "        6.93773153e-01, -1.59573438e-01, -1.33701560e-01,  1.07774381e+00,\n",
              "       -1.12682581e+00, -7.30677753e-01, -3.84879809e-01,  9.43515893e-02,\n",
              "       -4.21714513e-02, -2.86887192e-01, -6.16264021e-02, -1.07305276e-01,\n",
              "       -7.19604389e-01, -8.12992989e-01,  2.74516358e-01, -8.90915083e-01,\n",
              "       -1.15735526e+00, -3.12292251e-01, -1.57667016e-01,  2.25672350e+00,\n",
              "       -7.04700276e-01,  9.43260725e-01,  7.47188334e-01, -1.18894496e+00,\n",
              "        7.73252977e-01, -1.18388064e+00, -2.65917224e+00,  6.06319524e-01,\n",
              "       -1.75589058e+00,  4.50934462e-01, -6.84010898e-01,  1.65955080e+00,\n",
              "        1.06850940e+00, -4.53385804e-01, -6.87837611e-01, -1.21407740e+00,\n",
              "       -4.40922632e-01, -2.80355495e-01, -3.64693544e-01,  1.56703855e-01,\n",
              "        5.78521498e-01,  3.49654457e-01, -7.64143924e-01, -1.43779147e+00,\n",
              "        1.36453185e+00, -6.89449185e-01, -6.52293600e-01, -5.21189312e-01,\n",
              "       -1.84306955e+00, -4.77974004e-01, -4.79655814e-01,  6.20358298e-01,\n",
              "        6.98457149e-01,  3.77088909e-03,  9.31848374e-01,  3.39964984e-01,\n",
              "       -1.56821116e-02,  1.60928168e-01, -1.90653494e-01, -3.94849514e-01,\n",
              "       -2.67733537e-01, -1.12801133e+00,  2.80441705e-01, -9.93123611e-01,\n",
              "        8.41631264e-01, -2.49458580e-01,  4.94949817e-02,  4.93836776e-01,\n",
              "        6.43314465e-01, -1.57062341e+00, -2.06903676e-01,  8.80178912e-01,\n",
              "       -1.69810582e+00,  3.87280475e-01, -2.25556423e+00, -1.02250684e+00,\n",
              "        3.86305518e-02, -1.65671510e+00, -9.85510738e-01, -1.47183501e+00,\n",
              "        1.64813493e+00,  1.64227755e-01,  5.67290278e-01, -2.22675101e-01,\n",
              "       -3.53431749e-01, -1.61647419e+00, -2.91837363e-01, -7.61492212e-01,\n",
              "        8.57923924e-01,  1.14110187e+00,  1.46657872e+00,  8.52551939e-01,\n",
              "       -5.98653937e-01, -1.11589699e+00,  7.66663182e-01,  3.56292817e-01,\n",
              "       -1.76853845e+00,  3.55481793e-01,  8.14519822e-01,  5.89255892e-02,\n",
              "       -1.85053671e-01, -8.07648488e-01, -1.44653470e+00,  8.00297949e-01,\n",
              "       -3.09114445e-01, -2.33466662e-01,  1.73272119e+00,  6.84501107e-01,\n",
              "        3.70825001e-01,  1.42061805e-01,  1.51999486e+00,  1.71958931e+00,\n",
              "        9.29505111e-01,  5.82224591e-01, -2.09460307e+00,  1.23721914e-01,\n",
              "       -1.30106954e-01,  9.39532294e-02,  9.43046087e-01, -2.73967717e+00,\n",
              "       -5.69312053e-01,  2.69904355e-01, -4.66845546e-01, -1.41690611e+00,\n",
              "        8.68963487e-01,  2.76871906e-01, -9.71104570e-01,  3.14817205e-01,\n",
              "        8.21585712e-01,  5.29264630e-03,  8.00564803e-01,  7.82601752e-02,\n",
              "       -3.95228983e-01, -1.15942052e+00, -8.59307670e-02,  1.94292938e-01,\n",
              "        8.75832762e-01, -1.15107468e-01,  4.57415606e-01, -9.64612014e-01,\n",
              "       -7.82629156e-01, -1.10389299e-01, -1.05462846e+00,  8.20247837e-01,\n",
              "        4.63130329e-01,  2.79095764e-01,  3.38904125e-01,  2.02104356e+00,\n",
              "       -4.68864188e-01, -2.20144129e+00,  1.99300197e-01, -5.06035410e-02,\n",
              "       -5.17519043e-01, -9.78829859e-01, -4.39189522e-01,  1.81338429e-01,\n",
              "       -5.02816701e-01,  2.41245368e+00, -9.60504382e-01, -7.93117363e-01,\n",
              "       -2.28862004e+00,  2.51484415e-01, -2.01640663e+00, -5.39454633e-01,\n",
              "       -2.75670535e-01, -7.09727966e-01,  1.73887268e+00,  9.94394391e-01,\n",
              "        1.31913688e+00, -8.82418819e-01,  1.12859406e+00,  4.96000946e-01,\n",
              "        7.71405949e-01,  1.02943883e+00, -9.08763246e-01, -4.24317621e-01,\n",
              "        8.62596011e-01, -2.65561909e+00,  1.51332808e+00,  5.53132064e-01,\n",
              "       -4.57039607e-02,  2.20507656e-01, -1.02993528e+00, -3.49943365e-01,\n",
              "        1.10028434e+00,  1.29802197e+00,  2.69622405e+00, -7.39246663e-02,\n",
              "       -6.58552967e-01, -5.14233966e-01, -1.01804188e+00, -7.78547559e-02,\n",
              "        3.82732430e-01, -3.42422805e-02,  1.09634685e+00, -2.34215801e-01,\n",
              "       -3.47450652e-01, -5.81268477e-01, -1.63263453e+00, -1.56776772e+00,\n",
              "       -1.17915793e+00,  1.30142807e+00,  8.95260273e-01,  1.37496407e+00,\n",
              "       -1.33221165e+00, -1.96862469e+00, -6.60056320e-01,  1.75818953e-01,\n",
              "        4.98690275e-01,  1.04797216e+00,  2.84279671e-01,  1.74266878e+00,\n",
              "       -2.22605681e-01, -9.13079218e-01, -1.68121822e+00, -8.88971358e-01,\n",
              "        2.42117961e-01, -8.88720257e-01,  9.36742464e-01,  1.41232771e+00,\n",
              "       -2.36958691e+00,  8.64052300e-01, -2.23960406e+00,  4.01499055e-01,\n",
              "        1.22487056e+00,  6.48561063e-02, -1.27968917e+00, -5.85431204e-01,\n",
              "       -2.61645446e-01, -1.82244784e-01, -2.02896841e-01, -1.09882779e-01,\n",
              "        2.13480049e-01, -1.20857365e+00, -2.42019830e-01,  1.51826117e+00,\n",
              "       -3.84645423e-01, -4.43836093e-01,  1.07819730e+00, -2.55918467e+00,\n",
              "        1.18137860e+00, -6.31903758e-01,  1.63928572e-01,  9.63213559e-02,\n",
              "        9.42468119e-01, -2.67594746e-01, -6.78025782e-01,  1.29784579e+00,\n",
              "       -2.36417382e+00,  2.03341817e-02, -1.34792542e+00, -7.61573388e-01,\n",
              "        2.01125668e+00, -4.45954265e-02,  1.95069697e-01, -1.78156286e+00,\n",
              "       -7.29044659e-01,  1.96557401e-01,  3.54757693e-01,  6.16886554e-01,\n",
              "        8.62789892e-03,  5.27004208e-01,  4.53781913e-01, -1.82974041e+00,\n",
              "        3.70057219e-02,  7.67902408e-01,  5.89879821e-01, -3.63858810e-01,\n",
              "       -8.05626508e-01, -1.11831192e+00, -1.31054012e-01,  1.13307988e+00,\n",
              "       -1.95180410e+00, -6.59891730e-01, -1.13980246e+00,  7.84957521e-01,\n",
              "       -5.54309627e-01, -4.70637658e-01, -2.16949570e-01,  4.45393251e-01,\n",
              "       -3.92388998e-01, -3.04614305e+00,  5.43311891e-01,  4.39042958e-01,\n",
              "       -2.19541028e-01, -1.08403662e+00,  3.51780111e-01,  3.79235534e-01,\n",
              "       -4.70032883e-01, -2.16731471e-01, -9.30156503e-01, -1.78589092e-01,\n",
              "       -1.55042935e+00,  4.17318821e-01, -9.44368491e-01,  2.38103148e-01,\n",
              "       -1.40596292e+00, -5.90057646e-01, -1.10489405e-01, -1.66069981e+00,\n",
              "        1.15147873e-01, -3.79147563e-01, -1.74235620e+00, -1.30324275e+00,\n",
              "        6.05120084e-01,  8.95555986e-01, -1.31908640e-01,  4.04761812e-01,\n",
              "        2.23843563e-01,  3.29622982e-01,  1.28598401e+00, -1.50699840e+00,\n",
              "        6.76460732e-01, -3.82008956e-01, -2.24258934e-01, -3.02249730e-01,\n",
              "       -3.75147117e-01, -1.22619619e+00,  1.83339199e-01,  1.67094303e+00,\n",
              "       -5.61330204e-02, -1.38504274e-03, -6.87299037e-01, -1.17474546e-01,\n",
              "        4.66166426e-01, -3.70242441e-01, -4.53804041e-01,  4.03264540e-01,\n",
              "       -9.18004770e-01,  2.52496627e-01,  8.20321797e-01,  1.35994854e+00,\n",
              "       -9.03820073e-02,  1.36759724e+00,  1.03440989e+00, -9.96212640e-01,\n",
              "       -1.21793851e+00, -3.04963638e-01,  1.02893549e+00, -7.22870076e-02,\n",
              "       -6.00657558e-01,  1.55224318e+00,  2.86904488e-01, -2.32059428e+00,\n",
              "        3.17160626e-01,  5.20040615e-01,  2.25608654e-01,  4.49712100e-01,\n",
              "       -6.72756089e-02, -1.31839587e+00, -3.70704003e-01, -9.45615796e-01,\n",
              "       -9.32740911e-01, -1.26306835e+00,  4.52489093e-01,  9.78961454e-02,\n",
              "       -4.48165363e-01, -6.49337928e-01, -2.34231050e-02,  1.07919473e+00,\n",
              "       -2.00421572e+00,  3.76876521e-01, -5.45711974e-01, -1.88458584e+00,\n",
              "       -1.94570308e+00, -9.12783494e-01,  2.19509556e-01,  3.93062934e-01,\n",
              "       -9.38981573e-01,  1.01702099e+00,  1.42298350e+00,  3.96086585e-01,\n",
              "       -5.91402668e-01,  1.12441918e+00,  7.55395696e-01,  8.67407411e-01,\n",
              "       -6.56463675e-01, -2.83455451e+00,  2.11679102e+00, -1.61087840e+00,\n",
              "       -3.57680719e-02,  2.38074535e+00,  3.30576756e-01,  9.49246474e-01,\n",
              "       -1.50239657e+00, -1.77766695e+00, -5.32702792e-01,  1.09074973e+00,\n",
              "       -3.46249448e-01, -7.94636321e-01,  1.97967290e-01,  1.08193522e+00,\n",
              "       -1.44494020e+00, -1.21054299e+00, -7.88669255e-01,  1.09463837e+00,\n",
              "        2.34821526e-01,  2.13215341e+00,  9.36445726e-01, -3.50951769e-02,\n",
              "        1.26507784e+00,  2.11497013e-01, -7.04921353e-01,  6.79974844e-01,\n",
              "       -6.96326654e-01, -2.90397101e-01,  1.32778270e+00, -1.01281486e-01,\n",
              "       -8.03141387e-01, -4.64337691e-01,  1.02179059e+00, -5.52540673e-01,\n",
              "       -3.86870847e-01, -5.10292740e-01,  1.83925494e-01, -3.85489760e-01,\n",
              "       -1.60183605e+00, -8.87180942e-01, -9.32789042e-01,  1.24331938e+00,\n",
              "        8.12674042e-01,  5.87259379e-01, -5.05358317e-01, -8.15791542e-01,\n",
              "       -5.07517602e-01, -1.05188010e+00,  2.49720039e+00, -2.24532165e+00,\n",
              "        5.64008535e-01, -1.28455230e+00, -1.04343491e-01, -9.88001942e-01,\n",
              "       -1.17762896e+00, -1.14019630e+00,  1.75498615e+00, -1.32988422e-01,\n",
              "       -7.65702194e-01,  5.55786964e-01,  1.03493146e-02,  7.20033759e-01,\n",
              "       -1.82425666e+00,  3.03603904e-01,  7.72694837e-01, -1.66159829e+00,\n",
              "        4.48195284e-01,  1.69618157e+00, -1.48577034e-02,  8.21405937e-01,\n",
              "        6.70570450e-01, -7.07505698e-01,  3.97667346e-02, -1.56699471e+00,\n",
              "       -4.51303037e-01,  2.65687975e-01,  7.23100494e-01,  2.46121252e-02,\n",
              "        7.19983730e-01, -1.10290621e+00, -1.01697275e-01,  1.92793845e-02,\n",
              "        1.84959125e+00, -2.14166656e-01, -4.99016638e-01,  2.13512238e-02,\n",
              "       -9.19113445e-01,  1.92753849e-01, -3.65055217e-01, -1.79132755e+00,\n",
              "       -5.85865511e-02, -3.17543094e-01, -1.63242330e+00, -6.71341546e-02,\n",
              "        1.48935596e+00,  5.21303748e-01,  6.11927193e-01, -1.34149673e+00])"
            ]
          },
          "metadata": {
            "tags": []
          },
          "execution_count": 88
        }
      ]
    },
    {
      "metadata": {
        "id": "60k7idESYAOf",
        "colab_type": "code",
        "colab": {
          "base_uri": "https://localhost:8080/",
          "height": 35
        },
        "outputId": "41501b0f-8b20-471d-83da-0648c292434e"
      },
      "cell_type": "code",
      "source": [
        "xin.shape"
      ],
      "execution_count": 89,
      "outputs": [
        {
          "output_type": "execute_result",
          "data": {
            "text/plain": [
              "(784,)"
            ]
          },
          "metadata": {
            "tags": []
          },
          "execution_count": 89
        }
      ]
    },
    {
      "metadata": {
        "id": "hV4Ew6szYAOk",
        "colab_type": "code",
        "colab": {
          "base_uri": "https://localhost:8080/",
          "height": 683
        },
        "outputId": "da5d7db0-a9ea-4091-956e-9ee1c269b47e"
      },
      "cell_type": "code",
      "source": [
        "N5.feedforward(xin,heaviside)"
      ],
      "execution_count": 90,
      "outputs": [
        {
          "output_type": "stream",
          "text": [
            "[-19.42175088  21.98900451 -10.0678787   -4.89243863 -37.85924418\n",
            " -44.32926102 -45.92949952  29.72946213  -7.16622051 -28.51264461\n",
            "  21.30908915   8.39323796  -7.71025272  24.60448068 -68.03087429\n",
            "  19.92272743 -50.15020899  11.45281048  21.04273292  24.46967208\n",
            "  20.89862185  37.57375809  25.24977179   0.13877469 -15.39139656\n",
            " -21.3303279   54.51470275 -12.98311705  24.1706414  -31.27706361\n",
            " -17.26830653  41.23026499 -15.04263699  -4.3663958   13.6682246\n",
            "  16.22199388  -4.08090061  -2.02548668  -8.25887426  -6.34678965\n",
            " -43.15149227  23.13669105   1.9956271  -12.60775536  -6.1741344\n",
            " -17.89828732  33.12719702  -9.29570513 -57.01145134  17.28291512\n",
            "  20.7638822   54.32690897  19.22170824  15.49184383 -36.35114877\n",
            "  36.19263701   8.24996598 -17.81943365  -3.6211845   24.6610231\n",
            " -19.89689719 -13.94920177  14.61235155  16.90143438  45.61286266\n",
            "  -5.91699992 -11.80847615  10.90545331  47.35816534   2.20707728\n",
            "   4.37090693 -32.24392193  15.38764274 -33.26973068  -2.93919024\n",
            "  26.34485524 -10.90132524  -6.40216523  21.28994998 -17.45855521\n",
            " -40.42658869  39.75450433  -4.89869422  18.41338317   7.35126987\n",
            " -11.02180931   0.51523203  49.64446019  44.08289723  13.28490082\n",
            "  22.62578509  -0.48447934   4.65867289   7.62744804 -29.34920213\n",
            "  31.9798352   32.29791727 -30.18662683 -32.91441887 -25.95042541]\n",
            "[ -2.77064501   3.80490669   6.46646487  -1.36022046  -5.8436214\n",
            "   4.06345592   7.26604357   3.40007281   0.75427275   0.92473648\n",
            "  14.63235952  -9.16038883   2.93405932   8.83930901   0.79023512\n",
            " -11.97717254  11.32815924 -13.06737227   1.84701821   6.84030726\n",
            "   6.80912883  10.71200565 -10.49926037  -0.27692915   0.76663073\n",
            "  -0.89100337  -0.41015081  -3.89685958]\n",
            "[  4.88219376   5.29585177 -12.02406163  -0.87022862  -5.88793215\n",
            "  -6.23279759  -4.51231459  -6.1620091   -1.92902326   4.29569878\n",
            "   4.72314863   3.95008144  -2.24000128   4.37202399  -0.64099316\n",
            "   6.43181713   6.02097291   4.03159036   4.87038133   7.02900925\n",
            "  -4.79803433  -1.63757194  -9.30326809  -2.35752382  -9.01426888\n",
            "  -0.77531328   3.63962238  -2.31957995]\n",
            "[ 7.26598409 -1.47942329 -6.14645185 -5.65920187 -6.27407421  8.21010902\n",
            " -1.190156   -0.27630534 -0.70423341 -1.62799764]\n",
            "[ 0.99359451 -2.2095953 ]\n",
            "[1. 0.]\n"
          ],
          "name": "stdout"
        },
        {
          "output_type": "execute_result",
          "data": {
            "text/plain": [
              "array([1., 0.])"
            ]
          },
          "metadata": {
            "tags": []
          },
          "execution_count": 90
        }
      ]
    },
    {
      "metadata": {
        "id": "GHKVBfPuYAOm",
        "colab_type": "code",
        "colab": {
          "base_uri": "https://localhost:8080/",
          "height": 719
        },
        "outputId": "c3014174-27ba-4f36-bc5e-a8db6ac50c7b"
      },
      "cell_type": "code",
      "source": [
        "N5.feedforward(xin,relu)"
      ],
      "execution_count": 91,
      "outputs": [
        {
          "output_type": "stream",
          "text": [
            "[-19.42175088  21.98900451 -10.0678787   -4.89243863 -37.85924418\n",
            " -44.32926102 -45.92949952  29.72946213  -7.16622051 -28.51264461\n",
            "  21.30908915   8.39323796  -7.71025272  24.60448068 -68.03087429\n",
            "  19.92272743 -50.15020899  11.45281048  21.04273292  24.46967208\n",
            "  20.89862185  37.57375809  25.24977179   0.13877469 -15.39139656\n",
            " -21.3303279   54.51470275 -12.98311705  24.1706414  -31.27706361\n",
            " -17.26830653  41.23026499 -15.04263699  -4.3663958   13.6682246\n",
            "  16.22199388  -4.08090061  -2.02548668  -8.25887426  -6.34678965\n",
            " -43.15149227  23.13669105   1.9956271  -12.60775536  -6.1741344\n",
            " -17.89828732  33.12719702  -9.29570513 -57.01145134  17.28291512\n",
            "  20.7638822   54.32690897  19.22170824  15.49184383 -36.35114877\n",
            "  36.19263701   8.24996598 -17.81943365  -3.6211845   24.6610231\n",
            " -19.89689719 -13.94920177  14.61235155  16.90143438  45.61286266\n",
            "  -5.91699992 -11.80847615  10.90545331  47.35816534   2.20707728\n",
            "   4.37090693 -32.24392193  15.38764274 -33.26973068  -2.93919024\n",
            "  26.34485524 -10.90132524  -6.40216523  21.28994998 -17.45855521\n",
            " -40.42658869  39.75450433  -4.89869422  18.41338317   7.35126987\n",
            " -11.02180931   0.51523203  49.64446019  44.08289723  13.28490082\n",
            "  22.62578509  -0.48447934   4.65867289   7.62744804 -29.34920213\n",
            "  31.9798352   32.29791727 -30.18662683 -32.91441887 -25.95042541]\n",
            "[  20.94979765  238.63018134  226.08023882   -8.47229289 -145.5672544\n",
            "  -38.14226914  178.23151545    6.40697517  -19.25994155  102.54794691\n",
            "  400.02942655 -273.42392355   89.42326122   85.7982133   116.00516321\n",
            " -303.2531459   276.54788589 -220.35143998  151.45998828  348.29544568\n",
            "  140.99752399  524.60728591 -278.15452113   78.25608082   28.04576373\n",
            "  -99.00780006  -52.815907    -49.40001787]\n",
            "[  -94.13477112  1445.46802291 -1835.79329934  -243.94440291\n",
            " -1334.27545262 -1733.94795176  -961.5217758  -1144.8591869\n",
            " -1105.78258445   464.29435841  1291.71910998   783.95727316\n",
            "   -83.30218893  -135.33931132    20.66376755   932.3354564\n",
            "   908.57318891   119.27991736  -121.22930323   942.98494103\n",
            "  -352.40253794  -366.36407452 -2636.48772179 -1448.70147618\n",
            "  -601.2963404   -770.39862527   500.30589227  -777.43564255]\n",
            "[ 6570.73145798  -996.77751002 -4223.79564409 -3730.12203263\n",
            " -2198.67089643  7777.40873505 -4057.86606973  -176.46956579\n",
            "  -820.18074817 -1586.4121001 ]\n",
            "[15512.28128291 -5285.01087004]\n",
            "[15512.28128291     0.        ]\n"
          ],
          "name": "stdout"
        },
        {
          "output_type": "execute_result",
          "data": {
            "text/plain": [
              "array([15512.28128291,     0.        ])"
            ]
          },
          "metadata": {
            "tags": []
          },
          "execution_count": 91
        }
      ]
    },
    {
      "metadata": {
        "id": "SgYPBX7-YAOo",
        "colab_type": "code",
        "colab": {
          "base_uri": "https://localhost:8080/",
          "height": 683
        },
        "outputId": "fa48f260-59d6-4aa4-af3a-da05dce26ae4"
      },
      "cell_type": "code",
      "source": [
        "N5.feedforward(xin,sigmoid)"
      ],
      "execution_count": 93,
      "outputs": [
        {
          "output_type": "stream",
          "text": [
            "[-19.42175088  21.98900451 -10.0678787   -4.89243863 -37.85924418\n",
            " -44.32926102 -45.92949952  29.72946213  -7.16622051 -28.51264461\n",
            "  21.30908915   8.39323796  -7.71025272  24.60448068 -68.03087429\n",
            "  19.92272743 -50.15020899  11.45281048  21.04273292  24.46967208\n",
            "  20.89862185  37.57375809  25.24977179   0.13877469 -15.39139656\n",
            " -21.3303279   54.51470275 -12.98311705  24.1706414  -31.27706361\n",
            " -17.26830653  41.23026499 -15.04263699  -4.3663958   13.6682246\n",
            "  16.22199388  -4.08090061  -2.02548668  -8.25887426  -6.34678965\n",
            " -43.15149227  23.13669105   1.9956271  -12.60775536  -6.1741344\n",
            " -17.89828732  33.12719702  -9.29570513 -57.01145134  17.28291512\n",
            "  20.7638822   54.32690897  19.22170824  15.49184383 -36.35114877\n",
            "  36.19263701   8.24996598 -17.81943365  -3.6211845   24.6610231\n",
            " -19.89689719 -13.94920177  14.61235155  16.90143438  45.61286266\n",
            "  -5.91699992 -11.80847615  10.90545331  47.35816534   2.20707728\n",
            "   4.37090693 -32.24392193  15.38764274 -33.26973068  -2.93919024\n",
            "  26.34485524 -10.90132524  -6.40216523  21.28994998 -17.45855521\n",
            " -40.42658869  39.75450433  -4.89869422  18.41338317   7.35126987\n",
            " -11.02180931   0.51523203  49.64446019  44.08289723  13.28490082\n",
            "  22.62578509  -0.48447934   4.65867289   7.62744804 -29.34920213\n",
            "  31.9798352   32.29791727 -30.18662683 -32.91441887 -25.95042541]\n",
            "[ -1.70930145   3.57409882   6.27546764  -0.84836957  -4.89005977\n",
            "   4.36388072   6.63001742   3.05230473   1.62388294   0.52059659\n",
            "  14.28036174  -9.0844119    4.15532272   8.54342237   1.44963561\n",
            " -11.8380257   11.25114587 -12.78938659   1.24883408   8.29168071\n",
            "   6.36863287  11.21781598 -10.45339715  -0.0927701    0.37912741\n",
            "  -0.80122752  -0.44885308  -4.13128277]\n",
            "[  2.99674214   5.71030464 -11.69732495  -1.39391227  -5.1175701\n",
            "  -7.04046109  -3.74765983  -5.26259218  -1.73753815   3.23743312\n",
            "   4.7738002    2.217996    -1.94349017   4.0460698   -0.49378903\n",
            "   6.94845095   5.99745836   3.85699373   2.89116859   6.97008414\n",
            "  -3.97899022  -0.90695768  -7.14675404  -2.56345944  -8.08668576\n",
            "   0.08404177   3.37142672  -1.70331817]\n",
            "[ 6.53304531 -1.33998697 -6.40624897 -5.91119083 -7.04042154  9.14748514\n",
            " -0.92294328 -1.40746371 -0.07877554 -1.38599574]\n",
            "[ 0.50795706 -1.0384456 ]\n",
            "[0.62432744 0.26145003]\n"
          ],
          "name": "stdout"
        },
        {
          "output_type": "execute_result",
          "data": {
            "text/plain": [
              "array([0.62432744, 0.26145003])"
            ]
          },
          "metadata": {
            "tags": []
          },
          "execution_count": 93
        }
      ]
    },
    {
      "metadata": {
        "id": "VQghMdc_YAOq",
        "colab_type": "text"
      },
      "cell_type": "markdown",
      "source": [
        "***"
      ]
    },
    {
      "metadata": {
        "id": "TGzvsmbyYAOq",
        "colab_type": "text"
      },
      "cell_type": "markdown",
      "source": [
        "### Data Representation ((1,n) input, a layer with k neurons)\n",
        "> (1,n) -> (n,k) -> (1,k)"
      ]
    },
    {
      "metadata": {
        "id": "jJiHaIBQYAOq",
        "colab_type": "text"
      },
      "cell_type": "markdown",
      "source": [
        "We represent the input $\\mathbf{x}$ as a column vector. $\\mathbf{x} =\\begin{bmatrix}\n",
        "    x_1\\\\\n",
        "    x_2\\\\\n",
        "    \\vdots \\\\\n",
        "    x_n\n",
        "\\end{bmatrix}$"
      ]
    },
    {
      "metadata": {
        "id": "M7--ZIJ7YAOr",
        "colab_type": "text"
      },
      "cell_type": "markdown",
      "source": [
        "We represent each layer's weights as a matrix. $$\\mathbf{W}^\\top =  \\begin{bmatrix} { w }_{ 11 } & { w}_{ 12 } & \\dots & {w}_{1n}\\\\ { w }_{ 21 } & { w }_{ 22 } & \\dots &{w}_{2n} \\\\ \\vdots & \\vdots & \\dots & \\vdots \\\\ { w }_{ k1 } & { w }_{ k2 }& \\dots & {w}_{kn} \\end{bmatrix}$$"
      ]
    },
    {
      "metadata": {
        "id": "8NMdN46UYAOs",
        "colab_type": "text"
      },
      "cell_type": "markdown",
      "source": [
        "For k-neuron layer, we represent the biases $b$ as a column vector. $\\mathbf{b} =\\begin{bmatrix}\n",
        "    b_1\\\\\n",
        "    b_2\\\\\n",
        "    \\vdots \\\\\n",
        "    b_k\n",
        "\\end{bmatrix}$"
      ]
    },
    {
      "metadata": {
        "id": "MeUq6EzPYAOs",
        "colab_type": "text"
      },
      "cell_type": "markdown",
      "source": [
        "$ Z = \\begin{bmatrix} { w }_{ 11 } & { w}_{ 12 } & \\dots & {w}_{1n}\\\\ { w }_{ 21 } & { w }_{ 22 } & \\dots &{w}_{2n} \\\\ \\vdots & \\vdots & \\dots & \\vdots \\\\ { w }_{ k1 } & { w }_{ k2 }& \\dots & {w}_{kn} \\end{bmatrix}$ **DOT** $\\begin{bmatrix}\n",
        "    x_1\\\\\n",
        "    x_2\\\\\n",
        "    \\vdots \\\\\n",
        "    x_n\n",
        "\\end{bmatrix} + \\begin{bmatrix}\n",
        "    b_1\\\\\n",
        "    b_2\\\\\n",
        "    \\vdots \\\\\n",
        "    b_k\n",
        "\\end{bmatrix}$"
      ]
    },
    {
      "metadata": {
        "id": "3YG5-AeDYAOt",
        "colab_type": "text"
      },
      "cell_type": "markdown",
      "source": [
        "$$ a = \\phi (\\mathbf{W}^\\top \\cdot \\mathbf{X} + \\mathbf{B}) $$"
      ]
    },
    {
      "metadata": {
        "id": "klEtc1_LYAOt",
        "colab_type": "text"
      },
      "cell_type": "markdown",
      "source": [
        "## Data Representation ((1,n) input, deep layer with [k,s,t] neurons, and (1,r) output)\n",
        "> (1,n) -> (n,k) -> (k,s) -> (s,t) -> (t,r) -> (1,r)"
      ]
    },
    {
      "metadata": {
        "id": "PZdh_X3LYAOu",
        "colab_type": "code",
        "colab": {}
      },
      "cell_type": "code",
      "source": [
        ""
      ],
      "execution_count": 0,
      "outputs": []
    }
  ]
}