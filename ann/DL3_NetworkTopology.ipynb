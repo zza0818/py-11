{
  "nbformat": 4,
  "nbformat_minor": 0,
  "metadata": {
    "colab": {
      "name": "DL3_NetworkTopology",
      "version": "0.3.2",
      "provenance": [],
      "collapsed_sections": [],
      "toc_visible": true,
      "include_colab_link": true
    },
    "kernelspec": {
      "display_name": "Python 3",
      "language": "python",
      "name": "python3"
    }
  },
  "cells": [
    {
      "cell_type": "markdown",
      "metadata": {
        "id": "view-in-github",
        "colab_type": "text"
      },
      "source": [
        "<a href=\"https://colab.research.google.com/github/zza0818/py-11/blob/master/ann/DL3_NetworkTopology.ipynb\" target=\"_parent\"><img src=\"https://colab.research.google.com/assets/colab-badge.svg\" alt=\"Open In Colab\"/></a>"
      ]
    },
    {
      "metadata": {
        "colab_type": "text",
        "id": "HwsuQfT0XbnL"
      },
      "cell_type": "markdown",
      "source": [
        "[link:DL-NetworkTopology](https://github.com/alfredessa/lasi2018/blob/master/notebooks/slideversion/deeplearning/DL-NetworkTopology.ipynb)\n",
        "> [link:gitbook-AI & neural_networks](https://leonardoaraujosantos.gitbooks.io/artificial-inteligence/content/neural_networks.html)"
      ]
    },
    {
      "metadata": {
        "colab_type": "code",
        "id": "kRJQDAXYXbnN",
        "outputId": "dbc62d17-d120-4977-efc1-81d22a62ae0b",
        "colab": {
          "base_uri": "https://localhost:8080/",
          "height": 17
        }
      },
      "cell_type": "code",
      "source": [
        "from IPython.core.display import HTML, Image\n",
        "css_file = 'style.css'\n",
        "HTML(open(css_file, 'r').read())"
      ],
      "execution_count": 0,
      "outputs": [
        {
          "output_type": "execute_result",
          "data": {
            "text/html": [
              "<link href='http://fonts.googleapis.com/css?family=Alegreya+Sans:100,300,400,500,700,800,900,100italic,300italic,400italic,500italic,700italic,800italic,900italic' rel='stylesheet' type='text/css'>\n",
              "<link href='http://fonts.googleapis.com/css?family=Arvo:400,700,400italic' rel='stylesheet' type='text/css'>\n",
              "<link href='http://fonts.googleapis.com/css?family=PT+Mono' rel='stylesheet' type='text/css'>\n",
              "<link href='http://fonts.googleapis.com/css?family=Shadows+Into+Light' rel='stylesheet' type='text/css'>\n",
              "<link href='http://fonts.googleapis.com/css?family=Philosopher:400,700,400italic,700italic' rel='stylesheet' type='text/css'>\n",
              "\n",
              "<style>\n",
              "\n",
              "@font-face {\n",
              "    font-family: \"Computer Modern\";\n",
              "    src: url('http://mirrors.ctan.org/fonts/cm-unicode/fonts/otf/cmunss.otf');\n",
              "}\n",
              "\n",
              "#notebook_panel { /* main background */\n",
              "    background: #ddd;\n",
              "    color: #000000;\n",
              "}\n",
              "\n",
              "\n",
              "\n",
              "/* Formatting for header cells */\n",
              ".text_cell_render h1 {\n",
              "    font-family: 'Philosopher', sans-serif;\n",
              "    font-weight: 400;\n",
              "    font-size: 2.2em;\n",
              "    line-height: 100%;\n",
              "    color: rgb(0, 80, 120);\n",
              "    margin-bottom: 0.1em;\n",
              "    margin-top: 0.1em;\n",
              "    display: block;\n",
              "}\t\n",
              ".text_cell_render h2 {\n",
              "    font-family: 'Philosopher', serif;\n",
              "    font-weight: 400;\n",
              "    font-size: 1.9em;\n",
              "    line-height: 100%;\n",
              "    color: rgb(200,100,0);\n",
              "    margin-bottom: 0.1em;\n",
              "    margin-top: 0.1em;\n",
              "    display: block;\n",
              "}\t\n",
              "\n",
              ".text_cell_render h3 {\n",
              "    font-family: 'Philosopher', serif;\n",
              "    margin-top:12px;\n",
              "    margin-bottom: 3px;\n",
              "    font-style: italic;\n",
              "    color: rgb(94,127,192);\n",
              "}\n",
              "\n",
              ".text_cell_render h4 {\n",
              "    font-family: 'Philosopher', serif;\n",
              "}\n",
              "\n",
              ".text_cell_render h5 {\n",
              "    font-family: 'Alegreya Sans', sans-serif;\n",
              "    font-weight: 300;\n",
              "    font-size: 16pt;\n",
              "    color: grey;\n",
              "    font-style: italic;\n",
              "    margin-bottom: .1em;\n",
              "    margin-top: 0.1em;\n",
              "    display: block;\n",
              "}\n",
              "\n",
              ".text_cell_render h6 {\n",
              "    font-family: 'PT Mono', sans-serif;\n",
              "    font-weight: 300;\n",
              "    font-size: 10pt;\n",
              "    color: grey;\n",
              "    margin-bottom: 1px;\n",
              "    margin-top: 1px;\n",
              "}\n",
              "\n",
              ".CodeMirror{\n",
              "        font-family: \"PT Mono\";\n",
              "        font-size: 100%;\n",
              "}\n",
              "\n",
              "</style>\n",
              "\n"
            ],
            "text/plain": [
              "<IPython.core.display.HTML object>"
            ]
          },
          "metadata": {
            "tags": []
          },
          "execution_count": 1
        }
      ]
    },
    {
      "metadata": {
        "colab_type": "toc",
        "id": "y-Zl0MNnnsiC"
      },
      "cell_type": "markdown",
      "source": [
        ">[Deep Learning](#scrollTo=ty5qOiHiXbnT)\n",
        "\n",
        ">>[LASI 2018](#scrollTo=ty5qOiHiXbnT)\n",
        "\n",
        ">>>[Topology, Layers](#scrollTo=ty5qOiHiXbnT)\n",
        "\n",
        ">[Learning Objectives](#scrollTo=2jVtMLrPXbnU)\n",
        "\n",
        ">[Network Parameters](#scrollTo=wA0dXFvZXbnl)\n",
        "\n",
        ">>[How many parameters in Layer 2?](#scrollTo=SFRytdnTXbnq)\n",
        "\n",
        ">>>[Parameters and Hyperparameters](#scrollTo=ciXgA35NXbnx)\n",
        "\n"
      ]
    },
    {
      "metadata": {
        "colab_type": "text",
        "id": "ty5qOiHiXbnT"
      },
      "cell_type": "markdown",
      "source": [
        "# Deep Learning  \n",
        "## LASI 2018\n",
        "\n",
        "### Topology, Layers\n",
        "\n",
        "Alfred Essa, Ani Aghababyan, Shirin Mojarad"
      ]
    },
    {
      "metadata": {
        "colab_type": "text",
        "id": "2jVtMLrPXbnU"
      },
      "cell_type": "markdown",
      "source": [
        "# Learning Objectives"
      ]
    },
    {
      "metadata": {
        "colab_type": "text",
        "id": "5qDtxo30XbnW"
      },
      "cell_type": "markdown",
      "source": [
        "**1:** Understand the *architecture* or topology of a generic deep learning network"
      ]
    },
    {
      "metadata": {
        "colab_type": "text",
        "id": "A3KS7IrPXbnX"
      },
      "cell_type": "markdown",
      "source": [
        "**2:** Understand the concept of a *densely connected* network"
      ]
    },
    {
      "metadata": {
        "colab_type": "text",
        "id": "Ga_QsayHXbnZ"
      },
      "cell_type": "markdown",
      "source": [
        "**3:** Distinguish between the three types of *layers* in the network\n",
        "\n",
        "* layer의 타입 input layer - hidden layer - output layer"
      ]
    },
    {
      "metadata": {
        "colab_type": "text",
        "id": "kWpoZopBXbnZ"
      },
      "cell_type": "markdown",
      "source": [
        "**4:** Distinguish between *parameters* and *hyperparameters* of a network\n",
        "\n",
        "* parameter : 뉴런의 가중치, bias 등...\n",
        "\n",
        "> deep layer를 몇개로 둘 것이냐? 몇 개를 둘 것이냐?"
      ]
    },
    {
      "metadata": {
        "colab_type": "text",
        "id": "c7zldLl3Xbna"
      },
      "cell_type": "markdown",
      "source": [
        "<img src=\"https://github.com/alfredessa/lasi2018/raw/8140f2ad8d9998a02d7ec559d0ddceb5f41c6a18/notebooks/slideversion/deeplearning/images/layers.png\" width=\"70%\" height=\"70%\" />"
      ]
    },
    {
      "metadata": {
        "colab_type": "text",
        "id": "tVNZ5delXbnc"
      },
      "cell_type": "markdown",
      "source": [
        "- A neural network consists of multiple neurons organized in layers"
      ]
    },
    {
      "metadata": {
        "id": "ccoh2PoYeg8B",
        "colab_type": "text"
      },
      "cell_type": "markdown",
      "source": [
        "* 서로 다 연결되어 있음 : fully connected, density connected\n",
        "> 다 연결하지 않아도 괜찮음 →결과가 더 좋음"
      ]
    },
    {
      "metadata": {
        "colab_type": "text",
        "id": "F75PrIzCXbnd"
      },
      "cell_type": "markdown",
      "source": [
        "<img src=\"https://github.com/alfredessa/lasi2018/raw/8140f2ad8d9998a02d7ec559d0ddceb5f41c6a18/notebooks/slideversion/deeplearning/images/dense.png\" width=\"70%\" height=\"70%\" />"
      ]
    },
    {
      "metadata": {
        "colab_type": "text",
        "id": "a8cXAuRDXbne"
      },
      "cell_type": "markdown",
      "source": [
        "- A densely connected network means that each neuron in each layer is connected to all neurons in the previous and subsequent layer\n",
        "\n",
        "> A densely connected network == A fully connected network"
      ]
    },
    {
      "metadata": {
        "colab_type": "text",
        "id": "ZL7MfmLPXbnf"
      },
      "cell_type": "markdown",
      "source": [
        "<img src=\"https://github.com/alfredessa/lasi2018/raw/8140f2ad8d9998a02d7ec559d0ddceb5f41c6a18/notebooks/slideversion/deeplearning/images/layers2.png\" width=\"70%\" height=\"70%\" />"
      ]
    },
    {
      "metadata": {
        "id": "7xF8I2oSezFx",
        "colab_type": "text"
      },
      "cell_type": "markdown",
      "source": [
        "input이 7개\n",
        "\n",
        "처리가 여러번 된다\n",
        "\n",
        "y1이 0-9, y2도 0-9이면 이 뉴런은 두자리 수를 처리하는 뉴런이 된다"
      ]
    },
    {
      "metadata": {
        "colab_type": "text",
        "id": "H7TiGzB1Xbnh"
      },
      "cell_type": "markdown",
      "source": [
        "- A deep learning network consists of three types of layers: an input layer, one or more hidden layers, and an output layer\n",
        "\n",
        "- 딥러닝 네트웍은 세 종류의 레이어로 구성된다: 입력 레이어, 한 개 이상의 은닉 레이어(hidden layers), 그리고 출력 레이어."
      ]
    },
    {
      "metadata": {
        "colab_type": "text",
        "id": "1rh6n3nfXbnj"
      },
      "cell_type": "markdown",
      "source": [
        "- The *size* of the network is the number of hidden layers plus the output layer"
      ]
    },
    {
      "metadata": {
        "colab_type": "text",
        "id": "wA0dXFvZXbnl"
      },
      "cell_type": "markdown",
      "source": [
        "# Network Parameters"
      ]
    },
    {
      "metadata": {
        "colab_type": "text",
        "id": "WazYvzWIXbno"
      },
      "cell_type": "markdown",
      "source": [
        "> Neuron N has three inputs or inbound connections. Associated with each input is a weight, $w$. Each neuron also has a bias term, $b$. The weights and bias are the parameters of a neuron. The values of the parameters are learned during training. Neuron $N$ has four parameters (3 weights and a 1 bias).\n",
        "\n",
        "> 개개의 뉴런은 입력 갯수의 가중치(weights)와 한 개의 상수(bias)를 파라미터로 정의된다. 뉴런의 파라미터들은 훈련과정에서 오차를 최소화하는 방향으로 결정된다."
      ]
    },
    {
      "metadata": {
        "colab_type": "text",
        "id": "SFRytdnTXbnq"
      },
      "cell_type": "markdown",
      "source": [
        "## How many parameters in Layer 2? - 시험문제 \n",
        "layer 1 output 3개\n",
        "\n",
        "3개의 input 을 4개로 처리하는 단계\n",
        "몇개? -> 3개 3개 3개 3개 => 12개 + 각 bias 4개 => 16개\n",
        "\n",
        "답 : 16개"
      ]
    },
    {
      "metadata": {
        "colab_type": "text",
        "id": "9Yf2MQe8Xbnq"
      },
      "cell_type": "markdown",
      "source": [
        "<img src=\"https://github.com/alfredessa/lasi2018/raw/8140f2ad8d9998a02d7ec559d0ddceb5f41c6a18/notebooks/slideversion/deeplearning/images/layers1.png\" width=\"70%\" height=\"70%\" />"
      ]
    },
    {
      "metadata": {
        "colab_type": "text",
        "id": "OU2U4bTtXbnt"
      },
      "cell_type": "markdown",
      "source": [
        "- The number of parameters in a layer $\\ell$ is the number of neurons in that layer $N(\\ell)$ times the number of neurons in the previous layer."
      ]
    },
    {
      "metadata": {
        "colab_type": "text",
        "id": "o946MKkwXbnu"
      },
      "cell_type": "markdown",
      "source": [
        "- Number of parameters = $N(\\ell-1) * N(\\ell) + N(\\ell)$"
      ]
    },
    {
      "metadata": {
        "colab_type": "text",
        "id": "8MD6PmsBXbnx"
      },
      "cell_type": "markdown",
      "source": [
        "- The number of parameters in $\\ell_{2}$ = (3 * 4) + 4 = 16"
      ]
    },
    {
      "metadata": {
        "colab_type": "text",
        "id": "ciXgA35NXbnx"
      },
      "cell_type": "markdown",
      "source": [
        "### Parameters and Hyperparameters"
      ]
    },
    {
      "metadata": {
        "colab_type": "text",
        "id": "FOVZ1iFAXbny"
      },
      "cell_type": "markdown",
      "source": [
        "- The *weights* and *biases* of the neural network are its parameters"
      ]
    },
    {
      "metadata": {
        "colab_type": "text",
        "id": "2I_GJDPtXbn0"
      },
      "cell_type": "markdown",
      "source": [
        "- A deep learning model *learns* the correct weights and biases in the process of training"
      ]
    },
    {
      "metadata": {
        "colab_type": "text",
        "id": "IMkADXWoXbn1"
      },
      "cell_type": "markdown",
      "source": [
        "- Hyperparameters are structural characteristics of the network, including the number of layers, the number of neurons in each layer, the activation functions, the particular loss function, the optimization function, etc."
      ]
    }
  ]
}