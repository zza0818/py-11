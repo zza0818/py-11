{
  "nbformat": 4,
  "nbformat_minor": 0,
  "metadata": {
    "colab": {
      "name": "DL6_BackwardPropagation",
      "version": "0.3.2",
      "provenance": [],
      "collapsed_sections": [],
      "toc_visible": true,
      "include_colab_link": true
    },
    "kernelspec": {
      "display_name": "Python 3",
      "language": "python",
      "name": "python3"
    }
  },
  "cells": [
    {
      "cell_type": "markdown",
      "metadata": {
        "id": "view-in-github",
        "colab_type": "text"
      },
      "source": [
        "<a href=\"https://colab.research.google.com/github/zza0818/py-11/blob/master/ann/DL6_BackwardPropagation.ipynb\" target=\"_parent\"><img src=\"https://colab.research.google.com/assets/colab-badge.svg\" alt=\"Open In Colab\"/></a>"
      ]
    },
    {
      "metadata": {
        "id": "zFXbTL74b-AD",
        "colab_type": "text"
      },
      "cell_type": "markdown",
      "source": [
        "[original link:DL-BackwardPropagation](https://github.com/alfredessa/lasi2018/blob/master/notebooks/slideversion/deeplearning/DL-BackwardPropagation.ipynb)\n",
        "\n",
        "- [Wiki](https://github.com/alfredessa/lasi2018/wiki/LASI2018-Python-Tutorial)"
      ]
    },
    {
      "metadata": {
        "id": "bRcy9Qiob-AI",
        "colab_type": "code",
        "outputId": "fa105b38-87f9-413f-bc69-281975236b87",
        "colab": {
          "base_uri": "https://localhost:8080/",
          "height": 17
        }
      },
      "cell_type": "code",
      "source": [
        "from IPython.core.display import HTML, Image\n",
        "css_file = 'style.css'\n",
        "HTML(open(css_file, 'r').read())"
      ],
      "execution_count": 0,
      "outputs": [
        {
          "output_type": "execute_result",
          "data": {
            "text/html": [
              "<link href='http://fonts.googleapis.com/css?family=Alegreya+Sans:100,300,400,500,700,800,900,100italic,300italic,400italic,500italic,700italic,800italic,900italic' rel='stylesheet' type='text/css'>\n",
              "<link href='http://fonts.googleapis.com/css?family=Arvo:400,700,400italic' rel='stylesheet' type='text/css'>\n",
              "<link href='http://fonts.googleapis.com/css?family=PT+Mono' rel='stylesheet' type='text/css'>\n",
              "<link href='http://fonts.googleapis.com/css?family=Shadows+Into+Light' rel='stylesheet' type='text/css'>\n",
              "<link href='http://fonts.googleapis.com/css?family=Philosopher:400,700,400italic,700italic' rel='stylesheet' type='text/css'>\n",
              "\n",
              "<style>\n",
              "\n",
              "@font-face {\n",
              "    font-family: \"Computer Modern\";\n",
              "    src: url('http://mirrors.ctan.org/fonts/cm-unicode/fonts/otf/cmunss.otf');\n",
              "}\n",
              "\n",
              "#notebook_panel { /* main background */\n",
              "    background: #ddd;\n",
              "    color: #000000;\n",
              "}\n",
              "\n",
              "\n",
              "\n",
              "/* Formatting for header cells */\n",
              ".text_cell_render h1 {\n",
              "    font-family: 'Philosopher', sans-serif;\n",
              "    font-weight: 400;\n",
              "    font-size: 2.2em;\n",
              "    line-height: 100%;\n",
              "    color: rgb(0, 80, 120);\n",
              "    margin-bottom: 0.1em;\n",
              "    margin-top: 0.1em;\n",
              "    display: block;\n",
              "}\t\n",
              ".text_cell_render h2 {\n",
              "    font-family: 'Philosopher', serif;\n",
              "    font-weight: 400;\n",
              "    font-size: 1.9em;\n",
              "    line-height: 100%;\n",
              "    color: rgb(200,100,0);\n",
              "    margin-bottom: 0.1em;\n",
              "    margin-top: 0.1em;\n",
              "    display: block;\n",
              "}\t\n",
              "\n",
              ".text_cell_render h3 {\n",
              "    font-family: 'Philosopher', serif;\n",
              "    margin-top:12px;\n",
              "    margin-bottom: 3px;\n",
              "    font-style: italic;\n",
              "    color: rgb(94,127,192);\n",
              "}\n",
              "\n",
              ".text_cell_render h4 {\n",
              "    font-family: 'Philosopher', serif;\n",
              "}\n",
              "\n",
              ".text_cell_render h5 {\n",
              "    font-family: 'Alegreya Sans', sans-serif;\n",
              "    font-weight: 300;\n",
              "    font-size: 16pt;\n",
              "    color: grey;\n",
              "    font-style: italic;\n",
              "    margin-bottom: .1em;\n",
              "    margin-top: 0.1em;\n",
              "    display: block;\n",
              "}\n",
              "\n",
              ".text_cell_render h6 {\n",
              "    font-family: 'PT Mono', sans-serif;\n",
              "    font-weight: 300;\n",
              "    font-size: 10pt;\n",
              "    color: grey;\n",
              "    margin-bottom: 1px;\n",
              "    margin-top: 1px;\n",
              "}\n",
              "\n",
              ".CodeMirror{\n",
              "        font-family: \"PT Mono\";\n",
              "        font-size: 100%;\n",
              "}\n",
              "\n",
              "</style>\n",
              "\n"
            ],
            "text/plain": [
              "<IPython.core.display.HTML object>"
            ]
          },
          "metadata": {
            "tags": []
          },
          "execution_count": 1
        }
      ]
    },
    {
      "metadata": {
        "id": "k4Tw3qf8mTkn",
        "colab_type": "toc"
      },
      "cell_type": "markdown",
      "source": [
        ">[Deep Learning](#scrollTo=Pylqy4myb-Ad)\n",
        "\n",
        ">>[Backward Propagation](#scrollTo=Pylqy4myb-Ad)\n",
        "\n",
        ">[Learning Objectives](#scrollTo=W4yQRczJb-Ah)\n",
        "\n",
        ">[Backpropagation](#scrollTo=I7bomtLBb-Ar)\n",
        "\n",
        ">>>[What does Calculus have to do with it?](#scrollTo=--sjelT_b-Av)\n",
        "\n",
        ">>>[최소값과 최대값](#scrollTo=L_5o-j32d881)\n",
        "\n",
        ">>[딥러닝에서 손실(비용)함수의 최소값을 찾는 방법](#scrollTo=IGTI_os5kEkC)\n",
        "\n",
        ">>>[경사하강법 (Gradient descent method)](#scrollTo=PWQJAIurZWwT)\n",
        "\n",
        ">>[What is Gradient Descent?](#scrollTo=8ja-nbMQb-BN)\n",
        "\n"
      ]
    },
    {
      "metadata": {
        "id": "Pylqy4myb-Ad",
        "colab_type": "text"
      },
      "cell_type": "markdown",
      "source": [
        "# Deep Learning\n",
        "\n",
        "## Backward Propagation\n",
        "\n",
        "Alfred Essa, Ani Aghababyan, Shirin Mojarad\n",
        "\n"
      ]
    },
    {
      "metadata": {
        "id": "W4yQRczJb-Ah",
        "colab_type": "text"
      },
      "cell_type": "markdown",
      "source": [
        "# Learning Objectives"
      ]
    },
    {
      "metadata": {
        "id": "t1wAyTt7b-Al",
        "colab_type": "text"
      },
      "cell_type": "markdown",
      "source": [
        "**1**:  Understand the purpose of backpropagation in a neural network"
      ]
    },
    {
      "metadata": {
        "id": "x5qCyVs0b-Ap",
        "colab_type": "text"
      },
      "cell_type": "markdown",
      "source": [
        "**2**: Understand the basics of *gradient descent* algorithm"
      ]
    },
    {
      "metadata": {
        "id": "I7bomtLBb-Ar",
        "colab_type": "text"
      },
      "cell_type": "markdown",
      "source": [
        "# Backpropagation"
      ]
    },
    {
      "metadata": {
        "id": "_UCI3p-Db-At",
        "colab_type": "text"
      },
      "cell_type": "markdown",
      "source": [
        "> Definition: Given an artificial neural network and an error function, the method calculates the gradient of the error function with respect to the neural network's weights.\n",
        "\n",
        "- 뉴런으로 구성된 레이어를 거치면서 결정되는 예측값과 원래값의 차이로 정의되는 손실함수를 최소화하는 파라미터를 찾는 과정.\n",
        "- 신경회로망의 가중치로 정의되는 손실(비용)함수의 그래디언트(기울기)를 이용해서 손실(비용)이 최소가 되는 조건을 찾는 과정이다."
      ]
    },
    {
      "metadata": {
        "id": "--sjelT_b-Av",
        "colab_type": "text"
      },
      "cell_type": "markdown",
      "source": [
        "### What does Calculus have to do with it?"
      ]
    },
    {
      "metadata": {
        "id": "Eqghh-MJb-Aw",
        "colab_type": "code",
        "colab": {}
      },
      "cell_type": "code",
      "source": [
        "import numpy as np\n",
        "import matplotlib.pyplot as plt\n",
        "%matplotlib inline"
      ],
      "execution_count": 0,
      "outputs": []
    },
    {
      "metadata": {
        "id": "ShGewPKSb-A0",
        "colab_type": "code",
        "colab": {}
      },
      "cell_type": "code",
      "source": [
        "x = np.linspace(-10,10)  # x = 파라미터로 가정 y= 손실함수로 가정"
      ],
      "execution_count": 0,
      "outputs": []
    },
    {
      "metadata": {
        "id": "u5rvGkZib-A5",
        "colab_type": "code",
        "colab": {}
      },
      "cell_type": "code",
      "source": [
        "y1 = x**2 "
      ],
      "execution_count": 0,
      "outputs": []
    },
    {
      "metadata": {
        "id": "PcYR0Negb-A-",
        "colab_type": "code",
        "outputId": "0fc25680-3524-451b-f779-6a82b89abe75",
        "colab": {
          "base_uri": "https://localhost:8080/",
          "height": 294
        }
      },
      "cell_type": "code",
      "source": [
        "plt.grid()\n",
        "plt.plot(x,y1)\n",
        "plt.scatter(7.5, 7.5**2,color='r',marker='o')\n",
        "plt.scatter(0,0, color='g')\n",
        "plt.annotate('where i am', xy=(8, 58), xytext=(10, 45),\n",
        "            arrowprops=dict(facecolor='black', shrink=0.1),\n",
        "            )\n",
        "plt.annotate('where i want to be', xy=(2, 2), xytext=(5, 3),\n",
        "            arrowprops=dict(facecolor='black', shrink=0.1),\n",
        "            )\n",
        "plt.ylabel('Error')\n",
        "plt.xlabel('Parameter (Coordinate)')\n",
        "plt.title(\"Cost Function\")\n",
        "plt.savefig('CostFunction')\n"
      ],
      "execution_count": 7,
      "outputs": [
        {
          "output_type": "display_data",
          "data": {
            "image/png": "[encoded data removed]",
            "text/plain": [
              "<matplotlib.figure.Figure at 0x7f7a08c79d30>"
            ]
          },
          "metadata": {
            "tags": []
          }
        }
      ]
    },
    {
      "metadata": {
        "id": "efWc9kTGjnat",
        "colab_type": "text"
      },
      "cell_type": "markdown",
      "source": [
        "- Our goal is to reduce error (\"minimize the cost\")\n",
        "- The error is a function of the parameters of our network. We are looking for the optimum set of weights (i.e. cost is 0 or is as small as possible.)\n",
        "- Where I am is my current set of weights. Where I want to be is the set of weights where error or cost is 0."
      ]
    },
    {
      "metadata": {
        "id": "L_5o-j32d881",
        "colab_type": "text"
      },
      "cell_type": "markdown",
      "source": [
        "### 최소값과 최대값\n",
        "- 전역적 최소값\n",
        "- 지역적 최소값"
      ]
    },
    {
      "metadata": {
        "id": "xbO0YfNob-BE",
        "colab_type": "code",
        "colab": {}
      },
      "cell_type": "code",
      "source": [
        "x = np.linspace(0,5,num=100)\n",
        "y3 = (x**3)/3-2*(x**2)+ (3*x)+1"
      ],
      "execution_count": 0,
      "outputs": []
    },
    {
      "metadata": {
        "id": "WCIspk3zb-BH",
        "colab_type": "code",
        "outputId": "cecfbaf1-73a0-4951-8a40-79bfeddd080e",
        "colab": {
          "base_uri": "https://localhost:8080/",
          "height": 287
        }
      },
      "cell_type": "code",
      "source": [
        "plt.grid()\n",
        "plt.plot(x,y3)\n",
        "plt.scatter(1,7/3, color='r')\n",
        "plt.scatter(3,1, color ='r')"
      ],
      "execution_count": 0,
      "outputs": [
        {
          "output_type": "execute_result",
          "data": {
            "text/plain": [
              "<matplotlib.collections.PathCollection at 0x7faec3651470>"
            ]
          },
          "metadata": {
            "tags": []
          },
          "execution_count": 7
        },
        {
          "output_type": "display_data",
          "data": {
            "image/png": "[encoded data removed]",
            "text/plain": [
              "<matplotlib.figure.Figure at 0x7faec6462550>"
            ]
          },
          "metadata": {
            "tags": []
          }
        }
      ]
    },
    {
      "metadata": {
        "id": "DFNazaQcb-BM",
        "colab_type": "text"
      },
      "cell_type": "markdown",
      "source": [
        "- $f(x) = 1/3x^3 - 2x^2 + 3x +1$\n",
        "- $f'(x) = x^2 - 4x + 3$\n",
        "- $(x-3)(x-1) = 0$\n",
        "- Minimum or Maximum at 3, 1"
      ]
    },
    {
      "metadata": {
        "id": "IGTI_os5kEkC",
        "colab_type": "text"
      },
      "cell_type": "markdown",
      "source": [
        "## 딥러닝에서 손실(비용)함수의 최소값을 찾는 방법\n",
        "\n",
        "- In deep neural networks we have cost functions with hundreds of thousands of parameters!\n",
        "- We can't get at minimums analytically.\n",
        "- We have to calculate gradients and move incrementally reach minima."
      ]
    },
    {
      "metadata": {
        "id": "PWQJAIurZWwT",
        "colab_type": "text"
      },
      "cell_type": "markdown",
      "source": [
        "### 경사하강법 (Gradient descent method)\n",
        "\n",
        "- Assumes we can't find minimum analytically\n",
        "- We calculate gradient at current point. Negative gradient tells us *direction* of steepest descent.\n",
        "- We take incremental step towards steepest descent. \n",
        "- We recalculate error based on new coordinates (i.e. new weights or parameters)\n",
        "- We iterate until we converge to minimum."
      ]
    },
    {
      "metadata": {
        "id": "8ja-nbMQb-BN",
        "colab_type": "text"
      },
      "cell_type": "markdown",
      "source": [
        "## What is Gradient Descent?"
      ]
    },
    {
      "metadata": {
        "id": "lK470mc3b-BO",
        "colab_type": "text"
      },
      "cell_type": "markdown",
      "source": [
        "> **Gradient descent** is a first-order iterative optimization algorithm for finding the minimum of a function. To find a local minimum of a function using gradient descent, one takes steps proportional to the negative of the gradient (or approximate gradient) of the function at the current point.\n",
        "\n",
        "> **경사하강법**은 파라미터로 정의되는 손실함수의 최소값을 찾는 방법이다. 현재 위치의 기울기를 계산한 후 일정 비율로 기울기를 작게해서 최소 기울기를 가진 파라미터를 찾는 방법이다. "
      ]
    },
    {
      "metadata": {
        "id": "SBGym7a4b-BP",
        "colab_type": "code",
        "colab": {}
      },
      "cell_type": "code",
      "source": [
        ""
      ],
      "execution_count": 0,
      "outputs": []
    }
  ]
}