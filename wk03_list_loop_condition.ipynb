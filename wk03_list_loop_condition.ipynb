{
  "nbformat": 4,
  "nbformat_minor": 0,
  "metadata": {
    "colab": {
      "name": "wk03_list_loop_condition",
      "version": "0.3.2",
      "provenance": [],
      "collapsed_sections": [
        "TYWzyR9Sr2Ir",
        "TW201Ww4r2Is",
        "uaqvl6MLr2Iv"
      ],
      "include_colab_link": true
    },
    "kernelspec": {
      "display_name": "Python 3",
      "language": "python",
      "name": "python3"
    }
  },
  "cells": [
    {
      "cell_type": "markdown",
      "metadata": {
        "id": "view-in-github",
        "colab_type": "text"
      },
      "source": [
        "[View in Colaboratory](https://colab.research.google.com/github/zza0818/py-11/blob/master/wk03_list_loop_condition.ipynb)"
      ]
    },
    {
      "metadata": {
        "id": "i6EIw6c1sV3n",
        "colab_type": "toc"
      },
      "cell_type": "markdown",
      "source": [
        ">>[리스트 사용 (Ch.2-4)](#scrollTo=PunZILBRr2GU)\n",
        "\n",
        ">>>[리스트 정의](#scrollTo=uDx73pnlr2GW)\n",
        "\n",
        ">>>[인덱스(index)를 사용하여 리스트의 요소를 추출](#scrollTo=hQJUnnCOr2Gh)\n",
        "\n",
        ">>>[max & argmax of list](#scrollTo=I1eMRj8Ur2Go)\n",
        "\n",
        ">>>[리스트(List)의 연결](#scrollTo=xy50J_ELr2Gq)\n",
        "\n",
        ">>>>[연도별로 온도 변화 그래프 그리기](#scrollTo=XKkhqqFnr2Gv)\n",
        "\n",
        ">>>[리스트(List) 요소의 변경 삭제](#scrollTo=3V6_VBBor2Gz)\n",
        "\n",
        ">>>[슬라이스를 이용하여 여러 요소를 추출](#scrollTo=EQHqrQOlr2G6)\n",
        "\n",
        ">>>[리스트의 리스트 － 2 차원 배열](#scrollTo=xKv3ejd8r2HH)\n",
        "\n",
        ">>>[리스트의 합계 최대값, 최소값](#scrollTo=CCvfI5-Zr2HP)\n",
        "\n",
        ">>>[리스트의 항목 수를 측정](#scrollTo=SLYVCt8cr2HV)\n",
        "\n",
        ">>[for문에서 루프를 사용 (Ch.2-5)](#scrollTo=yBotwhUzr2Ha)\n",
        "\n",
        ">>>[range() 함수](#scrollTo=DvifHpWbr2Hh)\n",
        "\n",
        ">>>[도전코딩-3.](#scrollTo=yZMAodvdr2Hr)\n",
        "\n",
        ">>[if문에서 조건 분기 (Ch.2-6)](#scrollTo=EGQkf6Uer2Ht)\n",
        "\n",
        ">>>[수치를 비교](#scrollTo=rBQd5bWpr2Hu)\n",
        "\n",
        ">>>[문자열을 비교](#scrollTo=JiL4QqkFr2H4)\n",
        "\n",
        ">>>[문자열을 검색](#scrollTo=zp93WFkYr2H7)\n",
        "\n",
        ">>>[리스트를 비교](#scrollTo=2L6Nc9mMr2H7)\n",
        "\n",
        ">>>[리스트의 요소를 검색](#scrollTo=Rb81cj5Or2H-)\n",
        "\n",
        ">>>[else문을 사용](#scrollTo=cxf6RzhNr2IC)\n",
        "\n",
        ">>>[elif문의 사용](#scrollTo=O78UXnbbr2IG)\n",
        "\n",
        ">>[함수를 사용 (Ch.2-7)](#scrollTo=lxRg-f09r2IL)\n",
        "\n",
        ">>>[함수란](#scrollTo=i96iFNWLr2IL)\n",
        "\n",
        ">>>[도전코딩 4.](#scrollTo=FepGeP9pr2IP)\n",
        "\n",
        ">>>[함수를 호출](#scrollTo=sF6O9SRZr2IR)\n",
        "\n",
        ">>>[함수의 인수](#scrollTo=sPlWPLocr2IU)\n",
        "\n",
        ">>>[함수의 정의](#scrollTo=I3l37h9Kr2IZ)\n",
        "\n",
        ">>>[인수 (매개변수)를 정의](#scrollTo=Yf8yH5pnr2Ib)\n",
        "\n",
        ">>>[함수의 반환값](#scrollTo=eU4C1051r2Ig)\n",
        "\n",
        ">>>[지역 변수](#scrollTo=g3haiQEQr2Ij)\n",
        "\n",
        ">>>[반복 사용하는 코드를 함수로 정리](#scrollTo=yiaiyUpur2Ik)\n",
        "\n",
        ">>[모듈 사용 (Ch.2-8)](#scrollTo=Wc0_zpOer2Ir)\n",
        "\n",
        ">>>[모듈 import (가져 오기)](#scrollTo=TYWzyR9Sr2Ir)\n",
        "\n",
        ">>>[import ~ as ~](#scrollTo=TW201Ww4r2Is)\n",
        "\n",
        ">>>[from을 사용한 import](#scrollTo=uaqvl6MLr2Iv)\n",
        "\n",
        ">>>[도전코딩 5. 모듈사용](#scrollTo=ljGmhPLTr2Iv)\n",
        "\n"
      ]
    },
    {
      "metadata": {
        "id": "PunZILBRr2GU",
        "colab_type": "text"
      },
      "cell_type": "markdown",
      "source": [
        "## 리스트 사용 (Ch.2-4)"
      ]
    },
    {
      "metadata": {
        "id": "uDx73pnlr2GW",
        "colab_type": "text"
      },
      "cell_type": "markdown",
      "source": [
        "### 리스트 정의"
      ]
    },
    {
      "metadata": {
        "id": "9FClWVlWr2GY",
        "colab_type": "code",
        "colab": {
          "base_uri": "https://localhost:8080/",
          "height": 35
        },
        "outputId": "1856be9f-4029-4f31-fac7-502db4b3ab33"
      },
      "cell_type": "code",
      "source": [
        "# 도쿄의 낮 평균 기온 (1950년부터 2000년까지)\n",
        "# 변수 리스트를 할당\n",
        "tokyo_temps = [15.1, 15.4, 15.2, 15.4, 17.0, 16.9]\n",
        "tokyo_temps"
      ],
      "execution_count": 2,
      "outputs": [
        {
          "output_type": "execute_result",
          "data": {
            "text/plain": [
              "[15.1, 15.4, 15.2, 15.4, 17.0, 16.9]"
            ]
          },
          "metadata": {
            "tags": []
          },
          "execution_count": 2
        }
      ]
    },
    {
      "metadata": {
        "id": "Il3Serfxr2Gb",
        "colab_type": "code",
        "colab": {}
      },
      "cell_type": "code",
      "source": [
        "# 그래프의 표시 준비\n",
        "%matplotlib inline\n",
        "import matplotlib.pyplot as plt"
      ],
      "execution_count": 0,
      "outputs": []
    },
    {
      "metadata": {
        "id": "-j9gaFQ9r2Ge",
        "colab_type": "code",
        "colab": {
          "base_uri": "https://localhost:8080/",
          "height": 283
        },
        "outputId": "7c715f7f-8d80-4548-bb3b-932990b38abd"
      },
      "cell_type": "code",
      "source": [
        "# 그래프의 표시\n",
        "plt.plot(tokyo_temps, 'g*-', ms=15)"
      ],
      "execution_count": 4,
      "outputs": [
        {
          "output_type": "execute_result",
          "data": {
            "text/plain": [
              "[<matplotlib.lines.Line2D at 0x7f56e6e22470>]"
            ]
          },
          "metadata": {
            "tags": []
          },
          "execution_count": 4
        },
        {
          "output_type": "display_data",
          "data": {
            "image/png": "[encoded data removed]",
            "text/plain": [
              "<matplotlib.figure.Figure at 0x7f56e6ef0780>"
            ]
          },
          "metadata": {
            "tags": []
          }
        }
      ]
    },
    {
      "metadata": {
        "id": "Az4WY7cAtoIe",
        "colab_type": "text"
      },
      "cell_type": "markdown",
      "source": [
        "#### 연도별 평균온도 그래프"
      ]
    },
    {
      "metadata": {
        "id": "jjKE62oytj1m",
        "colab_type": "code",
        "colab": {}
      },
      "cell_type": "code",
      "source": [
        "year = range(1950,2010,10)"
      ],
      "execution_count": 0,
      "outputs": []
    },
    {
      "metadata": {
        "id": "TD1H0bHXuESO",
        "colab_type": "code",
        "colab": {
          "base_uri": "https://localhost:8080/",
          "height": 283
        },
        "outputId": "f0b3d74a-0c38-4b76-8bee-f696e6253d3c"
      },
      "cell_type": "code",
      "source": [
        "plt.plot(year,tokyo_temps,'r^-',ms=15)"
      ],
      "execution_count": 8,
      "outputs": [
        {
          "output_type": "execute_result",
          "data": {
            "text/plain": [
              "[<matplotlib.lines.Line2D at 0x7f56e4520780>]"
            ]
          },
          "metadata": {
            "tags": []
          },
          "execution_count": 8
        },
        {
          "output_type": "display_data",
          "data": {
            "image/png": "[encoded data removed]",
            "text/plain": [
              "<matplotlib.figure.Figure at 0x7f56e4592630>"
            ]
          },
          "metadata": {
            "tags": []
          }
        }
      ]
    },
    {
      "metadata": {
        "id": "hQJUnnCOr2Gh",
        "colab_type": "text"
      },
      "cell_type": "markdown",
      "source": [
        "### 인덱스(index)를 사용하여 리스트의 요소를 추출"
      ]
    },
    {
      "metadata": {
        "id": "FP7RGerGr2Gh",
        "colab_type": "code",
        "colab": {
          "base_uri": "https://localhost:8080/",
          "height": 35
        },
        "outputId": "c3515d09-c700-4c07-e6ae-f79d4542b046"
      },
      "cell_type": "code",
      "source": [
        "tokyo_temps[0]   # 1950년의 평균 기온"
      ],
      "execution_count": 9,
      "outputs": [
        {
          "output_type": "execute_result",
          "data": {
            "text/plain": [
              "15.1"
            ]
          },
          "metadata": {
            "tags": []
          },
          "execution_count": 9
        }
      ]
    },
    {
      "metadata": {
        "id": "akW62OZOr2Gj",
        "colab_type": "code",
        "colab": {
          "base_uri": "https://localhost:8080/",
          "height": 35
        },
        "outputId": "9d731192-2a4e-4c02-e627-b4191033daba"
      },
      "cell_type": "code",
      "source": [
        "# 2000년까지 50년 평균 기온이 몇도 올랐는지 계산\n",
        "# 리스트 요소의 뺄셈\n",
        "tokyo_temps[5]-tokyo_temps[0],round(tokyo_temps[5]-tokyo_temps[0],1)"
      ],
      "execution_count": 11,
      "outputs": [
        {
          "output_type": "execute_result",
          "data": {
            "text/plain": [
              "(1.799999999999999, 1.8)"
            ]
          },
          "metadata": {
            "tags": []
          },
          "execution_count": 11
        }
      ]
    },
    {
      "metadata": {
        "id": "Y1_U-36Br2Gm",
        "colab_type": "text"
      },
      "cell_type": "markdown",
      "source": [
        "계산 결과가 1.8이 되지 않는 것이 이상한 사람은 다음을 참고[기사](http://web.archive.org/web/20160506221107/http://pc.nikkeibp.co.jp/pc21/special/gosa/eg4.shtml)\n",
        "\n",
        "또한 (파이썬에서 클래를 사용)에도 쉽게 설명하고 있다"
      ]
    },
    {
      "metadata": {
        "id": "FCYHjLTlr2Gm",
        "colab_type": "code",
        "colab": {
          "base_uri": "https://localhost:8080/",
          "height": 35
        },
        "outputId": "6e47534d-8813-49c5-b53c-2a4956fcf744"
      },
      "cell_type": "code",
      "source": [
        "# 인덱스에 -1을 주고 같은 온도 차이를 계산\n",
        "# 리스트의 마지막 요소를 지정\n",
        "round(tokyo_temps[-1]-tokyo_temps[0],1)"
      ],
      "execution_count": 13,
      "outputs": [
        {
          "output_type": "execute_result",
          "data": {
            "text/plain": [
              "1.8"
            ]
          },
          "metadata": {
            "tags": []
          },
          "execution_count": 13
        }
      ]
    },
    {
      "metadata": {
        "id": "I1eMRj8Ur2Go",
        "colab_type": "text"
      },
      "cell_type": "markdown",
      "source": [
        "### max & argmax of list"
      ]
    },
    {
      "metadata": {
        "id": "K1pGeqI_r2Go",
        "colab_type": "code",
        "colab": {
          "base_uri": "https://localhost:8080/",
          "height": 35
        },
        "outputId": "09564325-6243-459c-e387-a5bf37d203f5"
      },
      "cell_type": "code",
      "source": [
        "import numpy as np\n",
        "max(tokyo_temps),np.argmax(tokyo_temps)"
      ],
      "execution_count": 14,
      "outputs": [
        {
          "output_type": "execute_result",
          "data": {
            "text/plain": [
              "(17.0, 4)"
            ]
          },
          "metadata": {
            "tags": []
          },
          "execution_count": 14
        }
      ]
    },
    {
      "metadata": {
        "id": "xy50J_ELr2Gq",
        "colab_type": "text"
      },
      "cell_type": "markdown",
      "source": [
        "### 리스트(List)의 연결"
      ]
    },
    {
      "metadata": {
        "id": "KDSRD74Nr2Gr",
        "colab_type": "code",
        "colab": {}
      },
      "cell_type": "code",
      "source": [
        "# 리스트에 1900년부터 1940년의 평균 기온 추가\n",
        "# 리스트의 덧셈\n",
        "e_tokyo_temps = [13.6, 13.5, 14.2, 14.8, 14.8]\n",
        "tokyo_temps2 = e_tokyo_temps+tokyo_temps"
      ],
      "execution_count": 0,
      "outputs": []
    },
    {
      "metadata": {
        "id": "Z71rY_8Rr2Gt",
        "colab_type": "code",
        "colab": {
          "base_uri": "https://localhost:8080/",
          "height": 283
        },
        "outputId": "5f7d2961-006a-4f3a-95b6-8c6e8c4aa0a5"
      },
      "cell_type": "code",
      "source": [
        "# 그래프의 표시\n",
        "plt.plot(tokyo_temps2,'r*-',ms=12)"
      ],
      "execution_count": 16,
      "outputs": [
        {
          "output_type": "execute_result",
          "data": {
            "text/plain": [
              "[<matplotlib.lines.Line2D at 0x7f56e4487e10>]"
            ]
          },
          "metadata": {
            "tags": []
          },
          "execution_count": 16
        },
        {
          "output_type": "display_data",
          "data": {
            "image/png": "[encoded data removed]",
            "text/plain": [
              "<matplotlib.figure.Figure at 0x7f56e4501470>"
            ]
          },
          "metadata": {
            "tags": []
          }
        }
      ]
    },
    {
      "metadata": {
        "id": "XKkhqqFnr2Gv",
        "colab_type": "text"
      },
      "cell_type": "markdown",
      "source": [
        "#### 연도별로 온도 변화 그래프 그리기"
      ]
    },
    {
      "metadata": {
        "id": "rywyscM9r2Gv",
        "colab_type": "code",
        "colab": {
          "base_uri": "https://localhost:8080/",
          "height": 35
        },
        "outputId": "194bd07f-62bf-44c4-8b56-846b5f9bbbfc"
      },
      "cell_type": "code",
      "source": [
        "year = range(1900,2010,10)\n",
        "year"
      ],
      "execution_count": 17,
      "outputs": [
        {
          "output_type": "execute_result",
          "data": {
            "text/plain": [
              "range(1900, 2010, 10)"
            ]
          },
          "metadata": {
            "tags": []
          },
          "execution_count": 17
        }
      ]
    },
    {
      "metadata": {
        "id": "tQTi7VS-r2Gy",
        "colab_type": "code",
        "colab": {
          "base_uri": "https://localhost:8080/",
          "height": 283
        },
        "outputId": "a423e8b0-09de-45c7-a792-910150ed41d8"
      },
      "cell_type": "code",
      "source": [
        "plt.plot(year,tokyo_temps2,'b*-',ms=12)"
      ],
      "execution_count": 18,
      "outputs": [
        {
          "output_type": "execute_result",
          "data": {
            "text/plain": [
              "[<matplotlib.lines.Line2D at 0x7f56e446aef0>]"
            ]
          },
          "metadata": {
            "tags": []
          },
          "execution_count": 18
        },
        {
          "output_type": "display_data",
          "data": {
            "image/png": "[encoded data removed]",
            "text/plain": [
              "<matplotlib.figure.Figure at 0x7f56e44fb0b8>"
            ]
          },
          "metadata": {
            "tags": []
          }
        }
      ]
    },
    {
      "metadata": {
        "id": "3V6_VBBor2Gz",
        "colab_type": "text"
      },
      "cell_type": "markdown",
      "source": [
        "### 리스트(List) 요소의 변경 삭제"
      ]
    },
    {
      "metadata": {
        "id": "BjI-ZVI7r2G0",
        "colab_type": "code",
        "colab": {
          "base_uri": "https://localhost:8080/",
          "height": 35
        },
        "outputId": "f280578f-96de-4e64-97ce-1f9e646ac68d"
      },
      "cell_type": "code",
      "source": [
        "# 문자열의 리스트를 정의하고 내용보기\n",
        "# 리스트 \"mcz\" 만들기\n",
        "mcz = [\"AB\", \"CD\", \"EF\", \"GH\", \"IJ\", \"KL\"]\n",
        "mcz"
      ],
      "execution_count": 19,
      "outputs": [
        {
          "output_type": "execute_result",
          "data": {
            "text/plain": [
              "['AB', 'CD', 'EF', 'GH', 'IJ', 'KL']"
            ]
          },
          "metadata": {
            "tags": []
          },
          "execution_count": 19
        }
      ]
    },
    {
      "metadata": {
        "id": "bxwzlGDur2G3",
        "colab_type": "code",
        "colab": {
          "base_uri": "https://localhost:8080/",
          "height": 35
        },
        "outputId": "6028488b-c837-486c-8b67-d5930e53a2dd"
      },
      "cell_type": "code",
      "source": [
        "# 여섯 번째[5] 요소를 다시 작성\n",
        "mcz[5] = 'ZY'\n",
        "mcz                 # 변경 후 리스트 확인"
      ],
      "execution_count": 20,
      "outputs": [
        {
          "output_type": "execute_result",
          "data": {
            "text/plain": [
              "['AB', 'CD', 'EF', 'GH', 'IJ', 'ZY']"
            ]
          },
          "metadata": {
            "tags": []
          },
          "execution_count": 20
        }
      ]
    },
    {
      "metadata": {
        "id": "CZ5_3Ec1w6C9",
        "colab_type": "code",
        "colab": {
          "base_uri": "https://localhost:8080/",
          "height": 172
        },
        "outputId": "a931146d-cd3b-48e0-8a9d-77eb201fa13b"
      },
      "cell_type": "code",
      "source": [
        "mcz[6]='py11'"
      ],
      "execution_count": 21,
      "outputs": [
        {
          "output_type": "error",
          "ename": "IndexError",
          "evalue": "ignored",
          "traceback": [
            "\u001b[0;31m---------------------------------------------------------------------------\u001b[0m",
            "\u001b[0;31mIndexError\u001b[0m                                Traceback (most recent call last)",
            "\u001b[0;32m<ipython-input-21-fe99a25a832f>\u001b[0m in \u001b[0;36m<module>\u001b[0;34m()\u001b[0m\n\u001b[0;32m----> 1\u001b[0;31m \u001b[0mmcz\u001b[0m\u001b[0;34m[\u001b[0m\u001b[0;36m6\u001b[0m\u001b[0;34m]\u001b[0m\u001b[0;34m=\u001b[0m\u001b[0;34m'py11'\u001b[0m\u001b[0;34m\u001b[0m\u001b[0m\n\u001b[0m",
            "\u001b[0;31mIndexError\u001b[0m: list assignment index out of range"
          ]
        }
      ]
    },
    {
      "metadata": {
        "id": "og6ZXg5Xr2G4",
        "colab_type": "code",
        "colab": {
          "base_uri": "https://localhost:8080/",
          "height": 35
        },
        "outputId": "bec940b2-36ae-4b25-c94d-3705f596e717"
      },
      "cell_type": "code",
      "source": [
        "# 요소의 제거\n",
        "del mcz[0]\n",
        "mcz            # 변경 후 리스트 확인"
      ],
      "execution_count": 22,
      "outputs": [
        {
          "output_type": "execute_result",
          "data": {
            "text/plain": [
              "['CD', 'EF', 'GH', 'IJ', 'ZY']"
            ]
          },
          "metadata": {
            "tags": []
          },
          "execution_count": 22
        }
      ]
    },
    {
      "metadata": {
        "id": "EQHqrQOlr2G6",
        "colab_type": "text"
      },
      "cell_type": "markdown",
      "source": [
        "### 슬라이스를 이용하여 여러 요소를 추출(중요)"
      ]
    },
    {
      "metadata": {
        "id": "DhjYEih8r2G6",
        "colab_type": "code",
        "colab": {
          "base_uri": "https://localhost:8080/",
          "height": 35
        },
        "outputId": "b38e9c5c-48b9-4879-c4af-4d4da78ddc35"
      },
      "cell_type": "code",
      "source": [
        "# 인덱스 1부터 2까지의 요소를 슬라이스로 검색\n",
        "# 슬라이스의 사용 예\n",
        "lst1 = mcz[1:3]\n",
        "lst1"
      ],
      "execution_count": 23,
      "outputs": [
        {
          "output_type": "execute_result",
          "data": {
            "text/plain": [
              "['EF', 'GH']"
            ]
          },
          "metadata": {
            "tags": []
          },
          "execution_count": 23
        }
      ]
    },
    {
      "metadata": {
        "id": "nwUaMrsTr2G9",
        "colab_type": "code",
        "colab": {
          "base_uri": "https://localhost:8080/",
          "height": 35
        },
        "outputId": "9bc71ce2-4b5d-46a4-ae00-05a584dea45a"
      },
      "cell_type": "code",
      "source": [
        "# 슬라이스 왼쪽 인덱스를 생략하면 처음부터 추출\n",
        "# 슬라이스의 사용 예\n",
        "mcz[:2]"
      ],
      "execution_count": 24,
      "outputs": [
        {
          "output_type": "execute_result",
          "data": {
            "text/plain": [
              "['CD', 'EF']"
            ]
          },
          "metadata": {
            "tags": []
          },
          "execution_count": 24
        }
      ]
    },
    {
      "metadata": {
        "id": "iQmVegWZr2G_",
        "colab_type": "code",
        "colab": {
          "base_uri": "https://localhost:8080/",
          "height": 35
        },
        "outputId": "322a42a2-6ff5-4ff3-e641-7d0186e89b2e"
      },
      "cell_type": "code",
      "source": [
        "# 오른쪽 인덱스를 생략하면 마지막까지 추출\n",
        "# 슬라이스의 사용 예\n",
        "mcz[1:]"
      ],
      "execution_count": 25,
      "outputs": [
        {
          "output_type": "execute_result",
          "data": {
            "text/plain": [
              "['EF', 'GH', 'IJ', 'ZY']"
            ]
          },
          "metadata": {
            "tags": []
          },
          "execution_count": 25
        }
      ]
    },
    {
      "metadata": {
        "id": "w7ph6sWCr2HC",
        "colab_type": "code",
        "colab": {
          "base_uri": "https://localhost:8080/",
          "height": 35
        },
        "outputId": "f196dc52-b8d8-4aed-a15a-5459fdfcda95"
      },
      "cell_type": "code",
      "source": [
        "mcz[-1] "
      ],
      "execution_count": 27,
      "outputs": [
        {
          "output_type": "execute_result",
          "data": {
            "text/plain": [
              "'ZY'"
            ]
          },
          "metadata": {
            "tags": []
          },
          "execution_count": 27
        }
      ]
    },
    {
      "metadata": {
        "id": "ZvTUXnoWr2HF",
        "colab_type": "code",
        "colab": {
          "base_uri": "https://localhost:8080/",
          "height": 35
        },
        "outputId": "6af42dc7-c490-4321-b285-349f34fdcd69"
      },
      "cell_type": "code",
      "source": [
        "mcz[:-1]"
      ],
      "execution_count": 28,
      "outputs": [
        {
          "output_type": "execute_result",
          "data": {
            "text/plain": [
              "['CD', 'EF', 'GH', 'IJ']"
            ]
          },
          "metadata": {
            "tags": []
          },
          "execution_count": 28
        }
      ]
    },
    {
      "metadata": {
        "id": "xKv3ejd8r2HH",
        "colab_type": "text"
      },
      "cell_type": "markdown",
      "source": [
        "### 리스트의 리스트 － 2 차원 배열"
      ]
    },
    {
      "metadata": {
        "id": "djsNNaV1r2HH",
        "colab_type": "text"
      },
      "cell_type": "markdown",
      "source": [
        "\n",
        "|도시 이름/년|1930|1940|1950|1960|1970|1980|1990|2000|\n",
        "|-----|----|----|----|----|----|----|----|----|\n",
        "|도쿄도|14.8|14.8|15.1|15.4|15.2|15.4|17.0|16.9|\n",
        "|아키타시|10.0|10.4|11.5|11.2|10.9|10.6|11.8|12.2|\n",
        "|구마모토시|16.0|15.5|15.9|16.4|15.9|15.6|17.5|17.1|\n"
      ]
    },
    {
      "metadata": {
        "id": "BfK5b9fzr2HI",
        "colab_type": "code",
        "colab": {}
      },
      "cell_type": "code",
      "source": [
        "# 각 도시의 평균 기온 리스트\n",
        "city_temps = [\n",
        "#도쿄의 평균 기온\n",
        "[14.8, 14.8, 15.1, 15.4, 15.2, 15.4, 17.0, 16.9],\n",
        "#아키타시의 평균 기온\n",
        "[10.0, 10.4, 11.5, 11.2, 10.9, 10.6, 11.8, 12.2],\n",
        "#구마모토시의 평균 기온\n",
        "[16.0, 15.5, 15.9, 16.4, 15.9, 15.6, 17.5, 17.1]\n",
        "]"
      ],
      "execution_count": 0,
      "outputs": []
    },
    {
      "metadata": {
        "id": "bmvWgfJir2HK",
        "colab_type": "code",
        "colab": {
          "base_uri": "https://localhost:8080/",
          "height": 35
        },
        "outputId": "4e68387c-6004-4b63-db0f-8a6f4eff5ff1"
      },
      "cell_type": "code",
      "source": [
        "# 아키타시의 평균 기온 리스트 보기\n",
        "city_temps[1]"
      ],
      "execution_count": 30,
      "outputs": [
        {
          "output_type": "execute_result",
          "data": {
            "text/plain": [
              "[10.0, 10.4, 11.5, 11.2, 10.9, 10.6, 11.8, 12.2]"
            ]
          },
          "metadata": {
            "tags": []
          },
          "execution_count": 30
        }
      ]
    },
    {
      "metadata": {
        "id": "BvXQpoFXr2HM",
        "colab_type": "code",
        "colab": {
          "base_uri": "https://localhost:8080/",
          "height": 35
        },
        "outputId": "0c73e024-3e8c-4784-ffec-828a610380fb"
      },
      "cell_type": "code",
      "source": [
        "# 평균 기온 비교\n",
        "round(city_temps[2][7]- city_temps[2][0],1)"
      ],
      "execution_count": 32,
      "outputs": [
        {
          "output_type": "execute_result",
          "data": {
            "text/plain": [
              "1.1"
            ]
          },
          "metadata": {
            "tags": []
          },
          "execution_count": 32
        }
      ]
    },
    {
      "metadata": {
        "id": "erDr9-9br2HO",
        "colab_type": "code",
        "colab": {
          "base_uri": "https://localhost:8080/",
          "height": 283
        },
        "outputId": "f9175eb7-d6cd-41f5-bb5f-aaf428310b15"
      },
      "cell_type": "code",
      "source": [
        "# 3개 도시의 평균 기온 그래프 그리기\n",
        "plt.plot(city_temps[0],'g*-', ms=12)       # 도쿄도의 그래프 그리기\n",
        "plt.plot(city_temps[1],'b^-', ms=12)       # 아키타시의 그래프 그리기\n",
        "plt.plot(city_temps[2],'ro-', ms=12)       # 구마모토시의 그래프 그리기\n",
        "# 그래프의 선색과 마커를 변경하시오."
      ],
      "execution_count": 34,
      "outputs": [
        {
          "output_type": "execute_result",
          "data": {
            "text/plain": [
              "[<matplotlib.lines.Line2D at 0x7f56e42e1898>]"
            ]
          },
          "metadata": {
            "tags": []
          },
          "execution_count": 34
        },
        {
          "output_type": "display_data",
          "data": {
            "image/png": "[encoded data removed]",
            "text/plain": [
              "<matplotlib.figure.Figure at 0x7f56e43062e8>"
            ]
          },
          "metadata": {
            "tags": []
          }
        }
      ]
    },
    {
      "metadata": {
        "id": "CCvfI5-Zr2HP",
        "colab_type": "text"
      },
      "cell_type": "markdown",
      "source": [
        "### 리스트의 합계 최대값, 최소값"
      ]
    },
    {
      "metadata": {
        "id": "6MZEyXeWr2HQ",
        "colab_type": "code",
        "colab": {
          "base_uri": "https://localhost:8080/",
          "height": 35
        },
        "outputId": "e8f84fd1-66b1-4732-ea16-ae57079ac790"
      },
      "cell_type": "code",
      "source": [
        "monk_fish_team = [158, 157, 163, 157, 145]\n",
        "sum(monk_fish_team)   # 리스트의 합계를 계산"
      ],
      "execution_count": 35,
      "outputs": [
        {
          "output_type": "execute_result",
          "data": {
            "text/plain": [
              "780"
            ]
          },
          "metadata": {
            "tags": []
          },
          "execution_count": 35
        }
      ]
    },
    {
      "metadata": {
        "id": "KBOkkoaZr2HS",
        "colab_type": "code",
        "colab": {
          "base_uri": "https://localhost:8080/",
          "height": 35
        },
        "outputId": "4aec448b-161e-4e1e-cb90-0b772fe21a06"
      },
      "cell_type": "code",
      "source": [
        "max(monk_fish_team)   # 최대 값 계산"
      ],
      "execution_count": 36,
      "outputs": [
        {
          "output_type": "execute_result",
          "data": {
            "text/plain": [
              "163"
            ]
          },
          "metadata": {
            "tags": []
          },
          "execution_count": 36
        }
      ]
    },
    {
      "metadata": {
        "id": "NGOP7CKdr2HT",
        "colab_type": "code",
        "colab": {
          "base_uri": "https://localhost:8080/",
          "height": 35
        },
        "outputId": "31de52c0-9d06-4bfa-c8a2-192582f85b85"
      },
      "cell_type": "code",
      "source": [
        "min(monk_fish_team)   # 최소 값 계산"
      ],
      "execution_count": 37,
      "outputs": [
        {
          "output_type": "execute_result",
          "data": {
            "text/plain": [
              "145"
            ]
          },
          "metadata": {
            "tags": []
          },
          "execution_count": 37
        }
      ]
    },
    {
      "metadata": {
        "id": "_I9j0ls3r2HV",
        "colab_type": "text"
      },
      "cell_type": "markdown",
      "source": [
        "> 최소, 최대값의 인수를 구하시오."
      ]
    },
    {
      "metadata": {
        "id": "JAHvUH290CUt",
        "colab_type": "code",
        "colab": {
          "base_uri": "https://localhost:8080/",
          "height": 35
        },
        "outputId": "7ac05772-4bca-4646-e697-d4737ed5ede2"
      },
      "cell_type": "code",
      "source": [
        "np.argmin(monk_fish_team),np.argmax(monk_fish_team) # 인덱스"
      ],
      "execution_count": 39,
      "outputs": [
        {
          "output_type": "execute_result",
          "data": {
            "text/plain": [
              "(4, 2)"
            ]
          },
          "metadata": {
            "tags": []
          },
          "execution_count": 39
        }
      ]
    },
    {
      "metadata": {
        "id": "SLYVCt8cr2HV",
        "colab_type": "text"
      },
      "cell_type": "markdown",
      "source": [
        "### 리스트의 항목 수를 측정"
      ]
    },
    {
      "metadata": {
        "id": "VwbtWn7jr2HW",
        "colab_type": "code",
        "colab": {
          "base_uri": "https://localhost:8080/",
          "height": 35
        },
        "outputId": "93ebdbac-c647-4542-fead-6cf7cb19e767"
      },
      "cell_type": "code",
      "source": [
        "len(monk_fish_team)   # 리스트의 길이(항목 수)를 조사"
      ],
      "execution_count": 40,
      "outputs": [
        {
          "output_type": "execute_result",
          "data": {
            "text/plain": [
              "5"
            ]
          },
          "metadata": {
            "tags": []
          },
          "execution_count": 40
        }
      ]
    },
    {
      "metadata": {
        "id": "NBbkAH_Qr2HX",
        "colab_type": "code",
        "colab": {
          "base_uri": "https://localhost:8080/",
          "height": 35
        },
        "outputId": "5264bddb-47ef-456c-e2f1-049b6a911765"
      },
      "cell_type": "code",
      "source": [
        "# 합계, 리스트 길이의 응용 - 평균을 계산\n",
        "monk_sum = sum(monk_fish_team)    # 합계를 계산\n",
        "monk_len = len(monk_fish_team)    # 길이를 측정\n",
        "monk_mean = monk_sum/monk_len     # 평균을 계산\n",
        "monk_mean"
      ],
      "execution_count": 41,
      "outputs": [
        {
          "output_type": "execute_result",
          "data": {
            "text/plain": [
              "156.0"
            ]
          },
          "metadata": {
            "tags": []
          },
          "execution_count": 41
        }
      ]
    },
    {
      "metadata": {
        "id": "s6zn2G16r2HY",
        "colab_type": "code",
        "colab": {
          "base_uri": "https://localhost:8080/",
          "height": 283
        },
        "outputId": "855fedba-5061-48dd-8603-3910c7afcc43"
      },
      "cell_type": "code",
      "source": [
        "# 신장 그래프를 그리기\n",
        "\n",
        "plt.bar([0, 1, 2, 3, 4], monk_fish_team)\n",
        "plt.plot([0, len(monk_fish_team)], [monk_mean, monk_mean], color='red') #주석처리할라면 컨트롤슬레싀"
      ],
      "execution_count": 45,
      "outputs": [
        {
          "output_type": "execute_result",
          "data": {
            "text/plain": [
              "[<matplotlib.lines.Line2D at 0x7f56e41d6710>]"
            ]
          },
          "metadata": {
            "tags": []
          },
          "execution_count": 45
        },
        {
          "output_type": "display_data",
          "data": {
            "image/png": "[encoded data removed]",
            "text/plain": [
              "<matplotlib.figure.Figure at 0x7f56e41d6240>"
            ]
          },
          "metadata": {
            "tags": []
          }
        }
      ]
    },
    {
      "metadata": {
        "id": "yBotwhUzr2Ha",
        "colab_type": "text"
      },
      "cell_type": "markdown",
      "source": [
        "## for문에서 루프를 사용 (Ch.2-5)"
      ]
    },
    {
      "metadata": {
        "id": "G96ID0pkr2Ha",
        "colab_type": "code",
        "colab": {
          "base_uri": "https://localhost:8080/",
          "height": 107
        },
        "outputId": "85a6b4c2-f663-4652-e6a1-247ba9411ecd"
      },
      "cell_type": "code",
      "source": [
        "# for문 루프를 사용하여 리스트의 요소를 하나씩 보기\n",
        "mcz = ['AB', 'CD', 'EF', 'GH', 'IJ']\n",
        "for member in mcz: # 각 멤버들의 각 요소를들을 받는 변수 = mcz\n",
        "    print(member)"
      ],
      "execution_count": 46,
      "outputs": [
        {
          "output_type": "stream",
          "text": [
            "AB\n",
            "CD\n",
            "EF\n",
            "GH\n",
            "IJ\n"
          ],
          "name": "stdout"
        }
      ]
    },
    {
      "metadata": {
        "id": "2cJwwnkVr2Hb",
        "colab_type": "code",
        "colab": {
          "base_uri": "https://localhost:8080/",
          "height": 35
        },
        "outputId": "2ca3d115-e5b6-4c48-e03b-7f4085528e78"
      },
      "cell_type": "code",
      "source": [
        "# 루프가 끝난 후에도 리스트의 내용이 바뀌지 않았는지 확인\n",
        "mcz"
      ],
      "execution_count": 47,
      "outputs": [
        {
          "output_type": "execute_result",
          "data": {
            "text/plain": [
              "['AB', 'CD', 'EF', 'GH', 'IJ']"
            ]
          },
          "metadata": {
            "tags": []
          },
          "execution_count": 47
        }
      ]
    },
    {
      "metadata": {
        "id": "cONcbANvr2Hd",
        "colab_type": "code",
        "colab": {
          "base_uri": "https://localhost:8080/",
          "height": 35
        },
        "outputId": "6bbec21e-5fb3-4388-bf82-708d8b849372"
      },
      "cell_type": "code",
      "source": [
        "# for문을 사용하여 분산을 계산\n",
        "# 몽크 피시 팀\n",
        "monk_fish_team = [158, 157, 163, 157, 145]\n",
        "\n",
        "total = sum(monk_fish_team)    # 리스트의 합계\n",
        "length = len(monk_fish_team)   # 리스트의 요소 수(길이)\n",
        "mean = total/length            # 평균을 구함\n",
        "variance = 0                   # 분산을 계산하기 위한 변수\n",
        "\n",
        "for height in monk_fish_team:\n",
        "    variance = variance+(height-mean)**2 # 키에서 평균을 빼고 제곱한 수를 더함\n",
        "\n",
        "variance = variance/length     # 더한 수치를 요소 수로 나누어 분산을 구함 length -> length-1\n",
        "variance"
      ],
      "execution_count": 48,
      "outputs": [
        {
          "output_type": "execute_result",
          "data": {
            "text/plain": [
              "35.2"
            ]
          },
          "metadata": {
            "tags": []
          },
          "execution_count": 48
        }
      ]
    },
    {
      "metadata": {
        "id": "EIpGEssFr2Hf",
        "colab_type": "code",
        "colab": {
          "base_uri": "https://localhost:8080/",
          "height": 35
        },
        "outputId": "da724fde-a613-475e-895a-7a0335b9607c"
      },
      "cell_type": "code",
      "source": [
        "# 분산의 루트를 계산하고 표준 편차를 계산\n",
        "variance**0.5, round(variance**0.5,1)"
      ],
      "execution_count": 49,
      "outputs": [
        {
          "output_type": "execute_result",
          "data": {
            "text/plain": [
              "(5.932958789676531, 5.9)"
            ]
          },
          "metadata": {
            "tags": []
          },
          "execution_count": 49
        }
      ]
    },
    {
      "metadata": {
        "id": "s7SHhMyOr2Hg",
        "colab_type": "code",
        "colab": {
          "base_uri": "https://localhost:8080/",
          "height": 35
        },
        "outputId": "2cdb76f3-0d4f-4d59-b87f-44ff729d9ce9"
      },
      "cell_type": "code",
      "source": [
        "# 다른 리스트에서 표준 편차를 계산\n",
        "# 발리볼 팀\n",
        "volleyball_team = [143, 167, 170, 165]\n",
        "\n",
        "total2 = sum(volleyball_team)    # 리스트의 합계\n",
        "length2 = len(volleyball_team)   # 리스트의 요소 수(길이)\n",
        "mean2 = total2/length2           # 평균을 구함\n",
        "variance2 = 0                    # 분산을 계산하기 위한 변수\n",
        "\n",
        "for height in volleyball_team:\n",
        "    variance2 = variance2+(height-mean2)**2 # 신장에서 평균을 빼고 제곱한 수를 더함\n",
        "\n",
        "variance2 = variance2/length2  # 더한 수치를 요소 수로 나누어 분산을 구함\n",
        "variance2,variance2**0.5"
      ],
      "execution_count": 50,
      "outputs": [
        {
          "output_type": "execute_result",
          "data": {
            "text/plain": [
              "(114.1875, 10.685855136581255)"
            ]
          },
          "metadata": {
            "tags": []
          },
          "execution_count": 50
        }
      ]
    },
    {
      "metadata": {
        "id": "DvifHpWbr2Hh",
        "colab_type": "text"
      },
      "cell_type": "markdown",
      "source": [
        "### range() 함수"
      ]
    },
    {
      "metadata": {
        "id": "eha_h9eHr2Hi",
        "colab_type": "code",
        "colab": {
          "base_uri": "https://localhost:8080/",
          "height": 35
        },
        "outputId": "f45b2450-d44e-476a-a44f-715886200ff9"
      },
      "cell_type": "code",
      "source": [
        "a10 = range(10)\n",
        "type(a10)"
      ],
      "execution_count": 51,
      "outputs": [
        {
          "output_type": "execute_result",
          "data": {
            "text/plain": [
              "range"
            ]
          },
          "metadata": {
            "tags": []
          },
          "execution_count": 51
        }
      ]
    },
    {
      "metadata": {
        "id": "UKqeMYw8r2Hj",
        "colab_type": "code",
        "colab": {
          "base_uri": "https://localhost:8080/",
          "height": 35
        },
        "outputId": "f0252a5d-9b1e-4792-dd4f-e4e9c3e4e2a1"
      },
      "cell_type": "code",
      "source": [
        "a10[0],a10[1],a10[9]"
      ],
      "execution_count": 52,
      "outputs": [
        {
          "output_type": "execute_result",
          "data": {
            "text/plain": [
              "(0, 1, 9)"
            ]
          },
          "metadata": {
            "tags": []
          },
          "execution_count": 52
        }
      ]
    },
    {
      "metadata": {
        "id": "C6be0hVY48Ll",
        "colab_type": "code",
        "colab": {
          "base_uri": "https://localhost:8080/",
          "height": 35
        },
        "outputId": "de52e493-208b-4b2f-fbf2-cdf73b3cb3ee"
      },
      "cell_type": "code",
      "source": [
        "a10"
      ],
      "execution_count": 53,
      "outputs": [
        {
          "output_type": "execute_result",
          "data": {
            "text/plain": [
              "range(0, 10)"
            ]
          },
          "metadata": {
            "tags": []
          },
          "execution_count": 53
        }
      ]
    },
    {
      "metadata": {
        "id": "9569Pj3pr2Hk",
        "colab_type": "code",
        "colab": {
          "base_uri": "https://localhost:8080/",
          "height": 35
        },
        "outputId": "ca441dc0-1ff2-4f84-d3f1-462ccd50e7ff"
      },
      "cell_type": "code",
      "source": [
        "# range를 리스트로 변환\n",
        "list(a10)"
      ],
      "execution_count": 54,
      "outputs": [
        {
          "output_type": "execute_result",
          "data": {
            "text/plain": [
              "[0, 1, 2, 3, 4, 5, 6, 7, 8, 9]"
            ]
          },
          "metadata": {
            "tags": []
          },
          "execution_count": 54
        }
      ]
    },
    {
      "metadata": {
        "id": "s20WBBJsr2Hm",
        "colab_type": "code",
        "colab": {
          "base_uri": "https://localhost:8080/",
          "height": 197
        },
        "outputId": "f16f7dc5-9886-4d6a-cb4c-cae937d0cbf4"
      },
      "cell_type": "code",
      "source": [
        "# range()를 사용하여 0에서 9까지 표시\n",
        "for cnt in range(10):\n",
        "    print(cnt)"
      ],
      "execution_count": 55,
      "outputs": [
        {
          "output_type": "stream",
          "text": [
            "0\n",
            "1\n",
            "2\n",
            "3\n",
            "4\n",
            "5\n",
            "6\n",
            "7\n",
            "8\n",
            "9\n"
          ],
          "name": "stdout"
        }
      ]
    },
    {
      "metadata": {
        "id": "0y5k_zPtr2Ho",
        "colab_type": "code",
        "colab": {
          "base_uri": "https://localhost:8080/",
          "height": 35
        },
        "outputId": "4743469f-5588-40f3-d6ff-749cd826a5b0"
      },
      "cell_type": "code",
      "source": [
        "# range()를 사용하여 복리 계산을 함\n",
        "# 연리 5%의 금융 상품에 100만원 예금하면 15년 후에 얼마인지를 계산\n",
        "savings = 100               # 원금\n",
        "for i in range(15):         # 15년 반복 루프\n",
        "    savings = savings+savings*0.05   \n",
        "\n",
        "savings"
      ],
      "execution_count": 56,
      "outputs": [
        {
          "output_type": "execute_result",
          "data": {
            "text/plain": [
              "207.89281794113666"
            ]
          },
          "metadata": {
            "tags": []
          },
          "execution_count": 56
        }
      ]
    },
    {
      "metadata": {
        "id": "yZMAodvdr2Hr",
        "colab_type": "text"
      },
      "cell_type": "markdown",
      "source": [
        "### 도전코딩-3.\n",
        "\n",
        "> 그런데 금리 15%로 돈을 빌릴 때 몇 년후에 2배가 될까? 위 코드의 수치를 다시 작성하여 실제로 시험해 본다. (신용 카드 리볼빙 지불에서 상품을 구매하거나 소비자 금융에서 돈을 빌릴 때 금리가 15% 정도 붙는다.)"
      ]
    },
    {
      "metadata": {
        "id": "pBP_77a2r2Hr",
        "colab_type": "code",
        "colab": {
          "base_uri": "https://localhost:8080/",
          "height": 305
        },
        "outputId": "c677626d-ca6c-4ce5-eb18-443936951f1c"
      },
      "cell_type": "code",
      "source": [
        "# 도전코딩-3\n",
        "savings = 100               # 원금\n",
        "for i in range(15):         # 15년 반복 루프\n",
        "    savings = savings+savings*0.15  \n",
        "    print(i+1,savings)     #주기 (원금+)\n",
        "    \n",
        "savings\n",
        "\n"
      ],
      "execution_count": 60,
      "outputs": [
        {
          "output_type": "stream",
          "text": [
            "1 115.0\n",
            "2 132.25\n",
            "3 152.0875\n",
            "4 174.900625\n",
            "5 201.13571875\n",
            "6 231.30607656249998\n",
            "7 266.001988046875\n",
            "8 305.90228625390625\n",
            "9 351.7876291919922\n",
            "10 404.555773570791\n",
            "11 465.23913960640965\n",
            "12 535.025010547371\n",
            "13 615.2787621294767\n",
            "14 707.5705764488982\n",
            "15 813.706162916233\n"
          ],
          "name": "stdout"
        },
        {
          "output_type": "execute_result",
          "data": {
            "text/plain": [
              "813.706162916233"
            ]
          },
          "metadata": {
            "tags": []
          },
          "execution_count": 60
        }
      ]
    },
    {
      "metadata": {
        "id": "EGQkf6Uer2Ht",
        "colab_type": "text"
      },
      "cell_type": "markdown",
      "source": [
        "## if문에서 조건 분기 (Ch.2-6)"
      ]
    },
    {
      "metadata": {
        "id": "ju98i5XTr2Ht",
        "colab_type": "code",
        "colab": {
          "base_uri": "https://localhost:8080/",
          "height": 53
        },
        "outputId": "bbf8b8ff-f8c2-4cdb-848d-40b3057207b7"
      },
      "cell_type": "code",
      "source": [
        "# if문의 예(4개의 2로 10을 만들자)\n",
        "# 10이 될지 어떨지를 조사\n",
        "# 조건식이 성립 때만 블록의 print() 함수가 실행된다.\n",
        "\n",
        "if 2*2*2+2 == 10:\n",
        "    print(\"[1 ]2*2*2+2는 10\")\n",
        "if 2+2*2+2 == 10:\n",
        "    print(\"[2] 2+2*2+2는 10\")\n",
        "if (2+2)*2+2 == 10:\n",
        "    print(\"[3] (2+2)*2+2는 10\")"
      ],
      "execution_count": 61,
      "outputs": [
        {
          "output_type": "stream",
          "text": [
            "[1 ]2*2*2+2는 10\n",
            "[3] (2+2)*2+2는 10\n"
          ],
          "name": "stdout"
        }
      ]
    },
    {
      "metadata": {
        "id": "rBQd5bWpr2Hu",
        "colab_type": "text"
      },
      "cell_type": "markdown",
      "source": [
        "### 수치를 비교"
      ]
    },
    {
      "metadata": {
        "id": "XhByGQCir2Hu",
        "colab_type": "code",
        "colab": {
          "base_uri": "https://localhost:8080/",
          "height": 71
        },
        "outputId": "3d5c0380-0136-421a-c7a8-418a7873b944"
      },
      "cell_type": "code",
      "source": [
        "# 조건식이 성립 때만 블록의 print() 함수가 실행된다\n",
        "if 1 == 1:\n",
        "    print(\"첫째는 True\")\n",
        "if 5^(4-4)+9 == 10:  # 10, 12, 14\n",
        "    print(\"2번째는 True\")\n",
        "if 2 < len([0, 1, 2]): \n",
        "    print(\"3번째는 True\")\n",
        "if sum([1, 2, 3, 4]) <= 10:\n",
        "    print(\"4번째는 True\")"
      ],
      "execution_count": 62,
      "outputs": [
        {
          "output_type": "stream",
          "text": [
            "첫째는 True\n",
            "3번째는 True\n",
            "4번째는 True\n"
          ],
          "name": "stdout"
        }
      ]
    },
    {
      "metadata": {
        "id": "30ADgvtWr2Hx",
        "colab_type": "code",
        "colab": {
          "base_uri": "https://localhost:8080/",
          "height": 35
        },
        "outputId": "af1417bb-5c8f-426c-934c-84da58126d99"
      },
      "cell_type": "code",
      "source": [
        "5^(4-4) + 9"
      ],
      "execution_count": 63,
      "outputs": [
        {
          "output_type": "execute_result",
          "data": {
            "text/plain": [
              "12"
            ]
          },
          "metadata": {
            "tags": []
          },
          "execution_count": 63
        }
      ]
    },
    {
      "metadata": {
        "id": "IcLpg0cDr2Hz",
        "colab_type": "code",
        "colab": {
          "base_uri": "https://localhost:8080/",
          "height": 35
        },
        "outputId": "1d8e5844-faf9-4767-cbc8-2c6939c9b0b1"
      },
      "cell_type": "code",
      "source": [
        "(5^(4-4)) + 9"
      ],
      "execution_count": 64,
      "outputs": [
        {
          "output_type": "execute_result",
          "data": {
            "text/plain": [
              "14"
            ]
          },
          "metadata": {
            "tags": []
          },
          "execution_count": 64
        }
      ]
    },
    {
      "metadata": {
        "id": "G2hRmWbcr2H0",
        "colab_type": "code",
        "colab": {
          "base_uri": "https://localhost:8080/",
          "height": 35
        },
        "outputId": "52d146b9-4818-4c15-f8a0-ee878e6d26f0"
      },
      "cell_type": "code",
      "source": [
        "5**(4-4) + 9"
      ],
      "execution_count": 65,
      "outputs": [
        {
          "output_type": "execute_result",
          "data": {
            "text/plain": [
              "10"
            ]
          },
          "metadata": {
            "tags": []
          },
          "execution_count": 65
        }
      ]
    },
    {
      "metadata": {
        "id": "ALxu-QIwr2H2",
        "colab_type": "text"
      },
      "cell_type": "markdown",
      "source": [
        "> 위의 다른 결과를 설명하시오"
      ]
    },
    {
      "metadata": {
        "id": "pldM3ikJr2H2",
        "colab_type": "code",
        "colab": {
          "base_uri": "https://localhost:8080/",
          "height": 35
        },
        "outputId": "76d29e18-37b9-438f-88ac-e47e6777adf3"
      },
      "cell_type": "code",
      "source": [
        "len([0, 1, 2]),sum([1, 2, 3, 4])"
      ],
      "execution_count": 66,
      "outputs": [
        {
          "output_type": "execute_result",
          "data": {
            "text/plain": [
              "(3, 10)"
            ]
          },
          "metadata": {
            "tags": []
          },
          "execution_count": 66
        }
      ]
    },
    {
      "metadata": {
        "id": "JiL4QqkFr2H4",
        "colab_type": "text"
      },
      "cell_type": "markdown",
      "source": [
        "### 문자열을 비교"
      ]
    },
    {
      "metadata": {
        "id": "BNvPjl6Lr2H4",
        "colab_type": "code",
        "colab": {
          "base_uri": "https://localhost:8080/",
          "height": 53
        },
        "outputId": "ffc5cb8a-2976-4818-d8fe-8a60ba7304f2"
      },
      "cell_type": "code",
      "source": [
        "# 문장을 비교하는 조건식의 예\n",
        "if \"AUG\" == \"AUG\":\n",
        "    print(\"첫째는 True\")\n",
        "if \"AUG\" == \"aug\":\n",
        "    print(\"2번째는 True\")\n",
        "if \"가나다\" == \"가나다\":\n",
        "    print(\"3번째는 True\")"
      ],
      "execution_count": 67,
      "outputs": [
        {
          "output_type": "stream",
          "text": [
            "첫째는 True\n",
            "3번째는 True\n"
          ],
          "name": "stdout"
        }
      ]
    },
    {
      "metadata": {
        "id": "zp93WFkYr2H7",
        "colab_type": "text"
      },
      "cell_type": "markdown",
      "source": [
        "### 문자열을 검색"
      ]
    },
    {
      "metadata": {
        "id": "iSQjeBdhr2H7",
        "colab_type": "code",
        "colab": {
          "base_uri": "https://localhost:8080/",
          "height": 53
        },
        "outputId": "908408ac-be3d-4e6d-d83b-7c60a2272ba4"
      },
      "cell_type": "code",
      "source": [
        "# in 연산자를 사용한 문자열 검색\n",
        "if \"GAG\" in \"AUGACGGAGCUU\":\n",
        "    print(\"첫째는 True\")\n",
        "if \"사랑과 전쟁은 모든 것이 정당화되어\" in \"정당화\":\n",
        "    print(\"2번째는 True\")\n",
        "if \"stumble\" in \"A horse may stumble though he has four legs\":\n",
        "    print(\"3번째는 True\")"
      ],
      "execution_count": 68,
      "outputs": [
        {
          "output_type": "stream",
          "text": [
            "첫째는 True\n",
            "3번째는 True\n"
          ],
          "name": "stdout"
        }
      ]
    },
    {
      "metadata": {
        "id": "2L6Nc9mMr2H7",
        "colab_type": "text"
      },
      "cell_type": "markdown",
      "source": [
        "### 리스트를 비교"
      ]
    },
    {
      "metadata": {
        "id": "qhQqh1Vir2H8",
        "colab_type": "code",
        "colab": {
          "base_uri": "https://localhost:8080/",
          "height": 35
        },
        "outputId": "95ae391a-97cc-4bb6-cd25-6d5ff16e2daf"
      },
      "cell_type": "code",
      "source": [
        "# 리스트를 비교하는 조건식의 예\n",
        "if [1, 2, 3, 4] == [1, 2, 3, 4]:\n",
        "    print(\"첫째는 True\")\n",
        "if [1, 2, 3] == [2, 3]:\n",
        "    print(\"2번째는 True\")\n",
        "if [1, 2, 3] == ['1', '2', '3']: # 앞은 정수 뒤는 문자라서 거짓\n",
        "    print(\"3번째는 True\")"
      ],
      "execution_count": 71,
      "outputs": [
        {
          "output_type": "stream",
          "text": [
            "첫째는 True\n"
          ],
          "name": "stdout"
        }
      ]
    },
    {
      "metadata": {
        "id": "Rb81cj5Or2H-",
        "colab_type": "text"
      },
      "cell_type": "markdown",
      "source": [
        "### 리스트의 요소를 검색"
      ]
    },
    {
      "metadata": {
        "id": "wULU4_eBr2H_",
        "colab_type": "code",
        "colab": {
          "base_uri": "https://localhost:8080/",
          "height": 53
        },
        "outputId": "dada1542-bf50-43c1-abd5-82dbbccecafe"
      },
      "cell_type": "code",
      "source": [
        "# 리스트 내의 요소를 알아보는 조건식 사례 1\n",
        "if 2 in [2, 3, 5, 7, 11]:\n",
        "    print(\"첫째는 True\")\n",
        "if 21 in [13, 17, 19, 23, 29]:\n",
        "    print(\"2번째는 True\")\n",
        "if '대구' in ['서울', '대구', '부산']:\n",
        "    print(\"3번째는 True\")"
      ],
      "execution_count": 72,
      "outputs": [
        {
          "output_type": "stream",
          "text": [
            "첫째는 True\n",
            "3번째는 True\n"
          ],
          "name": "stdout"
        }
      ]
    },
    {
      "metadata": {
        "id": "-GKfntt1r2IA",
        "colab_type": "code",
        "colab": {
          "base_uri": "https://localhost:8080/",
          "height": 53
        },
        "outputId": "60568db9-6b48-4e18-ff24-980da68796d0"
      },
      "cell_type": "code",
      "source": [
        "# 리스트 내의 요소를 알아보는 조건식 사례 2\n",
        "# 목록의 비교에서는 in 왼쪽에 리스트가 오는 경우에 주의\n",
        "if 1 in [0, 1, 2, 3, 4]:\n",
        "    print(\"첫째는 True\")\n",
        "if [1, 2] in [0, 1, 2, 3, 4]:\n",
        "    print(\"2번째는 True\")\n",
        "if [1, 2] in [0, 1, [1, 2], 3, 4]:\n",
        "    print(\"3번째는 True\")"
      ],
      "execution_count": 73,
      "outputs": [
        {
          "output_type": "stream",
          "text": [
            "첫째는 True\n",
            "3번째는 True\n"
          ],
          "name": "stdout"
        }
      ]
    },
    {
      "metadata": {
        "id": "cxf6RzhNr2IC",
        "colab_type": "text"
      },
      "cell_type": "markdown",
      "source": [
        "### else문을 사용"
      ]
    },
    {
      "metadata": {
        "id": "AOtDmF0Xr2IC",
        "colab_type": "code",
        "colab": {
          "base_uri": "https://localhost:8080/",
          "height": 35
        },
        "outputId": "a052d46a-0c37-44f4-d99a-e5151274376d"
      },
      "cell_type": "code",
      "source": [
        "# else문 사용 사례\n",
        "# 식 1\n",
        "if 2^3-2+4 == 10:                \n",
        "    print(\"식 2^3-2+4는 10\")            #식 1의 결과에 따라서 둘 중의 하나가 실행\n",
        "else:\n",
        "    print(\"식  2^3-2+4는 10이 아닙니다\")    #식 1의 결과에 따라서 둘 중의 하나가 실행  "
      ],
      "execution_count": 74,
      "outputs": [
        {
          "output_type": "stream",
          "text": [
            "식  2^3-2+4는 10이 아닙니다\n"
          ],
          "name": "stdout"
        }
      ]
    },
    {
      "metadata": {
        "id": "lnD2eTdN9WTM",
        "colab_type": "code",
        "colab": {
          "base_uri": "https://localhost:8080/",
          "height": 35
        },
        "outputId": "63cb2d4b-a8a4-4e96-d2f6-4a1ccbc33ed4"
      },
      "cell_type": "code",
      "source": [
        "2^3-2+4"
      ],
      "execution_count": 75,
      "outputs": [
        {
          "output_type": "execute_result",
          "data": {
            "text/plain": [
              "7"
            ]
          },
          "metadata": {
            "tags": []
          },
          "execution_count": 75
        }
      ]
    },
    {
      "metadata": {
        "id": "ZRhelpzQr2IF",
        "colab_type": "code",
        "colab": {
          "base_uri": "https://localhost:8080/",
          "height": 35
        },
        "outputId": "79ab5ba4-de7f-469a-81bd-458582971c34"
      },
      "cell_type": "code",
      "source": [
        "# 식 2\n",
        "if 2**3-2+4 == 10:               \n",
        "    print(\"식 2**3-2+4는 10\")            #식 2의 결과에 따라서 둘 중의 하나가 실행\n",
        "else:\n",
        "    print(\"식 2**3-2+4는 10이 아닙니다\")    #식 2의 결과에 따라서 둘 중의 하나가 실행"
      ],
      "execution_count": 76,
      "outputs": [
        {
          "output_type": "stream",
          "text": [
            "식 2**3-2+4는 10\n"
          ],
          "name": "stdout"
        }
      ]
    },
    {
      "metadata": {
        "id": "O78UXnbbr2IG",
        "colab_type": "text"
      },
      "cell_type": "markdown",
      "source": [
        "\n",
        "```\n",
        "\n",
        "### elif문의 사용 else if = elif"
      ]
    },
    {
      "metadata": {
        "id": "ZLWb_JX9r2IH",
        "colab_type": "code",
        "colab": {
          "base_uri": "https://localhost:8080/",
          "height": 35
        },
        "outputId": "1a3f22a8-e5c7-4355-eceb-d150133525e3"
      },
      "cell_type": "code",
      "source": [
        "# 2중 if문을 사용한 사례\n",
        "# if를 다단 중첩하면 들여 쓰기가 깊어지고 코드가 어렵게 보인다.\n",
        "a_year = 2080\n",
        "if a_year >= 1993:                  # 식 1\n",
        "    # 출생 연도 또는 그 이후의 경우\n",
        "    if a_year == 1993:              # 식 2\n",
        "        print(a_year, \"년에 태어남\")   # 식 1, 식 2 모두 참일 때 실행\n",
        "    else:\n",
        "        print(a_year, \"년은 \", a_year-1993, \"세\")    # 식 1은 참이지만 식 2가 거짓일 때 실행"
      ],
      "execution_count": 77,
      "outputs": [
        {
          "output_type": "stream",
          "text": [
            "2080 년은  87 세\n"
          ],
          "name": "stdout"
        }
      ]
    },
    {
      "metadata": {
        "id": "AGayv1B1r2II",
        "colab_type": "code",
        "colab": {
          "base_uri": "https://localhost:8080/",
          "height": 35
        },
        "outputId": "27633250-31fc-422d-e4dd-4af13f9f8100"
      },
      "cell_type": "code",
      "source": [
        "# elif문 사용 사례\n",
        "# elif를 사용하면 동일한 작업을 깔끔하게 할 수 있다.\n",
        "a_year = 2080\n",
        "if a_year == 1993:\n",
        "    print(a_year, \"년에 태어남\")\n",
        "elif a_year > 1993:\n",
        "    print(a_year, \"년은 \", a_year-1993, \"세\")"
      ],
      "execution_count": 78,
      "outputs": [
        {
          "output_type": "stream",
          "text": [
            "2080 년은  87 세\n"
          ],
          "name": "stdout"
        }
      ]
    },
    {
      "metadata": {
        "id": "BX11kDQyr2IK",
        "colab_type": "code",
        "colab": {
          "base_uri": "https://localhost:8080/",
          "height": 35
        },
        "outputId": "407ed1b2-4a4a-480e-cd05-12b7dca01efb"
      },
      "cell_type": "code",
      "source": [
        "# for문으로 if문을 조합한 사례\n",
        "# a_num가 소수의 경우에는 아무것도 표시되지 않는다.\n",
        "# 소수가 아닌 때에는 소수가 아니란 것을 표시한다.\n",
        "\n",
        "# a_num에 대입하는 수치를 바꾸어 셀을 실행하면 다양한 숫자에 대한\n",
        "# 소수 여부를 확인할 수 있다.\n",
        "\n",
        "a_num = 57            # 소수인지 알아보는 수\n",
        "for num in range(2, a_num):  # 2부터 a_num-1까지 반복\n",
        "    if a_num % num == 0:     # a_num을 num으로 나누어지는지 확인\n",
        "        print(num, a_num, \"은(는) 소수가 아닙니다.\")\n",
        "        break"
      ],
      "execution_count": 82,
      "outputs": [
        {
          "output_type": "stream",
          "text": [
            "3 57 은(는) 소수가 아닙니다.\n"
          ],
          "name": "stdout"
        }
      ]
    },
    {
      "metadata": {
        "id": "lxRg-f09r2IL",
        "colab_type": "text"
      },
      "cell_type": "markdown",
      "source": [
        "## 함수를 사용 (Ch.2-7)"
      ]
    },
    {
      "metadata": {
        "id": "i96iFNWLr2IL",
        "colab_type": "text"
      },
      "cell_type": "markdown",
      "source": [
        "### 함수란"
      ]
    },
    {
      "metadata": {
        "id": "IDsPoqDLr2IN",
        "colab_type": "code",
        "colab": {
          "base_uri": "https://localhost:8080/",
          "height": 35
        },
        "outputId": "e6c428b4-c4bc-491e-e502-28548244dbe8"
      },
      "cell_type": "code",
      "source": [
        "# 리스트의 값을 합하는 프로그램\n",
        "the_list = [101, 123, 152, 123]\n",
        "summary = 0                 # 합계를 위한 변수를 만듦\n",
        "for item in the_list:       # 리스트로 루프를 적용\n",
        "    summary = summary+item  # 리스트의 요소를 합계\n",
        "\n",
        "summary                     # 합계를 표시"
      ],
      "execution_count": 83,
      "outputs": [
        {
          "output_type": "execute_result",
          "data": {
            "text/plain": [
              "499"
            ]
          },
          "metadata": {
            "tags": []
          },
          "execution_count": 83
        }
      ]
    },
    {
      "metadata": {
        "id": "47YnCP21r2IO",
        "colab_type": "code",
        "colab": {
          "base_uri": "https://localhost:8080/",
          "height": 35
        },
        "outputId": "1a89b70a-1b2f-41dc-9b91-534270f32893"
      },
      "cell_type": "code",
      "source": [
        "sum(the_list)  # 함수 sum()을 사용하는 것이 간단하고 쉽다."
      ],
      "execution_count": 84,
      "outputs": [
        {
          "output_type": "execute_result",
          "data": {
            "text/plain": [
              "499"
            ]
          },
          "metadata": {
            "tags": []
          },
          "execution_count": 84
        }
      ]
    },
    {
      "metadata": {
        "id": "FepGeP9pr2IP",
        "colab_type": "text"
      },
      "cell_type": "markdown",
      "source": [
        "### 도전코딩 4.\n",
        "\n",
        "> range() 함수를 이용해서 1에서 100까지의 합을 구하시오.\n"
      ]
    },
    {
      "metadata": {
        "id": "pCaSK6xrr2IP",
        "colab_type": "code",
        "colab": {
          "base_uri": "https://localhost:8080/",
          "height": 35
        },
        "outputId": "69973127-fc3e-41fc-83d4-337dee1125c3"
      },
      "cell_type": "code",
      "source": [
        "# range() 함수를 이용: 1에서 100까지의 합\n",
        "sum(range(1,101)),sum(list(range(1,101))) # 뒤에꺼는 또다른 방법\n"
      ],
      "execution_count": 87,
      "outputs": [
        {
          "output_type": "execute_result",
          "data": {
            "text/plain": [
              "(5050, 5050)"
            ]
          },
          "metadata": {
            "tags": []
          },
          "execution_count": 87
        }
      ]
    },
    {
      "metadata": {
        "id": "sF6O9SRZr2IR",
        "colab_type": "text"
      },
      "cell_type": "markdown",
      "source": [
        "### 함수를 호출"
      ]
    },
    {
      "metadata": {
        "id": "CwO1Lj_Yr2IR",
        "colab_type": "code",
        "colab": {
          "base_uri": "https://localhost:8080/",
          "height": 35
        },
        "outputId": "d490f2af-e010-4be2-96bf-8be7323787e7"
      },
      "cell_type": "code",
      "source": [
        "# abs() 함수의 실행 사례\n",
        "abs(-10)    # 절대값을 반환하는 함수를 호출"
      ],
      "execution_count": 88,
      "outputs": [
        {
          "output_type": "execute_result",
          "data": {
            "text/plain": [
              "10"
            ]
          },
          "metadata": {
            "tags": []
          },
          "execution_count": 88
        }
      ]
    },
    {
      "metadata": {
        "id": "rIQtDKrIr2IT",
        "colab_type": "code",
        "colab": {
          "base_uri": "https://localhost:8080/",
          "height": 35
        },
        "outputId": "be9d363b-eb59-4907-a032-27ead44d1085"
      },
      "cell_type": "code",
      "source": [
        "# abs() 함수의 실행 사례\n",
        "abs(-200.37) # abs = 절댓값"
      ],
      "execution_count": 90,
      "outputs": [
        {
          "output_type": "execute_result",
          "data": {
            "text/plain": [
              "200.37"
            ]
          },
          "metadata": {
            "tags": []
          },
          "execution_count": 90
        }
      ]
    },
    {
      "metadata": {
        "id": "sPlWPLocr2IU",
        "colab_type": "text"
      },
      "cell_type": "markdown",
      "source": [
        "### 함수의 인수"
      ]
    },
    {
      "metadata": {
        "id": "4qyzs0CJr2IV",
        "colab_type": "code",
        "colab": {
          "base_uri": "https://localhost:8080/",
          "height": 35
        },
        "outputId": "bdc8c81f-129c-41f7-b531-c98e30ffd7d8"
      },
      "cell_type": "code",
      "source": [
        "# int() 함수의 실행 사례\n",
        "int(\"100\")              # 문자열을 10진수의 수치로 변환"
      ],
      "execution_count": 91,
      "outputs": [
        {
          "output_type": "execute_result",
          "data": {
            "text/plain": [
              "100"
            ]
          },
          "metadata": {
            "tags": []
          },
          "execution_count": 91
        }
      ]
    },
    {
      "metadata": {
        "id": "dCbdGDk1r2IV",
        "colab_type": "code",
        "colab": {
          "base_uri": "https://localhost:8080/",
          "height": 35
        },
        "outputId": "aeb58a3f-5835-4d5a-e5f8-05d671d9aad7"
      },
      "cell_type": "code",
      "source": [
        "# int() 함수의 실행 사례\n",
        "# 인수가 같은 함수에서도 동작이 바뀐다.\n",
        "int(\"100\", 2)           # 문자열을 2진수의 수치에 만들어 변환"
      ],
      "execution_count": 92,
      "outputs": [
        {
          "output_type": "execute_result",
          "data": {
            "text/plain": [
              "4"
            ]
          },
          "metadata": {
            "tags": []
          },
          "execution_count": 92
        }
      ]
    },
    {
      "metadata": {
        "id": "OuyidYwRr2IW",
        "colab_type": "code",
        "colab": {
          "base_uri": "https://localhost:8080/",
          "height": 35
        },
        "outputId": "9a54df11-53e8-48bb-a711-bdcafe59e003"
      },
      "cell_type": "code",
      "source": [
        "# int() 함수의 실행 사례\n",
        "int(\"100\", 16)          # 문자열을 16진수의 수치에 만들어 변환"
      ],
      "execution_count": 93,
      "outputs": [
        {
          "output_type": "execute_result",
          "data": {
            "text/plain": [
              "256"
            ]
          },
          "metadata": {
            "tags": []
          },
          "execution_count": 93
        }
      ]
    },
    {
      "metadata": {
        "id": "I3l37h9Kr2IZ",
        "colab_type": "text"
      },
      "cell_type": "markdown",
      "source": [
        "### 함수의 정의"
      ]
    },
    {
      "metadata": {
        "id": "akAAwwb2r2IZ",
        "colab_type": "code",
        "colab": {}
      },
      "cell_type": "code",
      "source": [
        "# destiny_tank() 함수의 정의\n",
        "def destiny_tank():\n",
        "    tanks = [\"IV호 전차 D형\", \"III호 전차 J형\", \"처칠 Mk.VII\",\n",
        "             \"M4 셔먼\", \"P40 중전차\", \"T-34/76\"]  # 전차의 리스트\n",
        "    num = input(\"좋아하는 숫자를 입력하세요:\")         #숫자를 입력\n",
        "    idx = int(num) % len(tanks)        # 입력값을 리스트의 인수로 변환\n",
        "    print(\"당신의 운명의 전차는 \")\n",
        "    print(tanks[idx])                  # 결과를 표시"
      ],
      "execution_count": 0,
      "outputs": []
    },
    {
      "metadata": {
        "id": "9_YTrkmkr2IZ",
        "colab_type": "code",
        "colab": {
          "base_uri": "https://localhost:8080/",
          "height": 71
        },
        "outputId": "0f96749d-fea6-4147-b706-40279c4d4911"
      },
      "cell_type": "code",
      "source": [
        "# 함수를 호출하면 양식이 나타난다.\n",
        "# 폼에 숫자를 입력하고 리턴을 누르면\n",
        "# 운명의 전차가 나타난다.\n",
        "destiny_tank()      "
      ],
      "execution_count": 95,
      "outputs": [
        {
          "output_type": "stream",
          "text": [
            "좋아하는 숫자를 입력하세요:3\n",
            "당신의 운명의 전차는 \n",
            "M4 셔먼\n"
          ],
          "name": "stdout"
        }
      ]
    },
    {
      "metadata": {
        "id": "Yf8yH5pnr2Ib",
        "colab_type": "text"
      },
      "cell_type": "markdown",
      "source": [
        "### 인수 (매개변수)를 정의"
      ]
    },
    {
      "metadata": {
        "id": "VwhQhoRar2Ib",
        "colab_type": "code",
        "colab": {}
      },
      "cell_type": "code",
      "source": [
        "# 인수를 갖는 함수의 정의\n",
        "def destiny_tank2(num):\n",
        "    tanks = [\"IV호 전차 D형\", \"III호 전차 J형\", \"처칠 Mk.VII\",\n",
        "             \"M4 셔먼\", \"P40 중전차\", \"T-34/76\"]  # 전차의 리스트\n",
        "    idx = num % len(tanks)             # 입력값을 리스트의 인수로 변환\n",
        "    print(\"당신의 운명의 전차는 \")\n",
        "    print(tanks[idx])                  # 결과를 표시"
      ],
      "execution_count": 0,
      "outputs": []
    },
    {
      "metadata": {
        "id": "ggT3wIFTr2Ic",
        "colab_type": "code",
        "colab": {
          "base_uri": "https://localhost:8080/",
          "height": 71
        },
        "outputId": "146575aa-88c5-4cd0-859a-05b00f029bc5"
      },
      "cell_type": "code",
      "source": [
        "# destiny_tank2() 함수의 실행 사례\n",
        "# 인수를 주고 함수를 호출\n",
        "num_str = input(\"좋아하는 숫자를 입력하세요:\")    # 입력 윈도우를 표시\n",
        "num = int(num_str)                         # 문자열을 수치로 변환 # 주석 처리 하고 밑에  num_str를 하면 문자열로 해서 오류가 뜸\n",
        "destiny_tank2(num)                         # 수치를 함수에 전달"
      ],
      "execution_count": 99,
      "outputs": [
        {
          "output_type": "stream",
          "text": [
            "좋아하는 숫자를 입력하세요:3\n",
            "당신의 운명의 전차는 \n",
            "M4 셔먼\n"
          ],
          "name": "stdout"
        }
      ]
    },
    {
      "metadata": {
        "id": "XGK2RifIr2Ie",
        "colab_type": "code",
        "colab": {
          "base_uri": "https://localhost:8080/",
          "height": 53
        },
        "outputId": "65ffd402-b126-4226-eba9-f71757275454"
      },
      "cell_type": "code",
      "source": [
        "# 랜덤한 결과를 되돌려 줌\n",
        "# 난수를 사용하여 운명의 전차 추천 받기\n",
        "from random import randint\n",
        "num = randint(0, 10)        # 난수를 생성\n",
        "destiny_tank2(num)          # 생성한 난수를 함수에 전달 # 호출할때마다 다르게 나옴 같게 나올 수도 있음"
      ],
      "execution_count": 102,
      "outputs": [
        {
          "output_type": "stream",
          "text": [
            "당신의 운명의 전차는 \n",
            "IV호 전차 D형\n"
          ],
          "name": "stdout"
        }
      ]
    },
    {
      "metadata": {
        "id": "eU4C1051r2Ig",
        "colab_type": "text"
      },
      "cell_type": "markdown",
      "source": [
        "### 함수의 반환값"
      ]
    },
    {
      "metadata": {
        "id": "JyW-90Hvr2Ih",
        "colab_type": "code",
        "colab": {}
      },
      "cell_type": "code",
      "source": [
        "# 반환값을 갖는 함수의 정의\n",
        "# 행운의 전차 반환값으로 결과를 반환\n",
        "def destiny_tank3(num):\n",
        "    tanks = [\"IV호 전차 D형\", \"III호 전차 J형\", \"처칠 Mk.VII\",\n",
        "             \"M4 셔먼\", \"P40 중전차\", \"T-34/76\"]  # 전차의 리스트\n",
        "    idx = num % len(tanks)             # 입력값을 리스트의 인수로 변환\n",
        "    return tanks[idx]                  # 결과를 반환값으로 되돌려 줌"
      ],
      "execution_count": 0,
      "outputs": []
    },
    {
      "metadata": {
        "id": "XTs_Enkpr2Ii",
        "colab_type": "code",
        "colab": {
          "base_uri": "https://localhost:8080/",
          "height": 35
        },
        "outputId": "fec70286-f28c-4d9b-ac0f-520bda480b43"
      },
      "cell_type": "code",
      "source": [
        "# destiny_tank3() 함수의 실행 사례\n",
        "# 반환값으로 된 전차 이름을 표시하려면\n",
        "from random import randint\n",
        "num = randint(0, 10)\n",
        "tank = destiny_tank3(num)\n",
        "print(\"오늘 당신이 타야 할 행운의 전차는 \", tank, \"입니다.\")\n",
        "# print(\"오늘 당신이 타야 할 행운의 전차는 {}\".format(tank), \"입니다.\") # 실행할때마다 다른 값 나옴"
      ],
      "execution_count": 106,
      "outputs": [
        {
          "output_type": "stream",
          "text": [
            "오늘 당신이 타야 할 행운의 전차는  III호 전차 J형 입니다.\n"
          ],
          "name": "stdout"
        }
      ]
    },
    {
      "metadata": {
        "id": "g3haiQEQr2Ij",
        "colab_type": "text"
      },
      "cell_type": "markdown",
      "source": [
        "### 지역 변수"
      ]
    },
    {
      "metadata": {
        "id": "6RObhU9cr2Ij",
        "colab_type": "code",
        "colab": {
          "base_uri": "https://localhost:8080/",
          "height": 226
        },
        "outputId": "35121196-75e0-45f2-9ba1-f0eaa592575d"
      },
      "cell_type": "code",
      "source": [
        "# 지역 변수를 함수의 밖에서 쓰는 경우\n",
        "def test_func(arg1):\n",
        "    # 수치의 인수에 100을 더하고 표시하는 함수\n",
        "    inner_var = 100\n",
        "    print(arg1+inner_var)\n",
        "\n",
        "test_func(10)       # 함수를 호출 –110으로 표시된다\n",
        "print(inner_var)    # 함수 내에서 정의한 변수를 표시(오류가 됨)"
      ],
      "execution_count": 107,
      "outputs": [
        {
          "output_type": "stream",
          "text": [
            "110\n"
          ],
          "name": "stdout"
        },
        {
          "output_type": "error",
          "ename": "NameError",
          "evalue": "ignored",
          "traceback": [
            "\u001b[0;31m---------------------------------------------------------------------------\u001b[0m",
            "\u001b[0;31mNameError\u001b[0m                                 Traceback (most recent call last)",
            "\u001b[0;32m<ipython-input-107-7a424b1d067f>\u001b[0m in \u001b[0;36m<module>\u001b[0;34m()\u001b[0m\n\u001b[1;32m      5\u001b[0m \u001b[0;34m\u001b[0m\u001b[0m\n\u001b[1;32m      6\u001b[0m \u001b[0mtest_func\u001b[0m\u001b[0;34m(\u001b[0m\u001b[0;36m10\u001b[0m\u001b[0;34m)\u001b[0m       \u001b[0;31m# 함수를 호출 –110으로 표시된다\u001b[0m\u001b[0;34m\u001b[0m\u001b[0m\n\u001b[0;32m----> 7\u001b[0;31m \u001b[0mprint\u001b[0m\u001b[0;34m(\u001b[0m\u001b[0minner_var\u001b[0m\u001b[0;34m)\u001b[0m    \u001b[0;31m# 함수 내에서 정의한 변수를 표시(오류가 됨)\u001b[0m\u001b[0;34m\u001b[0m\u001b[0m\n\u001b[0m",
            "\u001b[0;31mNameError\u001b[0m: name 'inner_var' is not defined"
          ]
        }
      ]
    },
    {
      "metadata": {
        "id": "yiaiyUpur2Ik",
        "colab_type": "text"
      },
      "cell_type": "markdown",
      "source": [
        "### 반복 사용하는 코드를 함수로 정리"
      ]
    },
    {
      "metadata": {
        "id": "ZfPxHGVmr2Ik",
        "colab_type": "code",
        "colab": {
          "base_uri": "https://localhost:8080/",
          "height": 35
        },
        "outputId": "7662034d-bc90-4b38-eb8a-7519b88b2f0f"
      },
      "cell_type": "code",
      "source": [
        "# 지역 변수를 함수의 밖에서 쓰는 경우\n",
        "# 신장 목록에서 분산을 계산했을 때의 코드(길고 같은 처리가 중복 ...)\n",
        "monk_fish_team = [158, 157, 163, 157, 145]\n",
        "\n",
        "total = sum(monk_fish_team)    # 리스트의 합계\n",
        "length = len(monk_fish_team)   # 리스트의 요소 수(길이)\n",
        "mean = total/length            # 평균을 계산\n",
        "variance = 0                   # 분산을 계산하기 위한 변수\n",
        "\n",
        "for height in monk_fish_team:\n",
        "    variance = variance+(height-mean)**2 # 신장에서 평균을 빼고 제곱을 더함\n",
        "\n",
        "variance = variance/length     # 더한 수치를 요소 수로 나누어 분산을 구함\n",
        "\n",
        "volleyball_team = [143, 167, 170, 165]\n",
        "\n",
        "total2 = sum(volleyball_team)    # 리스트의 합계\n",
        "length2 = len(volleyball_team)   # 리스트의 요소 수(길이)\n",
        "mean2 = total2/length2           # 평균을 구함\n",
        "variance2 = 0                    # 분산을 계산하기 위한 변수\n",
        "\n",
        "for height in volleyball_team:\n",
        "    variance2 = variance2+(height-mean2)**2 # 신장에서 평균을 빼고 제곱을 더함\n",
        "\n",
        "variance2 = variance2/length2  # 더한 수치를 요소 수로 나누어 분산을 구함\n",
        "print(variance, variance2)     # 결과 보기"
      ],
      "execution_count": 109,
      "outputs": [
        {
          "output_type": "stream",
          "text": [
            "35.2 114.1875\n"
          ],
          "name": "stdout"
        }
      ]
    },
    {
      "metadata": {
        "id": "KGVc5-0Tr2Il",
        "colab_type": "code",
        "colab": {}
      },
      "cell_type": "code",
      "source": [
        "# calc_variance() 함수의 정의\n",
        "# 공통 부분을 정리한 함수\n",
        "def calc_variance(a_list):\n",
        "    # 분산을 요구하는 함수\n",
        "    total = sum(a_list)    # 리스트의 합계\n",
        "    length = len(a_list)   # 리스트의 요소 수(길이)\n",
        "    mean = total/length    # 평균을 구함\n",
        "    variance = 0           # 분산을 계산하기 위한 변수\n",
        "\n",
        "    for item in a_list:\n",
        "        variance = variance+(item-mean)**2 # 각 항목에서 평균을 빼고 제곱을 더함\n",
        "    variance = variance/length  # 더한 수치를 요소 수로 나누어 분산을 구함\n",
        "\n",
        "    return variance     # 요구 분산을 반환값으로 돌려줌"
      ],
      "execution_count": 0,
      "outputs": []
    },
    {
      "metadata": {
        "id": "vpwmuSp7r2In",
        "colab_type": "code",
        "colab": {
          "base_uri": "https://localhost:8080/",
          "height": 71
        },
        "outputId": "8f0f83b8-6cc4-4d0e-e955-c167c0341a34"
      },
      "cell_type": "code",
      "source": [
        "# calc_variance() 함수의 실행 사례\n",
        "# 함수를 사용하여 분산과 표준 편차를 계산하는\n",
        "# 리스트를 정의한다\n",
        "monk_fish_team = [158, 157, 163, 157, 145]\n",
        "volleyball_team = [143, 167, 170, 165]\n",
        "pravda_team = [127, 172, 140, 160, 174]\n",
        "\n",
        "# 분산을 계산하다\n",
        "monk_team_variance = calc_variance(monk_fish_team)\n",
        "volley_team_variance = calc_variance(volleyball_team)\n",
        "pravda_team_variance = calc_variance(pravda_team)\n",
        "\n",
        "# 표준 편차를 계산하다\n",
        "print(monk_team_variance**0.5)\n",
        "print(volley_team_variance**0.5)\n",
        "print(pravda_team_variance**0.5)"
      ],
      "execution_count": 111,
      "outputs": [
        {
          "output_type": "stream",
          "text": [
            "5.932958789676531\n",
            "10.685855136581255\n",
            "18.347751905887545\n"
          ],
          "name": "stdout"
        }
      ]
    },
    {
      "metadata": {
        "id": "YKy3gIiUr2Io",
        "colab_type": "code",
        "colab": {
          "base_uri": "https://localhost:8080/",
          "height": 35
        },
        "outputId": "624ca52d-0cdc-4f83-a5ed-7dd3dd91ae85"
      },
      "cell_type": "code",
      "source": [
        "monk_team_variance,volley_team_variance"
      ],
      "execution_count": 112,
      "outputs": [
        {
          "output_type": "execute_result",
          "data": {
            "text/plain": [
              "(35.2, 114.1875)"
            ]
          },
          "metadata": {
            "tags": []
          },
          "execution_count": 112
        }
      ]
    },
    {
      "metadata": {
        "id": "Wc0_zpOer2Ir",
        "colab_type": "text"
      },
      "cell_type": "markdown",
      "source": [
        "## 모듈 사용 (Ch.2-8)"
      ]
    },
    {
      "metadata": {
        "id": "TYWzyR9Sr2Ir",
        "colab_type": "text"
      },
      "cell_type": "markdown",
      "source": [
        "### 모듈 import (가져 오기)"
      ]
    },
    {
      "metadata": {
        "id": "P4a2CpFHr2Ir",
        "colab_type": "code",
        "colab": {}
      },
      "cell_type": "code",
      "source": [
        "# random 모듈의 Import\n",
        "import random                 # 랜덤 모듈을 읽기\n",
        "\n",
        "print(random.random())        # 0 < x < 1의 난수를 얻음\n",
        "print(random.randint(0, 6))   # 0 <= x <= 6의 난수를 얻음\n",
        "a_list = [0, 1, 2, 3, 4, 5]\n",
        "random.shuffle(a_list)        # 리스트를 임의로 교체\n",
        "print(a_list)\n",
        "print(random.choice(a_list))  # 리스트의 요소를 1개 랜덤으로 선택"
      ],
      "execution_count": 0,
      "outputs": []
    },
    {
      "metadata": {
        "id": "TW201Ww4r2Is",
        "colab_type": "text"
      },
      "cell_type": "markdown",
      "source": [
        "### import ~ as ~"
      ]
    },
    {
      "metadata": {
        "id": "KQFJVtQ2r2Is",
        "colab_type": "code",
        "colab": {}
      },
      "cell_type": "code",
      "source": [
        "# plt라는 이름으로 matplotlib.pyplot import하기\n",
        "import matplotlib.pyplot as plt  \n",
        "\n",
        "# 그래프를 표시하기 위한 선언문\n",
        "%matplotlib inline\n",
        "\n",
        "pravda_team = [127, 172, 140, 160, 174]\n",
        "plt.bar([1, 2, 3, 4, 5], pravda_team)  # plt를 사용하여 그래프를 그림"
      ],
      "execution_count": 0,
      "outputs": []
    },
    {
      "metadata": {
        "id": "uaqvl6MLr2Iv",
        "colab_type": "text"
      },
      "cell_type": "markdown",
      "source": [
        "### from을 사용한 import"
      ]
    },
    {
      "metadata": {
        "id": "afJPq2Gxr2Iv",
        "colab_type": "code",
        "colab": {}
      },
      "cell_type": "code",
      "source": [
        "# median() 함수의 import\n",
        "# statistics 모듈의 median 함수를 사용하여 평균을 계산\n",
        "from statistics import median\n",
        "\n",
        "monk_fish_team = [158, 157, 163, 157, 145]\n",
        "volleyball_team = [143, 167, 170, 165]\n",
        "print(median(monk_fish_team))    # 함수 이름만 불러낼 수 있음\n",
        "print(median(volleyball_team))   # 함수 이름만 불러낼 수 있음"
      ],
      "execution_count": 0,
      "outputs": []
    },
    {
      "metadata": {
        "id": "ljGmhPLTr2Iv",
        "colab_type": "text"
      },
      "cell_type": "markdown",
      "source": [
        "### 도전코딩 5. 모듈사용\n",
        "\n",
        "> var()함수를 import하여 monk_fish_tea과 volleyball_team의 variance를 구하시오."
      ]
    },
    {
      "metadata": {
        "id": "EFja2rdir2Iw",
        "colab_type": "code",
        "colab": {}
      },
      "cell_type": "code",
      "source": [
        "import numpy as np\n",
        "np.var(monk_fish_team),np.var(volleyball_team)"
      ],
      "execution_count": 0,
      "outputs": []
    },
    {
      "metadata": {
        "id": "NpAsdyS7r2Ix",
        "colab_type": "code",
        "colab": {}
      },
      "cell_type": "code",
      "source": [
        ""
      ],
      "execution_count": 0,
      "outputs": []
    }
  ]
}