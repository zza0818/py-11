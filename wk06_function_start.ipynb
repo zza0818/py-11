{
  "nbformat": 4,
  "nbformat_minor": 0,
  "metadata": {
    "colab": {
      "name": "wk06_function_start.ipynb",
      "version": "0.3.2",
      "provenance": [],
      "collapsed_sections": [
        "emTbIFBcPMYj",
        "jRugU9ONPMYt",
        "-mN-4dy9PMY8",
        "GcbGJCS9PMZQ",
        "NMJ6w__wPMZW",
        "7BlKk_21PMZa",
        "MU_W28zkPMZd",
        "jaZ4DHp4PMZf",
        "RBVafmR7PMZh",
        "-wAafbNDPMZy",
        "FPhPtLsqPMaB",
        "rdJrYFkTPMaN",
        "xhRX41s0PMad",
        "ZnHLqHIWzo1_",
        "gTIF5d1Hzo2C",
        "ZrlvfQrPPMal"
      ],
      "include_colab_link": true
    },
    "kernelspec": {
      "display_name": "Python 3",
      "language": "python",
      "name": "python3"
    }
  },
  "cells": [
    {
      "cell_type": "markdown",
      "metadata": {
        "id": "view-in-github",
        "colab_type": "text"
      },
      "source": [
        "[View in Colaboratory](https://colab.research.google.com/github/zza0818/py-11/blob/master/wk06_function_start.ipynb)"
      ]
    },
    {
      "metadata": {
        "id": "hIHlLTQmPMXl",
        "colab_type": "text"
      },
      "cell_type": "markdown",
      "source": [
        "## 파이썬과 함수형 프로그래밍 (Ch.5-1)"
      ]
    },
    {
      "metadata": {
        "id": "AsEsLQPuPMXp",
        "colab_type": "text"
      },
      "cell_type": "markdown",
      "source": [
        "## 함수형 프로그래밍이란 무엇인가"
      ]
    },
    {
      "metadata": {
        "id": "FdtPTyabPMXq",
        "colab_type": "code",
        "colab": {
          "base_uri": "https://localhost:8080/",
          "height": 35
        },
        "outputId": "e56f2925-f46d-4ee9-e285-32d9ce4b686b"
      },
      "cell_type": "code",
      "source": [
        "# 리스트의 메쏘드를 사용한 처리\n",
        "# reverse() 메쏘드를 사용한 회문 판정\n",
        "orig_str = \"아좋다좋아\"\n",
        "str_list = list(orig_str)     # 문자열을 리스트로 변환\n",
        "str_list.reverse()            # 리스트를 뒤집음(반전)\n",
        "# 공백 문자열에 뒤집은 문자열을 추가\n",
        "# ''.join  # '': 문자열 객체를 의미한다 , ctrl+/ = 주석처리됨\n",
        "''.join(str_list) == orig_str # 리스트를 문자열로 바꾸어 회문 판정 ''= 텅 빈 문자열  "
      ],
      "execution_count": 1,
      "outputs": [
        {
          "output_type": "execute_result",
          "data": {
            "text/plain": [
              "True"
            ]
          },
          "metadata": {
            "tags": []
          },
          "execution_count": 1
        }
      ]
    },
    {
      "metadata": {
        "id": "nweWWLWHPMXw",
        "colab_type": "code",
        "colab": {
          "base_uri": "https://localhost:8080/",
          "height": 35
        },
        "outputId": "5f72e5bb-9080-4d72-ef0f-9f196865f574"
      },
      "cell_type": "code",
      "source": [
        "# 함수를 사용한 처리 (list() 사용 안함!)\n",
        "# reversed()를 사용한 회문 판정\n",
        "# 함수/메쏘드 호출 연산자와 비교 연산자를 포함하는 식 등\n",
        "orig_str = \"아좋다좋아\"\n",
        "\"\".join(reversed(orig_str)) == orig_str"
      ],
      "execution_count": 2,
      "outputs": [
        {
          "output_type": "execute_result",
          "data": {
            "text/plain": [
              "True"
            ]
          },
          "metadata": {
            "tags": []
          },
          "execution_count": 2
        }
      ]
    },
    {
      "metadata": {
        "id": "64KwndrjPMX1",
        "colab_type": "text"
      },
      "cell_type": "markdown",
      "source": [
        "[reversed() function (w3schools.com)](https://www.w3schools.com/python/ref_func_reversed.asp)"
      ]
    },
    {
      "metadata": {
        "id": "vTKRFHezPMX3",
        "colab_type": "code",
        "colab": {
          "base_uri": "https://localhost:8080/",
          "height": 35
        },
        "outputId": "099d2884-12d4-4321-a595-90567cca2adb"
      },
      "cell_type": "code",
      "source": [
        "# 참고로 문자열을 반전만 한다면 슬라이스의 단계 수를 사용하는 것이\n",
        "# 가장 쉽다\n",
        "\n",
        "orig_str = \"아좋다좋아\"  # 문자열은 자동 리스트!\n",
        "orig_str == orig_str[::-1] #아좋다좋아 글자수 5개임 \n",
        "\n",
        "# 슬라이스도 함수형적인 작업이라고 말할 수 있을지도..."
      ],
      "execution_count": 3,
      "outputs": [
        {
          "output_type": "execute_result",
          "data": {
            "text/plain": [
              "True"
            ]
          },
          "metadata": {
            "tags": []
          },
          "execution_count": 3
        }
      ]
    },
    {
      "metadata": {
        "id": "emKQFl7qPMX9",
        "colab_type": "code",
        "colab": {
          "base_uri": "https://localhost:8080/",
          "height": 35
        },
        "outputId": "33088bbf-0db7-42bd-d2b0-c05e099b7550"
      },
      "cell_type": "code",
      "source": [
        "orig_str = \"아좋다좋아크\"\n",
        "orig_str[::-1] "
      ],
      "execution_count": 4,
      "outputs": [
        {
          "output_type": "execute_result",
          "data": {
            "text/plain": [
              "'크아좋다좋아'"
            ]
          },
          "metadata": {
            "tags": []
          },
          "execution_count": 4
        }
      ]
    },
    {
      "metadata": {
        "id": "BJAFaW9_B7DM",
        "colab_type": "code",
        "colab": {
          "base_uri": "https://localhost:8080/",
          "height": 35
        },
        "outputId": "f0efc9f0-8037-40fe-f270-9b9b45779705"
      },
      "cell_type": "code",
      "source": [
        "orig_str[-1:0:-1] #맨뒤인덱스부터 맨앞의 인덱스 -1줄여서 0 이 포함이 안되서 아가 안나옴"
      ],
      "execution_count": 5,
      "outputs": [
        {
          "output_type": "execute_result",
          "data": {
            "text/plain": [
              "'크아좋다좋'"
            ]
          },
          "metadata": {
            "tags": []
          },
          "execution_count": 5
        }
      ]
    },
    {
      "metadata": {
        "id": "9fwLyECYBlyl",
        "colab_type": "code",
        "colab": {
          "base_uri": "https://localhost:8080/",
          "height": 35
        },
        "outputId": "996a65b7-ee20-4acd-d987-bf6dc7c7a281"
      },
      "cell_type": "code",
      "source": [
        "orig_str[0:-1:1] # 크가 포함이 안됨"
      ],
      "execution_count": 6,
      "outputs": [
        {
          "output_type": "execute_result",
          "data": {
            "text/plain": [
              "'아좋다좋아'"
            ]
          },
          "metadata": {
            "tags": []
          },
          "execution_count": 6
        }
      ]
    },
    {
      "metadata": {
        "id": "YHpZiDC2PMYD",
        "colab_type": "text"
      },
      "cell_type": "markdown",
      "source": [
        "[Reverse string by slicing (w3schools.com)](https://www.w3schools.com/python/python_howto_reverse_string.asp)"
      ]
    },
    {
      "metadata": {
        "id": "qaEsTlMOPMYF",
        "colab_type": "text"
      },
      "cell_type": "markdown",
      "source": [
        "> 함수형 프로그래밍이란 -> 함수를 이용한 처리"
      ]
    },
    {
      "metadata": {
        "id": "J5X_NOoGPMYH",
        "colab_type": "code",
        "colab": {}
      },
      "cell_type": "code",
      "source": [
        "# Python의 식\n",
        "print(\"\".join(reversed(\"아좋다좋아크\")))"
      ],
      "execution_count": 0,
      "outputs": []
    },
    {
      "metadata": {
        "id": "6Zaf49C-PMYK",
        "colab_type": "text"
      },
      "cell_type": "markdown",
      "source": [
        "### 파이썬의 문장과 식"
      ]
    },
    {
      "metadata": {
        "id": "NW9oglXzPMYK",
        "colab_type": "code",
        "colab": {
          "base_uri": "https://localhost:8080/",
          "height": 35
        },
        "outputId": "ca80c67d-b7f8-474f-9c2c-4ac90b80e99f"
      },
      "cell_type": "code",
      "source": [
        "# 파이썬의 문장\n",
        "\n",
        "# if문, for문, def문과 같이 '~ 문장'이라는 기능\n",
        "# '문장'은 줄 바꿈을 필요하다\n",
        "if \"\":\n",
        "    print(\"이 블록은 실행되지 않습니다\")\n",
        "else:\n",
        "    print(\"파이썬에서는 빈 문자열은 거짓이라고 판정됩니다\")\n",
        "       "
      ],
      "execution_count": 0,
      "outputs": [
        {
          "output_type": "stream",
          "text": [
            "파이썬에서는 빈 문자열은 거짓이라고 판정됩니다\n"
          ],
          "name": "stdout"
        }
      ]
    },
    {
      "metadata": {
        "id": "zucoAPl3PMYN",
        "colab_type": "text"
      },
      "cell_type": "markdown",
      "source": [
        "# lambda식 : 익명 함수 또는 무명 함수"
      ]
    },
    {
      "metadata": {
        "id": "ACiQ4jIrPMYO",
        "colab_type": "code",
        "colab": {}
      },
      "cell_type": "code",
      "source": [
        "# function square(x)\n",
        "def square(x): \n",
        "    return x*x"
      ],
      "execution_count": 0,
      "outputs": []
    },
    {
      "metadata": {
        "id": "0O4kH1-IPMYQ",
        "colab_type": "code",
        "colab": {
          "base_uri": "https://localhost:8080/",
          "height": 35
        },
        "outputId": "f1f88c12-ef4e-451a-ddc0-99a03ff41067"
      },
      "cell_type": "code",
      "source": [
        "# Call square(5) \n",
        "print(square(5))"
      ],
      "execution_count": 0,
      "outputs": [
        {
          "output_type": "stream",
          "text": [
            "25\n"
          ],
          "name": "stdout"
        }
      ]
    },
    {
      "metadata": {
        "id": "Lk5sGeZBPMYU",
        "colab_type": "code",
        "colab": {}
      },
      "cell_type": "code",
      "source": [
        "square1 = lambda x: x*x "
      ],
      "execution_count": 0,
      "outputs": []
    },
    {
      "metadata": {
        "id": "7VcMQCQxPMYW",
        "colab_type": "code",
        "colab": {
          "base_uri": "https://localhost:8080/",
          "height": 35
        },
        "outputId": "fa87a5c9-49bb-4878-f647-7ace89b2c199"
      },
      "cell_type": "code",
      "source": [
        "# Call square1(5) \n",
        "print(square1(5))"
      ],
      "execution_count": 0,
      "outputs": [
        {
          "output_type": "stream",
          "text": [
            "25\n"
          ],
          "name": "stdout"
        }
      ]
    },
    {
      "metadata": {
        "id": "BND-dEp1PMYZ",
        "colab_type": "text"
      },
      "cell_type": "markdown",
      "source": [
        "### lambda식 정리 (Youtube video)"
      ]
    },
    {
      "metadata": {
        "id": "7fKkqnyKPMYa",
        "colab_type": "code",
        "colab": {
          "base_uri": "https://localhost:8080/",
          "height": 320
        },
        "outputId": "d3d499f2-4181-4070-d8aa-9710ff927e11"
      },
      "cell_type": "code",
      "source": [
        "from IPython.lib.display import YouTubeVideo\n",
        "YouTubeVideo('oL6LIuw_p94') #중간고사 공부할때 한번 보기"
      ],
      "execution_count": 0,
      "outputs": [
        {
          "output_type": "execute_result",
          "data": {
            "text/html": [
              "\n",
              "        <iframe\n",
              "            width=\"400\"\n",
              "            height=\"300\"\n",
              "            src=\"https://www.youtube.com/embed/oL6LIuw_p94\"\n",
              "            frameborder=\"0\"\n",
              "            allowfullscreen\n",
              "        ></iframe>\n",
              "        "
            ],
            "text/plain": [
              "<IPython.lib.display.YouTubeVideo at 0x7f00557247f0>"
            ],
            "image/jpeg": "[encoded data removed]"
          },
          "metadata": {
            "tags": []
          },
          "execution_count": 16
        }
      ]
    },
    {
      "metadata": {
        "id": "zfb-Cx9wPMYd",
        "colab_type": "text"
      },
      "cell_type": "markdown",
      "source": [
        "## function"
      ]
    },
    {
      "metadata": {
        "id": "F8dVZVjePMYe",
        "colab_type": "code",
        "colab": {}
      },
      "cell_type": "code",
      "source": [
        "def print_name(name, count=2):\n",
        "    for i in range(count):\n",
        "        print(\"name = \", name)"
      ],
      "execution_count": 0,
      "outputs": []
    },
    {
      "metadata": {
        "id": "hssQfUZHPMYg",
        "colab_type": "code",
        "colab": {
          "base_uri": "https://localhost:8080/",
          "height": 53
        },
        "outputId": "e741c823-705f-4951-d30f-74f97d724372"
      },
      "cell_type": "code",
      "source": [
        "print_name(\"HCit\")"
      ],
      "execution_count": 0,
      "outputs": [
        {
          "output_type": "stream",
          "text": [
            "name =  HCit\n",
            "name =  HCit\n"
          ],
          "name": "stdout"
        }
      ]
    },
    {
      "metadata": {
        "id": "Yc1dMggeF3LD",
        "colab_type": "code",
        "colab": {
          "base_uri": "https://localhost:8080/",
          "height": 107
        },
        "outputId": "97d4135d-4418-4799-e308-943ef715e2e7"
      },
      "cell_type": "code",
      "source": [
        "print_name(\"HCit\",5)"
      ],
      "execution_count": 0,
      "outputs": [
        {
          "output_type": "stream",
          "text": [
            "name =  HCit\n",
            "name =  HCit\n",
            "name =  HCit\n",
            "name =  HCit\n",
            "name =  HCit\n"
          ],
          "name": "stdout"
        }
      ]
    },
    {
      "metadata": {
        "id": "emTbIFBcPMYj",
        "colab_type": "text"
      },
      "cell_type": "markdown",
      "source": [
        "### mutable vs. immutable parameter in function"
      ]
    },
    {
      "metadata": {
        "id": "UIrG74jAPMYk",
        "colab_type": "code",
        "colab": {}
      },
      "cell_type": "code",
      "source": [
        "def mutable_immutable_func(int_x, input_list):\n",
        "    int_x += 1\n",
        "    input_list.append(100)"
      ],
      "execution_count": 0,
      "outputs": []
    },
    {
      "metadata": {
        "id": "42c7LcgAPMYm",
        "colab_type": "code",
        "colab": {}
      },
      "cell_type": "code",
      "source": [
        "x = 1\n",
        "test_list = [1,2,3]"
      ],
      "execution_count": 0,
      "outputs": []
    },
    {
      "metadata": {
        "id": "7yOrxwOGPMYq",
        "colab_type": "code",
        "colab": {
          "base_uri": "https://localhost:8080/",
          "height": 35
        },
        "outputId": "a1ba9c51-9b0d-4407-a79f-02b1d0f0fc71"
      },
      "cell_type": "code",
      "source": [
        "mutable_immutable_func(x, test_list)\n",
        "print(\"x = \", x, \", test_list = \", test_list)"
      ],
      "execution_count": 0,
      "outputs": [
        {
          "output_type": "stream",
          "text": [
            "x =  1 , test_list =  [1, 2, 3, 100]\n"
          ],
          "name": "stdout"
        }
      ]
    },
    {
      "metadata": {
        "id": "jRugU9ONPMYt",
        "colab_type": "text"
      },
      "cell_type": "markdown",
      "source": [
        "### lambda function"
      ]
    },
    {
      "metadata": {
        "id": "xw1ZrCOnPMYt",
        "colab_type": "code",
        "colab": {}
      },
      "cell_type": "code",
      "source": [
        "f = lambda x: x + 100 #중간고사 필기"
      ],
      "execution_count": 0,
      "outputs": []
    },
    {
      "metadata": {
        "id": "aDzyBfo2PMYw",
        "colab_type": "code",
        "colab": {
          "base_uri": "https://localhost:8080/",
          "height": 71
        },
        "outputId": "95926bde-90e1-4dfd-974a-d6518e204034"
      },
      "cell_type": "code",
      "source": [
        "for i in range(3):\n",
        "    print(f(i)) #중간고사 필기-무엇이 출력되는지 "
      ],
      "execution_count": 0,
      "outputs": [
        {
          "output_type": "stream",
          "text": [
            "100\n",
            "101\n",
            "102\n"
          ],
          "name": "stdout"
        }
      ]
    },
    {
      "metadata": {
        "id": "89l7SzQtPMYz",
        "colab_type": "text"
      },
      "cell_type": "markdown",
      "source": [
        "> lambda 함수는 입력값(매개변수)를 반드시 사용할 필요 없음."
      ]
    },
    {
      "metadata": {
        "id": "X0k6dgyLPMY0",
        "colab_type": "code",
        "colab": {}
      },
      "cell_type": "code",
      "source": [
        "def print_hello():\n",
        "    print(\"Hello python!\")\n",
        "    \n",
        "def test_lambda(s, t):\n",
        "    print(\"input1 = \", s, \", input2 = \", t)\n",
        "    "
      ],
      "execution_count": 0,
      "outputs": []
    },
    {
      "metadata": {
        "id": "8a4LLcaaPMY2",
        "colab_type": "code",
        "colab": {}
      },
      "cell_type": "code",
      "source": [
        "s = 100\n",
        "t = 200\n",
        "fx = lambda x,y: test_lambda(s, t)  # fx(x,y) = test_lambda(s,t)\n",
        "fy = lambda x,y: print_hello()      # fy(x,y) = print_hello()"
      ],
      "execution_count": 0,
      "outputs": []
    },
    {
      "metadata": {
        "id": "lcWN7Za-PMY5",
        "colab_type": "code",
        "colab": {
          "base_uri": "https://localhost:8080/",
          "height": 53
        },
        "outputId": "cb45d42b-27f1-4f3a-9706-eb1adcbe2722"
      },
      "cell_type": "code",
      "source": [
        "fx(500, 1000)  # lambda 함수는 입력값(매개변수)를 반드시 사용할 필요 없음.\n",
        "fy(300, 600)"
      ],
      "execution_count": 0,
      "outputs": [
        {
          "output_type": "stream",
          "text": [
            "input1 =  100 , input2 =  200\n",
            "Hello python!\n"
          ],
          "name": "stdout"
        }
      ]
    },
    {
      "metadata": {
        "id": "psFylblCPMY7",
        "colab_type": "text"
      },
      "cell_type": "markdown",
      "source": [
        "***"
      ]
    },
    {
      "metadata": {
        "id": "-mN-4dy9PMY8",
        "colab_type": "text"
      },
      "cell_type": "markdown",
      "source": [
        "### lambda 함수의 응용"
      ]
    },
    {
      "metadata": {
        "id": "jLrMgtMYPMY-",
        "colab_type": "code",
        "colab": {
          "base_uri": "https://localhost:8080/",
          "height": 107
        },
        "outputId": "963c3601-747d-40b8-ac36-c2950352aa34"
      },
      "cell_type": "code",
      "source": [
        "# 정렬 순서 지정에 lambda식을 사용한다.\n",
        "tank_data = [(\"IV호 전차\", 38, 80, 75), (\"LT-38\", 42, 50, 37),\n",
        "             (\"89식 중전차\", 20, 17, 57), (\"III호 돌격포\", 40, 50, 75),\n",
        "             (\"M3 중전차\", 39, 51, 75)]\n",
        "# def evaluate_tankdata(tup):\n",
        "#     # 전차의 제원을 더해 반환하는 함수\n",
        "#     return tup[1]+tup[2]+tup[3]\n",
        "\n",
        "tank_data.sort(key=lambda tup: sum(tup[1:4]), reverse=True)\n",
        "tank_data"
      ],
      "execution_count": 0,
      "outputs": [
        {
          "output_type": "execute_result",
          "data": {
            "text/plain": [
              "[('IV호 전차', 38, 80, 75),\n",
              " ('III호 돌격포', 40, 50, 75),\n",
              " ('M3 중전차', 39, 51, 75),\n",
              " ('LT-38', 42, 50, 37),\n",
              " ('89식 중전차', 20, 17, 57)]"
            ]
          },
          "metadata": {
            "tags": []
          },
          "execution_count": 30
        }
      ]
    },
    {
      "metadata": {
        "id": "tlm9FTfYPMZA",
        "colab_type": "code",
        "colab": {
          "base_uri": "https://localhost:8080/",
          "height": 107
        },
        "outputId": "cb13e383-657c-4ea5-8c9d-55bce11330cc"
      },
      "cell_type": "code",
      "source": [
        "# sorted() 함수에 의한 바꾸기\n",
        "r = sorted(tank_data, key=lambda tup: sum(tup[1:4]), reverse=True)\n",
        "r"
      ],
      "execution_count": 0,
      "outputs": [
        {
          "output_type": "execute_result",
          "data": {
            "text/plain": [
              "[('IV호 전차', 38, 80, 75),\n",
              " ('III호 돌격포', 40, 50, 75),\n",
              " ('M3 중전차', 39, 51, 75),\n",
              " ('LT-38', 42, 50, 37),\n",
              " ('89식 중전차', 20, 17, 57)]"
            ]
          },
          "metadata": {
            "tags": []
          },
          "execution_count": 32
        }
      ]
    },
    {
      "metadata": {
        "id": "rw2zHyxbPMZF",
        "colab_type": "code",
        "colab": {
          "base_uri": "https://localhost:8080/",
          "height": 35
        },
        "outputId": "178a4ab9-7cf3-42bf-b6cb-d3535c436443"
      },
      "cell_type": "code",
      "source": [
        "# 소수 찾기 함수를 하나의 행으로 정의\n",
        "primelist = lambda n : [x for x in range(2, n) if not 0 in map(lambda z : x % z, range(2,x))]\n",
        "primelist(50)  # 30까지의 소수를 찾기"
      ],
      "execution_count": 0,
      "outputs": [
        {
          "output_type": "execute_result",
          "data": {
            "text/plain": [
              "[2, 3, 5, 7, 11, 13, 17, 19, 23, 29, 31, 37, 41, 43, 47]"
            ]
          },
          "metadata": {
            "tags": []
          },
          "execution_count": 34
        }
      ]
    },
    {
      "metadata": {
        "id": "tYyZn97FPMZI",
        "colab_type": "code",
        "colab": {
          "base_uri": "https://localhost:8080/",
          "height": 35
        },
        "outputId": "988176bf-4871-402b-8b4c-f2e7d09b12e8"
      },
      "cell_type": "code",
      "source": [
        "x=3  # check when x = 4, 5, 6 \n",
        "map(lambda z : x % z, range(2,x))  # use list()"
      ],
      "execution_count": 0,
      "outputs": [
        {
          "output_type": "execute_result",
          "data": {
            "text/plain": [
              "<map at 0x7f00556aec88>"
            ]
          },
          "metadata": {
            "tags": []
          },
          "execution_count": 35
        }
      ]
    },
    {
      "metadata": {
        "id": "HUrrQr6tPMZK",
        "colab_type": "code",
        "colab": {
          "base_uri": "https://localhost:8080/",
          "height": 35
        },
        "outputId": "59615f33-cf23-46e5-b713-cb6d3a673951"
      },
      "cell_type": "code",
      "source": [
        "list(map(lambda z : x % z, range(2,x))) #x가 4인경우에는 [0]이 나옴 ->4는 소수가 아니다 /x=5를 넣으면 0이 안나옴 소수이다 //0이 하나라도 나오면 소수가 아니다.0이 없으면 소수이다"
      ],
      "execution_count": 0,
      "outputs": [
        {
          "output_type": "execute_result",
          "data": {
            "text/plain": [
              "[1]"
            ]
          },
          "metadata": {
            "tags": []
          },
          "execution_count": 37
        }
      ]
    },
    {
      "metadata": {
        "id": "TNZ2GQuMPMZO",
        "colab_type": "text"
      },
      "cell_type": "markdown",
      "source": [
        "> lambda식 \n",
        "\n",
        "- '식'은 줄 바꿈 없이 얼마든지 계속할 수 있다\n",
        "- 하지만 하나의 행이 너무 길면 읽기 어려워지므로 주의"
      ]
    },
    {
      "metadata": {
        "id": "DY6XufI_PMZP",
        "colab_type": "text"
      },
      "cell_type": "markdown",
      "source": [
        "## 내포 표기(Comprehension) (Ch.5-2)"
      ]
    },
    {
      "metadata": {
        "id": "GcbGJCS9PMZQ",
        "colab_type": "text"
      },
      "cell_type": "markdown",
      "source": [
        "### 리스트 내포 표기란?"
      ]
    },
    {
      "metadata": {
        "id": "UbVRuYaXPMZR",
        "colab_type": "code",
        "colab": {
          "base_uri": "https://localhost:8080/",
          "height": 35
        },
        "outputId": "75284ab2-fd0c-4522-a78a-90a2856e3c25"
      },
      "cell_type": "code",
      "source": [
        "# 리스트 내포 표기의 예\n",
        "monk_fish_team = [158, 157, 163, 157, 145]\n",
        "\n",
        "total = sum(monk_fish_team)    # 리스트의 합계\n",
        "length = len(monk_fish_team)   # 리스트의 요소 수(길이)\n",
        "mean = total/length            # 평균을 구함\n",
        "\n",
        "# variance = 0\n",
        "# for height in monk_fish_team:\n",
        "#     variance = variance+(height-mean)**2\n",
        "#\n",
        "# variance = variance/length\n",
        "\n",
        "# 리스트 내포 표기\n",
        "variance = sum([(h-mean)**2 for h in monk_fish_team])/length\n",
        "\n",
        "variance"
      ],
      "execution_count": 0,
      "outputs": [
        {
          "output_type": "execute_result",
          "data": {
            "text/plain": [
              "35.2"
            ]
          },
          "metadata": {
            "tags": []
          },
          "execution_count": 38
        }
      ]
    },
    {
      "metadata": {
        "id": "6Xqd3_bwPMZT",
        "colab_type": "code",
        "colab": {
          "base_uri": "https://localhost:8080/",
          "height": 35
        },
        "outputId": "de3747fd-9168-4eb4-a732-402e4bd76538"
      },
      "cell_type": "code",
      "source": [
        "variance = 0\n",
        "for height in monk_fish_team:\n",
        "    variance = variance+(height-mean)**2\n",
        "\n",
        "variance = variance/length\n",
        "variance"
      ],
      "execution_count": 0,
      "outputs": [
        {
          "output_type": "execute_result",
          "data": {
            "text/plain": [
              "35.2"
            ]
          },
          "metadata": {
            "tags": []
          },
          "execution_count": 39
        }
      ]
    },
    {
      "metadata": {
        "id": "NMJ6w__wPMZW",
        "colab_type": "text"
      },
      "cell_type": "markdown",
      "source": [
        "### 리스트 내포 표기의 상세 (details)"
      ]
    },
    {
      "metadata": {
        "id": "1_Mx2g7ePMZX",
        "colab_type": "code",
        "colab": {
          "base_uri": "https://localhost:8080/",
          "height": 35
        },
        "outputId": "3287f606-5b9e-43bf-ecde-98a70ca5aa32"
      },
      "cell_type": "code",
      "source": [
        "# 리스트 내포표기가 돌려주는 리스트\n",
        "[(h-mean)**2 for h in monk_fish_team]"
      ],
      "execution_count": 0,
      "outputs": [
        {
          "output_type": "execute_result",
          "data": {
            "text/plain": [
              "[4.0, 1.0, 49.0, 1.0, 121.0]"
            ]
          },
          "metadata": {
            "tags": []
          },
          "execution_count": 40
        }
      ]
    },
    {
      "metadata": {
        "id": "gGBglVrDPMZZ",
        "colab_type": "code",
        "colab": {
          "base_uri": "https://localhost:8080/",
          "height": 35
        },
        "outputId": "a65b0699-1d43-41a7-813c-a4d2cf405219"
      },
      "cell_type": "code",
      "source": [
        "# 리스트 내포 표기로 바꾼 코드\n",
        "str_speeds = \"38 42 20 40 39\"\n",
        "speeds = [int(s) for s in str_speeds.split()]\n",
        "speeds"
      ],
      "execution_count": 0,
      "outputs": [
        {
          "output_type": "execute_result",
          "data": {
            "text/plain": [
              "[38, 42, 20, 40, 39]"
            ]
          },
          "metadata": {
            "tags": []
          },
          "execution_count": 41
        }
      ]
    },
    {
      "metadata": {
        "id": "7BlKk_21PMZa",
        "colab_type": "text"
      },
      "cell_type": "markdown",
      "source": [
        "### 리스트 내포 표기에서 이용하는 ‘if’"
      ]
    },
    {
      "metadata": {
        "id": "shMN9Rx4PMZb",
        "colab_type": "code",
        "colab": {
          "base_uri": "https://localhost:8080/",
          "height": 35
        },
        "outputId": "2b0ee0e0-42ad-4ffa-fa0f-7711482eff44"
      },
      "cell_type": "code",
      "source": [
        "# 숫자가 아닌 것을 걸러내서(배제해서) 리스트를 만드는 예\n",
        "str_speeds = \"38 42 20 40 a1 39 abc 49\" #숫자가 아닌 문자열a1\n",
        "speeds = [int(s) for s in str_speeds.split()\n",
        "                              if s.isdigit()]\n",
        "speeds"
      ],
      "execution_count": 0,
      "outputs": [
        {
          "output_type": "execute_result",
          "data": {
            "text/plain": [
              "[38, 42, 20, 40, 39, 49]"
            ]
          },
          "metadata": {
            "tags": []
          },
          "execution_count": 44
        }
      ]
    },
    {
      "metadata": {
        "id": "MU_W28zkPMZd",
        "colab_type": "text"
      },
      "cell_type": "markdown",
      "source": [
        "### 딕셔너리 내포 표기"
      ]
    },
    {
      "metadata": {
        "id": "d6sfT035PMZd",
        "colab_type": "code",
        "colab": {
          "base_uri": "https://localhost:8080/",
          "height": 35
        },
        "outputId": "2961d6ad-c22e-486e-c60b-fb877321c877"
      },
      "cell_type": "code",
      "source": [
        "# 구문 딕셔너리 내포 표기를 사용한다\n",
        "# 딕셔너리 내포 표기법을 사용하여 키와 값을 반전한 딕셔너리를 만듦\n",
        "# 시간대의 딕셔너리를 만듦\n",
        "tz = {\"GMT\":\"+000\", \"BST\":\"+100\",\n",
        "      \"EET\":\"+200\", \"KST\":\"+900\"}\n",
        "# 시간대와 시차를 반대로 한 딕셔너리를 만듦\n",
        "revtz = {off:zone for zone, off in tz.items()}  # 딕셔너리\n",
        "revtz"
      ],
      "execution_count": 0,
      "outputs": [
        {
          "output_type": "execute_result",
          "data": {
            "text/plain": [
              "{'+000': 'GMT', '+100': 'BST', '+200': 'EET', '+900': 'KST'}"
            ]
          },
          "metadata": {
            "tags": []
          },
          "execution_count": 45
        }
      ]
    },
    {
      "metadata": {
        "id": "jaZ4DHp4PMZf",
        "colab_type": "text"
      },
      "cell_type": "markdown",
      "source": [
        "### set 내포 표기"
      ]
    },
    {
      "metadata": {
        "id": "ihglINPpPMZg",
        "colab_type": "code",
        "colab": {
          "base_uri": "https://localhost:8080/",
          "height": 35
        },
        "outputId": "ca5c8594-e04d-4fa5-887f-85f6dda8f03c"
      },
      "cell_type": "code",
      "source": [
        "# set 내포 표기를 사용한다\n",
        "names = [\"BOB\", \"burton\", \"dave\", \"bob\"]  # 이름 리스트를 정의\n",
        "unames = {x.lower() for x in names}       # 이름을 소문자로 바꿔서 중복된 것 제거\n",
        "unames"
      ],
      "execution_count": 0,
      "outputs": [
        {
          "output_type": "execute_result",
          "data": {
            "text/plain": [
              "{'bob', 'burton', 'dave'}"
            ]
          },
          "metadata": {
            "tags": []
          },
          "execution_count": 46
        }
      ]
    },
    {
      "metadata": {
        "id": "Imx0HJorPMZh",
        "colab_type": "text"
      },
      "cell_type": "markdown",
      "source": [
        "## 이터레이터를 사용한다. (Ch.5-3)"
      ]
    },
    {
      "metadata": {
        "id": "RBVafmR7PMZh",
        "colab_type": "text"
      },
      "cell_type": "markdown",
      "source": [
        "### 이터레이터와 지연평가"
      ]
    },
    {
      "metadata": {
        "id": "5E38s9wPOCNI",
        "colab_type": "code",
        "colab": {
          "resources": {
            "http://localhost:8080/nbextensions/google.colab/files.js": {
              "data": "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",
              "ok": true,
              "headers": [
                [
                  "content-type",
                  "application/javascript"
                ]
              ],
              "status": 200,
              "status_text": ""
            }
          },
          "base_uri": "https://localhost:8080/",
          "height": 93
        },
        "outputId": "a9bdf185-7acf-4eac-e1ea-1b1edb75919e"
      },
      "cell_type": "code",
      "source": [
        "from google.colab import files\n",
        "\n",
        "uploaded = files.upload() # 파일선택 UI\n",
        "\n",
        "for fn in uploaded.keys():\n",
        "  print('User uploaded file \"{name}\" with length {length} bytes'.format(\n",
        "      name=fn, length=len(uploaded[fn])))"
      ],
      "execution_count": 7,
      "outputs": [
        {
          "output_type": "display_data",
          "data": {
            "text/html": [
              "\n",
              "     <input type=\"file\" id=\"files-0f093058-145b-4887-9d64-6a6cb488ae60\" name=\"files[]\" multiple disabled />\n",
              "     <output id=\"result-0f093058-145b-4887-9d64-6a6cb488ae60\">\n",
              "      Upload widget is only available when the cell has been executed in the\n",
              "      current browser session. Please rerun this cell to enable.\n",
              "      </output>\n",
              "      <script src=\"/nbextensions/google.colab/files.js\"></script> "
            ],
            "text/plain": [
              "<IPython.core.display.HTML object>"
            ]
          },
          "metadata": {
            "tags": []
          }
        },
        {
          "output_type": "stream",
          "text": [
            "Saving some.txt to some.txt\n",
            "User uploaded file \"some.txt\" with length 1541 bytes\n"
          ],
          "name": "stdout"
        }
      ]
    },
    {
      "metadata": {
        "id": "pmPJpFbTPMZi",
        "colab_type": "code",
        "colab": {
          "base_uri": "https://localhost:8080/",
          "height": 107
        },
        "outputId": "9cd7b721-c16d-4131-baca-dba95862c052"
      },
      "cell_type": "code",
      "source": [
        "# read() 메쏘드로 파일 전체를 읽어 들인다\n",
        "# 파일에서 모두 읽어 들인 후 선두의 5행을 표시\n",
        "f = open('some.txt')           # フ파일 객체를 만듦\n",
        "body = f.read()                # 파일 전체를 읽어 들임\n",
        "lines = body.split('\\n')       # 파일을 줄 바꾸기(개행)로 분할\n",
        "print('\\n'.join(lines[:5]))    # 선두 5행을 표시"
      ],
      "execution_count": 8,
      "outputs": [
        {
          "output_type": "stream",
          "text": [
            "Some things in life are bad\n",
            "They can really make you mad\n",
            "Other things just make you swear and curse.\n",
            "When you're chewing on life's gristle\n",
            "Don't grumble, give a whistle\n"
          ],
          "name": "stdout"
        }
      ]
    },
    {
      "metadata": {
        "id": "8DH8NvUnPMZk",
        "colab_type": "code",
        "colab": {
          "base_uri": "https://localhost:8080/",
          "height": 55
        },
        "outputId": "3d7dc87c-9125-4e68-b099-013bd7a84398"
      },
      "cell_type": "code",
      "source": [
        "body"
      ],
      "execution_count": 9,
      "outputs": [
        {
          "output_type": "execute_result",
          "data": {
            "text/plain": [
              "\"Some things in life are bad\\nThey can really make you mad\\nOther things just make you swear and curse.\\nWhen you're chewing on life's gristle\\nDon't grumble, give a whistle\\nAnd this'll help things turn out for the best...\\n\\nAnd...always look on the bright side of life... \\nAlways look on the light side of life...\\n\\nIf life seems jolly rotten\\nThere's something you've forgotten\\nAnd that's to laugh and smile and dance and sing.\\nWhen you're feeling in the dumps\\nDon't be silly chumps\\nJust purse your lips and whistle - that's the thing.\\n\\nAnd...always look on the bright side of life... \\nAlways look on the light side of life...\\n\\nFor life is quite absurd\\nAnd death's the final word\\nYou must always face the curtain with a bow.\\nForget about your sin - give the audience a grin\\nEnjoy it - it's your last chance anyhow.\\n\\nSo always look on the bright side of death \\nJust before you draw your terminal breath\\n\\nLife's a piece of shit\\nWhen you look at it\\nLife's a laugh and death's a joke, it's true.\\nYou'll see it's all a show\\nKeep 'em laughing as you go\\nJust remember that the last laugh is on you.\\n\\nAnd always look on the bright side of life...\\nAlways look on the right side of life... \\n(Come on guys, cheer up!)\\nAlways look on the bright side of life...\\nAlways look on the bright side of life...\\n(Worse things happen at sea, you know.)\\nAlways look on the bright side of life...\\n(I mean - what have you got to lose?)\\n(You know, you come from nothing - you're going back to nothing.\\nWhat have you lost? Nothing!)\\nAlways look on the right side of life...\\n\""
            ]
          },
          "metadata": {
            "tags": []
          },
          "execution_count": 9
        }
      ]
    },
    {
      "metadata": {
        "id": "5Tl2wIAPWxmM",
        "colab_type": "code",
        "colab": {
          "base_uri": "https://localhost:8080/",
          "height": 881
        },
        "outputId": "bb860ba2-2607-4f3f-fb17-5b0ae384a335"
      },
      "cell_type": "code",
      "source": [
        "print(body)"
      ],
      "execution_count": 10,
      "outputs": [
        {
          "output_type": "stream",
          "text": [
            "Some things in life are bad\n",
            "They can really make you mad\n",
            "Other things just make you swear and curse.\n",
            "When you're chewing on life's gristle\n",
            "Don't grumble, give a whistle\n",
            "And this'll help things turn out for the best...\n",
            "\n",
            "And...always look on the bright side of life... \n",
            "Always look on the light side of life...\n",
            "\n",
            "If life seems jolly rotten\n",
            "There's something you've forgotten\n",
            "And that's to laugh and smile and dance and sing.\n",
            "When you're feeling in the dumps\n",
            "Don't be silly chumps\n",
            "Just purse your lips and whistle - that's the thing.\n",
            "\n",
            "And...always look on the bright side of life... \n",
            "Always look on the light side of life...\n",
            "\n",
            "For life is quite absurd\n",
            "And death's the final word\n",
            "You must always face the curtain with a bow.\n",
            "Forget about your sin - give the audience a grin\n",
            "Enjoy it - it's your last chance anyhow.\n",
            "\n",
            "So always look on the bright side of death \n",
            "Just before you draw your terminal breath\n",
            "\n",
            "Life's a piece of shit\n",
            "When you look at it\n",
            "Life's a laugh and death's a joke, it's true.\n",
            "You'll see it's all a show\n",
            "Keep 'em laughing as you go\n",
            "Just remember that the last laugh is on you.\n",
            "\n",
            "And always look on the bright side of life...\n",
            "Always look on the right side of life... \n",
            "(Come on guys, cheer up!)\n",
            "Always look on the bright side of life...\n",
            "Always look on the bright side of life...\n",
            "(Worse things happen at sea, you know.)\n",
            "Always look on the bright side of life...\n",
            "(I mean - what have you got to lose?)\n",
            "(You know, you come from nothing - you're going back to nothing.\n",
            "What have you lost? Nothing!)\n",
            "Always look on the right side of life...\n",
            "\n"
          ],
          "name": "stdout"
        }
      ]
    },
    {
      "metadata": {
        "id": "Pe-bRdcVPMZl",
        "colab_type": "code",
        "colab": {
          "base_uri": "https://localhost:8080/",
          "height": 125
        },
        "outputId": "610ce005-9444-43c1-da46-f49d30328e55"
      },
      "cell_type": "code",
      "source": [
        "# readline() 메쏘드로 1행씩 읽어 들인다\n",
        "# 루프 카운터를 사용하여 선두의 5행만 읽음\n",
        "f = open('some.txt')       # 파일 객체를 만듦\n",
        "lines = ''                 # 표시할 문자열을 초기화\n",
        "for i in range(5):         # 선두에서 5행 읽어 들임\n",
        "    lines += f.readline()\n",
        "print(lines)               # 선두 5행을 표시함"
      ],
      "execution_count": 11,
      "outputs": [
        {
          "output_type": "stream",
          "text": [
            "Some things in life are bad\n",
            "They can really make you mad\n",
            "Other things just make you swear and curse.\n",
            "When you're chewing on life's gristle\n",
            "Don't grumble, give a whistle\n",
            "\n"
          ],
          "name": "stdout"
        }
      ]
    },
    {
      "metadata": {
        "id": "H0pU3nnBPMZs",
        "colab_type": "code",
        "colab": {
          "base_uri": "https://localhost:8080/",
          "height": 107
        },
        "outputId": "c73e3876-1246-4b82-98f5-7efc13eb0dda"
      },
      "cell_type": "code",
      "source": [
        "# 이터레이터를 사용한다\n",
        "# 파일 객체를 for문을 사용하여 5행만 읽음\n",
        "# 파일에서 한 줄씩 읽음\n",
        "for idx, line in enumerate(open('some.txt')):\n",
        "    print(line, end='')  # 행을 표시\n",
        "    if idx == 4:        # 5행을 표시하고서 루프를 빠져나감\n",
        "        break"
      ],
      "execution_count": 12,
      "outputs": [
        {
          "output_type": "stream",
          "text": [
            "Some things in life are bad\n",
            "They can really make you mad\n",
            "Other things just make you swear and curse.\n",
            "When you're chewing on life's gristle\n",
            "Don't grumble, give a whistle\n"
          ],
          "name": "stdout"
        }
      ]
    },
    {
      "metadata": {
        "id": "Z6whlvE7PMZu",
        "colab_type": "code",
        "colab": {
          "base_uri": "https://localhost:8080/",
          "height": 35
        },
        "outputId": "c615a69d-1088-4688-eb6b-e226c62bf6d3"
      },
      "cell_type": "code",
      "source": [
        "enumerate(open('some.txt'))"
      ],
      "execution_count": 13,
      "outputs": [
        {
          "output_type": "execute_result",
          "data": {
            "text/plain": [
              "<enumerate at 0x7f427c375a68>"
            ]
          },
          "metadata": {
            "tags": []
          },
          "execution_count": 13
        }
      ]
    },
    {
      "metadata": {
        "id": "ksA1qZUiPMZx",
        "colab_type": "code",
        "colab": {
          "base_uri": "https://localhost:8080/",
          "height": 863
        },
        "outputId": "2cb08d52-fa58-4aa4-b01e-a4e577965e96"
      },
      "cell_type": "code",
      "source": [
        "list(enumerate(open('some.txt')))"
      ],
      "execution_count": 14,
      "outputs": [
        {
          "output_type": "execute_result",
          "data": {
            "text/plain": [
              "[(0, 'Some things in life are bad\\n'),\n",
              " (1, 'They can really make you mad\\n'),\n",
              " (2, 'Other things just make you swear and curse.\\n'),\n",
              " (3, \"When you're chewing on life's gristle\\n\"),\n",
              " (4, \"Don't grumble, give a whistle\\n\"),\n",
              " (5, \"And this'll help things turn out for the best...\\n\"),\n",
              " (6, '\\n'),\n",
              " (7, 'And...always look on the bright side of life... \\n'),\n",
              " (8, 'Always look on the light side of life...\\n'),\n",
              " (9, '\\n'),\n",
              " (10, 'If life seems jolly rotten\\n'),\n",
              " (11, \"There's something you've forgotten\\n\"),\n",
              " (12, \"And that's to laugh and smile and dance and sing.\\n\"),\n",
              " (13, \"When you're feeling in the dumps\\n\"),\n",
              " (14, \"Don't be silly chumps\\n\"),\n",
              " (15, \"Just purse your lips and whistle - that's the thing.\\n\"),\n",
              " (16, '\\n'),\n",
              " (17, 'And...always look on the bright side of life... \\n'),\n",
              " (18, 'Always look on the light side of life...\\n'),\n",
              " (19, '\\n'),\n",
              " (20, 'For life is quite absurd\\n'),\n",
              " (21, \"And death's the final word\\n\"),\n",
              " (22, 'You must always face the curtain with a bow.\\n'),\n",
              " (23, 'Forget about your sin - give the audience a grin\\n'),\n",
              " (24, \"Enjoy it - it's your last chance anyhow.\\n\"),\n",
              " (25, '\\n'),\n",
              " (26, 'So always look on the bright side of death \\n'),\n",
              " (27, 'Just before you draw your terminal breath\\n'),\n",
              " (28, '\\n'),\n",
              " (29, \"Life's a piece of shit\\n\"),\n",
              " (30, 'When you look at it\\n'),\n",
              " (31, \"Life's a laugh and death's a joke, it's true.\\n\"),\n",
              " (32, \"You'll see it's all a show\\n\"),\n",
              " (33, \"Keep 'em laughing as you go\\n\"),\n",
              " (34, 'Just remember that the last laugh is on you.\\n'),\n",
              " (35, '\\n'),\n",
              " (36, 'And always look on the bright side of life...\\n'),\n",
              " (37, 'Always look on the right side of life... \\n'),\n",
              " (38, '(Come on guys, cheer up!)\\n'),\n",
              " (39, 'Always look on the bright side of life...\\n'),\n",
              " (40, 'Always look on the bright side of life...\\n'),\n",
              " (41, '(Worse things happen at sea, you know.)\\n'),\n",
              " (42, 'Always look on the bright side of life...\\n'),\n",
              " (43, '(I mean - what have you got to lose?)\\n'),\n",
              " (44, \"(You know, you come from nothing - you're going back to nothing.\\n\"),\n",
              " (45, 'What have you lost? Nothing!)\\n'),\n",
              " (46, 'Always look on the right side of life...\\n')]"
            ]
          },
          "metadata": {
            "tags": []
          },
          "execution_count": 14
        }
      ]
    },
    {
      "metadata": {
        "id": "-wAafbNDPMZy",
        "colab_type": "text"
      },
      "cell_type": "markdown",
      "source": [
        "### Column : 파이썬 이터레이터 객체"
      ]
    },
    {
      "metadata": {
        "id": "JEwVNYJjPMZ0",
        "colab_type": "code",
        "colab": {
          "base_uri": "https://localhost:8080/",
          "height": 35
        },
        "outputId": "67e0bfe7-96c3-4bfc-8b66-f4ab303e81ae"
      },
      "cell_type": "code",
      "source": [
        "# iter()와 next() 함수의 예\n",
        "i = iter([1, 2])   # 리스트를 이터레이터 객체로 변환함\n",
        "next(i)   # 첫 요소를 추출"
      ],
      "execution_count": 15,
      "outputs": [
        {
          "output_type": "execute_result",
          "data": {
            "text/plain": [
              "1"
            ]
          },
          "metadata": {
            "tags": []
          },
          "execution_count": 15
        }
      ]
    },
    {
      "metadata": {
        "id": "L_xnG_3xPMZ1",
        "colab_type": "code",
        "colab": {
          "base_uri": "https://localhost:8080/",
          "height": 35
        },
        "outputId": "04401f09-c1fd-43ee-a4d7-30cb79f0f05f"
      },
      "cell_type": "code",
      "source": [
        "# 꺼낸 요소가 사라진 경우\n",
        "next(i)   # 다음의 요소를 추출"
      ],
      "execution_count": 16,
      "outputs": [
        {
          "output_type": "execute_result",
          "data": {
            "text/plain": [
              "2"
            ]
          },
          "metadata": {
            "tags": []
          },
          "execution_count": 16
        }
      ]
    },
    {
      "metadata": {
        "id": "bNFD4b2IPMZ4",
        "colab_type": "code",
        "colab": {
          "base_uri": "https://localhost:8080/",
          "height": 172
        },
        "outputId": "64a5400a-6b49-49e8-ce8e-57fa5ca0d13f"
      },
      "cell_type": "code",
      "source": [
        "next(i)   # 요소가 없어져서 StopIteration 오류가 발생"
      ],
      "execution_count": 0,
      "outputs": [
        {
          "output_type": "error",
          "ename": "StopIteration",
          "evalue": "ignored",
          "traceback": [
            "\u001b[0;31m---------------------------------------------------------------------------\u001b[0m",
            "\u001b[0;31mStopIteration\u001b[0m                             Traceback (most recent call last)",
            "\u001b[0;32m<ipython-input-51-18c7805ed977>\u001b[0m in \u001b[0;36m<module>\u001b[0;34m()\u001b[0m\n\u001b[0;32m----> 1\u001b[0;31m \u001b[0mnext\u001b[0m\u001b[0;34m(\u001b[0m\u001b[0mi\u001b[0m\u001b[0;34m)\u001b[0m   \u001b[0;31m# 요소가 없어져서 StopIteration 오류가 발생\u001b[0m\u001b[0;34m\u001b[0m\u001b[0m\n\u001b[0m",
            "\u001b[0;31mStopIteration\u001b[0m: "
          ]
        }
      ]
    },
    {
      "metadata": {
        "id": "OmLNe5X9PMZ5",
        "colab_type": "code",
        "colab": {
          "base_uri": "https://localhost:8080/",
          "height": 71
        },
        "outputId": "6bd2e769-061f-4984-bcdb-24a641f601fc"
      },
      "cell_type": "code",
      "source": [
        "# tuple 이터레이터\n",
        "mytuple = (\"apple\", \"banana\", \"cherry\")\n",
        "myit = iter(mytuple)\n",
        "\n",
        "print(next(myit))\n",
        "print(next(myit))\n",
        "print(next(myit))"
      ],
      "execution_count": 0,
      "outputs": [
        {
          "output_type": "stream",
          "text": [
            "apple\n",
            "banana\n",
            "cherry\n"
          ],
          "name": "stdout"
        }
      ]
    },
    {
      "metadata": {
        "id": "NMLk5l1xPMZ7",
        "colab_type": "code",
        "colab": {
          "base_uri": "https://localhost:8080/",
          "height": 125
        },
        "outputId": "1b490638-7b06-4318-e9be-53cfa93722d6"
      },
      "cell_type": "code",
      "source": [
        "# string 이터레이터\n",
        "mystr = \"banana\"\n",
        "myit = iter(mystr)\n",
        "\n",
        "print(next(myit))\n",
        "print(next(myit))\n",
        "print(next(myit))\n",
        "print(next(myit))\n",
        "print(next(myit))\n",
        "print(next(myit))"
      ],
      "execution_count": 0,
      "outputs": [
        {
          "output_type": "stream",
          "text": [
            "b\n",
            "a\n",
            "n\n",
            "a\n",
            "n\n",
            "a\n"
          ],
          "name": "stdout"
        }
      ]
    },
    {
      "metadata": {
        "id": "KKbfPPpMPMZ9",
        "colab_type": "code",
        "colab": {
          "base_uri": "https://localhost:8080/",
          "height": 71
        },
        "outputId": "eb640730-7d06-4823-f6aa-93480801bb36"
      },
      "cell_type": "code",
      "source": [
        "# loop through iterater \n",
        "mytuple = (\"apple\", \"banana\", \"cherry\")\n",
        "\n",
        "for x in mytuple:\n",
        "  print(x)"
      ],
      "execution_count": 0,
      "outputs": [
        {
          "output_type": "stream",
          "text": [
            "apple\n",
            "banana\n",
            "cherry\n"
          ],
          "name": "stdout"
        }
      ]
    },
    {
      "metadata": {
        "id": "K2nb9o4zPMZ-",
        "colab_type": "code",
        "colab": {
          "base_uri": "https://localhost:8080/",
          "height": 125
        },
        "outputId": "695f4cf6-7b24-4a95-cf5e-8c5fa8ec74da"
      },
      "cell_type": "code",
      "source": [
        "mystr = \"banana\"\n",
        "\n",
        "for x in mystr:\n",
        "  print(x)"
      ],
      "execution_count": 0,
      "outputs": [
        {
          "output_type": "stream",
          "text": [
            "b\n",
            "a\n",
            "n\n",
            "a\n",
            "n\n",
            "a\n"
          ],
          "name": "stdout"
        }
      ]
    },
    {
      "metadata": {
        "id": "c9zJiFx9PpWv",
        "colab_type": "text"
      },
      "cell_type": "markdown",
      "source": [
        "##중간고사 까지"
      ]
    },
    {
      "metadata": {
        "id": "dbzoIEC8PMaA",
        "colab_type": "text"
      },
      "cell_type": "markdown",
      "source": [
        "## 생성자를 사용한다. (Ch.5-4)"
      ]
    },
    {
      "metadata": {
        "id": "FPhPtLsqPMaB",
        "colab_type": "text"
      },
      "cell_type": "markdown",
      "source": [
        "### 생성자 함수를 정의한다"
      ]
    },
    {
      "metadata": {
        "id": "jBlkEkk0PMaC",
        "colab_type": "code",
        "colab": {}
      },
      "cell_type": "code",
      "source": [
        "# 소수를 돌려주는 생성자 함수의 정의\n",
        "def get_primes(x=2):\n",
        "    while True:\n",
        "        for i in range(2, x):\n",
        "            if x%i == 0: # 나누어지는 수를 찾음\n",
        "                break\n",
        "        else:\n",
        "            yield x      # 소수가 찾아지면 yield로 돌려줌\n",
        "        x += 1           # 수치를 증가"
      ],
      "execution_count": 0,
      "outputs": []
    },
    {
      "metadata": {
        "id": "2NjKL6ylPMaF",
        "colab_type": "code",
        "colab": {}
      },
      "cell_type": "code",
      "source": [
        "# 생성자 함수의 실행\n",
        "i = get_primes()       # 생성자 함수로부터 이터레이터를 취득\n",
        "for c in range(10):    # 소수를 10개 표시\n",
        "    print(next(i))"
      ],
      "execution_count": 0,
      "outputs": []
    },
    {
      "metadata": {
        "id": "y-W7_8K3PMaH",
        "colab_type": "code",
        "colab": {}
      },
      "cell_type": "code",
      "source": [
        "i"
      ],
      "execution_count": 0,
      "outputs": []
    },
    {
      "metadata": {
        "id": "JpqIfYtqPMaK",
        "colab_type": "code",
        "colab": {}
      },
      "cell_type": "code",
      "source": [
        "range(2,3)  # What are in this?"
      ],
      "execution_count": 0,
      "outputs": []
    },
    {
      "metadata": {
        "id": "3xFENArxPMaN",
        "colab_type": "code",
        "colab": {}
      },
      "cell_type": "code",
      "source": [
        "list(range(2,3))"
      ],
      "execution_count": 0,
      "outputs": []
    },
    {
      "metadata": {
        "id": "rdJrYFkTPMaN",
        "colab_type": "text"
      },
      "cell_type": "markdown",
      "source": [
        "### 생성자 표현식(generator expression)"
      ]
    },
    {
      "metadata": {
        "id": "vUSy3Iv2PMaP",
        "colab_type": "code",
        "colab": {}
      },
      "cell_type": "code",
      "source": [
        "# 리스트 내포 표기의 예\n",
        "# 리스트 내포 표기는 요소가 완벽하게 갖추어 진 리스트를 반환\n",
        "[x**2 for x in range(1, 10)]   # 1에서 9까지의 제곱 리스트"
      ],
      "execution_count": 0,
      "outputs": []
    },
    {
      "metadata": {
        "id": "roMS1mcVPMaR",
        "colab_type": "code",
        "colab": {}
      },
      "cell_type": "code",
      "source": [
        "# 생성자식의 예\n",
        "# 생성자식은 이터레이터를 반환\n",
        "i = (x**2 for x in range(1, 10))\n",
        "print(next(i))\n",
        "print(next(i))\n",
        "print(next(i))"
      ],
      "execution_count": 0,
      "outputs": []
    },
    {
      "metadata": {
        "id": "Z2U7BMEcPMaU",
        "colab_type": "code",
        "colab": {}
      },
      "cell_type": "code",
      "source": [
        "i = (x**2 for x in range(1, 10))\n",
        "i"
      ],
      "execution_count": 0,
      "outputs": []
    },
    {
      "metadata": {
        "id": "sHGUkBI0PMaW",
        "colab_type": "code",
        "colab": {}
      },
      "cell_type": "code",
      "source": [
        "list(i)"
      ],
      "execution_count": 0,
      "outputs": []
    },
    {
      "metadata": {
        "id": "K-Q_dreFPMaa",
        "colab_type": "text"
      },
      "cell_type": "markdown",
      "source": [
        "***"
      ]
    },
    {
      "metadata": {
        "id": "YCz2wr0fPMaa",
        "colab_type": "text"
      },
      "cell_type": "markdown",
      "source": [
        "> 여기까지 중간고사 필기 범위.  미래를 위해 시간과 노력을 투자하세요!"
      ]
    },
    {
      "metadata": {
        "id": "bVgDBP31PMab",
        "colab_type": "text"
      },
      "cell_type": "markdown",
      "source": [
        "***"
      ]
    },
    {
      "metadata": {
        "id": "SDyrwxv9PMab",
        "colab_type": "text"
      },
      "cell_type": "markdown",
      "source": [
        "## 고차 함수와 데코레이터. (Ch.5-5)"
      ]
    },
    {
      "metadata": {
        "id": "xhRX41s0PMad",
        "colab_type": "text"
      },
      "cell_type": "markdown",
      "source": [
        "### 고차 함수(higher-order functions)란?"
      ]
    },
    {
      "metadata": {
        "id": "GpT34w9tPMad",
        "colab_type": "code",
        "colab": {}
      },
      "cell_type": "code",
      "source": [
        "# 함수를 받아서 실행하는 함수를 정의한다\n",
        "def execute(func, arg):\n",
        "    return func(arg)        # 인수로 받은 함수를 실행함\n",
        "\n",
        "print(execute(int, \"100\"))  # 함수를 인수로 전달하여 실행"
      ],
      "execution_count": 0,
      "outputs": []
    },
    {
      "metadata": {
        "id": "ZnHLqHIWzo1_",
        "colab_type": "text"
      },
      "cell_type": "markdown",
      "source": [
        "### 함수로 인수 리스트를 받기"
      ]
    },
    {
      "metadata": {
        "id": "QOBrXdIkzo1_",
        "colab_type": "code",
        "colab": {}
      },
      "cell_type": "code",
      "source": [
        "# 함수로 인수 리스트를 받기\n",
        "def foo(a, b, *vals):   # *인수를 갖는 함수를 정의\n",
        "    print(a, b, vals)\n",
        "foo(1, 2, 3, 4, 5)      # 5개의 값을 인수로 지정하여 호출"
      ],
      "execution_count": 0,
      "outputs": []
    },
    {
      "metadata": {
        "id": "gTIF5d1Hzo2C",
        "colab_type": "text"
      },
      "cell_type": "markdown",
      "source": [
        "### 함수로 키워드 인수 받기"
      ]
    },
    {
      "metadata": {
        "id": "LyPvlT28zo2C",
        "colab_type": "code",
        "colab": {}
      },
      "cell_type": "code",
      "source": [
        "# 정의되지 않은 키워드 인수\n",
        "def bar(a, b, **args):    # **인수를 갖는 함수를 정의\n",
        "    print(a, b, args)\n",
        "\n",
        "bar(1, 2, c=3, d=4)       # 정의하지 않은 키워드 인수를 정의"
      ],
      "execution_count": 0,
      "outputs": []
    },
    {
      "metadata": {
        "id": "oD0p7rasPMai",
        "colab_type": "code",
        "colab": {}
      },
      "cell_type": "code",
      "source": [
        "# 함수를 받아 실행하는 함수를 정의한다\n",
        "def logger(func):\n",
        "    def inner(*args):\n",
        "        print(\"인수:\", args)  # 인수 리스트를 표시\n",
        "        return func(*args)   # 함수를 호출함\n",
        "    return inner"
      ],
      "execution_count": 0,
      "outputs": []
    },
    {
      "metadata": {
        "id": "8mfQ0ztlPMai",
        "colab_type": "code",
        "colab": {}
      },
      "cell_type": "code",
      "source": [
        "# 2개의 값을 더하는 함수를 정의한다\n",
        "def accumulate(a, b):\n",
        "    return a+b\n",
        "\n",
        "print(accumulate(1, 2))   # 함수를 호출함"
      ],
      "execution_count": 0,
      "outputs": []
    },
    {
      "metadata": {
        "id": "FUKC6UoYPMaj",
        "colab_type": "code",
        "colab": {}
      },
      "cell_type": "code",
      "source": [
        "# logger를 사용해서 accumulate를 변환\n",
        "newfunc = logger(accumulate)\n",
        "print(newfunc(1, 2))      # 고차 함수로 만든 함수를 호출"
      ],
      "execution_count": 0,
      "outputs": []
    },
    {
      "metadata": {
        "id": "ZrlvfQrPPMal",
        "colab_type": "text"
      },
      "cell_type": "markdown",
      "source": [
        "### 데코레이터(decorator)"
      ]
    },
    {
      "metadata": {
        "id": "ESW6yK_QPMal",
        "colab_type": "code",
        "colab": {}
      },
      "cell_type": "code",
      "source": [
        "# 데코레이터에 따른 지정 예\n",
        "# 고차 함수와 데코레이터를 결합\n",
        "@logger\n",
        "def accumulate(a, b):\n",
        "    return a+b"
      ],
      "execution_count": 0,
      "outputs": []
    },
    {
      "metadata": {
        "id": "Quy6ArNOPMam",
        "colab_type": "code",
        "colab": {}
      },
      "cell_type": "code",
      "source": [
        "# accumulate() 함수의 실행\n",
        "print(accumulate(1, 2))"
      ],
      "execution_count": 0,
      "outputs": []
    },
    {
      "metadata": {
        "id": "PHvx7apqPMap",
        "colab_type": "code",
        "colab": {}
      },
      "cell_type": "code",
      "source": [
        "# %%time    # 실행 시간을 측정\n",
        "# lru_cache함수를 데코레이터로 사용한다\n",
        "# functools의 lru_cache를 사용\n",
        "\n",
        "# lru_cache을 사용하여 피보나치 수를 계산하는 함수\n",
        "from functools import lru_cache\n",
        "@lru_cache(maxsize=None)\n",
        "def fib(n):\n",
        "    if n < 2:\n",
        "        return n\n",
        "    return fib(n-1) + fib(n-2)"
      ],
      "execution_count": 0,
      "outputs": []
    },
    {
      "metadata": {
        "id": "MOqnIN4sPMaq",
        "colab_type": "code",
        "colab": {}
      },
      "cell_type": "code",
      "source": [
        "# 피보나치 수의 표시\n",
        "# 실행 시간을 측정\n",
        "%time [fib(n) for n in range(16)]"
      ],
      "execution_count": 0,
      "outputs": []
    },
    {
      "metadata": {
        "id": "QdCd9WY8PMar",
        "colab_type": "code",
        "colab": {}
      },
      "cell_type": "code",
      "source": [
        "# %%time    # 실행 시간을 측정\n",
        "#  lru_cache를 사용하지 않고 피보나치 수를 계산하는 함수\n",
        "def fib_nc(n):\n",
        "    if n < 2:\n",
        "        return n\n",
        "    return fib_nc(n-1) + fib_nc(n-2)"
      ],
      "execution_count": 0,
      "outputs": []
    },
    {
      "metadata": {
        "id": "Lw8ez2KfPMat",
        "colab_type": "code",
        "colab": {}
      },
      "cell_type": "code",
      "source": [
        "# 피보나치 수의 표시\n",
        "# 실행 시간을 측정\n",
        "%time [fib_nc(n) for n in range(16)]"
      ],
      "execution_count": 0,
      "outputs": []
    },
    {
      "metadata": {
        "id": "s22774r1PMav",
        "colab_type": "code",
        "colab": {}
      },
      "cell_type": "code",
      "source": [
        ""
      ],
      "execution_count": 0,
      "outputs": []
    }
  ]
}