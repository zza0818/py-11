{
  "nbformat": 4,
  "nbformat_minor": 0,
  "metadata": {
    "colab": {
      "name": "Summary_datatypes.ipynb",
      "version": "0.3.2",
      "provenance": [],
      "collapsed_sections": [],
      "include_colab_link": true
    },
    "kernelspec": {
      "name": "python3",
      "display_name": "Python 3"
    }
  },
  "cells": [
    {
      "cell_type": "markdown",
      "metadata": {
        "id": "view-in-github",
        "colab_type": "text"
      },
      "source": [
        "[View in Colaboratory](https://colab.research.google.com/github/zza0818/py-11/blob/master/Summary_datatypes.ipynb)"
      ]
    },
    {
      "metadata": {
        "id": "JN5JsM3152cC",
        "colab_type": "code",
        "colab": {}
      },
      "cell_type": "code",
      "source": [
        ""
      ],
      "execution_count": 0,
      "outputs": []
    },
    {
      "metadata": {
        "id": "DRXNoVvk6DYU",
        "colab_type": "text"
      },
      "cell_type": "markdown",
      "source": [
        "## Summary of datatypes in Python\n",
        "\n",
        "- list\n",
        "- dictionary\n",
        "- tuple\n",
        "- set\n",
        "- string"
      ]
    },
    {
      "metadata": {
        "id": "4t_zWwgv6Ut8",
        "colab_type": "text"
      },
      "cell_type": "markdown",
      "source": [
        "### 리스트 생성 및 항목 추가"
      ]
    },
    {
      "metadata": {
        "id": "xFz06QVU6OlZ",
        "colab_type": "code",
        "colab": {}
      },
      "cell_type": "code",
      "source": [
        "a= [10, 20, 30, 40, 50] #list 생성\n"
      ],
      "execution_count": 0,
      "outputs": []
    },
    {
      "metadata": {
        "id": "XVW388oi7Vwk",
        "colab_type": "code",
        "colab": {
          "base_uri": "https://localhost:8080/",
          "height": 53
        },
        "outputId": "34551bda-5212-4c13-f7ea-520714404a86"
      },
      "cell_type": "code",
      "source": [
        "# 0, 1, 2 ... 인덱스는 리스트 처음부터 시작\n",
        "# -1, -2, ... 인덱스는 리스트 마지막부터 시작\n",
        "\n",
        "print(\"a[0] ==\", a[0], \",a[2] ==\", a[2], \", a[4] ==\", a[4])\n",
        "print(\"a[-1] ==\", a[-1], \",a[-2] ==\", a[-2], \". a[-5] ==\", a[-5])"
      ],
      "execution_count": 7,
      "outputs": [
        {
          "output_type": "stream",
          "text": [
            "a[0] == 10 ,a[2] == 30 , a[4] == 50\n",
            "a[-1] == 50 ,a[-2] == 40 . a[-5] == 10\n"
          ],
          "name": "stdout"
        }
      ]
    },
    {
      "metadata": {
        "id": "tquARIN49YdY",
        "colab_type": "code",
        "colab": {}
      },
      "cell_type": "code",
      "source": [
        "b = [ 10,20,\"Hello\", [True,3.14]]"
      ],
      "execution_count": 0,
      "outputs": []
    },
    {
      "metadata": {
        "id": "BDxtUvOX-CU_",
        "colab_type": "code",
        "colab": {
          "base_uri": "https://localhost:8080/",
          "height": 53
        },
        "outputId": "c2c612dc-ce15-4df3-93f0-342e9bfa4e63"
      },
      "cell_type": "code",
      "source": [
        "#b[3] 또는 b[-1] 값은 [True, 3.14]  리스트 전체일\n",
        "\n",
        "\n",
        "print(\"b[0] ==\", b[0], \", b[2] ==\", b[2], \", b[3] ==\", b[3])\n",
        "print(\"b[-1] ==\", b[-1], \", b[-2] ==\", b[-2], \", b[-4] ==\", b[-4])"
      ],
      "execution_count": 12,
      "outputs": [
        {
          "output_type": "stream",
          "text": [
            "b[0] == 10 , b[2] == Hello , b[3] == [True, 3.14]\n",
            "b[-1] == [True, 3.14] , b[-2] == Hello , b[-4] == 10\n"
          ],
          "name": "stdout"
        }
      ]
    },
    {
      "metadata": {
        "id": "rax1RMoj-KYF",
        "colab_type": "code",
        "colab": {
          "base_uri": "https://localhost:8080/",
          "height": 53
        },
        "outputId": "585cac9b-bc13-4ada-98ad-d17aaf018854"
      },
      "cell_type": "code",
      "source": [
        "print(\"b[3][0] ==\", b[3][0], \", b[3][1] ==\", b[3][1])\n",
        "print(\"b[-1][-1] ==\", b[-1][-1], \", b[-1][-2] ==\", b[-1][-2])"
      ],
      "execution_count": 13,
      "outputs": [
        {
          "output_type": "stream",
          "text": [
            "b[3][0] == True , b[3][1] == 3.14\n",
            "b[-1][-1] == 3.14 , b[-1][-2] == True\n"
          ],
          "name": "stdout"
        }
      ]
    },
    {
      "metadata": {
        "id": "kMknU3s__Par",
        "colab_type": "code",
        "colab": {
          "base_uri": "https://localhost:8080/",
          "height": 35
        },
        "outputId": "43ab6fc6-dcbf-4f16-81b1-1b35fe5895c6"
      },
      "cell_type": "code",
      "source": [
        "b[-2][-2]"
      ],
      "execution_count": 17,
      "outputs": [
        {
          "output_type": "execute_result",
          "data": {
            "text/plain": [
              "'l'"
            ]
          },
          "metadata": {
            "tags": []
          },
          "execution_count": 17
        }
      ]
    },
    {
      "metadata": {
        "id": "NTnpYcJy_Xnw",
        "colab_type": "code",
        "colab": {
          "base_uri": "https://localhost:8080/",
          "height": 71
        },
        "outputId": "7184926e-09c5-4516-ada2-adbb88ae3c26"
      },
      "cell_type": "code",
      "source": [
        "#a[0:2] => 인덱스 0부터 2-1 까지, a[1:] => 인덱스 1부터 끝까지\n",
        "#a[:3]  => 인덱스 처음부터 3-1까지, ㅁ[:-2] => 인덱스 처음부터 -2-1 까지\n",
        "#a[:]   => 인덱스 처음부터 끝까지\n",
        "\n",
        "print(\"a[0:2] ==\", a[0:2], \", a[1:] ==\", a[1:])\n",
        "print(\"a[:3] ==\", a[:3], \", a[:-2] ==\", a[:-2])\n",
        "print(\"a[:] ==\", a[:])"
      ],
      "execution_count": 19,
      "outputs": [
        {
          "output_type": "stream",
          "text": [
            "a[0:2] == [10, 20] , a[1:] == [20, 30, 40, 50]\n",
            "a[:3] == [10, 20, 30] , a[:-2] == [10, 20, 30]\n",
            "a[:] == [10, 20, 30, 40, 50]\n"
          ],
          "name": "stdout"
        }
      ]
    },
    {
      "metadata": {
        "id": "UPs4vL_ZB6P8",
        "colab_type": "text"
      },
      "cell_type": "markdown",
      "source": [
        "###튜플"
      ]
    },
    {
      "metadata": {
        "id": "rG2NCKy8AgVN",
        "colab_type": "code",
        "colab": {}
      },
      "cell_type": "code",
      "source": [
        "a = ( 10, 20, 30, 40, 50)"
      ],
      "execution_count": 0,
      "outputs": []
    },
    {
      "metadata": {
        "id": "MUyH6HMECKad",
        "colab_type": "code",
        "colab": {
          "base_uri": "https://localhost:8080/",
          "height": 53
        },
        "outputId": "85e951a8-7a57-45fe-c062-17e015552ede"
      },
      "cell_type": "code",
      "source": [
        "print(\"a[0] ==\", a[0], \", a[-2] ==\", a[-2], \", a[:] ==\", a[:])\n",
        "print(\"a[0:2] ==\", a[0:2], \", a[1:] ==\", a[1:])"
      ],
      "execution_count": 21,
      "outputs": [
        {
          "output_type": "stream",
          "text": [
            "a[0] == 10 , a[-2] == 40 , a[:] == (10, 20, 30, 40, 50)\n",
            "a[0:2] == (10, 20) , a[1:] == (20, 30, 40, 50)\n"
          ],
          "name": "stdout"
        }
      ]
    },
    {
      "metadata": {
        "id": "4R8dWWTWChnr",
        "colab_type": "code",
        "colab": {
          "base_uri": "https://localhost:8080/",
          "height": 172
        },
        "outputId": "02e4bbf8-dfac-40ac-9a16-adcca963b151"
      },
      "cell_type": "code",
      "source": [
        "a[0] =100"
      ],
      "execution_count": 22,
      "outputs": [
        {
          "output_type": "error",
          "ename": "TypeError",
          "evalue": "ignored",
          "traceback": [
            "\u001b[0;31m---------------------------------------------------------------------------\u001b[0m",
            "\u001b[0;31mTypeError\u001b[0m                                 Traceback (most recent call last)",
            "\u001b[0;32m<ipython-input-22-76ba50e761ec>\u001b[0m in \u001b[0;36m<module>\u001b[0;34m()\u001b[0m\n\u001b[0;32m----> 1\u001b[0;31m \u001b[0ma\u001b[0m\u001b[0;34m[\u001b[0m\u001b[0;36m0\u001b[0m\u001b[0;34m]\u001b[0m \u001b[0;34m=\u001b[0m\u001b[0;36m100\u001b[0m\u001b[0;34m\u001b[0m\u001b[0m\n\u001b[0m",
            "\u001b[0;31mTypeError\u001b[0m: 'tuple' object does not support item assignment"
          ]
        }
      ]
    },
    {
      "metadata": {
        "id": "aajzUYWsCzVy",
        "colab_type": "text"
      },
      "cell_type": "markdown",
      "source": [
        "### dictionary"
      ]
    },
    {
      "metadata": {
        "id": "uKzjGV20CkaJ",
        "colab_type": "code",
        "colab": {}
      },
      "cell_type": "code",
      "source": [
        "score = { \"KIM\":90, \"LEE\":85, \"JUN\":95 }"
      ],
      "execution_count": 0,
      "outputs": []
    },
    {
      "metadata": {
        "id": "n5lNAXUDDB5o",
        "colab_type": "code",
        "colab": {
          "base_uri": "https://localhost:8080/",
          "height": 35
        },
        "outputId": "a37da67a-2cb5-41d3-a066-525274f872de"
      },
      "cell_type": "code",
      "source": [
        "print(\"score['KIM'] ==\", score['KIM'])"
      ],
      "execution_count": 24,
      "outputs": [
        {
          "output_type": "stream",
          "text": [
            "score['KIM'] == 90\n"
          ],
          "name": "stdout"
        }
      ]
    },
    {
      "metadata": {
        "id": "lzQY5tCVDIgQ",
        "colab_type": "code",
        "colab": {
          "base_uri": "https://localhost:8080/",
          "height": 35
        },
        "outputId": "556d9991-172c-4b50-a111-bb1c78630359"
      },
      "cell_type": "code",
      "source": [
        "score['HAN'] = 100  #새 원소 추가\n",
        "# 딕셔러니는 입력한 순서대로 데이터가 들어가는 것이 아니므로 주의해야함\n",
        "print(score)"
      ],
      "execution_count": 26,
      "outputs": [
        {
          "output_type": "stream",
          "text": [
            "{'KIM': 90, 'LEE': 85, 'JUN': 95, 'HAN': 100}\n"
          ],
          "name": "stdout"
        }
      ]
    },
    {
      "metadata": {
        "id": "nBxUdlCaDM2-",
        "colab_type": "code",
        "colab": {
          "base_uri": "https://localhost:8080/",
          "height": 71
        },
        "outputId": "2787f9e1-5a2b-47de-8937-a2acf096c381"
      },
      "cell_type": "code",
      "source": [
        "#딕셔러니 key , value, (key, value)\n",
        "\n",
        "print(\"score key ==\", score.keys())\n",
        "print(\"score value ==\", score.values())\n",
        "print(\"score items ==\", score.items())"
      ],
      "execution_count": 28,
      "outputs": [
        {
          "output_type": "stream",
          "text": [
            "score key == dict_keys(['KIM', 'LEE', 'JUN', 'HAN'])\n",
            "score value == dict_values([90, 85, 95, 100])\n",
            "score items == dict_items([('KIM', 90), ('LEE', 85), ('JUN', 95), ('HAN', 100)])\n"
          ],
          "name": "stdout"
        }
      ]
    },
    {
      "metadata": {
        "id": "wYTzaKSxEHY5",
        "colab_type": "text"
      },
      "cell_type": "markdown",
      "source": [
        "### string"
      ]
    },
    {
      "metadata": {
        "id": "Vyb-7jXxDZcr",
        "colab_type": "code",
        "colab": {}
      },
      "cell_type": "code",
      "source": [
        "a = 'A73,CD'"
      ],
      "execution_count": 0,
      "outputs": []
    },
    {
      "metadata": {
        "id": "sT9OFdJBEMRn",
        "colab_type": "code",
        "colab": {
          "base_uri": "https://localhost:8080/",
          "height": 35
        },
        "outputId": "372e7aa1-288a-4a90-fbde-cc224acd613f"
      },
      "cell_type": "code",
      "source": [
        "a[1] #a[1] 은 숫자 7이 아닌 문자열 7"
      ],
      "execution_count": 30,
      "outputs": [
        {
          "output_type": "execute_result",
          "data": {
            "text/plain": [
              "'7'"
            ]
          },
          "metadata": {
            "tags": []
          },
          "execution_count": 30
        }
      ]
    },
    {
      "metadata": {
        "id": "yk7vxWF5ERTN",
        "colab_type": "code",
        "colab": {
          "base_uri": "https://localhost:8080/",
          "height": 35
        },
        "outputId": "ea0b5ada-5d68-4ba5-ae4c-f7ada4b9053c"
      },
      "cell_type": "code",
      "source": [
        "a = a + ', EFG'\n",
        "a"
      ],
      "execution_count": 31,
      "outputs": [
        {
          "output_type": "execute_result",
          "data": {
            "text/plain": [
              "'A73,CD, EFG'"
            ]
          },
          "metadata": {
            "tags": []
          },
          "execution_count": 31
        }
      ]
    },
    {
      "metadata": {
        "id": "zbWUAqXpEV7T",
        "colab_type": "code",
        "colab": {
          "base_uri": "https://localhost:8080/",
          "height": 35
        },
        "outputId": "0e73d397-3a26-4997-e534-ff3e1dc24885"
      },
      "cell_type": "code",
      "source": [
        "# split() 메서드는 특정 separator를 기준으로 문자열을 분리하여 list 리턴 / split함수 중요\n",
        "b = a.split(',')\n",
        "print(b)"
      ],
      "execution_count": 32,
      "outputs": [
        {
          "output_type": "stream",
          "text": [
            "['A73', 'CD', ' EFG']\n"
          ],
          "name": "stdout"
        }
      ]
    },
    {
      "metadata": {
        "id": "CrYZlpW4FHSx",
        "colab_type": "text"
      },
      "cell_type": "markdown",
      "source": [
        "### useful function - type(), len(), size()"
      ]
    },
    {
      "metadata": {
        "id": "t7ak38YXEiib",
        "colab_type": "code",
        "colab": {
          "base_uri": "https://localhost:8080/",
          "height": 53
        },
        "outputId": "42e079ed-07b0-4774-918a-4cbc3ce8b95a"
      },
      "cell_type": "code",
      "source": [
        "a = [10, 20, 30, 40, 50 ]\n",
        "b = ( 10,20, 30, 40, 50)\n",
        "c = { \"KIM\":90, \"LEE\":80 }\n",
        "d = 'Seoul, Korea'\n",
        "e= [ [100, 200], [300, 400], [500, 600]]\n",
        "\n",
        "print(type(a), type(b), type(c), type(d), type(e))\n",
        "\n",
        "print(len(a), len(b), len(c), len(d), len(e))\n",
        "\n"
      ],
      "execution_count": 36,
      "outputs": [
        {
          "output_type": "stream",
          "text": [
            "<class 'list'> <class 'tuple'> <class 'dict'> <class 'str'> <class 'list'>\n",
            "5 5 2 12 3\n"
          ],
          "name": "stdout"
        }
      ]
    },
    {
      "metadata": {
        "id": "-0jwVpL4HetK",
        "colab_type": "text"
      },
      "cell_type": "markdown",
      "source": [
        "### useful function - list(), str(), int()"
      ]
    },
    {
      "metadata": {
        "id": "vZUMaqqOGv5V",
        "colab_type": "code",
        "colab": {
          "base_uri": "https://localhost:8080/",
          "height": 35
        },
        "outputId": "fa3ce1be-4594-4329-90a5-76972af8b84d"
      },
      "cell_type": "code",
      "source": [
        "a = 'Hello'\n",
        "b = { \"KIM\":90, \"LEE\":80}\n",
        "\n",
        "print(list(a), list(b.keys()), list(b.values()), list(b.items()))"
      ],
      "execution_count": 37,
      "outputs": [
        {
          "output_type": "stream",
          "text": [
            "['H', 'e', 'l', 'l', 'o'] ['KIM', 'LEE'] [90, 80] [('KIM', 90), ('LEE', 80)]\n"
          ],
          "name": "stdout"
        }
      ]
    },
    {
      "metadata": {
        "id": "KZarUnW3HzDC",
        "colab_type": "code",
        "colab": {}
      },
      "cell_type": "code",
      "source": [
        ""
      ],
      "execution_count": 0,
      "outputs": []
    }
  ]
}