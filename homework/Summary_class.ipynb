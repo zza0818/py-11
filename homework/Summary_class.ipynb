{
  "nbformat": 4,
  "nbformat_minor": 0,
  "metadata": {
    "colab": {
      "name": "Summary_class.ipynb",
      "version": "0.3.2",
      "provenance": [],
      "collapsed_sections": [],
      "include_colab_link": true
    },
    "kernelspec": {
      "name": "python3",
      "display_name": "Python 3"
    }
  },
  "cells": [
    {
      "cell_type": "markdown",
      "metadata": {
        "id": "view-in-github",
        "colab_type": "text"
      },
      "source": [
        "<a href=\"https://colab.research.google.com/github/zza0818/py-11/blob/master/homework/Summary_class.ipynb\" target=\"_parent\"><img src=\"https://colab.research.google.com/assets/colab-badge.svg\" alt=\"Open In Colab\"/></a>"
      ]
    },
    {
      "metadata": {
        "id": "jzIMfa0ll1GN",
        "colab_type": "toc"
      },
      "cell_type": "markdown",
      "source": [
        ">[[머신러닝 강의 05] 파이썬(Phython) 클래스](#scrollTo=nipjknneiXs3)\n",
        "\n",
        ">>[클래스 - class](#scrollTo=PzXVBR9VBUKF)\n",
        "\n",
        ">>>[클래스 변수(class variable)과 클래스 메서드(class method)](#scrollTo=ozIVYe8Ffatz)\n",
        "\n",
        ">>>[private 멤버변수(variable)와 private 멤버메서드(method)](#scrollTo=y2OentKSfjZb)\n",
        "\n",
        ">>>[외부에서 가져온 함수 이름과 클래스의 메소드 이름이 동일할 때 처리하는 방법](#scrollTo=xfVRjdQbhOII)\n",
        "\n",
        ">>[예외처리 - exception](#scrollTo=IVg_yNV6RLLK)\n",
        "\n",
        ">>[with 구문](#scrollTo=ox5IkUZelG8J)\n",
        "\n",
        ">>>[ 일반적인 방법](#scrollTo=-RRF-eNXljF6)\n",
        "\n",
        ">>>[with 구문을 사용한 방법](#scrollTo=h3o0a-o3lnlG)\n",
        "\n"
      ]
    },
    {
      "metadata": {
        "id": "nipjknneiXs3",
        "colab_type": "text"
      },
      "cell_type": "markdown",
      "source": [
        "#[머신러닝 강의 05] 파이썬(Phython) 클래스"
      ]
    },
    {
      "metadata": {
        "id": "hAh-TttMieSm",
        "colab_type": "code",
        "outputId": "c9c6a55c-8e5f-4279-aa8b-38e392dda163",
        "colab": {
          "base_uri": "https://localhost:8080/",
          "height": 318
        }
      },
      "cell_type": "code",
      "source": [
        "from IPython.lib.display import YouTubeVideo\n",
        "YouTubeVideo('5Xy5Ju7hYo4')  # 파이썬 클래스, 예외처리, with"
      ],
      "execution_count": 0,
      "outputs": [
        {
          "output_type": "execute_result",
          "data": {
            "text/html": [
              "\n",
              "        <iframe\n",
              "            width=\"400\"\n",
              "            height=\"300\"\n",
              "            src=\"https://www.youtube.com/embed/5Xy5Ju7hYo4\"\n",
              "            frameborder=\"0\"\n",
              "            allowfullscreen\n",
              "        ></iframe>\n",
              "        "
            ],
            "text/plain": [
              "<IPython.lib.display.YouTubeVideo at 0x7faff43d2390>"
            ],
            "image/jpeg": "[encoded data removed]"
          },
          "metadata": {
            "tags": []
          },
          "execution_count": 1
        }
      ]
    },
    {
      "metadata": {
        "id": "t5_DeoO1inAO",
        "colab_type": "text"
      },
      "cell_type": "markdown",
      "source": [
        "\n",
        "\n",
        "---\n",
        "\n"
      ]
    },
    {
      "metadata": {
        "id": "PzXVBR9VBUKF",
        "colab_type": "text"
      },
      "cell_type": "markdown",
      "source": [
        "## 클래스 - class"
      ]
    },
    {
      "metadata": {
        "id": "3MTPwTE1BYVd",
        "colab_type": "text"
      },
      "cell_type": "markdown",
      "source": [
        " * 파이썬 클래스는 class 키워드를 사용하여 자신만의 데이터타입을 만들 수 있음\n",
        "\n"
      ]
    },
    {
      "metadata": {
        "id": "kCGCavDcBe_N",
        "colab_type": "code",
        "colab": {}
      },
      "cell_type": "code",
      "source": [
        "# class 클래스이름:\n",
        "#   def __init__(self, 인수, ...): # 생성자\n",
        "#   def 메서드이름(self, 인수, ...) # 메서드"
      ],
      "execution_count": 0,
      "outputs": []
    },
    {
      "metadata": {
        "id": "hjJNvkCndUGl",
        "colab_type": "text"
      },
      "cell_type": "markdown",
      "source": [
        "\n",
        "\n",
        "*   파이썬 클래스에서는 init 메서드가 생성자(constructor) 역할을 수행하며, 인스턴스가 만들어 질 때 한번만 호출됨\n",
        "\n",
        "*   파이썬에서는 클래스 메서드의 첫번째 인수로 '자신의 인스턴스'를 나태내는 self를 반드시 기술해야 함\n",
        "\n",
        "*   기본적으로 파이썬에서는 메서드와 속성 모두 public\n",
        "\n",
        "\n",
        "\n",
        "\n"
      ]
    },
    {
      "metadata": {
        "id": "aANdMtFQBF3b",
        "colab_type": "code",
        "outputId": "9ff4d6e9-537b-459e-f5c5-cf34c32af409",
        "colab": {
          "base_uri": "https://localhost:8080/",
          "height": 90
        }
      },
      "cell_type": "code",
      "source": [
        "# 클래스 내부의 메서드에서는 무조건 첫번째 인수를 자기 자신을 나타내는 self로 지정해 주어야 함.\n",
        "\n",
        "class Person:\n",
        "  \n",
        "  def __init__(self, name): # (생성자, constructor) 메서드 \n",
        "                            # __init__ : 파이썬 클래스가 반드시 가져야 하는 메서드\n",
        "                            # 인스턴스가 만들어 질 때 자동으로 한번만 호출됨\n",
        "    self.name = name\n",
        "    print(self.name + \" is intialized\")\n",
        "    \n",
        "  def work(self, company): # 메서드\n",
        "    print(self.name + \" is working in \" + company)\n",
        "    \n",
        "  def sleep(self): # 메서드\n",
        "    print(self.name + \" is sleeping\")\n",
        "    \n",
        "# Person instance 2개 생성\n",
        "obj = Person(\"PARK\")\n",
        "\n",
        "# method call\n",
        "obj.work(\"ABCDEF\")\n",
        "obj.sleep()\n",
        "\n",
        "# 속성이 직접 접근, 기본적으로 파이썬에서는 모두 public\n",
        "print(\"current person object is \", obj.name)"
      ],
      "execution_count": 0,
      "outputs": [
        {
          "output_type": "stream",
          "text": [
            "PARK is intialized\n",
            "PARK is working in ABCDEF\n",
            "PARK is sleeping\n",
            "current person object is  PARK\n"
          ],
          "name": "stdout"
        }
      ]
    },
    {
      "metadata": {
        "id": "mUlzRgp2dkJI",
        "colab_type": "text"
      },
      "cell_type": "markdown",
      "source": [
        "\n",
        "\n",
        "---\n",
        "\n"
      ]
    },
    {
      "metadata": {
        "id": "ozIVYe8Ffatz",
        "colab_type": "text"
      },
      "cell_type": "markdown",
      "source": [
        "### 클래스 변수(class variable)과 클래스 메서드(class method)"
      ]
    },
    {
      "metadata": {
        "id": "jbPx-fsSdp2x",
        "colab_type": "text"
      },
      "cell_type": "markdown",
      "source": [
        "\n",
        "\n",
        "*   클래스 변수(class variable)는 해당 클래스로 생성된 모든 인스턴스가 공통으로 사용하는 변수임.\n",
        "\n",
        "   => 클래스 변수는 클래스 내외부에서 \"클래스명.클래스 변수명\"으로 접근 할 수 있음\n",
        "\n",
        "\n",
        "\n"
      ]
    },
    {
      "metadata": {
        "id": "_T00JPbOeA76",
        "colab_type": "text"
      },
      "cell_type": "markdown",
      "source": [
        "\n",
        "\n",
        "\n",
        "*   클래스 메서드(class method)는 메서드 앞에 @classmethod를 반드시 표시하여 해당 메서드가 클래스 메서드임을 표시함.\n",
        "\n",
        "   => 클래스 메서드는 객체 인스턴스를 의미하는 self 대신 cls라는 클래스를 의미하는 파라미터를 인수로 전달받음\n",
        "\n",
        "\n",
        "\n",
        "\n"
      ]
    },
    {
      "metadata": {
        "id": "M8fopSlKG8yL",
        "colab_type": "code",
        "outputId": "73b56f0b-c08d-4371-e1a5-3b3338b8003a",
        "colab": {
          "base_uri": "https://localhost:8080/",
          "height": 143
        }
      },
      "cell_type": "code",
      "source": [
        "class Person:\n",
        "  \n",
        "  #클래스 변수\n",
        "  count = 0   # class variable\n",
        "  \n",
        "  def __init__(self, name):\n",
        "    self.name = name\n",
        "    Person.count += 1   # class 변수 count 증가\n",
        "    print(self.name + \" is initialized\")\n",
        "    \n",
        "  def work(self, company):\n",
        "    print(self.name + \" is working in \" + company)\n",
        "    \n",
        "  def sleep(self):\n",
        "    print(self.name + \" is sleeping\")\n",
        "    \n",
        "  @classmethod\n",
        "  # 클래스 메소드\n",
        "  def getCount(cls):  # class method # cls : class 뜻함\n",
        "                      # 클래스 메소드는 앞에 무조건 @classmethod를 명시하여야 함  \n",
        "                      #                 첫번째 인수를 무조건 class를 뜻하는 cls로 지정해주어야 함.\n",
        "    return cls.count\n",
        "  \n",
        "# Person instance 2개 생성\n",
        "# count 변수는 둘다 공유하고 있음\n",
        "obj1 = Person(\"PARK\")\n",
        "obj2 = Person(\"KIM\")\n",
        "\n",
        "# method call\n",
        "obj1.work(\"ABCDEF\")\n",
        "\n",
        "obj2.sleep()\n",
        "\n",
        "# 속성에 직접 접근, 기본적으로 파이썬에서는 모두 public\n",
        "print(\"current person object in \", obj1.name, \", \", obj2.name)\n",
        "\n",
        "# class method 호출\n",
        "print(\"Person count ==\", Person.getCount() )\n",
        "\n",
        "# ckass variable direct access\n",
        "print(Person.count)"
      ],
      "execution_count": 0,
      "outputs": [
        {
          "output_type": "stream",
          "text": [
            "PARK is initialized\n",
            "KIM is initialized\n",
            "PARK is working in ABCDEF\n",
            "KIM is sleeping\n",
            "current person object in  PARK ,  KIM\n",
            "Person count == 2\n",
            "2\n"
          ],
          "name": "stdout"
        }
      ]
    },
    {
      "metadata": {
        "id": "Jl-OPvcYfUUD",
        "colab_type": "text"
      },
      "cell_type": "markdown",
      "source": [
        "\n",
        "\n",
        "---\n",
        "\n"
      ]
    },
    {
      "metadata": {
        "id": "y2OentKSfjZb",
        "colab_type": "text"
      },
      "cell_type": "markdown",
      "source": [
        "### private 멤버변수(variable)와 private 멤버메서드(method)"
      ]
    },
    {
      "metadata": {
        "id": "iQX2yAbNfw4v",
        "colab_type": "text"
      },
      "cell_type": "markdown",
      "source": [
        "\n",
        "\n",
        "*   파이썬은 기본적으로 모든 멤버가 public 이기 때문에, 외부에서 직접 접근 가능함\n",
        "\n",
        "*   멤버변수(variable), 멤버메서드(method)를 멤버변수, 멤버메서드 형태로 선언한다면 private으로 설정 할 수 있음\n",
        "\n"
      ]
    },
    {
      "metadata": {
        "id": "jbZWqpW6f5ew",
        "colab_type": "text"
      },
      "cell_type": "markdown",
      "source": [
        "★ 언더바 두개를 포함하여 변수와 메서드를 선언해주면 private\n"
      ]
    },
    {
      "metadata": {
        "id": "Z1Mjc9SiI2nX",
        "colab_type": "code",
        "outputId": "25069963-33c1-42b4-814f-efff952619d1",
        "colab": {
          "base_uri": "https://localhost:8080/",
          "height": 322
        }
      },
      "cell_type": "code",
      "source": [
        "# ERROR CODE\n",
        "\n",
        "class PrivateMemberTest:\n",
        "  \n",
        "  def __init__(self, name1, name2):\n",
        "    \n",
        "    self.name1 = name1 # 인스턴스 변수 # public instance\n",
        "    self.__name2 = name2   # 인스턴스 변수 # private member variable\n",
        "    print(\"initialized with \" + name1 + \" ,\" +  name2)\n",
        "    \n",
        "  def getNames(self): # public method\n",
        "    self.__printNames()\n",
        "    return self.name1, self.__name2\n",
        "  \n",
        "  def __printNames(self):   # private member method\n",
        "    print(self.name1, self.__name2)\n",
        "    \n",
        "# 인스턴스 생성\n",
        "obj = PrivateMemberTest(\"PARK\", \"KIM\") # 객체 생성\n",
        "\n",
        "print(obj.name1) # public # PARK 출력\n",
        "print(obj.getNames()) # public\n",
        "print(obj.__printNames())   # error 발생 # private # private method 이므로 접근 불가능\n",
        "print(obj.__name2)          # error 발생 # private 변수이므로 접근이 불가능\n",
        "                            # 외부 객체 obj를 통하여 변수 접근이 불가능 함"
      ],
      "execution_count": 0,
      "outputs": [
        {
          "output_type": "stream",
          "text": [
            "initialized with PARK ,KIM\n",
            "PARK\n",
            "PARK KIM\n",
            "('PARK', 'KIM')\n"
          ],
          "name": "stdout"
        },
        {
          "output_type": "error",
          "ename": "AttributeError",
          "evalue": "ignored",
          "traceback": [
            "\u001b[0;31m---------------------------------------------------------------------------\u001b[0m",
            "\u001b[0;31mAttributeError\u001b[0m                            Traceback (most recent call last)",
            "\u001b[0;32m<ipython-input-4-875a6daf32a3>\u001b[0m in \u001b[0;36m<module>\u001b[0;34m()\u001b[0m\n\u001b[1;32m     20\u001b[0m \u001b[0mprint\u001b[0m\u001b[0;34m(\u001b[0m\u001b[0mobj\u001b[0m\u001b[0;34m.\u001b[0m\u001b[0mname1\u001b[0m\u001b[0;34m)\u001b[0m \u001b[0;31m# public # PARK 출력\u001b[0m\u001b[0;34m\u001b[0m\u001b[0;34m\u001b[0m\u001b[0m\n\u001b[1;32m     21\u001b[0m \u001b[0mprint\u001b[0m\u001b[0;34m(\u001b[0m\u001b[0mobj\u001b[0m\u001b[0;34m.\u001b[0m\u001b[0mgetNames\u001b[0m\u001b[0;34m(\u001b[0m\u001b[0;34m)\u001b[0m\u001b[0;34m)\u001b[0m \u001b[0;31m# public\u001b[0m\u001b[0;34m\u001b[0m\u001b[0;34m\u001b[0m\u001b[0m\n\u001b[0;32m---> 22\u001b[0;31m \u001b[0mprint\u001b[0m\u001b[0;34m(\u001b[0m\u001b[0mobj\u001b[0m\u001b[0;34m.\u001b[0m\u001b[0m__printNames\u001b[0m\u001b[0;34m(\u001b[0m\u001b[0;34m)\u001b[0m\u001b[0;34m)\u001b[0m   \u001b[0;31m# error 발생 # private # private method 이므로 접근 불가능\u001b[0m\u001b[0;34m\u001b[0m\u001b[0;34m\u001b[0m\u001b[0m\n\u001b[0m\u001b[1;32m     23\u001b[0m \u001b[0mprint\u001b[0m\u001b[0;34m(\u001b[0m\u001b[0mobj\u001b[0m\u001b[0;34m.\u001b[0m\u001b[0m__name2\u001b[0m\u001b[0;34m)\u001b[0m          \u001b[0;31m# error 발생 # private 변수이므로 접근이 불가능\u001b[0m\u001b[0;34m\u001b[0m\u001b[0;34m\u001b[0m\u001b[0m\n\u001b[1;32m     24\u001b[0m                             \u001b[0;31m# 외부 객체 obj를 통하여 변수 접근이 불가능 함\u001b[0m\u001b[0;34m\u001b[0m\u001b[0;34m\u001b[0m\u001b[0;34m\u001b[0m\u001b[0m\n",
            "\u001b[0;31mAttributeError\u001b[0m: 'PrivateMemberTest' object has no attribute '__printNames'"
          ]
        }
      ]
    },
    {
      "metadata": {
        "id": "eE6kV_hqW36y",
        "colab_type": "code",
        "outputId": "23e67606-94fc-42cd-e72e-1f3e7489de5f",
        "colab": {
          "base_uri": "https://localhost:8080/",
          "height": 35
        }
      },
      "cell_type": "code",
      "source": [
        "obj = PrivateMemberTest(\"PARK\", \"KIM\")"
      ],
      "execution_count": 0,
      "outputs": [
        {
          "output_type": "stream",
          "text": [
            "initialized with PARK ,KIM\n"
          ],
          "name": "stdout"
        }
      ]
    },
    {
      "metadata": {
        "id": "vKzo6fwaW5Ix",
        "colab_type": "code",
        "outputId": "d0fc766b-0bbe-4386-a535-190b8366c96b",
        "colab": {
          "base_uri": "https://localhost:8080/",
          "height": 35
        }
      },
      "cell_type": "code",
      "source": [
        "print(obj.name1)"
      ],
      "execution_count": 0,
      "outputs": [
        {
          "output_type": "stream",
          "text": [
            "PARK\n"
          ],
          "name": "stdout"
        }
      ]
    },
    {
      "metadata": {
        "id": "c9EmNyekW5l3",
        "colab_type": "code",
        "outputId": "16e7a14f-5604-4e90-ac87-60cf85777529",
        "colab": {
          "base_uri": "https://localhost:8080/",
          "height": 54
        }
      },
      "cell_type": "code",
      "source": [
        "print(obj.getNames())"
      ],
      "execution_count": 0,
      "outputs": [
        {
          "output_type": "stream",
          "text": [
            "PARK KIM\n",
            "('PARK', 'KIM')\n"
          ],
          "name": "stdout"
        }
      ]
    },
    {
      "metadata": {
        "id": "LLLUB7CjW65F",
        "colab_type": "code",
        "outputId": "b2dc1c45-8231-4a16-fc25-bec3523edd6f",
        "colab": {
          "base_uri": "https://localhost:8080/",
          "height": 174
        }
      },
      "cell_type": "code",
      "source": [
        "print(obj.__printNames())"
      ],
      "execution_count": 0,
      "outputs": [
        {
          "output_type": "error",
          "ename": "AttributeError",
          "evalue": "ignored",
          "traceback": [
            "\u001b[0;31m---------------------------------------------------------------------------\u001b[0m",
            "\u001b[0;31mAttributeError\u001b[0m                            Traceback (most recent call last)",
            "\u001b[0;32m<ipython-input-8-b74c3a3c4cc8>\u001b[0m in \u001b[0;36m<module>\u001b[0;34m()\u001b[0m\n\u001b[0;32m----> 1\u001b[0;31m \u001b[0mprint\u001b[0m\u001b[0;34m(\u001b[0m\u001b[0mobj\u001b[0m\u001b[0;34m.\u001b[0m\u001b[0m__printNames\u001b[0m\u001b[0;34m(\u001b[0m\u001b[0;34m)\u001b[0m\u001b[0;34m)\u001b[0m\u001b[0;34m\u001b[0m\u001b[0;34m\u001b[0m\u001b[0m\n\u001b[0m",
            "\u001b[0;31mAttributeError\u001b[0m: 'PrivateMemberTest' object has no attribute '__printNames'"
          ]
        }
      ]
    },
    {
      "metadata": {
        "id": "puWXlnU3W8EP",
        "colab_type": "code",
        "outputId": "89cc7c5a-b410-4042-9c7d-aacaa14f929d",
        "colab": {
          "base_uri": "https://localhost:8080/",
          "height": 174
        }
      },
      "cell_type": "code",
      "source": [
        "print(obj.__name2)"
      ],
      "execution_count": 0,
      "outputs": [
        {
          "output_type": "error",
          "ename": "AttributeError",
          "evalue": "ignored",
          "traceback": [
            "\u001b[0;31m---------------------------------------------------------------------------\u001b[0m",
            "\u001b[0;31mAttributeError\u001b[0m                            Traceback (most recent call last)",
            "\u001b[0;32m<ipython-input-9-1fd0cfc9a47d>\u001b[0m in \u001b[0;36m<module>\u001b[0;34m()\u001b[0m\n\u001b[0;32m----> 1\u001b[0;31m \u001b[0mprint\u001b[0m\u001b[0;34m(\u001b[0m\u001b[0mobj\u001b[0m\u001b[0;34m.\u001b[0m\u001b[0m__name2\u001b[0m\u001b[0;34m)\u001b[0m\u001b[0;34m\u001b[0m\u001b[0;34m\u001b[0m\u001b[0m\n\u001b[0m",
            "\u001b[0;31mAttributeError\u001b[0m: 'PrivateMemberTest' object has no attribute '__name2'"
          ]
        }
      ]
    },
    {
      "metadata": {
        "id": "4qVL0_FHf1vs",
        "colab_type": "text"
      },
      "cell_type": "markdown",
      "source": [
        "\n",
        "\n",
        "---\n",
        "\n"
      ]
    },
    {
      "metadata": {
        "id": "xfVRjdQbhOII",
        "colab_type": "text"
      },
      "cell_type": "markdown",
      "source": [
        "### 외부에서 가져온 함수 이름과 클래스의 메소드 이름이 동일할 때 처리하는 방법"
      ]
    },
    {
      "metadata": {
        "id": "H7Vb0LUhhSiP",
        "colab_type": "text"
      },
      "cell_type": "markdown",
      "source": [
        "\n",
        "\n",
        "*   외부함수와 클래스 method name이 같은 경우\n",
        "   \n",
        "   => C++, Java 언어의 this 처럼 self 를 통해 method 호출\n",
        " \n",
        "    => self 를 붙이지 않으면 동일한 이름의 외부 함수 호출됨\n",
        "\n"
      ]
    },
    {
      "metadata": {
        "id": "ex_BmEcYPEN9",
        "colab_type": "code",
        "outputId": "c47c422c-ffb5-4df0-84e7-271d8e3827c9",
        "colab": {
          "base_uri": "https://localhost:8080/",
          "height": 90
        }
      },
      "cell_type": "code",
      "source": [
        "def print_name(name): # 외부 함수\n",
        "  print(\"[def] \", name)\n",
        "  \n",
        "class SameTest: \n",
        "  \n",
        "  def __init__(self):\n",
        "    # 아무것도 안하기 때문에 pass\n",
        "    pass\n",
        "  \n",
        "  # 외부 함수와 동일한 이름으로 method 정의\n",
        "  def print_name(self, name):\n",
        "    print(\"[SameTest] \", name)\n",
        "    \n",
        "  def call_test(self):\n",
        "    \n",
        "    # 외부 함수 호출\n",
        "    print_name(\"KIM\") # 외부 함수가 호출됨\n",
        "    \n",
        "    # 클래스 내부 method 호출\n",
        "    self.print_name(\"KIM\") # 클래스 메소드로써 출력하려면 self라는 키워드를 사용하여야 함\n",
        "    \n",
        "# create SameTest object\n",
        "obj = SameTest() # 객체 생성\n",
        "\n",
        "# call function print_name\n",
        "print_name(\"LEE\") # 함수 이름을 호출(외부 함수)\n",
        "\n",
        "# call method print_name\n",
        "obj.print_name(\"LEE\") # 객체의 메소드 호출\n",
        "\n",
        "# call method call_test\n",
        "obj.call_test() # 외부함수 출력 후 클래스 내부 메서드 출력"
      ],
      "execution_count": 0,
      "outputs": [
        {
          "output_type": "stream",
          "text": [
            "[def]  LEE\n",
            "[SameTest]  LEE\n",
            "[def]  KIM\n",
            "[SameTest]  KIM\n"
          ],
          "name": "stdout"
        }
      ]
    },
    {
      "metadata": {
        "id": "ya-bC5yphbLV",
        "colab_type": "text"
      },
      "cell_type": "markdown",
      "source": [
        "\n",
        "\n",
        "---\n",
        "\n"
      ]
    },
    {
      "metadata": {
        "id": "IVg_yNV6RLLK",
        "colab_type": "text"
      },
      "cell_type": "markdown",
      "source": [
        "## 예외처리 - exception"
      ]
    },
    {
      "metadata": {
        "id": "L-bh74aBiT47",
        "colab_type": "text"
      },
      "cell_type": "markdown",
      "source": [
        "\n",
        "\n",
        "*   파이썬 excemtpion은 try...except문을 사용함.  \n",
        "try 블록에서 에러가 발생 시 except 문으로 이동하여 예외 처리 수행\n",
        "\n",
        "*   발생된 exception을 그냥 무시하기 위해서는 보통 pass문을 사용하며, 또한 개발자가 에러를 던지기 위해서는 raise문을 사용함\n",
        "\n",
        "* try 문은 또한 finally 문을 가질 수도 있는데, finally 블럭은 try 블럭이 정상적으로 실행되든, 에러가 발생하여 except이 실행되든 항상 마지막에 실행됨\n"
      ]
    },
    {
      "metadata": {
        "id": "JanrB2VeRJN6",
        "colab_type": "code",
        "colab": {}
      },
      "cell_type": "code",
      "source": [
        "# calc는 입력으로 list_data를 받아 모두 더하여 합을 구하는 간단한 프로그램\n",
        "\n",
        "def calc(list_data):\n",
        "  \n",
        "  sum = 0\n",
        "  \n",
        "  try: # try 블록에서 에러가 발생하면 except 문으로 이동하여 exception 처리 \n",
        "    sum = list_data[0] + list_data[1] + list_data[2]\n",
        "    \n",
        "    if sum < 0:\n",
        "      raise Exception(\"Sum is minus\")\n",
        "      \n",
        "  except IndexError as err:\n",
        "    print(str(err))\n",
        "  except Exception as err:\n",
        "    print(str(err))\n",
        "  finally: # 예외 상황과 관련없이 항상 마지막에 실행됨\n",
        "    print(sum)"
      ],
      "execution_count": 0,
      "outputs": []
    },
    {
      "metadata": {
        "id": "lyse5mYJme4u",
        "colab_type": "code",
        "outputId": "29781a86-2a72-4e5e-fcaf-a9c15c972abf",
        "colab": {
          "base_uri": "https://localhost:8080/",
          "height": 54
        }
      },
      "cell_type": "code",
      "source": [
        "# 함수에서는 3개의 입력값을 받는 list를 예상했으나, 2개의 입력값을 받는 list 들어옴\n",
        "# list의 index와 관련된 exception  발생\n",
        "\n",
        "#  except IndexError as err:\n",
        "#    print(str(err))\n",
        "\n",
        "calc([1, 2]) # index error 발생"
      ],
      "execution_count": 0,
      "outputs": [
        {
          "output_type": "stream",
          "text": [
            "list index out of range\n",
            "0\n"
          ],
          "name": "stdout"
        }
      ]
    },
    {
      "metadata": {
        "id": "qJJnymchbsZ4",
        "colab_type": "code",
        "outputId": "d989a00c-7345-4487-ff89-4ca5ddb88b52",
        "colab": {
          "base_uri": "https://localhost:8080/",
          "height": 35
        }
      },
      "cell_type": "code",
      "source": [
        "calc([1, 2, 3])"
      ],
      "execution_count": 0,
      "outputs": [
        {
          "output_type": "stream",
          "text": [
            "6\n"
          ],
          "name": "stdout"
        }
      ]
    },
    {
      "metadata": {
        "id": "8ovVCO67b10D",
        "colab_type": "code",
        "outputId": "18462d09-6ca3-4b3b-9f7c-2853f0c31e0f",
        "colab": {
          "base_uri": "https://localhost:8080/",
          "height": 35
        }
      },
      "cell_type": "code",
      "source": [
        "calc([1, 2, 3, 4, 5, 6]) # 인덱스 크기가 초과되어도 인덱스 0, 1, 2만 더해준다 # exception이 발생하지 않는다"
      ],
      "execution_count": 0,
      "outputs": [
        {
          "output_type": "stream",
          "text": [
            "6\n"
          ],
          "name": "stdout"
        }
      ]
    },
    {
      "metadata": {
        "id": "OnYB8Hdhksg6",
        "colab_type": "text"
      },
      "cell_type": "markdown",
      "source": [
        "raise는 인위적으로 exception을 발생시키는 것으로써 실제 개발하는 도중 발생하는 다양한 Error를  파악하고 이를 해결하기 위해 Debugging 용도로 많이 사용하고 있음"
      ]
    },
    {
      "metadata": {
        "id": "_Gqg9L30mevH",
        "colab_type": "code",
        "outputId": "ca925c44-f2cc-4ae1-da59-cc3c6d563c17",
        "colab": {
          "base_uri": "https://localhost:8080/",
          "height": 54
        }
      },
      "cell_type": "code",
      "source": [
        "# sum = list_data[0] + list_data[1] + list_data[2] 구문에서는 exception이 발생하지 않음\n",
        "# raise는 인위적으로 exception을 발생시키는 것으로써 실제 개발하는 도중 발생하는 다양한 Error를  파악하고 이를 해결하기 위해 Debugging 용도로 많이 사용하고 있음\n",
        "# except Exception as err:\n",
        "#   print(str(err))        의 exception이 발생함\n",
        "\n",
        "calc([1, 2, -100]) # 인위적인 exception 발생"
      ],
      "execution_count": 0,
      "outputs": [
        {
          "output_type": "stream",
          "text": [
            "Sum is minus\n",
            "-97\n"
          ],
          "name": "stdout"
        }
      ]
    },
    {
      "metadata": {
        "id": "Z37QqBiii5Px",
        "colab_type": "text"
      },
      "cell_type": "markdown",
      "source": [
        "\n",
        "\n",
        "---\n",
        "\n"
      ]
    },
    {
      "metadata": {
        "id": "ox5IkUZelG8J",
        "colab_type": "text"
      },
      "cell_type": "markdown",
      "source": [
        "## with 구문"
      ]
    },
    {
      "metadata": {
        "id": "lusSewDsk0hP",
        "colab_type": "text"
      },
      "cell_type": "markdown",
      "source": [
        "\n",
        "\n",
        "*   일반적으로 파일 (file) 또는 세션 (session) 을 사용하는 순서는 다음과 같음\n",
        "\n",
        "   open() => read() 또는 write() => close()\n",
        "   \n",
        "      3단계 과정\n",
        "\n",
        "\n"
      ]
    },
    {
      "metadata": {
        "id": "gUsD_JWmlBJ1",
        "colab_type": "text"
      },
      "cell_type": "markdown",
      "source": [
        "*   그러나 파이썬에서 with 구문을 사용하면 명시적으로 리소스 close() 를 해주지 않아도 자동으로 close() 해주는 기능이 있음. \n",
        "\n",
        "   with 블록을 벗어나는 순간 파일 파일이나 세션 등의 리소스를 자동으로 close 시킴\n",
        "\n",
        "   => 딥러닝 프레임워크인 TensorFlow 의 session 사용시 자주 사용됨"
      ]
    },
    {
      "metadata": {
        "id": "-RRF-eNXljF6",
        "colab_type": "text"
      },
      "cell_type": "markdown",
      "source": [
        "###  일반적인 방법"
      ]
    },
    {
      "metadata": {
        "id": "3RgNIn16Qvir",
        "colab_type": "code",
        "colab": {}
      },
      "cell_type": "code",
      "source": [
        "# 일반적인 방법\n",
        "\n",
        "f = open(\"./file_test\", 'w')\n",
        "\n",
        "f.write(\"Hello, Python !!!\")\n",
        "\n",
        "f.close()"
      ],
      "execution_count": 0,
      "outputs": []
    },
    {
      "metadata": {
        "id": "h3o0a-o3lnlG",
        "colab_type": "text"
      },
      "cell_type": "markdown",
      "source": [
        "### with 구문을 사용한 방법"
      ]
    },
    {
      "metadata": {
        "id": "qu_l0lSSQqXV",
        "colab_type": "code",
        "colab": {}
      },
      "cell_type": "code",
      "source": [
        "# with 구문을 사용한 방법\n",
        "# with 블록을 벗어나는 순간 파일 객체 f가 자동으로 close 됨.\n",
        "\n",
        "with open(\".file_test\", 'w') as f:\n",
        "  f.write(\"Hello, Python !!!\")\n",
        "  \n",
        "  #파일 close"
      ],
      "execution_count": 0,
      "outputs": []
    }
  ]
}