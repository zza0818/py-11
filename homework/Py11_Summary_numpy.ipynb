{
  "nbformat": 4,
  "nbformat_minor": 0,
  "metadata": {
    "colab": {
      "name": "Py11-Summary_numpy.ipynb의 사본",
      "version": "0.3.2",
      "provenance": [],
      "include_colab_link": true
    },
    "kernelspec": {
      "name": "python3",
      "display_name": "Python 3"
    }
  },
  "cells": [
    {
      "cell_type": "markdown",
      "metadata": {
        "id": "view-in-github",
        "colab_type": "text"
      },
      "source": [
        "<a href=\"https://colab.research.google.com/github/zza0818/py-11/blob/master/Py11_Summary_numpy.ipynb\" target=\"_parent\"><img src=\"https://colab.research.google.com/assets/colab-badge.svg\" alt=\"Open In Colab\"/></a>"
      ]
    },
    {
      "metadata": {
        "id": "P8KWelEkiquM",
        "colab_type": "text"
      },
      "cell_type": "markdown",
      "source": [
        ""
      ]
    },
    {
      "metadata": {
        "id": "TGeUwgmtkZxM",
        "colab_type": "text"
      },
      "cell_type": "markdown",
      "source": [
        "###라이브러리-overview"
      ]
    },
    {
      "metadata": {
        "id": "rKQdo42_njlk",
        "colab_type": "text"
      },
      "cell_type": "markdown",
      "source": [
        "-라이브러리 이름을 바로 임포트하는 방법\n",
        "-해당 라이브러리의 풀네임을 이용하여 필요한 값 호출 가능"
      ]
    },
    {
      "metadata": {
        "id": "QE2c5jWSh9r5",
        "colab_type": "code",
        "outputId": "d9dbab93-6cf9-4583-ab25-717ae7301bd1",
        "colab": {
          "base_uri": "https://localhost:8080/",
          "height": 34
        }
      },
      "cell_type": "code",
      "source": [
        "import numpy\n",
        "\n",
        "A = numpy.array([1,2])\n",
        "\n",
        "print(\"A == \", A, \", type ==\", type(A))"
      ],
      "execution_count": 0,
      "outputs": [
        {
          "output_type": "stream",
          "text": [
            "A ==  [1 2] , type == <class 'numpy.ndarray'>\n"
          ],
          "name": "stdout"
        }
      ]
    },
    {
      "metadata": {
        "id": "4y0xsWN9oLBu",
        "colab_type": "text"
      },
      "cell_type": "markdown",
      "source": [
        "-가장 일반적인 방법 \n",
        "\n",
        "-라이브러리에 별명을 지정하는 방식\n",
        "\n",
        "-"
      ]
    },
    {
      "metadata": {
        "id": "zhhXNceakK_f",
        "colab_type": "code",
        "outputId": "c1c47af4-5791-461d-ebe9-453883bbd91e",
        "colab": {
          "base_uri": "https://localhost:8080/",
          "height": 34
        }
      },
      "cell_type": "code",
      "source": [
        "import numpy as np\n",
        "\n",
        "A = np.array([1,2])\n",
        "\n",
        "print(\"A ==\", A, \", type ==\", type(A))"
      ],
      "execution_count": 0,
      "outputs": [
        {
          "output_type": "stream",
          "text": [
            "A == [1 2] , type == <class 'numpy.ndarray'>\n"
          ],
          "name": "stdout"
        }
      ]
    },
    {
      "metadata": {
        "id": "zbHmbyc8nYal",
        "colab_type": "text"
      },
      "cell_type": "markdown",
      "source": [
        "-해당 numpy의 이름을 쓰지 않고 바로 exp 사용 가능\n",
        "\n",
        "-"
      ]
    },
    {
      "metadata": {
        "id": "jltvHdjKmJOH",
        "colab_type": "code",
        "outputId": "28d70047-861c-4fe1-97e2-8d9e8fc5be58",
        "colab": {
          "base_uri": "https://localhost:8080/",
          "height": 34
        }
      },
      "cell_type": "code",
      "source": [
        "from numpy import exp \n",
        "\n",
        "result = exp(1)\n",
        "\n",
        "print(\"result ==\", result, \", type ==\", type(result))"
      ],
      "execution_count": 0,
      "outputs": [
        {
          "output_type": "stream",
          "text": [
            "result == 2.718281828459045 , type == <class 'numpy.float64'>\n"
          ],
          "name": "stdout"
        }
      ]
    },
    {
      "metadata": {
        "id": "9w5Uoi0To_Xf",
        "colab_type": "text"
      },
      "cell_type": "markdown",
      "source": [
        "-필요한 라이브러리에 모든걸 사용한다는 의미 \n",
        "\n",
        "-라이브러리 이름 사용 x"
      ]
    },
    {
      "metadata": {
        "id": "G6NXY42pmkkb",
        "colab_type": "code",
        "outputId": "4f750300-049e-4842-ac8b-7e7f283e748d",
        "colab": {
          "base_uri": "https://localhost:8080/",
          "height": 34
        }
      },
      "cell_type": "code",
      "source": [
        "from numpy import *\n",
        "\n",
        "result = exp(1) + log(1.7) + sqrt(2)\n",
        "\n",
        "print(\"result ==\", result, \", type ==\", type(result))"
      ],
      "execution_count": 0,
      "outputs": [
        {
          "output_type": "stream",
          "text": [
            "result == 4.663123641894311 , type == <class 'numpy.float64'>\n"
          ],
          "name": "stdout"
        }
      ]
    },
    {
      "metadata": {
        "id": "mgB7evGwpXbK",
        "colab_type": "text"
      },
      "cell_type": "markdown",
      "source": [
        "##numpy\n",
        "\n",
        "-vector/matrix생성\n",
        "\n",
        "-행렬 곱 (dot product)\n",
        "\n",
        "-index/ slice/ iterator\n",
        "\n",
        "-concatenate\n",
        "\n",
        "-useful function (loadtxt(), rand(), argmax(), ...)"
      ]
    },
    {
      "metadata": {
        "id": "op1q7jTTp67h",
        "colab_type": "text"
      },
      "cell_type": "markdown",
      "source": [
        "###numpy\n",
        "\n",
        "=> numpy는 머신러닝 코드 개발 할 경우 자주 사용되는 벡터, 행렬 등을 표현하고 연산할 때 반드시 필요한 라이브러리 "
      ]
    },
    {
      "metadata": {
        "id": "g5mFl-1ZqWFe",
        "colab_type": "text"
      },
      "cell_type": "markdown",
      "source": [
        "###numpy vs list \n",
        "\n",
        "=> 머신러닝에서 숫자, 사람, 동물 등의 인식을 하기 위해서는 이미지(image)데이터를 행렬(matrix)로 변환 하는 것이 중요함 \n",
        "\n",
        "=> 행렬(matrix)을 나타네기 위해서는 리스트(list)를 사용할 수도 있지만, 행렬 연산이 직관적이지 않고 오류 가능성이 높기 때문에, 행렬 연산을 위해서는 numpy 사용이 필수임"
      ]
    },
    {
      "metadata": {
        "id": "TRkMsButrkfU",
        "colab_type": "code",
        "colab": {}
      },
      "cell_type": "code",
      "source": [
        "import numpy as np "
      ],
      "execution_count": 0,
      "outputs": []
    },
    {
      "metadata": {
        "id": "1xqwN8hgrqaX",
        "colab_type": "code",
        "outputId": "13fbca71-8958-451c-8a0b-1fd5f2df8aff",
        "colab": {
          "base_uri": "https://localhost:8080/",
          "height": 34
        }
      },
      "cell_type": "code",
      "source": [
        "#리스트로 행렬 표현 \n",
        "\n",
        "A = [ [1,0], [0,1] ]\n",
        "B = [ [1,1], [1,1] ] \n",
        "\n",
        "A + B #행렬 연산 "
      ],
      "execution_count": 0,
      "outputs": [
        {
          "output_type": "execute_result",
          "data": {
            "text/plain": [
              "[[1, 0], [0, 1], [1, 1], [1, 1]]"
            ]
          },
          "metadata": {
            "tags": []
          },
          "execution_count": 11
        }
      ]
    },
    {
      "metadata": {
        "id": "OkZgjrcesH3T",
        "colab_type": "code",
        "outputId": "12c89369-0738-4c2e-b092-47b51c400bd0",
        "colab": {
          "base_uri": "https://localhost:8080/",
          "height": 51
        }
      },
      "cell_type": "code",
      "source": [
        "# numpy matrix,직관적임\n",
        "\n",
        "A = np.array([ [1,0], [0,1] ])\n",
        "B = np.array([ [1,1], [1,1] ])\n",
        "\n",
        "A + B"
      ],
      "execution_count": 0,
      "outputs": [
        {
          "output_type": "execute_result",
          "data": {
            "text/plain": [
              "array([[2, 1],\n",
              "       [1, 2]])"
            ]
          },
          "metadata": {
            "tags": []
          },
          "execution_count": 12
        }
      ]
    },
    {
      "metadata": {
        "id": "zZmWkwT9swY_",
        "colab_type": "text"
      },
      "cell_type": "markdown",
      "source": [
        "###라이브러리 - numpy vector (1차원 배열)"
      ]
    },
    {
      "metadata": {
        "id": "1No9wG9xs44D",
        "colab_type": "text"
      },
      "cell_type": "markdown",
      "source": [
        "-벡터(vector)생성 \n",
        "\n",
        "=>vector는 np.array([...])를 사용하여 생성함 (import numpy as np)\n",
        "\n",
        "=> 머신러닝 코드 구현 시, 연산을 위해서 vector,matrix 등의 형상(shape),차원(dimension)을 확인하는 것이 필요함 "
      ]
    },
    {
      "metadata": {
        "id": "QCs4aBK_tdTJ",
        "colab_type": "text"
      },
      "cell_type": "markdown",
      "source": [
        "- 벡터(vector)산술 연산\n",
        "\n",
        "=> vector 간 산술연산(+,-,×,/)은 벡터의 각각의 원소에 대해서 행해짐"
      ]
    },
    {
      "metadata": {
        "id": "9skTrDButwYj",
        "colab_type": "code",
        "outputId": "b7824d7e-3293-416f-9a2f-ad49f3da5d72",
        "colab": {
          "base_uri": "https://localhost:8080/",
          "height": 68
        }
      },
      "cell_type": "code",
      "source": [
        "A = np.array([1,2,3]) \n",
        "B = np.array([4,5,6])\n",
        "\n",
        "#vector A, B 출력\n",
        "print(\"A ==\", A, \", B ==\", B)\n",
        "\n",
        "#vector A, B 형상 출력 => shape \n",
        "print(\"A.shape ==\", A.shape, \", B.shape ==\", B.shape)\n",
        "\n",
        "#vector A,B 차원 출력 => ndim\n",
        "print(\"A.ndim ==\", A.ndim, \", B.dim ==\", B.ndim)"
      ],
      "execution_count": 0,
      "outputs": [
        {
          "output_type": "stream",
          "text": [
            "A == [1 2 3] , B == [4 5 6]\n",
            "A.shape == (3,) , B.shape == (3,)\n",
            "A.ndim == 1 , B.dim == 1\n"
          ],
          "name": "stdout"
        }
      ]
    },
    {
      "metadata": {
        "id": "WO7lhTiOvLUm",
        "colab_type": "code",
        "outputId": "4852d054-1b85-49e3-c1d3-0dfa4398952a",
        "colab": {
          "base_uri": "https://localhost:8080/",
          "height": 85
        }
      },
      "cell_type": "code",
      "source": [
        "#vector 산술 연산 \n",
        "\n",
        "print(\"A + B ==\", A+B)\n",
        "print(\"A - B ==\", A-B)\n",
        "print(\"A * B ==\", A*B)\n",
        "print(\"A / B ==\", A/B)"
      ],
      "execution_count": 0,
      "outputs": [
        {
          "output_type": "stream",
          "text": [
            "A + B == [5 7 9]\n",
            "A - B == [-3 -3 -3]\n",
            "A * B == [ 4 10 18]\n",
            "A / B == [0.25 0.4  0.5 ]\n"
          ],
          "name": "stdout"
        }
      ]
    },
    {
      "metadata": {
        "id": "Vu5Z9Xh0wHIB",
        "colab_type": "text"
      },
      "cell_type": "markdown",
      "source": [
        "###라이브러리 - numpy matrix(행렬)"
      ]
    },
    {
      "metadata": {
        "id": "xVWX5gxhwOJB",
        "colab_type": "text"
      },
      "cell_type": "markdown",
      "source": [
        "- 행렬(matrix) 생성 \n",
        "\n",
        "=> matrix는 vector와 마찬가지로 np.array([  [...], [...], ...]) 를 사용하여 생성함  (import numpy as np)"
      ]
    },
    {
      "metadata": {
        "id": "7q6OeMQAwsib",
        "colab_type": "code",
        "outputId": "4dd5dd90-1500-4dc1-8fd1-a8820e37a404",
        "colab": {
          "base_uri": "https://localhost:8080/",
          "height": 51
        }
      },
      "cell_type": "code",
      "source": [
        "A = np.array([ [1,2,3], [4,5,6] ])\n",
        "B = np.array([ [-1,-2,-3], [-4,-5,-6] ])\n",
        "\n",
        "#matrix A,B 형상 출력 => shape\n",
        "print(\"A.shape ==\", A.shape, \", B.shpae ==\", B.shape)\n",
        "\n",
        "# matrix A,B 차원 출력 => ndim \n",
        "print (\"A.ndim ==\", A.ndim, \", B.ndim ==\", B.ndim)\n",
        "              "
      ],
      "execution_count": 0,
      "outputs": [
        {
          "output_type": "stream",
          "text": [
            "A.shape == (2, 3) , B.shpae == (2, 3)\n",
            "A.ndim == 2 , B.ndim == 2\n"
          ],
          "name": "stdout"
        }
      ]
    },
    {
      "metadata": {
        "id": "d1wUSPf7x5Pf",
        "colab_type": "text"
      },
      "cell_type": "markdown",
      "source": [
        "- 형 변환(reshape)\n",
        "\n",
        "=> vector를 matrix로  변경라거나 matrix를 다른 형상의 matrix로 변경하기 위해서는 reshape()사용하여 행렬의 shape을  변경하여야 함 "
      ]
    },
    {
      "metadata": {
        "id": "DLDfq68KyT_j",
        "colab_type": "code",
        "outputId": "b5a8a8fa-ded4-4334-88df-6aa77538d70f",
        "colab": {
          "base_uri": "https://localhost:8080/",
          "height": 51
        }
      },
      "cell_type": "code",
      "source": [
        "#vector 생성\n",
        "\n",
        "C = np.array([1,2,3])\n",
        "\n",
        "#vector C형상 출력 => shape\n",
        "print(\"C.shape ==\", C.shape)\n",
        "\n",
        "#vector를 (1,3) 행렬로 형 변환\n",
        "C = C.reshape(1,3)\n",
        "\n",
        "print(\"C.shape ==\", C.shape)"
      ],
      "execution_count": 0,
      "outputs": [
        {
          "output_type": "stream",
          "text": [
            "C.shape == (3,)\n",
            "C.shape == (1, 3)\n"
          ],
          "name": "stdout"
        }
      ]
    },
    {
      "metadata": {
        "id": "Gx_hKtMGzRkf",
        "colab_type": "text"
      },
      "cell_type": "markdown",
      "source": [
        "###라이브러리 -numpy 행렬 곱 (dot product) 1 "
      ]
    },
    {
      "metadata": {
        "id": "dLLAnhOdzdGr",
        "colab_type": "text"
      },
      "cell_type": "markdown",
      "source": [
        "-행렬 곱 (dot product)\n",
        "\n",
        "=> A 행렬과 B 행렬의 행렬 곱 (dot product)는 np.dot(A,B) 나타내며,행렬 A의 열 벡터와 B 행렬의 행 벡터가 같아야 함. 민약 같지 않다면 reshape 또는 전치행렬(transpose)등을 사용하여 형 변환을 한 후에 행렬 곱 실행해야 함"
      ]
    },
    {
      "metadata": {
        "id": "i3xhVLjo0DRU",
        "colab_type": "code",
        "outputId": "bcd74e70-e315-41b9-e910-2e97dab9fb5d",
        "colab": {
          "base_uri": "https://localhost:8080/",
          "height": 85
        }
      },
      "cell_type": "code",
      "source": [
        "A = np.array([ [1,2,3],[4,5,6] ]) #2×3 행렬\n",
        "B = np.array([ [-1,-2], [-3,-4],[-5,-6] ]) #3×2행렬\n",
        "\n",
        "#(2×3) dot product (3x2) == (2×2)행렬\n",
        "C = np.dot(A,B) #행렬 곱 수행 \n",
        "\n",
        "#matrix A, B 형상 출력 => shape\n",
        "print(\"A.shape ==\",A.shape, \", B.shape ==\", B.shape)\n",
        "print(\"C.shape ==\",C.shape)\n",
        "print(C)"
      ],
      "execution_count": 0,
      "outputs": [
        {
          "output_type": "stream",
          "text": [
            "A.shape == (2, 3) , B.shape == (3, 2)\n",
            "C.shape == (2, 2)\n",
            "[[-22 -28]\n",
            " [-49 -64]]\n"
          ],
          "name": "stdout"
        }
      ]
    },
    {
      "metadata": {
        "id": "RK-Hc8Eh1UMl",
        "colab_type": "text"
      },
      "cell_type": "markdown",
      "source": [
        "###라이브러리 -numpy 행렬 곱 (dot product) 2"
      ]
    },
    {
      "metadata": {
        "id": "weiDLY0r1dBP",
        "colab_type": "text"
      },
      "cell_type": "markdown",
      "source": [
        "- 행렬 곱(dot product)\n",
        "\n",
        "=> 행렬 곱은, 행렬의 원소 개수가 같아야만 계산할 수 있는 사칙연산의 한계를 벗어난 1.행령곱 조건을 만족하는 다양한 크기의 행렬을 연속으로 만들고 2. 행렬 곱을 연속으로 계산하면서 3. 결과값을 만들 수 있기 때문에 머신러닝과 이미지 프로세싱 분야에서 자주 사용됨 "
      ]
    },
    {
      "metadata": {
        "id": "eVv-Rfna2Bvi",
        "colab_type": "text"
      },
      "cell_type": "markdown",
      "source": [
        "[예] 입력 행렬 형상이 64×64이고, 결과 행렬 형상이 64×10이라면, 중간에 dot product 를 만족시키는 어떤 형상의 행렬이라도 가질 수 있음. \n",
        "\n",
        "행렬 곱을 사용하지 않고 산술연산만 가능하다면, 입력 행렬의 64×64 크기를 가지는 특성 값 만을 사용해야 하기 때문에 다양한 특성을 갖는 필터 개발이 불가능함."
      ]
    },
    {
      "metadata": {
        "id": "UUq41gAE21Aw",
        "colab_type": "text"
      },
      "cell_type": "markdown",
      "source": [
        "###라이브러리 -numpy broadcast \n",
        "\n",
        "-행렬의 사칙연산은 기본적으로 두 개의 행렬 크기가 같은 경우에만 수행할 수 있음. 그러나 numpy 에서는 크기가 다른 두 행렬간에도 사칙연산(+,-,×,/)을 할 수 있는데 이를 브로드캐스트(broadcast)라고 지칭함\n",
        "\n",
        "=> 차원이 작은 쪽이 큰 쪽의 행 단위로 반복적으로 크기를 맞춘 후에 계산 "
      ]
    },
    {
      "metadata": {
        "id": "aZLEX5e83duU",
        "colab_type": "code",
        "outputId": "401331a3-6edf-48e7-fbcf-5ee93310fa8e",
        "colab": {
          "base_uri": "https://localhost:8080/",
          "height": 51
        }
      },
      "cell_type": "code",
      "source": [
        "A = np.array([[  1,2], [3,4] ]) \n",
        "b =5\n",
        "\n",
        "print(A+b)"
      ],
      "execution_count": 0,
      "outputs": [
        {
          "output_type": "stream",
          "text": [
            "[[6 7]\n",
            " [8 9]]\n"
          ],
          "name": "stdout"
        }
      ]
    },
    {
      "metadata": {
        "id": "v9MRZ9P434jG",
        "colab_type": "code",
        "outputId": "5ebd0efd-0b1d-4342-e5ea-202f9aa3a217",
        "colab": {
          "base_uri": "https://localhost:8080/",
          "height": 51
        }
      },
      "cell_type": "code",
      "source": [
        "C = np.array([ [1,2], [3,4] ]) \n",
        "D = np.array([4,5])\n",
        "\n",
        "print(C+D)\n"
      ],
      "execution_count": 0,
      "outputs": [
        {
          "output_type": "stream",
          "text": [
            "[[5 7]\n",
            " [7 9]]\n"
          ],
          "name": "stdout"
        }
      ]
    },
    {
      "metadata": {
        "id": "J4u9yXCM4Y8L",
        "colab_type": "text"
      },
      "cell_type": "markdown",
      "source": [
        "###라이브러리 -numpy 전치행렬 (transpose)"
      ]
    },
    {
      "metadata": {
        "id": "TyjN5StB4fr8",
        "colab_type": "text"
      },
      "cell_type": "markdown",
      "source": [
        "-전치행렬(transpose)\n",
        "\n",
        "=> 어떤 행렬의 전치행렬(transposed matrix)은 원본 행령의 열은 행으로, 행은 열로 바꾼 것으로서, 원본 행렬을 A라고 하면 전치행렬은 At 로 나타냄.\n",
        "\n",
        "즉, 1행은 1열로 바꾸고 2행은 2열로, 3행은 3열로 바꾼 행렬을 의미 "
      ]
    },
    {
      "metadata": {
        "id": "Vug12da85Krg",
        "colab_type": "code",
        "outputId": "4479e077-92ac-42a2-d376-530b86be76c3",
        "colab": {
          "base_uri": "https://localhost:8080/",
          "height": 119
        }
      },
      "cell_type": "code",
      "source": [
        "A = np.array([[1,2], [3,4], [5,6] ]) # 3×2행렬 \n",
        "\n",
        "B = A.T  #A의 전치행렬, 2×3 행렬\n",
        "print(\"A.shape ==\", A.shape, \", B.shape ==\", B.shape)\n",
        "print(A)\n",
        "print(B)"
      ],
      "execution_count": 0,
      "outputs": [
        {
          "output_type": "stream",
          "text": [
            "A.shape == (3, 2) , B.shape == (2, 3)\n",
            "[[1 2]\n",
            " [3 4]\n",
            " [5 6]]\n",
            "[[1 3 5]\n",
            " [2 4 6]]\n"
          ],
          "name": "stdout"
        }
      ]
    },
    {
      "metadata": {
        "id": "czNgHcfp57Em",
        "colab_type": "code",
        "outputId": "36cf4d51-0276-435b-86cb-8f5a3ed92411",
        "colab": {
          "base_uri": "https://localhost:8080/",
          "height": 136
        }
      },
      "cell_type": "code",
      "source": [
        "# vector 전치행렬 \n",
        "\n",
        "C =np.array([1,2,3,4,5]) #vector matrix 아님 \n",
        "D = C.T  #C는 vector 이므로 transpose 않됨\n",
        "\n",
        "E = C.reshape(1,5)  #1x5 matrix\n",
        "F = E.T #E의 전치행렬 \n",
        "\n",
        "print(\"C.shape ==\", C.shape, \", D.shape ==\", D.shape)\n",
        "print(\"E.shape ==\", E.shape, \", F.shape ==\", F.shape)\n",
        "print(F)"
      ],
      "execution_count": 0,
      "outputs": [
        {
          "output_type": "stream",
          "text": [
            "C.shape == (5,) , D.shape == (5,)\n",
            "E.shape == (1, 5) , F.shape == (5, 1)\n",
            "[[1]\n",
            " [2]\n",
            " [3]\n",
            " [4]\n",
            " [5]]\n"
          ],
          "name": "stdout"
        }
      ]
    },
    {
      "metadata": {
        "id": "KIsC1gAT7IHv",
        "colab_type": "code",
        "colab": {}
      },
      "cell_type": "code",
      "source": [
        "###라이브러리- numpy 행렬 indexing/slicing"
      ],
      "execution_count": 0,
      "outputs": []
    },
    {
      "metadata": {
        "id": "YCNMUe-W7RpG",
        "colab_type": "text"
      },
      "cell_type": "markdown",
      "source": [
        "- 행렬 원소 접근 (1)\n",
        "\n",
        "=> 행렬 원소를 명시적으로(explicit)으로 접근 하기 위해서는 리스트(list)에서처럼, 인덱싱/슬라이싱 모두 사용가능 함. "
      ]
    },
    {
      "metadata": {
        "id": "Xycfiq338Mjq",
        "colab_type": "code",
        "outputId": "cf5c48ba-9293-4ca6-8e51-8383c295d0d2",
        "colab": {
          "base_uri": "https://localhost:8080/",
          "height": 85
        }
      },
      "cell_type": "code",
      "source": [
        "A = np.array ([10,20,30,40,50,60]).\n",
        "reshape(3,2)\n",
        "\n",
        "print(\"A.shape ==\", A.shape)\n",
        "print(A)"
      ],
      "execution_count": 0,
      "outputs": [
        {
          "output_type": "stream",
          "text": [
            "A.shape == (3, 2)\n",
            "[[10 20]\n",
            " [30 40]\n",
            " [50 60]]\n"
          ],
          "name": "stdout"
        }
      ]
    },
    {
      "metadata": {
        "id": "z9Fxb9FC7l9R",
        "colab_type": "text"
      },
      "cell_type": "markdown",
      "source": [
        "[예제 1] A[0,0] 또는 A[0] [0] 은 1행 1열, A[2,1] 또는 A[2] [1] 은 3행 2열임 "
      ]
    },
    {
      "metadata": {
        "id": "MWWbIFBY7koe",
        "colab_type": "code",
        "outputId": "4991ea7b-4151-460e-83b6-b08fa29b2633",
        "colab": {
          "base_uri": "https://localhost:8080/",
          "height": 51
        }
      },
      "cell_type": "code",
      "source": [
        "print(\"A[0,0] ==\", A[0,0], \"A[0][0] ==\", A[0][0])\n",
        "print(\"A[2,1] ==\", A[2,1], \"A[2][1] ==\", A[2][1])\n"
      ],
      "execution_count": 0,
      "outputs": [
        {
          "output_type": "stream",
          "text": [
            "A[0,0] == 10 A[0][0] == 10\n",
            "A[2,1] == 60 A[2][1] == 60\n"
          ],
          "name": "stdout"
        }
      ]
    },
    {
      "metadata": {
        "id": "JdBq24fY9hbg",
        "colab_type": "text"
      },
      "cell_type": "markdown",
      "source": [
        "[예제2] A [: , 0] 은 모든 행 1열을 나타냄 \n",
        "\n",
        "[예제 3] A[0:-1, 1:2] 인덱스 0인 1 행부터, 인덱스 -1-1=-2 인 2행까지의 모든 데이터, 그리거 인덱스 1인 2열부터 인덱스 2-1=1 인 2열까지의 모든 데이터 "
      ]
    },
    {
      "metadata": {
        "id": "meFS9MGx-PDM",
        "colab_type": "code",
        "outputId": "6a60b7e4-7d5f-4c3b-d43d-d68c80d09234",
        "colab": {
          "base_uri": "https://localhost:8080/",
          "height": 51
        }
      },
      "cell_type": "code",
      "source": [
        "print(\"A[0:-1, 1:2] ==\", A[0:-1,1:2])"
      ],
      "execution_count": 0,
      "outputs": [
        {
          "output_type": "stream",
          "text": [
            "A[0:-1, 1:2] == [[20]\n",
            " [40]]\n"
          ],
          "name": "stdout"
        }
      ]
    },
    {
      "metadata": {
        "id": "JZN-t_Mf-gOt",
        "colab_type": "text"
      },
      "cell_type": "markdown",
      "source": [
        "[예제 4] A[ :, : ] 은 모든 행, 모든 열"
      ]
    },
    {
      "metadata": {
        "id": "5kObiQr4-y2d",
        "colab_type": "code",
        "outputId": "16645fec-695a-45d6-e7ce-8db46fc2194c",
        "colab": {
          "base_uri": "https://localhost:8080/",
          "height": 85
        }
      },
      "cell_type": "code",
      "source": [
        "print(\"A[ :, 0] ==\", A[:, 0])\n",
        "print(\"A[ :, :] ==\", A[:, :])"
      ],
      "execution_count": 0,
      "outputs": [
        {
          "output_type": "stream",
          "text": [
            "A[ :, 0] == [10 30 50]\n",
            "A[ :, :] == [[10 20]\n",
            " [30 40]\n",
            " [50 60]]\n"
          ],
          "name": "stdout"
        }
      ]
    },
    {
      "metadata": {
        "id": "9HtEiWYt_Xhp",
        "colab_type": "text"
      },
      "cell_type": "markdown",
      "source": [
        "###라이브러리 -numpy 핼렬 iterator "
      ]
    },
    {
      "metadata": {
        "id": "02cJOPp6_gg8",
        "colab_type": "text"
      },
      "cell_type": "markdown",
      "source": [
        "-행렬 원소 접근 2\n",
        "\n",
        "=> 명시적(explicit) 인덱싱/ 슬라이싱 이외에, 행렬 모든 원소를 access 하는 경우에는 iterator 사용 가능 \n",
        "\n",
        "=> numpy iterator는 C++,Java iterator 처럼 next() 메서드를 통해 데이터 값을 처음부터 끝까지 순차적으로 읽어 들이는 방법을 제공"
      ]
    },
    {
      "metadata": {
        "id": "fy90XAlE_V8f",
        "colab_type": "code",
        "outputId": "299ba010-272f-4457-894a-d90266fa3dc6",
        "colab": {
          "base_uri": "https://localhost:8080/",
          "height": 204
        }
      },
      "cell_type": "code",
      "source": [
        "import numpy as np\n",
        "\n",
        "A = np.array([ [ 10,20,30,40],[50,60,70,80] ])\n",
        "\n",
        "print(A, \"₩n\")\n",
        "print(\"A.shape ==\", A.shape, \"₩n\")\n",
        "\n",
        "#행렬 A 의 iterator 생성 \n",
        "\n",
        "it = np.nditer(A, flags=['multi_index'], op_flags=['readwrite'])\n",
        "\n",
        "while not it.finished:\n",
        "  \n",
        "  idx = it.multi_index\n",
        "    \n",
        "  print(\"current value => \", A[idx])\n",
        "  \n",
        "  it.iternext()"
      ],
      "execution_count": 0,
      "outputs": [
        {
          "output_type": "stream",
          "text": [
            "[[10 20 30 40]\n",
            " [50 60 70 80]] ₩n\n",
            "A.shape == (2, 4) ₩n\n",
            "current value =>  10\n",
            "current value =>  20\n",
            "current value =>  30\n",
            "current value =>  40\n",
            "current value =>  50\n",
            "current value =>  60\n",
            "current value =>  70\n",
            "current value =>  80\n"
          ],
          "name": "stdout"
        }
      ]
    }
  ]
}
