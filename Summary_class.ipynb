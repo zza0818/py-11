{
  "nbformat": 4,
  "nbformat_minor": 0,
  "metadata": {
    "colab": {
      "name": "Summary_class.ipynb",
      "version": "0.3.2",
      "provenance": [],
      "collapsed_sections": [],
      "include_colab_link": true
    },
    "kernelspec": {
      "name": "python3",
      "display_name": "Python 3"
    }
  },
  "cells": [
    {
      "cell_type": "markdown",
      "metadata": {
        "id": "view-in-github",
        "colab_type": "text"
      },
      "source": [
        "[View in Colaboratory](https://colab.research.google.com/github/zza0818/py-11/blob/master/Summary_class.ipynb)"
      ]
    },
    {
      "metadata": {
        "id": "gA4k8yX7wrom",
        "colab_type": "text"
      },
      "cell_type": "markdown",
      "source": [
        "###클래스-class  #파이썬 클래스는 class 키워드를 사용하여 자신만의 데이터타입을 만들 수 있다"
      ]
    },
    {
      "metadata": {
        "id": "1Cpddk9zwmnx",
        "colab_type": "code",
        "colab": {
          "base_uri": "https://localhost:8080/",
          "height": 89
        },
        "outputId": "a7aa01b7-5332-48e7-8fec-be1ca1fe2737"
      },
      "cell_type": "code",
      "source": [
        "class Person:\n",
        "  def __init__(self, name):\n",
        "    self.name = name\n",
        "    print(self.name + \" is initialized\")\n",
        "    \n",
        "  def work(self, company):\n",
        "      print(self.name + \" is working in\" + company)\n",
        "  \n",
        "  def sleep(self):\n",
        "      print(self.name + \" is sleeping\")\n",
        "      \n",
        "# Person instance 2개 생성\n",
        "obj = Person(\"PARK\")\n",
        "\n",
        "#method call\n",
        "obj.work(\"ABCDEF\")\n",
        "obj.sleep()\n",
        "\n",
        "#속성에 직접 접근. 기본적으로 파이썬에서는 모두 public\n",
        "print(\"current person object is\", obj.name)"
      ],
      "execution_count": 2,
      "outputs": [
        {
          "output_type": "stream",
          "text": [
            "PARK is initialized\n",
            "PARK is working inABCDEF\n",
            "PARK is sleeping\n",
            "current person object is PARK\n"
          ],
          "name": "stdout"
        }
      ]
    },
    {
      "metadata": {
        "id": "gqRzWknWx6lO",
        "colab_type": "code",
        "colab": {
          "base_uri": "https://localhost:8080/",
          "height": 143
        },
        "outputId": "d64d92bd-7ef6-410e-f15c-535b51e5156d"
      },
      "cell_type": "code",
      "source": [
        "class Person:\n",
        "  \n",
        "  count = 0  # class variable\n",
        "  \n",
        "  def __init__(self, name):\n",
        "      self.name = name\n",
        "      Person.count += 1 # class 변수 count 증가\n",
        "      print(self.name + \" is initialized\")\n",
        "      \n",
        "  def work(self, company):\n",
        "      print(self.name + \" is working in\" + company)\n",
        "      \n",
        "  def sleep(self):\n",
        "      print(self.name + \" is sleeping\")\n",
        "      \n",
        "  @classmethod\n",
        "  def getCount(cls):     #class method\n",
        "      return cls.count\n",
        "    \n",
        "# Person instance 2개 생성\n",
        "obj1 = Person(\"PARK\")\n",
        "obj2 = Person(\"KIM\")\n",
        "\n",
        "# method call\n",
        "obj1.work(\"ABCDEF\")\n",
        "\n",
        "obj2.sleep()\n",
        "\n",
        "#속성에 직접 접근. 기본적으로 파이썬에서는 모두 public\n",
        "print(\"current person object is\", obj1.name, \",\", obj2.name)\n",
        "\n",
        "#class method 호출\n",
        "print(\"Person count ==\", Person.getCount() )\n",
        "\n",
        "#class variable direct aceess\n",
        "print(Person.count)"
      ],
      "execution_count": 5,
      "outputs": [
        {
          "output_type": "stream",
          "text": [
            "PARK is initialized\n",
            "KIM is initialized\n",
            "PARK is working inABCDEF\n",
            "KIM is sleeping\n",
            "current person object is PARK , KIM\n",
            "Person count == 2\n",
            "2\n"
          ],
          "name": "stdout"
        }
      ]
    },
    {
      "metadata": {
        "id": "_MGaLmHny7Z1",
        "colab_type": "code",
        "colab": {
          "base_uri": "https://localhost:8080/",
          "height": 298
        },
        "outputId": "7c4c02e6-d71d-4a5f-fe88-f917e64370ff"
      },
      "cell_type": "code",
      "source": [
        "class PrivateMemberTest:\n",
        "  \n",
        "  def __init__(self, name1, name2):\n",
        "    \n",
        "      self.name1 = name1\n",
        "      self.__name2 = name2  # private member variable\n",
        "      print(\"initialized\" + name1+\" ,\"+ name2)\n",
        "      \n",
        "  def getNames(self):\n",
        "      self.__printNames()\n",
        "      return self.name1, self.__name2\n",
        "    \n",
        "  def __printNames(self):   #private member method\n",
        "      print(self.name1, self.__name2)\n",
        "      \n",
        "# 인스턴스 생성\n",
        "obj = PrivateMemberTest(\"PARK\", \"KIM\")\n",
        "\n",
        "print(obj.name1)\n",
        "print(obj.getNames())\n",
        "print(obj.__printNames()) #error 발생\n",
        "print(obj.__name2) #error 발생"
      ],
      "execution_count": 8,
      "outputs": [
        {
          "output_type": "stream",
          "text": [
            "initializedPARK ,KIM\n",
            "PARK\n",
            "PARK KIM\n",
            "('PARK', 'KIM')\n"
          ],
          "name": "stdout"
        },
        {
          "output_type": "error",
          "ename": "AttributeError",
          "evalue": "ignored",
          "traceback": [
            "\u001b[0;31m---------------------------------------------------------------------------\u001b[0m",
            "\u001b[0;31mAttributeError\u001b[0m                            Traceback (most recent call last)",
            "\u001b[0;32m<ipython-input-8-325579061b3a>\u001b[0m in \u001b[0;36m<module>\u001b[0;34m()\u001b[0m\n\u001b[1;32m     19\u001b[0m \u001b[0mprint\u001b[0m\u001b[0;34m(\u001b[0m\u001b[0mobj\u001b[0m\u001b[0;34m.\u001b[0m\u001b[0mname1\u001b[0m\u001b[0;34m)\u001b[0m\u001b[0;34m\u001b[0m\u001b[0m\n\u001b[1;32m     20\u001b[0m \u001b[0mprint\u001b[0m\u001b[0;34m(\u001b[0m\u001b[0mobj\u001b[0m\u001b[0;34m.\u001b[0m\u001b[0mgetNames\u001b[0m\u001b[0;34m(\u001b[0m\u001b[0;34m)\u001b[0m\u001b[0;34m)\u001b[0m\u001b[0;34m\u001b[0m\u001b[0m\n\u001b[0;32m---> 21\u001b[0;31m \u001b[0mprint\u001b[0m\u001b[0;34m(\u001b[0m\u001b[0mobj\u001b[0m\u001b[0;34m.\u001b[0m\u001b[0m__printNames\u001b[0m\u001b[0;34m(\u001b[0m\u001b[0;34m)\u001b[0m\u001b[0;34m)\u001b[0m \u001b[0;31m#error 발생\u001b[0m\u001b[0;34m\u001b[0m\u001b[0m\n\u001b[0m\u001b[1;32m     22\u001b[0m \u001b[0mprint\u001b[0m\u001b[0;34m(\u001b[0m\u001b[0mobj\u001b[0m\u001b[0;34m.\u001b[0m\u001b[0m__name2\u001b[0m\u001b[0;34m)\u001b[0m \u001b[0;31m#error 발생\u001b[0m\u001b[0;34m\u001b[0m\u001b[0m\n",
            "\u001b[0;31mAttributeError\u001b[0m: 'PrivateMemberTest' object has no attribute '__printNames'"
          ]
        }
      ]
    },
    {
      "metadata": {
        "id": "NCaFdpd61oT4",
        "colab_type": "code",
        "colab": {
          "base_uri": "https://localhost:8080/",
          "height": 89
        },
        "outputId": "81b90809-97cc-4457-9e2d-4a9291bfc54a"
      },
      "cell_type": "code",
      "source": [
        "def print_name(name):\n",
        "    \n",
        "    print(\"[def] \", name)\n",
        "    \n",
        "class SameTest:\n",
        "  def __init__(self):\n",
        "      # 아무것도 않하기 때문에 pass\n",
        "      pass\n",
        "    \n",
        "    # 외부 함수와 동일한 이름으로 method 정의\n",
        "  def print_name(self, name):\n",
        "        print(\"[SameTest] \", name)\n",
        "        \n",
        "  def call_test(self):\n",
        "      \n",
        "      # 외부 함수 호출\n",
        "      print_name(\"KIM\")\n",
        "      \n",
        "      #클래스 내부 method 호출\n",
        "      self.print_name(\"KIM\")\n",
        "      \n",
        "        \n",
        "    \n",
        "# create SameTest object\n",
        "obj  =  SameTest()\n",
        "\n",
        "#call function print_name\n",
        "print_name(\"LEE\")\n",
        "\n",
        "#call method print_name\n",
        "obj.print_name(\"LEE\")\n",
        "\n",
        "#call method call_test\n",
        "obj.call_test()"
      ],
      "execution_count": 15,
      "outputs": [
        {
          "output_type": "stream",
          "text": [
            "[def]  LEE\n",
            "[SameTest]  LEE\n",
            "[def]  KIM\n",
            "[SameTest]  KIM\n"
          ],
          "name": "stdout"
        }
      ]
    },
    {
      "metadata": {
        "id": "0Sa_02sE4iZS",
        "colab_type": "text"
      },
      "cell_type": "markdown",
      "source": [
        "###예외처리 - exception"
      ]
    },
    {
      "metadata": {
        "id": "uuVxNUr1258C",
        "colab_type": "code",
        "colab": {}
      },
      "cell_type": "code",
      "source": [
        "def calc(list_data):\n",
        "  \n",
        "  sum = 0\n",
        "  \n",
        "  try:\n",
        "      sum = list_data[0] + list_data[1] + list_data[2]\n",
        "      \n",
        "      if sum < 0:\n",
        "          raise Exception(\"Sum is minus\")\n",
        "          \n",
        "  except IndexError as err:\n",
        "      print(str(err))\n",
        "  except Exception as err:\n",
        "      print(str(err))\n",
        "      \n",
        "  finally:\n",
        "      print(sum)"
      ],
      "execution_count": 0,
      "outputs": []
    },
    {
      "metadata": {
        "id": "LwSlF_l75E91",
        "colab_type": "code",
        "colab": {
          "base_uri": "https://localhost:8080/",
          "height": 53
        },
        "outputId": "d901afe1-3034-4fee-d2f1-6911063dc090"
      },
      "cell_type": "code",
      "source": [
        "calc([1 ,2])"
      ],
      "execution_count": 19,
      "outputs": [
        {
          "output_type": "stream",
          "text": [
            "list index out of range\n",
            "0\n"
          ],
          "name": "stdout"
        }
      ]
    },
    {
      "metadata": {
        "id": "7-CpPb9M5HQQ",
        "colab_type": "code",
        "colab": {
          "base_uri": "https://localhost:8080/",
          "height": 53
        },
        "outputId": "35d08ff0-4c54-4c20-ede4-364e47a97df8"
      },
      "cell_type": "code",
      "source": [
        "calc([1,2, -100])"
      ],
      "execution_count": 20,
      "outputs": [
        {
          "output_type": "stream",
          "text": [
            "Sum is minus\n",
            "-97\n"
          ],
          "name": "stdout"
        }
      ]
    },
    {
      "metadata": {
        "id": "V-Pc1LEh5ZNX",
        "colab_type": "text"
      },
      "cell_type": "markdown",
      "source": [
        "### with 구문"
      ]
    },
    {
      "metadata": {
        "id": "gUiGYC4e5QNw",
        "colab_type": "code",
        "colab": {}
      },
      "cell_type": "code",
      "source": [
        "#일반적인 방법\n",
        "\n",
        "f = open(\"./file_test\", 'w')\n",
        "         \n",
        "f.write(\"Hello, Python !!!\")\n",
        "\n",
        "f.close()\n",
        "         \n"
      ],
      "execution_count": 0,
      "outputs": []
    },
    {
      "metadata": {
        "id": "e1SENCt75siF",
        "colab_type": "code",
        "colab": {}
      },
      "cell_type": "code",
      "source": [
        "# with 구문을 사용한 방법\n",
        "# with 블록을 벗어나느 순간 파일 객체 f가 자동으로 close 됨.\n",
        "\n",
        "         \n",
        "with open(\"./file_test\", 'w') as f:\n",
        "  f.write(\"Hello, Python !!!\")"
      ],
      "execution_count": 0,
      "outputs": []
    },
    {
      "metadata": {
        "id": "G1f_JBGD6O5s",
        "colab_type": "code",
        "colab": {}
      },
      "cell_type": "code",
      "source": [
        ""
      ],
      "execution_count": 0,
      "outputs": []
    }
  ]
}