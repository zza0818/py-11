{
  "nbformat": 4,
  "nbformat_minor": 0,
  "metadata": {
    "colab": {
      "name": "wk02_variables.ipynb",
      "version": "0.3.2",
      "provenance": [],
      "collapsed_sections": [
        "zQsjzjGf1ldR",
        "wV_ML1Ka11hO",
        "eSc2BvQr3bPP",
        "aHcgl22k5HKB"
      ],
      "include_colab_link": true
    },
    "kernelspec": {
      "name": "python3",
      "display_name": "Python 3"
    }
  },
  "cells": [
    {
      "cell_type": "markdown",
      "metadata": {
        "id": "view-in-github",
        "colab_type": "text"
      },
      "source": [
        "[View in Colaboratory](https://colab.research.google.com/github/zza0818/py-11/blob/master/wk02_variables.ipynb)"
      ]
    },
    {
      "metadata": {
        "id": "MI1W91ee79If",
        "colab_type": "toc"
      },
      "cell_type": "markdown",
      "source": [
        ">>>[변수(variables)](#updateTitle=true&folderId=1tvgdAt2XY6dGdMtIZgQLaa5OCew9-A_5&scrollTo=Ee3bYZB9qZKM)\n",
        "\n",
        ">>>[User imput](#updateTitle=true&folderId=1tvgdAt2XY6dGdMtIZgQLaa5OCew9-A_5&scrollTo=zQsjzjGf1ldR)\n",
        "\n",
        ">>>[Code block & Indentation](#updateTitle=true&folderId=1tvgdAt2XY6dGdMtIZgQLaa5OCew9-A_5&scrollTo=wV_ML1Ka11hO)\n",
        "\n",
        ">>>[도전 코딩1. BMI = M/H**2, (M(kg), H(m))](#updateTitle=true&folderId=1tvgdAt2XY6dGdMtIZgQLaa5OCew9-A_5&scrollTo=eSc2BvQr3bPP)\n",
        "\n",
        ">>>[도전 코딩2.Fat burning](#updateTitle=true&folderId=1tvgdAt2XY6dGdMtIZgQLaa5OCew9-A_5&scrollTo=aHcgl22k5HKB)\n",
        "\n"
      ]
    },
    {
      "metadata": {
        "id": "Ee3bYZB9qZKM",
        "colab_type": "text"
      },
      "cell_type": "markdown",
      "source": [
        "###변수(variables)\n"
      ]
    },
    {
      "metadata": {
        "id": "VRkQt7-ip5qZ",
        "colab_type": "code",
        "colab": {
          "base_uri": "https://localhost:8080/",
          "height": 35
        },
        "outputId": "80a00b05-8f79-4cd2-cb78-bb7929a53fc1"
      },
      "cell_type": "code",
      "source": [
        "5-5+1+9"
      ],
      "execution_count": 0,
      "outputs": [
        {
          "output_type": "execute_result",
          "data": {
            "text/plain": [
              "10"
            ]
          },
          "metadata": {
            "tags": []
          },
          "execution_count": 1
        }
      ]
    },
    {
      "metadata": {
        "id": "zSug2OJCqxI9",
        "colab_type": "code",
        "colab": {
          "base_uri": "https://localhost:8080/",
          "height": 35
        },
        "outputId": "c1a6b3df-0e38-40c5-9025-3d40c703b3c7"
      },
      "cell_type": "code",
      "source": [
        "5/5/3+9"
      ],
      "execution_count": 0,
      "outputs": [
        {
          "output_type": "execute_result",
          "data": {
            "text/plain": [
              "9.333333333333334"
            ]
          },
          "metadata": {
            "tags": []
          },
          "execution_count": 2
        }
      ]
    },
    {
      "metadata": {
        "id": "15FvCNOZq2QR",
        "colab_type": "code",
        "colab": {
          "base_uri": "https://localhost:8080/",
          "height": 35
        },
        "outputId": "ddfd20b7-583b-4fa7-cb54-fe04d5be1193"
      },
      "cell_type": "code",
      "source": [
        "5/(5/3)+9"
      ],
      "execution_count": 0,
      "outputs": [
        {
          "output_type": "execute_result",
          "data": {
            "text/plain": [
              "12.0"
            ]
          },
          "metadata": {
            "tags": []
          },
          "execution_count": 4
        }
      ]
    },
    {
      "metadata": {
        "id": "3Ec5ntYFrJu2",
        "colab_type": "code",
        "colab": {
          "base_uri": "https://localhost:8080/",
          "height": 35
        },
        "outputId": "f98a8a7c-b580-463b-c49c-795dad658454"
      },
      "cell_type": "code",
      "source": [
        "5/5*1+9"
      ],
      "execution_count": 0,
      "outputs": [
        {
          "output_type": "execute_result",
          "data": {
            "text/plain": [
              "10.0"
            ]
          },
          "metadata": {
            "tags": []
          },
          "execution_count": 5
        }
      ]
    },
    {
      "metadata": {
        "id": "2221lP6vrbnm",
        "colab_type": "code",
        "colab": {
          "base_uri": "https://localhost:8080/",
          "height": 35
        },
        "outputId": "bf59c1ba-dced-49f8-ff38-cab29ff5016f"
      },
      "cell_type": "code",
      "source": [
        "5/5*(1+9)"
      ],
      "execution_count": 0,
      "outputs": [
        {
          "output_type": "execute_result",
          "data": {
            "text/plain": [
              "10.0"
            ]
          },
          "metadata": {
            "tags": []
          },
          "execution_count": 6
        }
      ]
    },
    {
      "metadata": {
        "id": "KY6lSP2FrhHp",
        "colab_type": "code",
        "colab": {}
      },
      "cell_type": "code",
      "source": [
        "some_var = 100"
      ],
      "execution_count": 0,
      "outputs": []
    },
    {
      "metadata": {
        "id": "0vrxfqvAsTAD",
        "colab_type": "code",
        "colab": {}
      },
      "cell_type": "code",
      "source": [
        "some_var=\"강남스타일\"\n"
      ],
      "execution_count": 0,
      "outputs": []
    },
    {
      "metadata": {
        "id": "DRArBSx9sd05",
        "colab_type": "code",
        "colab": {
          "base_uri": "https://localhost:8080/",
          "height": 35
        },
        "outputId": "8c5ce3f7-7eb2-454a-ac6c-0e05a4c3a8e7"
      },
      "cell_type": "code",
      "source": [
        "some_var"
      ],
      "execution_count": 0,
      "outputs": [
        {
          "output_type": "execute_result",
          "data": {
            "text/plain": [
              "'강남스타일'"
            ]
          },
          "metadata": {
            "tags": []
          },
          "execution_count": 9
        }
      ]
    },
    {
      "metadata": {
        "id": "hqSgY0SSsf5t",
        "colab_type": "code",
        "colab": {}
      },
      "cell_type": "code",
      "source": [
        "psy= \"오빤 강남스타일 \""
      ],
      "execution_count": 0,
      "outputs": []
    },
    {
      "metadata": {
        "id": "Im5JufERszp9",
        "colab_type": "code",
        "colab": {
          "base_uri": "https://localhost:8080/",
          "height": 35
        },
        "outputId": "4ec13d82-7cc2-4fc4-95cd-5b2878224583"
      },
      "cell_type": "code",
      "source": [
        "psy = \"오빤 강남스타일 \"\n",
        "psy = psy +\"오, 강남스타일\"\n",
        "psy"
      ],
      "execution_count": 0,
      "outputs": [
        {
          "output_type": "execute_result",
          "data": {
            "text/plain": [
              "'오빤 강남스타일 오, 강남스타일'"
            ]
          },
          "metadata": {
            "tags": []
          },
          "execution_count": 11
        }
      ]
    },
    {
      "metadata": {
        "id": "g4wqM8OstA9s",
        "colab_type": "code",
        "colab": {
          "base_uri": "https://localhost:8080/",
          "height": 35
        },
        "outputId": "4286edd1-6aa3-45b9-c91f-399b245b78d7"
      },
      "cell_type": "code",
      "source": [
        "psy2 = \"아름다워 사랑스러워 \"\n",
        "psy2 += \"그래 너, 그래 바로 너\"\n",
        "psy2"
      ],
      "execution_count": 0,
      "outputs": [
        {
          "output_type": "execute_result",
          "data": {
            "text/plain": [
              "'아름다워 사랑스러워 그래 너, 그래 바로 너'"
            ]
          },
          "metadata": {
            "tags": []
          },
          "execution_count": 12
        }
      ]
    },
    {
      "metadata": {
        "id": "SjdaF4VntK9Y",
        "colab_type": "code",
        "colab": {
          "base_uri": "https://localhost:8080/",
          "height": 35
        },
        "outputId": "6b0031e3-20a2-404d-d90a-a77720996c6f"
      },
      "cell_type": "code",
      "source": [
        "psy = \"\"\" 낮에는 따사로운 인간적인 여자\n",
        "커피 한잔의 여유를 아는 품격있는 여자\n",
        "밤이 오면 심장이 뜨거워지는 여자 그런 반전 있는 여자\"\"\"\n",
        "psy"
      ],
      "execution_count": 0,
      "outputs": [
        {
          "output_type": "execute_result",
          "data": {
            "text/plain": [
              "' 낮에는 따사로운 인간적인 여자\\n커피 한잔의 여유를 아는 품격있는 여자\\n밤이 오면 심장이 뜨거워지는 여자 그런 반전 있는 여자'"
            ]
          },
          "metadata": {
            "tags": []
          },
          "execution_count": 13
        }
      ]
    },
    {
      "metadata": {
        "id": "5xavjFbKttoG",
        "colab_type": "code",
        "colab": {
          "base_uri": "https://localhost:8080/",
          "height": 71
        },
        "outputId": "c15f907b-9415-40ef-9dd1-920dbd2f0795"
      },
      "cell_type": "code",
      "source": [
        "print(psy)"
      ],
      "execution_count": 0,
      "outputs": [
        {
          "output_type": "stream",
          "text": [
            " 낮에는 따사로운 인간적인 여자\n",
            "커피 한잔의 여유를 아는 품격있는 여자\n",
            "밤이 오면 심장이 뜨거워지는 여자 그런 반전 있는 여자\n"
          ],
          "name": "stdout"
        }
      ]
    },
    {
      "metadata": {
        "id": "MOBRRakKt2ew",
        "colab_type": "code",
        "colab": {
          "base_uri": "https://localhost:8080/",
          "height": 35
        },
        "outputId": "b577004e-d09f-4d5b-aed2-812a474f20fe"
      },
      "cell_type": "code",
      "source": [
        "sum = 10 + 20 +\\\n",
        "30+ 40\n",
        "sum"
      ],
      "execution_count": 0,
      "outputs": [
        {
          "output_type": "execute_result",
          "data": {
            "text/plain": [
              "100"
            ]
          },
          "metadata": {
            "tags": []
          },
          "execution_count": 15
        }
      ]
    },
    {
      "metadata": {
        "id": "8LaQsxTruLmn",
        "colab_type": "code",
        "colab": {
          "base_uri": "https://localhost:8080/",
          "height": 208
        },
        "outputId": "15e2a843-731f-461e-840d-2b808ea73fc5"
      },
      "cell_type": "code",
      "source": [
        "day = 3\n",
        "date = day + \"일\"\n",
        "print(date)"
      ],
      "execution_count": 0,
      "outputs": [
        {
          "output_type": "error",
          "ename": "TypeError",
          "evalue": "ignored",
          "traceback": [
            "\u001b[0;31m---------------------------------------------------------------------------\u001b[0m",
            "\u001b[0;31mTypeError\u001b[0m                                 Traceback (most recent call last)",
            "\u001b[0;32m<ipython-input-16-38f4d1660bd9>\u001b[0m in \u001b[0;36m<module>\u001b[0;34m()\u001b[0m\n\u001b[1;32m      1\u001b[0m \u001b[0mday\u001b[0m \u001b[0;34m=\u001b[0m \u001b[0;36m3\u001b[0m\u001b[0;34m\u001b[0m\u001b[0m\n\u001b[0;32m----> 2\u001b[0;31m \u001b[0mdate\u001b[0m \u001b[0;34m=\u001b[0m \u001b[0mday\u001b[0m \u001b[0;34m+\u001b[0m \u001b[0;34m\"일\"\u001b[0m\u001b[0;34m\u001b[0m\u001b[0m\n\u001b[0m\u001b[1;32m      3\u001b[0m \u001b[0mprint\u001b[0m\u001b[0;34m(\u001b[0m\u001b[0mdate\u001b[0m\u001b[0;34m)\u001b[0m\u001b[0;34m\u001b[0m\u001b[0m\n",
            "\u001b[0;31mTypeError\u001b[0m: unsupported operand type(s) for +: 'int' and 'str'"
          ]
        }
      ]
    },
    {
      "metadata": {
        "id": "Ntt_AtGxufs5",
        "colab_type": "code",
        "colab": {
          "base_uri": "https://localhost:8080/",
          "height": 35
        },
        "outputId": "301cae2e-db7d-4aaa-ac93-92052ad6a1d5"
      },
      "cell_type": "code",
      "source": [
        "date = str(day) + \"일\"\n",
        "print(date)"
      ],
      "execution_count": 0,
      "outputs": [
        {
          "output_type": "stream",
          "text": [
            "3일\n"
          ],
          "name": "stdout"
        }
      ]
    },
    {
      "metadata": {
        "id": "iQ2jyEshuy7L",
        "colab_type": "code",
        "colab": {
          "base_uri": "https://localhost:8080/",
          "height": 35
        },
        "outputId": "e4d67fd2-2ed9-4143-ca45-75822d541553"
      },
      "cell_type": "code",
      "source": [
        "day = 3\n",
        "str_day =str(day)\n",
        "date = str_day + \"일\"\n",
        "print(date)"
      ],
      "execution_count": 0,
      "outputs": [
        {
          "output_type": "stream",
          "text": [
            "3일\n"
          ],
          "name": "stdout"
        }
      ]
    },
    {
      "metadata": {
        "id": "f1alJGx7vJwg",
        "colab_type": "code",
        "colab": {
          "base_uri": "https://localhost:8080/",
          "height": 35
        },
        "outputId": "9c9aae82-45fa-4489-b804-4ae3e7514602"
      },
      "cell_type": "code",
      "source": [
        "type(day),type(str_day),type(date)"
      ],
      "execution_count": 0,
      "outputs": [
        {
          "output_type": "execute_result",
          "data": {
            "text/plain": [
              "(int, str, str)"
            ]
          },
          "metadata": {
            "tags": []
          },
          "execution_count": 19
        }
      ]
    },
    {
      "metadata": {
        "id": "nV7kGrpYvkot",
        "colab_type": "code",
        "colab": {
          "base_uri": "https://localhost:8080/",
          "height": 1241
        },
        "outputId": "e56fd6a0-89f9-4158-e0c2-0f565f2a6771"
      },
      "cell_type": "code",
      "source": [
        "dir()"
      ],
      "execution_count": 0,
      "outputs": [
        {
          "output_type": "execute_result",
          "data": {
            "text/plain": [
              "['In',\n",
              " 'Out',\n",
              " '_',\n",
              " '_1',\n",
              " '_11',\n",
              " '_12',\n",
              " '_13',\n",
              " '_15',\n",
              " '_19',\n",
              " '_2',\n",
              " '_3',\n",
              " '_4',\n",
              " '_5',\n",
              " '_6',\n",
              " '_9',\n",
              " '_TensorFlowImportHook',\n",
              " '__',\n",
              " '___',\n",
              " '__builtin__',\n",
              " '__builtins__',\n",
              " '__doc__',\n",
              " '__loader__',\n",
              " '__name__',\n",
              " '__package__',\n",
              " '__spec__',\n",
              " '_dh',\n",
              " '_i',\n",
              " '_i1',\n",
              " '_i10',\n",
              " '_i11',\n",
              " '_i12',\n",
              " '_i13',\n",
              " '_i14',\n",
              " '_i15',\n",
              " '_i16',\n",
              " '_i17',\n",
              " '_i18',\n",
              " '_i19',\n",
              " '_i2',\n",
              " '_i20',\n",
              " '_i3',\n",
              " '_i4',\n",
              " '_i5',\n",
              " '_i6',\n",
              " '_i7',\n",
              " '_i8',\n",
              " '_i9',\n",
              " '_ih',\n",
              " '_ii',\n",
              " '_iii',\n",
              " '_oh',\n",
              " '_sh',\n",
              " 'date',\n",
              " 'datetime',\n",
              " 'day',\n",
              " 'exit',\n",
              " 'get_ipython',\n",
              " 'imp',\n",
              " 'logging',\n",
              " 'os',\n",
              " 'psy',\n",
              " 'psy2',\n",
              " 'quit',\n",
              " 'register_hook',\n",
              " 'some_var',\n",
              " 'str_day',\n",
              " 'sum',\n",
              " 'sys']"
            ]
          },
          "metadata": {
            "tags": []
          },
          "execution_count": 20
        }
      ]
    },
    {
      "metadata": {
        "id": "H1i2lOGrvj5S",
        "colab_type": "code",
        "colab": {}
      },
      "cell_type": "code",
      "source": [
        "num = int(\"31\")\n",
        "pi= float('3.141592')"
      ],
      "execution_count": 0,
      "outputs": []
    },
    {
      "metadata": {
        "id": "OnEPzqEYwsJf",
        "colab_type": "code",
        "colab": {
          "base_uri": "https://localhost:8080/",
          "height": 35
        },
        "outputId": "2498cb84-2b77-4ac9-eee0-56291e5db1a1"
      },
      "cell_type": "code",
      "source": [
        "num"
      ],
      "execution_count": 0,
      "outputs": [
        {
          "output_type": "execute_result",
          "data": {
            "text/plain": [
              "31"
            ]
          },
          "metadata": {
            "tags": []
          },
          "execution_count": 23
        }
      ]
    },
    {
      "metadata": {
        "id": "XyXTnBZmwydU",
        "colab_type": "code",
        "colab": {
          "base_uri": "https://localhost:8080/",
          "height": 172
        },
        "outputId": "8f748265-6a30-4d0b-cf8c-84fd10d86a2f"
      },
      "cell_type": "code",
      "source": [
        "pi.float"
      ],
      "execution_count": 0,
      "outputs": [
        {
          "output_type": "error",
          "ename": "AttributeError",
          "evalue": "ignored",
          "traceback": [
            "\u001b[0;31m---------------------------------------------------------------------------\u001b[0m",
            "\u001b[0;31mAttributeError\u001b[0m                            Traceback (most recent call last)",
            "\u001b[0;32m<ipython-input-24-431adaa41311>\u001b[0m in \u001b[0;36m<module>\u001b[0;34m()\u001b[0m\n\u001b[0;32m----> 1\u001b[0;31m \u001b[0mpi\u001b[0m\u001b[0;34m.\u001b[0m\u001b[0mfloat\u001b[0m\u001b[0;34m\u001b[0m\u001b[0m\n\u001b[0m",
            "\u001b[0;31mAttributeError\u001b[0m: 'float' object has no attribute 'float'"
          ]
        }
      ]
    },
    {
      "metadata": {
        "id": "Et3iToYHw5zI",
        "colab_type": "code",
        "colab": {
          "base_uri": "https://localhost:8080/",
          "height": 172
        },
        "outputId": "300dbf9e-7c84-4ad5-8fcc-f2987bc6ff73"
      },
      "cell_type": "code",
      "source": [
        "pi.date"
      ],
      "execution_count": 0,
      "outputs": [
        {
          "output_type": "error",
          "ename": "AttributeError",
          "evalue": "ignored",
          "traceback": [
            "\u001b[0;31m---------------------------------------------------------------------------\u001b[0m",
            "\u001b[0;31mAttributeError\u001b[0m                            Traceback (most recent call last)",
            "\u001b[0;32m<ipython-input-25-2af18fb94aee>\u001b[0m in \u001b[0;36m<module>\u001b[0;34m()\u001b[0m\n\u001b[0;32m----> 1\u001b[0;31m \u001b[0mpi\u001b[0m\u001b[0;34m.\u001b[0m\u001b[0mdate\u001b[0m\u001b[0;34m\u001b[0m\u001b[0m\n\u001b[0m",
            "\u001b[0;31mAttributeError\u001b[0m: 'float' object has no attribute 'date'"
          ]
        }
      ]
    },
    {
      "metadata": {
        "id": "2PQdsACGw7np",
        "colab_type": "code",
        "colab": {
          "base_uri": "https://localhost:8080/",
          "height": 172
        },
        "outputId": "e006f559-c2fb-437a-a0d4-ab4fdf2fc34b"
      },
      "cell_type": "code",
      "source": [
        "pi.type(pi)"
      ],
      "execution_count": 0,
      "outputs": [
        {
          "output_type": "error",
          "ename": "AttributeError",
          "evalue": "ignored",
          "traceback": [
            "\u001b[0;31m---------------------------------------------------------------------------\u001b[0m",
            "\u001b[0;31mAttributeError\u001b[0m                            Traceback (most recent call last)",
            "\u001b[0;32m<ipython-input-26-6e778fab3805>\u001b[0m in \u001b[0;36m<module>\u001b[0;34m()\u001b[0m\n\u001b[0;32m----> 1\u001b[0;31m \u001b[0mpi\u001b[0m\u001b[0;34m.\u001b[0m\u001b[0mtype\u001b[0m\u001b[0;34m(\u001b[0m\u001b[0mpi\u001b[0m\u001b[0;34m)\u001b[0m\u001b[0;34m\u001b[0m\u001b[0m\n\u001b[0m",
            "\u001b[0;31mAttributeError\u001b[0m: 'float' object has no attribute 'type'"
          ]
        }
      ]
    },
    {
      "metadata": {
        "id": "TL-S2w06xABO",
        "colab_type": "code",
        "colab": {
          "base_uri": "https://localhost:8080/",
          "height": 172
        },
        "outputId": "b16061f4-b602-4ade-ee9a-62edd248d5ed"
      },
      "cell_type": "code",
      "source": [
        "pi.type(pi)"
      ],
      "execution_count": 0,
      "outputs": [
        {
          "output_type": "error",
          "ename": "AttributeError",
          "evalue": "ignored",
          "traceback": [
            "\u001b[0;31m---------------------------------------------------------------------------\u001b[0m",
            "\u001b[0;31mAttributeError\u001b[0m                            Traceback (most recent call last)",
            "\u001b[0;32m<ipython-input-27-6e778fab3805>\u001b[0m in \u001b[0;36m<module>\u001b[0;34m()\u001b[0m\n\u001b[0;32m----> 1\u001b[0;31m \u001b[0mpi\u001b[0m\u001b[0;34m.\u001b[0m\u001b[0mtype\u001b[0m\u001b[0;34m(\u001b[0m\u001b[0mpi\u001b[0m\u001b[0;34m)\u001b[0m\u001b[0;34m\u001b[0m\u001b[0m\n\u001b[0m",
            "\u001b[0;31mAttributeError\u001b[0m: 'float' object has no attribute 'type'"
          ]
        }
      ]
    },
    {
      "metadata": {
        "id": "enbmolWsxIck",
        "colab_type": "code",
        "colab": {
          "base_uri": "https://localhost:8080/",
          "height": 35
        },
        "outputId": "e1e3510c-db70-4a0a-fb6c-e35bdc5aac3e"
      },
      "cell_type": "code",
      "source": [
        "pi,type(pi)"
      ],
      "execution_count": 0,
      "outputs": [
        {
          "output_type": "execute_result",
          "data": {
            "text/plain": [
              "(3.141592, float)"
            ]
          },
          "metadata": {
            "tags": []
          },
          "execution_count": 28
        }
      ]
    },
    {
      "metadata": {
        "id": "dTxxD8VVxN-B",
        "colab_type": "code",
        "colab": {
          "base_uri": "https://localhost:8080/",
          "height": 172
        },
        "outputId": "3b30f27c-5392-4d70-cc0a-2a3bcd1910e3"
      },
      "cell_type": "code",
      "source": [
        "print(\"num = {}, pi = {}\",format(num,pi))"
      ],
      "execution_count": 0,
      "outputs": [
        {
          "output_type": "error",
          "ename": "TypeError",
          "evalue": "ignored",
          "traceback": [
            "\u001b[0;31m---------------------------------------------------------------------------\u001b[0m",
            "\u001b[0;31mTypeError\u001b[0m                                 Traceback (most recent call last)",
            "\u001b[0;32m<ipython-input-29-02230ade7ec0>\u001b[0m in \u001b[0;36m<module>\u001b[0;34m()\u001b[0m\n\u001b[0;32m----> 1\u001b[0;31m \u001b[0mprint\u001b[0m\u001b[0;34m(\u001b[0m\u001b[0;34m\"num = {}, pi = {}\"\u001b[0m\u001b[0;34m,\u001b[0m\u001b[0mformat\u001b[0m\u001b[0;34m(\u001b[0m\u001b[0mnum\u001b[0m\u001b[0;34m,\u001b[0m\u001b[0mpi\u001b[0m\u001b[0;34m)\u001b[0m\u001b[0;34m)\u001b[0m\u001b[0;34m\u001b[0m\u001b[0m\n\u001b[0m",
            "\u001b[0;31mTypeError\u001b[0m: format() argument 2 must be str, not float"
          ]
        }
      ]
    },
    {
      "metadata": {
        "id": "2drB3MZ7xXIk",
        "colab_type": "code",
        "colab": {
          "base_uri": "https://localhost:8080/",
          "height": 35
        },
        "outputId": "dd27fb7f-0d38-4fde-cc4a-80be6b8e4a55"
      },
      "cell_type": "code",
      "source": [
        "print(\"num = {},pi = {}\".format(num,pi))"
      ],
      "execution_count": 0,
      "outputs": [
        {
          "output_type": "stream",
          "text": [
            "num = 31,pi = 3.141592\n"
          ],
          "name": "stdout"
        }
      ]
    },
    {
      "metadata": {
        "id": "HYmHtAUBxhH2",
        "colab_type": "code",
        "colab": {
          "base_uri": "https://localhost:8080/",
          "height": 172
        },
        "outputId": "f5e185eb-db35-4f68-a0fc-e05982e11626"
      },
      "cell_type": "code",
      "source": [
        "len(keyword.kwlist)"
      ],
      "execution_count": 0,
      "outputs": [
        {
          "output_type": "error",
          "ename": "NameError",
          "evalue": "ignored",
          "traceback": [
            "\u001b[0;31m---------------------------------------------------------------------------\u001b[0m",
            "\u001b[0;31mNameError\u001b[0m                                 Traceback (most recent call last)",
            "\u001b[0;32m<ipython-input-31-913501d99a11>\u001b[0m in \u001b[0;36m<module>\u001b[0;34m()\u001b[0m\n\u001b[0;32m----> 1\u001b[0;31m \u001b[0mlen\u001b[0m\u001b[0;34m(\u001b[0m\u001b[0mkeyword\u001b[0m\u001b[0;34m.\u001b[0m\u001b[0mkwlist\u001b[0m\u001b[0;34m)\u001b[0m\u001b[0;34m\u001b[0m\u001b[0m\n\u001b[0m",
            "\u001b[0;31mNameError\u001b[0m: name 'keyword' is not defined"
          ]
        }
      ]
    },
    {
      "metadata": {
        "id": "os4aWPY80krk",
        "colab_type": "code",
        "colab": {
          "base_uri": "https://localhost:8080/",
          "height": 172
        },
        "outputId": "86b2f485-7c86-48c6-c37d-f2299d26d6e7"
      },
      "cell_type": "code",
      "source": [
        "Ien(keyword.kwlist)"
      ],
      "execution_count": 0,
      "outputs": [
        {
          "output_type": "error",
          "ename": "NameError",
          "evalue": "ignored",
          "traceback": [
            "\u001b[0;31m---------------------------------------------------------------------------\u001b[0m",
            "\u001b[0;31mNameError\u001b[0m                                 Traceback (most recent call last)",
            "\u001b[0;32m<ipython-input-32-1c295d8d005e>\u001b[0m in \u001b[0;36m<module>\u001b[0;34m()\u001b[0m\n\u001b[0;32m----> 1\u001b[0;31m \u001b[0mIen\u001b[0m\u001b[0;34m(\u001b[0m\u001b[0mkeyword\u001b[0m\u001b[0;34m.\u001b[0m\u001b[0mkwlist\u001b[0m\u001b[0;34m)\u001b[0m\u001b[0;34m\u001b[0m\u001b[0m\n\u001b[0m",
            "\u001b[0;31mNameError\u001b[0m: name 'Ien' is not defined"
          ]
        }
      ]
    },
    {
      "metadata": {
        "id": "qKsT1sN40oMx",
        "colab_type": "code",
        "colab": {
          "base_uri": "https://localhost:8080/",
          "height": 172
        },
        "outputId": "cd50e2c1-6fcc-423b-92fd-2706ebe20e38"
      },
      "cell_type": "code",
      "source": [
        "len(keyword,kwlist)"
      ],
      "execution_count": 0,
      "outputs": [
        {
          "output_type": "error",
          "ename": "NameError",
          "evalue": "ignored",
          "traceback": [
            "\u001b[0;31m---------------------------------------------------------------------------\u001b[0m",
            "\u001b[0;31mNameError\u001b[0m                                 Traceback (most recent call last)",
            "\u001b[0;32m<ipython-input-33-e1fe44de7707>\u001b[0m in \u001b[0;36m<module>\u001b[0;34m()\u001b[0m\n\u001b[0;32m----> 1\u001b[0;31m \u001b[0mlen\u001b[0m\u001b[0;34m(\u001b[0m\u001b[0mkeyword\u001b[0m\u001b[0;34m,\u001b[0m\u001b[0mkwlist\u001b[0m\u001b[0;34m)\u001b[0m\u001b[0;34m\u001b[0m\u001b[0m\n\u001b[0m",
            "\u001b[0;31mNameError\u001b[0m: name 'keyword' is not defined"
          ]
        }
      ]
    },
    {
      "metadata": {
        "id": "q-f_6KgG0rwK",
        "colab_type": "code",
        "colab": {}
      },
      "cell_type": "code",
      "source": [
        "import keyword"
      ],
      "execution_count": 0,
      "outputs": []
    },
    {
      "metadata": {
        "id": "NzMVkwot0uXY",
        "colab_type": "code",
        "colab": {
          "base_uri": "https://localhost:8080/",
          "height": 35
        },
        "outputId": "74a1354a-3706-43e6-99ba-1e0cffb9249f"
      },
      "cell_type": "code",
      "source": [
        "len(keyword.kwlist)"
      ],
      "execution_count": 0,
      "outputs": [
        {
          "output_type": "execute_result",
          "data": {
            "text/plain": [
              "33"
            ]
          },
          "metadata": {
            "tags": []
          },
          "execution_count": 35
        }
      ]
    },
    {
      "metadata": {
        "id": "kaVLI2dV0xlA",
        "colab_type": "code",
        "colab": {
          "base_uri": "https://localhost:8080/",
          "height": 35
        },
        "outputId": "65ae0e7b-0a3b-4db9-b7c7-969731097800"
      },
      "cell_type": "code",
      "source": [
        "keyword"
      ],
      "execution_count": 0,
      "outputs": [
        {
          "output_type": "execute_result",
          "data": {
            "text/plain": [
              "<module 'keyword' from '/usr/lib/python3.6/keyword.py'>"
            ]
          },
          "metadata": {
            "tags": []
          },
          "execution_count": 36
        }
      ]
    },
    {
      "metadata": {
        "id": "PNG5F0uD04qq",
        "colab_type": "code",
        "colab": {
          "base_uri": "https://localhost:8080/",
          "height": 611
        },
        "outputId": "69928575-365e-4eb6-ef35-09eba44c5951"
      },
      "cell_type": "code",
      "source": [
        "keyword.kwlist"
      ],
      "execution_count": 0,
      "outputs": [
        {
          "output_type": "execute_result",
          "data": {
            "text/plain": [
              "['False',\n",
              " 'None',\n",
              " 'True',\n",
              " 'and',\n",
              " 'as',\n",
              " 'assert',\n",
              " 'break',\n",
              " 'class',\n",
              " 'continue',\n",
              " 'def',\n",
              " 'del',\n",
              " 'elif',\n",
              " 'else',\n",
              " 'except',\n",
              " 'finally',\n",
              " 'for',\n",
              " 'from',\n",
              " 'global',\n",
              " 'if',\n",
              " 'import',\n",
              " 'in',\n",
              " 'is',\n",
              " 'lambda',\n",
              " 'nonlocal',\n",
              " 'not',\n",
              " 'or',\n",
              " 'pass',\n",
              " 'raise',\n",
              " 'return',\n",
              " 'try',\n",
              " 'while',\n",
              " 'with',\n",
              " 'yield']"
            ]
          },
          "metadata": {
            "tags": []
          },
          "execution_count": 37
        }
      ]
    },
    {
      "metadata": {
        "id": "I_HsER9u08AN",
        "colab_type": "code",
        "colab": {
          "base_uri": "https://localhost:8080/",
          "height": 136
        },
        "outputId": "fad7ce1f-3a61-4b0a-91b1-535a1e377776"
      },
      "cell_type": "code",
      "source": [
        "as = \"inje\""
      ],
      "execution_count": 0,
      "outputs": [
        {
          "output_type": "error",
          "ename": "SyntaxError",
          "evalue": "ignored",
          "traceback": [
            "\u001b[0;36m  File \u001b[0;32m\"<ipython-input-38-e77f5820d78a>\"\u001b[0;36m, line \u001b[0;32m1\u001b[0m\n\u001b[0;31m    as = \"inje\"\u001b[0m\n\u001b[0m     ^\u001b[0m\n\u001b[0;31mSyntaxError\u001b[0m\u001b[0;31m:\u001b[0m invalid syntax\n"
          ]
        }
      ]
    },
    {
      "metadata": {
        "id": "L5Ux0YbE1M8b",
        "colab_type": "code",
        "colab": {
          "base_uri": "https://localhost:8080/",
          "height": 136
        },
        "outputId": "8786ed57-5029-4a2b-e82c-fc992e1b0caa"
      },
      "cell_type": "code",
      "source": [
        "_as = \"inje\n",
        "_as\""
      ],
      "execution_count": 0,
      "outputs": [
        {
          "output_type": "error",
          "ename": "SyntaxError",
          "evalue": "ignored",
          "traceback": [
            "\u001b[0;36m  File \u001b[0;32m\"<ipython-input-39-5d54a6da4aa1>\"\u001b[0;36m, line \u001b[0;32m1\u001b[0m\n\u001b[0;31m    _as = \"inje\u001b[0m\n\u001b[0m               ^\u001b[0m\n\u001b[0;31mSyntaxError\u001b[0m\u001b[0;31m:\u001b[0m EOL while scanning string literal\n"
          ]
        }
      ]
    },
    {
      "metadata": {
        "id": "seEPIAAm1Z5H",
        "colab_type": "code",
        "colab": {
          "base_uri": "https://localhost:8080/",
          "height": 35
        },
        "outputId": "a5e2588d-7380-4814-cbd4-9ba08550bfaa"
      },
      "cell_type": "code",
      "source": [
        "_as = \"inje\"\n",
        "_as"
      ],
      "execution_count": 0,
      "outputs": [
        {
          "output_type": "execute_result",
          "data": {
            "text/plain": [
              "'inje'"
            ]
          },
          "metadata": {
            "tags": []
          },
          "execution_count": 40
        }
      ]
    },
    {
      "metadata": {
        "id": "zQsjzjGf1ldR",
        "colab_type": "text"
      },
      "cell_type": "markdown",
      "source": [
        "###User imput"
      ]
    },
    {
      "metadata": {
        "id": "gZOxT3SD1cUK",
        "colab_type": "code",
        "colab": {
          "base_uri": "https://localhost:8080/",
          "height": 35
        },
        "outputId": "6bea1917-726d-4174-efa7-92511a90a391"
      },
      "cell_type": "code",
      "source": [
        "name = input(\"Please write down your name here!\")"
      ],
      "execution_count": 0,
      "outputs": [
        {
          "output_type": "stream",
          "text": [
            "Please write down your name here!Redwoods\n"
          ],
          "name": "stdout"
        }
      ]
    },
    {
      "metadata": {
        "id": "uagl72Au1tsM",
        "colab_type": "code",
        "colab": {
          "base_uri": "https://localhost:8080/",
          "height": 35
        },
        "outputId": "3abbd6c4-10fb-47a4-8bc7-d92d6af0c90a"
      },
      "cell_type": "code",
      "source": [
        "name"
      ],
      "execution_count": 0,
      "outputs": [
        {
          "output_type": "execute_result",
          "data": {
            "text/plain": [
              "'Redwoods'"
            ]
          },
          "metadata": {
            "tags": []
          },
          "execution_count": 42
        }
      ]
    },
    {
      "metadata": {
        "id": "wV_ML1Ka11hO",
        "colab_type": "text"
      },
      "cell_type": "markdown",
      "source": [
        "###Code block & Indentation\n"
      ]
    },
    {
      "metadata": {
        "id": "46bQEntl1zeA",
        "colab_type": "code",
        "colab": {
          "base_uri": "https://localhost:8080/",
          "height": 136
        },
        "outputId": "67993983-6b35-4db3-a6cb-5fe9f98449f4"
      },
      "cell_type": "code",
      "source": [
        "if(10>3);\n",
        "print('inside if block')\n",
        "print('still inside if block')\n",
        "\n",
        "print('outside if block!')"
      ],
      "execution_count": 0,
      "outputs": [
        {
          "output_type": "error",
          "ename": "SyntaxError",
          "evalue": "ignored",
          "traceback": [
            "\u001b[0;36m  File \u001b[0;32m\"<ipython-input-43-5dcb8c634eb7>\"\u001b[0;36m, line \u001b[0;32m1\u001b[0m\n\u001b[0;31m    if(10>3);\u001b[0m\n\u001b[0m            ^\u001b[0m\n\u001b[0;31mSyntaxError\u001b[0m\u001b[0;31m:\u001b[0m invalid syntax\n"
          ]
        }
      ]
    },
    {
      "metadata": {
        "id": "2b0s6LnV2MOD",
        "colab_type": "code",
        "colab": {
          "base_uri": "https://localhost:8080/",
          "height": 136
        },
        "outputId": "89998947-1816-41cb-b0fb-40471254fe7f"
      },
      "cell_type": "code",
      "source": [
        "if(10>3)\n",
        "  print(' inside if block')\n",
        "  print(' still inside if block')\n",
        "  \n",
        "print('outside if block!')"
      ],
      "execution_count": 0,
      "outputs": [
        {
          "output_type": "error",
          "ename": "SyntaxError",
          "evalue": "ignored",
          "traceback": [
            "\u001b[0;36m  File \u001b[0;32m\"<ipython-input-44-8da4494955cb>\"\u001b[0;36m, line \u001b[0;32m1\u001b[0m\n\u001b[0;31m    if(10>3)\u001b[0m\n\u001b[0m            ^\u001b[0m\n\u001b[0;31mSyntaxError\u001b[0m\u001b[0;31m:\u001b[0m invalid syntax\n"
          ]
        }
      ]
    },
    {
      "metadata": {
        "id": "pasueJ_m2b6H",
        "colab_type": "code",
        "colab": {
          "base_uri": "https://localhost:8080/",
          "height": 35
        },
        "outputId": "070aecee-17a5-48af-c530-dfbbfa0252a7"
      },
      "cell_type": "code",
      "source": [
        "if(10<3):\n",
        "  print('inside if block')\n",
        "  print('still inside if block')\n",
        "print('outside if block!')"
      ],
      "execution_count": 0,
      "outputs": [
        {
          "output_type": "stream",
          "text": [
            "outside if block!\n"
          ],
          "name": "stdout"
        }
      ]
    },
    {
      "metadata": {
        "id": "eSc2BvQr3bPP",
        "colab_type": "text"
      },
      "cell_type": "markdown",
      "source": [
        "###도전 코딩1. BMI = M/H**2, (M(kg), H(m))\n"
      ]
    },
    {
      "metadata": {
        "id": "X1b6_Lmg2ocZ",
        "colab_type": "code",
        "colab": {
          "base_uri": "https://localhost:8080/",
          "height": 71
        },
        "outputId": "41be4316-e069-44af-9ee1-3bd69128c167"
      },
      "cell_type": "code",
      "source": [
        "height = float(input(\"Your height in meters:\"))\n",
        "weight = int(input(\"Your weight in kilograms:\"))\n",
        "bmi = round(weight/ (height * height), 1)\n",
        "bmi"
      ],
      "execution_count": 0,
      "outputs": [
        {
          "output_type": "stream",
          "text": [
            "Your height in meters:1.74\n",
            "Your weight in kilograms:73\n"
          ],
          "name": "stdout"
        },
        {
          "output_type": "execute_result",
          "data": {
            "text/plain": [
              "24.1"
            ]
          },
          "metadata": {
            "tags": []
          },
          "execution_count": 56
        }
      ]
    },
    {
      "metadata": {
        "id": "aHcgl22k5HKB",
        "colab_type": "text"
      },
      "cell_type": "markdown",
      "source": [
        "###도전 코딩2.Fat burning"
      ]
    },
    {
      "metadata": {
        "id": "IHWu__0p4e2t",
        "colab_type": "code",
        "colab": {}
      },
      "cell_type": "code",
      "source": [
        "# 조깅에서 1kg 지방을 태우는 데 몇 시간 걸리는지를 개산\n",
        "cal_per_1kg_fat = 7200        #지방 1kg 연소에 필요한 열량\n",
        "cal_per_1min_jog = 7.76        #조깅 1분에 의한 소비 칼로리"
      ],
      "execution_count": 0,
      "outputs": []
    },
    {
      "metadata": {
        "id": "rCHGF8ir6PoZ",
        "colab_type": "code",
        "colab": {
          "base_uri": "https://localhost:8080/",
          "height": 53
        },
        "outputId": "d58bfb80-4a58-4bbc-ba64-1eaa2b782c95"
      },
      "cell_type": "code",
      "source": [
        "#조깅에서 1kg 체중 감소하는데 몇 분이 필요할까?\n",
        "min_to_lose1kg = cal_per_1kg_fat/cal_per_1min_jog\n",
        "hours_to_lose1kg = min_to_lose1kg/60  # 분을 시간으로 환산\n",
        "print(round(hours_to_lose1kg,1))\n",
        "print(str(round(hours_to_lose1kg,1)) + \"시간\")    #변수의 내용을 표시"
      ],
      "execution_count": 0,
      "outputs": [
        {
          "output_type": "stream",
          "text": [
            "15.5\n",
            "15.5시간\n"
          ],
          "name": "stdout"
        }
      ]
    },
    {
      "metadata": {
        "id": "ObNvuwF_60a5",
        "colab_type": "code",
        "colab": {
          "base_uri": "https://localhost:8080/",
          "height": 35
        },
        "outputId": "5c47346f-eaaf-483d-dd55-33f8e012c95d"
      },
      "cell_type": "code",
      "source": [
        "# format 함수를 통해 출력하기\n",
        "print(\"{} 시간\", format(round(hours_to_lose1kg,1)))"
      ],
      "execution_count": 0,
      "outputs": [
        {
          "output_type": "stream",
          "text": [
            "{} 시간 15.5\n"
          ],
          "name": "stdout"
        }
      ]
    },
    {
      "metadata": {
        "id": "x2fCC0dq7l5o",
        "colab_type": "code",
        "colab": {}
      },
      "cell_type": "code",
      "source": [
        ""
      ],
      "execution_count": 0,
      "outputs": []
    }
  ]
}