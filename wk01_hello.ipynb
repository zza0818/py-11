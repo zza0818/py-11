{
  "nbformat": 4,
  "nbformat_minor": 0,
  "metadata": {
    "colab": {
      "name": "wk01_hello.ipynb의 사본",
      "version": "0.3.2",
      "provenance": [],
      "collapsed_sections": [],
      "toc_visible": true,
      "include_colab_link": true
    },
    "kernelspec": {
      "name": "python3",
      "display_name": "Python 3"
    }
  },
  "cells": [
    {
      "cell_type": "markdown",
      "metadata": {
        "id": "view-in-github",
        "colab_type": "text"
      },
      "source": [
        "[View in Colaboratory](https://colab.research.google.com/github/zza0818/py-11/blob/master/wk01_hello.ipynb)"
      ]
    },
    {
      "metadata": {
        "id": "5i29_wNHVyjy",
        "colab_type": "text"
      },
      "cell_type": "markdown",
      "source": [
        "# wk01\n",
        "## Hello python"
      ]
    },
    {
      "metadata": {
        "id": "Qm5cjQb5-obM",
        "colab_type": "toc"
      },
      "cell_type": "markdown",
      "source": [
        ">[wk01](#scrollTo=5i29_wNHVyjy)\n",
        "\n",
        ">>[Hello python](#scrollTo=5i29_wNHVyjy)\n",
        "\n",
        ">>>[print()를 이용한 출력](#scrollTo=wASNwnE-zjwu)\n",
        "\n",
        ">>>[간단한 연산](#scrollTo=qX2u3p4Wzx0U)\n",
        "\n",
        ">>>[지수 연산](#scrollTo=Rh8muoPAz3pl)\n",
        "\n",
        ">>>[^ 연산은 무엇?](#scrollTo=OSz29Swh0Cic)\n",
        "\n",
        ">>[python module (library)](#scrollTo=B_sN9AUPBsEW)\n",
        "\n",
        ">>>[numpy](#scrollTo=B_sN9AUPBsEW)\n",
        "\n",
        ">>[python graphics](#scrollTo=pvoM3TcjD2WG)\n",
        "\n",
        ">>>[matplotlib](#scrollTo=pvoM3TcjD2WG)\n",
        "\n"
      ]
    },
    {
      "metadata": {
        "id": "wASNwnE-zjwu",
        "colab_type": "text"
      },
      "cell_type": "markdown",
      "source": [
        "### print()를 이용한 출력"
      ]
    },
    {
      "metadata": {
        "id": "lfiMmCyZWIKZ",
        "colab_type": "code",
        "colab": {
          "base_uri": "https://localhost:8080/",
          "height": 34
        },
        "outputId": "2f4e13c8-52ee-473b-b2aa-9191ffc3df42"
      },
      "cell_type": "code",
      "source": [
        "print('Hello python!!!')"
      ],
      "execution_count": 0,
      "outputs": [
        {
          "output_type": "stream",
          "text": [
            "Hello python!!!\n"
          ],
          "name": "stdout"
        }
      ]
    },
    {
      "metadata": {
        "id": "MJts3iE2rxky",
        "colab_type": "code",
        "colab": {
          "base_uri": "https://localhost:8080/",
          "height": 34
        },
        "outputId": "4e31ddd1-71ca-495a-a420-9f80e9305fd7"
      },
      "cell_type": "code",
      "source": [
        "print('한글 출력 OK')"
      ],
      "execution_count": 0,
      "outputs": [
        {
          "output_type": "stream",
          "text": [
            "한글 출력 OK\n"
          ],
          "name": "stdout"
        }
      ]
    },
    {
      "metadata": {
        "id": "qX2u3p4Wzx0U",
        "colab_type": "text"
      },
      "cell_type": "markdown",
      "source": [
        "### 간단한 연산"
      ]
    },
    {
      "metadata": {
        "id": "17Yv-nkzU5DC",
        "colab_type": "code",
        "colab": {
          "base_uri": "https://localhost:8080/",
          "height": 35
        },
        "outputId": "cc90683e-3917-4f5b-e3be-9a483ca1220d"
      },
      "cell_type": "code",
      "source": [
        "2 + 9"
      ],
      "execution_count": 0,
      "outputs": [
        {
          "output_type": "execute_result",
          "data": {
            "text/plain": [
              "11"
            ]
          },
          "metadata": {
            "tags": []
          },
          "execution_count": 3
        }
      ]
    },
    {
      "metadata": {
        "id": "o-OLvDSVTzYZ",
        "colab_type": "code",
        "colab": {}
      },
      "cell_type": "code",
      "source": [
        "a=3\n",
        "b=4\n",
        "c=a+b\n",
        "d=a*b"
      ],
      "execution_count": 0,
      "outputs": []
    },
    {
      "metadata": {
        "id": "bhsnhmjAT5H7",
        "colab_type": "code",
        "colab": {
          "base_uri": "https://localhost:8080/",
          "height": 70
        },
        "outputId": "68300c31-c285-49df-e4a0-578c7e297665"
      },
      "cell_type": "code",
      "source": [
        "print(c),print(d)"
      ],
      "execution_count": 0,
      "outputs": [
        {
          "output_type": "stream",
          "text": [
            "7\n",
            "12\n"
          ],
          "name": "stdout"
        },
        {
          "output_type": "execute_result",
          "data": {
            "text/plain": [
              "(None, None)"
            ]
          },
          "metadata": {
            "tags": []
          },
          "execution_count": 8
        }
      ]
    },
    {
      "metadata": {
        "id": "Rh8muoPAz3pl",
        "colab_type": "text"
      },
      "cell_type": "markdown",
      "source": [
        "### 지수 연산\n",
        "\n",
        "---\n",
        "\n"
      ]
    },
    {
      "metadata": {
        "id": "yIzQ8DI3N4KM",
        "colab_type": "code",
        "colab": {
          "base_uri": "https://localhost:8080/",
          "height": 35
        },
        "outputId": "c0408402-1533-45ab-c654-b638f9b592a4"
      },
      "cell_type": "code",
      "source": [
        "2**3"
      ],
      "execution_count": 0,
      "outputs": [
        {
          "output_type": "execute_result",
          "data": {
            "text/plain": [
              "8"
            ]
          },
          "metadata": {
            "tags": []
          },
          "execution_count": 9
        }
      ]
    },
    {
      "metadata": {
        "id": "OSz29Swh0Cic",
        "colab_type": "text"
      },
      "cell_type": "markdown",
      "source": [
        "### ^ 연산은 무엇?"
      ]
    },
    {
      "metadata": {
        "id": "rreI9wxvPP0S",
        "colab_type": "code",
        "colab": {
          "base_uri": "https://localhost:8080/",
          "height": 35
        },
        "outputId": "c3e53ce5-11c4-4377-9917-7ed1696a09c3"
      },
      "cell_type": "code",
      "source": [
        "2^1"
      ],
      "execution_count": 0,
      "outputs": [
        {
          "output_type": "execute_result",
          "data": {
            "text/plain": [
              "3"
            ]
          },
          "metadata": {
            "tags": []
          },
          "execution_count": 10
        }
      ]
    },
    {
      "metadata": {
        "id": "ppQOxcloOo2B",
        "colab_type": "code",
        "colab": {
          "base_uri": "https://localhost:8080/",
          "height": 34
        },
        "outputId": "24d2c6af-5447-4874-8713-b0197d4182f4"
      },
      "cell_type": "code",
      "source": [
        "2^2"
      ],
      "execution_count": 0,
      "outputs": [
        {
          "output_type": "execute_result",
          "data": {
            "text/plain": [
              "0"
            ]
          },
          "metadata": {
            "tags": []
          },
          "execution_count": 14
        }
      ]
    },
    {
      "metadata": {
        "id": "i2QNl99yr9TT",
        "colab_type": "code",
        "colab": {
          "base_uri": "https://localhost:8080/",
          "height": 35
        },
        "outputId": "6248320f-a735-4f1c-e722-58703942667b"
      },
      "cell_type": "code",
      "source": [
        "2^3"
      ],
      "execution_count": 0,
      "outputs": [
        {
          "output_type": "execute_result",
          "data": {
            "text/plain": [
              "1"
            ]
          },
          "metadata": {
            "tags": []
          },
          "execution_count": 11
        }
      ]
    },
    {
      "metadata": {
        "id": "HFTI7gzor-kr",
        "colab_type": "code",
        "colab": {
          "base_uri": "https://localhost:8080/",
          "height": 35
        },
        "outputId": "98c64ce6-b0ee-4db2-c60f-b2d15b4f9d84"
      },
      "cell_type": "code",
      "source": [
        "\n",
        "2^4\n"
      ],
      "execution_count": 0,
      "outputs": [
        {
          "output_type": "execute_result",
          "data": {
            "text/plain": [
              "6"
            ]
          },
          "metadata": {
            "tags": []
          },
          "execution_count": 13
        }
      ]
    },
    {
      "metadata": {
        "id": "uEwdKtd3sADr",
        "colab_type": "code",
        "colab": {
          "base_uri": "https://localhost:8080/",
          "height": 35
        },
        "outputId": "d5cc37b0-da45-48b5-fe4c-47f67ce5023b"
      },
      "cell_type": "code",
      "source": [
        "2^1,2^2,2^3,2^4"
      ],
      "execution_count": 0,
      "outputs": [
        {
          "output_type": "execute_result",
          "data": {
            "text/plain": [
              "(3, 0, 1, 6)"
            ]
          },
          "metadata": {
            "tags": []
          },
          "execution_count": 14
        }
      ]
    },
    {
      "metadata": {
        "id": "If2NuvEM3xhn",
        "colab_type": "text"
      },
      "cell_type": "markdown",
      "source": [
        "## XOR : 배타적 OR"
      ]
    },
    {
      "metadata": {
        "id": "B_sN9AUPBsEW",
        "colab_type": "text"
      },
      "cell_type": "markdown",
      "source": [
        "## python module (library)\n",
        "### numpy"
      ]
    },
    {
      "metadata": {
        "id": "4Xi14LRqsDVr",
        "colab_type": "code",
        "colab": {}
      },
      "cell_type": "code",
      "source": [
        "import numpy as np"
      ],
      "execution_count": 0,
      "outputs": []
    },
    {
      "metadata": {
        "id": "K8XYgKmnC_AX",
        "colab_type": "code",
        "colab": {
          "base_uri": "https://localhost:8080/",
          "height": 35
        },
        "outputId": "f5dcdb51-54a4-4b2e-deb3-b13aa9af2374"
      },
      "cell_type": "code",
      "source": [
        "np.arange(1,11)"
      ],
      "execution_count": 0,
      "outputs": [
        {
          "output_type": "execute_result",
          "data": {
            "text/plain": [
              "array([ 1,  2,  3,  4,  5,  6,  7,  8,  9, 10])"
            ]
          },
          "metadata": {
            "tags": []
          },
          "execution_count": 16
        }
      ]
    },
    {
      "metadata": {
        "id": "pfvhG67ZDIDE",
        "colab_type": "code",
        "colab": {
          "base_uri": "https://localhost:8080/",
          "height": 35
        },
        "outputId": "523eab2f-67b3-4520-925f-793fbe57d74d"
      },
      "cell_type": "code",
      "source": [
        "np.arange(1,11)[0]\n",
        "np.arange(1,11)[1]"
      ],
      "execution_count": 0,
      "outputs": [
        {
          "output_type": "execute_result",
          "data": {
            "text/plain": [
              "2"
            ]
          },
          "metadata": {
            "tags": []
          },
          "execution_count": 17
        }
      ]
    },
    {
      "metadata": {
        "id": "Mmq83bPIDM80",
        "colab_type": "code",
        "colab": {
          "base_uri": "https://localhost:8080/",
          "height": 35
        },
        "outputId": "2949f96f-7efd-4e3c-8ad7-03f99bb5fd2e"
      },
      "cell_type": "code",
      "source": [
        "np.arange(1,11)[0],np.arange(1,11)[1]"
      ],
      "execution_count": 0,
      "outputs": [
        {
          "output_type": "execute_result",
          "data": {
            "text/plain": [
              "(1, 2)"
            ]
          },
          "metadata": {
            "tags": []
          },
          "execution_count": 18
        }
      ]
    },
    {
      "metadata": {
        "id": "8b4OPuEB5M12",
        "colab_type": "text"
      },
      "cell_type": "markdown",
      "source": [
        "### 1차원 배열 마지막 요소"
      ]
    },
    {
      "metadata": {
        "id": "bEnMnYQY5Y92",
        "colab_type": "code",
        "colab": {
          "base_uri": "https://localhost:8080/",
          "height": 35
        },
        "outputId": "0efd74d8-9af9-446a-9afc-04f2feca8180"
      },
      "cell_type": "code",
      "source": [
        "np.arange(1,11)[9],np.arange(1,11)[-1]"
      ],
      "execution_count": 0,
      "outputs": [
        {
          "output_type": "execute_result",
          "data": {
            "text/plain": [
              "(10, 10)"
            ]
          },
          "metadata": {
            "tags": []
          },
          "execution_count": 21
        }
      ]
    },
    {
      "metadata": {
        "id": "pvoM3TcjD2WG",
        "colab_type": "text"
      },
      "cell_type": "markdown",
      "source": [
        "## python graphics\n",
        "### matplotlib"
      ]
    },
    {
      "metadata": {
        "id": "HSg7UnczDSqV",
        "colab_type": "code",
        "colab": {}
      },
      "cell_type": "code",
      "source": [
        "import matplotlib.pyplot as plt"
      ],
      "execution_count": 0,
      "outputs": []
    },
    {
      "metadata": {
        "id": "rXKY1tbqEEB8",
        "colab_type": "code",
        "colab": {
          "base_uri": "https://localhost:8080/",
          "height": 365
        },
        "outputId": "99f37f99-faba-4765-cca3-4d379a01690f"
      },
      "cell_type": "code",
      "source": [
        "plt.plot(np.arange(1,11),'go-',ms=15)"
      ],
      "execution_count": 0,
      "outputs": [
        {
          "output_type": "execute_result",
          "data": {
            "text/plain": [
              "[<matplotlib.lines.Line2D at 0x7f08ac3a69e8>]"
            ]
          },
          "metadata": {
            "tags": []
          },
          "execution_count": 26
        },
        {
          "output_type": "display_data",
          "data": {
            "image/png": "[encoded data removed]",
            "text/plain": [
              "<matplotlib.figure.Figure at 0x7f08ac42b358>"
            ]
          },
          "metadata": {
            "tags": []
          }
        }
      ]
    },
    {
      "metadata": {
        "id": "XR27b1ckEMUU",
        "colab_type": "code",
        "colab": {
          "base_uri": "https://localhost:8080/",
          "height": 364
        },
        "outputId": "79b21aa9-0474-404a-8fb7-7c7ee2c74047"
      },
      "cell_type": "code",
      "source": [
        "plt.plot(np.sin(2*np.pi*np.arange(0,101)/20),'b*-',ms=12)"
      ],
      "execution_count": 0,
      "outputs": [
        {
          "output_type": "execute_result",
          "data": {
            "text/plain": [
              "[<matplotlib.lines.Line2D at 0x7fc7d71c3ac8>]"
            ]
          },
          "metadata": {
            "tags": []
          },
          "execution_count": 10
        },
        {
          "output_type": "display_data",
          "data": {
            "image/png": "[encoded data removed]",
            "text/plain": [
              "<matplotlib.figure.Figure at 0x7fc7d7214a20>"
            ]
          },
          "metadata": {
            "tags": []
          }
        }
      ]
    },
    {
      "metadata": {
        "id": "L-7Sqqu1FID9",
        "colab_type": "code",
        "colab": {
          "base_uri": "https://localhost:8080/",
          "height": 364
        },
        "outputId": "061ec2ff-9fa5-4813-869b-7b01d1cb39d2"
      },
      "cell_type": "code",
      "source": [
        "plt.plot(np.cos(2*np.pi*np.arange(0,101)/20))"
      ],
      "execution_count": 0,
      "outputs": [
        {
          "output_type": "execute_result",
          "data": {
            "text/plain": [
              "[<matplotlib.lines.Line2D at 0x7ff4005a4048>]"
            ]
          },
          "metadata": {
            "tags": []
          },
          "execution_count": 16
        },
        {
          "output_type": "display_data",
          "data": {
            "image/png": "[encoded data removed]",
            "text/plain": [
              "<matplotlib.figure.Figure at 0x7ff400621748>"
            ]
          },
          "metadata": {
            "tags": []
          }
        }
      ]
    },
    {
      "metadata": {
        "id": "yrJBwr-RG9Jy",
        "colab_type": "text"
      },
      "cell_type": "markdown",
      "source": [
        "## [참고: 파이썬 그래프 기초](https://wikidocs.net/4760)"
      ]
    },
    {
      "metadata": {
        "id": "3yPC-djdFduc",
        "colab_type": "code",
        "colab": {}
      },
      "cell_type": "code",
      "source": [
        ""
      ],
      "execution_count": 0,
      "outputs": []
    }
  ]
}