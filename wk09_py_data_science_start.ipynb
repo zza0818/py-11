{
  "nbformat": 4,
  "nbformat_minor": 0,
  "metadata": {
    "colab": {
      "name": "wk09_py_data_science_start.ipynb",
      "version": "0.3.2",
      "provenance": [],
      "collapsed_sections": [],
      "include_colab_link": true
    },
    "kernelspec": {
      "display_name": "Python 3",
      "language": "python",
      "name": "python3"
    }
  },
  "cells": [
    {
      "cell_type": "markdown",
      "metadata": {
        "id": "view-in-github",
        "colab_type": "text"
      },
      "source": [
        "<a href=\"https://colab.research.google.com/github/zza0818/py-11/blob/master/wk09_py_data_science_start.ipynb\" target=\"_parent\"><img src=\"https://colab.research.google.com/assets/colab-badge.svg\" alt=\"Open In Colab\"/></a>"
      ]
    },
    {
      "metadata": {
        "id": "KF9fVzz6_ATJ",
        "colab_type": "text"
      },
      "cell_type": "markdown",
      "source": [
        "# Chapter 12-01\n",
        "## numpy, pandas, matplotlib\n",
        "numpy:  수학구조를 다루는 것 \n",
        "pandas는 데이터를 다루는 클래스와 모듈들이 모여있는거 ,데이터 프레임을 지원 \n",
        "matplotlib는 아주 강력한 모듈 데이터를 마음대로 그래프로 표현할수있음"
      ]
    },
    {
      "metadata": {
        "id": "GZIk3nZx_ATN",
        "colab_type": "text"
      },
      "cell_type": "markdown",
      "source": [
        "### NumPy를 사용한다  "
      ]
    },
    {
      "metadata": {
        "id": "Fc0GsjPcGRio",
        "colab_type": "code",
        "outputId": "33d68cb2-29fd-48f6-e85b-ca12591bebb8",
        "colab": {
          "resources": {
            "http://localhost:8080/nbextensions/google.colab/files.js": {
              "data": "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",
              "ok": true,
              "headers": [
                [
                  "content-type",
                  "application/javascript"
                ]
              ],
              "status": 200,
              "status_text": ""
            }
          },
          "base_uri": "https://localhost:8080/",
          "height": 94
        }
      },
      "cell_type": "code",
      "source": [
        "from google.colab import files\n",
        "\n",
        "uploaded = files.upload()\n",
        "\n",
        "for fn in uploaded.keys():\n",
        "  print('User uploaded file \"{name}\" with length {length} bytes'.format(\n",
        "      name=fn, length=len(uploaded[fn])))"
      ],
      "execution_count": 0,
      "outputs": [
        {
          "output_type": "display_data",
          "data": {
            "text/html": [
              "\n",
              "     <input type=\"file\" id=\"files-01179529-3ab7-4367-9487-eabfea1c7a6f\" name=\"files[]\" multiple disabled />\n",
              "     <output id=\"result-01179529-3ab7-4367-9487-eabfea1c7a6f\">\n",
              "      Upload widget is only available when the cell has been executed in the\n",
              "      current browser session. Please rerun this cell to enable.\n",
              "      </output>\n",
              "      <script src=\"/nbextensions/google.colab/files.js\"></script> "
            ],
            "text/plain": [
              "<IPython.core.display.HTML object>"
            ]
          },
          "metadata": {
            "tags": []
          }
        },
        {
          "output_type": "stream",
          "text": [
            "Saving reactions.txt to reactions.txt\n",
            "User uploaded file \"reactions.txt\" with length 25000 bytes\n"
          ],
          "name": "stdout"
        }
      ]
    },
    {
      "metadata": {
        "id": "13IoSRVtGXvG",
        "colab_type": "code",
        "outputId": "bad35520-0a56-43b4-cda6-f93cdde620bf",
        "colab": {
          "base_uri": "https://localhost:8080/",
          "height": 35
        }
      },
      "cell_type": "code",
      "source": [
        "ls"
      ],
      "execution_count": 0,
      "outputs": [
        {
          "output_type": "stream",
          "text": [
            "bookmark.py  \u001b[0m\u001b[01;34m__pycache__\u001b[0m/  reactions.txt  \u001b[01;34msample_data\u001b[0m/  testmodule.py\n"
          ],
          "name": "stdout"
        }
      ]
    },
    {
      "metadata": {
        "id": "vR06WoGk_ATN",
        "colab_type": "code",
        "colab": {}
      },
      "cell_type": "code",
      "source": [
        "# 파일로부터 데이터를 읽어 들임\n",
        "# 반응 테스트의 실험 데이터를 읽어 들임\n",
        "import numpy as np       # numpy을 임포트\n",
        "# 파일에서 데이터를 읽어 들임 (colab에서 읽어보시오.)\n",
        "reactions_in_ms = np.loadtxt('reactions.txt')"
      ],
      "execution_count": 0,
      "outputs": []
    },
    {
      "metadata": {
        "id": "iYsYLDtF_ATR",
        "colab_type": "code",
        "outputId": "9c874d96-f530-4c3f-ad6c-748069f1d3d3",
        "colab": {
          "base_uri": "https://localhost:8080/",
          "height": 71
        }
      },
      "cell_type": "code",
      "source": [
        "# NumPy의 array를 사용한다.\n",
        "# 데이터 요약 보기\n",
        "print(reactions_in_ms.size)       # 요소 수를 표시\n",
        "print(reactions_in_ms[:20])       # 앞에서부터 20개 요소를 표시"
      ],
      "execution_count": 0,
      "outputs": [
        {
          "output_type": "stream",
          "text": [
            "1000\n",
            "[664. 481. 511. 612. 526. 498. 441. 447. 685. 477. 525. 686. 685. 485.\n",
            " 525. 704. 631. 464. 576. 514.]\n"
          ],
          "name": "stdout"
        }
      ]
    },
    {
      "metadata": {
        "id": "d5RQM34y_ATV",
        "colab_type": "code",
        "outputId": "b0badbd5-552f-4059-f4f8-6bf0af0bffb0",
        "colab": {
          "base_uri": "https://localhost:8080/",
          "height": 53
        }
      },
      "cell_type": "code",
      "source": [
        "# array( ) 나눗셈\n",
        "# 밀리초(ms)를 초(s)로 고침\n",
        "reactions_in_sec = reactions_in_ms/1000\n",
        "print(reactions_in_sec[:20])            # 앞에서부터 20개 요소를 표시"
      ],
      "execution_count": 0,
      "outputs": [
        {
          "output_type": "stream",
          "text": [
            "[0.664 0.481 0.511 0.612 0.526 0.498 0.441 0.447 0.685 0.477 0.525 0.686\n",
            " 0.685 0.485 0.525 0.704 0.631 0.464 0.576 0.514]\n"
          ],
          "name": "stdout"
        }
      ]
    },
    {
      "metadata": {
        "id": "GyVk0812_ATZ",
        "colab_type": "code",
        "outputId": "e6143d0a-456d-4991-b2c3-a9caccd6f412",
        "colab": {
          "base_uri": "https://localhost:8080/",
          "height": 107
        }
      },
      "cell_type": "code",
      "source": [
        "# NumPy의 여러 가지 함수\n",
        "# 기본 통계를 표시하고 데이터의 요약을 검토\n",
        "print(\"평균값 :\", np.mean(reactions_in_sec))\n",
        "print(\"중앙값 :\", np.median(reactions_in_sec))\n",
        "print(\"표준편차 :\", np.std(reactions_in_sec))\n",
        "print(\"최솟값 :\", np.min(reactions_in_sec))\n",
        "print(\"최대값 :\", np.max(reactions_in_sec))"
      ],
      "execution_count": 0,
      "outputs": [
        {
          "output_type": "stream",
          "text": [
            "평균값 : 0.492834\n",
            "중앙값 : 0.478\n",
            "표준편차 : 0.10190053210852237\n",
            "최솟값 : 0.251\n",
            "최대값 : 0.843\n"
          ],
          "name": "stdout"
        }
      ]
    },
    {
      "metadata": {
        "id": "Ak2sUkQ1_ATb",
        "colab_type": "text"
      },
      "cell_type": "markdown",
      "source": [
        "## pandas\n",
        "\n",
        "- 파이썬에서 데이터를 처리하는 모듈 (R과 유사함)"
      ]
    },
    {
      "metadata": {
        "id": "EsN_kHAY_ATc",
        "colab_type": "code",
        "outputId": "dcf6919c-9ef4-4e6a-acdf-ed48e5d0404c",
        "colab": {
          "base_uri": "https://localhost:8080/",
          "height": 204
        }
      },
      "cell_type": "code",
      "source": [
        "# pandas의 DataFrame형을 사용한다\n",
        "import pandas as pd\n",
        "reactions_df = pd.DataFrame(reactions_in_sec) #, columns=['react_sec'])\n",
        "reactions_df.head()       # 데이터의 개요를 표시"
      ],
      "execution_count": 0,
      "outputs": [
        {
          "output_type": "execute_result",
          "data": {
            "text/html": [
              "<div>\n",
              "<style scoped>\n",
              "    .dataframe tbody tr th:only-of-type {\n",
              "        vertical-align: middle;\n",
              "    }\n",
              "\n",
              "    .dataframe tbody tr th {\n",
              "        vertical-align: top;\n",
              "    }\n",
              "\n",
              "    .dataframe thead th {\n",
              "        text-align: right;\n",
              "    }\n",
              "</style>\n",
              "<table border=\"1\" class=\"dataframe\">\n",
              "  <thead>\n",
              "    <tr style=\"text-align: right;\">\n",
              "      <th></th>\n",
              "      <th>0</th>\n",
              "    </tr>\n",
              "  </thead>\n",
              "  <tbody>\n",
              "    <tr>\n",
              "      <th>0</th>\n",
              "      <td>0.664</td>\n",
              "    </tr>\n",
              "    <tr>\n",
              "      <th>1</th>\n",
              "      <td>0.481</td>\n",
              "    </tr>\n",
              "    <tr>\n",
              "      <th>2</th>\n",
              "      <td>0.511</td>\n",
              "    </tr>\n",
              "    <tr>\n",
              "      <th>3</th>\n",
              "      <td>0.612</td>\n",
              "    </tr>\n",
              "    <tr>\n",
              "      <th>4</th>\n",
              "      <td>0.526</td>\n",
              "    </tr>\n",
              "  </tbody>\n",
              "</table>\n",
              "</div>"
            ],
            "text/plain": [
              "       0\n",
              "0  0.664\n",
              "1  0.481\n",
              "2  0.511\n",
              "3  0.612\n",
              "4  0.526"
            ]
          },
          "metadata": {
            "tags": []
          },
          "execution_count": 8
        }
      ]
    },
    {
      "metadata": {
        "id": "STNy_WQR_ATg",
        "colab_type": "code",
        "outputId": "e0361a53-e86a-4eb6-929c-02bd92958760",
        "colab": {
          "base_uri": "https://localhost:8080/",
          "height": 297
        }
      },
      "cell_type": "code",
      "source": [
        "reactions_df.describe()   # 데이터의 평균, 표준 편차, 최댓값, 최솟값 등을 표시"
      ],
      "execution_count": 0,
      "outputs": [
        {
          "output_type": "execute_result",
          "data": {
            "text/html": [
              "<div>\n",
              "<style scoped>\n",
              "    .dataframe tbody tr th:only-of-type {\n",
              "        vertical-align: middle;\n",
              "    }\n",
              "\n",
              "    .dataframe tbody tr th {\n",
              "        vertical-align: top;\n",
              "    }\n",
              "\n",
              "    .dataframe thead th {\n",
              "        text-align: right;\n",
              "    }\n",
              "</style>\n",
              "<table border=\"1\" class=\"dataframe\">\n",
              "  <thead>\n",
              "    <tr style=\"text-align: right;\">\n",
              "      <th></th>\n",
              "      <th>0</th>\n",
              "    </tr>\n",
              "  </thead>\n",
              "  <tbody>\n",
              "    <tr>\n",
              "      <th>count</th>\n",
              "      <td>1000.000000</td>\n",
              "    </tr>\n",
              "    <tr>\n",
              "      <th>mean</th>\n",
              "      <td>0.492834</td>\n",
              "    </tr>\n",
              "    <tr>\n",
              "      <th>std</th>\n",
              "      <td>0.101952</td>\n",
              "    </tr>\n",
              "    <tr>\n",
              "      <th>min</th>\n",
              "      <td>0.251000</td>\n",
              "    </tr>\n",
              "    <tr>\n",
              "      <th>25%</th>\n",
              "      <td>0.417000</td>\n",
              "    </tr>\n",
              "    <tr>\n",
              "      <th>50%</th>\n",
              "      <td>0.478000</td>\n",
              "    </tr>\n",
              "    <tr>\n",
              "      <th>75%</th>\n",
              "      <td>0.559000</td>\n",
              "    </tr>\n",
              "    <tr>\n",
              "      <th>max</th>\n",
              "      <td>0.843000</td>\n",
              "    </tr>\n",
              "  </tbody>\n",
              "</table>\n",
              "</div>"
            ],
            "text/plain": [
              "                 0\n",
              "count  1000.000000\n",
              "mean      0.492834\n",
              "std       0.101952\n",
              "min       0.251000\n",
              "25%       0.417000\n",
              "50%       0.478000\n",
              "75%       0.559000\n",
              "max       0.843000"
            ]
          },
          "metadata": {
            "tags": []
          },
          "execution_count": 9
        }
      ]
    },
    {
      "metadata": {
        "id": "Ml9PEFQB_ATi",
        "colab_type": "code",
        "outputId": "3737eb9c-38dd-4a90-aed3-b522b0150a16",
        "colab": {
          "base_uri": "https://localhost:8080/",
          "height": 35
        }
      },
      "cell_type": "code",
      "source": [
        "reactions_df.columns #평균특성을 보여줌"
      ],
      "execution_count": 0,
      "outputs": [
        {
          "output_type": "execute_result",
          "data": {
            "text/plain": [
              "RangeIndex(start=0, stop=1, step=1)"
            ]
          },
          "metadata": {
            "tags": []
          },
          "execution_count": 11
        }
      ]
    },
    {
      "metadata": {
        "id": "oL1bU4JX_ATk",
        "colab_type": "text"
      },
      "cell_type": "markdown",
      "source": [
        "### matplotlib를 사용한다"
      ]
    },
    {
      "metadata": {
        "id": "ooXGi6Rn_ATl",
        "colab_type": "code",
        "outputId": "c841d472-646d-46a1-ea01-aa298e00895d",
        "colab": {}
      },
      "cell_type": "code",
      "source": [
        "# matplotlib으로 히스토그램을 그린다\n",
        "%matplotlib inline\n",
        "import matplotlib.pyplot as plt # matplotlib를 임포트\n",
        "h = plt.hist(reactions_in_sec)  # 히스토그램을 그림\n",
        "\n",
        "# Add title and axis names\n",
        " plt.title('reaction time in sec')\n",
        " plt.xlabel('sec')\n",
        " plt.ylabel('frequency')\n",
        " plt.show()"
      ],
      "execution_count": 0,
      "outputs": [
        {
          "output_type": "display_data",
          "data": {
            "image/png": "[encoded data removed]",
            "text/plain": [
              "<Figure size 432x288 with 1 Axes>"
            ]
          },
          "metadata": {
            "tags": [],
            "needs_background": "light"
          }
        }
      ]
    },
    {
      "metadata": {
        "id": "8f0G_vHR_ATn",
        "colab_type": "text"
      },
      "cell_type": "markdown",
      "source": [
        "***"
      ]
    },
    {
      "metadata": {
        "id": "aVKZTpFX_ATn",
        "colab_type": "text"
      },
      "cell_type": "markdown",
      "source": [
        "# Chapter 12-02\n",
        "## NumPy를 사용한다"
      ]
    },
    {
      "metadata": {
        "id": "1lq2xJG7_ATo",
        "colab_type": "text"
      },
      "cell_type": "markdown",
      "source": [
        "### NumPy의 array를 생성한다"
      ]
    },
    {
      "metadata": {
        "id": "bd-imBXz_ATp",
        "colab_type": "code",
        "outputId": "d4bafbd1-f90c-4283-9ace-6c567e7049ab",
        "colab": {
          "base_uri": "https://localhost:8080/",
          "height": 35
        }
      },
      "cell_type": "code",
      "source": [
        "# array의 작성\n",
        "import numpy as np         # NumPy를 임포트\n",
        "a = np.array([0, 1, 2, 3]) # array를 만듦\n",
        "a                          # array를 표시"
      ],
      "execution_count": 0,
      "outputs": [
        {
          "output_type": "execute_result",
          "data": {
            "text/plain": [
              "array([0, 1, 2, 3])"
            ]
          },
          "metadata": {
            "tags": []
          },
          "execution_count": 12
        }
      ]
    },
    {
      "metadata": {
        "id": "xnesN1bI_ATs",
        "colab_type": "code",
        "outputId": "52cc79ab-2422-4d3a-84fe-fb1d87019d5a",
        "colab": {
          "base_uri": "https://localhost:8080/",
          "height": 71
        }
      },
      "cell_type": "code",
      "source": [
        "# 2차원 array의 작성\n",
        "b = np.array([[0, 1, 2], [3, 4, 5], [6, 7, 8]])\n",
        "b"
      ],
      "execution_count": 0,
      "outputs": [
        {
          "output_type": "execute_result",
          "data": {
            "text/plain": [
              "array([[0, 1, 2],\n",
              "       [3, 4, 5],\n",
              "       [6, 7, 8]])"
            ]
          },
          "metadata": {
            "tags": []
          },
          "execution_count": 13
        }
      ]
    },
    {
      "metadata": {
        "id": "00HCu9t-_ATu",
        "colab_type": "code",
        "outputId": "05ff9de2-53f4-4522-8795-57155a1399da",
        "colab": {
          "base_uri": "https://localhost:8080/",
          "height": 89
        }
      },
      "cell_type": "code",
      "source": [
        "# array의 속성\n",
        "print(b.ndim)       # 차원 수\n",
        "print(b.shape)      # 각 차원의 요소 수\n",
        "print(b.size)       # 크기\n",
        "print(b.dtype)      # 형"
      ],
      "execution_count": 0,
      "outputs": [
        {
          "output_type": "stream",
          "text": [
            "2\n",
            "(3, 3)\n",
            "9\n",
            "int64\n"
          ],
          "name": "stdout"
        }
      ]
    },
    {
      "metadata": {
        "id": "3K6yKAA6Pd0G",
        "colab_type": "code",
        "outputId": "c74b0199-56c0-4239-b0d7-64b4233654c3",
        "colab": {
          "base_uri": "https://localhost:8080/",
          "height": 35
        }
      },
      "cell_type": "code",
      "source": [
        "a.ndim,a.shape,a.size"
      ],
      "execution_count": 0,
      "outputs": [
        {
          "output_type": "execute_result",
          "data": {
            "text/plain": [
              "(2, (3, 3), 9)"
            ]
          },
          "metadata": {
            "tags": []
          },
          "execution_count": 20
        }
      ]
    },
    {
      "metadata": {
        "id": "V_0m1bLp_ATx",
        "colab_type": "code",
        "outputId": "22967e3e-dac9-49b6-c6c1-894343d58c59",
        "colab": {
          "base_uri": "https://localhost:8080/",
          "height": 71
        }
      },
      "cell_type": "code",
      "source": [
        "# 2차원 배열로 변환한다\n",
        "# reshape()로 array로 변경\n",
        "b2 = np.zeros(9).reshape(3, 3)\n",
        "b2"
      ],
      "execution_count": 0,
      "outputs": [
        {
          "output_type": "execute_result",
          "data": {
            "text/plain": [
              "array([[0., 0., 0.],\n",
              "       [0., 0., 0.],\n",
              "       [0., 0., 0.]])"
            ]
          },
          "metadata": {
            "tags": []
          },
          "execution_count": 21
        }
      ]
    },
    {
      "metadata": {
        "id": "eTfN0Foh_AT0",
        "colab_type": "code",
        "outputId": "19b3d0b0-ca35-4a47-9d15-c26d90c3f257",
        "colab": {
          "base_uri": "https://localhost:8080/",
          "height": 71
        }
      },
      "cell_type": "code",
      "source": [
        "# 배열의 회전\n",
        "# T(전치 행렬)를 표시\n",
        "# 0,1,2,3,4 5,6,7,8는 3x3의 array\n",
        "a = np.arange(9).reshape(3, 3)  # arange() means 'array' range()\n",
        "a     # array 보기"
      ],
      "execution_count": 0,
      "outputs": [
        {
          "output_type": "execute_result",
          "data": {
            "text/plain": [
              "array([[0, 1, 2],\n",
              "       [3, 4, 5],\n",
              "       [6, 7, 8]])"
            ]
          },
          "metadata": {
            "tags": []
          },
          "execution_count": 22
        }
      ]
    },
    {
      "metadata": {
        "id": "HJG3Kt2z_AT4",
        "colab_type": "code",
        "outputId": "76c9062d-2404-4415-c9a2-471a7a1b04fa",
        "colab": {
          "base_uri": "https://localhost:8080/",
          "height": 71
        }
      },
      "cell_type": "code",
      "source": [
        "a==b"
      ],
      "execution_count": 0,
      "outputs": [
        {
          "output_type": "execute_result",
          "data": {
            "text/plain": [
              "array([[ True,  True,  True],\n",
              "       [ True,  True,  True],\n",
              "       [ True,  True,  True]])"
            ]
          },
          "metadata": {
            "tags": []
          },
          "execution_count": 23
        }
      ]
    },
    {
      "metadata": {
        "id": "eL7gDjqd_AT8",
        "colab_type": "code",
        "outputId": "371c1bee-84a6-492b-b1f6-a4a7ef86fe82",
        "colab": {
          "base_uri": "https://localhost:8080/",
          "height": 71
        }
      },
      "cell_type": "code",
      "source": [
        "a.T    # 90도 회전한 array 보기 : transpose of a matrix"
      ],
      "execution_count": 0,
      "outputs": [
        {
          "output_type": "execute_result",
          "data": {
            "text/plain": [
              "array([[0, 3, 6],\n",
              "       [1, 4, 7],\n",
              "       [2, 5, 8]])"
            ]
          },
          "metadata": {
            "tags": []
          },
          "execution_count": 24
        }
      ]
    },
    {
      "metadata": {
        "id": "KhS8SpEO_AUB",
        "colab_type": "code",
        "outputId": "7358ecb5-dc02-447b-8c5a-a52b875ae470",
        "colab": {
          "base_uri": "https://localhost:8080/",
          "height": 71
        }
      },
      "cell_type": "code",
      "source": [
        "a.T == b\n",
        "# 대각성분(diagonal elements)만 일치"
      ],
      "execution_count": 0,
      "outputs": [
        {
          "output_type": "execute_result",
          "data": {
            "text/plain": [
              "array([[ True, False, False],\n",
              "       [False,  True, False],\n",
              "       [False, False,  True]])"
            ]
          },
          "metadata": {
            "tags": []
          },
          "execution_count": 25
        }
      ]
    },
    {
      "metadata": {
        "id": "zZdUeec7_AUD",
        "colab_type": "text"
      },
      "cell_type": "markdown",
      "source": [
        "### array를 사용한 연산"
      ]
    },
    {
      "metadata": {
        "id": "cNPw1CvK_AUE",
        "colab_type": "code",
        "outputId": "836c5da2-6975-4633-9d63-6ff87b7685c4",
        "colab": {}
      },
      "cell_type": "code",
      "source": [
        "# 각 요소에 1을 더함\n",
        "a = np.arange(1, 10)    # 1에서 9까지의 배열을 만듦\n",
        "a+1                     # 각 요소에 1을 더하여 표시"
      ],
      "execution_count": 0,
      "outputs": [
        {
          "output_type": "execute_result",
          "data": {
            "text/plain": [
              "array([ 2,  3,  4,  5,  6,  7,  8,  9, 10])"
            ]
          },
          "metadata": {
            "tags": []
          },
          "execution_count": 20
        }
      ]
    },
    {
      "metadata": {
        "id": "u85tEF6N_AUG",
        "colab_type": "code",
        "outputId": "483f7adb-866b-4bed-a7c9-754b98533c05",
        "colab": {}
      },
      "cell_type": "code",
      "source": [
        "# 배열의 덧셈\n",
        "# 2개의 array의 각 요소를 더함\n",
        "a = np.arange(1, 10)\n",
        "b = np.arange(1, 10)    # 1에서 9까지의 배열을 2개 만듦\n",
        "a+b                     # a의 요소와 b의 요소를 더함"
      ],
      "execution_count": 0,
      "outputs": [
        {
          "output_type": "execute_result",
          "data": {
            "text/plain": [
              "array([ 2,  4,  6,  8, 10, 12, 14, 16, 18])"
            ]
          },
          "metadata": {
            "tags": []
          },
          "execution_count": 21
        }
      ]
    },
    {
      "metadata": {
        "id": "ofiQvEy8_AUI",
        "colab_type": "code",
        "colab": {}
      },
      "cell_type": "code",
      "source": [
        "# 배열의 곱셈 1\n",
        "# 브로드캐스팅(Broadcasting)\n",
        "a = np.ones(9).reshape(3, 3) # 1로만 구성된 3×3의 array를 만듦\n",
        "b = np.arange(1, 4)          # 1, 2, 3의 array를 만듦\n"
      ],
      "execution_count": 0,
      "outputs": []
    },
    {
      "metadata": {
        "id": "OKjz8hOu_AUK",
        "colab_type": "code",
        "outputId": "27baf55f-a336-497a-9a62-1fed9e394943",
        "colab": {}
      },
      "cell_type": "code",
      "source": [
        "a,b"
      ],
      "execution_count": 0,
      "outputs": [
        {
          "output_type": "execute_result",
          "data": {
            "text/plain": [
              "(array([[1., 1., 1.],\n",
              "        [1., 1., 1.],\n",
              "        [1., 1., 1.]]), array([1, 2, 3]))"
            ]
          },
          "metadata": {
            "tags": []
          },
          "execution_count": 23
        }
      ]
    },
    {
      "metadata": {
        "id": "lKnCOFZD_AUO",
        "colab_type": "code",
        "outputId": "2d72cd1b-f116-4d3f-b91b-8a8b04ec5827",
        "colab": {}
      },
      "cell_type": "code",
      "source": [
        "# 곱셈한 결과를 표시\n",
        "a*b "
      ],
      "execution_count": 0,
      "outputs": [
        {
          "output_type": "execute_result",
          "data": {
            "text/plain": [
              "array([[1., 2., 3.],\n",
              "       [1., 2., 3.],\n",
              "       [1., 2., 3.]])"
            ]
          },
          "metadata": {
            "tags": []
          },
          "execution_count": 44
        }
      ]
    },
    {
      "metadata": {
        "id": "InSyMl1__AUQ",
        "colab_type": "code",
        "outputId": "5d62f7b7-98c2-4766-8035-2bbc29b73b78",
        "colab": {}
      },
      "cell_type": "code",
      "source": [
        "a*(b.T),b.T"
      ],
      "execution_count": 0,
      "outputs": [
        {
          "output_type": "execute_result",
          "data": {
            "text/plain": [
              "(array([[1., 2., 3.],\n",
              "        [1., 2., 3.],\n",
              "        [1., 2., 3.]]), array([1, 2, 3]))"
            ]
          },
          "metadata": {
            "tags": []
          },
          "execution_count": 27
        }
      ]
    },
    {
      "metadata": {
        "id": "DdZY37VG_AUS",
        "colab_type": "code",
        "outputId": "700a893d-2a9f-4906-a57b-ba6a533d758c",
        "colab": {}
      },
      "cell_type": "code",
      "source": [
        "# 배열의 곱셈 2\n",
        "# 브로드캐스팅을 사용하여 3x3의 array를 만든다\n",
        "np.zeros((3, 1))*np.zeros((1, 3))"
      ],
      "execution_count": 0,
      "outputs": [
        {
          "output_type": "execute_result",
          "data": {
            "text/plain": [
              "array([[0., 0., 0.],\n",
              "       [0., 0., 0.],\n",
              "       [0., 0., 0.]])"
            ]
          },
          "metadata": {
            "tags": []
          },
          "execution_count": 28
        }
      ]
    },
    {
      "metadata": {
        "id": "zuAAcvCs_AUU",
        "colab_type": "code",
        "outputId": "c79e32d2-0eac-4118-a9a6-33a9887652a5",
        "colab": {}
      },
      "cell_type": "code",
      "source": [
        "# 요소의 합계\n",
        "# 함수를 사용한 연산\n",
        "# 0부터 8까지로, 3×3의 array를 만듦\n",
        "a = np.arange(9).reshape(3, 3)\n",
        "print(a)\n",
        "np.sum(a)        # 합계를 계산"
      ],
      "execution_count": 0,
      "outputs": [
        {
          "output_type": "stream",
          "text": [
            "[[0 1 2]\n",
            " [3 4 5]\n",
            " [6 7 8]]\n"
          ],
          "name": "stdout"
        },
        {
          "output_type": "execute_result",
          "data": {
            "text/plain": [
              "36"
            ]
          },
          "metadata": {
            "tags": []
          },
          "execution_count": 29
        }
      ]
    },
    {
      "metadata": {
        "id": "9ZWTgS6u_AUW",
        "colab_type": "code",
        "outputId": "9e9e3408-8d38-4f69-e1e3-f437da0b0109",
        "colab": {}
      },
      "cell_type": "code",
      "source": [
        "# 축끼리의 덧셈을 한다.\n",
        "# 인수 axis를 준 연산\n",
        "# [[0 1 2]\n",
        "#  [3 4 5]\n",
        "#  [6 7 8]]\n",
        "# 위 배열의 각 축의 합계를 계산\n",
        "np.sum(a, axis=0)  # 세로합"
      ],
      "execution_count": 0,
      "outputs": [
        {
          "output_type": "execute_result",
          "data": {
            "text/plain": [
              "array([ 9, 12, 15])"
            ]
          },
          "metadata": {
            "tags": []
          },
          "execution_count": 30
        }
      ]
    },
    {
      "metadata": {
        "id": "sFrmN0Kv_AUY",
        "colab_type": "code",
        "outputId": "7bc9691d-1423-4673-a918-938958842e71",
        "colab": {}
      },
      "cell_type": "code",
      "source": [
        "np.sum(a, axis=1)  # 가로합"
      ],
      "execution_count": 0,
      "outputs": [
        {
          "output_type": "execute_result",
          "data": {
            "text/plain": [
              "array([ 3, 12, 21])"
            ]
          },
          "metadata": {
            "tags": []
          },
          "execution_count": 31
        }
      ]
    },
    {
      "metadata": {
        "id": "x6lXhAX3_AUa",
        "colab_type": "text"
      },
      "cell_type": "markdown",
      "source": [
        "### 요소에의 접근 (중요)"
      ]
    },
    {
      "metadata": {
        "id": "OtanmXtD_AUa",
        "colab_type": "code",
        "outputId": "42b85750-0f28-4f86-82f0-bcb6fc20b53a",
        "colab": {
          "base_uri": "https://localhost:8080/",
          "height": 71
        }
      },
      "cell_type": "code",
      "source": [
        "# 요소에 접근한다\n",
        "a = np.arange(9).reshape(3, 3) # 0부터 8까지로 3×3의 array를 만듦\n",
        "a"
      ],
      "execution_count": 0,
      "outputs": [
        {
          "output_type": "execute_result",
          "data": {
            "text/plain": [
              "array([[0, 1, 2],\n",
              "       [3, 4, 5],\n",
              "       [6, 7, 8]])"
            ]
          },
          "metadata": {
            "tags": []
          },
          "execution_count": 27
        }
      ]
    },
    {
      "metadata": {
        "id": "gymBxBc9_AUc",
        "colab_type": "code",
        "outputId": "778ca31c-3edb-451f-c97c-e74ee246d367",
        "colab": {
          "base_uri": "https://localhost:8080/",
          "height": 35
        }
      },
      "cell_type": "code",
      "source": [
        "a[1, 2]                        # 1, 2의 요소를 표시"
      ],
      "execution_count": 0,
      "outputs": [
        {
          "output_type": "execute_result",
          "data": {
            "text/plain": [
              "5"
            ]
          },
          "metadata": {
            "tags": []
          },
          "execution_count": 28
        }
      ]
    },
    {
      "metadata": {
        "id": "suwy1xuG_AUe",
        "colab_type": "code",
        "outputId": "cb8fa824-8836-430d-cf85-1637231ef52c",
        "colab": {
          "base_uri": "https://localhost:8080/",
          "height": 53
        }
      },
      "cell_type": "code",
      "source": [
        "# 슬라이스 이용\n",
        "# 슬라이스를 사용하여 요소를 추출하기\n",
        "a[1:, 1:3]             # 오른쪽 아래의 2×2의 배열을 꺼냄"
      ],
      "execution_count": 0,
      "outputs": [
        {
          "output_type": "execute_result",
          "data": {
            "text/plain": [
              "array([[4, 5],\n",
              "       [7, 8]])"
            ]
          },
          "metadata": {
            "tags": []
          },
          "execution_count": 29
        }
      ]
    },
    {
      "metadata": {
        "id": "bI2KluzG_AUg",
        "colab_type": "code",
        "outputId": "95459ee0-52d4-4783-bc27-20ea5807f3e7",
        "colab": {
          "base_uri": "https://localhost:8080/",
          "height": 35
        }
      },
      "cell_type": "code",
      "source": [
        "# 인덱스에 리스트를 지정한다\n",
        "# 인덱스에 리스트를 전달하여 여러 요소를 추출하기\n",
        "d = np.arange(1, 10)        # 1에서 9까지의 array를 만듦\n",
        "d[[1, 3, 5, 7]]             # 짝수만 꺼냄"
      ],
      "execution_count": 0,
      "outputs": [
        {
          "output_type": "execute_result",
          "data": {
            "text/plain": [
              "array([2, 4, 6, 8])"
            ]
          },
          "metadata": {
            "tags": []
          },
          "execution_count": 30
        }
      ]
    },
    {
      "metadata": {
        "id": "XS7v0MGQ_AUi",
        "colab_type": "text"
      },
      "cell_type": "markdown",
      "source": [
        "### array 연결 (중요)"
      ]
    },
    {
      "metadata": {
        "id": "zhXY7eyb_AUj",
        "colab_type": "code",
        "outputId": "b1d6db3f-9462-485d-bb74-3085631ca167",
        "colab": {
          "base_uri": "https://localhost:8080/",
          "height": 53
        }
      },
      "cell_type": "code",
      "source": [
        "# 횡 방향으로 연결한다\n",
        "a = np.arange(4).reshape(2, 2)      # 2×2, 0에서 3까지의 array\n",
        "b = np.arange(5, 9).reshape(2, 2)   # 2×2, 5에서 8까지의 array\n",
        "np.hstack((a, b))"
      ],
      "execution_count": 0,
      "outputs": [
        {
          "output_type": "execute_result",
          "data": {
            "text/plain": [
              "array([[0, 1, 5, 6],\n",
              "       [2, 3, 7, 8]])"
            ]
          },
          "metadata": {
            "tags": []
          },
          "execution_count": 31
        }
      ]
    },
    {
      "metadata": {
        "id": "mZ6pkiXL_AUl",
        "colab_type": "code",
        "outputId": "5e00f0bc-e2a7-47f2-92e0-403d57fe30a2",
        "colab": {
          "base_uri": "https://localhost:8080/",
          "height": 89
        }
      },
      "cell_type": "code",
      "source": [
        "# 종 방향으로 연결한다\n",
        "a = np.arange(4).reshape(2, 2)      # 2×2, 0에서 3까지의 array\n",
        "b = np.arange(5, 9).reshape(2, 2)   # 2×2, 5에서 8까지의 array\n",
        "np.vstack((a, b))"
      ],
      "execution_count": 0,
      "outputs": [
        {
          "output_type": "execute_result",
          "data": {
            "text/plain": [
              "array([[0, 1],\n",
              "       [2, 3],\n",
              "       [5, 6],\n",
              "       [7, 8]])"
            ]
          },
          "metadata": {
            "tags": []
          },
          "execution_count": 32
        }
      ]
    },
    {
      "metadata": {
        "id": "W_5NpzMo_AUn",
        "colab_type": "text"
      },
      "cell_type": "markdown",
      "source": [
        "### np.c_[]  & np._r[]  (column & row)"
      ]
    },
    {
      "metadata": {
        "id": "v4Uu5-OSUmvG",
        "colab_type": "code",
        "outputId": "deec7095-7c1f-4879-86a7-b641a5ac7b76",
        "colab": {
          "base_uri": "https://localhost:8080/",
          "height": 71
        }
      },
      "cell_type": "code",
      "source": [
        "a,b"
      ],
      "execution_count": 0,
      "outputs": [
        {
          "output_type": "execute_result",
          "data": {
            "text/plain": [
              "(array([[0, 1],\n",
              "        [2, 3]]), array([[5, 6],\n",
              "        [7, 8]]))"
            ]
          },
          "metadata": {
            "tags": []
          },
          "execution_count": 35
        }
      ]
    },
    {
      "metadata": {
        "id": "ShDVnOxe_AUp",
        "colab_type": "code",
        "outputId": "a5212ea3-4c2c-407b-a0e8-889042cc3d70",
        "colab": {
          "base_uri": "https://localhost:8080/",
          "height": 53
        }
      },
      "cell_type": "code",
      "source": [
        "np.c_[a, b]"
      ],
      "execution_count": 0,
      "outputs": [
        {
          "output_type": "execute_result",
          "data": {
            "text/plain": [
              "array([[0, 1, 5, 6],\n",
              "       [2, 3, 7, 8]])"
            ]
          },
          "metadata": {
            "tags": []
          },
          "execution_count": 36
        }
      ]
    },
    {
      "metadata": {
        "id": "vCoLlXWz_AUs",
        "colab_type": "code",
        "outputId": "28c43f11-2682-435e-b8c1-290ece40de1e",
        "colab": {
          "base_uri": "https://localhost:8080/",
          "height": 89
        }
      },
      "cell_type": "code",
      "source": [
        "np.r_[a, b]"
      ],
      "execution_count": 0,
      "outputs": [
        {
          "output_type": "execute_result",
          "data": {
            "text/plain": [
              "array([[0, 1],\n",
              "       [2, 3],\n",
              "       [5, 6],\n",
              "       [7, 8]])"
            ]
          },
          "metadata": {
            "tags": []
          },
          "execution_count": 37
        }
      ]
    },
    {
      "metadata": {
        "id": "9W6ypBX7_AUv",
        "colab_type": "text"
      },
      "cell_type": "markdown",
      "source": [
        "### array의 복사(copy)"
      ]
    },
    {
      "metadata": {
        "id": "KSbQh5Pi_AUw",
        "colab_type": "code",
        "outputId": "188719b2-5832-4ef0-f6b9-1960328123cf",
        "colab": {
          "base_uri": "https://localhost:8080/",
          "height": 35
        }
      },
      "cell_type": "code",
      "source": [
        "# array끼리의 대입\n",
        "# 내장 리스트형과 마찬가지로 array의 대입 복사된다\n",
        "# (변수가 동일한 array에 대한 참조 포함)\n",
        "a = np.zeros(4)     # 4개의 0으로 array를 만듦\n",
        "b = a               # b에 대입\n",
        "b += 1              # 각 요소에 1을 더함\n",
        "a                   # a의 내용을 표시 (동일한 주소로 참조)"
      ],
      "execution_count": 0,
      "outputs": [
        {
          "output_type": "execute_result",
          "data": {
            "text/plain": [
              "array([1., 1., 1., 1.])"
            ]
          },
          "metadata": {
            "tags": []
          },
          "execution_count": 38
        }
      ]
    },
    {
      "metadata": {
        "id": "Rbhnn69v_AUz",
        "colab_type": "code",
        "outputId": "b6411a8a-9e4d-48cb-d948-33203ca07996",
        "colab": {
          "base_uri": "https://localhost:8080/",
          "height": 35
        }
      },
      "cell_type": "code",
      "source": [
        "# 존재하는 array에서 다른 array를 생성하고 싶을 때는 명시적으로 복사한다\n",
        "a = np.zeros(4)     # 4개의 0으로 array를 만듦\n",
        "b = a.copy()        # b에 대입\n",
        "b += 1              # 각 요소에 1을 더함\n",
        "a,b                 # a,b의 내용을 표시"
      ],
      "execution_count": 0,
      "outputs": [
        {
          "output_type": "execute_result",
          "data": {
            "text/plain": [
              "(array([0., 0., 0., 0.]), array([1., 1., 1., 1.]))"
            ]
          },
          "metadata": {
            "tags": []
          },
          "execution_count": 39
        }
      ]
    },
    {
      "metadata": {
        "id": "dCdj0yDj_AU1",
        "colab_type": "text"
      },
      "cell_type": "markdown",
      "source": [
        "***"
      ]
    },
    {
      "metadata": {
        "id": "no4JCXVv_AU2",
        "colab_type": "text"
      },
      "cell_type": "markdown",
      "source": [
        "## [wk10] homework\n",
        "\n",
        "> 다음 Youtube 강의 2편를 들으면서 파이썬 노트북을 하나 만들어서 각자의 github에 올리시오.(마감: 2018.11.3(토). 24:00)\n",
        "\n",
        "#### 제출 파일명: Summary_numpy.ipynb\n"
      ]
    },
    {
      "metadata": {
        "id": "cZFNbqA0_AU2",
        "colab_type": "code",
        "outputId": "68d606d7-0ad1-4fbd-e481-19a18be2ce30",
        "colab": {}
      },
      "cell_type": "code",
      "source": [
        "from IPython.lib.display import YouTubeVideo\n",
        "YouTubeVideo('ku9-AxaznSA')  # numpy 기초 I"
      ],
      "execution_count": 0,
      "outputs": [
        {
          "output_type": "execute_result",
          "data": {
            "image/jpeg": "[encoded data removed]",
            "text/html": [
              "\n",
              "        <iframe\n",
              "            width=\"400\"\n",
              "            height=\"300\"\n",
              "            src=\"https://www.youtube.com/embed/ku9-AxaznSA\"\n",
              "            frameborder=\"0\"\n",
              "            allowfullscreen\n",
              "        ></iframe>\n",
              "        "
            ],
            "text/plain": [
              "<IPython.lib.display.YouTubeVideo at 0x290cba47400>"
            ]
          },
          "metadata": {
            "tags": []
          },
          "execution_count": 2
        }
      ]
    },
    {
      "metadata": {
        "id": "hMn-uPsB_AU7",
        "colab_type": "code",
        "outputId": "40c06c74-67bd-44c8-be8f-c348405486e8",
        "colab": {}
      },
      "cell_type": "code",
      "source": [
        "YouTubeVideo('dnJ3JESmBkE')  # numpy 기초 II"
      ],
      "execution_count": 0,
      "outputs": [
        {
          "output_type": "execute_result",
          "data": {
            "image/jpeg": "[encoded data removed]",
            "text/html": [
              "\n",
              "        <iframe\n",
              "            width=\"400\"\n",
              "            height=\"300\"\n",
              "            src=\"https://www.youtube.com/embed/dnJ3JESmBkE\"\n",
              "            frameborder=\"0\"\n",
              "            allowfullscreen\n",
              "        ></iframe>\n",
              "        "
            ],
            "text/plain": [
              "<IPython.lib.display.YouTubeVideo at 0x290cbada160>"
            ]
          },
          "metadata": {
            "tags": []
          },
          "execution_count": 4
        }
      ]
    },
    {
      "metadata": {
        "id": "n6XsJ-QO_AU8",
        "colab_type": "code",
        "colab": {}
      },
      "cell_type": "code",
      "source": [
        "A= np.array([1,2,3])\n",
        "B= np.array([4,5,6])"
      ],
      "execution_count": 0,
      "outputs": []
    },
    {
      "metadata": {
        "id": "otiDrrm3_AU9",
        "colab_type": "code",
        "outputId": "fb3eb451-318d-4047-f423-9962f4950368",
        "colab": {
          "base_uri": "https://localhost:8080/",
          "height": 125
        }
      },
      "cell_type": "code",
      "source": [
        "A-B,A*B,A/B,A%B,A//B,B//A"
      ],
      "execution_count": 0,
      "outputs": [
        {
          "output_type": "execute_result",
          "data": {
            "text/plain": [
              "(array([-3, -3, -3]),\n",
              " array([ 4, 10, 18]),\n",
              " array([0.25, 0.4 , 0.5 ]),\n",
              " array([1, 2, 3]),\n",
              " array([0, 0, 0]),\n",
              " array([4, 2, 2]))"
            ]
          },
          "metadata": {
            "tags": []
          },
          "execution_count": 41
        }
      ]
    },
    {
      "metadata": {
        "id": "XnEq_mc4_AU_",
        "colab_type": "code",
        "colab": {}
      },
      "cell_type": "code",
      "source": [
        "C= np.array([1,2,3])\n",
        "D=C.reshape(1,3)"
      ],
      "execution_count": 0,
      "outputs": []
    },
    {
      "metadata": {
        "id": "pbLgfqgA_AVA",
        "colab_type": "code",
        "outputId": "4e2a4bf9-e0cf-488a-d0ea-0ed480e3d96a",
        "colab": {
          "base_uri": "https://localhost:8080/",
          "height": 35
        }
      },
      "cell_type": "code",
      "source": [
        "C,D"
      ],
      "execution_count": 0,
      "outputs": [
        {
          "output_type": "execute_result",
          "data": {
            "text/plain": [
              "(array([1, 2, 3]), array([[1, 2, 3]]))"
            ]
          },
          "metadata": {
            "tags": []
          },
          "execution_count": 43
        }
      ]
    },
    {
      "metadata": {
        "id": "TfFxAdom_AVC",
        "colab_type": "code",
        "outputId": "1f970a05-6238-48f4-f3d1-2fa2d63e63c2",
        "colab": {
          "base_uri": "https://localhost:8080/",
          "height": 35
        }
      },
      "cell_type": "code",
      "source": [
        "C.shape,D.shape"
      ],
      "execution_count": 0,
      "outputs": [
        {
          "output_type": "execute_result",
          "data": {
            "text/plain": [
              "((3,), (1, 3))"
            ]
          },
          "metadata": {
            "tags": []
          },
          "execution_count": 44
        }
      ]
    },
    {
      "metadata": {
        "id": "DMMeHeyl_AVF",
        "colab_type": "text"
      },
      "cell_type": "markdown",
      "source": [
        "***"
      ]
    }
  ]
}