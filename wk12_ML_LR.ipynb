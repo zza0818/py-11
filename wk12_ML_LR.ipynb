{
  "nbformat": 4,
  "nbformat_minor": 0,
  "metadata": {
    "colab": {
      "name": "wk12_ML_LR",
      "version": "0.3.2",
      "provenance": [],
      "collapsed_sections": [],
      "toc_visible": true,
      "include_colab_link": true
    },
    "kernelspec": {
      "display_name": "Python 3",
      "language": "python",
      "name": "python3"
    }
  },
  "cells": [
    {
      "cell_type": "markdown",
      "metadata": {
        "id": "view-in-github",
        "colab_type": "text"
      },
      "source": [
        "<a href=\"https://colab.research.google.com/github/zza0818/py-11/blob/master/wk12_ML_LR.ipynb\" target=\"_parent\"><img src=\"https://colab.research.google.com/assets/colab-badge.svg\" alt=\"Open In Colab\"/></a>"
      ]
    },
    {
      "metadata": {
        "colab_type": "text",
        "id": "pbJOVKrdH9av"
      },
      "cell_type": "markdown",
      "source": [
        "## 파이썬과 기계학습\n",
        "\n",
        "> [Gooood blog](https://tensorflow.blog/)\n",
        "\n",
        "> [python-machine-learning-book-2nd-edition](https://github.com/rasbt/python-machine-learning-book-2nd-edition)"
      ]
    },
    {
      "metadata": {
        "colab_type": "toc",
        "id": "4LOSuBR4jmB1"
      },
      "cell_type": "markdown",
      "source": [
        ">>[파이썬과 기계학습](#scrollTo=pbJOVKrdH9av)\n",
        "\n",
        ">>[wk13: 선형회기 연습](#scrollTo=E3-FW7EijXTH)\n",
        "\n",
        ">>>[Price of RAM (Linear regression)](#scrollTo=S3f7UXkHH9dE)\n",
        "\n",
        ">>>[도전하기](#scrollTo=JCap6GRoH9dN)\n",
        "\n",
        ">>>[수능 점수 예측 (다변수 선형회기, Multivariate Linear regression)](#scrollTo=CfixdLUvH9dP)\n",
        "\n",
        ">>>>[[1] 25명 전체 데이터를 훈련 데이터로 지정한다.](#scrollTo=GAl1Yid1H9dS)\n",
        "\n",
        ">>[[wk11] Homework](#scrollTo=jpsinXMnH9dn)\n",
        "\n",
        ">>>>>[================== 마감: 2018.11.18(일). 24:00](#scrollTo=jpsinXMnH9dn)\n",
        "\n",
        ">>>>[lr_model vs. lr_model_20](#scrollTo=KuDm7wBbRgVQ)\n",
        "\n",
        ">>>>[테스트 데이터에 대한 예측 성능 평가](#scrollTo=xbZobZjvSCEt)\n",
        "\n",
        ">>[pandas의 데이터프레임을 이용한 수능 성적 회기 분석](#scrollTo=ciTzquUZc4jx)\n",
        "\n",
        ">>>[수능 데이터로 데이터프레임 구성 - pandas](#scrollTo=4boVk_xeTq7r)\n",
        "\n",
        ">>>>[다변수 선형회기 분석](#scrollTo=fzwJSRmjdN8-)\n",
        "\n",
        ">>[[wk13] Study](#scrollTo=WLjYsq74H9dr)\n",
        "\n"
      ]
    },
    {
      "metadata": {
        "colab_type": "text",
        "id": "E3-FW7EijXTH"
      },
      "cell_type": "markdown",
      "source": [
        "## wk13: 선형회기 연습\n",
        "\n",
        "> Linear regression of one variable and multivariate linear regression"
      ]
    },
    {
      "metadata": {
        "colab_type": "text",
        "id": "S3f7UXkHH9dE"
      },
      "cell_type": "markdown",
      "source": [
        "### 2. Price of RAM (Linear regression) -  메모리 가격\n",
        "\n",
        "\n",
        "\n",
        "\n",
        "> [ram_price.csv](https://github.com/Redwoods/Py/blob/master/py-basic/tips/ram_price.csv)"
      ]
    },
    {
      "metadata": {
        "id": "cN7kAaNzKw62",
        "colab_type": "code",
        "colab": {}
      },
      "cell_type": "code",
      "source": [
        "# 열 2개 : 첫번째 열은 날짜, 두번째 열은 RAM 가격\n",
        "# 차이가 너무 큰 데이터를 할때는 큰값이 작은값을 먹어버림 -작은값의 특징이 나타나지 않음\n",
        "# 작은값의 특징을 살리려면? - 로그 스케일로 바꿔줌(가격을)"
      ],
      "execution_count": 0,
      "outputs": []
    },
    {
      "metadata": {
        "colab_type": "text",
        "id": "TqV3hLA_H9dE"
      },
      "cell_type": "markdown",
      "source": [
        "아래는 로그 스케일로 그린 연도별 RAM 가격이다.\n",
        "\n",
        "선형 회기를 이용해서 RAM 가격 예측 모델을 만들어보자."
      ]
    },
    {
      "metadata": {
        "colab_type": "code",
        "id": "cZ6JoUfMH9dE",
        "colab": {}
      },
      "cell_type": "code",
      "source": [
        "import pandas as pd\n",
        "import numpy as np\n",
        "import matplotlib.pyplot as plt\n",
        "%matplotlib inline"
      ],
      "execution_count": 0,
      "outputs": []
    },
    {
      "metadata": {
        "colab_type": "code",
        "id": "x6_RCzSJH9dF",
        "outputId": "b5b5696b-bc53-4dfd-8658-5b7278dd5c8e",
        "colab": {
          "base_uri": "https://localhost:8080/",
          "height": 425
        }
      },
      "cell_type": "code",
      "source": [
        "ram_prices = pd.read_csv(\"ram_price.csv\") # 저번 시간까지 쓰였던 그 코드 없어도 OK\n",
        "\n",
        "plt.figure(figsize=(9,6)) # 화면의 크기를 결정\n",
        "plt.yticks(fontname = \"Arial\") # 한글 폰트가 지수에 음수를 표시하지 못하므로 ytick의 폰트를 바꾸어 줍니다.\n",
        "plt.semilogy(ram_prices.date, ram_prices.price) # 한축은 로그 스케일, 한축은 일반 스케일 ->  y축을 로그로, x는 일반 스케일로그려줌\n",
        "plt.xlabel(\"Year\") \n",
        "plt.ylabel(\"Price ($/Mbyte)\")"
      ],
      "execution_count": 0,
      "outputs": [
        {
          "output_type": "execute_result",
          "data": {
            "text/plain": [
              "Text(0,0.5,'Price ($/Mbyte)')"
            ]
          },
          "metadata": {
            "tags": []
          },
          "execution_count": 10
        },
        {
          "output_type": "stream",
          "text": [
            "/usr/local/lib/python3.6/dist-packages/matplotlib/font_manager.py:1320: UserWarning: findfont: Font family ['Arial'] not found. Falling back to DejaVu Sans\n",
            "  (prop.get_family(), self.defaultFamily[fontext]))\n"
          ],
          "name": "stderr"
        },
        {
          "output_type": "display_data",
          "data": {
            "image/png": "[encoded data removed]",
            "text/plain": [
              "<matplotlib.figure.Figure at 0x7f8de8866320>"
            ]
          },
          "metadata": {
            "tags": []
          }
        }
      ]
    },
    {
      "metadata": {
        "colab_type": "code",
        "id": "SpNt1SE5H9dH",
        "outputId": "63b895b7-dcfd-42c5-e92a-31f9f1070b5d",
        "colab": {
          "base_uri": "https://localhost:8080/",
          "height": 215
        }
      },
      "cell_type": "code",
      "source": [
        " ram_prices.head(),ram_prices.tail() # 초반 5개, 후반 5개"
      ],
      "execution_count": 0,
      "outputs": [
        {
          "output_type": "execute_result",
          "data": {
            "text/plain": [
              "(   Unnamed: 0    date        price\n",
              " 0           0  1957.0  411041792.0\n",
              " 1           1  1959.0   67947725.0\n",
              " 2           2  1960.0    5242880.0\n",
              " 3           3  1965.0    2642412.0\n",
              " 4           4  1970.0     734003.0,      Unnamed: 0     date   price\n",
              " 328         328  2015.58  0.0045\n",
              " 329         329  2015.67  0.0043\n",
              " 330         330  2015.75  0.0042\n",
              " 331         331  2015.83  0.0038\n",
              " 332         332  2015.92  0.0037)"
            ]
          },
          "metadata": {
            "tags": []
          },
          "execution_count": 12
        }
      ]
    },
    {
      "metadata": {
        "colab_type": "text",
        "id": "rwmFG-n2H9dI"
      },
      "cell_type": "markdown",
      "source": [
        "* y축(가격)은 로그 스케일로 로그 스케일로 그리면 약간의 굴곡을 제외하고는 선형적으로 나타나서 예측이 쉬워진다.\n",
        "* 2000년 전까지의 데이터로 2000년 후의 데이터를 예측해보자. \n",
        "* 선형회귀(LinearRegression)를 수행한다. \n",
        "* 모델을 훈련시키고 예측을 수행한 후 로그 스케일로 되돌리기 위해 지수 함수를 사용한다."
      ]
    },
    {
      "metadata": {
        "id": "pDo4Vx5AMbm7",
        "colab_type": "code",
        "colab": {}
      },
      "cell_type": "code",
      "source": [
        "# 2000년 전 학습 데이터(모델), 2000년 후 테스트 데이터"
      ],
      "execution_count": 0,
      "outputs": []
    },
    {
      "metadata": {
        "colab_type": "code",
        "id": "Z7-ZMZX3H9dI",
        "colab": {}
      },
      "cell_type": "code",
      "source": [
        "# 머심러닝 방법 선택과 훈련/테스트 데이터 구성\n",
        "# LinearRegression\n",
        "from sklearn.linear_model import LinearRegression\n",
        "# 2000년 이전을 훈련 데이터로, 2000년 이후를 테스트 데이터로 만듭니다\n",
        "data_train = ram_prices[ram_prices.date < 2000] # 인덱싱 사용 # 속성을 사용하여 2개로 분리가능\n",
        "data_test = ram_prices[ram_prices.date >= 2000]"
      ],
      "execution_count": 0,
      "outputs": []
    },
    {
      "metadata": {
        "colab_type": "code",
        "id": "2jguHBmEb3vX",
        "outputId": "31bfe7cf-57d4-4ed8-a69c-1cd311facf4d",
        "colab": {
          "base_uri": "https://localhost:8080/",
          "height": 35
        }
      },
      "cell_type": "code",
      "source": [
        "data_train.shape,data_test.shape  # 3 : 인덱스 데이터 가격"
      ],
      "execution_count": 0,
      "outputs": [
        {
          "output_type": "execute_result",
          "data": {
            "text/plain": [
              "((202, 3), (131, 3))"
            ]
          },
          "metadata": {
            "tags": []
          },
          "execution_count": 18
        }
      ]
    },
    {
      "metadata": {
        "colab_type": "code",
        "id": "KV2qdfZuH9dJ",
        "colab": {}
      },
      "cell_type": "code",
      "source": [
        "# 데이터 전처리\n",
        "# 가격 예측을 위해 날짜 특성만을 이용합니다\n",
        "X_train = data_train.date[:, np.newaxis] # 열벡터로 변환 # 전체 날짜(시간)을 x값으로 넣음\n",
        "# 데이터와 타깃 사이의 관계를 간단하게 만들기 위해 로그 스케일로 바꿉니다 \n",
        "y_train = np.log(data_train.price) # 타겟 : RAM 가격"
      ],
      "execution_count": 0,
      "outputs": []
    },
    {
      "metadata": {
        "colab_type": "code",
        "id": "kbrBw1nob3vh",
        "outputId": "6fde5a51-4cd3-4343-a8d0-6ca9238eff1b",
        "colab": {
          "base_uri": "https://localhost:8080/",
          "height": 35
        }
      },
      "cell_type": "code",
      "source": [
        "X_train.shape,y_train.shape"
      ],
      "execution_count": 0,
      "outputs": [
        {
          "output_type": "execute_result",
          "data": {
            "text/plain": [
              "((202, 1), (202,))"
            ]
          },
          "metadata": {
            "tags": []
          },
          "execution_count": 21
        }
      ]
    },
    {
      "metadata": {
        "colab_type": "code",
        "id": "t40NeievH9dK",
        "colab": {}
      },
      "cell_type": "code",
      "source": [
        "# 선형 회기 모델 만들기\n",
        "linear_reg = LinearRegression().fit(X_train, y_train) # 트레인과 타겟 데이터 2천년 전의 날짜와 데이터를 이용하여 예측 모델을 만듬 "
      ],
      "execution_count": 0,
      "outputs": []
    },
    {
      "metadata": {
        "colab_type": "text",
        "id": "JCap6GRoH9dN"
      },
      "cell_type": "markdown",
      "source": [
        "### 도전하기 \n",
        "\n",
        "> RAM 가격 변동에 대한 선형 회기 모델의 정확도를 구하시오."
      ]
    },
    {
      "metadata": {
        "colab_type": "code",
        "id": "2C4xFyJIH9dN",
        "outputId": "04ecfecd-52a2-49f8-d4f2-d04153b5ada6",
        "colab": {
          "base_uri": "https://localhost:8080/",
          "height": 35
        }
      },
      "cell_type": "code",
      "source": [
        "# RAM 가격 변동에 대한 선형 회기 모델의 정확도\n",
        "X_test = data_test.date[:, np.newaxis]  # test input\n",
        "y_test = np.log(data_test.price)  # test output, 로그 스케일\n",
        "\n",
        "print(\"테스트 세트의 정확도: {:.2f}\".format(linear_reg.score(X_test, y_test))) # 모델에 test를 넣어서 정확도 계산 # y 스케일은 로그 스케일로 값을 넣음"
      ],
      "execution_count": 0,
      "outputs": [
        {
          "output_type": "stream",
          "text": [
            "테스트 세트의 정확도: 0.83\n"
          ],
          "name": "stdout"
        }
      ]
    },
    {
      "metadata": {
        "colab_type": "text",
        "id": "yD33olHSH9dP"
      },
      "cell_type": "markdown",
      "source": [
        "* 선형 모델은 직선으로 데이터를 근사하여 결과를 예측한다 \n",
        "* 모델이 가진 데이터 범위 밖에서도 외삽(extreapolation)을 이용해서 예측한다. "
      ]
    },
    {
      "metadata": {
        "colab_type": "text",
        "id": "CfixdLUvH9dP"
      },
      "cell_type": "markdown",
      "source": [
        "### 3. 수능 점수 예측 (다변수 선형회기, Multivariate Linear regression)\n",
        "\n",
        "> [data-01-test-score.csv](https://github.com/Redwoods/Py/blob/master/py-basic/tips/data-01-test-score.csv)"
      ]
    },
    {
      "metadata": {
        "id": "jC8jYS13N9gu",
        "colab_type": "code",
        "colab": {}
      },
      "cell_type": "code",
      "source": [
        "# 위에선 X축 변수가 하나 밖에 없었는데, 이건 3개라서 다중 회기 문제이다."
      ],
      "execution_count": 0,
      "outputs": []
    },
    {
      "metadata": {
        "colab_type": "text",
        "id": "rhs4VwBRH9dQ"
      },
      "cell_type": "markdown",
      "source": [
        "수험생 25명의 수능 세 개 영역의 점수를 이용해서 수능 점수를 예측하는 다변수 선형회기 모델을 만든다."
      ]
    },
    {
      "metadata": {
        "colab_type": "code",
        "id": "FAFshfuQH9dQ",
        "outputId": "67d78aa8-ae83-41f4-869c-ffff1c17b692",
        "colab": {
          "base_uri": "https://localhost:8080/",
          "height": 467
        }
      },
      "cell_type": "code",
      "source": [
        "# data\n",
        "data = np.loadtxt('./data-01-test-score.csv', delimiter=',', dtype=np.float32) # 25 4 array 구조\n",
        "data"
      ],
      "execution_count": 0,
      "outputs": [
        {
          "output_type": "execute_result",
          "data": {
            "text/plain": [
              "array([[ 73.,  80.,  75., 152.],\n",
              "       [ 93.,  88.,  93., 185.],\n",
              "       [ 89.,  91.,  90., 180.],\n",
              "       [ 96.,  98., 100., 196.],\n",
              "       [ 73.,  66.,  70., 142.],\n",
              "       [ 53.,  46.,  55., 101.],\n",
              "       [ 69.,  74.,  77., 149.],\n",
              "       [ 47.,  56.,  60., 115.],\n",
              "       [ 87.,  79.,  90., 175.],\n",
              "       [ 79.,  70.,  88., 164.],\n",
              "       [ 69.,  70.,  73., 141.],\n",
              "       [ 70.,  65.,  74., 141.],\n",
              "       [ 93.,  95.,  91., 184.],\n",
              "       [ 79.,  80.,  73., 152.],\n",
              "       [ 70.,  73.,  78., 148.],\n",
              "       [ 93.,  89.,  96., 192.],\n",
              "       [ 78.,  75.,  68., 147.],\n",
              "       [ 81.,  90.,  93., 183.],\n",
              "       [ 88.,  92.,  86., 177.],\n",
              "       [ 78.,  83.,  77., 159.],\n",
              "       [ 82.,  86.,  90., 177.],\n",
              "       [ 86.,  82.,  89., 175.],\n",
              "       [ 78.,  83.,  85., 175.],\n",
              "       [ 76.,  83.,  71., 149.],\n",
              "       [ 96.,  93.,  95., 192.]], dtype=float32)"
            ]
          },
          "metadata": {
            "tags": []
          },
          "execution_count": 35
        }
      ]
    },
    {
      "metadata": {
        "colab_type": "code",
        "id": "Djmguwe9Ove-",
        "outputId": "5190bba4-5649-4308-bbe9-7d88348a25bc",
        "colab": {
          "base_uri": "https://localhost:8080/",
          "height": 35
        }
      },
      "cell_type": "code",
      "source": [
        "data.shape"
      ],
      "execution_count": 0,
      "outputs": [
        {
          "output_type": "execute_result",
          "data": {
            "text/plain": [
              "(25, 4)"
            ]
          },
          "metadata": {
            "tags": []
          },
          "execution_count": 36
        }
      ]
    },
    {
      "metadata": {
        "colab_type": "text",
        "id": "GAl1Yid1H9dS"
      },
      "cell_type": "markdown",
      "source": [
        "#### [1] 25명 전체 데이터를 훈련 데이터로 지정한다."
      ]
    },
    {
      "metadata": {
        "colab_type": "code",
        "id": "GquBBZB9H9dT",
        "colab": {}
      },
      "cell_type": "code",
      "source": [
        "# LinearRegression\n",
        "from sklearn.linear_model import LinearRegression\n",
        "\n",
        "# 25명 전체 데이터를 훈련 데이터로 지정한다.\n",
        "data_X = data[:, 0:-1]\n",
        "data_y = data[:,[-1]]"
      ],
      "execution_count": 0,
      "outputs": []
    },
    {
      "metadata": {
        "colab_type": "code",
        "id": "ASsWVzKyH9dU",
        "outputId": "aa7e6029-7a12-4340-999e-457cbec654d0",
        "colab": {
          "base_uri": "https://localhost:8080/",
          "height": 35
        }
      },
      "cell_type": "code",
      "source": [
        "data_X.shape, data_y.shape"
      ],
      "execution_count": 0,
      "outputs": [
        {
          "output_type": "execute_result",
          "data": {
            "text/plain": [
              "((25, 3), (25, 1))"
            ]
          },
          "metadata": {
            "tags": []
          },
          "execution_count": 41
        }
      ]
    },
    {
      "metadata": {
        "colab_type": "code",
        "id": "jLr9y1AOH9dX",
        "outputId": "abddb0ab-e50e-45e1-cde3-30609b20705d",
        "colab": {
          "base_uri": "https://localhost:8080/",
          "height": 899
        }
      },
      "cell_type": "code",
      "source": [
        "data_X,data_y  # 영역별 점수와 수능점수"
      ],
      "execution_count": 0,
      "outputs": [
        {
          "output_type": "execute_result",
          "data": {
            "text/plain": [
              "(array([[ 73.,  80.,  75.],\n",
              "        [ 93.,  88.,  93.],\n",
              "        [ 89.,  91.,  90.],\n",
              "        [ 96.,  98., 100.],\n",
              "        [ 73.,  66.,  70.],\n",
              "        [ 53.,  46.,  55.],\n",
              "        [ 69.,  74.,  77.],\n",
              "        [ 47.,  56.,  60.],\n",
              "        [ 87.,  79.,  90.],\n",
              "        [ 79.,  70.,  88.],\n",
              "        [ 69.,  70.,  73.],\n",
              "        [ 70.,  65.,  74.],\n",
              "        [ 93.,  95.,  91.],\n",
              "        [ 79.,  80.,  73.],\n",
              "        [ 70.,  73.,  78.],\n",
              "        [ 93.,  89.,  96.],\n",
              "        [ 78.,  75.,  68.],\n",
              "        [ 81.,  90.,  93.],\n",
              "        [ 88.,  92.,  86.],\n",
              "        [ 78.,  83.,  77.],\n",
              "        [ 82.,  86.,  90.],\n",
              "        [ 86.,  82.,  89.],\n",
              "        [ 78.,  83.,  85.],\n",
              "        [ 76.,  83.,  71.],\n",
              "        [ 96.,  93.,  95.]], dtype=float32), array([[152.],\n",
              "        [185.],\n",
              "        [180.],\n",
              "        [196.],\n",
              "        [142.],\n",
              "        [101.],\n",
              "        [149.],\n",
              "        [115.],\n",
              "        [175.],\n",
              "        [164.],\n",
              "        [141.],\n",
              "        [141.],\n",
              "        [184.],\n",
              "        [152.],\n",
              "        [148.],\n",
              "        [192.],\n",
              "        [147.],\n",
              "        [183.],\n",
              "        [177.],\n",
              "        [159.],\n",
              "        [177.],\n",
              "        [175.],\n",
              "        [175.],\n",
              "        [149.],\n",
              "        [192.]], dtype=float32))"
            ]
          },
          "metadata": {
            "tags": []
          },
          "execution_count": 42
        }
      ]
    },
    {
      "metadata": {
        "colab_type": "code",
        "id": "ynHGNcPcH9da",
        "colab": {}
      },
      "cell_type": "code",
      "source": [
        "# 수능 점수 예측을 위한 트레인 데이터 만들기\n",
        "X_train = data_X\n",
        "y_train = data_y\n",
        "# 선형 회기 모델 만들기\n",
        "lr_model = LinearRegression().fit(X_train, y_train)"
      ],
      "execution_count": 0,
      "outputs": []
    },
    {
      "metadata": {
        "colab_type": "code",
        "id": "26xsVkmyH9dd",
        "outputId": "1b59ca20-340e-4d03-d9da-dfc66befe249",
        "colab": {
          "base_uri": "https://localhost:8080/",
          "height": 35
        }
      },
      "cell_type": "code",
      "source": [
        "lr_model"
      ],
      "execution_count": 0,
      "outputs": [
        {
          "output_type": "execute_result",
          "data": {
            "text/plain": [
              "LinearRegression(copy_X=True, fit_intercept=True, n_jobs=1, normalize=False)"
            ]
          },
          "metadata": {
            "tags": []
          },
          "execution_count": 44
        }
      ]
    },
    {
      "metadata": {
        "colab_type": "code",
        "id": "eZX6CvzIH9dg",
        "outputId": "b6c5ea39-8a7e-4e8a-f7df-814349362340",
        "colab": {
          "base_uri": "https://localhost:8080/",
          "height": 53
        }
      },
      "cell_type": "code",
      "source": [
        "# model : coef_, intercept_\n",
        "lr_model.coef_,lr_model.intercept_ # coef : 변수"
      ],
      "execution_count": 0,
      "outputs": [
        {
          "output_type": "execute_result",
          "data": {
            "text/plain": [
              "(array([[0.35593864, 0.54251873, 1.1674442 ]], dtype=float32),\n",
              " array([-4.336151], dtype=float32))"
            ]
          },
          "metadata": {
            "tags": []
          },
          "execution_count": 46
        }
      ]
    },
    {
      "metadata": {
        "colab_type": "code",
        "id": "4LaRwyzBb3ws",
        "outputId": "86a085be-5059-4800-aeba-4b66e23baf88",
        "colab": {
          "base_uri": "https://localhost:8080/",
          "height": 35
        }
      },
      "cell_type": "code",
      "source": [
        "lr_model.coef_.shape,lr_model.intercept_.shape # 상수니까 그냥 값 하나 intercept"
      ],
      "execution_count": 0,
      "outputs": [
        {
          "output_type": "execute_result",
          "data": {
            "text/plain": [
              "((1, 3), (1,))"
            ]
          },
          "metadata": {
            "tags": []
          },
          "execution_count": 51
        }
      ]
    },
    {
      "metadata": {
        "colab_type": "code",
        "id": "CFhJbBgBH9dh",
        "outputId": "b831f7f4-0961-4195-a94f-98ec35639f82",
        "colab": {
          "base_uri": "https://localhost:8080/",
          "height": 35
        }
      },
      "cell_type": "code",
      "source": [
        "# 새로운 3개 영역 점수로 수능 점수 예측 비교\n",
        "test = np.array([100, 98, 81])\n",
        "test.shape"
      ],
      "execution_count": 0,
      "outputs": [
        {
          "output_type": "execute_result",
          "data": {
            "text/plain": [
              "(3,)"
            ]
          },
          "metadata": {
            "tags": []
          },
          "execution_count": 52
        }
      ]
    },
    {
      "metadata": {
        "colab_type": "code",
        "id": "JMr3g7lDH9dj",
        "outputId": "7bf25042-6b7a-491a-cf6d-9019fd61b8cc",
        "colab": {
          "base_uri": "https://localhost:8080/",
          "height": 35
        }
      },
      "cell_type": "code",
      "source": [
        "lr_model.predict(test.reshape(1,-1))"
      ],
      "execution_count": 0,
      "outputs": [
        {
          "output_type": "execute_result",
          "data": {
            "text/plain": [
              "array([[178.98753178]])"
            ]
          },
          "metadata": {
            "tags": []
          },
          "execution_count": 53
        }
      ]
    },
    {
      "metadata": {
        "colab_type": "code",
        "id": "poZRzsG8H9dl",
        "outputId": "427229af-456d-469d-cc6d-dfe69555ac51",
        "colab": {
          "base_uri": "https://localhost:8080/",
          "height": 35
        }
      },
      "cell_type": "code",
      "source": [
        "# 수능 점수에 대한 선형 회기 모델의 정확도\n",
        "print(\"트레인 세트의 정확도: {:.2f}\".format(lr_model.score(X_train, y_train))) # 우리 지금 테스트 데이터 없음"
      ],
      "execution_count": 0,
      "outputs": [
        {
          "output_type": "stream",
          "text": [
            "트레인 세트의 정확도: 0.99\n"
          ],
          "name": "stdout"
        }
      ]
    },
    {
      "metadata": {
        "colab_type": "text",
        "id": "SHSKUvQNH9dm"
      },
      "cell_type": "markdown",
      "source": [
        "> overfitting!!  --- 과대접합"
      ]
    },
    {
      "metadata": {
        "colab_type": "text",
        "id": "KF0JtyAMH9dm"
      },
      "cell_type": "markdown",
      "source": [
        "***"
      ]
    },
    {
      "metadata": {
        "colab_type": "text",
        "id": "jpsinXMnH9dn"
      },
      "cell_type": "markdown",
      "source": [
        "## [wk11] Homework\n",
        "\n",
        "> 25명 중 20명의 데이터를 훈련 데이터, 나머지 5명을 데스트 데이터로 지정한다.\n",
        "\n",
        "> 모델의 정확도를 계산한다.\n",
        "\n",
        "##### ================== 마감: 2018.11.18(일). 24:00"
      ]
    },
    {
      "metadata": {
        "colab_type": "text",
        "id": "BDbIeNMTH9dn"
      },
      "cell_type": "markdown",
      "source": [
        "> [1] 데이터 구성"
      ]
    },
    {
      "metadata": {
        "colab_type": "code",
        "id": "O11sn8nkH9dn",
        "colab": {}
      },
      "cell_type": "code",
      "source": [
        "# 데이터 구성\n",
        "# LinearRegression\n",
        "# from sklearn.linear_model import LinearRegression\n",
        "# 25명 중 20명의 데이터를 훈련 데이터, 나머지 5명을 데스트 데이터로 지정한다.\n",
        "X_train = data[0:-5, 0:-1]\n",
        "y_train = data[0:-5,[-1]]\n",
        "X_test = data[-5:, 0:-1]\n",
        "y_test = data[-5:,[-1]]"
      ],
      "execution_count": 0,
      "outputs": []
    },
    {
      "metadata": {
        "id": "nr9N5gdcJV_Z",
        "colab_type": "code",
        "colab": {}
      },
      "cell_type": "code",
      "source": [
        "# X_train = data[:20, 0:3]   # 트레이닝 데이터로 20개 저장(과목3개)\n",
        "# X_test = data[20:,0:3]     # 테스트 데이터로 5개 저장(과목3개)\n",
        "\n",
        "# y_train = data[:20,[-1]]   # 트레이닝 데이터로 20개 저장(수능점수)\n",
        "# y_test = data[20:,[-1]]    # 테스트 데이터로 5개 저장(수능점수)"
      ],
      "execution_count": 0,
      "outputs": []
    },
    {
      "metadata": {
        "colab_type": "code",
        "id": "XAKmssGsH9do",
        "outputId": "ff2fa4f6-dcf5-4b5d-d920-4794b3a41db5",
        "colab": {
          "base_uri": "https://localhost:8080/",
          "height": 35
        }
      },
      "cell_type": "code",
      "source": [
        "X_train.shape, y_train.shape, X_test.shape, y_test.shape, "
      ],
      "execution_count": 0,
      "outputs": [
        {
          "output_type": "execute_result",
          "data": {
            "text/plain": [
              "((20, 3), (20, 1), (5, 3), (5, 1))"
            ]
          },
          "metadata": {
            "tags": []
          },
          "execution_count": 63
        }
      ]
    },
    {
      "metadata": {
        "colab_type": "text",
        "id": "uZFNr8fEH9dp"
      },
      "cell_type": "markdown",
      "source": [
        "> [2] 선형 회기 모델"
      ]
    },
    {
      "metadata": {
        "colab_type": "code",
        "id": "NlXM-ev2H9dp",
        "outputId": "ece43829-2fc1-469a-a39f-29c757e97ac8",
        "colab": {
          "base_uri": "https://localhost:8080/",
          "height": 35
        }
      },
      "cell_type": "code",
      "source": [
        "# 20명의 트레인 데이터 이용\n",
        "# 선형 회기 모델 만들기\n",
        "lr_model_20 = LinearRegression().fit(X_train, y_train)\n",
        "\n",
        "lr_model_20\n"
      ],
      "execution_count": 0,
      "outputs": [
        {
          "output_type": "execute_result",
          "data": {
            "text/plain": [
              "LinearRegression(copy_X=True, fit_intercept=True, n_jobs=1, normalize=False)"
            ]
          },
          "metadata": {
            "tags": []
          },
          "execution_count": 65
        }
      ]
    },
    {
      "metadata": {
        "colab_type": "code",
        "id": "E_Y7uvLzQKLy",
        "outputId": "7fb8154b-30d3-4fff-a1da-fc24e16f822e",
        "colab": {
          "base_uri": "https://localhost:8080/",
          "height": 53
        }
      },
      "cell_type": "code",
      "source": [
        "# 선형회기 결과 -> 3개 특성(영역별 점수) 계수 및 y-절편(bias)\n",
        "lr_model_20.coef_,lr_model_20.intercept_"
      ],
      "execution_count": 0,
      "outputs": [
        {
          "output_type": "execute_result",
          "data": {
            "text/plain": [
              "(array([[0.4355938, 0.5249363, 1.0842971]], dtype=float32),\n",
              " array([-2.8510742], dtype=float32))"
            ]
          },
          "metadata": {
            "tags": []
          },
          "execution_count": 66
        }
      ]
    },
    {
      "metadata": {
        "colab_type": "text",
        "id": "xPJA8srXH9dp"
      },
      "cell_type": "markdown",
      "source": [
        "> [3] 예측과 정확도 평가"
      ]
    },
    {
      "metadata": {
        "colab_type": "code",
        "id": "PYJxalx7H9dq",
        "outputId": "b4597da0-ab37-42f3-a595-608827fb65e9",
        "colab": {
          "base_uri": "https://localhost:8080/",
          "height": 678
        }
      },
      "cell_type": "code",
      "source": [
        "# ERROR CODE\n",
        "\n",
        "# 테스트 데이터에 대한 예측과 정확도 평가\n",
        "# 가상적인 3개 영역 점수로 수능 점수 예측\n",
        "test = np.array([100, 98, 81]) # 가상 점수 입력\n",
        "\n",
        "lr_model_20.predict(test)  # Error, why? # reshape 해주어야함\n",
        "\n",
        "# 들어가는 데이터는 행벡터가 아니고 열벡터로 들어가야함 그래서 열벡터로 바꿔야해"
      ],
      "execution_count": 0,
      "outputs": [
        {
          "output_type": "error",
          "ename": "ValueError",
          "evalue": "ignored",
          "traceback": [
            "\u001b[0;31m---------------------------------------------------------------------------\u001b[0m",
            "\u001b[0;31mValueError\u001b[0m                                Traceback (most recent call last)",
            "\u001b[0;32m<ipython-input-69-d96574c44022>\u001b[0m in \u001b[0;36m<module>\u001b[0;34m()\u001b[0m\n\u001b[1;32m      1\u001b[0m \u001b[0mtest\u001b[0m \u001b[0;34m=\u001b[0m \u001b[0mnp\u001b[0m\u001b[0;34m.\u001b[0m\u001b[0marray\u001b[0m\u001b[0;34m(\u001b[0m\u001b[0;34m[\u001b[0m\u001b[0;36m100\u001b[0m\u001b[0;34m,\u001b[0m \u001b[0;36m98\u001b[0m\u001b[0;34m,\u001b[0m \u001b[0;36m81\u001b[0m\u001b[0;34m]\u001b[0m\u001b[0;34m)\u001b[0m \u001b[0;31m# 가상 점수 입력\u001b[0m\u001b[0;34m\u001b[0m\u001b[0m\n\u001b[1;32m      2\u001b[0m \u001b[0;34m\u001b[0m\u001b[0m\n\u001b[0;32m----> 3\u001b[0;31m \u001b[0mlr_model_20\u001b[0m\u001b[0;34m.\u001b[0m\u001b[0mpredict\u001b[0m\u001b[0;34m(\u001b[0m\u001b[0mtest\u001b[0m\u001b[0;34m)\u001b[0m  \u001b[0;31m# Error, why? # reshape 해주어야함\u001b[0m\u001b[0;34m\u001b[0m\u001b[0m\n\u001b[0m\u001b[1;32m      4\u001b[0m \u001b[0;34m\u001b[0m\u001b[0m\n\u001b[1;32m      5\u001b[0m \u001b[0;31m# 들어가는 데이터는 행벡터가 아니고 열벡터로 들어가야함 그래서 열벡터로 바꿔야해\u001b[0m\u001b[0;34m\u001b[0m\u001b[0;34m\u001b[0m\u001b[0m\n",
            "\u001b[0;32m/usr/local/lib/python3.6/dist-packages/sklearn/linear_model/base.py\u001b[0m in \u001b[0;36mpredict\u001b[0;34m(self, X)\u001b[0m\n\u001b[1;32m    254\u001b[0m             \u001b[0mReturns\u001b[0m \u001b[0mpredicted\u001b[0m \u001b[0mvalues\u001b[0m\u001b[0;34m.\u001b[0m\u001b[0;34m\u001b[0m\u001b[0m\n\u001b[1;32m    255\u001b[0m         \"\"\"\n\u001b[0;32m--> 256\u001b[0;31m         \u001b[0;32mreturn\u001b[0m \u001b[0mself\u001b[0m\u001b[0;34m.\u001b[0m\u001b[0m_decision_function\u001b[0m\u001b[0;34m(\u001b[0m\u001b[0mX\u001b[0m\u001b[0;34m)\u001b[0m\u001b[0;34m\u001b[0m\u001b[0m\n\u001b[0m\u001b[1;32m    257\u001b[0m \u001b[0;34m\u001b[0m\u001b[0m\n\u001b[1;32m    258\u001b[0m     \u001b[0m_preprocess_data\u001b[0m \u001b[0;34m=\u001b[0m \u001b[0mstaticmethod\u001b[0m\u001b[0;34m(\u001b[0m\u001b[0m_preprocess_data\u001b[0m\u001b[0;34m)\u001b[0m\u001b[0;34m\u001b[0m\u001b[0m\n",
            "\u001b[0;32m/usr/local/lib/python3.6/dist-packages/sklearn/linear_model/base.py\u001b[0m in \u001b[0;36m_decision_function\u001b[0;34m(self, X)\u001b[0m\n\u001b[1;32m    237\u001b[0m         \u001b[0mcheck_is_fitted\u001b[0m\u001b[0;34m(\u001b[0m\u001b[0mself\u001b[0m\u001b[0;34m,\u001b[0m \u001b[0;34m\"coef_\"\u001b[0m\u001b[0;34m)\u001b[0m\u001b[0;34m\u001b[0m\u001b[0m\n\u001b[1;32m    238\u001b[0m \u001b[0;34m\u001b[0m\u001b[0m\n\u001b[0;32m--> 239\u001b[0;31m         \u001b[0mX\u001b[0m \u001b[0;34m=\u001b[0m \u001b[0mcheck_array\u001b[0m\u001b[0;34m(\u001b[0m\u001b[0mX\u001b[0m\u001b[0;34m,\u001b[0m \u001b[0maccept_sparse\u001b[0m\u001b[0;34m=\u001b[0m\u001b[0;34m[\u001b[0m\u001b[0;34m'csr'\u001b[0m\u001b[0;34m,\u001b[0m \u001b[0;34m'csc'\u001b[0m\u001b[0;34m,\u001b[0m \u001b[0;34m'coo'\u001b[0m\u001b[0;34m]\u001b[0m\u001b[0;34m)\u001b[0m\u001b[0;34m\u001b[0m\u001b[0m\n\u001b[0m\u001b[1;32m    240\u001b[0m         return safe_sparse_dot(X, self.coef_.T,\n\u001b[1;32m    241\u001b[0m                                dense_output=True) + self.intercept_\n",
            "\u001b[0;32m/usr/local/lib/python3.6/dist-packages/sklearn/utils/validation.py\u001b[0m in \u001b[0;36mcheck_array\u001b[0;34m(array, accept_sparse, dtype, order, copy, force_all_finite, ensure_2d, allow_nd, ensure_min_samples, ensure_min_features, warn_on_dtype, estimator)\u001b[0m\n\u001b[1;32m    439\u001b[0m                     \u001b[0;34m\"Reshape your data either using array.reshape(-1, 1) if \"\u001b[0m\u001b[0;34m\u001b[0m\u001b[0m\n\u001b[1;32m    440\u001b[0m                     \u001b[0;34m\"your data has a single feature or array.reshape(1, -1) \"\u001b[0m\u001b[0;34m\u001b[0m\u001b[0m\n\u001b[0;32m--> 441\u001b[0;31m                     \"if it contains a single sample.\".format(array))\n\u001b[0m\u001b[1;32m    442\u001b[0m             \u001b[0marray\u001b[0m \u001b[0;34m=\u001b[0m \u001b[0mnp\u001b[0m\u001b[0;34m.\u001b[0m\u001b[0matleast_2d\u001b[0m\u001b[0;34m(\u001b[0m\u001b[0marray\u001b[0m\u001b[0;34m)\u001b[0m\u001b[0;34m\u001b[0m\u001b[0m\n\u001b[1;32m    443\u001b[0m             \u001b[0;31m# To ensure that array flags are maintained\u001b[0m\u001b[0;34m\u001b[0m\u001b[0;34m\u001b[0m\u001b[0m\n",
            "\u001b[0;31mValueError\u001b[0m: Expected 2D array, got 1D array instead:\narray=[100  98  81].\nReshape your data either using array.reshape(-1, 1) if your data has a single feature or array.reshape(1, -1) if it contains a single sample."
          ]
        }
      ]
    },
    {
      "metadata": {
        "colab_type": "code",
        "id": "M-01nqY9RGKj",
        "outputId": "fbd77cc1-c264-4f97-99bc-0839cf03a3a2",
        "colab": {
          "base_uri": "https://localhost:8080/",
          "height": 35
        }
      },
      "cell_type": "code",
      "source": [
        "lr_model_20.predict(test.reshape(1,-1))"
      ],
      "execution_count": 0,
      "outputs": [
        {
          "output_type": "execute_result",
          "data": {
            "text/plain": [
              "array([[179.98012829]])"
            ]
          },
          "metadata": {
            "tags": []
          },
          "execution_count": 70
        }
      ]
    },
    {
      "metadata": {
        "colab_type": "text",
        "id": "KuDm7wBbRgVQ"
      },
      "cell_type": "markdown",
      "source": [
        "#### lr_model vs. lr_model_20\n",
        "\n",
        "> 전체 데이터를 이용한 모델과 80%의 트레인 데이터를 이용한 모델의 비교"
      ]
    },
    {
      "metadata": {
        "colab_type": "code",
        "id": "y6IDuYceRsYG",
        "outputId": "4833ee05-57c3-43ab-8e47-10dbb399c705",
        "colab": {
          "base_uri": "https://localhost:8080/",
          "height": 35
        }
      },
      "cell_type": "code",
      "source": [
        "# lr_model과 lr_model_20의 예측 비교\n",
        "lr_model.predict(test.reshape(1,-1)),lr_model_20.predict(test.reshape(1,-1))"
      ],
      "execution_count": 0,
      "outputs": [
        {
          "output_type": "execute_result",
          "data": {
            "text/plain": [
              "(array([[178.98753178]]), array([[179.98012829]]))"
            ]
          },
          "metadata": {
            "tags": []
          },
          "execution_count": 71
        }
      ]
    },
    {
      "metadata": {
        "colab_type": "text",
        "id": "xbZobZjvSCEt"
      },
      "cell_type": "markdown",
      "source": [
        "#### 테스트 데이터에 대한 예측 성능 평가"
      ]
    },
    {
      "metadata": {
        "colab_type": "code",
        "id": "gnJwv-SwSA0p",
        "outputId": "bf0c4b77-306e-48d0-a7aa-509f66f7dab9",
        "colab": {
          "base_uri": "https://localhost:8080/",
          "height": 179
        }
      },
      "cell_type": "code",
      "source": [
        "lr_model_20.predict(X_test), y_test"
      ],
      "execution_count": 0,
      "outputs": [
        {
          "output_type": "execute_result",
          "data": {
            "text/plain": [
              "(array([[175.59888],\n",
              "        [174.15721],\n",
              "        [166.86021],\n",
              "        [150.80887],\n",
              "        [190.79323]], dtype=float32), array([[177.],\n",
              "        [175.],\n",
              "        [175.],\n",
              "        [149.],\n",
              "        [192.]], dtype=float32))"
            ]
          },
          "metadata": {
            "tags": []
          },
          "execution_count": 72
        }
      ]
    },
    {
      "metadata": {
        "colab_type": "code",
        "id": "Kz6YqZrdSVeO",
        "outputId": "026c471a-e64c-4f75-fc31-2136da5e6784",
        "colab": {
          "base_uri": "https://localhost:8080/",
          "height": 53
        }
      },
      "cell_type": "code",
      "source": [
        "# 수능 점수에 대한 선형 회기 모델의 정확도\n",
        "\n",
        "print(\"트레인 세트의 정확도: {:.2f}\".format(lr_model_20.score(X_train, y_train)))\n",
        "print(\"테스트 세트의 정확도: {:.2f}\".format(lr_model_20.score(X_test, y_test)))\n"
      ],
      "execution_count": 0,
      "outputs": [
        {
          "output_type": "stream",
          "text": [
            "트레인 세트의 정확도: 0.99\n",
            "테스트 세트의 정확도: 0.92\n"
          ],
          "name": "stdout"
        }
      ]
    },
    {
      "metadata": {
        "id": "T5KZNz6PJV_y",
        "colab_type": "text"
      },
      "cell_type": "markdown",
      "source": [
        "***"
      ]
    },
    {
      "metadata": {
        "colab_type": "text",
        "id": "ciTzquUZc4jx"
      },
      "cell_type": "markdown",
      "source": [
        "## pandas의 데이터프레임을 이용한 수능 성적 회기 분석"
      ]
    },
    {
      "metadata": {
        "colab_type": "text",
        "id": "4boVk_xeTq7r"
      },
      "cell_type": "markdown",
      "source": [
        "### 수능 데이터로 데이터프레임 구성 - pandas"
      ]
    },
    {
      "metadata": {
        "colab_type": "code",
        "id": "Y3eZ4ziYT0XO",
        "outputId": "45c1ae0b-5bce-4f1f-8a9e-cf6557f2c44e",
        "colab": {
          "base_uri": "https://localhost:8080/",
          "height": 824
        }
      },
      "cell_type": "code",
      "source": [
        "# Make dataframe\n",
        "import pandas as pd\n",
        "\n",
        "df = pd.DataFrame(data, columns=['S1','S2','S3','Final'])\n",
        "df"
      ],
      "execution_count": 0,
      "outputs": [
        {
          "output_type": "execute_result",
          "data": {
            "text/html": [
              "<div>\n",
              "<style scoped>\n",
              "    .dataframe tbody tr th:only-of-type {\n",
              "        vertical-align: middle;\n",
              "    }\n",
              "\n",
              "    .dataframe tbody tr th {\n",
              "        vertical-align: top;\n",
              "    }\n",
              "\n",
              "    .dataframe thead th {\n",
              "        text-align: right;\n",
              "    }\n",
              "</style>\n",
              "<table border=\"1\" class=\"dataframe\">\n",
              "  <thead>\n",
              "    <tr style=\"text-align: right;\">\n",
              "      <th></th>\n",
              "      <th>S1</th>\n",
              "      <th>S2</th>\n",
              "      <th>S3</th>\n",
              "      <th>Final</th>\n",
              "    </tr>\n",
              "  </thead>\n",
              "  <tbody>\n",
              "    <tr>\n",
              "      <th>0</th>\n",
              "      <td>73.0</td>\n",
              "      <td>80.0</td>\n",
              "      <td>75.0</td>\n",
              "      <td>152.0</td>\n",
              "    </tr>\n",
              "    <tr>\n",
              "      <th>1</th>\n",
              "      <td>93.0</td>\n",
              "      <td>88.0</td>\n",
              "      <td>93.0</td>\n",
              "      <td>185.0</td>\n",
              "    </tr>\n",
              "    <tr>\n",
              "      <th>2</th>\n",
              "      <td>89.0</td>\n",
              "      <td>91.0</td>\n",
              "      <td>90.0</td>\n",
              "      <td>180.0</td>\n",
              "    </tr>\n",
              "    <tr>\n",
              "      <th>3</th>\n",
              "      <td>96.0</td>\n",
              "      <td>98.0</td>\n",
              "      <td>100.0</td>\n",
              "      <td>196.0</td>\n",
              "    </tr>\n",
              "    <tr>\n",
              "      <th>4</th>\n",
              "      <td>73.0</td>\n",
              "      <td>66.0</td>\n",
              "      <td>70.0</td>\n",
              "      <td>142.0</td>\n",
              "    </tr>\n",
              "    <tr>\n",
              "      <th>5</th>\n",
              "      <td>53.0</td>\n",
              "      <td>46.0</td>\n",
              "      <td>55.0</td>\n",
              "      <td>101.0</td>\n",
              "    </tr>\n",
              "    <tr>\n",
              "      <th>6</th>\n",
              "      <td>69.0</td>\n",
              "      <td>74.0</td>\n",
              "      <td>77.0</td>\n",
              "      <td>149.0</td>\n",
              "    </tr>\n",
              "    <tr>\n",
              "      <th>7</th>\n",
              "      <td>47.0</td>\n",
              "      <td>56.0</td>\n",
              "      <td>60.0</td>\n",
              "      <td>115.0</td>\n",
              "    </tr>\n",
              "    <tr>\n",
              "      <th>8</th>\n",
              "      <td>87.0</td>\n",
              "      <td>79.0</td>\n",
              "      <td>90.0</td>\n",
              "      <td>175.0</td>\n",
              "    </tr>\n",
              "    <tr>\n",
              "      <th>9</th>\n",
              "      <td>79.0</td>\n",
              "      <td>70.0</td>\n",
              "      <td>88.0</td>\n",
              "      <td>164.0</td>\n",
              "    </tr>\n",
              "    <tr>\n",
              "      <th>10</th>\n",
              "      <td>69.0</td>\n",
              "      <td>70.0</td>\n",
              "      <td>73.0</td>\n",
              "      <td>141.0</td>\n",
              "    </tr>\n",
              "    <tr>\n",
              "      <th>11</th>\n",
              "      <td>70.0</td>\n",
              "      <td>65.0</td>\n",
              "      <td>74.0</td>\n",
              "      <td>141.0</td>\n",
              "    </tr>\n",
              "    <tr>\n",
              "      <th>12</th>\n",
              "      <td>93.0</td>\n",
              "      <td>95.0</td>\n",
              "      <td>91.0</td>\n",
              "      <td>184.0</td>\n",
              "    </tr>\n",
              "    <tr>\n",
              "      <th>13</th>\n",
              "      <td>79.0</td>\n",
              "      <td>80.0</td>\n",
              "      <td>73.0</td>\n",
              "      <td>152.0</td>\n",
              "    </tr>\n",
              "    <tr>\n",
              "      <th>14</th>\n",
              "      <td>70.0</td>\n",
              "      <td>73.0</td>\n",
              "      <td>78.0</td>\n",
              "      <td>148.0</td>\n",
              "    </tr>\n",
              "    <tr>\n",
              "      <th>15</th>\n",
              "      <td>93.0</td>\n",
              "      <td>89.0</td>\n",
              "      <td>96.0</td>\n",
              "      <td>192.0</td>\n",
              "    </tr>\n",
              "    <tr>\n",
              "      <th>16</th>\n",
              "      <td>78.0</td>\n",
              "      <td>75.0</td>\n",
              "      <td>68.0</td>\n",
              "      <td>147.0</td>\n",
              "    </tr>\n",
              "    <tr>\n",
              "      <th>17</th>\n",
              "      <td>81.0</td>\n",
              "      <td>90.0</td>\n",
              "      <td>93.0</td>\n",
              "      <td>183.0</td>\n",
              "    </tr>\n",
              "    <tr>\n",
              "      <th>18</th>\n",
              "      <td>88.0</td>\n",
              "      <td>92.0</td>\n",
              "      <td>86.0</td>\n",
              "      <td>177.0</td>\n",
              "    </tr>\n",
              "    <tr>\n",
              "      <th>19</th>\n",
              "      <td>78.0</td>\n",
              "      <td>83.0</td>\n",
              "      <td>77.0</td>\n",
              "      <td>159.0</td>\n",
              "    </tr>\n",
              "    <tr>\n",
              "      <th>20</th>\n",
              "      <td>82.0</td>\n",
              "      <td>86.0</td>\n",
              "      <td>90.0</td>\n",
              "      <td>177.0</td>\n",
              "    </tr>\n",
              "    <tr>\n",
              "      <th>21</th>\n",
              "      <td>86.0</td>\n",
              "      <td>82.0</td>\n",
              "      <td>89.0</td>\n",
              "      <td>175.0</td>\n",
              "    </tr>\n",
              "    <tr>\n",
              "      <th>22</th>\n",
              "      <td>78.0</td>\n",
              "      <td>83.0</td>\n",
              "      <td>85.0</td>\n",
              "      <td>175.0</td>\n",
              "    </tr>\n",
              "    <tr>\n",
              "      <th>23</th>\n",
              "      <td>76.0</td>\n",
              "      <td>83.0</td>\n",
              "      <td>71.0</td>\n",
              "      <td>149.0</td>\n",
              "    </tr>\n",
              "    <tr>\n",
              "      <th>24</th>\n",
              "      <td>96.0</td>\n",
              "      <td>93.0</td>\n",
              "      <td>95.0</td>\n",
              "      <td>192.0</td>\n",
              "    </tr>\n",
              "  </tbody>\n",
              "</table>\n",
              "</div>"
            ],
            "text/plain": [
              "      S1    S2     S3  Final\n",
              "0   73.0  80.0   75.0  152.0\n",
              "1   93.0  88.0   93.0  185.0\n",
              "2   89.0  91.0   90.0  180.0\n",
              "3   96.0  98.0  100.0  196.0\n",
              "4   73.0  66.0   70.0  142.0\n",
              "5   53.0  46.0   55.0  101.0\n",
              "6   69.0  74.0   77.0  149.0\n",
              "7   47.0  56.0   60.0  115.0\n",
              "8   87.0  79.0   90.0  175.0\n",
              "9   79.0  70.0   88.0  164.0\n",
              "10  69.0  70.0   73.0  141.0\n",
              "11  70.0  65.0   74.0  141.0\n",
              "12  93.0  95.0   91.0  184.0\n",
              "13  79.0  80.0   73.0  152.0\n",
              "14  70.0  73.0   78.0  148.0\n",
              "15  93.0  89.0   96.0  192.0\n",
              "16  78.0  75.0   68.0  147.0\n",
              "17  81.0  90.0   93.0  183.0\n",
              "18  88.0  92.0   86.0  177.0\n",
              "19  78.0  83.0   77.0  159.0\n",
              "20  82.0  86.0   90.0  177.0\n",
              "21  86.0  82.0   89.0  175.0\n",
              "22  78.0  83.0   85.0  175.0\n",
              "23  76.0  83.0   71.0  149.0\n",
              "24  96.0  93.0   95.0  192.0"
            ]
          },
          "metadata": {
            "tags": []
          },
          "execution_count": 77
        }
      ]
    },
    {
      "metadata": {
        "id": "iU93ETDaSicl",
        "colab_type": "code",
        "colab": {}
      },
      "cell_type": "code",
      "source": [
        "# matplotlib의 관점에서 설명함"
      ],
      "execution_count": 0,
      "outputs": []
    },
    {
      "metadata": {
        "colab_type": "code",
        "id": "Xl6uVB7QUx2Z",
        "outputId": "1f317d5e-6c68-4982-ef2a-5a506f49aa07",
        "colab": {
          "base_uri": "https://localhost:8080/",
          "height": 35
        }
      },
      "cell_type": "code",
      "source": [
        "# 데이터프레임 길이 정보\n",
        "df.shape,len(df),df.size"
      ],
      "execution_count": 0,
      "outputs": [
        {
          "output_type": "execute_result",
          "data": {
            "text/plain": [
              "((25, 4), 25, 100)"
            ]
          },
          "metadata": {
            "tags": []
          },
          "execution_count": 82
        }
      ]
    },
    {
      "metadata": {
        "colab_type": "code",
        "id": "hBnNVfkVb3yF",
        "colab": {}
      },
      "cell_type": "code",
      "source": [
        "### 데이터프레임을 이용한 그래프 그리기"
      ],
      "execution_count": 0,
      "outputs": []
    },
    {
      "metadata": {
        "colab_type": "code",
        "id": "u8BFHBGxU7Zo",
        "outputId": "e9c2a14e-3c46-45ca-bc17-84ae3426de28",
        "colab": {
          "base_uri": "https://localhost:8080/",
          "height": 354
        }
      },
      "cell_type": "code",
      "source": [
        "# Bar graph of S1\n",
        "df['S1'].plot.bar(figsize=(10,5), title=\"S1\") # plot함수에서 막대 그래프를 가져와서 10,5 크기로 만들어라"
      ],
      "execution_count": 0,
      "outputs": [
        {
          "output_type": "execute_result",
          "data": {
            "text/plain": [
              "<matplotlib.axes._subplots.AxesSubplot at 0x7f8de85622b0>"
            ]
          },
          "metadata": {
            "tags": []
          },
          "execution_count": 85
        },
        {
          "output_type": "display_data",
          "data": {
            "image/png": "[encoded data removed]",
            "text/plain": [
              "<matplotlib.figure.Figure at 0x7f8de856d6d8>"
            ]
          },
          "metadata": {
            "tags": []
          }
        }
      ]
    },
    {
      "metadata": {
        "colab_type": "code",
        "id": "Pf1huIseXIZs",
        "outputId": "7fdea1c4-a961-40e1-b0f3-7373d009f0a4",
        "colab": {
          "base_uri": "https://localhost:8080/",
          "height": 35
        }
      },
      "cell_type": "code",
      "source": [
        "df.columns # 이런 리스트를 전체 사용하여 그래프를 그림 # 긱 그래프의 그림을 그리기 위해서"
      ],
      "execution_count": 0,
      "outputs": [
        {
          "output_type": "execute_result",
          "data": {
            "text/plain": [
              "Index(['S1', 'S2', 'S3', 'Final'], dtype='object')"
            ]
          },
          "metadata": {
            "tags": []
          },
          "execution_count": 86
        }
      ]
    },
    {
      "metadata": {
        "colab_type": "code",
        "id": "13923lrBW6xD",
        "outputId": "5ff339aa-a0a0-41c6-96cf-189ac8319961",
        "colab": {
          "base_uri": "https://localhost:8080/",
          "height": 441
        }
      },
      "cell_type": "code",
      "source": [
        "# Multiple plots\n",
        "series_labels = df.columns # ['S1', 'S2', 'S3', 'Final']\n",
        "\n",
        "# 2x2의 그래프를 그리는 준비\n",
        "fig, axs = plt.subplots(2, 2, figsize=(10, 6)) #, sharex=True, sharey=False) # 2행 2열 총 4개의 그래프, 사이즈는 10 6 앞에꺼 증가하면 가로가 커지고 뒤에꺼 증가하면 세로가 커지고\n",
        "\n",
        "# 세 개 영역 점수와 수능 점수 그래프\n",
        "for axi, idx in zip(axs.ravel(), list(range(4))): # ravel : 구조화되어있는 행렬을 1차원 벡터로 푸는 것 4개를 1 2 3 4로 풀어줌 # 4개, 4개를 서로 묶어줌\n",
        "    \n",
        "    # 예측결과 그래프와 테스트 데이터 점을 그림\n",
        "    df[series_labels[idx]].plot.bar(ax=axi)\n",
        "    axi.set(ylabel='', xlabel='student-id',\n",
        "           title=series_labels[idx])\n",
        "\n",
        "plt.tight_layout()"
      ],
      "execution_count": 0,
      "outputs": [
        {
          "output_type": "display_data",
          "data": {
            "image/png": "[encoded data removed]",
            "text/plain": [
              "<matplotlib.figure.Figure at 0x7f8de836fa90>"
            ]
          },
          "metadata": {
            "tags": []
          }
        }
      ]
    },
    {
      "metadata": {
        "colab_type": "code",
        "id": "2FvsdX6mZ-qx",
        "outputId": "8a248bd8-9cb4-4982-bb9c-8cd03625c832",
        "colab": {
          "base_uri": "https://localhost:8080/",
          "height": 441
        }
      },
      "cell_type": "code",
      "source": [
        "# 위에랑 똑같은 그래프임\n",
        "# sharex, sharey 설정\n",
        "fig, axs = plt.subplots(2, 2, figsize=(10, 6), sharex=False, sharey=False)  # True or False\n",
        "\n",
        "# 세 개 영역 점수와 수능 점수 그래프\n",
        "for axi, idx in zip(axs.ravel(), list(range(4))):\n",
        "    \n",
        "    # 예측결과 그래프와 테스트 데이터 점을 그림\n",
        "    df[series_labels[idx]].plot.bar(ax=axi)\n",
        "    axi.set(ylabel='', xlabel='student-id',\n",
        "           title=series_labels[idx])\n",
        "\n",
        "plt.tight_layout()"
      ],
      "execution_count": 0,
      "outputs": [
        {
          "output_type": "display_data",
          "data": {
            "image/png": "[encoded data removed]",
            "text/plain": [
              "<matplotlib.figure.Figure at 0x7f8de8173c50>"
            ]
          },
          "metadata": {
            "tags": []
          }
        }
      ]
    },
    {
      "metadata": {
        "id": "cuNxcVPIT8WO",
        "colab_type": "code",
        "outputId": "21e8b582-1945-4219-90f8-5ddf34f6936b",
        "colab": {
          "base_uri": "https://localhost:8080/",
          "height": 441
        }
      },
      "cell_type": "code",
      "source": [
        "# [추가]\n",
        "# 위에랑 똑같은 그래프임\n",
        "# sharex, sharey 설정\n",
        "fig, axs = plt.subplots(2, 2, figsize=(10, 6), sharex=False, sharey=True)  # True or False\n",
        "\n",
        "# 세 개 영역 점수와 수능 점수 그래프\n",
        "for axi, idx in zip(axs.ravel(), list(range(4))):\n",
        "    \n",
        "    # 예측결과 그래프와 테스트 데이터 점을 그림\n",
        "    df[series_labels[idx]].plot.bar(ax=axi)\n",
        "    axi.set(ylabel='', xlabel='student-id',\n",
        "           title=series_labels[idx])\n",
        "\n",
        "plt.tight_layout()"
      ],
      "execution_count": 0,
      "outputs": [
        {
          "output_type": "display_data",
          "data": {
            "image/png": "[encoded data removed]",
            "text/plain": [
              "<matplotlib.figure.Figure at 0x7f8de7bb5588>"
            ]
          },
          "metadata": {
            "tags": []
          }
        }
      ]
    },
    {
      "metadata": {
        "colab_type": "code",
        "id": "JI_VIMCysjby",
        "outputId": "be69eb19-ffda-4d45-b643-0f90f55bcef4",
        "colab": {
          "base_uri": "https://localhost:8080/",
          "height": 301
        }
      },
      "cell_type": "code",
      "source": [
        "# 영역평균 그래프\n",
        "df[['S1', 'S2', 'S3']].mean().plot.bar(title='Mean of three sections') # 각 열별로 mean을 나타냄"
      ],
      "execution_count": 0,
      "outputs": [
        {
          "output_type": "execute_result",
          "data": {
            "text/plain": [
              "<matplotlib.axes._subplots.AxesSubplot at 0x7f8de7b30940>"
            ]
          },
          "metadata": {
            "tags": []
          },
          "execution_count": 95
        },
        {
          "output_type": "display_data",
          "data": {
            "image/png": "[encoded data removed]",
            "text/plain": [
              "<matplotlib.figure.Figure at 0x7f8de821af28>"
            ]
          },
          "metadata": {
            "tags": []
          }
        }
      ]
    },
    {
      "metadata": {
        "colab_type": "text",
        "id": "fzwJSRmjdN8-"
      },
      "cell_type": "markdown",
      "source": [
        "#### 다변수 선형회기 분석"
      ]
    },
    {
      "metadata": {
        "colab_type": "code",
        "id": "kJPZ1A6bdn7J",
        "outputId": "cb2de4dd-e0d7-4680-d0dc-08b5049b275f",
        "colab": {
          "base_uri": "https://localhost:8080/",
          "height": 935
        }
      },
      "cell_type": "code",
      "source": [
        "# 입력 데이터 배열과 출력 벡터 분리\n",
        "df[['S1','S2','S3']],df['Final']"
      ],
      "execution_count": 0,
      "outputs": [
        {
          "output_type": "execute_result",
          "data": {
            "text/plain": [
              "(      S1    S2     S3\n",
              " 0   73.0  80.0   75.0\n",
              " 1   93.0  88.0   93.0\n",
              " 2   89.0  91.0   90.0\n",
              " 3   96.0  98.0  100.0\n",
              " 4   73.0  66.0   70.0\n",
              " 5   53.0  46.0   55.0\n",
              " 6   69.0  74.0   77.0\n",
              " 7   47.0  56.0   60.0\n",
              " 8   87.0  79.0   90.0\n",
              " 9   79.0  70.0   88.0\n",
              " 10  69.0  70.0   73.0\n",
              " 11  70.0  65.0   74.0\n",
              " 12  93.0  95.0   91.0\n",
              " 13  79.0  80.0   73.0\n",
              " 14  70.0  73.0   78.0\n",
              " 15  93.0  89.0   96.0\n",
              " 16  78.0  75.0   68.0\n",
              " 17  81.0  90.0   93.0\n",
              " 18  88.0  92.0   86.0\n",
              " 19  78.0  83.0   77.0\n",
              " 20  82.0  86.0   90.0\n",
              " 21  86.0  82.0   89.0\n",
              " 22  78.0  83.0   85.0\n",
              " 23  76.0  83.0   71.0\n",
              " 24  96.0  93.0   95.0, 0     152.0\n",
              " 1     185.0\n",
              " 2     180.0\n",
              " 3     196.0\n",
              " 4     142.0\n",
              " 5     101.0\n",
              " 6     149.0\n",
              " 7     115.0\n",
              " 8     175.0\n",
              " 9     164.0\n",
              " 10    141.0\n",
              " 11    141.0\n",
              " 12    184.0\n",
              " 13    152.0\n",
              " 14    148.0\n",
              " 15    192.0\n",
              " 16    147.0\n",
              " 17    183.0\n",
              " 18    177.0\n",
              " 19    159.0\n",
              " 20    177.0\n",
              " 21    175.0\n",
              " 22    175.0\n",
              " 23    149.0\n",
              " 24    192.0\n",
              " Name: Final, dtype: float32)"
            ]
          },
          "metadata": {
            "tags": []
          },
          "execution_count": 96
        }
      ]
    },
    {
      "metadata": {
        "colab_type": "code",
        "id": "I_TzZ0-BdMjJ",
        "colab": {}
      },
      "cell_type": "code",
      "source": [
        "# 트레인/테스트 데이터 분리\n",
        "from sklearn.model_selection import train_test_split # sklearn의 API 함수 사용\n",
        "\n",
        "X_train, X_test, y_train, y_test = train_test_split(df[['S1','S2','S3']], df['Final'], # 앞에 세 영역이 input 마지막 수능점수가 ourput 테스트사이즈 0.2 -> 트레인데이터를 80으로 할거ㅑㅇㅅ\n",
        "                                                    test_size=0.2, random_state=0) # 방법은 수없이 많으나 고정시킨다"
      ],
      "execution_count": 0,
      "outputs": []
    },
    {
      "metadata": {
        "colab_type": "code",
        "id": "LjcuMdmeehpZ",
        "outputId": "4d9b789d-d3dc-44c4-f48d-88df2f895009",
        "colab": {
          "base_uri": "https://localhost:8080/",
          "height": 35
        }
      },
      "cell_type": "code",
      "source": [
        "X_train.shape, X_test.shape, y_train.shape, y_test.shape"
      ],
      "execution_count": 0,
      "outputs": [
        {
          "output_type": "execute_result",
          "data": {
            "text/plain": [
              "((20, 3), (5, 3), (20,), (5,))"
            ]
          },
          "metadata": {
            "tags": []
          },
          "execution_count": 98
        }
      ]
    },
    {
      "metadata": {
        "colab_type": "code",
        "id": "ORciIQsvg5Nj",
        "outputId": "d1d7fd2b-d459-4411-b37f-74f2118de147",
        "colab": {
          "base_uri": "https://localhost:8080/",
          "height": 35
        }
      },
      "cell_type": "code",
      "source": [
        "# 선형회기 모델\n",
        "# LinearRegression\n",
        "from sklearn.linear_model import LinearRegression\n",
        "\n",
        "# 선형 회기 모델 만들기: 테스트 데이터 이용\n",
        "model = LinearRegression().fit(X_train, y_train)\n",
        "model"
      ],
      "execution_count": 0,
      "outputs": [
        {
          "output_type": "execute_result",
          "data": {
            "text/plain": [
              "LinearRegression(copy_X=True, fit_intercept=True, n_jobs=1, normalize=False)"
            ]
          },
          "metadata": {
            "tags": []
          },
          "execution_count": 99
        }
      ]
    },
    {
      "metadata": {
        "colab_type": "code",
        "id": "wTiYvw6ohNTa",
        "outputId": "33d2ebec-491b-43f6-cac4-d28674e4db89",
        "colab": {
          "base_uri": "https://localhost:8080/",
          "height": 35
        }
      },
      "cell_type": "code",
      "source": [
        "# 선형회기 모델 확인\n",
        "# 선형회기 결과 -> 3개 특성(영역별 점수) 계수 및 y-절편(bias)\n",
        "\n",
        "model.coef_,model.intercept_\n",
        "\n",
        "# 정확도 높은 파라미터\n",
        "# (array([0.32701108, 0.47623563, 1.2409751 ], dtype=float32), -2.69104)"
      ],
      "execution_count": 0,
      "outputs": [
        {
          "output_type": "execute_result",
          "data": {
            "text/plain": [
              "(array([0.32701108, 0.47623563, 1.2409751 ], dtype=float32), -2.69104)"
            ]
          },
          "metadata": {
            "tags": []
          },
          "execution_count": 107
        }
      ]
    },
    {
      "metadata": {
        "colab_type": "code",
        "id": "vCEtv4GJiPmk",
        "outputId": "12624aa0-b0f6-4390-9bd9-aa5c72609b9b",
        "colab": {
          "base_uri": "https://localhost:8080/",
          "height": 143
        }
      },
      "cell_type": "code",
      "source": [
        "model.predict(X_test),y_test"
      ],
      "execution_count": 0,
      "outputs": [
        {
          "output_type": "execute_result",
          "data": {
            "text/plain": [
              "(array([104.80102, 181.43814, 157.89847, 142.9198 , 142.98721],\n",
              "       dtype=float32), 5     101.0\n",
              " 2     180.0\n",
              " 19    159.0\n",
              " 16    147.0\n",
              " 11    141.0\n",
              " Name: Final, dtype: float32)"
            ]
          },
          "metadata": {
            "tags": []
          },
          "execution_count": 101
        }
      ]
    },
    {
      "metadata": {
        "colab_type": "code",
        "id": "LUN-yeCkhsOA",
        "outputId": "84d667bd-79ba-4abe-c882-d60e4c05ff39",
        "colab": {
          "base_uri": "https://localhost:8080/",
          "height": 53
        }
      },
      "cell_type": "code",
      "source": [
        "# 수능 점수에 대한 선형 회기 모델의 정확도\n",
        "\n",
        "print(\"트레인 세트의 정확도: {:.2f}\".format(model.score(X_train, y_train)))\n",
        "print(\"테스트 세트의 정확도: {:.2f}\".format(model.score(X_test, y_test))) # 잘 뽑혀서 좋은 모델이 만들어짐\n"
      ],
      "execution_count": 0,
      "outputs": [
        {
          "output_type": "stream",
          "text": [
            "트레인 세트의 정확도: 0.99\n",
            "테스트 세트의 정확도: 0.99\n"
          ],
          "name": "stdout"
        }
      ]
    },
    {
      "metadata": {
        "id": "ZnFcGMscJWAS",
        "colab_type": "text"
      },
      "cell_type": "markdown",
      "source": [
        "***"
      ]
    },
    {
      "metadata": {
        "id": "Oqr-HaWAJWAS",
        "colab_type": "text"
      },
      "cell_type": "markdown",
      "source": [
        "### 분류와 회기 모델의 정확도는 어떻게 평가?"
      ]
    },
    {
      "metadata": {
        "id": "qAPnnXn3JWAT",
        "colab_type": "text"
      },
      "cell_type": "markdown",
      "source": [
        "1. 분류: \n",
        "    > 테스트 데이터의 원래 label(y)과 예측 label($\\hat y$)과의 비교\n",
        "    \n",
        "2. 회기:\n",
        "    > $R^{2}$\n",
        "    \n",
        "    > $R^{2} = 1 - \\frac {\\sum_{i}(y_{i} - \\hat y_{i})^2} {\\sum_{i}(y_{i} - \\bar y)^2}$\n",
        "    \n",
        "    알 스퀘어 값이 1이면 정확"
      ]
    },
    {
      "metadata": {
        "colab_type": "text",
        "id": "WLjYsq74H9dr"
      },
      "cell_type": "markdown",
      "source": [
        "## [wk13] Study again!\n",
        "\n",
        "> 다음 Youtube 강의 3편를 들으면서 linear regression을 공부하시오.\n",
        "\n",
        "> 특히, 세번째 동영상 linear regression III를 이번 연습과 연관해서 공부하시오.\n"
      ]
    },
    {
      "metadata": {
        "colab_type": "code",
        "id": "udxQCBV2H9dr",
        "outputId": "df70184b-7580-4062-ff6f-b5a92a97dfac",
        "colab": {
          "base_uri": "https://localhost:8080/",
          "height": 320
        }
      },
      "cell_type": "code",
      "source": [
        "from IPython.lib.display import YouTubeVideo\n",
        "YouTubeVideo('uk7UfDgVKrU')  # linear regression I"
      ],
      "execution_count": 0,
      "outputs": [
        {
          "output_type": "execute_result",
          "data": {
            "text/html": [
              "\n",
              "        <iframe\n",
              "            width=\"400\"\n",
              "            height=\"300\"\n",
              "            src=\"https://www.youtube.com/embed/uk7UfDgVKrU\"\n",
              "            frameborder=\"0\"\n",
              "            allowfullscreen\n",
              "        ></iframe>\n",
              "        "
            ],
            "text/plain": [
              "<IPython.lib.display.YouTubeVideo at 0x7f8de82dd470>"
            ],
            "image/jpeg": "[encoded data removed]"
          },
          "metadata": {
            "tags": []
          },
          "execution_count": 108
        }
      ]
    },
    {
      "metadata": {
        "colab_type": "code",
        "id": "yR6dHVsEH9ds",
        "outputId": "240b002c-8fb7-4ec9-e6ab-e4e79057a1e0",
        "colab": {
          "base_uri": "https://localhost:8080/",
          "height": 320
        }
      },
      "cell_type": "code",
      "source": [
        "YouTubeVideo('q0pQ_AdphDo')  # linear regression II"
      ],
      "execution_count": 0,
      "outputs": [
        {
          "output_type": "execute_result",
          "data": {
            "text/html": [
              "\n",
              "        <iframe\n",
              "            width=\"400\"\n",
              "            height=\"300\"\n",
              "            src=\"https://www.youtube.com/embed/q0pQ_AdphDo\"\n",
              "            frameborder=\"0\"\n",
              "            allowfullscreen\n",
              "        ></iframe>\n",
              "        "
            ],
            "text/plain": [
              "<IPython.lib.display.YouTubeVideo at 0x7f8de82dd048>"
            ],
            "image/jpeg": "[encoded data removed]"
          },
          "metadata": {
            "tags": []
          },
          "execution_count": 109
        }
      ]
    },
    {
      "metadata": {
        "colab_type": "code",
        "id": "uFszrcTtH9dv",
        "outputId": "9c0f9f25-c262-4a4e-d163-9406f9abefb0",
        "colab": {
          "base_uri": "https://localhost:8080/",
          "height": 320
        }
      },
      "cell_type": "code",
      "source": [
        "YouTubeVideo('Aw-E-jw3WaE')  # linear regression III"
      ],
      "execution_count": 0,
      "outputs": [
        {
          "output_type": "execute_result",
          "data": {
            "text/html": [
              "\n",
              "        <iframe\n",
              "            width=\"400\"\n",
              "            height=\"300\"\n",
              "            src=\"https://www.youtube.com/embed/Aw-E-jw3WaE\"\n",
              "            frameborder=\"0\"\n",
              "            allowfullscreen\n",
              "        ></iframe>\n",
              "        "
            ],
            "text/plain": [
              "<IPython.lib.display.YouTubeVideo at 0x7f8de82dd1d0>"
            ],
            "image/jpeg": "[encoded data removed]"
          },
          "metadata": {
            "tags": []
          },
          "execution_count": 110
        }
      ]
    },
    {
      "metadata": {
        "colab_type": "text",
        "id": "y03BHvzMH9dx"
      },
      "cell_type": "markdown",
      "source": [
        "***"
      ]
    }
  ]
}