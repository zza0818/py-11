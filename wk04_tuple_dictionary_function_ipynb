{
  "nbformat": 4,
  "nbformat_minor": 0,
  "metadata": {
    "colab": {
      "name": "wk04_tuple_dictionary_function.ipynb의 사본",
      "version": "0.3.2",
      "provenance": [],
      "collapsed_sections": [
        "LNSucE5tzox6",
        "GhHvHImAzox8",
        "ntpYt9-bzox_",
        "hrLmfPMezoyH"
      ],
      "include_colab_link": true
    },
    "kernelspec": {
      "display_name": "Python 3",
      "language": "python",
      "name": "python3"
    }
  },
  "cells": [
    {
      "cell_type": "markdown",
      "metadata": {
        "id": "view-in-github",
        "colab_type": "text"
      },
      "source": [
        "[View in Colaboratory](https://colab.research.google.com/github/zza0818/py-11/blob/master/wk04_tuple_dictionary_function_ipynb)"
      ]
    },
    {
      "metadata": {
        "id": "wxfL9kc6zoxt",
        "colab_type": "text"
      },
      "cell_type": "markdown",
      "source": [
        "# 데이터형 (Date types)\n",
        "\n",
        "- String\n",
        "- Number\n",
        "- Boolean\n",
        "- List\n",
        "- Tuple\n",
        "- Dictionary"
      ]
    },
    {
      "metadata": {
        "id": "2Y5P8_pYz5qf",
        "colab_type": "toc"
      },
      "cell_type": "markdown",
      "source": [
        ">[데이터형 (Date types)](#scrollTo=wxfL9kc6zoxt)\n",
        "\n",
        ">>[딕셔너리를 사용 (Ch.03-01)](#scrollTo=FH6m6bhMzoxu)\n",
        "\n",
        ">>>[딕셔너리(Dictionary)란](#scrollTo=DCzeacPezoxy)\n",
        "\n",
        ">>>[키를 사용하여 요소를 추출하기](#scrollTo=oOlquktszox1)\n",
        "\n",
        ">>>[키를 사용하여 요소를 치환하기](#scrollTo=LNSucE5tzox6)\n",
        "\n",
        ">>>[새로운 키와 값을 추가하기](#scrollTo=GhHvHImAzox8)\n",
        "\n",
        ">>>[키를 사용하여 요소를 삭제](#scrollTo=ntpYt9-bzox_)\n",
        "\n",
        ">>>[키의 존재 확인](#scrollTo=hrLmfPMezoyH)\n",
        "\n",
        ">>>[키를 사용한 루프](#scrollTo=YQQOnsQPzoyP)\n",
        "\n",
        ">>[딕셔너리형 구사 (Ch.4-6)](#scrollTo=ZKSl1ZSYzoyU)\n",
        "\n",
        ">>>[시퀀스 등으로부터 딕셔너리를 작성](#scrollTo=uqoL-__BzoyV)\n",
        "\n",
        ">>>[두 개의 딕셔너리를 조합](#scrollTo=Tbm5Xaxlzoyd)\n",
        "\n",
        ">>>[딕셔너리의 키를 스마트하게 다루기](#scrollTo=DUWT1Mauzoyj)\n",
        "\n",
        ">>[set(집합)을 사용 (Ch.3-2)](#scrollTo=yUFj7fc3zoys)\n",
        "\n",
        ">>>[set의 정의](#scrollTo=-OxbUwvxzoyu)\n",
        "\n",
        ">>>[set의 합집합 구하기](#scrollTo=vI2XdDfAzoyx)\n",
        "\n",
        ">>>[set의 차집합 구하기](#scrollTo=M8kCqilxzoy2)\n",
        "\n",
        ">>>[set의 교집합 구하기](#scrollTo=DKtCi36izoy6)\n",
        "\n",
        ">>>>[set의 대상차집합 구하기](#scrollTo=nMKzkkvjzoy9)\n",
        "\n",
        ">>>[set과 리스트](#scrollTo=Jg18yRCyzozB)\n",
        "\n",
        ">>>[set과 비교](#scrollTo=kCh9wTFuzozI)\n",
        "\n",
        ">>[set형 구사 (Ch.4-5)](#scrollTo=UIR9TlY1zozP)\n",
        "\n",
        ">>>[set형 메쏘드를 활용](#scrollTo=U-g1ZMb7zozQ)\n",
        "\n",
        ">>[튜플(tuple)을 사용 (Ch.03-03)](#scrollTo=EQm7wtwbzozb)\n",
        "\n",
        ">>>[튜플의 이점](#scrollTo=fb0ppf9Szozq)\n",
        "\n",
        ">>[리스트형, 튜플형 구사하기 (Ch.4-4)](#scrollTo=jk3S8pIMzoz2)\n",
        "\n",
        ">>>[리스트를 정렬](#scrollTo=BpGbXDdmzoz2)\n",
        "\n",
        ">>>[정렬 순서 커스터마이징(Customizing)](#scrollTo=pq-GZg_tzoz-)\n",
        "\n",
        ">>>[언팩 대입](#scrollTo=VQ72ppVizo0J)\n",
        "\n",
        ">>>[슬라이스의 스텝 수](#scrollTo=J6ANWY8Gzo0M)\n",
        "\n",
        ">>>[슬라이스를 사용한 요소의 대입과 삭제](#scrollTo=w3uPaJAWzo0W)\n",
        "\n",
        ">>[if문의 응용 (Ch.03-04)](#scrollTo=RPKXNI3Kzo0Z)\n",
        "\n",
        ">>>[비교 연산자와 True(참), False(거짓)](#scrollTo=4CnoeCdGzo0a)\n",
        "\n",
        ">>>[비교에 관한 메모](#scrollTo=UwvrO5E1zo0j)\n",
        "\n",
        ">>>[복잡한 비교 – 논리연산](#scrollTo=3NsrAamRzo00)\n",
        "\n",
        ">>[루프의 응용 (Ch.3-5)](#scrollTo=U_ayC-iOzo02)\n",
        "\n",
        ">>>[while문으로 루프를 작성](#scrollTo=Ro2yPszzzo02)\n",
        "\n",
        ">>>[break문과 continue문을 사용한 루프의 제어](#scrollTo=svfFQDvlzo04)\n",
        "\n",
        ">>[함수의 응용 (Ch.3-6)](#scrollTo=juUpfBNqzo0_)\n",
        "\n",
        ">>>[함수에 디폴트 인수를 정의](#scrollTo=QYhdLpK4zo1E)\n",
        "\n",
        ">>>[인수의 키워드 지정](#scrollTo=6CKM0MaKzo1K)\n",
        "\n",
        ">>>[함수와 지역 변수](#scrollTo=BmeQ017wzo1N)\n",
        "\n",
        ">>[if문과 내장형 (Ch.4-7)](#scrollTo=w_9mrjK8zo1Y)\n",
        "\n",
        ">>>[내장형과 True(참), False(거짓)](#scrollTo=yL8yOwOYzo1Z)\n",
        "\n",
        ">>[for문과 내장형 (Ch.4-8)](#scrollTo=aWLbEyTZzo1r)\n",
        "\n",
        ">>>[range( ) 함수 구사하기](#scrollTo=chvWFG8Zzo1s)\n",
        "\n",
        ">>>[시퀀스와 루프 카운터](#scrollTo=hRQx-qQEzo1y)\n",
        "\n",
        ">>>[두개의 시퀀스를 사용한 루프](#scrollTo=oi35DraXzo12)\n",
        "\n",
        ">>[함수와 내장형 (Ch.4-9)](#scrollTo=Bk3tPJv0zo13)\n",
        "\n",
        ">>>[반환값과 언팩 대입](#scrollTo=BhdEga6Jzo17)\n",
        "\n",
        ">>>>[위의 digest() 함수가 variance도 추가로 반환하게 변경해보시오!](#scrollTo=lknhUkNdDzzm)\n",
        "\n",
        ">>>[함수로 인수 리스트를 받기](#scrollTo=ZnHLqHIWzo1_)\n",
        "\n",
        ">>>[함수로 키워드 인수 받기](#scrollTo=gTIF5d1Hzo2C)\n",
        "\n",
        ">>>[기본 인수 및 갱신 가능한 내장형](#scrollTo=vbtlwiPozo2D)\n",
        "\n",
        ">[Chapter 04-01](#scrollTo=9UkYeaiwzo2I)\n",
        "\n",
        ">>[객체로서의 내장형](#scrollTo=9UkYeaiwzo2I)\n",
        "\n",
        ">>>[메쏘드란?](#scrollTo=6hCU7Ndjzo2K)\n",
        "\n"
      ]
    },
    {
      "metadata": {
        "id": "FH6m6bhMzoxu",
        "colab_type": "text"
      },
      "cell_type": "markdown",
      "source": [
        "## 딕셔너리를 사용 (Ch.03-01)"
      ]
    },
    {
      "metadata": {
        "id": "S-_DXgHAzoxw",
        "colab_type": "code",
        "colab": {}
      },
      "cell_type": "code",
      "source": [
        "# 별명, 출생지, 이름을 리스트에 저장\n",
        "purple = [\"도깨비\", \"서울\", \"김영수\"]\n",
        "\n",
        "# 인덱스를 사용하면 요소를 꺼낼 수 있지만\n",
        "# 인덱스를 기억해야 하기 때문에 조금 복잡하다\n",
        "purple[1]"
      ],
      "execution_count": 0,
      "outputs": []
    },
    {
      "metadata": {
        "id": "DCzeacPezoxy",
        "colab_type": "text"
      },
      "cell_type": "markdown",
      "source": [
        "### 딕셔너리(Dictionary)란  # key, vaule 쌍으로 분류"
      ]
    },
    {
      "metadata": {
        "id": "nWO_OSKWzoxz",
        "colab_type": "code",
        "colab": {}
      },
      "cell_type": "code",
      "source": [
        "# 딕셔너리의 정의\n",
        "purple = {\"별명\": \"도깨비\",\n",
        "          \"출신지\": \"서울\",\n",
        "          \"이름\": \"김영수\"}\n",
        "# javascript의 객체와 유사"
      ],
      "execution_count": 0,
      "outputs": []
    },
    {
      "metadata": {
        "id": "oOlquktszox1",
        "colab_type": "text"
      },
      "cell_type": "markdown",
      "source": [
        "### 키를 사용하여 요소를 추출하기"
      ]
    },
    {
      "metadata": {
        "id": "80nTTQ4Gzox2",
        "colab_type": "code",
        "colab": {}
      },
      "cell_type": "code",
      "source": [
        "# 딕셔너리로부터 값을 추출\n",
        "print(purple[\"출신지\"])"
      ],
      "execution_count": 0,
      "outputs": []
    },
    {
      "metadata": {
        "id": "v-Ga_6Qizox3",
        "colab_type": "code",
        "colab": {}
      },
      "cell_type": "code",
      "source": [
        "# 딕셔너리 purple의 내용을 확인\n",
        "# 딕셔너리의 내용을 보면\n",
        "# 순서가 정의했을 때와 달라지고 있다\n",
        "# (그러나 Python 3.6.5까지, 3.6.6 이후부터는 순서가 보존된다)\n",
        "purple"
      ],
      "execution_count": 0,
      "outputs": []
    },
    {
      "metadata": {
        "id": "3HKkDhL20PaP",
        "colab_type": "code",
        "colab": {}
      },
      "cell_type": "code",
      "source": [
        "!python --version"
      ],
      "execution_count": 0,
      "outputs": []
    },
    {
      "metadata": {
        "id": "UXE5HBFJyF6-",
        "colab_type": "code",
        "colab": {}
      },
      "cell_type": "code",
      "source": [
        "python --version  # 느낌표를 써야 에러가 안남"
      ],
      "execution_count": 0,
      "outputs": []
    },
    {
      "metadata": {
        "id": "LNSucE5tzox6",
        "colab_type": "text"
      },
      "cell_type": "markdown",
      "source": [
        "### 키를 사용하여 요소를 치환하기"
      ]
    },
    {
      "metadata": {
        "id": "RUMWopJ6zox6",
        "colab_type": "code",
        "colab": {}
      },
      "cell_type": "code",
      "source": [
        "# 값의 변경\n",
        "purple[\"이름\"] = \"홍길동\"\n",
        "purple            # 딕셔너리 내용을 확인"
      ],
      "execution_count": 0,
      "outputs": []
    },
    {
      "metadata": {
        "id": "GhHvHImAzox8",
        "colab_type": "text"
      },
      "cell_type": "markdown",
      "source": [
        "### 새로운 키와 값을 추가하기"
      ]
    },
    {
      "metadata": {
        "id": "ST09Mfjkzox9",
        "colab_type": "code",
        "colab": {}
      },
      "cell_type": "code",
      "source": [
        "# 요소의 추가\n",
        "purple[\"생년월일\"] = \"1993년 6월 21일\"\n",
        "purple            # 딕셔너리 내용을 확인 # 한글순으로 입력됨"
      ],
      "execution_count": 0,
      "outputs": []
    },
    {
      "metadata": {
        "id": "ntpYt9-bzox_",
        "colab_type": "text"
      },
      "cell_type": "markdown",
      "source": [
        "### 키를 사용하여 요소를 삭제"
      ]
    },
    {
      "metadata": {
        "id": "ik504Xhyzox_",
        "colab_type": "code",
        "colab": {}
      },
      "cell_type": "code",
      "source": [
        "# 요소의 삭제\n",
        "del purple[\"별명\"]\n",
        "purple            # 딕셔너리 내용을 확인"
      ],
      "execution_count": 0,
      "outputs": []
    },
    {
      "metadata": {
        "id": "Kw9jSQkXzoyD",
        "colab_type": "code",
        "colab": {}
      },
      "cell_type": "code",
      "source": [
        "# 존재하지 않는 키를 지정한 경우\n",
        "purple[\"별명\"] #"
      ],
      "execution_count": 0,
      "outputs": []
    },
    {
      "metadata": {
        "id": "htgdzMBD04AZ",
        "colab_type": "code",
        "colab": {}
      },
      "cell_type": "code",
      "source": [
        "purple.keys()"
      ],
      "execution_count": 0,
      "outputs": []
    },
    {
      "metadata": {
        "id": "KPAEt4bZ099s",
        "colab_type": "code",
        "colab": {}
      },
      "cell_type": "code",
      "source": [
        "purple.values()"
      ],
      "execution_count": 0,
      "outputs": []
    },
    {
      "metadata": {
        "id": "hrLmfPMezoyH",
        "colab_type": "text"
      },
      "cell_type": "markdown",
      "source": [
        "### 키의 존재 확인"
      ]
    },
    {
      "metadata": {
        "id": "nNhTY7JkzoyI",
        "colab_type": "code",
        "colab": {}
      },
      "cell_type": "code",
      "source": [
        "# convert_number() 함수의 정의\n",
        "# in을 사용한 키의 존재 확인 샘플\n",
        "def convert_number(num):\n",
        "    # 아라비아 숫자와 로마 숫자의 대응표를 딕셔너리에 정의\n",
        "    roman_nums = {1:\"I\", 2:\"II\", 3:\"III\", 4:\"IV\", 5:\"V\",\n",
        "                  6:\"VI\", 7:\"VII\", 8:\"VIII\", 9:\"IX\"}\n",
        "    if num in roman_nums:\n",
        "        # 딕셔너리의 키로 인수의 정수가 존재하고 있으면\n",
        "        # 키에 대응하는 값을 리턴값으로 한다\n",
        "        return roman_nums[num]\n",
        "    else:\n",
        "        return \"[변환 불가]\""
      ],
      "execution_count": 0,
      "outputs": []
    },
    {
      "metadata": {
        "id": "DjK2x410zoyM",
        "colab_type": "code",
        "colab": {}
      },
      "cell_type": "code",
      "source": [
        "convert_number(3)   # 함수 호출"
      ],
      "execution_count": 0,
      "outputs": []
    },
    {
      "metadata": {
        "id": "6fxZdy2o1Rkq",
        "colab_type": "code",
        "colab": {}
      },
      "cell_type": "code",
      "source": [
        "convert_number(10) # 넘버에 포함안되면 변환 불가가 나옴"
      ],
      "execution_count": 0,
      "outputs": []
    },
    {
      "metadata": {
        "id": "YQQOnsQPzoyP",
        "colab_type": "text"
      },
      "cell_type": "markdown",
      "source": [
        "### 키를 사용한 루프"
      ]
    },
    {
      "metadata": {
        "id": "_XKcJbTJzoyQ",
        "colab_type": "code",
        "colab": {}
      },
      "cell_type": "code",
      "source": [
        "# 딕셔너리의 키를 사용한 루프\n",
        "purple = {\"별명\": \"도깨비\",\n",
        "          \"출신지\": \"서울\",\n",
        "          \"이름\": \"홍길동\",\n",
        "          \"생년월일\": \"1993년 6월 21일\"}"
      ],
      "execution_count": 0,
      "outputs": []
    },
    {
      "metadata": {
        "id": "2hSxXPhm1j0m",
        "colab_type": "code",
        "colab": {}
      },
      "cell_type": "code",
      "source": [
        "for key in purple:           # 키를 전부 추출\n",
        "    print(key, purple[key])  # 키와 요소를 표시 #콜론을 출력이 안됨"
      ],
      "execution_count": 0,
      "outputs": []
    },
    {
      "metadata": {
        "id": "ZKSl1ZSYzoyU",
        "colab_type": "text"
      },
      "cell_type": "markdown",
      "source": [
        "## 딕셔너리형 구사 (Ch.4-6)"
      ]
    },
    {
      "metadata": {
        "id": "uqoL-__BzoyV",
        "colab_type": "text"
      },
      "cell_type": "markdown",
      "source": [
        "### 시퀀스 등으로부터 딕셔너리를 작성"
      ]
    },
    {
      "metadata": {
        "id": "v62Laqs5zoyW",
        "colab_type": "code",
        "colab": {}
      },
      "cell_type": "code",
      "source": [
        "# {'one':1, 'two':2}라는 딕셔너리를 만든다\n",
        "\n",
        "# 딕셔너리에서 딕셔너리를 만듦(복사)\n",
        "dict({'one':1, 'two':2})"
      ],
      "execution_count": 0,
      "outputs": []
    },
    {
      "metadata": {
        "id": "bCDp485qzoyY",
        "colab_type": "code",
        "colab": {}
      },
      "cell_type": "code",
      "source": [
        "# 키와 값의 시퀀스로 딕셔너리를 만듦\n",
        "dict([['one', 1], ['two', 2]])"
      ],
      "execution_count": 0,
      "outputs": []
    },
    {
      "metadata": {
        "id": "rsZcACMLzoya",
        "colab_type": "code",
        "colab": {}
      },
      "cell_type": "code",
      "source": [
        "# 키워드 인수로 딕셔너리를 만듦\n",
        "dict(one=1, two=2)"
      ],
      "execution_count": 0,
      "outputs": []
    },
    {
      "metadata": {
        "id": "Tbm5Xaxlzoyd",
        "colab_type": "text"
      },
      "cell_type": "markdown",
      "source": [
        "### 두 개의 딕셔너리를 조합"
      ]
    },
    {
      "metadata": {
        "id": "RKBnHhLOzoye",
        "colab_type": "code",
        "colab": {}
      },
      "cell_type": "code",
      "source": [
        "# update() 메쏘드에 의한 딕셔너리의 연결\n",
        "rssitem = {\"title\"  :\"파이썬의 공부 전\",\n",
        "           \"link\"   :\"http://host.to/blog/entry\",\n",
        "           \"dc_date\":\"2016-07-12T13:24:04Z\"}\n",
        "# 딕셔너리 변경\n",
        "rssitem.update({\"title\"     :\"파이썬을 공부 중\",\n",
        "                \"dc:creator\":\"someone\"})\n",
        "rssitem.keys()   # 키의 요약을 표시"
      ],
      "execution_count": 0,
      "outputs": []
    },
    {
      "metadata": {
        "id": "iPeyXl2Pzoyi",
        "colab_type": "code",
        "colab": {}
      },
      "cell_type": "code",
      "source": [
        "rssitem          # 딕셔너리를 표시, 키는 유일! #키값은 중복할수없다"
      ],
      "execution_count": 0,
      "outputs": []
    },
    {
      "metadata": {
        "id": "DUWT1Mauzoyj",
        "colab_type": "text"
      },
      "cell_type": "markdown",
      "source": [
        "### 딕셔너리의 키를 스마트하게 다루기"
      ]
    },
    {
      "metadata": {
        "id": "EVlU59aZzoyk",
        "colab_type": "code",
        "colab": {
          "base_uri": "https://localhost:8080/",
          "height": 35
        },
        "outputId": "2152972f-13cc-4a0e-d3aa-0e7008d9c4f6"
      },
      "cell_type": "code",
      "source": [
        "# 영어 단어의 출현 수를 딕셔너리에서 계산\n",
        "#\n",
        "# 책에서는 지면의 사정 등으로 추상적인 샘플 코드를 게재하고 있지만\n",
        "# 여기에 코드를 보충하여 다시 작성했다\n",
        "\n",
        "line = \"\"\"If you can dream it, you can do it.\n",
        "- Walt Disney\"\"\"    # 2줄 이상의 문장에 큰 따옴표 세개를 한다.\n",
        "wordcnt = {}              # 딕셔너리를 초기화 = 중괄호에 아무것도 없다.\n",
        "for word in line.split():\n",
        "    if word in wordcnt:\n",
        "        wordcnt[word] = wordcnt[word]+1\n",
        "    else:\n",
        "        wordcnt[word] = 1\n",
        "print(wordcnt)            # 결과 표시"
      ],
      "execution_count": 0,
      "outputs": [
        {
          "output_type": "stream",
          "text": [
            "{'If': 1, 'you': 2, 'can': 2, 'dream': 1, 'it,': 1, 'do': 1, 'it.': 1, '-': 1, 'Walt': 1, 'Disney': 1}\n"
          ],
          "name": "stdout"
        }
      ]
    },
    {
      "metadata": {
        "id": "HziI8aY2zoym",
        "colab_type": "code",
        "colab": {
          "base_uri": "https://localhost:8080/",
          "height": 35
        },
        "outputId": "d22b9360-8693-4527-ae39-173870c56084"
      },
      "cell_type": "code",
      "source": [
        "# 딕셔너리의 get 메쏘드를 사용하여 다시 작성\n",
        "wordcnt = {}              # 딕셔너리를 초기화\n",
        "for word in line.split():\n",
        "    wordcnt[word] = wordcnt.get(word, 0)+1\n",
        "print(wordcnt)            # 결과 표시"
      ],
      "execution_count": 0,
      "outputs": [
        {
          "output_type": "stream",
          "text": [
            "{'If': 1, 'you': 2, 'can': 2, 'dream': 1, 'it,': 1, 'do': 1, 'it.': 1, '-': 1, 'Walt': 1, 'Disney': 1}\n"
          ],
          "name": "stdout"
        }
      ]
    },
    {
      "metadata": {
        "id": "VdVBShcxwLe6",
        "colab_type": "code",
        "colab": {
          "base_uri": "https://localhost:8080/",
          "height": 197
        },
        "outputId": "58a3fbd6-2940-427d-dcef-b188bf0e35b8"
      },
      "cell_type": "code",
      "source": [
        "wordcnt"
      ],
      "execution_count": 0,
      "outputs": [
        {
          "output_type": "execute_result",
          "data": {
            "text/plain": [
              "{'-': 1,\n",
              " 'Disney': 1,\n",
              " 'If': 1,\n",
              " 'Walt': 1,\n",
              " 'can': 2,\n",
              " 'do': 1,\n",
              " 'dream': 1,\n",
              " 'it,': 1,\n",
              " 'it.': 1,\n",
              " 'you': 2}"
            ]
          },
          "metadata": {
            "tags": []
          },
          "execution_count": 3
        }
      ]
    },
    {
      "metadata": {
        "id": "l-ta-d1w7J-s",
        "colab_type": "text"
      },
      "cell_type": "markdown",
      "source": [
        "[get() method of dictionary](https://www.programiz.com/python-programming/methods/dictionary/get)"
      ]
    },
    {
      "metadata": {
        "id": "zmOm0cvZzoyo",
        "colab_type": "code",
        "colab": {}
      },
      "cell_type": "code",
      "source": [
        "# 더미 setdefault()를 사용한 샘플\n",
        "wordcnt = {}              # 딕셔너리를 초기화\n",
        "for word in line.split():\n",
        "    wordcnt[word] = wordcnt.setdefault(word, 0) + 1\n",
        "print(wordcnt)            # 결과 표시"
      ],
      "execution_count": 0,
      "outputs": []
    },
    {
      "metadata": {
        "id": "TYSjJO99zoyq",
        "colab_type": "code",
        "colab": {}
      },
      "cell_type": "code",
      "source": [
        "# "
      ],
      "execution_count": 0,
      "outputs": []
    },
    {
      "metadata": {
        "id": "yUFj7fc3zoys",
        "colab_type": "text"
      },
      "cell_type": "markdown",
      "source": [
        "## set(집합)을 사용 (Ch.3-2)"
      ]
    },
    {
      "metadata": {
        "id": "-OxbUwvxzoyu",
        "colab_type": "text"
      },
      "cell_type": "markdown",
      "source": [
        "### set의 정의"
      ]
    },
    {
      "metadata": {
        "id": "WGxZpAqdzoyu",
        "colab_type": "code",
        "colab": {}
      },
      "cell_type": "code",
      "source": [
        "# set의 정의: key 없이 항목으로만 정의\n",
        "dice = {1, 2, 3, 4, 5, 6}\n",
        "coin = {\"앞면\", \"뒷면\"}"
      ],
      "execution_count": 0,
      "outputs": []
    },
    {
      "metadata": {
        "id": "vI2XdDfAzoyx",
        "colab_type": "text"
      },
      "cell_type": "markdown",
      "source": [
        "### set의 합집합 구하기"
      ]
    },
    {
      "metadata": {
        "id": "EU6piRfSzoyy",
        "colab_type": "code",
        "colab": {}
      },
      "cell_type": "code",
      "source": [
        "# 합집합의 연산\n",
        "prime = {2, 3, 5, 7, 13, 17}  # 소수의 set을 정의\n",
        "fib = {1, 1, 2, 3, 5, 8, 13}  # 피보나치수의 set을 정의\n",
        "\n",
        "prime_fib = prime | fib       # 2개의 합집합\n",
        "prime_fib                     # 얻어진 합집합을 표시"
      ],
      "execution_count": 0,
      "outputs": []
    },
    {
      "metadata": {
        "id": "2NmLnYB7wLfC",
        "colab_type": "code",
        "colab": {}
      },
      "cell_type": "code",
      "source": [
        "# 중복 불허\n",
        "fib,prime"
      ],
      "execution_count": 0,
      "outputs": []
    },
    {
      "metadata": {
        "id": "M8kCqilxzoy2",
        "colab_type": "text"
      },
      "cell_type": "markdown",
      "source": [
        "### set의 차집합 구하기"
      ]
    },
    {
      "metadata": {
        "id": "LqqPKA9Lzoy3",
        "colab_type": "code",
        "colab": {}
      },
      "cell_type": "code",
      "source": [
        "# 차집합의 작성\n",
        "dice = {1, 2, 3, 4, 5, 6}      # 주사위 눈의 set을 정의\n",
        "even = {2, 4, 6, 8, 10}        # 짝수의 set을 정의\n",
        "\n",
        "odd_dice = dice - even         # 주사위의 눈과 짝수의 차집합\n",
        "odd_dice                       # 홀수만 표시"
      ],
      "execution_count": 0,
      "outputs": []
    },
    {
      "metadata": {
        "id": "nPIQsaUwwLfH",
        "colab_type": "code",
        "colab": {}
      },
      "cell_type": "code",
      "source": [
        "even-dice"
      ],
      "execution_count": 0,
      "outputs": []
    },
    {
      "metadata": {
        "id": "DKtCi36izoy6",
        "colab_type": "text"
      },
      "cell_type": "markdown",
      "source": [
        "### set의 교집합 구하기"
      ]
    },
    {
      "metadata": {
        "id": "vr5TOTSPzoy6",
        "colab_type": "code",
        "colab": {}
      },
      "cell_type": "code",
      "source": [
        "# 교집합 구하기\n",
        "prefs = {\"부산\", \"충청남도\", \"전라남도\", \"경상남도\"}  # 지방명의 set을 정의\n",
        "capitals = {\"부산\", \"천안\", \"나주\", \"창원\", \"경상남도\"}        # 도청소재지의 set을 정의\n",
        "\n",
        "pref_cap = prefs ^ capitals       # 2개의 교집합\n",
        "pref_cap                          # 교집합의 표시"
      ],
      "execution_count": 0,
      "outputs": []
    },
    {
      "metadata": {
        "id": "nMKzkkvjzoy9",
        "colab_type": "text"
      },
      "cell_type": "markdown",
      "source": [
        "#### set의 대상차집합 구하기"
      ]
    },
    {
      "metadata": {
        "id": "GADjO9u9zoy-",
        "colab_type": "code",
        "colab": {}
      },
      "cell_type": "code",
      "source": [
        "# 대상차집합의 작성\n",
        "prefs = {\"부산\", \"충청남도\", \"전라남도\", \"경상남도\"}  # 지방명의 set을 정의\n",
        "capitals = {\"부산\", \"천안\", \"나주\", \"창원\"}        # 도청소재지의 set을 정의\n",
        "\n",
        "pref_cap2 = prefs ^ capitals       # 2개의 대상차집합을 구함\n",
        "pref_cap2                          # 대상차집합을 표시"
      ],
      "execution_count": 0,
      "outputs": []
    },
    {
      "metadata": {
        "id": "Jg18yRCyzozB",
        "colab_type": "text"
      },
      "cell_type": "markdown",
      "source": [
        "### set과 리스트"
      ]
    },
    {
      "metadata": {
        "id": "rpA7zRfzzozE",
        "colab_type": "code",
        "colab": {}
      },
      "cell_type": "code",
      "source": [
        "# 리스트를 set에 변환하기\n",
        "# set을 사용하여 문자열 리스트의 중복을 제거하는\n",
        "# 문자열 리스트를 정의\n",
        "codon = ['ATG', 'GGC', 'TCC', 'AAG', 'TTC', 'TGG',\n",
        "         'GAC', 'TCC']\n",
        "s_codon = set(codon)      # 리스트를 set으로 변환\n",
        "print(len(codon), len(s_codon))    # 리스트와 set의 길이를 표시"
      ],
      "execution_count": 0,
      "outputs": []
    },
    {
      "metadata": {
        "id": "4G4v81jdzozG",
        "colab_type": "code",
        "colab": {}
      },
      "cell_type": "code",
      "source": [
        "s_codon  # 코돈(codon)이란 특정 아미노산을 결정짓는 mRNA 상의 3개의 염기서열"
      ],
      "execution_count": 0,
      "outputs": []
    },
    {
      "metadata": {
        "id": "kCh9wTFuzozI",
        "colab_type": "text"
      },
      "cell_type": "markdown",
      "source": [
        "### set과 비교"
      ]
    },
    {
      "metadata": {
        "id": "8qb1Xm6UzozI",
        "colab_type": "code",
        "colab": {}
      },
      "cell_type": "code",
      "source": [
        "# 요소의 검색과 set의 비교\n",
        "prime = {2, 3, 5, 7, 13, 17}  # 소수의 set을 정의\n",
        "fib = {1, 1, 2, 3, 5, 8, 13}  # 피보나치수의 set을 정의\n",
        "\n",
        "prime_fib = prime & fib       # 2개의 교집합을 연산\n",
        "if 13 in prime_fib:\n",
        "    print(\"13은 소수이고, 피보나치 수이기도 하다\")\n",
        "if {2, 3} <= prime_fib:\n",
        "    print(\"2, 3은 소수이고, 피보나치 수이기도 하다\")"
      ],
      "execution_count": 0,
      "outputs": []
    },
    {
      "metadata": {
        "id": "ChoJFGQDzozK",
        "colab_type": "code",
        "colab": {}
      },
      "cell_type": "code",
      "source": [
        "prime_fib"
      ],
      "execution_count": 0,
      "outputs": []
    },
    {
      "metadata": {
        "id": "slGZiHaAzozM",
        "colab_type": "code",
        "colab": {}
      },
      "cell_type": "code",
      "source": [
        "if {1, 2, 3} <= prime_fib:\n",
        "    print(\"2, 3은 소수이고, 피보나치 수이기도 하다\")\n",
        "# else 추가 \"1은 소수가 아니다.\" \n",
        "else:\n",
        "    print(\"1은 소수가 아니다.\" )"
      ],
      "execution_count": 0,
      "outputs": []
    },
    {
      "metadata": {
        "id": "vj4LNv7GzozN",
        "colab_type": "code",
        "colab": {}
      },
      "cell_type": "code",
      "source": [
        ""
      ],
      "execution_count": 0,
      "outputs": []
    },
    {
      "metadata": {
        "id": "UIR9TlY1zozP",
        "colab_type": "text"
      },
      "cell_type": "markdown",
      "source": [
        "## set형 구사 (Ch.4-5)"
      ]
    },
    {
      "metadata": {
        "id": "U-g1ZMb7zozQ",
        "colab_type": "text"
      },
      "cell_type": "markdown",
      "source": [
        "### set형 메쏘드를 활용"
      ]
    },
    {
      "metadata": {
        "id": "GXnO9RYLzozQ",
        "colab_type": "code",
        "colab": {}
      },
      "cell_type": "code",
      "source": [
        "# set형 메쏘드에는 두가지 방법이 있다\n",
        "# 하나는 결과 set의 복사본을 반환 객체를 변경하는 메쏘드이다\n",
        "prime = set([2, 3, 5, 7, 11])\n",
        "fib = set([1, 1, 2, 3, 5, 8]) #1이 중복되있어서 중복을 뺀다.\n",
        "new_set = prime.union(fib)     # 메소드가 돌려주는 결과를 변수로 받음\n",
        "new_set                        # 변수를 표시"
      ],
      "execution_count": 0,
      "outputs": []
    },
    {
      "metadata": {
        "id": "qc13SoaazozS",
        "colab_type": "code",
        "colab": {}
      },
      "cell_type": "code",
      "source": [
        "prime                          # 메쏘드를 호출한 원래의 변수는 변하지 않는다"
      ],
      "execution_count": 0,
      "outputs": []
    },
    {
      "metadata": {
        "id": "NTkwxhojzozT",
        "colab_type": "code",
        "colab": {}
      },
      "cell_type": "code",
      "source": [
        "# 다른 하나는 개체 자체를 변경하는 메쏘드입니다\n",
        "\n",
        "prefs = set(['서울시', '경기도', '강원도'])   # set 정의\n",
        "prefs.add('제주도')                        # 요수를 추가\n",
        "prefs                                     # 요소를 표시"
      ],
      "execution_count": 0,
      "outputs": []
    },
    {
      "metadata": {
        "id": "fywh4GF4zoza",
        "colab_type": "code",
        "colab": {}
      },
      "cell_type": "code",
      "source": [
        ""
      ],
      "execution_count": 0,
      "outputs": []
    },
    {
      "metadata": {
        "id": "EQm7wtwbzozb",
        "colab_type": "text"
      },
      "cell_type": "markdown",
      "source": [
        "## 튜플(tuple) (Ch.03-03)"
      ]
    },
    {
      "metadata": {
        "id": "j6u_rGsbzozc",
        "colab_type": "code",
        "colab": {}
      },
      "cell_type": "code",
      "source": [
        "# 튜플의 정의 ()소괄호로 정의하고 안에 내용을 바꿀수 없다.\n",
        "month_names = (\"January\", \"February\", \"March\", \"April\",\n",
        "               \"May\", \"June\", \"July\")"
      ],
      "execution_count": 0,
      "outputs": []
    },
    {
      "metadata": {
        "id": "sLAAiNWnzozg",
        "colab_type": "code",
        "colab": {}
      },
      "cell_type": "code",
      "source": [
        "# 튜플에서 요소를 추출\n",
        "month_names[1]   # 2월의 이름을 표시"
      ],
      "execution_count": 0,
      "outputs": []
    },
    {
      "metadata": {
        "id": "93-NRaP-zozj",
        "colab_type": "code",
        "colab": {}
      },
      "cell_type": "code",
      "source": [
        "# 튜플은 요소의 변경이 불가능!!!\n",
        "month_names[0] = \"일월\"  #딕셔너리는 바꿀수 있었는데 소괄호로 정의되는 튜플은 변경 불가능"
      ],
      "execution_count": 0,
      "outputs": []
    },
    {
      "metadata": {
        "id": "alg-v8Unzozn",
        "colab_type": "code",
        "colab": {}
      },
      "cell_type": "code",
      "source": [
        "# 튜플의 연결\n",
        "month_names = month_names + (\"August\", \"September\", \"October\", \n",
        "                           \"November\", \"December\")\n",
        "month_names[11]   # 12월의 이름을 표시"
      ],
      "execution_count": 0,
      "outputs": []
    },
    {
      "metadata": {
        "id": "fb0ppf9Szozq",
        "colab_type": "text"
      },
      "cell_type": "markdown",
      "source": [
        "### 튜플의 이점"
      ]
    },
    {
      "metadata": {
        "id": "OE59r8-Rzozs",
        "colab_type": "code",
        "colab": {}
      },
      "cell_type": "code",
      "source": [
        "# 튜플을 키로 사용한 딕셔너리의 작성\n",
        "# 시/도청 소재지와 위도, 경도를 딕셔너리에 등록\n",
        "pref_capitals = {(37.27479, 127.00962):\"경기도(수원시)\",\n",
        "                 (37.88565, 127.73):\"강원도(춘천시)\",\n",
        "                 (36.48008, 127.28921):\"세종특별자치시(보람동)\"}  #}이거를 안해주면 튜플이 마무리가 안됨"
      ],
      "execution_count": 0,
      "outputs": []
    },
    {
      "metadata": {
        "id": "TeH5a101zozt",
        "colab_type": "code",
        "colab": {}
      },
      "cell_type": "code",
      "source": [
        "# 지정한 위도, 경도에 맞는 시/도청 소재지를 조사\n",
        "loc = (36.48008, 127.28921)    # 조사하고 싶은 지점의 위도, 경도\n",
        "for key in pref_capitals:      # 키로 루프\n",
        "    if loc == key:\n",
        "        # 조사하고 싶은 지점과 딕셔너리의 키가 같은가\n",
        "        print(pref_capitals[key])\n",
        "        break                 # 루프를 빠져나옴"
      ],
      "execution_count": 0,
      "outputs": []
    },
    {
      "metadata": {
        "id": "JDCmbBebzozx",
        "colab_type": "code",
        "colab": {}
      },
      "cell_type": "code",
      "source": [
        "# 지정한 위도, 경도에 가장 가까운 시/도청 소재지를 조사\n",
        "loc = (36.35016, 127.38571)   # 조사하고 싶은 지점의 위도, 경도\n",
        "nearest_cap = ''              # 가장 가까운 시/도청 소재지명을 보존하는 변수\n",
        "nearest_dist = 10000          # 가장 가까운 지점까지의 거리를 보존하는 변수\n",
        "for key in pref_capitals:     # 키로 루프\n",
        "    # 위도, 경도의 차를 제곱하여 거리를 계산\n",
        "    dist = (loc[0]-key[0])**2+(loc[1]-key[1])**2  # distance between locations\n",
        "    if nearest_dist > dist:\n",
        "        # 보다 가까운 지점을 발견했으므로 변수에 대입\n",
        "        nearest_dist = dist\n",
        "        nearest_cap = pref_capitals[key]\n",
        "\n",
        "print(nearest_cap)"
      ],
      "execution_count": 0,
      "outputs": []
    },
    {
      "metadata": {
        "id": "_V4maJYZzozz",
        "colab_type": "code",
        "colab": {}
      },
      "cell_type": "code",
      "source": [
        "# break\n",
        "# break\n",
        "# break"
      ],
      "execution_count": 0,
      "outputs": []
    },
    {
      "metadata": {
        "id": "jk3S8pIMzoz2",
        "colab_type": "text"
      },
      "cell_type": "markdown",
      "source": [
        "## 리스트형, 튜플형 구사하기 (Ch.4-4)"
      ]
    },
    {
      "metadata": {
        "id": "BpGbXDdmzoz2",
        "colab_type": "text"
      },
      "cell_type": "markdown",
      "source": [
        "### 리스트를 정렬"
      ]
    },
    {
      "metadata": {
        "id": "OWFkcSbbzoz3",
        "colab_type": "code",
        "colab": {}
      },
      "cell_type": "code",
      "source": [
        "# 오름차순으로 정렬\n",
        "monk_fish_team = [158, 157, 163, 157, 145]\n",
        "monk_fish_team.sort()          # 정렬하기\n",
        "monk_fish_team                 # 리스트 내용 확인"
      ],
      "execution_count": 0,
      "outputs": []
    },
    {
      "metadata": {
        "id": "AR3jmEKFzoz5",
        "colab_type": "code",
        "colab": {}
      },
      "cell_type": "code",
      "source": [
        "# 내림차순으로 정렬\n",
        "monk_fish_team.sort(reverse=True)  # 정렬하기\n",
        "monk_fish_team                     # 리스트 내용 확인"
      ],
      "execution_count": 0,
      "outputs": []
    },
    {
      "metadata": {
        "id": "pq-GZg_tzoz-",
        "colab_type": "text"
      },
      "cell_type": "markdown",
      "source": [
        "### 정렬 순서 커스터마이징(Customizing)"
      ]
    },
    {
      "metadata": {
        "id": "R8Wr4i2Mzoz_",
        "colab_type": "code",
        "colab": {}
      },
      "cell_type": "code",
      "source": [
        "# 튜플의 리스트를 작성 \n",
        "tank_data = [(\"A형 전차\", 38, 80, 75), (\"B형 전차\", 42, 50, 37),\n",
        "             (\"X형 전차\", 20, 17, 57), (\"Y형 전차\", 40, 50, 75),\n",
        "             (\"Z형 전차\", 39, 51, 75)]"
      ],
      "execution_count": 0,
      "outputs": []
    },
    {
      "metadata": {
        "id": "a1_cwOiIzo0A",
        "colab_type": "code",
        "colab": {}
      },
      "cell_type": "code",
      "source": [
        "# 전차의 제원을 더해 반환하는 함수\n",
        "# 정렬에 사용할 함수를 정의\n",
        "def evaluate_tankdata(tup):\n",
        "    return tup[1]+tup[2]+tup[3]"
      ],
      "execution_count": 0,
      "outputs": []
    },
    {
      "metadata": {
        "id": "KCrgLoTizo0D",
        "colab_type": "code",
        "colab": {}
      },
      "cell_type": "code",
      "source": [
        "# 각 전차의 강함을 표시\n",
        "print(evaluate_tankdata(tank_data[0]))\n",
        "print(evaluate_tankdata(tank_data[4]))"
      ],
      "execution_count": 0,
      "outputs": []
    },
    {
      "metadata": {
        "id": "Ljsf79LD7oM3",
        "colab_type": "code",
        "colab": {}
      },
      "cell_type": "code",
      "source": [
        "# 다음 계산 결과는?\n",
        "evaluate_tankdata(tank_data)"
      ],
      "execution_count": 0,
      "outputs": []
    },
    {
      "metadata": {
        "id": "hvXkKRDlzo0F",
        "colab_type": "code",
        "colab": {}
      },
      "cell_type": "code",
      "source": [
        "# 전차의 강함으로 정렬하기\n",
        "tank_data.sort(key=evaluate_tankdata, reverse=True)\n",
        "print(tank_data)"
      ],
      "execution_count": 0,
      "outputs": []
    },
    {
      "metadata": {
        "id": "VQ72ppVizo0J",
        "colab_type": "text"
      },
      "cell_type": "markdown",
      "source": [
        "### 언팩 대입"
      ]
    },
    {
      "metadata": {
        "id": "EQX6-MzIzo0J",
        "colab_type": "code",
        "colab": {}
      },
      "cell_type": "code",
      "source": [
        "# 언팩 대입 사용\n",
        "a = 1\n",
        "b = 2\n",
        "b, a = a, b   # 여러 개의 요소를 동시에 대입\n",
        "print(a, b)"
      ],
      "execution_count": 0,
      "outputs": []
    },
    {
      "metadata": {
        "id": "J6ANWY8Gzo0M",
        "colab_type": "text"
      },
      "cell_type": "markdown",
      "source": [
        "### 슬라이스의 스텝 수 <중간고사 필기시험>\n"
      ]
    },
    {
      "metadata": {
        "id": "ubNfuvlgzo0M",
        "colab_type": "code",
        "colab": {}
      },
      "cell_type": "code",
      "source": [
        "# 리스트에서 슬라이스로 요소를 추출\n",
        "a = [1, 2, 3, 4, 5]   # 리스트 정의\n",
        "a                     # 리스트 보기"
      ],
      "execution_count": 0,
      "outputs": []
    },
    {
      "metadata": {
        "id": "HX-sfGoIzo0Q",
        "colab_type": "code",
        "colab": {}
      },
      "cell_type": "code",
      "source": [
        "# 슬라이스의 범위를 지정\n",
        "a[1:4]                # 인덱스 1부터 3까지 추출, [1:3]이 아닌 것에 주의"
      ],
      "execution_count": 0,
      "outputs": []
    },
    {
      "metadata": {
        "id": "p8gCXgvmzo0T",
        "colab_type": "code",
        "colab": {}
      },
      "cell_type": "code",
      "source": [
        "# 인덱스 이상의 요소 수를 지정\n",
        "a[2:100]              # 오류가 나지 않음"
      ],
      "execution_count": 0,
      "outputs": []
    },
    {
      "metadata": {
        "id": "2tGzrzdN87Yp",
        "colab_type": "code",
        "colab": {}
      },
      "cell_type": "code",
      "source": [
        "a[:]"
      ],
      "execution_count": 0,
      "outputs": []
    },
    {
      "metadata": {
        "id": "Oa5w3VfdwLgE",
        "colab_type": "code",
        "colab": {}
      },
      "cell_type": "code",
      "source": [
        "a[-1] # -1은 역순이라서 마지막부터"
      ],
      "execution_count": 0,
      "outputs": []
    },
    {
      "metadata": {
        "id": "m0ZYyHQGwLgG",
        "colab_type": "code",
        "colab": {}
      },
      "cell_type": "code",
      "source": [
        "a[:-1] #마지막은 포함안함"
      ],
      "execution_count": 0,
      "outputs": []
    },
    {
      "metadata": {
        "id": "HqU4soyE8_GI",
        "colab_type": "code",
        "colab": {}
      },
      "cell_type": "code",
      "source": [
        "\n",
        "a[:-2] #마지막 두번째는 포함안함"
      ],
      "execution_count": 0,
      "outputs": []
    },
    {
      "metadata": {
        "id": "A_Rry6BHzo0V",
        "colab_type": "code",
        "colab": {}
      },
      "cell_type": "code",
      "source": [
        "a[::2]                # 리스트에서 짝수번째의 요소를 추출"
      ],
      "execution_count": 0,
      "outputs": []
    },
    {
      "metadata": {
        "id": "w3uPaJAWzo0W",
        "colab_type": "text"
      },
      "cell_type": "markdown",
      "source": [
        "### 슬라이스를 사용한 요소의 대입과 삭제"
      ]
    },
    {
      "metadata": {
        "id": "EgeV1IGVzo0X",
        "colab_type": "code",
        "colab": {}
      },
      "cell_type": "code",
      "source": [
        "# 요소의 추가\n",
        "a = [1, 2, 3, 4, 5]   # 리스트를 작성\n",
        "# 리스트의 3번째 부터 다섯번째 요소를 치환\n",
        "a[2:4] = ['Three', 'Four', 'five']\n",
        "a                     # 결과의 표시 ? Understand???"
      ],
      "execution_count": 0,
      "outputs": []
    },
    {
      "metadata": {
        "id": "welUHuS8zo0Y",
        "colab_type": "code",
        "colab": {}
      },
      "cell_type": "code",
      "source": [
        "# 요소의 삭제\n",
        "a = [1, 2, 3, 4, 5]   # 리스트를 작성\n",
        "del a[2:]             # 3번째부터 마지막까지 삭제\n",
        "a                     # 결과 확인"
      ],
      "execution_count": 0,
      "outputs": []
    },
    {
      "metadata": {
        "id": "RPKXNI3Kzo0Z",
        "colab_type": "text"
      },
      "cell_type": "markdown",
      "source": [
        "## if문의 응용 (Ch.03-04)"
      ]
    },
    {
      "metadata": {
        "id": "4CnoeCdGzo0a",
        "colab_type": "text"
      },
      "cell_type": "markdown",
      "source": [
        "### 비교 연산자와 True(참), False(거짓)"
      ]
    },
    {
      "metadata": {
        "id": "M0bLbx7bzo0a",
        "colab_type": "code",
        "colab": {}
      },
      "cell_type": "code",
      "source": [
        "# 비교식에서는 결과에 따라 True(참), False(거짓)가 돌아온다\n",
        "1+1 == 2          # 수식과 수치 비교 1"
      ],
      "execution_count": 0,
      "outputs": []
    },
    {
      "metadata": {
        "id": "5REJULxbzo0b",
        "colab_type": "code",
        "colab": {}
      },
      "cell_type": "code",
      "source": [
        "5**(4-4)+9 == 10  # 수식과 수치 비교 1"
      ],
      "execution_count": 0,
      "outputs": []
    },
    {
      "metadata": {
        "id": "17e-cxJwzo0c",
        "colab_type": "code",
        "colab": {}
      },
      "cell_type": "code",
      "source": [
        "5 > 2             # 수치의 크고 작음 비교"
      ],
      "execution_count": 0,
      "outputs": []
    },
    {
      "metadata": {
        "id": "JxmP6ugKzo0e",
        "colab_type": "code",
        "colab": {}
      },
      "cell_type": "code",
      "source": [
        "100 == 100.0      # 정수와 부동 소수점 비교 "
      ],
      "execution_count": 0,
      "outputs": []
    },
    {
      "metadata": {
        "id": "7IyXU1dB96Gx",
        "colab_type": "code",
        "colab": {}
      },
      "cell_type": "code",
      "source": [
        "100 === 100.0"
      ],
      "execution_count": 0,
      "outputs": []
    },
    {
      "metadata": {
        "id": "OluBRvslzo0g",
        "colab_type": "code",
        "colab": {}
      },
      "cell_type": "code",
      "source": [
        "\"길동\" != \"홍길동\"   # 문자열 비교"
      ],
      "execution_count": 0,
      "outputs": []
    },
    {
      "metadata": {
        "id": "_J82vkO2zo0i",
        "colab_type": "code",
        "colab": {}
      },
      "cell_type": "code",
      "source": [
        "[1, 2, 3] == [1, 2, 3]  # 리스트와 리스트의 비교"
      ],
      "execution_count": 0,
      "outputs": []
    },
    {
      "metadata": {
        "id": "UwvrO5E1zo0j",
        "colab_type": "text"
      },
      "cell_type": "markdown",
      "source": [
        "### 비교에 관한 메모"
      ]
    },
    {
      "metadata": {
        "id": "RNRkxl16zo0k",
        "colab_type": "code",
        "colab": {}
      },
      "cell_type": "code",
      "source": [
        "# Python(3)는 다른 형태의 비교를 실행 할 수 없다 #숫자와 문자는 비교 못함\n",
        "1 < \"2\"    # 오류가 발생"
      ],
      "execution_count": 0,
      "outputs": []
    },
    {
      "metadata": {
        "id": "oCfXDH7lzo0m",
        "colab_type": "code",
        "colab": {}
      },
      "cell_type": "code",
      "source": [
        "# 문자열을 명시적으로 숫자로 변환하여 비교하는 것이 파이썬의 방법 #int를 사용하면 숫자로 바껴서 비교 가능\n",
        "1 < int(\"2\")"
      ],
      "execution_count": 0,
      "outputs": []
    },
    {
      "metadata": {
        "id": "aDrYIeT3zo0n",
        "colab_type": "code",
        "colab": {}
      },
      "cell_type": "code",
      "source": [
        "# 문자열끼리의 비교 (대소)\n",
        "\"100\" < \"200\"    # 보기 원하는 결과가 돌아오고 있는 것 같지만"
      ],
      "execution_count": 0,
      "outputs": []
    },
    {
      "metadata": {
        "id": "sqUAr1sXzo0q",
        "colab_type": "code",
        "colab": {}
      },
      "cell_type": "code",
      "source": [
        "\"100\" < \"2\"      # (내부적으로) 문자열을 숫자로 비교하는 것은 아니다"
      ],
      "execution_count": 0,
      "outputs": []
    },
    {
      "metadata": {
        "id": "D0BUolGXzo0u",
        "colab_type": "code",
        "colab": {}
      },
      "cell_type": "code",
      "source": [
        "\"100\" > \"2\""
      ],
      "execution_count": 0,
      "outputs": []
    },
    {
      "metadata": {
        "id": "3NsrAamRzo00",
        "colab_type": "text"
      },
      "cell_type": "markdown",
      "source": [
        "### 복잡한 비교 – 논리연산"
      ]
    },
    {
      "metadata": {
        "id": "u9SSTPaAzo00",
        "colab_type": "code",
        "colab": {}
      },
      "cell_type": "code",
      "source": [
        "# 조건식에 논리 연산자를 사용한 예\n",
        "# 지구상에서 수평으로 쏘아올린 물체가 속도(v)에 의해\n",
        "# 어떤 행동을 하는지를 조사\n",
        "v = 30000                   # 쏘아 올리는 속도(km/h)\n",
        "if v < 28400:               # 제1 우주속도 이하\n",
        "    print(\"지구에 낙하합니다\")\n",
        "if v >= 28400 and v < 40300: # 제1 우주속도 이상이며 제2 우주속도 미만\n",
        "    print(\"달과 친구입니다\")\n",
        "if v >= 40300 and v < 60100: # 제2 우주속도 이상이며 제3 우주속도 미만\n",
        "    print(\"혹성과 같은 부류입니다\")\n",
        "if v >= 60100:               # 제3 우주속도 이상\n",
        "    print(\"알파 센타우리를 노려라\")"
      ],
      "execution_count": 0,
      "outputs": []
    },
    {
      "metadata": {
        "id": "EI5cK2kkzo02",
        "colab_type": "code",
        "colab": {}
      },
      "cell_type": "code",
      "source": [
        ""
      ],
      "execution_count": 0,
      "outputs": []
    },
    {
      "metadata": {
        "id": "U_ayC-iOzo02",
        "colab_type": "text"
      },
      "cell_type": "markdown",
      "source": [
        "## 루프의 응용 (Ch.3-5)"
      ]
    },
    {
      "metadata": {
        "id": "Ro2yPszzzo02",
        "colab_type": "text"
      },
      "cell_type": "markdown",
      "source": [
        "### while문으로 루프를 작성"
      ]
    },
    {
      "metadata": {
        "id": "HTX05Iwczo03",
        "colab_type": "code",
        "colab": {}
      },
      "cell_type": "code",
      "source": [
        "# Fizz Buzz 문제를 푸는 프로그램\n",
        "cnt = 1                   # 루프 카운터를 초기화\n",
        "while cnt <= 100:         # 1부터 100까지 반복\n",
        "    if cnt%3 == 0 and cnt%5 == 0:\n",
        "        print(\"FizzBuzz\") # 3으로도 나누어지고 5로도 나누어 지는 것\n",
        "    elif cnt%3 == 0:\n",
        "        print(\"Fizz\")     # 3으로 나누어지는 것\n",
        "    elif cnt%5 == 0:\n",
        "        print(\"Buzz\")     # 5로 나누어지는 것\n",
        "    else:\n",
        "        print(cnt)        # 값의 표시\n",
        "    cnt = cnt+1           # 카운터를 1씩 증가"
      ],
      "execution_count": 0,
      "outputs": []
    },
    {
      "metadata": {
        "id": "svfFQDvlzo04",
        "colab_type": "text"
      },
      "cell_type": "markdown",
      "source": [
        "### break문과 continue문을 사용한 루프의 제어"
      ]
    },
    {
      "metadata": {
        "id": "of_2xeQXzo04",
        "colab_type": "code",
        "colab": {}
      },
      "cell_type": "code",
      "source": [
        "# 가위, 바위, 보 프로그램\n",
        "from random import randint              # 난수를 발생하는 함수를 import 함\n",
        "hands = {0:\"가위\", 1:\"바위\", 2:\"보\"}       # 가위, 바위, 보의 수\n",
        "# 승패의 규칙\n",
        "rules = {(0, 0):\"비김\", (0, 1):\"컴승\", (0, 2):\"컴패\",   \n",
        "         (1, 0):\"패\", (1, 1):\"비김\", (1, 2):\"승\",\n",
        "         (2, 0):\"승\", (2, 1):\"패\", (2, 2):\"비김\"}\n",
        "\n",
        "while True:\n",
        "    # 가위, 바위, 보의 루프\n",
        "    pc_hand = randint(0, 2)             # 난수로 수를 결정\n",
        "    user_hand_str = input(\"0:가위 1:바위 2:보 3:종료\")\n",
        "    if user_hand_str == \"3\":\n",
        "        # 종료값이 입력되면 루프를 빠져나감\n",
        "#         print(\"Game over!\")\n",
        "        break\n",
        "    if user_hand_str not in (\"0\", \"1\", \"2\"):\n",
        "        # 부정한 입력의 경우 루프의 앞으로 되돌아감\n",
        "        continue\n",
        "    user_hand = int(user_hand_str)     # 사용자의 수를 값으로 변환\n",
        "    # 수의 표시\n",
        "    print(\"당신:\"+hands[user_hand]+\", 컴퓨터:\"+hands[pc_hand])\n",
        "    # 승패의 표시\n",
        "    print(rules[(user_hand, pc_hand)])"
      ],
      "execution_count": 0,
      "outputs": []
    },
    {
      "metadata": {
        "id": "K3qiHoWvzo0-",
        "colab_type": "code",
        "colab": {}
      },
      "cell_type": "code",
      "source": [
        ""
      ],
      "execution_count": 0,
      "outputs": []
    },
    {
      "metadata": {
        "id": "juUpfBNqzo0_",
        "colab_type": "text"
      },
      "cell_type": "markdown",
      "source": [
        "## 함수의 응용 (Ch.3-6)"
      ]
    },
    {
      "metadata": {
        "id": "-2WQ8tj8zo0_",
        "colab_type": "code",
        "colab": {}
      },
      "cell_type": "code",
      "source": [
        "# int() 함수의 예\n",
        "# 함수 호출, 인수, 반환 복습\n",
        "int(\"101010\", 2)       # 이진수 해당 문자열을 숫자로 변환"
      ],
      "execution_count": 0,
      "outputs": []
    },
    {
      "metadata": {
        "id": "WSMysogLzo1C",
        "colab_type": "code",
        "colab": {}
      },
      "cell_type": "code",
      "source": [
        "# 두 번째 인수를 지정하지 않을 경우 묵시적으로 10으로 간주\n",
        "int(\"101010\")"
      ],
      "execution_count": 0,
      "outputs": []
    },
    {
      "metadata": {
        "id": "QYhdLpK4zo1E",
        "colab_type": "text"
      },
      "cell_type": "markdown",
      "source": [
        "### 함수에 디폴트 인수를 정의"
      ]
    },
    {
      "metadata": {
        "id": "RV63edR8zo1E",
        "colab_type": "code",
        "colab": {}
      },
      "cell_type": "code",
      "source": [
        "def fizzbuzz(count=100, fizzmod=3, buzzmod=5):\n",
        "    \"\"\"\n",
        "    FizzBuzz 문제를 푸는 함수\n",
        "    반복 횟수, Fizz/Buzz를 표시하는 조건을 변경할 수 있다\n",
        "    (이것은 docstring 문자열입니다)\n",
        "    \"\"\"\n",
        "    for cnt in range(1, count+1):             # 카운트 반복\n",
        "        if cnt%fizzmod == 0 and cnt%buzzmod == 0:\n",
        "            # fizzmod와 buzzmod도 딱 나누어 떨어짐\n",
        "            print(\"FizzBuzz\")\n",
        "        elif cnt%fizzmod == 0:\n",
        "            # fizzmod로 딱 나누어 떨어짐\n",
        "            print(\"Fizz\")\n",
        "        elif cnt%buzzmod == 0:\n",
        "            # buzzmod로 딱 나누어 떨어짐\n",
        "            print(\"Buzz\")\n",
        "        else:\n",
        "            # 값을 표시\n",
        "            print(cnt)"
      ],
      "execution_count": 0,
      "outputs": []
    },
    {
      "metadata": {
        "id": "KMewwG0Tzo1I",
        "colab_type": "code",
        "colab": {}
      },
      "cell_type": "code",
      "source": [
        "# 함수를 호출 (인수, 즉 매개변수를 다르게 지정하여 함수 실행)\n",
        "fizzbuzz(50, 2, 7)"
      ],
      "execution_count": 0,
      "outputs": []
    },
    {
      "metadata": {
        "id": "6CKM0MaKzo1K",
        "colab_type": "text"
      },
      "cell_type": "markdown",
      "source": [
        "### 인수의 키워드 지정"
      ]
    },
    {
      "metadata": {
        "id": "j4cZtTcizo1L",
        "colab_type": "code",
        "colab": {}
      },
      "cell_type": "code",
      "source": [
        "# 인수의 키워드 지정\n",
        "# 키워드를 지정하여 인수의 순서를 바꿔 본다\n",
        "int(base=2, x=\"1010\")  # int(\"1010\", 2)와 같다"
      ],
      "execution_count": 0,
      "outputs": []
    },
    {
      "metadata": {
        "id": "BmeQ017wzo1N",
        "colab_type": "text"
      },
      "cell_type": "markdown",
      "source": [
        "### 함수와 지역 변수"
      ]
    },
    {
      "metadata": {
        "id": "5F5sLuWQzo1O",
        "colab_type": "code",
        "colab": {}
      },
      "cell_type": "code",
      "source": [
        "# 함수의 밖에서 정의한 변수를 함수 내에서 사용\n",
        "local_var = 1           # 함수의 외부에서 변수를 정의\n",
        "\n",
        "def test_func(an_arg):\n",
        "    local_var = an_arg  # 함수 내부에서 같은 이름의 변수를 정의\n",
        "    print(\"test_func()의 내부 =\", local_var)\n",
        "\n",
        "test_func(200)\n",
        "print(\"test_func()의 외부 =\", local_var)"
      ],
      "execution_count": 0,
      "outputs": []
    },
    {
      "metadata": {
        "id": "doqJgqAuzo1U",
        "colab_type": "code",
        "colab": {}
      },
      "cell_type": "code",
      "source": [
        ""
      ],
      "execution_count": 0,
      "outputs": []
    },
    {
      "metadata": {
        "id": "9UkYeaiwzo2I",
        "colab_type": "text"
      },
      "cell_type": "markdown",
      "source": [
        "## 객체로서의 내장형 (Ch.4-1)"
      ]
    },
    {
      "metadata": {
        "id": "6hCU7Ndjzo2K",
        "colab_type": "text"
      },
      "cell_type": "markdown",
      "source": [
        "### 메쏘드란?"
      ]
    },
    {
      "metadata": {
        "id": "yzYCAR6bzo2M",
        "colab_type": "code",
        "colab": {}
      },
      "cell_type": "code",
      "source": [
        "# 리스트의 인덱스를 반환하는 함수 find_index의 정의\n",
        "def find_index(the_list, target):\n",
        "    # the_list에서 target의 인덱스를 조사하는 함수\n",
        "    idx = 0                 # 인덱스용의 카운터를 초기화\n",
        "    for item in the_list:   # 리스트의 요소를 1개씩 조사\n",
        "        if target == the_list[idx]:\n",
        "            # 조사하고 싶은 요소가 발견되면 인덱스를 반환\n",
        "            return idx\n",
        "        idx = idx+1    # 인덱스를 1 증가"
      ],
      "execution_count": 0,
      "outputs": []
    },
    {
      "metadata": {
        "id": "xMQTdaP8zo2N",
        "colab_type": "code",
        "colab": {}
      },
      "cell_type": "code",
      "source": [
        "# find_index( )를 사용한 예\n",
        "# 리스트를 정의\n",
        "mcz=[\"영희\", \"길동\", \"순철\", \"철희\", \"지영\"]\n",
        "find_index(mcz, \"순철\")"
      ],
      "execution_count": 0,
      "outputs": []
    },
    {
      "metadata": {
        "id": "UZ4w8fVAzo2O",
        "colab_type": "code",
        "colab": {}
      },
      "cell_type": "code",
      "source": [
        "# index( ) 메쏘드를 사용한 예\n",
        "# 메쏘드를 사용하여 동일한 작업을 하는 것이 더 쉽다\n",
        "mcz.index(\"순철\")"
      ],
      "execution_count": 0,
      "outputs": []
    },
    {
      "metadata": {
        "id": "w_9mrjK8zo1Y",
        "colab_type": "text"
      },
      "cell_type": "markdown",
      "source": [
        "## if문과 내장형 (Ch.4-7)"
      ]
    },
    {
      "metadata": {
        "id": "yL8yOwOYzo1Z",
        "colab_type": "text"
      },
      "cell_type": "markdown",
      "source": [
        "### 내장형과 True(참), False(거짓)"
      ]
    },
    {
      "metadata": {
        "id": "XtEhi5nLzo1Z",
        "colab_type": "code",
        "colab": {}
      },
      "cell_type": "code",
      "source": [
        "# True로 판별되는 객체\n",
        "s = \"SPAM\"  # 문자열 정의\n",
        "if len(s) != 0:\n",
        "    print(\"s는 비어 있지 않다.\")"
      ],
      "execution_count": 0,
      "outputs": []
    },
    {
      "metadata": {
        "id": "bGX7bp9Azo1a",
        "colab_type": "code",
        "colab": {}
      },
      "cell_type": "code",
      "source": [
        "# 같은 처리를 다음과 같이도 쓸 수도 있다\n",
        "if s:\n",
        "    print(\"s는 비어 있지 않다.\")"
      ],
      "execution_count": 0,
      "outputs": []
    },
    {
      "metadata": {
        "id": "SxpouRvwzo1c",
        "colab_type": "code",
        "colab": {}
      },
      "cell_type": "code",
      "source": [
        "# 기타 True(참)가 되는 객체\n",
        "if 1:               # 0이 아닌 숫자\n",
        "    print(True)"
      ],
      "execution_count": 0,
      "outputs": []
    },
    {
      "metadata": {
        "id": "kXwSkKZHzo1g",
        "colab_type": "code",
        "colab": {}
      },
      "cell_type": "code",
      "source": [
        "if \"KILLERRABBIT\":  # 길이가 있는(비어 있지 않은) 문자열\n",
        "    print(True)"
      ],
      "execution_count": 0,
      "outputs": []
    },
    {
      "metadata": {
        "id": "Rg1HDZQdzo1i",
        "colab_type": "code",
        "colab": {}
      },
      "cell_type": "code",
      "source": [
        "if [1, 2, 3]:       # 요소를 가진 리스트, 튜플 등\n",
        "    print(True)"
      ],
      "execution_count": 0,
      "outputs": []
    },
    {
      "metadata": {
        "id": "nVHYhO1Fzo1i",
        "colab_type": "code",
        "colab": {}
      },
      "cell_type": "code",
      "source": [
        "if {1:'One', 2:'Two'}: # 요소를 가진 딕셔너리\n",
        "    print(True)"
      ],
      "execution_count": 0,
      "outputs": []
    },
    {
      "metadata": {
        "id": "Pir98GKTzo1m",
        "colab_type": "code",
        "colab": {}
      },
      "cell_type": "code",
      "source": [
        "# False(거짓)가 되는 객체\n",
        "# print()가 있는 블록이 실행되지 않는다\n",
        "if 0:               # 숫자 0\n",
        "    print(True)"
      ],
      "execution_count": 0,
      "outputs": []
    },
    {
      "metadata": {
        "id": "mzlQYbYHzo1n",
        "colab_type": "code",
        "colab": {}
      },
      "cell_type": "code",
      "source": [
        "if \"\":              # 빈 문자열\n",
        "    print(True)"
      ],
      "execution_count": 0,
      "outputs": []
    },
    {
      "metadata": {
        "id": "UimWsGH9zo1o",
        "colab_type": "code",
        "colab": {}
      },
      "cell_type": "code",
      "source": [
        "if []:              # 빈 리시트나 튜플 등\n",
        "    print(True)"
      ],
      "execution_count": 0,
      "outputs": []
    },
    {
      "metadata": {
        "id": "wXbszQqrzo1q",
        "colab_type": "code",
        "colab": {}
      },
      "cell_type": "code",
      "source": [
        "if {}:              # 빈 딕셔너리\n",
        "    print(True)"
      ],
      "execution_count": 0,
      "outputs": []
    },
    {
      "metadata": {
        "id": "m0eR7TKMzo1q",
        "colab_type": "code",
        "colab": {}
      },
      "cell_type": "code",
      "source": [
        ""
      ],
      "execution_count": 0,
      "outputs": []
    },
    {
      "metadata": {
        "id": "aWLbEyTZzo1r",
        "colab_type": "text"
      },
      "cell_type": "markdown",
      "source": [
        "## for문과 내장형 (Ch.4-8)  중간고사 필기시험\n"
      ]
    },
    {
      "metadata": {
        "id": "chvWFG8Zzo1s",
        "colab_type": "text"
      },
      "cell_type": "markdown",
      "source": [
        "### range( ) 함수 구사하기 / 정수형 리스트를 range로"
      ]
    },
    {
      "metadata": {
        "id": "-QlCXtq6zo1s",
        "colab_type": "code",
        "colab": {}
      },
      "cell_type": "code",
      "source": [
        "# 10～20의 리스트를 작성\n",
        "for i in range(10, 21):\n",
        "    print(i, end=' ')   # 줄바꿈하지 않고 공백을 추가하여 반복하는 변수를 표시"
      ],
      "execution_count": 0,
      "outputs": []
    },
    {
      "metadata": {
        "id": "mc84sOGnzo1u",
        "colab_type": "code",
        "colab": {}
      },
      "cell_type": "code",
      "source": [
        "# range() 함수에 스텝 수 부여\n",
        "for i in range(10, 21, 2):  # 10부터 20까지, 2씩 증가\n",
        "    print(i, end=' ')"
      ],
      "execution_count": 0,
      "outputs": []
    },
    {
      "metadata": {
        "id": "5rtzo-Ewzo1w",
        "colab_type": "code",
        "colab": {}
      },
      "cell_type": "code",
      "source": [
        "for i in range(10, 21, 3):  # 10부터 19까지, 3씩 증가\n",
        "    print(i, end=' ')"
      ],
      "execution_count": 0,
      "outputs": []
    },
    {
      "metadata": {
        "id": "1MYveMFpzo1x",
        "colab_type": "code",
        "colab": {}
      },
      "cell_type": "code",
      "source": [
        "for i in range(20, 9, -1):  # 20부터 10까지, 1씩 감소\n",
        "    print(i, end=' ')"
      ],
      "execution_count": 0,
      "outputs": []
    },
    {
      "metadata": {
        "id": "hRQx-qQEzo1y",
        "colab_type": "text"
      },
      "cell_type": "markdown",
      "source": [
        "### 시퀀스와 루프 카운터"
      ]
    },
    {
      "metadata": {
        "id": "DcPj9siCzo1y",
        "colab_type": "code",
        "colab": {}
      },
      "cell_type": "code",
      "source": [
        "# 카운터 변수를 사용한 루프 카운터\n",
        "\n",
        "# 책의 코드를 보충하였다\n",
        "\n",
        "# 순서를 정의\n",
        "seq = [\"야구\", \"축구\", \"농구\", \"배구\", \"탁구\"]\n",
        "counter = 0        # 루프 카운터를 초기화\n",
        "for item in seq:\n",
        "    print(counter, item, end=' ')\n",
        "    counter += 1"
      ],
      "execution_count": 0,
      "outputs": []
    },
    {
      "metadata": {
        "id": "egwfukfhzo10",
        "colab_type": "code",
        "colab": {}
      },
      "cell_type": "code",
      "source": [
        "# range()를 사용한 루프 카운터\n",
        "for cnt in range(len(seq)):\n",
        "    print(cnt, seq[cnt], end=' ')"
      ],
      "execution_count": 0,
      "outputs": []
    },
    {
      "metadata": {
        "id": "Nm1WpmTxzo11",
        "colab_type": "code",
        "colab": {}
      },
      "cell_type": "code",
      "source": [
        "# enumerate ()를 사용한 예\n",
        "for cnt, item in enumerate(seq):\n",
        "    print(cnt, item, end=' ')"
      ],
      "execution_count": 0,
      "outputs": []
    },
    {
      "metadata": {
        "id": "oi35DraXzo12",
        "colab_type": "text"
      },
      "cell_type": "markdown",
      "source": [
        "### 두개의 시퀀스를 사용한 루프"
      ]
    },
    {
      "metadata": {
        "id": "IdBQHrMfzo13",
        "colab_type": "code",
        "colab": {}
      },
      "cell_type": "code",
      "source": [
        "# zip() 함수의 사용 #두개의 리스트를 묶어줌 \n",
        "for n, w in zip([1, 2, 3, 4], ['a', 'b', 'c', 'd']): # n = 1,2,3,4 / w = a.b.c.d\n",
        "    print(n, w)"
      ],
      "execution_count": 0,
      "outputs": []
    },
    {
      "metadata": {
        "id": "Bk3tPJv0zo13",
        "colab_type": "text"
      },
      "cell_type": "markdown",
      "source": [
        "## 함수와 내장형 (Ch.4-9)"
      ]
    },
    {
      "metadata": {
        "id": "yNBIJFHlzo14",
        "colab_type": "code",
        "colab": {}
      },
      "cell_type": "code",
      "source": [
        "# 여러 반환 값을 반환하는 함수\n",
        "\n",
        "# 책의 코드를 보충하여 수정함\n",
        "\n",
        "def foo():\n",
        "    return [1, 2]  # 반환값이 list"
      ],
      "execution_count": 0,
      "outputs": []
    },
    {
      "metadata": {
        "id": "n8vgyP35zo14",
        "colab_type": "code",
        "colab": {}
      },
      "cell_type": "code",
      "source": [
        "# 함수의 반환값을 리스트로 받음\n",
        "alist = foo()\n",
        "alist           # 반환값으로 받은 리스트 보기"
      ],
      "execution_count": 0,
      "outputs": []
    },
    {
      "metadata": {
        "id": "If4oz6HC1mLC",
        "colab_type": "code",
        "colab": {}
      },
      "cell_type": "code",
      "source": [
        "type(alist)"
      ],
      "execution_count": 0,
      "outputs": []
    },
    {
      "metadata": {
        "id": "BhdEga6Jzo17",
        "colab_type": "text"
      },
      "cell_type": "markdown",
      "source": [
        "### 반환값과 언팩 대입"
      ]
    },
    {
      "metadata": {
        "id": "zIsokqg6zo17",
        "colab_type": "code",
        "colab": {}
      },
      "cell_type": "code",
      "source": [
        "# 목록의 최솟값, 최댓값, 평균값을 반환하는 함수\n",
        "def digest(in_list):\n",
        "    minvalue = min(in_list)\n",
        "    maxvalue = max(in_list)\n",
        "    average = sum(in_list)/len(in_list)\n",
        "    \n",
        "    return [minvalue, maxvalue, average]"
      ],
      "execution_count": 0,
      "outputs": []
    },
    {
      "metadata": {
        "id": "5D0IUTnnzo1-",
        "colab_type": "code",
        "colab": {}
      },
      "cell_type": "code",
      "source": [
        "# 함수를 사용\n",
        "monk_fish_team = [158, 157, 163, 157, 145]\n",
        "minvalue, maxvalue, average = digest(monk_fish_team)\n",
        "print(minvalue, maxvalue, average)"
      ],
      "execution_count": 0,
      "outputs": []
    },
    {
      "metadata": {
        "id": "lknhUkNdDzzm",
        "colab_type": "text"
      },
      "cell_type": "markdown",
      "source": [
        "#### [도전] 위의 digest() 함수가 variance도 추가로 반환하게 변경해보시오!  <과제>"
      ]
    },
    {
      "metadata": {
        "id": "CmVhOc9Vj1pb",
        "colab_type": "code",
        "colab": {}
      },
      "cell_type": "code",
      "source": [
        "def digest(in_list):\n",
        "    minvalue = min(in_list)\n",
        "    maxvalue = max(in_list)\n",
        "    average = sum(in_list)/len(in_list)\n",
        "    variance = 0\n",
        "    \n",
        "    for a in in_list:\n",
        "      variance += (a-average)**2\n",
        "  \n",
        "    return [minvalue,maxvalue,average,variance]"
      ],
      "execution_count": 0,
      "outputs": []
    },
    {
      "metadata": {
        "id": "Qzq4ZxR6UISg",
        "colab_type": "code",
        "colab": {}
      },
      "cell_type": "code",
      "source": [
        "monk_fish_team = [158,157,163,157,145]\n",
        "minvalue, maxvalue, average, variance =digest(monk_fish_team)\n",
        "print(minvalue,maxvalue,average,variance)"
      ],
      "execution_count": 0,
      "outputs": []
    },
    {
      "metadata": {
        "id": "ZnHLqHIWzo1_",
        "colab_type": "text"
      },
      "cell_type": "markdown",
      "source": [
        "### 함수로 인수 리스트를 받기"
      ]
    },
    {
      "metadata": {
        "id": "QOBrXdIkzo1_",
        "colab_type": "code",
        "colab": {}
      },
      "cell_type": "code",
      "source": [
        "# 함수로 인수 리스트를 받기\n",
        "def foo(a, b, *vals):   # *인수를 갖는 함수를 정의\n",
        "    print(a, b, vals)\n",
        "foo(1, 2, 3, 4, 5)      # 5개의 값을 인수로 지정하여 호출"
      ],
      "execution_count": 0,
      "outputs": []
    },
    {
      "metadata": {
        "id": "dCsxICNgzo2B",
        "colab_type": "code",
        "colab": {}
      },
      "cell_type": "code",
      "source": [
        "foo(1, 2, c=3)          # c라고 하는 미정의 키워드 인수를 지정"
      ],
      "execution_count": 0,
      "outputs": []
    },
    {
      "metadata": {
        "id": "gTIF5d1Hzo2C",
        "colab_type": "text"
      },
      "cell_type": "markdown",
      "source": [
        "### 함수로 키워드 인수 받기"
      ]
    },
    {
      "metadata": {
        "id": "LyPvlT28zo2C",
        "colab_type": "code",
        "colab": {}
      },
      "cell_type": "code",
      "source": [
        "# 정의되지 않은 키워드 인수\n",
        "def bar(a, b, **args):    # **인수를 갖는 함수를 정의\n",
        "    print(a, b, args)\n",
        "\n",
        "bar(1, 2, c=3, d=4)       # 정의하지 않은 키워드 인수를 정의"
      ],
      "execution_count": 0,
      "outputs": []
    },
    {
      "metadata": {
        "id": "vbtlwiPozo2D",
        "colab_type": "text"
      },
      "cell_type": "markdown",
      "source": [
        "### 기본 인수 및 갱신 가능한 내장형 (사용 주의!)  중요"
      ]
    },
    {
      "metadata": {
        "id": "lkRQ6EcCzo2E",
        "colab_type": "text"
      },
      "cell_type": "markdown",
      "source": [
        "변경 가능한 내장형을 기본 인수로 설정하면 곤란한 일이 생기기 때문에 주의가 필요하다.\n",
        "\n",
        "구체적으로 예를 보는 것이 알기 쉽다고 생각하기 때문에 그런 함수를 만들어 호출한다."
      ]
    },
    {
      "metadata": {
        "id": "lgj5pyqxzo2E",
        "colab_type": "code",
        "colab": {}
      },
      "cell_type": "code",
      "source": [
        "def append_to(a_list, b_list=[]): # []는 공백리스트\n",
        "    # 변경 가능한 객체(목록)를 기본 인수로 가지는 함수를 정의\n",
        "    b_list.append(0) #추가할때 append를 씀\n",
        "    return a_list+b_list"
      ],
      "execution_count": 0,
      "outputs": []
    },
    {
      "metadata": {
        "id": "4kyFAdvEzo2F",
        "colab_type": "code",
        "colab": {}
      },
      "cell_type": "code",
      "source": [
        "list_1 = [1, 2, 3, 4]        # 리스트 정의\n",
        "# 두 번째 인수를 생략하고 함수를 호출\n",
        "list_2 = append_to(list_1)\n",
        "list_2                       # 결과 표시"
      ],
      "execution_count": 0,
      "outputs": []
    },
    {
      "metadata": {
        "id": "0T1oJazaR9y7",
        "colab_type": "code",
        "colab": {}
      },
      "cell_type": "code",
      "source": [
        "list_1"
      ],
      "execution_count": 0,
      "outputs": []
    },
    {
      "metadata": {
        "id": "hNYTnCuMzo2F",
        "colab_type": "code",
        "colab": {}
      },
      "cell_type": "code",
      "source": [
        "list_3 = append_to(list_1)   # 함수를 다시 호출\n",
        "# 함수의 인수 b_list에 추가, 0이 추가되므로\n",
        "# 결과의 끝은 [0, 0]이 된다\n",
        "list_3"
      ],
      "execution_count": 0,
      "outputs": []
    },
    {
      "metadata": {
        "id": "QXqd8W_Qzo2G",
        "colab_type": "code",
        "colab": {}
      },
      "cell_type": "code",
      "source": [
        "list_3 = append_to(list_1)\n",
        "# 인수 b_list에 추가, 0이 추가되기 때문에 결과가 달라진다\n",
        "list_3"
      ],
      "execution_count": 0,
      "outputs": []
    },
    {
      "metadata": {
        "id": "CWwJ0TIbzo2I",
        "colab_type": "text"
      },
      "cell_type": "markdown",
      "source": [
        "- 따라서, 기본 인수로 변경 가능한 객체를 설정하면 함수 내에서 한 파괴적인 조작이 그대로 유지된다. \n",
        "- 이것은 기본 인수의 객체가 인터프리터 실행에 저장되어 있기 때문이다.\n",
        "- 기본 인수로 변경 가능한 객체를 설정하면 예상대로 처리되지 않을 수 있으므로 주의가 필요하다."
      ]
    },
    {
      "metadata": {
        "id": "vL9iZREpzo2P",
        "colab_type": "code",
        "colab": {}
      },
      "cell_type": "code",
      "source": [
        "# break"
      ],
      "execution_count": 0,
      "outputs": []
    }
  ]
}